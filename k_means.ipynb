{
 "cells": [
  {
   "cell_type": "markdown",
   "metadata": {},
   "source": [
    "A notebook for creating code to analyze the k-means clustering of our experimental protein structures."
   ]
  },
  {
   "cell_type": "code",
   "execution_count": 2,
   "metadata": {},
   "outputs": [],
   "source": [
    "# from biopandas.pdb import PandasPdb\n",
    "import numpy as np\n",
    "import matplotlib.pyplot as plt\n",
    "import pandas as pd\n",
    "import numpy as np\n",
    "import seaborn as sns\n",
    "\n",
    "from scipy.cluster.hierarchy import dendrogram, linkage, fcluster\n",
    "from scipy.spatial import distance_matrix\n",
    "from statannotations.Annotator import Annotator\n",
    "# from pymol import cmd\n",
    "import scienceplots"
   ]
  },
  {
   "cell_type": "code",
   "execution_count": 3,
   "metadata": {},
   "outputs": [
    {
     "name": "stdout",
     "output_type": "stream",
     "text": [
      "['#a6cee3', '#1f78b4', '#b2df8a', '#33a02c', '#fb9a99', '#e31a1c', '#fdbf6f', '#ff7f00', '#cab2d6', '#6a3d9a', '#ffff99', '#b15928']\n"
     ]
    },
    {
     "data": {
      "text/html": [
       "<svg  width=\"660\" height=\"55\"><rect x=\"0\" y=\"0\" width=\"55\" height=\"55\" style=\"fill:#a6cee3;stroke-width:2;stroke:rgb(255,255,255)\"/><rect x=\"55\" y=\"0\" width=\"55\" height=\"55\" style=\"fill:#1f78b4;stroke-width:2;stroke:rgb(255,255,255)\"/><rect x=\"110\" y=\"0\" width=\"55\" height=\"55\" style=\"fill:#b2df8a;stroke-width:2;stroke:rgb(255,255,255)\"/><rect x=\"165\" y=\"0\" width=\"55\" height=\"55\" style=\"fill:#33a02c;stroke-width:2;stroke:rgb(255,255,255)\"/><rect x=\"220\" y=\"0\" width=\"55\" height=\"55\" style=\"fill:#fb9a99;stroke-width:2;stroke:rgb(255,255,255)\"/><rect x=\"275\" y=\"0\" width=\"55\" height=\"55\" style=\"fill:#e31a1c;stroke-width:2;stroke:rgb(255,255,255)\"/><rect x=\"330\" y=\"0\" width=\"55\" height=\"55\" style=\"fill:#fdbf6f;stroke-width:2;stroke:rgb(255,255,255)\"/><rect x=\"385\" y=\"0\" width=\"55\" height=\"55\" style=\"fill:#ff7f00;stroke-width:2;stroke:rgb(255,255,255)\"/><rect x=\"440\" y=\"0\" width=\"55\" height=\"55\" style=\"fill:#cab2d6;stroke-width:2;stroke:rgb(255,255,255)\"/><rect x=\"495\" y=\"0\" width=\"55\" height=\"55\" style=\"fill:#6a3d9a;stroke-width:2;stroke:rgb(255,255,255)\"/><rect x=\"550\" y=\"0\" width=\"55\" height=\"55\" style=\"fill:#ffff99;stroke-width:2;stroke:rgb(255,255,255)\"/><rect x=\"605\" y=\"0\" width=\"55\" height=\"55\" style=\"fill:#b15928;stroke-width:2;stroke:rgb(255,255,255)\"/></svg>"
      ],
      "text/plain": [
       "['#a6cee3',\n",
       " '#1f78b4',\n",
       " '#b2df8a',\n",
       " '#33a02c',\n",
       " '#fb9a99',\n",
       " '#e31a1c',\n",
       " '#fdbf6f',\n",
       " '#ff7f00',\n",
       " '#cab2d6',\n",
       " '#6a3d9a',\n",
       " '#ffff99',\n",
       " '#b15928']"
      ]
     },
     "execution_count": 3,
     "metadata": {},
     "output_type": "execute_result"
    }
   ],
   "source": [
    "plt.style.use('science')\n",
    "\n",
    "# Get the hex codes for the colors so we can assign them to categories\n",
    "pal = sns.color_palette('Paired')\n",
    "print(pal.as_hex())\n",
    "\n",
    "# Set the color palette. Our categories are \"Single Domain\", \"Two-Domain\", and \"Autoinhibitory\"\n",
    "colors = {'Single Domain': pal[0], 'Two-Domain': pal[1], 'Autoinhibitory': pal[3], 'Autoinhibitory (Active)': pal[2], 'Autoinhibitory (Autoinhibited)': pal[3], \n",
    "          'Full': pal[3], 'Clusters': pal[7], 'Two-State AI': pal[4], 'Autoinhibitory (Closed)': pal[5], 'Autoinhibitory (Open)': pal[4], 'Obligate': pal[6]}\n",
    "pal.as_hex()"
   ]
  },
  {
   "cell_type": "code",
   "execution_count": 22,
   "metadata": {},
   "outputs": [],
   "source": [
    "def num_clusters(df, max_d):\n",
    "    uniprot = df['uniprot'].unique()\n",
    "    array = df[['2_comp', 'complex_rmsd']].values\n",
    "\n",
    "    Z = linkage(array, method='single', metric='euclidean')\n",
    "\n",
    "    clusters = fcluster(Z, max_d, criterion='distance')\n",
    "    max_cluster = max(clusters)\n",
    "\n",
    "    return pd.DataFrame({'uniprot': uniprot, 'num_clusters': max_cluster})\n",
    "\n",
    "def num_clusters_grmsd(df, max_d):\n",
    "    '''\n",
    "    df passed here must consist of the condensed distance matrix.\n",
    "    '''\n",
    "\n",
    "    uniprot = df['uniprot'].unique()\n",
    "    array = np.reshape(df['complex_rmsd'].values, (len(df['complex_rmsd']), 1))\n",
    "\n",
    "    Z = linkage(array, method='single', metric='euclidean')\n",
    "\n",
    "    clusters = fcluster(Z, max_d, criterion='distance')\n",
    "    max_cluster = max(clusters)\n",
    "\n",
    "    return pd.DataFrame({'uniprot': uniprot, 'num_clusters': max_cluster})\n",
    "\n",
    "def num_clusters_imfd(df, max_d):\n",
    "    '''\n",
    "    df passed here must consist of the condensed distance matrix.\n",
    "    '''\n",
    "\n",
    "    uniprot = df['uniprot'].unique()\n",
    "    array = np.reshape(df['2_comp'].values, (len(df['2_comp']), 1))\n",
    "\n",
    "    Z = linkage(array, method='single', metric='euclidean')\n",
    "\n",
    "    clusters = fcluster(Z, max_d, criterion='distance')\n",
    "    max_cluster = max(clusters)\n",
    "\n",
    "    return pd.DataFrame({'uniprot': uniprot, 'num_clusters': max_cluster})\n",
    "\n",
    "def produce_plot_dfs(ai_df, md_df, max_d, func):\n",
    "    '''\n",
    "    Take two dataframes, an autoinhibitory dataframe and a multi-domain dataframe, get the \n",
    "    number of clusters for each dataframe depending on the specified function, \n",
    "    and return a combined dataframe with the number of clusters\n",
    "    '''\n",
    "\n",
    "    ai_complex_clusters = pd.DataFrame()\n",
    "    for uniprot in ai_df['uniprot'].unique():\n",
    "        df = ai_df[ai_df['uniprot'] == uniprot].reset_index(drop=True)\n",
    "        num_clusters_df = func(df, max_d)\n",
    "        ai_complex_clusters = pd.concat([ai_complex_clusters, num_clusters_df])\n",
    "\n",
    "    md_complex_clusters = pd.DataFrame()\n",
    "    for uniprot in md_df['uniprot'].unique():\n",
    "        df = md_df[md_df['uniprot'] == uniprot].reset_index(drop=True)\n",
    "        num_clusters_df = func(df, max_d)\n",
    "        md_complex_clusters = pd.concat([md_complex_clusters, num_clusters_df])\n",
    "\n",
    "    ai_complex_clusters['type'] = 'Autoinhibitory'\n",
    "    md_complex_clusters['type'] = 'Two-Domain'\n",
    "\n",
    "    return pd.concat([md_complex_clusters, ai_complex_clusters]).reset_index(drop=True)\n",
    "\n",
    "def plot_clusters(df, ax):\n",
    "    \n",
    "    # sns.boxplot(data=df, x='type', y='num_clusters', hue='type', palette=colors, ax=ax, dodge=False)\n",
    "    # ax.legend(title='Type', fontsize='12', title_fontsize='14', loc='upper right')\n",
    "\n",
    "    # ax.set_xticklabels(ax.get_xticklabels(), fontsize=12)\n",
    "    # ax.set_yticklabels(ax.get_yticklabels(), fontsize=12)\n",
    "    # ax.set(xlabel=None, ylabel=None)\n",
    "    # pairs = [('Autoinhibitory', 'Two-Domain')]\n",
    "    # annotator = Annotator(ax=ax, pairs=pairs, data=df, x='type', y='num_clusters')\n",
    "    # annotator.configure(test='Mann-Whitney', text_format='star', loc='outside')\n",
    "    # annotator.apply_and_annotate()\n",
    "    sns.histplot(data=df, x='num_clusters', hue='type', palette=colors, ax=ax, common_norm=False, stat='percent', multiple='dodge')\n",
    "    # ax.legend(title='Type', fontsize='12', title_fontsize='14', loc='upper right')\n",
    "    # ax.set_xticklabels(ax.get_xticklabels(), fontsize=12)\n",
    "    # ax.set_yticklabels(ax.get_yticklabels(), fontsize=12)\n",
    "    ax.set(xlabel=None, ylabel=None)\n",
    "\n",
    "def plot_histograms(df, ax):\n",
    "    \n",
    "    sns.histplot(data=df, x='num_clusters', hue='type', palette=colors, ax=ax, common_norm=False)\n",
    "    ax.legend(title='Type', fontsize='12', title_fontsize='14', loc='upper right', labels=['Two-Domain', 'Autoinhibitory'])\n",
    "\n",
    "    ax.set(xlabel=None, ylabel=None)"
   ]
  },
  {
   "cell_type": "code",
   "execution_count": 5,
   "metadata": {},
   "outputs": [
    {
     "data": {
      "text/plain": [
       "(837, 16)"
      ]
     },
     "execution_count": 5,
     "metadata": {},
     "output_type": "execute_result"
    }
   ],
   "source": [
    "ai = pd.read_csv('./project_pipeline/data/classified_files.tsv', sep='\\t')\n",
    "multiple_prots = ai['uniprot'].value_counts()\n",
    "multiple_prots = multiple_prots[multiple_prots > 1].index\n",
    "multiple = ai[ai['uniprot'].isin(multiple_prots)].reset_index(drop=True)\n",
    "multiple.shape"
   ]
  },
  {
   "cell_type": "code",
   "execution_count": 6,
   "metadata": {},
   "outputs": [
    {
     "data": {
      "text/plain": [
       "(172, 29)"
      ]
     },
     "execution_count": 6,
     "metadata": {},
     "output_type": "execute_result"
    }
   ],
   "source": [
    "md = pd.read_csv('./project_pipeline/data/md_rmsds.tsv', sep='\\t')\n",
    "multiple_md = md['uniprot'].value_counts()\n",
    "multiple_md = multiple_md[multiple_md > 1].index\n",
    "multiple_md = md[md['uniprot'].isin(multiple_md)].reset_index(drop=True)\n",
    "multiple_md.shape"
   ]
  },
  {
   "cell_type": "code",
   "execution_count": 7,
   "metadata": {},
   "outputs": [],
   "source": [
    "k = 2\n",
    "\n",
    "ail = [multiple, multiple]\n",
    "mdl = [multiple_md, multiple_md]\n",
    "max_dl = [1, 3]\n",
    "funcl = [num_clusters_grmsd, num_clusters_imfd]\n",
    "\n",
    "ai_dfs = [ele for ele in ail for i in range(k)]\n",
    "md_dfs = [ele for ele in mdl for i in range(k)]\n",
    "max_ds = [ele for ele in max_dl for i in range(k)]\n",
    "funcs = [ele for i in range(k) for ele in funcl]\n",
    "\n",
    "dfs = [produce_plot_dfs(ai_dfs[i], md_dfs[i], max_ds[i], funcs[i]) for i in range(len(ai_dfs))]"
   ]
  },
  {
   "cell_type": "code",
   "execution_count": 8,
   "metadata": {},
   "outputs": [
    {
     "data": {
      "text/html": [
       "<div>\n",
       "<style scoped>\n",
       "    .dataframe tbody tr th:only-of-type {\n",
       "        vertical-align: middle;\n",
       "    }\n",
       "\n",
       "    .dataframe tbody tr th {\n",
       "        vertical-align: top;\n",
       "    }\n",
       "\n",
       "    .dataframe thead th {\n",
       "        text-align: right;\n",
       "    }\n",
       "</style>\n",
       "<table border=\"1\" class=\"dataframe\">\n",
       "  <thead>\n",
       "    <tr style=\"text-align: right;\">\n",
       "      <th></th>\n",
       "      <th>uniprot</th>\n",
       "      <th>num_clusters</th>\n",
       "      <th>type</th>\n",
       "    </tr>\n",
       "  </thead>\n",
       "  <tbody>\n",
       "    <tr>\n",
       "      <th>0</th>\n",
       "      <td>D9N168</td>\n",
       "      <td>1</td>\n",
       "      <td>Two-Domain</td>\n",
       "    </tr>\n",
       "    <tr>\n",
       "      <th>1</th>\n",
       "      <td>Q72AS4</td>\n",
       "      <td>1</td>\n",
       "      <td>Two-Domain</td>\n",
       "    </tr>\n",
       "    <tr>\n",
       "      <th>2</th>\n",
       "      <td>P14677</td>\n",
       "      <td>2</td>\n",
       "      <td>Two-Domain</td>\n",
       "    </tr>\n",
       "    <tr>\n",
       "      <th>3</th>\n",
       "      <td>A0A0H2WY27</td>\n",
       "      <td>1</td>\n",
       "      <td>Two-Domain</td>\n",
       "    </tr>\n",
       "    <tr>\n",
       "      <th>4</th>\n",
       "      <td>Q51504</td>\n",
       "      <td>1</td>\n",
       "      <td>Two-Domain</td>\n",
       "    </tr>\n",
       "  </tbody>\n",
       "</table>\n",
       "</div>"
      ],
      "text/plain": [
       "      uniprot  num_clusters        type\n",
       "0      D9N168             1  Two-Domain\n",
       "1      Q72AS4             1  Two-Domain\n",
       "2      P14677             2  Two-Domain\n",
       "3  A0A0H2WY27             1  Two-Domain\n",
       "4      Q51504             1  Two-Domain"
      ]
     },
     "execution_count": 8,
     "metadata": {},
     "output_type": "execute_result"
    }
   ],
   "source": [
    "dfs[0].head()"
   ]
  },
  {
   "cell_type": "code",
   "execution_count": 23,
   "metadata": {},
   "outputs": [
    {
     "data": {
      "text/plain": [
       "<Figure size 4200x3150 with 0 Axes>"
      ]
     },
     "metadata": {},
     "output_type": "display_data"
    },
    {
     "data": {
      "image/png": "[encoded data removed]",
      "text/plain": [
       "<Figure size 800x800 with 4 Axes>"
      ]
     },
     "metadata": {},
     "output_type": "display_data"
    }
   ],
   "source": [
    "plt.figure(dpi=1200)\n",
    "\n",
    "fig, axes = plt.subplots(2, 2, figsize=(8, 8))\n",
    "\n",
    "dfs_axes = zip(dfs, axes.flatten())\n",
    "\n",
    "for df, ax in dfs_axes:\n",
    "    plot_clusters(df, ax)\n",
    "\n",
    "cols = ['gRMSD', '$_{fd}^{im}$RMSD']\n",
    "rows = ['1 Å', '3 Å']\n",
    "\n",
    "pad = 5\n",
    "for ax, col in zip(axes[0], cols):\n",
    "    ax.annotate(col, xy=(0.5, 1.1), xytext=(0, pad),\n",
    "                xycoords='axes fraction', textcoords='offset points',\n",
    "                size=20, ha='center', va='baseline')\n",
    "    \n",
    "for ax, row in zip(axes[:,0], rows):\n",
    "    ax.annotate(row, xy=(0, 0.5), xytext=(-ax.yaxis.labelpad - pad, 0),\n",
    "                xycoords=ax.yaxis.label, textcoords='offset points',\n",
    "                size=20, ha='right', va='center')\n",
    "    \n",
    "for ax in axes[:, 0]:\n",
    "    ax.set_ylabel('Percent', fontsize=14)\n",
    "\n",
    "for ax in axes[1]:\n",
    "    ax.set_xlabel('Number of Conformations', fontsize=14)\n",
    "\n",
    "plt.tight_layout()\n",
    "\n",
    "plt.savefig('./project_pipeline/data/figures/num_clusters.png')"
   ]
  },
  {
   "cell_type": "code",
   "execution_count": 45,
   "metadata": {},
   "outputs": [
    {
     "data": {
      "text/plain": [
       "<Figure size 4200x3150 with 0 Axes>"
      ]
     },
     "metadata": {},
     "output_type": "display_data"
    },
    {
     "data": {
      "image/png": "[encoded data removed]",
      "text/plain": [
       "<Figure size 800x800 with 4 Axes>"
      ]
     },
     "metadata": {},
     "output_type": "display_data"
    }
   ],
   "source": [
    "plt.figure(dpi=1200)\n",
    "\n",
    "fig, axes = plt.subplots(2, 2, figsize=(8, 8))\n",
    "\n",
    "dfs_axes = zip(dfs, axes.flatten())\n",
    "\n",
    "for df, ax in dfs_axes:\n",
    "    plot_histograms(df, ax)\n",
    "\n",
    "cols = ['gRMSD', '$_{fd}^{im}$RMSD']\n",
    "rows = ['1 Å', '3 Å']\n",
    "\n",
    "pad = 5\n",
    "for ax, col in zip(axes[0], cols):\n",
    "    ax.annotate(col, xy=(0.5, 1.1), xytext=(0, pad),\n",
    "                xycoords='axes fraction', textcoords='offset points',\n",
    "                size=20, ha='center', va='baseline')\n",
    "    \n",
    "for ax, row in zip(axes[:,0], rows):\n",
    "    ax.annotate(row, xy=(0, 0.5), xytext=(-ax.yaxis.labelpad - pad, 0),\n",
    "                xycoords=ax.yaxis.label, textcoords='offset points',\n",
    "                size=20, ha='right', va='center')\n",
    "    \n",
    "for ax in axes[:, 0]:\n",
    "    ax.set_ylabel('Number of Clusters', fontsize=14)\n",
    "\n",
    "for ax in axes[1]:\n",
    "    ax.set_xlabel('Type', fontsize=14)\n",
    "\n",
    "plt.tight_layout()\n",
    "\n",
    "plt.savefig('./project_pipeline/data/figures/num_clusters_hist.png', dpi=1200)"
   ]
  },
  {
   "cell_type": "code",
   "execution_count": 9,
   "metadata": {},
   "outputs": [],
   "source": [
    "ai_num_clusters = pd.DataFrame()\n",
    "\n",
    "for uniprot in multiple['uniprot'].unique():\n",
    "    df = multiple[multiple['uniprot'] == uniprot].reset_index(drop=True)\n",
    "    num_clusters_df = num_clusters(df, 2)\n",
    "    ai_num_clusters = pd.concat([ai_num_clusters, num_clusters_df])"
   ]
  },
  {
   "cell_type": "code",
   "execution_count": 10,
   "metadata": {},
   "outputs": [],
   "source": [
    "md_num_clusters = pd.DataFrame()\n",
    "\n",
    "for uniprot in multiple_md['uniprot'].unique():\n",
    "    df = multiple_md[multiple_md['uniprot'] == uniprot].reset_index(drop=True)\n",
    "    num_clusters_df = num_clusters(df, 2)\n",
    "    md_num_clusters = pd.concat([md_num_clusters, num_clusters_df])"
   ]
  },
  {
   "cell_type": "code",
   "execution_count": 11,
   "metadata": {},
   "outputs": [],
   "source": [
    "ai_num_clusters['type'] = 'Autoinhibitory'\n",
    "md_num_clusters['type'] = 'Two-Domain'\n",
    "\n",
    "plot = pd.concat([ai_num_clusters, md_num_clusters]).reset_index(drop=True)"
   ]
  },
  {
   "cell_type": "code",
   "execution_count": 12,
   "metadata": {},
   "outputs": [
    {
     "name": "stdout",
     "output_type": "stream",
     "text": [
      "p-value annotation legend:\n",
      "      ns: 5.00e-02 < p <= 1.00e+00\n",
      "       *: 1.00e-02 < p <= 5.00e-02\n",
      "      **: 1.00e-03 < p <= 1.00e-02\n",
      "     ***: 1.00e-04 < p <= 1.00e-03\n",
      "    ****: p <= 1.00e-04\n",
      "\n",
      "Autoinhibitory vs. Two-Domain: Mann-Whitney-Wilcoxon test two-sided, P_val:4.215e-02 U_stat=1.228e+03\n"
     ]
    },
    {
     "name": "stderr",
     "output_type": "stream",
     "text": [
      "/tmp/ipykernel_3582712/3079706561.py:8: UserWarning: set_ticklabels() should only be used with a fixed number of ticks, i.e. after set_ticks() or using a FixedLocator.\n",
      "  ax.set_yticklabels(ax.get_yticklabels(), fontsize=12)\n"
     ]
    },
    {
     "data": {
      "text/plain": [
       "(<Axes: xlabel='Number of Clusters', ylabel='num_clusters'>,\n",
       " [<statannotations.Annotation.Annotation at 0x7f400bcdfc10>])"
      ]
     },
     "execution_count": 12,
     "metadata": {},
     "output_type": "execute_result"
    },
    {
     "data": {
      "image/png": "[encoded data removed]",
      "text/plain": [
       "<Figure size 500x500 with 1 Axes>"
      ]
     },
     "metadata": {},
     "output_type": "display_data"
    }
   ],
   "source": [
    "perc = plot.groupby('type')['num_clusters'].value_counts(normalize=True).reset_index(name='Percent')\n",
    "\n",
    "fig, ax = plt.subplots(figsize=(5, 5))\n",
    "sns.boxplot(data=plot, x='type', y='num_clusters', hue='type', palette=colors, ax=ax, dodge=False)\n",
    "ax.legend(title='Type', fontsize='12', title_fontsize='14', loc='upper right')\n",
    "ax.set_xlabel('Number of Clusters', fontsize='14')\n",
    "ax.set_xticklabels(ax.get_xticklabels(), fontsize=12)\n",
    "ax.set_yticklabels(ax.get_yticklabels(), fontsize=12)\n",
    "\n",
    "pairs = [('Autoinhibitory', 'Two-Domain')]\n",
    "annotator = Annotator(ax=ax, pairs=pairs, data=plot, x='type', y='num_clusters')\n",
    "annotator.configure(test='Mann-Whitney', text_format='star', loc='outside')\n",
    "annotator.apply_and_annotate()"
   ]
  },
  {
   "cell_type": "code",
   "execution_count": 13,
   "metadata": {},
   "outputs": [
    {
     "data": {
      "text/html": [
       "<div>\n",
       "<style scoped>\n",
       "    .dataframe tbody tr th:only-of-type {\n",
       "        vertical-align: middle;\n",
       "    }\n",
       "\n",
       "    .dataframe tbody tr th {\n",
       "        vertical-align: top;\n",
       "    }\n",
       "\n",
       "    .dataframe thead th {\n",
       "        text-align: right;\n",
       "    }\n",
       "</style>\n",
       "<table border=\"1\" class=\"dataframe\">\n",
       "  <thead>\n",
       "    <tr style=\"text-align: right;\">\n",
       "      <th></th>\n",
       "      <th>uniprot</th>\n",
       "      <th>num_clusters</th>\n",
       "    </tr>\n",
       "  </thead>\n",
       "  <tbody>\n",
       "    <tr>\n",
       "      <th>0</th>\n",
       "      <td>P04637</td>\n",
       "      <td>1</td>\n",
       "    </tr>\n",
       "    <tr>\n",
       "      <th>0</th>\n",
       "      <td>P07038</td>\n",
       "      <td>2</td>\n",
       "    </tr>\n",
       "    <tr>\n",
       "      <th>0</th>\n",
       "      <td>Q8NQJ3</td>\n",
       "      <td>2</td>\n",
       "    </tr>\n",
       "    <tr>\n",
       "      <th>0</th>\n",
       "      <td>P00579</td>\n",
       "      <td>2</td>\n",
       "    </tr>\n",
       "    <tr>\n",
       "      <th>0</th>\n",
       "      <td>P60240</td>\n",
       "      <td>2</td>\n",
       "    </tr>\n",
       "    <tr>\n",
       "      <th>...</th>\n",
       "      <td>...</td>\n",
       "      <td>...</td>\n",
       "    </tr>\n",
       "    <tr>\n",
       "      <th>0</th>\n",
       "      <td>Q3KK31</td>\n",
       "      <td>1</td>\n",
       "    </tr>\n",
       "    <tr>\n",
       "      <th>0</th>\n",
       "      <td>P31016</td>\n",
       "      <td>1</td>\n",
       "    </tr>\n",
       "    <tr>\n",
       "      <th>0</th>\n",
       "      <td>Q9JK66</td>\n",
       "      <td>2</td>\n",
       "    </tr>\n",
       "    <tr>\n",
       "      <th>0</th>\n",
       "      <td>P53042</td>\n",
       "      <td>1</td>\n",
       "    </tr>\n",
       "    <tr>\n",
       "      <th>0</th>\n",
       "      <td>B5XAZ0</td>\n",
       "      <td>2</td>\n",
       "    </tr>\n",
       "  </tbody>\n",
       "</table>\n",
       "<p>71 rows × 2 columns</p>\n",
       "</div>"
      ],
      "text/plain": [
       "   uniprot  num_clusters\n",
       "0   P04637             1\n",
       "0   P07038             2\n",
       "0   Q8NQJ3             2\n",
       "0   P00579             2\n",
       "0   P60240             2\n",
       "..     ...           ...\n",
       "0   Q3KK31             1\n",
       "0   P31016             1\n",
       "0   Q9JK66             2\n",
       "0   P53042             1\n",
       "0   B5XAZ0             2\n",
       "\n",
       "[71 rows x 2 columns]"
      ]
     },
     "execution_count": 13,
     "metadata": {},
     "output_type": "execute_result"
    }
   ],
   "source": [
    "ai_complex_clusters = pd.DataFrame()\n",
    "for uniprot in multiple['uniprot'].unique():\n",
    "    df = multiple[multiple['uniprot'] == uniprot].reset_index(drop=True)\n",
    "    num_clusters_df = num_clusters_grmsd(df, 2)\n",
    "    ai_complex_clusters = pd.concat([ai_complex_clusters, num_clusters_df])\n",
    "ai_complex_clusters"
   ]
  },
  {
   "cell_type": "code",
   "execution_count": 14,
   "metadata": {},
   "outputs": [],
   "source": [
    "md_complex_clusters = pd.DataFrame()\n",
    "\n",
    "for uniprot in multiple_md['uniprot'].unique():\n",
    "    df = multiple_md[multiple_md['uniprot'] == uniprot].reset_index(drop=True)\n",
    "    num_clusters_df = num_clusters_grmsd(df, 2)\n",
    "    md_complex_clusters = pd.concat([md_complex_clusters, num_clusters_df])\n",
    "\n",
    "ai_complex_clusters['type'] = 'Autoinhibitory'\n",
    "md_complex_clusters['type'] = 'Two-Domain'\n",
    "\n",
    "complex_plot = pd.concat([ai_complex_clusters, md_complex_clusters]).reset_index(drop=True)"
   ]
  },
  {
   "cell_type": "code",
   "execution_count": 15,
   "metadata": {},
   "outputs": [
    {
     "name": "stdout",
     "output_type": "stream",
     "text": [
      "p-value annotation legend:\n",
      "      ns: 5.00e-02 < p <= 1.00e+00\n",
      "       *: 1.00e-02 < p <= 5.00e-02\n",
      "      **: 1.00e-03 < p <= 1.00e-02\n",
      "     ***: 1.00e-04 < p <= 1.00e-03\n",
      "    ****: p <= 1.00e-04\n",
      "\n",
      "Autoinhibitory vs. Two-Domain: Mann-Whitney-Wilcoxon test two-sided, P_val:1.367e-01 U_stat=1.155e+03\n"
     ]
    },
    {
     "name": "stderr",
     "output_type": "stream",
     "text": [
      "/tmp/ipykernel_3582712/3302377762.py:8: UserWarning: set_ticklabels() should only be used with a fixed number of ticks, i.e. after set_ticks() or using a FixedLocator.\n",
      "  ax.set_yticklabels(ax.get_yticklabels(), fontsize=12)\n"
     ]
    },
    {
     "data": {
      "text/plain": [
       "(<Axes: xlabel='Number of Clusters', ylabel='num_clusters'>,\n",
       " [<statannotations.Annotation.Annotation at 0x7f400b9a3990>])"
      ]
     },
     "execution_count": 15,
     "metadata": {},
     "output_type": "execute_result"
    },
    {
     "data": {
      "image/png": "[encoded data removed]",
      "text/plain": [
       "<Figure size 500x500 with 1 Axes>"
      ]
     },
     "metadata": {},
     "output_type": "display_data"
    }
   ],
   "source": [
    "# perc = plot.groupby('type')['num_clusters'].value_counts(normalize=True).reset_index(name='Percent')\n",
    "\n",
    "fig, ax = plt.subplots(figsize=(5, 5))\n",
    "sns.boxplot(data=complex_plot, x='type', y='num_clusters', hue='type', palette=colors, ax=ax, dodge=False)\n",
    "ax.legend(title='Type', fontsize='12', title_fontsize='14', loc='upper right')\n",
    "ax.set_xlabel('Number of Clusters', fontsize='14')\n",
    "ax.set_xticklabels(ax.get_xticklabels(), fontsize=12)\n",
    "ax.set_yticklabels(ax.get_yticklabels(), fontsize=12)\n",
    "\n",
    "pairs = [('Autoinhibitory', 'Two-Domain')]\n",
    "annotator = Annotator(ax=ax, pairs=pairs, data=complex_plot, x='type', y='num_clusters')\n",
    "annotator.configure(test='Mann-Whitney', text_format='star', loc='outside')\n",
    "annotator.apply_and_annotate()"
   ]
  },
  {
   "cell_type": "code",
   "execution_count": 16,
   "metadata": {},
   "outputs": [],
   "source": [
    "ai_imfd_clusters = pd.DataFrame()\n",
    "\n",
    "for uniprot in multiple['uniprot'].unique():\n",
    "    df = multiple[multiple['uniprot'] == uniprot].reset_index(drop=True)\n",
    "    ai_num_clusters = num_clusters_imfd(df, 3)\n",
    "    ai_imfd_clusters = pd.concat([ai_imfd_clusters, ai_num_clusters])\n",
    "\n",
    "md_imfd_clusters = pd.DataFrame()\n",
    "\n",
    "for uniprot in multiple_md['uniprot'].unique():\n",
    "    df = multiple_md[multiple_md['uniprot'] == uniprot].reset_index(drop=True)\n",
    "    md_num_clusters = num_clusters_imfd(df, 3)\n",
    "    md_imfd_clusters = pd.concat([md_imfd_clusters, md_num_clusters])\n",
    "\n",
    "ai_imfd_clusters['type'] = 'Autoinhibitory'\n",
    "md_imfd_clusters['type'] = 'Two-Domain'\n",
    "\n",
    "imfd_plot = pd.concat([ai_imfd_clusters, md_imfd_clusters]).reset_index(drop=True)"
   ]
  },
  {
   "cell_type": "code",
   "execution_count": 17,
   "metadata": {},
   "outputs": [
    {
     "name": "stdout",
     "output_type": "stream",
     "text": [
      "p-value annotation legend:\n",
      "      ns: 5.00e-02 < p <= 1.00e+00\n",
      "       *: 1.00e-02 < p <= 5.00e-02\n",
      "      **: 1.00e-03 < p <= 1.00e-02\n",
      "     ***: 1.00e-04 < p <= 1.00e-03\n",
      "    ****: p <= 1.00e-04\n",
      "\n",
      "Autoinhibitory vs. Two-Domain: Mann-Whitney-Wilcoxon test two-sided, P_val:3.497e-02 U_stat=1.210e+03\n"
     ]
    },
    {
     "name": "stderr",
     "output_type": "stream",
     "text": [
      "/tmp/ipykernel_3582712/2863877867.py:8: UserWarning: set_ticklabels() should only be used with a fixed number of ticks, i.e. after set_ticks() or using a FixedLocator.\n",
      "  ax.set_yticklabels(ax.get_yticklabels(), fontsize=12)\n"
     ]
    },
    {
     "data": {
      "text/plain": [
       "(<Axes: xlabel='Number of Clusters', ylabel='num_clusters'>,\n",
       " [<statannotations.Annotation.Annotation at 0x7f400b7f2dd0>])"
      ]
     },
     "execution_count": 17,
     "metadata": {},
     "output_type": "execute_result"
    },
    {
     "data": {
      "image/png": "[encoded data removed]",
      "text/plain": [
       "<Figure size 500x500 with 1 Axes>"
      ]
     },
     "metadata": {},
     "output_type": "display_data"
    }
   ],
   "source": [
    "# perc = plot.groupby('type')['num_clusters'].value_counts(normalize=True).reset_index(name='Percent')\n",
    "\n",
    "fig, ax = plt.subplots(figsize=(5, 5))\n",
    "sns.boxplot(data=imfd_plot, x='type', y='num_clusters', hue='type', palette=colors, ax=ax, dodge=False)\n",
    "ax.legend(title='Type', fontsize='12', title_fontsize='14', loc='upper right')\n",
    "ax.set_xlabel('Number of Clusters', fontsize='14')\n",
    "ax.set_xticklabels(ax.get_xticklabels(), fontsize=12)\n",
    "ax.set_yticklabels(ax.get_yticklabels(), fontsize=12)\n",
    "\n",
    "pairs = [('Autoinhibitory', 'Two-Domain')]\n",
    "annotator = Annotator(ax=ax, pairs=pairs, data=imfd_plot, x='type', y='num_clusters')\n",
    "annotator.configure(test='Mann-Whitney', text_format='star', loc='outside')\n",
    "annotator.apply_and_annotate()"
   ]
  }
 ],
 "metadata": {
  "kernelspec": {
   "display_name": "ranforest",
   "language": "python",
   "name": "python3"
  },
  "language_info": {
   "codemirror_mode": {
    "name": "ipython",
    "version": 3
   },
   "file_extension": ".py",
   "mimetype": "text/x-python",
   "name": "python",
   "nbconvert_exporter": "python",
   "pygments_lexer": "ipython3",
   "version": "3.11.9"
  }
 },
 "nbformat": 4,
 "nbformat_minor": 2
}
