{
 "cells": [
  {
   "cell_type": "markdown",
   "metadata": {},
   "source": [
    "A Jupyter notebook for analyzing the pLDDT statistics of the AlphaFold2 and Clusters autoinhibitory and Two-Domain proteins."
   ]
  },
  {
   "cell_type": "code",
   "execution_count": 41,
   "metadata": {},
   "outputs": [],
   "source": [
    "import pandas as pd\n",
    "import seaborn as sns\n",
    "import matplotlib as mpl\n",
    "import matplotlib.pyplot as plt\n",
    "import scienceplots\n",
    "from scipy.stats import mannwhitneyu\n",
    "from statannotations.Annotator import Annotator"
   ]
  },
  {
   "cell_type": "code",
   "execution_count": 42,
   "metadata": {},
   "outputs": [],
   "source": [
    "'''\n",
    "Load dataframes\n",
    "'''\n",
    "\n",
    "afAuto = pd.read_csv('./project_pipeline/data/af_autoinhibited_pLDDT.tsv', sep='\\t').astype('object')\n",
    "afMulti = pd.read_csv('./project_pipeline/data/af_multi_domain_pLDDT.tsv', sep='\\t').astype('object')\n",
    "cfAuto = pd.read_csv('./project_pipeline/data/cf_autoinhibited_pLDDT.tsv', sep='\\t').astype('object')\n",
    "cfMulti = pd.read_csv('./project_pipeline/data/cf_multi_domain_pLDDT.tsv', sep='\\t').astype('object')\n",
    "\n",
    "# Set style\n",
    "plt.style.use('science')"
   ]
  },
  {
   "cell_type": "code",
   "execution_count": 43,
   "metadata": {},
   "outputs": [
    {
     "name": "stdout",
     "output_type": "stream",
     "text": [
      "['#e41a1c', '#377eb8', '#4daf4a', '#984ea3', '#ff7f00', '#ffff33', '#a65628', '#f781bf', '#999999']\n"
     ]
    },
    {
     "data": {
      "text/html": [
       "<svg  width=\"495\" height=\"55\"><rect x=\"0\" y=\"0\" width=\"55\" height=\"55\" style=\"fill:#e41a1c;stroke-width:2;stroke:rgb(255,255,255)\"/><rect x=\"55\" y=\"0\" width=\"55\" height=\"55\" style=\"fill:#377eb8;stroke-width:2;stroke:rgb(255,255,255)\"/><rect x=\"110\" y=\"0\" width=\"55\" height=\"55\" style=\"fill:#4daf4a;stroke-width:2;stroke:rgb(255,255,255)\"/><rect x=\"165\" y=\"0\" width=\"55\" height=\"55\" style=\"fill:#984ea3;stroke-width:2;stroke:rgb(255,255,255)\"/><rect x=\"220\" y=\"0\" width=\"55\" height=\"55\" style=\"fill:#ff7f00;stroke-width:2;stroke:rgb(255,255,255)\"/><rect x=\"275\" y=\"0\" width=\"55\" height=\"55\" style=\"fill:#ffff33;stroke-width:2;stroke:rgb(255,255,255)\"/><rect x=\"330\" y=\"0\" width=\"55\" height=\"55\" style=\"fill:#a65628;stroke-width:2;stroke:rgb(255,255,255)\"/><rect x=\"385\" y=\"0\" width=\"55\" height=\"55\" style=\"fill:#f781bf;stroke-width:2;stroke:rgb(255,255,255)\"/><rect x=\"440\" y=\"0\" width=\"55\" height=\"55\" style=\"fill:#999999;stroke-width:2;stroke:rgb(255,255,255)\"/></svg>"
      ],
      "text/plain": [
       "['#e41a1c',\n",
       " '#377eb8',\n",
       " '#4daf4a',\n",
       " '#984ea3',\n",
       " '#ff7f00',\n",
       " '#ffff33',\n",
       " '#a65628',\n",
       " '#f781bf',\n",
       " '#999999']"
      ]
     },
     "execution_count": 43,
     "metadata": {},
     "output_type": "execute_result"
    }
   ],
   "source": [
    "\n",
    "# Get the hex codes for the colors so we can assign them to categories\n",
    "pal = sns.color_palette('Set1')\n",
    "print(pal.as_hex())\n",
    "\n",
    "# Set the color palette. Our categories are \"Single Domain\", \"Two-Domain\", and \"Autoinhibitory\"\n",
    "colors = {'Single Domain': pal[0], 'Two-Domain': pal[1], 'Autoinhibitory': pal[2], 'Full': pal[3], 'Clusters': pal[4]}\n",
    "pal.as_hex()"
   ]
  },
  {
   "cell_type": "markdown",
   "metadata": {},
   "source": [
    "We pivot our dataframes in order to graph them"
   ]
  },
  {
   "cell_type": "code",
   "execution_count": 44,
   "metadata": {},
   "outputs": [],
   "source": [
    "# Functions to rename columns\n",
    "\n",
    "def rename_auto_columns(df):\n",
    "    df = df.rename(columns={'complex_mean_plddt': 'Full Sequence', 'r1_mean_plddt': 'IM/D1', 'r2_mean_plddt': 'FD/D2'})\n",
    "\n",
    "    return df\n",
    "\n",
    "def rename_multi_columns(df):\n",
    "    df = df.rename(columns={'complex_mean_plddt': 'Full Sequence', 'r1_mean_plddt': 'IM/D1', 'r2_mean_plddt': 'FD/D2'})\n",
    "\n",
    "    return df\n",
    "\n",
    "# Quick functions to melt dataframes\n",
    "def pivot_af_df(df):\n",
    "    df = df.melt(id_vars=['uniprot', 'region_1', 'region_2', 'filename'], var_name='Section', value_name='Mean pLDDT')\n",
    "    df['Mean pLDDT'] = df['Mean pLDDT'].astype(float)\n",
    "\n",
    "    return df\n",
    "\n",
    "def pivot_cf_df(df):\n",
    "    df = df.melt(id_vars=['uniprot', 'cluster', 'region_1', 'region_2', 'filename'], var_name='Section', value_name='Mean pLDDT')\n",
    "    df['Mean pLDDT'] = df['Mean pLDDT'].astype(float)\n",
    "\n",
    "    return df\n",
    "\n",
    "# Add signifier column\n",
    "def add_auto_type(df):\n",
    "    df['type'] = 'Autoinhibitory'\n",
    "\n",
    "    return df\n",
    "\n",
    "def add_multi_type(df):\n",
    "    df['type'] = 'Two-Domain'\n",
    "\n",
    "    return df"
   ]
  },
  {
   "cell_type": "code",
   "execution_count": 45,
   "metadata": {},
   "outputs": [
    {
     "name": "stdout",
     "output_type": "stream",
     "text": [
      "531\n"
     ]
    }
   ],
   "source": [
    "# Rename columns\n",
    "af_auto = rename_auto_columns(afAuto)\n",
    "af_multi = rename_multi_columns(afMulti)\n",
    "cf_auto = rename_auto_columns(cfAuto)\n",
    "cf_multi = rename_multi_columns(cfMulti)\n",
    "\n",
    "# Pivot dataframes\n",
    "afAuto_p = pivot_af_df(af_auto)\n",
    "afMulti_p = pivot_af_df(af_multi)\n",
    "cfAuto_p = pivot_cf_df(cf_auto)\n",
    "cfMulti_p = pivot_cf_df(cf_multi)\n",
    "\n",
    "# Add type column\n",
    "afAuto_p = add_auto_type(afAuto_p)\n",
    "afMulti_p = add_multi_type(afMulti_p)\n",
    "cfAuto_p = add_auto_type(cfAuto_p)\n",
    "cfMulti_p = add_multi_type(cfMulti_p)\n",
    "\n",
    "# Concatenate dataframes\n",
    "af = pd.concat([afAuto_p, afMulti_p])\n",
    "cf = pd.concat([cfAuto_p, cfMulti_p])\n",
    "\n",
    "print(len(af))"
   ]
  },
  {
   "cell_type": "markdown",
   "metadata": {},
   "source": [
    "Now we chart them as boxplots"
   ]
  },
  {
   "cell_type": "markdown",
   "metadata": {},
   "source": [
    "# Plot for All Autoinhibitory Proteins Compared to Multi-Domain Proteins"
   ]
  },
  {
   "cell_type": "code",
   "execution_count": 46,
   "metadata": {},
   "outputs": [
    {
     "name": "stdout",
     "output_type": "stream",
     "text": [
      "p-value annotation legend:\n",
      "      ns: 5.00e-02 < p <= 1.00e+00\n",
      "       *: 1.00e-02 < p <= 5.00e-02\n",
      "      **: 1.00e-03 < p <= 1.00e-02\n",
      "     ***: 1.00e-04 < p <= 1.00e-03\n",
      "    ****: p <= 1.00e-04\n",
      "\n",
      "IM/D1_Autoinhibitory vs. IM/D1_Two-Domain: Mann-Whitney-Wilcoxon test two-sided, P_val:2.275e-10 U_stat=1.330e+03\n"
     ]
    },
    {
     "name": "stderr",
     "output_type": "stream",
     "text": [
      "/tmp/ipykernel_2636895/3467335931.py:6: UserWarning: set_ticklabels() should only be used with a fixed number of ticks, i.e. after set_ticks() or using a FixedLocator.\n",
      "  ax.set_yticklabels(ax.get_yticklabels(), fontsize=12)\n"
     ]
    },
    {
     "name": "stdout",
     "output_type": "stream",
     "text": [
      "Full Sequence_Autoinhibitory vs. Full Sequence_Two-Domain: Mann-Whitney-Wilcoxon test two-sided, P_val:9.538e-17 U_stat=7.120e+02\n",
      "FD/D2_Autoinhibitory vs. FD/D2_Two-Domain: Mann-Whitney-Wilcoxon test two-sided, P_val:1.008e-07 U_stat=1.649e+03\n"
     ]
    },
    {
     "data": {
      "image/png": "[encoded data removed]",
      "text/plain": [
       "<Figure size 800x600 with 1 Axes>"
      ]
     },
     "metadata": {},
     "output_type": "display_data"
    }
   ],
   "source": [
    "\n",
    "\n",
    "fig, ax = plt.subplots(figsize=(8, 6))\n",
    "sns.boxplot(data=af, x='Section', y='Mean pLDDT', ax = ax, hue='type', palette=colors)\n",
    "ax.set_ylabel('Mean pLDDT', fontsize=14)\n",
    "ax.set_xlabel('Section', fontsize=14)\n",
    "ax.set_xticklabels(ax.get_xticklabels(), fontsize=12)\n",
    "ax.set_yticklabels(ax.get_yticklabels(), fontsize=12)\n",
    "ax.legend(title='Protein Type', title_fontsize='14', fontsize='12')\n",
    "\n",
    "\n",
    "# Annotate statistical significance\n",
    "pairs = [[('Full Sequence', 'Autoinhibitory'), ('Full Sequence', 'Two-Domain')],\n",
    "         [('IM/D1', 'Autoinhibitory'), ('IM/D1', 'Two-Domain')],\n",
    "         [('FD/D2', 'Autoinhibitory'), ('FD/D2', 'Two-Domain')]]\n",
    "subcat_order = ['Full Sequence', 'IM/D1', 'FD/D2']\n",
    "annotator = Annotator(ax, pairs, data=af, x='Section', y='Mean pLDDT', order=subcat_order, hue='type')\n",
    "annotator.configure(test='Mann-Whitney', text_format='star', loc='outside')\n",
    "annotator.apply_and_annotate()\n",
    "\n",
    "# Save the figure\n",
    "plt.style.use('science')\n",
    "plt.tight_layout()\n",
    "plt.savefig('./project_pipeline/data/figures/af_auto_multi_plddt1.png')"
   ]
  },
  {
   "cell_type": "markdown",
   "metadata": {},
   "source": [
    "Let's do a boxplot for the reverse"
   ]
  },
  {
   "cell_type": "code",
   "execution_count": 47,
   "metadata": {},
   "outputs": [],
   "source": [
    "# fig, ax = plt.subplots(figsize=(12, 8))\n",
    "# sns.boxplot(data=af, x='type', y='Mean pLDDT', ax = ax, hue='Section', palette=colors)\n",
    "# ax.set_ylabel('Mean pLDDT')\n",
    "# ax.set_xlabel('Section')\n",
    "# ax.legend(title='Section')\n",
    "\n",
    "# # Annotate statistical significance\n",
    "# pairs = [[('Autoinhibitory', 'Full Sequence'), ('Autoinhibitory', 'IM/D1')],\n",
    "#          [('Autoinhibitory', 'Full Sequence'), ('Autoinhibitory', 'FD/D2')],\n",
    "#          [('Autoinhibitory', 'IM/D1'), ('Autoinhibitory', 'FD/D2')],\n",
    "#          [('Two-Domain', 'Full Sequence'), ('Two-Domain', 'IM/D1')],\n",
    "#          [('Two-Domain', 'Full Sequence'), ('Two-Domain', 'FD/D2')],\n",
    "#          [('Two-Domain', 'IM/D1'), ('Two-Domain', 'FD/D2')]]\n",
    "# subcat_order = ['Autoinhibitory', 'Two-Domain']\n",
    "# annotator = Annotator(ax, pairs, data=af, x='type', y='Mean pLDDT', order=subcat_order, hue='Section')\n",
    "# annotator.configure(test='Mann-Whitney', text_format='star', loc='outside')\n",
    "# annotator.apply_and_annotate()\n",
    "\n",
    "# # Save the figure\n",
    "# plt.savefig('./project_pipeline/data/figures/af_auto_multi_plddt2.png')"
   ]
  },
  {
   "cell_type": "markdown",
   "metadata": {},
   "source": [
    "There are 123 proteins in the autoinhibited AlphaFold2 and 54 in the Two-Domain Alphafold2."
   ]
  },
  {
   "cell_type": "markdown",
   "metadata": {},
   "source": [
    "Now we'll look at only those proteins with two states"
   ]
  },
  {
   "cell_type": "code",
   "execution_count": 48,
   "metadata": {},
   "outputs": [
    {
     "data": {
      "text/html": [
       "<div>\n",
       "<style scoped>\n",
       "    .dataframe tbody tr th:only-of-type {\n",
       "        vertical-align: middle;\n",
       "    }\n",
       "\n",
       "    .dataframe tbody tr th {\n",
       "        vertical-align: top;\n",
       "    }\n",
       "\n",
       "    .dataframe thead th {\n",
       "        text-align: right;\n",
       "    }\n",
       "</style>\n",
       "<table border=\"1\" class=\"dataframe\">\n",
       "  <thead>\n",
       "    <tr style=\"text-align: right;\">\n",
       "      <th></th>\n",
       "      <th>uniprot</th>\n",
       "      <th>region_1</th>\n",
       "      <th>region_2</th>\n",
       "      <th>filename</th>\n",
       "      <th>Section</th>\n",
       "      <th>Mean pLDDT</th>\n",
       "    </tr>\n",
       "  </thead>\n",
       "  <tbody>\n",
       "    <tr>\n",
       "      <th>0</th>\n",
       "      <td>O08967</td>\n",
       "      <td>251-265,383-395</td>\n",
       "      <td>77-206</td>\n",
       "      <td>F-O08967-F1-model_v3.cif</td>\n",
       "      <td>Full Sequence</td>\n",
       "      <td>85.817</td>\n",
       "    </tr>\n",
       "    <tr>\n",
       "      <th>1</th>\n",
       "      <td>O60741</td>\n",
       "      <td>401-479</td>\n",
       "      <td>480-604</td>\n",
       "      <td>F-O60741-F1-model_v3.cif</td>\n",
       "      <td>Full Sequence</td>\n",
       "      <td>70.564</td>\n",
       "    </tr>\n",
       "    <tr>\n",
       "      <th>2</th>\n",
       "      <td>P07038</td>\n",
       "      <td>892-917</td>\n",
       "      <td>562-625</td>\n",
       "      <td>F-P07038-F1-model_v3.cif</td>\n",
       "      <td>Full Sequence</td>\n",
       "      <td>77.453</td>\n",
       "    </tr>\n",
       "    <tr>\n",
       "      <th>3</th>\n",
       "      <td>P12931</td>\n",
       "      <td>249-269,151-248</td>\n",
       "      <td>84-145,524-536</td>\n",
       "      <td>F-P12931-F1-model_v3.cif</td>\n",
       "      <td>Full Sequence</td>\n",
       "      <td>84.513</td>\n",
       "    </tr>\n",
       "    <tr>\n",
       "      <th>4</th>\n",
       "      <td>P21333</td>\n",
       "      <td>2142-2235</td>\n",
       "      <td>2236-2325</td>\n",
       "      <td>F-P21333-F1-model_v3.cif</td>\n",
       "      <td>Full Sequence</td>\n",
       "      <td>77.384</td>\n",
       "    </tr>\n",
       "  </tbody>\n",
       "</table>\n",
       "</div>"
      ],
      "text/plain": [
       "  uniprot         region_1        region_2                  filename  \\\n",
       "0  O08967  251-265,383-395          77-206  F-O08967-F1-model_v3.cif   \n",
       "1  O60741          401-479         480-604  F-O60741-F1-model_v3.cif   \n",
       "2  P07038          892-917         562-625  F-P07038-F1-model_v3.cif   \n",
       "3  P12931  249-269,151-248  84-145,524-536  F-P12931-F1-model_v3.cif   \n",
       "4  P21333        2142-2235       2236-2325  F-P21333-F1-model_v3.cif   \n",
       "\n",
       "         Section  Mean pLDDT  \n",
       "0  Full Sequence      85.817  \n",
       "1  Full Sequence      70.564  \n",
       "2  Full Sequence      77.453  \n",
       "3  Full Sequence      84.513  \n",
       "4  Full Sequence      77.384  "
      ]
     },
     "execution_count": 48,
     "metadata": {},
     "output_type": "execute_result"
    }
   ],
   "source": [
    "# Get list of two-state proteins\n",
    "two = pd.read_csv('./project_pipeline/data/two_states.tsv', sep='\\t').astype('object')\n",
    "twolist = two['uniprot'].unique().tolist()\n",
    "\n",
    "# Subset dataframe\n",
    "af_two = afAuto[afAuto['uniprot'].isin(twolist)].reset_index(drop=True)\n",
    "\n",
    "# Now rename and melt the dataframes\n",
    "rename = rename_auto_columns(af_two)\n",
    "af_twos = pivot_af_df(rename)\n",
    "af_twos.head()"
   ]
  },
  {
   "cell_type": "markdown",
   "metadata": {},
   "source": [
    "Now we'll plot those proteins with two states. First we plot against multi-domain proteins"
   ]
  },
  {
   "cell_type": "code",
   "execution_count": 49,
   "metadata": {},
   "outputs": [
    {
     "data": {
      "text/html": [
       "<div>\n",
       "<style scoped>\n",
       "    .dataframe tbody tr th:only-of-type {\n",
       "        vertical-align: middle;\n",
       "    }\n",
       "\n",
       "    .dataframe tbody tr th {\n",
       "        vertical-align: top;\n",
       "    }\n",
       "\n",
       "    .dataframe thead th {\n",
       "        text-align: right;\n",
       "    }\n",
       "</style>\n",
       "<table border=\"1\" class=\"dataframe\">\n",
       "  <thead>\n",
       "    <tr style=\"text-align: right;\">\n",
       "      <th></th>\n",
       "      <th>uniprot</th>\n",
       "      <th>region_1</th>\n",
       "      <th>region_2</th>\n",
       "      <th>filename</th>\n",
       "      <th>Section</th>\n",
       "      <th>Mean pLDDT</th>\n",
       "      <th>type</th>\n",
       "    </tr>\n",
       "  </thead>\n",
       "  <tbody>\n",
       "    <tr>\n",
       "      <th>211</th>\n",
       "      <td>Q63QJ1</td>\n",
       "      <td>71-219</td>\n",
       "      <td>260-558</td>\n",
       "      <td>AF-Q63QJ1-F1-model_v4.cif</td>\n",
       "      <td>FD/D2</td>\n",
       "      <td>93.937</td>\n",
       "      <td>Two-Domain</td>\n",
       "    </tr>\n",
       "    <tr>\n",
       "      <th>212</th>\n",
       "      <td>Q8KHY3</td>\n",
       "      <td>82-257</td>\n",
       "      <td>361-631</td>\n",
       "      <td>AF-Q8KHY3-F1-model_v4.cif</td>\n",
       "      <td>FD/D2</td>\n",
       "      <td>97.087</td>\n",
       "      <td>Two-Domain</td>\n",
       "    </tr>\n",
       "    <tr>\n",
       "      <th>213</th>\n",
       "      <td>Q2TU34</td>\n",
       "      <td>13-198</td>\n",
       "      <td>203-332</td>\n",
       "      <td>AF-Q2TU34-F1-model_v4.cif</td>\n",
       "      <td>FD/D2</td>\n",
       "      <td>97.772</td>\n",
       "      <td>Two-Domain</td>\n",
       "    </tr>\n",
       "    <tr>\n",
       "      <th>214</th>\n",
       "      <td>B7LGE4</td>\n",
       "      <td>59-204</td>\n",
       "      <td>224-302</td>\n",
       "      <td>AF-B7LGE4-F1-model_v4.cif</td>\n",
       "      <td>FD/D2</td>\n",
       "      <td>98.225</td>\n",
       "      <td>Two-Domain</td>\n",
       "    </tr>\n",
       "    <tr>\n",
       "      <th>215</th>\n",
       "      <td>A9T230</td>\n",
       "      <td>92-291</td>\n",
       "      <td>295-424</td>\n",
       "      <td>AF-A9T230-F1-model_v4.cif</td>\n",
       "      <td>FD/D2</td>\n",
       "      <td>96.779</td>\n",
       "      <td>Two-Domain</td>\n",
       "    </tr>\n",
       "  </tbody>\n",
       "</table>\n",
       "</div>"
      ],
      "text/plain": [
       "    uniprot region_1 region_2                   filename Section  Mean pLDDT  \\\n",
       "211  Q63QJ1   71-219  260-558  AF-Q63QJ1-F1-model_v4.cif   FD/D2      93.937   \n",
       "212  Q8KHY3   82-257  361-631  AF-Q8KHY3-F1-model_v4.cif   FD/D2      97.087   \n",
       "213  Q2TU34   13-198  203-332  AF-Q2TU34-F1-model_v4.cif   FD/D2      97.772   \n",
       "214  B7LGE4   59-204  224-302  AF-B7LGE4-F1-model_v4.cif   FD/D2      98.225   \n",
       "215  A9T230   92-291  295-424  AF-A9T230-F1-model_v4.cif   FD/D2      96.779   \n",
       "\n",
       "           type  \n",
       "211  Two-Domain  \n",
       "212  Two-Domain  \n",
       "213  Two-Domain  \n",
       "214  Two-Domain  \n",
       "215  Two-Domain  "
      ]
     },
     "execution_count": 49,
     "metadata": {},
     "output_type": "execute_result"
    }
   ],
   "source": [
    "# Concatenate dataframes\n",
    "af_twos = add_auto_type(af_twos)\n",
    "afTwoConcat = pd.concat([af_twos, afMulti_p]).reset_index(drop=True)\n",
    "afTwoConcat.tail()"
   ]
  },
  {
   "cell_type": "markdown",
   "metadata": {},
   "source": [
    "# Plot for Two-State Autoinhibitory Proteins Compared To Multi-Domain Proteins"
   ]
  },
  {
   "cell_type": "code",
   "execution_count": 50,
   "metadata": {},
   "outputs": [
    {
     "name": "stderr",
     "output_type": "stream",
     "text": [
      "/tmp/ipykernel_2636895/2672329337.py:7: UserWarning: set_ticklabels() should only be used with a fixed number of ticks, i.e. after set_ticks() or using a FixedLocator.\n",
      "  ax.set_yticklabels(ax.get_yticklabels(), fontsize=12)\n"
     ]
    },
    {
     "name": "stdout",
     "output_type": "stream",
     "text": [
      "p-value annotation legend:\n",
      "      ns: 5.00e-02 < p <= 1.00e+00\n",
      "       *: 1.00e-02 < p <= 5.00e-02\n",
      "      **: 1.00e-03 < p <= 1.00e-02\n",
      "     ***: 1.00e-04 < p <= 1.00e-03\n",
      "    ****: p <= 1.00e-04\n",
      "\n",
      "IM/D1_Autoinhibitory vs. IM/D1_Two-Domain: Mann-Whitney-Wilcoxon test two-sided, P_val:6.023e-05 U_stat=1.770e+02\n",
      "Full Sequence_Autoinhibitory vs. Full Sequence_Two-Domain: Mann-Whitney-Wilcoxon test two-sided, P_val:7.930e-06 U_stat=1.420e+02\n",
      "FD/D2_Autoinhibitory vs. FD/D2_Two-Domain: Mann-Whitney-Wilcoxon test two-sided, P_val:1.373e-02 U_stat=2.960e+02\n"
     ]
    },
    {
     "data": {
      "text/plain": [
       "(<Axes: xlabel='Section', ylabel='Mean pLDDT'>,\n",
       " [<statannotations.Annotation.Annotation at 0x7f3bfb42f290>,\n",
       "  <statannotations.Annotation.Annotation at 0x7f3bf2447550>,\n",
       "  <statannotations.Annotation.Annotation at 0x7f3bf25cce10>])"
      ]
     },
     "execution_count": 50,
     "metadata": {},
     "output_type": "execute_result"
    },
    {
     "data": {
      "image/png": "[encoded data removed]",
      "text/plain": [
       "<Figure size 800x600 with 1 Axes>"
      ]
     },
     "metadata": {},
     "output_type": "display_data"
    }
   ],
   "source": [
    "# Now we plot \n",
    "fig, ax = plt.subplots(figsize=(8, 6))\n",
    "sns.boxplot(data=afTwoConcat, x='Section', y='Mean pLDDT', ax = ax, hue='type', palette=colors)\n",
    "ax.set_ylabel('Mean pLDDT', fontsize=14)\n",
    "ax.set_xlabel('Section', fontsize=14)\n",
    "ax.set_xticklabels(ax.get_xticklabels(), fontsize=12)\n",
    "ax.set_yticklabels(ax.get_yticklabels(), fontsize=12)\n",
    "ax.legend(title='Protein Type', title_fontsize='14', fontsize='12')\n",
    "\n",
    "# Annotate statistical significance\n",
    "pairs = [[('Full Sequence', 'Autoinhibitory'), ('Full Sequence', 'Two-Domain')],\n",
    "         [('IM/D1', 'Autoinhibitory'), ('IM/D1', 'Two-Domain')],\n",
    "         [('FD/D2', 'Autoinhibitory'), ('FD/D2', 'Two-Domain')]]\n",
    "subcat_order = ['Full Sequence', 'IM/D1', 'FD/D2']\n",
    "annotator = Annotator(ax, pairs, data=afTwoConcat, x='Section', y='Mean pLDDT', order=subcat_order, hue='type')\n",
    "annotator.configure(test='Mann-Whitney', text_format='star', loc='outside')\n",
    "annotator.apply_and_annotate()"
   ]
  },
  {
   "cell_type": "markdown",
   "metadata": {},
   "source": [
    "Then we plot against the ColabFold clusters."
   ]
  },
  {
   "cell_type": "markdown",
   "metadata": {},
   "source": [
    "# Plot for Two-State Autoinhibitory Proteins Compared to ColabFold Clusters"
   ]
  },
  {
   "cell_type": "code",
   "execution_count": 51,
   "metadata": {},
   "outputs": [
    {
     "data": {
      "text/html": [
       "<div>\n",
       "<style scoped>\n",
       "    .dataframe tbody tr th:only-of-type {\n",
       "        vertical-align: middle;\n",
       "    }\n",
       "\n",
       "    .dataframe tbody tr th {\n",
       "        vertical-align: top;\n",
       "    }\n",
       "\n",
       "    .dataframe thead th {\n",
       "        text-align: right;\n",
       "    }\n",
       "</style>\n",
       "<table border=\"1\" class=\"dataframe\">\n",
       "  <thead>\n",
       "    <tr style=\"text-align: right;\">\n",
       "      <th></th>\n",
       "      <th>uniprot</th>\n",
       "      <th>region_1</th>\n",
       "      <th>region_2</th>\n",
       "      <th>filename</th>\n",
       "      <th>Section</th>\n",
       "      <th>Mean pLDDT</th>\n",
       "      <th>Sequence Depth</th>\n",
       "      <th>cluster</th>\n",
       "    </tr>\n",
       "  </thead>\n",
       "  <tbody>\n",
       "    <tr>\n",
       "      <th>0</th>\n",
       "      <td>O08967</td>\n",
       "      <td>251-265,383-395</td>\n",
       "      <td>77-206</td>\n",
       "      <td>F-O08967-F1-model_v3.cif</td>\n",
       "      <td>Full Sequence</td>\n",
       "      <td>85.817</td>\n",
       "      <td>Full</td>\n",
       "      <td>NaN</td>\n",
       "    </tr>\n",
       "    <tr>\n",
       "      <th>1</th>\n",
       "      <td>O60741</td>\n",
       "      <td>401-479</td>\n",
       "      <td>480-604</td>\n",
       "      <td>F-O60741-F1-model_v3.cif</td>\n",
       "      <td>Full Sequence</td>\n",
       "      <td>70.564</td>\n",
       "      <td>Full</td>\n",
       "      <td>NaN</td>\n",
       "    </tr>\n",
       "    <tr>\n",
       "      <th>2</th>\n",
       "      <td>P07038</td>\n",
       "      <td>892-917</td>\n",
       "      <td>562-625</td>\n",
       "      <td>F-P07038-F1-model_v3.cif</td>\n",
       "      <td>Full Sequence</td>\n",
       "      <td>77.453</td>\n",
       "      <td>Full</td>\n",
       "      <td>NaN</td>\n",
       "    </tr>\n",
       "    <tr>\n",
       "      <th>3</th>\n",
       "      <td>P12931</td>\n",
       "      <td>249-269,151-248</td>\n",
       "      <td>84-145,524-536</td>\n",
       "      <td>F-P12931-F1-model_v3.cif</td>\n",
       "      <td>Full Sequence</td>\n",
       "      <td>84.513</td>\n",
       "      <td>Full</td>\n",
       "      <td>NaN</td>\n",
       "    </tr>\n",
       "    <tr>\n",
       "      <th>4</th>\n",
       "      <td>P21333</td>\n",
       "      <td>2142-2235</td>\n",
       "      <td>2236-2325</td>\n",
       "      <td>F-P21333-F1-model_v3.cif</td>\n",
       "      <td>Full Sequence</td>\n",
       "      <td>77.384</td>\n",
       "      <td>Full</td>\n",
       "      <td>NaN</td>\n",
       "    </tr>\n",
       "  </tbody>\n",
       "</table>\n",
       "</div>"
      ],
      "text/plain": [
       "  uniprot         region_1        region_2                  filename  \\\n",
       "0  O08967  251-265,383-395          77-206  F-O08967-F1-model_v3.cif   \n",
       "1  O60741          401-479         480-604  F-O60741-F1-model_v3.cif   \n",
       "2  P07038          892-917         562-625  F-P07038-F1-model_v3.cif   \n",
       "3  P12931  249-269,151-248  84-145,524-536  F-P12931-F1-model_v3.cif   \n",
       "4  P21333        2142-2235       2236-2325  F-P21333-F1-model_v3.cif   \n",
       "\n",
       "         Section  Mean pLDDT Sequence Depth cluster  \n",
       "0  Full Sequence      85.817           Full     NaN  \n",
       "1  Full Sequence      70.564           Full     NaN  \n",
       "2  Full Sequence      77.453           Full     NaN  \n",
       "3  Full Sequence      84.513           Full     NaN  \n",
       "4  Full Sequence      77.384           Full     NaN  "
      ]
     },
     "execution_count": 51,
     "metadata": {},
     "output_type": "execute_result"
    }
   ],
   "source": [
    "# Rename columns since we're only using autoinhibitory proteins\n",
    "rename2 = af_two.rename(columns={'complex_mean_plddt': 'Full Sequence', 'r1_mean_plddt': 'IM', 'r2_mean_plddt': 'FD'})\n",
    "cfAuto = cfAuto.rename(columns={'complex_mean_plddt': 'Full Sequence', 'r1_mean_plddt': 'IM', 'r2_mean_plddt': 'FD'})\n",
    "\n",
    "# Now rename and melt the dataframes\n",
    "af_twos = pivot_af_df(rename2)\n",
    "cfAuto_p = pivot_cf_df(cfAuto)\n",
    "\n",
    "# Add sources for the two dataframes\n",
    "af_twos['Sequence Depth'] = 'Full'\n",
    "cfAuto_p['Sequence Depth'] = 'Clusters'\n",
    "\n",
    "two_states = pd.concat([af_twos, cfAuto_p])\n",
    "two_states.head()"
   ]
  },
  {
   "cell_type": "code",
   "execution_count": 52,
   "metadata": {},
   "outputs": [
    {
     "name": "stderr",
     "output_type": "stream",
     "text": [
      "/tmp/ipykernel_2636895/1991819383.py:6: UserWarning: set_ticklabels() should only be used with a fixed number of ticks, i.e. after set_ticks() or using a FixedLocator.\n",
      "  ax.set_yticklabels(ax.get_yticklabels(), fontsize=12)\n"
     ]
    },
    {
     "name": "stdout",
     "output_type": "stream",
     "text": [
      "p-value annotation legend:\n",
      "      ns: 5.00e-02 < p <= 1.00e+00\n",
      "       *: 1.00e-02 < p <= 5.00e-02\n",
      "      **: 1.00e-03 < p <= 1.00e-02\n",
      "     ***: 1.00e-04 < p <= 1.00e-03\n",
      "    ****: p <= 1.00e-04\n",
      "\n",
      "IM_Full vs. IM_Clusters: Mann-Whitney-Wilcoxon test two-sided, P_val:2.060e-05 U_stat=2.380e+03\n",
      "Full Sequence_Full vs. Full Sequence_Clusters: Mann-Whitney-Wilcoxon test two-sided, P_val:3.087e-04 U_stat=2.242e+03\n",
      "FD_Full vs. FD_Clusters: Mann-Whitney-Wilcoxon test two-sided, P_val:2.050e-06 U_stat=2.484e+03\n"
     ]
    },
    {
     "data": {
      "image/png": "[encoded data removed]",
      "text/plain": [
       "<Figure size 800x600 with 1 Axes>"
      ]
     },
     "metadata": {},
     "output_type": "display_data"
    }
   ],
   "source": [
    "fig, ax = plt.subplots(figsize=(8, 6))\n",
    "sns.boxplot(data=two_states, x='Section', y='Mean pLDDT', ax=ax, hue='Sequence Depth', palette=colors)\n",
    "ax.set_xlabel('Section', fontsize=14)\n",
    "ax.set_ylabel('Mean pLDDT', fontsize=14)\n",
    "ax.set_xticklabels(ax.get_xticklabels(), fontsize=12)\n",
    "ax.set_yticklabels(ax.get_yticklabels(), fontsize=12)\n",
    "ax.legend(title='Sequence Depth', title_fontsize='14', fontsize='12')\n",
    "\n",
    "# Annotate statistical significance\n",
    "pairs = [[('Full Sequence', 'Full'), ('Full Sequence', 'Clusters')],\n",
    "         [('IM', 'Full'), ('IM', 'Clusters')],\n",
    "         [('FD', 'Full'), ('FD', 'Clusters')]]\n",
    "\n",
    "subcat_order = ['Full Sequence', 'IM', 'FD']\n",
    "annotator = Annotator(ax, pairs, data=two_states, x='Section', y='Mean pLDDT', order=subcat_order, hue='Sequence Depth')\n",
    "annotator.configure(test='Mann-Whitney', text_format='star', loc='outside')\n",
    "annotator.apply_and_annotate()\n",
    "\n",
    "plt.tight_layout()\n",
    "plt.savefig('./project_pipeline/data/figures/af_two_states_plddt1.png')"
   ]
  },
  {
   "cell_type": "markdown",
   "metadata": {},
   "source": [
    "Now we do the reverse"
   ]
  },
  {
   "cell_type": "code",
   "execution_count": 53,
   "metadata": {},
   "outputs": [],
   "source": [
    "# # Reverse Section and source in the previous plot  \n",
    "# fig, ax = plt.subplots(figsize=(8, 6))\n",
    "# sns.boxplot(data=two_states, x='Sequence Depth', y='Mean pLDDT', ax=ax, hue='Section', palette=colors)\n",
    "# ax.set_title('Two-state Protein pLDDTs by Source')\n",
    "# ax.set_xlabel('Source')\n",
    "# ax.set_ylabel('Mean pLDDT')\n",
    "# ax.legend(title='Section')\n",
    "\n",
    "# # Annotate statistical significance\n",
    "# pairs = [[('Full', 'Full Sequence'), ('Full', 'IM/D1')],\n",
    "#          [('Full', 'Full Sequence'), ('Full', 'FD/D2')],\n",
    "#          [('Full', 'IM/D1'), ('Full', 'FD/D2')],\n",
    "#          [('Clusters', 'Full Sequence'), ('Clusters', 'IM/D1')],\n",
    "#          [('Clusters', 'Full Sequence'), ('Clusters', 'FD/D2')],\n",
    "#          [('Clusters', 'IM/D1'), ('Clusters', 'FD/D2')]]\n",
    "\n",
    "# subcat_order = ['Full', 'Clusters']\n",
    "# annotator = Annotator(ax, pairs, data=two_states, x='Sequence Depth', y='Mean pLDDT', order=subcat_order, hue='Section')\n",
    "# annotator.configure(test='Mann-Whitney', text_format='star', loc='inside')\n",
    "# annotator.apply_and_annotate()\n",
    "\n",
    "# plt.savefig('./project_pipeline/data/figures/af_two_states_plddt2.png')"
   ]
  }
 ],
 "metadata": {
  "kernelspec": {
   "display_name": "analysis",
   "language": "python",
   "name": "python3"
  },
  "language_info": {
   "codemirror_mode": {
    "name": "ipython",
    "version": 3
   },
   "file_extension": ".py",
   "mimetype": "text/x-python",
   "name": "python",
   "nbconvert_exporter": "python",
   "pygments_lexer": "ipython3",
   "version": "3.11.8"
  }
 },
 "nbformat": 4,
 "nbformat_minor": 2
}
