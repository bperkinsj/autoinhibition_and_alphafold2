{
 "cells": [
  {
   "cell_type": "markdown",
   "metadata": {},
   "source": [
    "A Jupyter notebook for analyzing the pLDDT statistics of the AlphaFold2 and Clusters autoinhibitory and Two-Domain proteins."
   ]
  },
  {
   "cell_type": "code",
   "execution_count": 2,
   "metadata": {},
   "outputs": [],
   "source": [
    "import pandas as pd\n",
    "import seaborn as sns\n",
    "import matplotlib as mpl\n",
    "import matplotlib.pyplot as plt\n",
    "import matplotlib.patches as mpatches\n",
    "import scienceplots\n",
    "from scipy.stats import mannwhitneyu\n",
    "from statannotations.Annotator import Annotator"
   ]
  },
  {
   "cell_type": "code",
   "execution_count": 3,
   "metadata": {},
   "outputs": [],
   "source": [
    "'''\n",
    "Load dataframes\n",
    "'''\n",
    "\n",
    "afAuto = pd.read_csv('./project_pipeline/data/af_autoinhibited_pLDDT.tsv', sep='\\t').astype('object')\n",
    "afMulti = pd.read_csv('./project_pipeline/data/af_multi_domain_pLDDT.tsv', sep='\\t').astype('object')\n",
    "cfAuto = pd.read_csv('./project_pipeline/data/cf_autoinhibited_pLDDT.tsv', sep='\\t').astype('object')\n",
    "cfMulti = pd.read_csv('./project_pipeline/data/cf_multi_domain_pLDDT.tsv', sep='\\t').astype('object')\n",
    "\n",
    "# Set style\n",
    "plt.style.use('science')\n",
    "\n",
    "# Slight fixes to our dataframes to let the functions below work\n",
    "\n",
    "\n",
    "afAuto = afAuto.drop(columns=['pdb', 'complex_rmsd', 'percent_region_1', 'percent_region_2', \n",
    "                    '2_aligned', '2_comp', 'conformation', 'state', 'organism', \n",
    "                    'date', 'notes'])\n",
    "\n",
    "afMulti = afMulti.drop(columns=['mean_pae_1_1', 'mean_pae_1_2', 'mean_pae_2_2'])\n",
    "\n",
    "cfAuto = cfAuto.drop(columns=['conformation', 'state'])\n",
    "\n",
    "cfMulti = cfMulti.drop(columns=['mean_pae_1_1', 'mean_pae_1_2', 'mean_pae_2_2', 'af_filename'])"
   ]
  },
  {
   "cell_type": "code",
   "execution_count": 4,
   "metadata": {},
   "outputs": [
    {
     "name": "stdout",
     "output_type": "stream",
     "text": [
      "['#e41a1c', '#377eb8', '#4daf4a', '#984ea3', '#ff7f00', '#ffff33', '#a65628', '#f781bf', '#999999']\n"
     ]
    },
    {
     "data": {
      "text/html": [
       "<svg  width=\"495\" height=\"55\"><rect x=\"0\" y=\"0\" width=\"55\" height=\"55\" style=\"fill:#e41a1c;stroke-width:2;stroke:rgb(255,255,255)\"/><rect x=\"55\" y=\"0\" width=\"55\" height=\"55\" style=\"fill:#377eb8;stroke-width:2;stroke:rgb(255,255,255)\"/><rect x=\"110\" y=\"0\" width=\"55\" height=\"55\" style=\"fill:#4daf4a;stroke-width:2;stroke:rgb(255,255,255)\"/><rect x=\"165\" y=\"0\" width=\"55\" height=\"55\" style=\"fill:#984ea3;stroke-width:2;stroke:rgb(255,255,255)\"/><rect x=\"220\" y=\"0\" width=\"55\" height=\"55\" style=\"fill:#ff7f00;stroke-width:2;stroke:rgb(255,255,255)\"/><rect x=\"275\" y=\"0\" width=\"55\" height=\"55\" style=\"fill:#ffff33;stroke-width:2;stroke:rgb(255,255,255)\"/><rect x=\"330\" y=\"0\" width=\"55\" height=\"55\" style=\"fill:#a65628;stroke-width:2;stroke:rgb(255,255,255)\"/><rect x=\"385\" y=\"0\" width=\"55\" height=\"55\" style=\"fill:#f781bf;stroke-width:2;stroke:rgb(255,255,255)\"/><rect x=\"440\" y=\"0\" width=\"55\" height=\"55\" style=\"fill:#999999;stroke-width:2;stroke:rgb(255,255,255)\"/></svg>"
      ],
      "text/plain": [
       "['#e41a1c',\n",
       " '#377eb8',\n",
       " '#4daf4a',\n",
       " '#984ea3',\n",
       " '#ff7f00',\n",
       " '#ffff33',\n",
       " '#a65628',\n",
       " '#f781bf',\n",
       " '#999999']"
      ]
     },
     "execution_count": 4,
     "metadata": {},
     "output_type": "execute_result"
    }
   ],
   "source": [
    "\n",
    "# Get the hex codes for the colors so we can assign them to categories\n",
    "pal = sns.color_palette('Set1')\n",
    "print(pal.as_hex())\n",
    "\n",
    "# Set the color palette. Our categories are \"Single Domain\", \"Two-Domain\", and \"Autoinhibitory\"\n",
    "colors = {'Single Domain': pal[0], 'Two-Domain': pal[1], 'Autoinhibitory': pal[2], 'Full': pal[3], 'Clusters': pal[7], 'Two-State AI': pal[4]}\n",
    "pal.as_hex()"
   ]
  },
  {
   "cell_type": "markdown",
   "metadata": {},
   "source": [
    "We pivot our dataframes in order to graph them"
   ]
  },
  {
   "cell_type": "code",
   "execution_count": 5,
   "metadata": {},
   "outputs": [],
   "source": [
    "# Functions to rename columns\n",
    "\n",
    "def rename_auto_columns(df):\n",
    "    df = df.rename(columns={'complex_mean_plddt': 'Full Sequence', 'r1_mean_plddt': 'IM/D1', 'r2_mean_plddt': 'FD/D2'})\n",
    "\n",
    "    return df\n",
    "\n",
    "def rename_multi_columns(df):\n",
    "    df = df.rename(columns={'complex_mean_plddt': 'Full Sequence', 'r1_mean_plddt': 'IM/D1', 'r2_mean_plddt': 'FD/D2'})\n",
    "\n",
    "    return df\n",
    "\n",
    "# Quick functions to melt dataframes\n",
    "def pivot_af_df(df):\n",
    "\n",
    "    df = df.melt(id_vars=['uniprot', 'region_1', 'region_2', 'af_filename'], var_name='Section', value_name='Mean pLDDT')\n",
    "    df['Mean pLDDT'] = df['Mean pLDDT'].astype(float)\n",
    "\n",
    "    return df\n",
    "\n",
    "def pivot_cf_df(df):\n",
    "\n",
    "    df = df.melt(id_vars=['uniprot', 'cluster', 'region_1', 'region_2', 'cf_filename'], var_name='Section', value_name='Mean pLDDT')\n",
    "    df['Mean pLDDT'] = df['Mean pLDDT'].astype(float)\n",
    "\n",
    "    return df\n",
    "\n",
    "# Add signifier column\n",
    "def add_auto_type(df):\n",
    "    df['type'] = 'Autoinhibitory'\n",
    "\n",
    "    return df\n",
    "\n",
    "def add_multi_type(df):\n",
    "    df['type'] = 'Two-Domain'\n",
    "\n",
    "    return df"
   ]
  },
  {
   "cell_type": "code",
   "execution_count": 15,
   "metadata": {},
   "outputs": [
    {
     "name": "stdout",
     "output_type": "stream",
     "text": [
      "123\n"
     ]
    }
   ],
   "source": [
    "afAuto = afAuto.drop_duplicates(subset=['uniprot'])\n",
    "print(len(afAuto))\n"
   ]
  },
  {
   "cell_type": "code",
   "execution_count": 7,
   "metadata": {},
   "outputs": [],
   "source": [
    "# Rename columns\n",
    "af_auto = rename_auto_columns(afAuto)\n",
    "af_multi = rename_multi_columns(afMulti)\n",
    "cf_auto = rename_auto_columns(cfAuto)\n",
    "cf_multi = rename_multi_columns(cfMulti)\n",
    "\n",
    "# Pivot dataframes\n",
    "afAuto_p = pivot_af_df(af_auto)\n",
    "afMulti_p = pivot_af_df(af_multi)\n",
    "cfAuto_p = pivot_cf_df(cf_auto)\n",
    "cfMulti_p = pivot_cf_df(cf_multi)\n",
    "\n",
    "# Add type column\n",
    "afAuto_p = add_auto_type(afAuto_p)\n",
    "afMulti_p = add_multi_type(afMulti_p)\n",
    "cfAuto_p = add_auto_type(cfAuto_p)\n",
    "cfMulti_p = add_multi_type(cfMulti_p)\n",
    "\n",
    "# Concatenate dataframes\n",
    "af = pd.concat([afAuto_p, afMulti_p])\n",
    "cf = pd.concat([cfAuto_p, cfMulti_p])"
   ]
  },
  {
   "cell_type": "markdown",
   "metadata": {},
   "source": [
    "Now we chart them as boxplots"
   ]
  },
  {
   "cell_type": "markdown",
   "metadata": {},
   "source": [
    "# Plot for All Autoinhibitory Proteins Compared to Multi-Domain Proteins"
   ]
  },
  {
   "cell_type": "code",
   "execution_count": 8,
   "metadata": {},
   "outputs": [
    {
     "name": "stderr",
     "output_type": "stream",
     "text": [
      "/tmp/ipykernel_1086803/2659350596.py:6: UserWarning: set_ticklabels() should only be used with a fixed number of ticks, i.e. after set_ticks() or using a FixedLocator.\n",
      "  ax.set_yticklabels(ax.get_yticklabels(), fontsize=12)\n"
     ]
    },
    {
     "name": "stdout",
     "output_type": "stream",
     "text": [
      "p-value annotation legend:\n",
      "      ns: 5.00e-02 < p <= 1.00e+00\n",
      "       *: 1.00e-02 < p <= 5.00e-02\n",
      "      **: 1.00e-03 < p <= 1.00e-02\n",
      "     ***: 1.00e-04 < p <= 1.00e-03\n",
      "    ****: p <= 1.00e-04\n",
      "\n",
      "IM/D1_Autoinhibitory vs. IM/D1_Two-Domain: Mann-Whitney-Wilcoxon test two-sided, P_val:1.328e-10 U_stat=1.267e+03\n",
      "Full Sequence_Autoinhibitory vs. Full Sequence_Two-Domain: Mann-Whitney-Wilcoxon test two-sided, P_val:1.824e-16 U_stat=7.060e+02\n",
      "FD/D2_Autoinhibitory vs. FD/D2_Two-Domain: Mann-Whitney-Wilcoxon test two-sided, P_val:1.147e-07 U_stat=1.615e+03\n"
     ]
    },
    {
     "data": {
      "image/png": "[encoded data removed]",
      "text/plain": [
       "<Figure size 500x500 with 1 Axes>"
      ]
     },
     "metadata": {},
     "output_type": "display_data"
    }
   ],
   "source": [
    "\n",
    "\n",
    "fig, ax = plt.subplots(figsize=(5, 5))\n",
    "sns.boxplot(data=af, x='Section', y='Mean pLDDT', ax = ax, hue='type', palette=colors)\n",
    "ax.set_ylabel('Mean pLDDT', fontsize=14)\n",
    "ax.set_xlabel('Section', fontsize=14)\n",
    "ax.set_xticklabels(ax.get_xticklabels(), fontsize=12)\n",
    "ax.set_yticklabels(ax.get_yticklabels(), fontsize=12)\n",
    "ax.legend(title='Protein Type', title_fontsize='14', fontsize='12')\n",
    "\n",
    "\n",
    "# Annotate statistical significance\n",
    "pairs = [[('Full Sequence', 'Autoinhibitory'), ('Full Sequence', 'Two-Domain')],\n",
    "         [('IM/D1', 'Autoinhibitory'), ('IM/D1', 'Two-Domain')],\n",
    "         [('FD/D2', 'Autoinhibitory'), ('FD/D2', 'Two-Domain')]]\n",
    "subcat_order = ['Full Sequence', 'IM/D1', 'FD/D2']\n",
    "annotator = Annotator(ax, pairs, data=af, x='Section', y='Mean pLDDT', order=subcat_order, hue='type')\n",
    "annotator.configure(test='Mann-Whitney', text_format='star', loc='outside')\n",
    "annotator.apply_and_annotate()\n",
    "\n",
    "# Save the figure\n",
    "plt.style.use('science')\n",
    "plt.tight_layout()\n",
    "plt.savefig('./project_pipeline/data/figures/af_auto_multi_plddt.png', dpi=300, bbox_inches='tight')"
   ]
  },
  {
   "cell_type": "markdown",
   "metadata": {},
   "source": [
    "Let's do a boxplot for the reverse"
   ]
  },
  {
   "cell_type": "code",
   "execution_count": 9,
   "metadata": {},
   "outputs": [],
   "source": [
    "# fig, ax = plt.subplots(figsize=(12, 8))\n",
    "# sns.boxplot(data=af, x='type', y='Mean pLDDT', ax = ax, hue='Section', palette=colors)\n",
    "# ax.set_ylabel('Mean pLDDT')\n",
    "# ax.set_xlabel('Section')\n",
    "# ax.legend(title='Section')\n",
    "\n",
    "# # Annotate statistical significance\n",
    "# pairs = [[('Autoinhibitory', 'Full Sequence'), ('Autoinhibitory', 'IM/D1')],\n",
    "#          [('Autoinhibitory', 'Full Sequence'), ('Autoinhibitory', 'FD/D2')],\n",
    "#          [('Autoinhibitory', 'IM/D1'), ('Autoinhibitory', 'FD/D2')],\n",
    "#          [('Two-Domain', 'Full Sequence'), ('Two-Domain', 'IM/D1')],\n",
    "#          [('Two-Domain', 'Full Sequence'), ('Two-Domain', 'FD/D2')],\n",
    "#          [('Two-Domain', 'IM/D1'), ('Two-Domain', 'FD/D2')]]\n",
    "# subcat_order = ['Autoinhibitory', 'Two-Domain']\n",
    "# annotator = Annotator(ax, pairs, data=af, x='type', y='Mean pLDDT', order=subcat_order, hue='Section')\n",
    "# annotator.configure(test='Mann-Whitney', text_format='star', loc='outside')\n",
    "# annotator.apply_and_annotate()\n",
    "\n",
    "# # Save the figure\n",
    "# plt.savefig('./project_pipeline/data/figures/af_auto_multi_plddt2.png')"
   ]
  },
  {
   "cell_type": "markdown",
   "metadata": {},
   "source": [
    "There are 123 proteins in the autoinhibited AlphaFold2 and 54 in the Two-Domain Alphafold2."
   ]
  },
  {
   "cell_type": "markdown",
   "metadata": {},
   "source": [
    "Now we'll look at only those proteins with two states"
   ]
  },
  {
   "cell_type": "code",
   "execution_count": 10,
   "metadata": {},
   "outputs": [
    {
     "data": {
      "text/html": [
       "<div>\n",
       "<style scoped>\n",
       "    .dataframe tbody tr th:only-of-type {\n",
       "        vertical-align: middle;\n",
       "    }\n",
       "\n",
       "    .dataframe tbody tr th {\n",
       "        vertical-align: top;\n",
       "    }\n",
       "\n",
       "    .dataframe thead th {\n",
       "        text-align: right;\n",
       "    }\n",
       "</style>\n",
       "<table border=\"1\" class=\"dataframe\">\n",
       "  <thead>\n",
       "    <tr style=\"text-align: right;\">\n",
       "      <th></th>\n",
       "      <th>uniprot</th>\n",
       "      <th>region_1</th>\n",
       "      <th>region_2</th>\n",
       "      <th>af_filename</th>\n",
       "      <th>Section</th>\n",
       "      <th>Mean pLDDT</th>\n",
       "    </tr>\n",
       "  </thead>\n",
       "  <tbody>\n",
       "    <tr>\n",
       "      <th>0</th>\n",
       "      <td>O08967</td>\n",
       "      <td>251-265,383-395</td>\n",
       "      <td>77-206</td>\n",
       "      <td>F-O08967-F1-model_v3.cif</td>\n",
       "      <td>Full Sequence</td>\n",
       "      <td>85.817</td>\n",
       "    </tr>\n",
       "    <tr>\n",
       "      <th>1</th>\n",
       "      <td>O60741</td>\n",
       "      <td>401-479</td>\n",
       "      <td>480-604</td>\n",
       "      <td>F-O60741-F1-model_v3.cif</td>\n",
       "      <td>Full Sequence</td>\n",
       "      <td>70.564</td>\n",
       "    </tr>\n",
       "    <tr>\n",
       "      <th>2</th>\n",
       "      <td>P07038</td>\n",
       "      <td>892-917</td>\n",
       "      <td>562-625</td>\n",
       "      <td>F-P07038-F1-model_v3.cif</td>\n",
       "      <td>Full Sequence</td>\n",
       "      <td>77.453</td>\n",
       "    </tr>\n",
       "    <tr>\n",
       "      <th>3</th>\n",
       "      <td>P12931</td>\n",
       "      <td>249-269,151-248</td>\n",
       "      <td>84-145,524-536</td>\n",
       "      <td>F-P12931-F1-model_v3.cif</td>\n",
       "      <td>Full Sequence</td>\n",
       "      <td>84.513</td>\n",
       "    </tr>\n",
       "    <tr>\n",
       "      <th>4</th>\n",
       "      <td>P21333</td>\n",
       "      <td>2142-2235</td>\n",
       "      <td>2236-2325</td>\n",
       "      <td>F-P21333-F1-model_v3.cif</td>\n",
       "      <td>Full Sequence</td>\n",
       "      <td>77.384</td>\n",
       "    </tr>\n",
       "  </tbody>\n",
       "</table>\n",
       "</div>"
      ],
      "text/plain": [
       "  uniprot         region_1        region_2               af_filename  \\\n",
       "0  O08967  251-265,383-395          77-206  F-O08967-F1-model_v3.cif   \n",
       "1  O60741          401-479         480-604  F-O60741-F1-model_v3.cif   \n",
       "2  P07038          892-917         562-625  F-P07038-F1-model_v3.cif   \n",
       "3  P12931  249-269,151-248  84-145,524-536  F-P12931-F1-model_v3.cif   \n",
       "4  P21333        2142-2235       2236-2325  F-P21333-F1-model_v3.cif   \n",
       "\n",
       "         Section  Mean pLDDT  \n",
       "0  Full Sequence      85.817  \n",
       "1  Full Sequence      70.564  \n",
       "2  Full Sequence      77.453  \n",
       "3  Full Sequence      84.513  \n",
       "4  Full Sequence      77.384  "
      ]
     },
     "execution_count": 10,
     "metadata": {},
     "output_type": "execute_result"
    }
   ],
   "source": [
    "# Get list of two-state proteins\n",
    "two = pd.read_csv('./project_pipeline/data/two_states.tsv', sep='\\t').astype('object')\n",
    "twolist = two['uniprot'].unique().tolist()\n",
    "\n",
    "# Subset dataframe\n",
    "af_two = afAuto[afAuto['uniprot'].isin(twolist)].reset_index(drop=True)\n",
    "\n",
    "# Now rename and melt the dataframes\n",
    "rename = rename_auto_columns(af_two)\n",
    "af_twos = pivot_af_df(rename)\n",
    "af_twos.head()"
   ]
  },
  {
   "cell_type": "markdown",
   "metadata": {},
   "source": [
    "Now we'll plot those proteins with two states. First we plot against multi-domain proteins"
   ]
  },
  {
   "cell_type": "code",
   "execution_count": 11,
   "metadata": {},
   "outputs": [
    {
     "data": {
      "text/html": [
       "<div>\n",
       "<style scoped>\n",
       "    .dataframe tbody tr th:only-of-type {\n",
       "        vertical-align: middle;\n",
       "    }\n",
       "\n",
       "    .dataframe tbody tr th {\n",
       "        vertical-align: top;\n",
       "    }\n",
       "\n",
       "    .dataframe thead th {\n",
       "        text-align: right;\n",
       "    }\n",
       "</style>\n",
       "<table border=\"1\" class=\"dataframe\">\n",
       "  <thead>\n",
       "    <tr style=\"text-align: right;\">\n",
       "      <th></th>\n",
       "      <th>uniprot</th>\n",
       "      <th>region_1</th>\n",
       "      <th>region_2</th>\n",
       "      <th>af_filename</th>\n",
       "      <th>Section</th>\n",
       "      <th>Mean pLDDT</th>\n",
       "      <th>type</th>\n",
       "    </tr>\n",
       "  </thead>\n",
       "  <tbody>\n",
       "    <tr>\n",
       "      <th>208</th>\n",
       "      <td>Q63QJ1</td>\n",
       "      <td>71-219</td>\n",
       "      <td>260-558</td>\n",
       "      <td>AF-Q63QJ1-F1-model_v4.cif</td>\n",
       "      <td>FD/D2</td>\n",
       "      <td>93.937</td>\n",
       "      <td>Two-Domain</td>\n",
       "    </tr>\n",
       "    <tr>\n",
       "      <th>209</th>\n",
       "      <td>Q8KHY3</td>\n",
       "      <td>82-257</td>\n",
       "      <td>361-631</td>\n",
       "      <td>AF-Q8KHY3-F1-model_v4.cif</td>\n",
       "      <td>FD/D2</td>\n",
       "      <td>97.087</td>\n",
       "      <td>Two-Domain</td>\n",
       "    </tr>\n",
       "    <tr>\n",
       "      <th>210</th>\n",
       "      <td>Q2TU34</td>\n",
       "      <td>13-198</td>\n",
       "      <td>203-332</td>\n",
       "      <td>AF-Q2TU34-F1-model_v4.cif</td>\n",
       "      <td>FD/D2</td>\n",
       "      <td>97.772</td>\n",
       "      <td>Two-Domain</td>\n",
       "    </tr>\n",
       "    <tr>\n",
       "      <th>211</th>\n",
       "      <td>B7LGE4</td>\n",
       "      <td>59-204</td>\n",
       "      <td>224-301</td>\n",
       "      <td>AF-B7LGE4-F1-model_v4.cif</td>\n",
       "      <td>FD/D2</td>\n",
       "      <td>98.220</td>\n",
       "      <td>Two-Domain</td>\n",
       "    </tr>\n",
       "    <tr>\n",
       "      <th>212</th>\n",
       "      <td>A9T230</td>\n",
       "      <td>93-291</td>\n",
       "      <td>295-424</td>\n",
       "      <td>AF-A9T230-F1-model_v4.cif</td>\n",
       "      <td>FD/D2</td>\n",
       "      <td>96.779</td>\n",
       "      <td>Two-Domain</td>\n",
       "    </tr>\n",
       "  </tbody>\n",
       "</table>\n",
       "</div>"
      ],
      "text/plain": [
       "    uniprot region_1 region_2                af_filename Section  Mean pLDDT  \\\n",
       "208  Q63QJ1   71-219  260-558  AF-Q63QJ1-F1-model_v4.cif   FD/D2      93.937   \n",
       "209  Q8KHY3   82-257  361-631  AF-Q8KHY3-F1-model_v4.cif   FD/D2      97.087   \n",
       "210  Q2TU34   13-198  203-332  AF-Q2TU34-F1-model_v4.cif   FD/D2      97.772   \n",
       "211  B7LGE4   59-204  224-301  AF-B7LGE4-F1-model_v4.cif   FD/D2      98.220   \n",
       "212  A9T230   93-291  295-424  AF-A9T230-F1-model_v4.cif   FD/D2      96.779   \n",
       "\n",
       "           type  \n",
       "208  Two-Domain  \n",
       "209  Two-Domain  \n",
       "210  Two-Domain  \n",
       "211  Two-Domain  \n",
       "212  Two-Domain  "
      ]
     },
     "execution_count": 11,
     "metadata": {},
     "output_type": "execute_result"
    }
   ],
   "source": [
    "# Concatenate dataframes\n",
    "af_twos['type'] = 'Two-State AI'\n",
    "afTwoConcat = pd.concat([af_twos, afMulti_p]).reset_index(drop=True)\n",
    "afTwoConcat.tail()"
   ]
  },
  {
   "cell_type": "markdown",
   "metadata": {},
   "source": [
    "# Plot for Two-State Autoinhibitory Proteins Compared To Multi-Domain Proteins"
   ]
  },
  {
   "cell_type": "code",
   "execution_count": 12,
   "metadata": {},
   "outputs": [
    {
     "name": "stderr",
     "output_type": "stream",
     "text": [
      "/tmp/ipykernel_1086803/1244426239.py:7: UserWarning: set_ticklabels() should only be used with a fixed number of ticks, i.e. after set_ticks() or using a FixedLocator.\n",
      "  ax.set_yticklabels(ax.get_yticklabels(), fontsize=12)\n"
     ]
    },
    {
     "name": "stdout",
     "output_type": "stream",
     "text": [
      "p-value annotation legend:\n",
      "      ns: 5.00e-02 < p <= 1.00e+00\n",
      "       *: 1.00e-02 < p <= 5.00e-02\n",
      "      **: 1.00e-03 < p <= 1.00e-02\n",
      "     ***: 1.00e-04 < p <= 1.00e-03\n",
      "    ****: p <= 1.00e-04\n",
      "\n",
      "IM/D1_Two-State AI vs. IM/D1_Two-Domain: Mann-Whitney-Wilcoxon test two-sided, P_val:3.834e-05 U_stat=1.650e+02\n",
      "Full Sequence_Two-State AI vs. Full Sequence_Two-Domain: Mann-Whitney-Wilcoxon test two-sided, P_val:9.229e-06 U_stat=1.410e+02\n",
      "FD/D2_Two-State AI vs. FD/D2_Two-Domain: Mann-Whitney-Wilcoxon test two-sided, P_val:1.272e-02 U_stat=2.880e+02\n"
     ]
    },
    {
     "data": {
      "image/png": "[encoded data removed]",
      "text/plain": [
       "<Figure size 500x500 with 1 Axes>"
      ]
     },
     "metadata": {},
     "output_type": "display_data"
    }
   ],
   "source": [
    "# Now we plot \n",
    "fig, ax = plt.subplots(figsize=(5, 5))\n",
    "sns.boxplot(data=afTwoConcat, x='Section', y='Mean pLDDT', ax = ax, hue='type', palette=colors)\n",
    "ax.set_ylabel('Mean pLDDT', fontsize=14)\n",
    "ax.set_xlabel('Section', fontsize=14)\n",
    "ax.set_xticklabels(ax.get_xticklabels(), fontsize=12)\n",
    "ax.set_yticklabels(ax.get_yticklabels(), fontsize=12)\n",
    "ax.legend(title='Protein Type', title_fontsize='14', fontsize='12')\n",
    "\n",
    "# Annotate statistical significance\n",
    "pairs = [[('Full Sequence', 'Two-State AI'), ('Full Sequence', 'Two-Domain')],\n",
    "         [('IM/D1', 'Two-State AI'), ('IM/D1', 'Two-Domain')],\n",
    "         [('FD/D2', 'Two-State AI'), ('FD/D2', 'Two-Domain')]]\n",
    "subcat_order = ['Full Sequence', 'IM/D1', 'FD/D2']\n",
    "annotator = Annotator(ax, pairs, data=afTwoConcat, x='Section', y='Mean pLDDT', order=subcat_order, hue='type')\n",
    "annotator.configure(test='Mann-Whitney', text_format='star', loc='outside')\n",
    "annotator.apply_and_annotate()\n",
    "\n",
    "plt.savefig('./project_pipeline/data/figures/af_two_states_plddt.png')"
   ]
  },
  {
   "cell_type": "markdown",
   "metadata": {},
   "source": [
    "## Autoinhibitory vs Obligate Proteins"
   ]
  },
  {
   "cell_type": "markdown",
   "metadata": {},
   "source": [
    "Next, plot all autoinhibitory proteins vs obligate multi-domain proteins."
   ]
  },
  {
   "cell_type": "code",
   "execution_count": 13,
   "metadata": {},
   "outputs": [
    {
     "data": {
      "text/html": [
       "<div>\n",
       "<style scoped>\n",
       "    .dataframe tbody tr th:only-of-type {\n",
       "        vertical-align: middle;\n",
       "    }\n",
       "\n",
       "    .dataframe tbody tr th {\n",
       "        vertical-align: top;\n",
       "    }\n",
       "\n",
       "    .dataframe thead th {\n",
       "        text-align: right;\n",
       "    }\n",
       "</style>\n",
       "<table border=\"1\" class=\"dataframe\">\n",
       "  <thead>\n",
       "    <tr style=\"text-align: right;\">\n",
       "      <th></th>\n",
       "      <th>uniprot</th>\n",
       "      <th>domains</th>\n",
       "      <th>region_1</th>\n",
       "      <th>region_2</th>\n",
       "      <th>notes</th>\n",
       "    </tr>\n",
       "  </thead>\n",
       "  <tbody>\n",
       "    <tr>\n",
       "      <th>0</th>\n",
       "      <td>P0AG30</td>\n",
       "      <td>48-123</td>\n",
       "      <td>1-47</td>\n",
       "      <td>48-123</td>\n",
       "      <td>NaN</td>\n",
       "    </tr>\n",
       "    <tr>\n",
       "      <th>1</th>\n",
       "      <td>P23687</td>\n",
       "      <td>NaN</td>\n",
       "      <td>1-426</td>\n",
       "      <td>427-710</td>\n",
       "      <td>NaN</td>\n",
       "    </tr>\n",
       "    <tr>\n",
       "      <th>2</th>\n",
       "      <td>O75962</td>\n",
       "      <td>65-210,1292-1467,1480-1591,1656-1721,1969-2145...</td>\n",
       "      <td>1292-1467</td>\n",
       "      <td>1480-1591</td>\n",
       "      <td>Region 1 = DH1, region 2 = PH1</td>\n",
       "    </tr>\n",
       "    <tr>\n",
       "      <th>3</th>\n",
       "      <td>P84135</td>\n",
       "      <td>200-416</td>\n",
       "      <td>1-199</td>\n",
       "      <td>200-416</td>\n",
       "      <td>Region 2 = Glycosyl hydrolase family 4 C-terminal</td>\n",
       "    </tr>\n",
       "    <tr>\n",
       "      <th>4</th>\n",
       "      <td>O69275</td>\n",
       "      <td>227-427</td>\n",
       "      <td>1-226</td>\n",
       "      <td>227-427</td>\n",
       "      <td>NaN</td>\n",
       "    </tr>\n",
       "  </tbody>\n",
       "</table>\n",
       "</div>"
      ],
      "text/plain": [
       "  uniprot                                            domains   region_1  \\\n",
       "0  P0AG30                                             48-123       1-47   \n",
       "1  P23687                                                NaN      1-426   \n",
       "2  O75962  65-210,1292-1467,1480-1591,1656-1721,1969-2145...  1292-1467   \n",
       "3  P84135                                            200-416      1-199   \n",
       "4  O69275                                            227-427      1-226   \n",
       "\n",
       "    region_2                                              notes  \n",
       "0     48-123                                                NaN  \n",
       "1    427-710                                                NaN  \n",
       "2  1480-1591                     Region 1 = DH1, region 2 = PH1  \n",
       "3    200-416  Region 2 = Glycosyl hydrolase family 4 C-terminal  \n",
       "4    227-427                                                NaN  "
      ]
     },
     "execution_count": 13,
     "metadata": {},
     "output_type": "execute_result"
    }
   ],
   "source": [
    "# Get list of obligate proteins\n",
    "si = pd.read_csv('./project_pipeline/data/sidhanta_domains.csv').astype('object')\n",
    "silist = si['uniprot'].unique()\n",
    "\n",
    "# Subset dataframe\n",
    "afObli_p = afMulti_p[afMulti_p['uniprot'].isin(silist)].reset_index(drop=True)\n",
    "\n",
    "af2 = pd.concat([afAuto_p, afObli_p]).reset_index(drop=True)\n",
    "\n",
    "si.head()"
   ]
  },
  {
   "cell_type": "code",
   "execution_count": 14,
   "metadata": {},
   "outputs": [
    {
     "name": "stderr",
     "output_type": "stream",
     "text": [
      "/tmp/ipykernel_1086803/3970762854.py:7: UserWarning: set_ticklabels() should only be used with a fixed number of ticks, i.e. after set_ticks() or using a FixedLocator.\n",
      "  ax.set_yticklabels(ax.get_yticklabels(), fontsize=12)\n"
     ]
    },
    {
     "ename": "ValueError",
     "evalue": "Missing hue value `Two-Domain` in type (specified in `pairs`)",
     "output_type": "error",
     "traceback": [
      "\u001b[0;31m---------------------------------------------------------------------------\u001b[0m",
      "\u001b[0;31mValueError\u001b[0m                                Traceback (most recent call last)",
      "Cell \u001b[0;32mIn[14], line 15\u001b[0m\n\u001b[1;32m     11\u001b[0m pairs \u001b[38;5;241m=\u001b[39m [[(\u001b[38;5;124m'\u001b[39m\u001b[38;5;124mFull Sequence\u001b[39m\u001b[38;5;124m'\u001b[39m, \u001b[38;5;124m'\u001b[39m\u001b[38;5;124mAutoinhibitory\u001b[39m\u001b[38;5;124m'\u001b[39m), (\u001b[38;5;124m'\u001b[39m\u001b[38;5;124mFull Sequence\u001b[39m\u001b[38;5;124m'\u001b[39m, \u001b[38;5;124m'\u001b[39m\u001b[38;5;124mTwo-Domain\u001b[39m\u001b[38;5;124m'\u001b[39m)],\n\u001b[1;32m     12\u001b[0m          [(\u001b[38;5;124m'\u001b[39m\u001b[38;5;124mIM/D1\u001b[39m\u001b[38;5;124m'\u001b[39m, \u001b[38;5;124m'\u001b[39m\u001b[38;5;124mAutoinhibitory\u001b[39m\u001b[38;5;124m'\u001b[39m), (\u001b[38;5;124m'\u001b[39m\u001b[38;5;124mIM/D1\u001b[39m\u001b[38;5;124m'\u001b[39m, \u001b[38;5;124m'\u001b[39m\u001b[38;5;124mTwo-Domain\u001b[39m\u001b[38;5;124m'\u001b[39m)],\n\u001b[1;32m     13\u001b[0m          [(\u001b[38;5;124m'\u001b[39m\u001b[38;5;124mFD/D2\u001b[39m\u001b[38;5;124m'\u001b[39m, \u001b[38;5;124m'\u001b[39m\u001b[38;5;124mAutoinhibitory\u001b[39m\u001b[38;5;124m'\u001b[39m), (\u001b[38;5;124m'\u001b[39m\u001b[38;5;124mFD/D2\u001b[39m\u001b[38;5;124m'\u001b[39m, \u001b[38;5;124m'\u001b[39m\u001b[38;5;124mTwo-Domain\u001b[39m\u001b[38;5;124m'\u001b[39m)]]\n\u001b[1;32m     14\u001b[0m subcat_order \u001b[38;5;241m=\u001b[39m [\u001b[38;5;124m'\u001b[39m\u001b[38;5;124mFull Sequence\u001b[39m\u001b[38;5;124m'\u001b[39m, \u001b[38;5;124m'\u001b[39m\u001b[38;5;124mIM/D1\u001b[39m\u001b[38;5;124m'\u001b[39m, \u001b[38;5;124m'\u001b[39m\u001b[38;5;124mFD/D2\u001b[39m\u001b[38;5;124m'\u001b[39m]\n\u001b[0;32m---> 15\u001b[0m annotator \u001b[38;5;241m=\u001b[39m Annotator(ax, pairs, data\u001b[38;5;241m=\u001b[39maf2, x\u001b[38;5;241m=\u001b[39m\u001b[38;5;124m'\u001b[39m\u001b[38;5;124mSection\u001b[39m\u001b[38;5;124m'\u001b[39m, y\u001b[38;5;241m=\u001b[39m\u001b[38;5;124m'\u001b[39m\u001b[38;5;124mMean pLDDT\u001b[39m\u001b[38;5;124m'\u001b[39m, order\u001b[38;5;241m=\u001b[39msubcat_order, hue\u001b[38;5;241m=\u001b[39m\u001b[38;5;124m'\u001b[39m\u001b[38;5;124mtype\u001b[39m\u001b[38;5;124m'\u001b[39m)\n\u001b[1;32m     16\u001b[0m annotator\u001b[38;5;241m.\u001b[39mconfigure(test\u001b[38;5;241m=\u001b[39m\u001b[38;5;124m'\u001b[39m\u001b[38;5;124mMann-Whitney\u001b[39m\u001b[38;5;124m'\u001b[39m, text_format\u001b[38;5;241m=\u001b[39m\u001b[38;5;124m'\u001b[39m\u001b[38;5;124mstar\u001b[39m\u001b[38;5;124m'\u001b[39m, loc\u001b[38;5;241m=\u001b[39m\u001b[38;5;124m'\u001b[39m\u001b[38;5;124moutside\u001b[39m\u001b[38;5;124m'\u001b[39m)\n\u001b[1;32m     17\u001b[0m annotator\u001b[38;5;241m.\u001b[39mapply_and_annotate()\n",
      "File \u001b[0;32m~/anaconda3/envs/analysis/lib/python3.11/site-packages/statannotations/Annotator.py:108\u001b[0m, in \u001b[0;36mAnnotator.__init__\u001b[0;34m(self, ax, pairs, plot, data, x, y, hue, order, hue_order, engine, verbose, **plot_params)\u001b[0m\n\u001b[1;32m    106\u001b[0m     \u001b[38;5;28mself\u001b[39m\u001b[38;5;241m.\u001b[39m_plotter \u001b[38;5;241m=\u001b[39m \u001b[38;5;28;01mNone\u001b[39;00m\n\u001b[1;32m    107\u001b[0m \u001b[38;5;28;01melse\u001b[39;00m:\n\u001b[0;32m--> 108\u001b[0m     \u001b[38;5;28mself\u001b[39m\u001b[38;5;241m.\u001b[39m_plotter \u001b[38;5;241m=\u001b[39m \u001b[38;5;28mself\u001b[39m\u001b[38;5;241m.\u001b[39m_get_plotter(engine, ax, pairs, plot, data,\n\u001b[1;32m    109\u001b[0m                                       x, y, hue, order, hue_order,\n\u001b[1;32m    110\u001b[0m                                       verbose\u001b[38;5;241m=\u001b[39mverbose, \u001b[38;5;241m*\u001b[39m\u001b[38;5;241m*\u001b[39mplot_params)\n\u001b[1;32m    112\u001b[0m \u001b[38;5;28mself\u001b[39m\u001b[38;5;241m.\u001b[39m_test \u001b[38;5;241m=\u001b[39m \u001b[38;5;28;01mNone\u001b[39;00m\n\u001b[1;32m    113\u001b[0m \u001b[38;5;28mself\u001b[39m\u001b[38;5;241m.\u001b[39mperform_stat_test \u001b[38;5;241m=\u001b[39m \u001b[38;5;28;01mNone\u001b[39;00m\n",
      "File \u001b[0;32m~/anaconda3/envs/analysis/lib/python3.11/site-packages/statannotations/Annotator.py:784\u001b[0m, in \u001b[0;36mAnnotator._get_plotter\u001b[0;34m(engine, *args, **kwargs)\u001b[0m\n\u001b[1;32m    782\u001b[0m \u001b[38;5;28;01mif\u001b[39;00m engine_plotter \u001b[38;5;129;01mis\u001b[39;00m \u001b[38;5;28;01mNone\u001b[39;00m:\n\u001b[1;32m    783\u001b[0m     \u001b[38;5;28;01mraise\u001b[39;00m \u001b[38;5;167;01mNotImplementedError\u001b[39;00m(\u001b[38;5;124mf\u001b[39m\u001b[38;5;124m\"\u001b[39m\u001b[38;5;132;01m{\u001b[39;00mengine\u001b[38;5;132;01m}\u001b[39;00m\u001b[38;5;124m engine not implemented.\u001b[39m\u001b[38;5;124m\"\u001b[39m)\n\u001b[0;32m--> 784\u001b[0m \u001b[38;5;28;01mreturn\u001b[39;00m engine_plotter(\u001b[38;5;241m*\u001b[39margs, \u001b[38;5;241m*\u001b[39m\u001b[38;5;241m*\u001b[39mkwargs)\n",
      "File \u001b[0;32m~/anaconda3/envs/analysis/lib/python3.11/site-packages/statannotations/_Plotter.py:82\u001b[0m, in \u001b[0;36m_SeabornPlotter.__init__\u001b[0;34m(self, ax, pairs, plot, data, x, y, hue, order, hue_order, verbose, **plot_params)\u001b[0m\n\u001b[1;32m     78\u001b[0m \u001b[38;5;28;01mdef\u001b[39;00m \u001b[38;5;21m__init__\u001b[39m(\u001b[38;5;28mself\u001b[39m, ax, pairs, plot\u001b[38;5;241m=\u001b[39m\u001b[38;5;124m'\u001b[39m\u001b[38;5;124mboxplot\u001b[39m\u001b[38;5;124m'\u001b[39m, data\u001b[38;5;241m=\u001b[39m\u001b[38;5;28;01mNone\u001b[39;00m, x\u001b[38;5;241m=\u001b[39m\u001b[38;5;28;01mNone\u001b[39;00m,\n\u001b[1;32m     79\u001b[0m              y\u001b[38;5;241m=\u001b[39m\u001b[38;5;28;01mNone\u001b[39;00m, hue\u001b[38;5;241m=\u001b[39m\u001b[38;5;28;01mNone\u001b[39;00m, order\u001b[38;5;241m=\u001b[39m\u001b[38;5;28;01mNone\u001b[39;00m, hue_order\u001b[38;5;241m=\u001b[39m\u001b[38;5;28;01mNone\u001b[39;00m, verbose\u001b[38;5;241m=\u001b[39m\u001b[38;5;28;01mFalse\u001b[39;00m,\n\u001b[1;32m     80\u001b[0m              \u001b[38;5;241m*\u001b[39m\u001b[38;5;241m*\u001b[39mplot_params):\n\u001b[0;32m---> 82\u001b[0m     _Plotter\u001b[38;5;241m.\u001b[39m\u001b[38;5;21m__init__\u001b[39m(\u001b[38;5;28mself\u001b[39m, ax, pairs, data, x, y, hue, order, hue_order,\n\u001b[1;32m     83\u001b[0m                       verbose, \u001b[38;5;241m*\u001b[39m\u001b[38;5;241m*\u001b[39mplot_params)\n\u001b[1;32m     85\u001b[0m     \u001b[38;5;28mself\u001b[39m\u001b[38;5;241m.\u001b[39mcheck_plot_is_implemented(plot)\n\u001b[1;32m     86\u001b[0m     \u001b[38;5;28mself\u001b[39m\u001b[38;5;241m.\u001b[39mplot \u001b[38;5;241m=\u001b[39m plot\n",
      "File \u001b[0;32m~/anaconda3/envs/analysis/lib/python3.11/site-packages/statannotations/_Plotter.py:28\u001b[0m, in \u001b[0;36m_Plotter.__init__\u001b[0;34m(self, ax, pairs, data, x, y, hue, order, hue_order, verbose, **plot_params)\u001b[0m\n\u001b[1;32m     26\u001b[0m group_coord \u001b[38;5;241m=\u001b[39m y \u001b[38;5;28;01mif\u001b[39;00m plot_params\u001b[38;5;241m.\u001b[39mget(\u001b[38;5;124m\"\u001b[39m\u001b[38;5;124morient\u001b[39m\u001b[38;5;124m\"\u001b[39m) \u001b[38;5;241m==\u001b[39m \u001b[38;5;124m\"\u001b[39m\u001b[38;5;124mh\u001b[39m\u001b[38;5;124m\"\u001b[39m \u001b[38;5;28;01melse\u001b[39;00m x\n\u001b[1;32m     27\u001b[0m check_order_in_data(data, group_coord, order)\n\u001b[0;32m---> 28\u001b[0m check_pairs_in_data(pairs, data, group_coord, hue, hue_order)\n\u001b[1;32m     29\u001b[0m \u001b[38;5;28mself\u001b[39m\u001b[38;5;241m.\u001b[39mpairs \u001b[38;5;241m=\u001b[39m pairs\n\u001b[1;32m     30\u001b[0m \u001b[38;5;28mself\u001b[39m\u001b[38;5;241m.\u001b[39m_struct_pairs \u001b[38;5;241m=\u001b[39m \u001b[38;5;28;01mNone\u001b[39;00m\n",
      "File \u001b[0;32m~/anaconda3/envs/analysis/lib/python3.11/site-packages/statannotations/utils.py:132\u001b[0m, in \u001b[0;36mcheck_pairs_in_data\u001b[0;34m(pairs, data, coord, hue, hue_order)\u001b[0m\n\u001b[1;32m    130\u001b[0m     _check_pairs_in_data_no_hue(pairs, data, coord)\n\u001b[1;32m    131\u001b[0m \u001b[38;5;28;01melse\u001b[39;00m:\n\u001b[0;32m--> 132\u001b[0m     hue_values \u001b[38;5;241m=\u001b[39m _check_pairs_in_data_with_hue(pairs, data, coord, hue)\n\u001b[1;32m    133\u001b[0m     _check_hue_order_in_data(hue, hue_values, hue_order)\n",
      "File \u001b[0;32m~/anaconda3/envs/analysis/lib/python3.11/site-packages/statannotations/utils.py:104\u001b[0m, in \u001b[0;36m_check_pairs_in_data_with_hue\u001b[0;34m(pairs, data, group_coord, hue)\u001b[0m\n\u001b[1;32m    101\u001b[0m     seen_group_values\u001b[38;5;241m.\u001b[39madd(group_value)\n\u001b[1;32m    103\u001b[0m     \u001b[38;5;28;01mif\u001b[39;00m hue_value \u001b[38;5;129;01mnot\u001b[39;00m \u001b[38;5;129;01min\u001b[39;00m hue_values:\n\u001b[0;32m--> 104\u001b[0m         \u001b[38;5;28;01mraise\u001b[39;00m \u001b[38;5;167;01mValueError\u001b[39;00m(\u001b[38;5;124mf\u001b[39m\u001b[38;5;124m\"\u001b[39m\u001b[38;5;124mMissing hue value `\u001b[39m\u001b[38;5;132;01m{\u001b[39;00mhue_value\u001b[38;5;132;01m}\u001b[39;00m\u001b[38;5;124m` in \u001b[39m\u001b[38;5;132;01m{\u001b[39;00mhue\u001b[38;5;132;01m}\u001b[39;00m\u001b[38;5;124m\"\u001b[39m\n\u001b[1;32m    105\u001b[0m                          \u001b[38;5;124mf\u001b[39m\u001b[38;5;124m\"\u001b[39m\u001b[38;5;124m (specified in `pairs`)\u001b[39m\u001b[38;5;124m\"\u001b[39m)\n\u001b[1;32m    107\u001b[0m \u001b[38;5;28;01mreturn\u001b[39;00m hue_values\n",
      "\u001b[0;31mValueError\u001b[0m: Missing hue value `Two-Domain` in type (specified in `pairs`)"
     ]
    },
    {
     "data": {
      "image/png": "[encoded data removed]",
      "text/plain": [
       "<Figure size 600x400 with 1 Axes>"
      ]
     },
     "metadata": {},
     "output_type": "display_data"
    }
   ],
   "source": [
    "# Now we plot \n",
    "fig, ax = plt.subplots(figsize=(6, 4))\n",
    "sns.boxplot(data=af2, x='Section', y='Mean pLDDT', ax = ax, hue='type', palette=colors)\n",
    "ax.set_ylabel('Mean pLDDT', fontsize=14)\n",
    "ax.set_xlabel('Section', fontsize=14)\n",
    "ax.set_xticklabels(ax.get_xticklabels(), fontsize=12)\n",
    "ax.set_yticklabels(ax.get_yticklabels(), fontsize=12)\n",
    "ax.legend(title='Protein Type', title_fontsize='14', fontsize='12')\n",
    "\n",
    "# Annotate statistical significance\n",
    "pairs = [[('Full Sequence', 'Autoinhibitory'), ('Full Sequence', 'Two-Domain')],\n",
    "         [('IM/D1', 'Autoinhibitory'), ('IM/D1', 'Two-Domain')],\n",
    "         [('FD/D2', 'Autoinhibitory'), ('FD/D2', 'Two-Domain')]]\n",
    "subcat_order = ['Full Sequence', 'IM/D1', 'FD/D2']\n",
    "annotator = Annotator(ax, pairs, data=af2, x='Section', y='Mean pLDDT', order=subcat_order, hue='type')\n",
    "annotator.configure(test='Mann-Whitney', text_format='star', loc='outside')\n",
    "annotator.apply_and_annotate()\n",
    "\n",
    "plt.savefig('./project_pipeline/data/figures/af_auto_obli_plddt.png')"
   ]
  },
  {
   "cell_type": "markdown",
   "metadata": {},
   "source": [
    "Then we plot against the ColabFold clusters."
   ]
  },
  {
   "cell_type": "markdown",
   "metadata": {},
   "source": [
    "# Plot for Two-State Autoinhibitory Proteins Compared to ColabFold Clusters"
   ]
  },
  {
   "cell_type": "code",
   "execution_count": null,
   "metadata": {},
   "outputs": [
    {
     "data": {
      "text/html": [
       "<div>\n",
       "<style scoped>\n",
       "    .dataframe tbody tr th:only-of-type {\n",
       "        vertical-align: middle;\n",
       "    }\n",
       "\n",
       "    .dataframe tbody tr th {\n",
       "        vertical-align: top;\n",
       "    }\n",
       "\n",
       "    .dataframe thead th {\n",
       "        text-align: right;\n",
       "    }\n",
       "</style>\n",
       "<table border=\"1\" class=\"dataframe\">\n",
       "  <thead>\n",
       "    <tr style=\"text-align: right;\">\n",
       "      <th></th>\n",
       "      <th>uniprot</th>\n",
       "      <th>region_1</th>\n",
       "      <th>region_2</th>\n",
       "      <th>af_filename</th>\n",
       "      <th>Section</th>\n",
       "      <th>Mean pLDDT</th>\n",
       "      <th>Sequence Depth</th>\n",
       "      <th>cluster</th>\n",
       "      <th>cf_filename</th>\n",
       "    </tr>\n",
       "  </thead>\n",
       "  <tbody>\n",
       "    <tr>\n",
       "      <th>0</th>\n",
       "      <td>O08967</td>\n",
       "      <td>251-265,383-395</td>\n",
       "      <td>77-206</td>\n",
       "      <td>F-O08967-F1-model_v3.cif</td>\n",
       "      <td>Full Sequence</td>\n",
       "      <td>85.817</td>\n",
       "      <td>Full</td>\n",
       "      <td>NaN</td>\n",
       "      <td>NaN</td>\n",
       "    </tr>\n",
       "    <tr>\n",
       "      <th>1</th>\n",
       "      <td>O08967</td>\n",
       "      <td>251-265,383-395</td>\n",
       "      <td>77-206</td>\n",
       "      <td>F-O08967-F1-model_v3.cif</td>\n",
       "      <td>Full Sequence</td>\n",
       "      <td>85.817</td>\n",
       "      <td>Full</td>\n",
       "      <td>NaN</td>\n",
       "      <td>NaN</td>\n",
       "    </tr>\n",
       "    <tr>\n",
       "      <th>2</th>\n",
       "      <td>O08967</td>\n",
       "      <td>251-265,383-395</td>\n",
       "      <td>77-206</td>\n",
       "      <td>F-O08967-F1-model_v3.cif</td>\n",
       "      <td>Full Sequence</td>\n",
       "      <td>85.817</td>\n",
       "      <td>Full</td>\n",
       "      <td>NaN</td>\n",
       "      <td>NaN</td>\n",
       "    </tr>\n",
       "    <tr>\n",
       "      <th>3</th>\n",
       "      <td>O08967</td>\n",
       "      <td>251-265,383-395</td>\n",
       "      <td>77-206</td>\n",
       "      <td>F-O08967-F1-model_v3.cif</td>\n",
       "      <td>Full Sequence</td>\n",
       "      <td>85.817</td>\n",
       "      <td>Full</td>\n",
       "      <td>NaN</td>\n",
       "      <td>NaN</td>\n",
       "    </tr>\n",
       "    <tr>\n",
       "      <th>4</th>\n",
       "      <td>O60741</td>\n",
       "      <td>401-479</td>\n",
       "      <td>480-604</td>\n",
       "      <td>F-O60741-F1-model_v3.cif</td>\n",
       "      <td>Full Sequence</td>\n",
       "      <td>70.564</td>\n",
       "      <td>Full</td>\n",
       "      <td>NaN</td>\n",
       "      <td>NaN</td>\n",
       "    </tr>\n",
       "  </tbody>\n",
       "</table>\n",
       "</div>"
      ],
      "text/plain": [
       "  uniprot         region_1 region_2               af_filename        Section  \\\n",
       "0  O08967  251-265,383-395   77-206  F-O08967-F1-model_v3.cif  Full Sequence   \n",
       "1  O08967  251-265,383-395   77-206  F-O08967-F1-model_v3.cif  Full Sequence   \n",
       "2  O08967  251-265,383-395   77-206  F-O08967-F1-model_v3.cif  Full Sequence   \n",
       "3  O08967  251-265,383-395   77-206  F-O08967-F1-model_v3.cif  Full Sequence   \n",
       "4  O60741          401-479  480-604  F-O60741-F1-model_v3.cif  Full Sequence   \n",
       "\n",
       "   Mean pLDDT Sequence Depth cluster cf_filename  \n",
       "0      85.817           Full     NaN         NaN  \n",
       "1      85.817           Full     NaN         NaN  \n",
       "2      85.817           Full     NaN         NaN  \n",
       "3      85.817           Full     NaN         NaN  \n",
       "4      70.564           Full     NaN         NaN  "
      ]
     },
     "execution_count": 67,
     "metadata": {},
     "output_type": "execute_result"
    }
   ],
   "source": [
    "# Rename columns since we're only using autoinhibitory proteins\n",
    "rename2 = af_two.rename(columns={'complex_mean_plddt': 'Full Sequence', 'r1_mean_plddt': 'IM', 'r2_mean_plddt': 'FD'})\n",
    "cfAuto = cfAuto.rename(columns={'complex_mean_plddt': 'Full Sequence', 'r1_mean_plddt': 'IM', 'r2_mean_plddt': 'FD'})\n",
    "\n",
    "# Now rename and melt the dataframes\n",
    "af_twos = pivot_af_df(rename2)\n",
    "cfAuto_p = pivot_cf_df(cfAuto)\n",
    "\n",
    "# Add sources for the two dataframes\n",
    "af_twos['Sequence Depth'] = 'Full'\n",
    "cfAuto_p['Sequence Depth'] = 'Clusters'\n",
    "\n",
    "two_states = pd.concat([af_twos, cfAuto_p])\n",
    "two_states.head()"
   ]
  },
  {
   "cell_type": "code",
   "execution_count": null,
   "metadata": {},
   "outputs": [
    {
     "name": "stderr",
     "output_type": "stream",
     "text": [
      "/tmp/ipykernel_1037787/1600579853.py:6: UserWarning: set_ticklabels() should only be used with a fixed number of ticks, i.e. after set_ticks() or using a FixedLocator.\n",
      "  ax.set_yticklabels(ax.get_yticklabels(), fontsize=12)\n"
     ]
    },
    {
     "name": "stdout",
     "output_type": "stream",
     "text": [
      "p-value annotation legend:\n",
      "      ns: 5.00e-02 < p <= 1.00e+00\n",
      "       *: 1.00e-02 < p <= 5.00e-02\n",
      "      **: 1.00e-03 < p <= 1.00e-02\n",
      "     ***: 1.00e-04 < p <= 1.00e-03\n",
      "    ****: p <= 1.00e-04\n",
      "\n",
      "IM_Full vs. IM_Clusters: Mann-Whitney-Wilcoxon test two-sided, P_val:4.995e-22 U_stat=2.938e+05\n",
      "Full Sequence_Full vs. Full Sequence_Clusters: Mann-Whitney-Wilcoxon test two-sided, P_val:2.165e-90 U_stat=3.788e+05\n",
      "FD_Full vs. FD_Clusters: Mann-Whitney-Wilcoxon test two-sided, P_val:1.784e-99 U_stat=3.870e+05\n"
     ]
    },
    {
     "data": {
      "image/png": "[encoded data removed]",
      "text/plain": [
       "<Figure size 900x600 with 1 Axes>"
      ]
     },
     "metadata": {},
     "output_type": "display_data"
    }
   ],
   "source": [
    "fig, ax = plt.subplots(figsize=(9, 6))\n",
    "sns.boxplot(data=two_states, x='Section', y='Mean pLDDT', ax=ax, hue='Sequence Depth', palette=colors)\n",
    "ax.set_xlabel('Section', fontsize=14)\n",
    "ax.set_ylabel('Mean pLDDT', fontsize=14)\n",
    "ax.set_xticklabels(ax.get_xticklabels(), fontsize=12)\n",
    "ax.set_yticklabels(ax.get_yticklabels(), fontsize=12)\n",
    "ax.legend(title='Sequence Depth', title_fontsize='14', fontsize='12')\n",
    "\n",
    "# Annotate statistical significance\n",
    "pairs = [[('Full Sequence', 'Full'), ('Full Sequence', 'Clusters')],\n",
    "         [('IM', 'Full'), ('IM', 'Clusters')],\n",
    "         [('FD', 'Full'), ('FD', 'Clusters')]]\n",
    "\n",
    "subcat_order = ['Full Sequence', 'IM', 'FD']\n",
    "annotator = Annotator(ax, pairs, data=two_states, x='Section', y='Mean pLDDT', order=subcat_order, hue='Sequence Depth')\n",
    "annotator.configure(test='Mann-Whitney', text_format='star', loc='outside')\n",
    "annotator.apply_and_annotate()\n",
    "\n",
    "plt.tight_layout()\n",
    "plt.savefig('./project_pipeline/data/figures/af_cf_plddt.png')"
   ]
  },
  {
   "cell_type": "markdown",
   "metadata": {},
   "source": [
    "Now we do the reverse"
   ]
  },
  {
   "cell_type": "code",
   "execution_count": null,
   "metadata": {},
   "outputs": [],
   "source": [
    "# # Reverse Section and source in the previous plot  \n",
    "# fig, ax = plt.subplots(figsize=(8, 6))\n",
    "# sns.boxplot(data=two_states, x='Sequence Depth', y='Mean pLDDT', ax=ax, hue='Section', palette=colors)\n",
    "# ax.set_title('Two-state Protein pLDDTs by Source')\n",
    "# ax.set_xlabel('Source')\n",
    "# ax.set_ylabel('Mean pLDDT')\n",
    "# ax.legend(title='Section')\n",
    "\n",
    "# # Annotate statistical significance\n",
    "# pairs = [[('Full', 'Full Sequence'), ('Full', 'IM/D1')],\n",
    "#          [('Full', 'Full Sequence'), ('Full', 'FD/D2')],\n",
    "#          [('Full', 'IM/D1'), ('Full', 'FD/D2')],\n",
    "#          [('Clusters', 'Full Sequence'), ('Clusters', 'IM/D1')],\n",
    "#          [('Clusters', 'Full Sequence'), ('Clusters', 'FD/D2')],\n",
    "#          [('Clusters', 'IM/D1'), ('Clusters', 'FD/D2')]]\n",
    "\n",
    "# subcat_order = ['Full', 'Clusters']\n",
    "# annotator = Annotator(ax, pairs, data=two_states, x='Sequence Depth', y='Mean pLDDT', order=subcat_order, hue='Section')\n",
    "# annotator.configure(test='Mann-Whitney', text_format='star', loc='inside')\n",
    "# annotator.apply_and_annotate()\n",
    "\n",
    "# plt.savefig('./project_pipeline/data/figures/af_two_states_plddt2.png')"
   ]
  },
  {
   "cell_type": "markdown",
   "metadata": {},
   "source": [
    "We're going to make a quick legend for our pLDDT figure that just has four color patches"
   ]
  },
  {
   "cell_type": "code",
   "execution_count": null,
   "metadata": {},
   "outputs": [
    {
     "data": {
      "image/png": "[encoded data removed]",
      "text/plain": [
       "<Figure size 800x600 with 1 Axes>"
      ]
     },
     "metadata": {},
     "output_type": "display_data"
    }
   ],
   "source": [
    "fig, ax = plt.subplots(figsize=(8, 6))\n",
    "plt.tick_params(\n",
    "    axis='both',\n",
    "    which='both',\n",
    "    bottom=False,\n",
    "    left=False,\n",
    "    top=False,\n",
    "    right=False\n",
    ")\n",
    "blue_patch = mpatches.Patch(color='blue', label='Very high (pLDDT $>$ 90)')\n",
    "cyan_patch = mpatches.Patch(color='cyan', label='High (90 $>$ pLDDT $>$ 70)')\n",
    "yellow_patch = mpatches.Patch(color='yellow', label='Medium (70 $>$ pLDDT $>$ 50)')\n",
    "orange_patch = mpatches.Patch(color='orange', label='Low (50 $>$ pLDDT $>$ 30)')\n",
    "\n",
    "plt.legend(handles=[blue_patch, cyan_patch, yellow_patch, orange_patch], fontsize='12', title='Model Confidence', title_fontsize='14', loc='center', bbox_to_anchor=(0.5, 0.5))\n",
    "plt.show()\n",
    "fig.savefig('./project_pipeline/data/figures/plddt_legend.png')"
   ]
  }
 ],
 "metadata": {
  "kernelspec": {
   "display_name": "analysis",
   "language": "python",
   "name": "python3"
  },
  "language_info": {
   "codemirror_mode": {
    "name": "ipython",
    "version": 3
   },
   "file_extension": ".py",
   "mimetype": "text/x-python",
   "name": "python",
   "nbconvert_exporter": "python",
   "pygments_lexer": "ipython3",
   "version": "3.11.8"
  }
 },
 "nbformat": 4,
 "nbformat_minor": 2
}
