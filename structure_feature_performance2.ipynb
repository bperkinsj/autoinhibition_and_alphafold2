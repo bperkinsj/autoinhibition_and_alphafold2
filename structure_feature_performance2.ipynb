{
 "cells": [
  {
   "cell_type": "code",
   "execution_count": 1685,
   "metadata": {},
   "outputs": [],
   "source": [
    "import pandas as pd\n",
    "import numpy as np\n",
    "import scipy\n",
    "\n",
    "import matplotlib.pyplot as plt\n",
    "import seaborn as sns\n",
    "from scipy.stats import mannwhitneyu, linregress\n",
    "\n",
    "from statannotations.Annotator import Annotator\n",
    "import scienceplots"
   ]
  },
  {
   "cell_type": "code",
   "execution_count": 1686,
   "metadata": {},
   "outputs": [
    {
     "name": "stdout",
     "output_type": "stream",
     "text": [
      "['#a6cee3', '#1f78b4', '#b2df8a', '#33a02c', '#fb9a99', '#e31a1c', '#fdbf6f', '#ff7f00', '#cab2d6', '#6a3d9a', '#ffff99', '#b15928']\n"
     ]
    },
    {
     "data": {
      "text/html": [
       "<svg  width=\"660\" height=\"55\"><rect x=\"0\" y=\"0\" width=\"55\" height=\"55\" style=\"fill:#a6cee3;stroke-width:2;stroke:rgb(255,255,255)\"/><rect x=\"55\" y=\"0\" width=\"55\" height=\"55\" style=\"fill:#1f78b4;stroke-width:2;stroke:rgb(255,255,255)\"/><rect x=\"110\" y=\"0\" width=\"55\" height=\"55\" style=\"fill:#b2df8a;stroke-width:2;stroke:rgb(255,255,255)\"/><rect x=\"165\" y=\"0\" width=\"55\" height=\"55\" style=\"fill:#33a02c;stroke-width:2;stroke:rgb(255,255,255)\"/><rect x=\"220\" y=\"0\" width=\"55\" height=\"55\" style=\"fill:#fb9a99;stroke-width:2;stroke:rgb(255,255,255)\"/><rect x=\"275\" y=\"0\" width=\"55\" height=\"55\" style=\"fill:#e31a1c;stroke-width:2;stroke:rgb(255,255,255)\"/><rect x=\"330\" y=\"0\" width=\"55\" height=\"55\" style=\"fill:#fdbf6f;stroke-width:2;stroke:rgb(255,255,255)\"/><rect x=\"385\" y=\"0\" width=\"55\" height=\"55\" style=\"fill:#ff7f00;stroke-width:2;stroke:rgb(255,255,255)\"/><rect x=\"440\" y=\"0\" width=\"55\" height=\"55\" style=\"fill:#cab2d6;stroke-width:2;stroke:rgb(255,255,255)\"/><rect x=\"495\" y=\"0\" width=\"55\" height=\"55\" style=\"fill:#6a3d9a;stroke-width:2;stroke:rgb(255,255,255)\"/><rect x=\"550\" y=\"0\" width=\"55\" height=\"55\" style=\"fill:#ffff99;stroke-width:2;stroke:rgb(255,255,255)\"/><rect x=\"605\" y=\"0\" width=\"55\" height=\"55\" style=\"fill:#b15928;stroke-width:2;stroke:rgb(255,255,255)\"/></svg>"
      ],
      "text/plain": [
       "['#a6cee3',\n",
       " '#1f78b4',\n",
       " '#b2df8a',\n",
       " '#33a02c',\n",
       " '#fb9a99',\n",
       " '#e31a1c',\n",
       " '#fdbf6f',\n",
       " '#ff7f00',\n",
       " '#cab2d6',\n",
       " '#6a3d9a',\n",
       " '#ffff99',\n",
       " '#b15928']"
      ]
     },
     "execution_count": 1686,
     "metadata": {},
     "output_type": "execute_result"
    }
   ],
   "source": [
    "plt.style.use('science')\n",
    "\n",
    "# Get the hex codes for the colors so we can assign them to categories\n",
    "pal = sns.color_palette('Paired')\n",
    "print(pal.as_hex())\n",
    "\n",
    "# Set the color palette. Our categories are \"Single Domain\", \"Two-Domain\", and \"Autoinhibitory\"\n",
    "colors = {'Single Domain': pal[0], 'Two-Domain': pal[1], 'Autoinhibitory': pal[3], 'Autoinhibitory (Active)': pal[2], 'Autoinhibitory (Autoinhibited)': pal[3], \n",
    "          'Full': pal[3], 'Clusters': pal[7], 'Two-State AI': pal[4], 'Autoinhibitory (Closed)': pal[5], 'Autoinhibitory (Open)': pal[4], 'Obligate': pal[6],\n",
    "          'Accurate': pal[8], 'Inaccurate': pal[5], 'AI': pal[2], 'TD': pal[0]}\n",
    "pal.as_hex()"
   ]
  },
  {
   "cell_type": "code",
   "execution_count": 1687,
   "metadata": {},
   "outputs": [],
   "source": [
    "blues = sns.color_palette('Blues')\n",
    "\n",
    "three_blues = {'Low': blues[1], 'Medium': blues[3], 'High': blues[5]}"
   ]
  },
  {
   "cell_type": "code",
   "execution_count": 1688,
   "metadata": {},
   "outputs": [],
   "source": [
    "greens = sns.color_palette('Greens')\n",
    "\n",
    "three_greens = {'Low': greens[1], 'Medium': greens[3], 'High': greens[5]}"
   ]
  },
  {
   "cell_type": "code",
   "execution_count": 1689,
   "metadata": {},
   "outputs": [],
   "source": [
    "reds = sns.color_palette('Reds')\n",
    "\n",
    "three_cats = {'Low': reds[1], 'Medium': reds[3], 'High': reds[5]}"
   ]
  },
  {
   "cell_type": "code",
   "execution_count": 1690,
   "metadata": {},
   "outputs": [],
   "source": [
    "accuracy_palette = {'Accurate TD': blues[2], 'Inaccurate TD': blues[0], 'Accurate AI': greens[2], 'Inaccurate AI': greens[0]}"
   ]
  },
  {
   "cell_type": "code",
   "execution_count": 1691,
   "metadata": {},
   "outputs": [],
   "source": [
    "imfd = '$_{fd}^{im}$RMSD'\n",
    "grmsd = 'gRMSD'\n",
    "\n",
    "def string2range(x):\n",
    "    \n",
    "    \"\"\"\n",
    "    This function takes in a `string` representing a region of interest in a\n",
    "    protein. The region of interest can be a single region or multiple regions\n",
    "    of a protein. Returns a range for single regions or a list of ranges for\n",
    "    multiple regions.\n",
    "    \n",
    "    Parameters:\n",
    "    \n",
    "        x (string): String containing a region or several regions of interest in a \n",
    "            protein.\n",
    "            Format of x: single region -> 'start-end'\n",
    "                         multiple regions -> 'start1-end1,start2-end2'\n",
    "                     \n",
    "    Returns:\n",
    "    \n",
    "        range or list of ranges: For single region proteins a range is returned. For \n",
    "            multiple region proteins a list of ranges is returned\n",
    "\n",
    "            Format: single region -> range(start, end+1)\n",
    "                    multiple region -> [range(start1, end1+1), range(start2, end2+1)]\n",
    "    \"\"\"\n",
    "    # Handle instances with more than one range\n",
    "    if ',' in x:\n",
    "        list_temp = x.split(sep = ',') #list_temp = ['123-456,' '789-1111']\n",
    "        for y in range(len(list_temp)): \n",
    "            list_temp[y] = list_temp[y].split(sep = '-') #list_temp[y] = [['123', '456'], ['789', '1111']]\n",
    "        for y in range(len(list_temp)): \n",
    "            for x in range(len(list_temp[y])):\n",
    "                list_temp[y][x] = int(list_temp[y][x]) #turns each list item into an integer\n",
    "\n",
    "        # Make a range object with the bounds of the range. Note to the \n",
    "        # end a 1 has to be added in order to include the last position in the range\n",
    "        for y in range(len(list_temp)): #[1, 2] where 1=[123, 456] and 2=[789, 1111]\n",
    "            for x in range(len(list_temp[y])): #[123, 456]       \n",
    "                list_temp[y] = list(range(list_temp[y][x], list_temp[y][x+1]+1)) #list_temp[0][0] = [123], list_temp[0][0+1]+1 or [456] + 1 = [457]\n",
    "                break\n",
    "\n",
    "        return list(set([item for sublist in list_temp for item in sublist]))\n",
    "\n",
    "    # Handle instances with only one range\n",
    "    else:\n",
    "        list_temp = x.split(sep = '-')\n",
    "        for y in range(len(list_temp)):\n",
    "            list_temp[y] = int(list_temp[y]) #\n",
    "\n",
    "        # Make a range object with the bounds of the region. Note to the \n",
    "        # end a 1 has to be added in order to include the last position in the range\n",
    "        return list(range(list_temp[0], list_temp[1]+1))\n",
    "\n",
    "def plot_lineage(df, ax, palette, x, y, hue, order, pairs):\n",
    "\n",
    "    sns.boxplot(x=x, y=y, hue=hue, data=df, ax=ax, palette=palette, dodge=False)\n",
    "    ax.set_xticklabels(ax.get_xticklabels(), fontsize=12, rotation=45)\n",
    "    ax.set_yticklabels(ax.get_yticklabels(), fontsize=12)\n",
    "    ax.legend(title_fontsize='14', fontsize='12')\n",
    "\n",
    "    annotator = Annotator(ax, pairs, data=df, x=x, y=y, order=order, hue=hue)\n",
    "    annotator.configure(test='Mann-Whitney', text_format='star', loc='outside')\n",
    "    annotator.apply_and_annotate()\n",
    "\n",
    "\n",
    "# def plot_lineage(df, ax, palette):\n",
    "\n",
    "#     subcat_order = ['Mean LS', 'LS Var.', 'Mean \\% Seq. \\n Completeness', 'LS Max', 'Number of Seqs.']\n",
    "\n",
    "#     sns.boxplot(x='variable', y='value', hue='type', data=df, ax=ax, palette=palette)\n",
    "#     ax.set_ylim(-10, 125)\n",
    "#     ax.set(ylabel=None, xlabel=None)\n",
    "# #     ax.set_ylabel('Value', fontsize=14)\n",
    "# #     ax.set_xlabel('Feature', fontsize=14)\n",
    "#     ax.set_xticklabels(ax.get_xticklabels(), fontsize=12)\n",
    "#     ax.set_yticklabels(ax.get_yticklabels(), fontsize=12)\n",
    "#     ax.legend(title='Accuracy', title_fontsize='14', fontsize='12')\n",
    "\n",
    "#     pairs = [[('Mean LS', 'Accurate'), ('Mean LS', 'Inaccurate')],\n",
    "#             [('LS Var.', 'Accurate'), ('LS Var.', 'Inaccurate')],\n",
    "#             [('Mean \\% Seq. \\n Completeness', 'Accurate'), ('Mean \\% Seq. \\n Completeness', 'Inaccurate')],\n",
    "#             [('LS Max', 'Accurate'), ('LS Max', 'Inaccurate')],\n",
    "#             [('Number of Seqs.', 'Accurate'), ('Number of Seqs.', 'Inaccurate')]\n",
    "#             ]\n",
    "\n",
    "#     annotator = Annotator(ax, pairs, data=df, x='variable', y='value', order=subcat_order, hue='type')\n",
    "#     annotator.configure(test='Mann-Whitney', text_format='star', loc='outside', comparisons_correction='bonferroni')\n",
    "#     annotator.apply_and_annotate()\n",
    "\n",
    "def percent_domain_coil1(df):\n",
    "    df['num_domain_coil'] = df['num_im_helix'] + df['num_fd_helix'] + df['num_im_sheet'] + df['num_fd_sheet']\n",
    "    df['perc_domains_coil'] = df['num_domain_coil'] / (len(df['pdb residues in region_1']) + len(df['pdb residues in region_2']))\n",
    "\n",
    "    return df\n",
    "\n",
    "def percent_domain_coil2(df):\n",
    "    df['num_domain_coil'] = df['num_im_helix'] + df['num_fd_helix'] + df['num_im_sheet'] + df['num_fd_sheet']\n",
    "    df['perc_im_coil'] = (df['num_im_helix'] + df['num_im_sheet']) / df['region_1_len']\n",
    "    df['perc_fd_coil'] = (df['num_fd_helix'] + df['num_fd_sheet']) / df['region_2_len']\n",
    "    df['perc_domains_coil'] = df['num_domain_coil'] / (df['region_1_len'] + df['region_2_len'])\n",
    "\n",
    "    return df"
   ]
  },
  {
   "cell_type": "code",
   "execution_count": 1692,
   "metadata": {},
   "outputs": [],
   "source": [
    "nstds = pd.read_csv('./project_pipeline/data/ai_nonstandard_monomers.tsv', sep='\\t')\n",
    "structure = pd.read_csv('./project_pipeline/data/ai_structure_information.tsv', sep='\\t')\n",
    "lineage = pd.read_csv('./project_pipeline/data/ai_lineage_scores.csv')\n",
    "rmsds = pd.read_csv('./project_pipeline/data/ai_pdb_cluster_compared.tsv', sep='\\t')\n",
    "\n",
    "md_nstds = pd.read_csv('./project_pipeline/data/md_nonstandard_monomers.tsv', sep='\\t')\n",
    "md_struct = pd.read_csv('./project_pipeline/data/md_structure_information.tsv', sep='\\t')\n",
    "md_lineage = pd.read_csv('./project_pipeline/data/md_lineage_scores.csv')\n",
    "md_rmsds = pd.read_csv('./project_pipeline/data/md_pdb_cluster_compared.tsv', sep='\\t')\n",
    "\n",
    "ai_dockq = pd.read_csv('./project_pipeline/data/ai_pdb_full_depth_dockq.csv').astype('object')\n",
    "md_dockq = pd.read_csv('./project_pipeline/data/md_pdb_full_depth_dockq.csv').astype('object')\n",
    "\n",
    "cl = pd.read_csv('./project_pipeline/data/classified_files.tsv', sep='\\t')\n",
    "\n",
    "nstds = nstds.rename(columns={'complex_rmsd': grmsd, '2_comp': imfd})\n",
    "md_nstds = md_nstds.rename(columns={'complex_rmsd': grmsd, '2_comp': imfd})\n",
    "\n",
    "rmsds = rmsds.rename(columns={'complex_rmsd': grmsd, '2_comp': imfd})\n",
    "md_rmsds = md_rmsds.rename(columns={'complex_rmsd': grmsd, '2_comp': imfd})\n",
    "\n",
    "nstds = nstds[['uniprot', 'pdb', grmsd, imfd, 'has_partner', 'num_partners', 'has_nstds', 'has_nplymrs']]\n",
    "\n",
    "structure = structure.drop(columns=['Unnamed: 0', 'region_1', 'region_2', 'pdb_length', 'chain',\n",
    "                                    'gt_fn', 'interface_residues', 'number_interface_residues',\n",
    "                                    'num_interface_hydro', 'num_im_hydro', 'num_fd_hydro',\n",
    "                                    'num_domains_hydro', 'num_protein_helix',\n",
    "                                    'num_protein_sheet', 'num_protein_hydro', 'perc_domains_hydro'])\n",
    "\n",
    "md_nstds = md_nstds[['uniprot', 'pdb', grmsd, imfd, 'has_partner', 'num_partners', 'has_nstds', 'has_nplymrs']]\n",
    "\n",
    "md_struct = md_struct.drop(columns=['Unnamed: 0', 'region_1', 'region_2', 'pdb_length', 'chain',\n",
    "                                    'gt_fn', 'interface_residues', 'number_interface_residues',\n",
    "                                    'num_interface_hydro', 'num_im_hydro', 'num_fd_hydro',\n",
    "                                    'num_domains_hydro', 'num_protein_helix',\n",
    "                                    'num_protein_sheet', 'num_protein_hydro', 'perc_domains_hydro'])"
   ]
  },
  {
   "cell_type": "code",
   "execution_count": 1693,
   "metadata": {},
   "outputs": [
    {
     "data": {
      "text/plain": [
       "30.0    30206\n",
       "29.0     2123\n",
       "9.0      1160\n",
       "16.0      995\n",
       "8.0       954\n",
       "Name: uniprot_lineage_length, dtype: int64"
      ]
     },
     "execution_count": 1693,
     "metadata": {},
     "output_type": "execute_result"
    }
   ],
   "source": [
    "lineage['uniprot_lineage_length'].value_counts()"
   ]
  },
  {
   "cell_type": "code",
   "execution_count": 1694,
   "metadata": {},
   "outputs": [],
   "source": [
    "structure = percent_domain_coil1(structure)\n",
    "md_struct = percent_domain_coil1(md_struct)\n",
    "\n",
    "structure = structure.drop(columns=['num_domain_coil', 'pdb residues in region_1', 'pdb residues in region_2',\n",
    "                                    'num_im_helix', 'num_fd_helix', 'num_im_sheet', 'num_fd_sheet'])\n",
    "md_struct = md_struct.drop(columns=['num_domain_coil', 'pdb residues in region_1', 'pdb residues in region_2',\n",
    "                                    'num_im_helix', 'num_fd_helix', 'num_im_sheet', 'num_fd_sheet'])"
   ]
  },
  {
   "cell_type": "code",
   "execution_count": 1695,
   "metadata": {},
   "outputs": [
    {
     "name": "stderr",
     "output_type": "stream",
     "text": [
      "/tmp/ipykernel_1638889/801491458.py:3: SettingWithCopyWarning: \n",
      "A value is trying to be set on a copy of a slice from a DataFrame.\n",
      "Try using .loc[row_indexer,col_indexer] = value instead\n",
      "\n",
      "See the caveats in the documentation: https://pandas.pydata.org/pandas-docs/stable/user_guide/indexing.html#returning-a-view-versus-a-copy\n",
      "  clSub['complex_rmsd'] = clSub['complex_rmsd'].astype(float)\n"
     ]
    },
    {
     "data": {
      "text/plain": [
       "(128, 5)"
      ]
     },
     "execution_count": 1695,
     "metadata": {},
     "output_type": "execute_result"
    }
   ],
   "source": [
    "# Select columns of interest\n",
    "clSub = cl[['uniprot', 'pdb', 'complex_rmsd', '2_aligned', '2_comp']]\n",
    "clSub['complex_rmsd'] = clSub['complex_rmsd'].astype(float)\n",
    "\n",
    "min_cl = clSub.groupby('uniprot')['complex_rmsd'].min()\n",
    "minimum_cl = pd.merge(min_cl, clSub, on=['uniprot', 'complex_rmsd'], how='inner').drop_duplicates(subset=['uniprot'])\n",
    "\n",
    "minimum_cl.shape"
   ]
  },
  {
   "cell_type": "code",
   "execution_count": 1696,
   "metadata": {},
   "outputs": [],
   "source": [
    "dockq1 = pd.merge(minimum_cl, ai_dockq, on=['uniprot', 'pdb'], how='left').fillna(0)\n",
    "dockq1 = dockq1[dockq1['capri'] != 0]\n",
    "dockq_uniprots = dockq1['uniprot'].unique()"
   ]
  },
  {
   "cell_type": "markdown",
   "metadata": {},
   "source": [
    "## Lineage Score"
   ]
  },
  {
   "cell_type": "code",
   "execution_count": 1697,
   "metadata": {},
   "outputs": [],
   "source": [
    "# lineage['group'] = 'Autoinhibitory'\n",
    "# md_lineage['group'] = 'Two-Domain'\n",
    "\n",
    "# lineage = pd.concat([lineage, md_lineage])\n",
    "\n",
    "# rmsds['group'] = 'Autoinhibitory'\n",
    "# md_rmsds['group'] = 'Two-Domain'\n",
    "# rmsds = pd.concat([rmsds, md_rmsds])"
   ]
  },
  {
   "cell_type": "code",
   "execution_count": 1698,
   "metadata": {},
   "outputs": [],
   "source": [
    "# lineage = md_lineage.copy()\n",
    "# rmsds = md_rmsds.copy()"
   ]
  },
  {
   "cell_type": "code",
   "execution_count": 1699,
   "metadata": {},
   "outputs": [
    {
     "data": {
      "text/html": [
       "<div>\n",
       "<style scoped>\n",
       "    .dataframe tbody tr th:only-of-type {\n",
       "        vertical-align: middle;\n",
       "    }\n",
       "\n",
       "    .dataframe tbody tr th {\n",
       "        vertical-align: top;\n",
       "    }\n",
       "\n",
       "    .dataframe thead th {\n",
       "        text-align: right;\n",
       "    }\n",
       "</style>\n",
       "<table border=\"1\" class=\"dataframe\">\n",
       "  <thead>\n",
       "    <tr style=\"text-align: right;\">\n",
       "      <th></th>\n",
       "      <th>uniprot</th>\n",
       "      <th>pdb</th>\n",
       "      <th>percent_interface_hydro</th>\n",
       "      <th>percent_im_hydro</th>\n",
       "      <th>percent_fd_hydro</th>\n",
       "      <th>percent_protein_hydro</th>\n",
       "      <th>percent_im_helix</th>\n",
       "      <th>percent_im_sheet</th>\n",
       "      <th>percent_fd_helix</th>\n",
       "      <th>percent_fd_sheet</th>\n",
       "      <th>percent_protein_helix</th>\n",
       "      <th>percent_protein_sheet</th>\n",
       "      <th>perc_domains_coil</th>\n",
       "    </tr>\n",
       "  </thead>\n",
       "  <tbody>\n",
       "    <tr>\n",
       "      <th>0</th>\n",
       "      <td>D9N168</td>\n",
       "      <td>3ht3</td>\n",
       "      <td>0.300</td>\n",
       "      <td>0.581</td>\n",
       "      <td>0.471</td>\n",
       "      <td>0.482</td>\n",
       "      <td>0.0</td>\n",
       "      <td>0.0</td>\n",
       "      <td>0.736</td>\n",
       "      <td>0.096</td>\n",
       "      <td>0.307</td>\n",
       "      <td>0.060</td>\n",
       "      <td>0.470109</td>\n",
       "    </tr>\n",
       "    <tr>\n",
       "      <th>1</th>\n",
       "      <td>D9N168</td>\n",
       "      <td>4o0i</td>\n",
       "      <td>0.364</td>\n",
       "      <td>0.587</td>\n",
       "      <td>0.471</td>\n",
       "      <td>0.486</td>\n",
       "      <td>0.0</td>\n",
       "      <td>0.0</td>\n",
       "      <td>0.826</td>\n",
       "      <td>0.097</td>\n",
       "      <td>0.369</td>\n",
       "      <td>0.050</td>\n",
       "      <td>0.519022</td>\n",
       "    </tr>\n",
       "    <tr>\n",
       "      <th>2</th>\n",
       "      <td>D9N168</td>\n",
       "      <td>6ueu</td>\n",
       "      <td>0.400</td>\n",
       "      <td>0.587</td>\n",
       "      <td>0.466</td>\n",
       "      <td>0.481</td>\n",
       "      <td>0.0</td>\n",
       "      <td>0.0</td>\n",
       "      <td>0.825</td>\n",
       "      <td>0.097</td>\n",
       "      <td>0.367</td>\n",
       "      <td>0.054</td>\n",
       "      <td>0.516304</td>\n",
       "    </tr>\n",
       "    <tr>\n",
       "      <th>3</th>\n",
       "      <td>D9N168</td>\n",
       "      <td>6ur2</td>\n",
       "      <td>0.333</td>\n",
       "      <td>0.581</td>\n",
       "      <td>0.471</td>\n",
       "      <td>0.479</td>\n",
       "      <td>0.0</td>\n",
       "      <td>0.0</td>\n",
       "      <td>0.710</td>\n",
       "      <td>0.097</td>\n",
       "      <td>0.305</td>\n",
       "      <td>0.054</td>\n",
       "      <td>0.453804</td>\n",
       "    </tr>\n",
       "    <tr>\n",
       "      <th>4</th>\n",
       "      <td>D9N168</td>\n",
       "      <td>6ur4</td>\n",
       "      <td>0.273</td>\n",
       "      <td>0.581</td>\n",
       "      <td>0.471</td>\n",
       "      <td>0.481</td>\n",
       "      <td>0.0</td>\n",
       "      <td>0.0</td>\n",
       "      <td>0.831</td>\n",
       "      <td>0.097</td>\n",
       "      <td>0.371</td>\n",
       "      <td>0.054</td>\n",
       "      <td>0.521739</td>\n",
       "    </tr>\n",
       "  </tbody>\n",
       "</table>\n",
       "</div>"
      ],
      "text/plain": [
       "  uniprot   pdb  percent_interface_hydro  percent_im_hydro  percent_fd_hydro  \\\n",
       "0  D9N168  3ht3                    0.300             0.581             0.471   \n",
       "1  D9N168  4o0i                    0.364             0.587             0.471   \n",
       "2  D9N168  6ueu                    0.400             0.587             0.466   \n",
       "3  D9N168  6ur2                    0.333             0.581             0.471   \n",
       "4  D9N168  6ur4                    0.273             0.581             0.471   \n",
       "\n",
       "   percent_protein_hydro  percent_im_helix  percent_im_sheet  \\\n",
       "0                  0.482               0.0               0.0   \n",
       "1                  0.486               0.0               0.0   \n",
       "2                  0.481               0.0               0.0   \n",
       "3                  0.479               0.0               0.0   \n",
       "4                  0.481               0.0               0.0   \n",
       "\n",
       "   percent_fd_helix  percent_fd_sheet  percent_protein_helix  \\\n",
       "0             0.736             0.096                  0.307   \n",
       "1             0.826             0.097                  0.369   \n",
       "2             0.825             0.097                  0.367   \n",
       "3             0.710             0.097                  0.305   \n",
       "4             0.831             0.097                  0.371   \n",
       "\n",
       "   percent_protein_sheet  perc_domains_coil  \n",
       "0                  0.060           0.470109  \n",
       "1                  0.050           0.519022  \n",
       "2                  0.054           0.516304  \n",
       "3                  0.054           0.453804  \n",
       "4                  0.054           0.521739  "
      ]
     },
     "execution_count": 1699,
     "metadata": {},
     "output_type": "execute_result"
    }
   ],
   "source": [
    "md_struct.head()"
   ]
  },
  {
   "cell_type": "code",
   "execution_count": 1700,
   "metadata": {},
   "outputs": [],
   "source": [
    "all_df = pd.merge(nstds, structure, on=['uniprot', 'pdb'], how='inner')\n",
    "md_all = pd.merge(md_nstds, md_struct, on=['uniprot', 'pdb'], how='inner')"
   ]
  },
  {
   "cell_type": "code",
   "execution_count": 1701,
   "metadata": {},
   "outputs": [
    {
     "data": {
      "text/html": [
       "<div>\n",
       "<style scoped>\n",
       "    .dataframe tbody tr th:only-of-type {\n",
       "        vertical-align: middle;\n",
       "    }\n",
       "\n",
       "    .dataframe tbody tr th {\n",
       "        vertical-align: top;\n",
       "    }\n",
       "\n",
       "    .dataframe thead th {\n",
       "        text-align: right;\n",
       "    }\n",
       "</style>\n",
       "<table border=\"1\" class=\"dataframe\">\n",
       "  <thead>\n",
       "    <tr style=\"text-align: right;\">\n",
       "      <th></th>\n",
       "      <th>uniprot</th>\n",
       "      <th>cluster</th>\n",
       "      <th>cf_filename</th>\n",
       "      <th>uniref</th>\n",
       "      <th>taxonId</th>\n",
       "      <th>uniprot_lineage</th>\n",
       "      <th>cluster_lineage</th>\n",
       "      <th>percent_complete</th>\n",
       "      <th>lineage_score</th>\n",
       "      <th>uniprot_lineage_length</th>\n",
       "      <th>cluster_lineage_length</th>\n",
       "    </tr>\n",
       "  </thead>\n",
       "  <tbody>\n",
       "    <tr>\n",
       "      <th>0</th>\n",
       "      <td>P07038</td>\n",
       "      <td>U100-001</td>\n",
       "      <td>P07038_U100-001.a3m</td>\n",
       "      <td>UniRef100_A0A6A7YAK2</td>\n",
       "      <td>2608987.0</td>\n",
       "      <td>[131567, 2759, 33154, 4751, 451864, 4890, 7165...</td>\n",
       "      <td>[131567, 2, 1224, 28211, 356, 2822331, 2822332]</td>\n",
       "      <td>85.000000</td>\n",
       "      <td>1.0</td>\n",
       "      <td>16.0</td>\n",
       "      <td>7.0</td>\n",
       "    </tr>\n",
       "    <tr>\n",
       "      <th>1</th>\n",
       "      <td>P07038</td>\n",
       "      <td>U100-001</td>\n",
       "      <td>P07038_U100-001.a3m</td>\n",
       "      <td>UniRef100_A0A0E3PDB5</td>\n",
       "      <td>38027.0</td>\n",
       "      <td>[131567, 2759, 33154, 4751, 451864, 4890, 7165...</td>\n",
       "      <td>[131567, 2157, 28890, 2290931, 224756, 94695, ...</td>\n",
       "      <td>84.130435</td>\n",
       "      <td>1.0</td>\n",
       "      <td>16.0</td>\n",
       "      <td>8.0</td>\n",
       "    </tr>\n",
       "    <tr>\n",
       "      <th>2</th>\n",
       "      <td>P07038</td>\n",
       "      <td>U100-001</td>\n",
       "      <td>P07038_U100-001.a3m</td>\n",
       "      <td>UniRef100_W1NSW6</td>\n",
       "      <td>13333.0</td>\n",
       "      <td>[131567, 2759, 33154, 4751, 451864, 4890, 7165...</td>\n",
       "      <td>[131567, 2759, 33090, 35493, 131221, 3193, 580...</td>\n",
       "      <td>87.717391</td>\n",
       "      <td>2.0</td>\n",
       "      <td>16.0</td>\n",
       "      <td>13.0</td>\n",
       "    </tr>\n",
       "    <tr>\n",
       "      <th>3</th>\n",
       "      <td>P07038</td>\n",
       "      <td>U100-001</td>\n",
       "      <td>P07038_U100-001.a3m</td>\n",
       "      <td>UniRef100_A0A2P8C7I5</td>\n",
       "      <td>1541063.0</td>\n",
       "      <td>[131567, 2759, 33154, 4751, 451864, 4890, 7165...</td>\n",
       "      <td>[131567, 2, 1783270, 68336, 976, 200643, 19701...</td>\n",
       "      <td>83.369565</td>\n",
       "      <td>1.0</td>\n",
       "      <td>16.0</td>\n",
       "      <td>9.0</td>\n",
       "    </tr>\n",
       "    <tr>\n",
       "      <th>4</th>\n",
       "      <td>P07038</td>\n",
       "      <td>U100-001</td>\n",
       "      <td>P07038_U100-001.a3m</td>\n",
       "      <td>UniRef100_A0A7C4C2M2</td>\n",
       "      <td>2026714.0</td>\n",
       "      <td>[131567, 2759, 33154, 4751, 451864, 4890, 7165...</td>\n",
       "      <td>[131567, 2157, 1783275, 928852, 1700837]</td>\n",
       "      <td>81.521739</td>\n",
       "      <td>1.0</td>\n",
       "      <td>16.0</td>\n",
       "      <td>5.0</td>\n",
       "    </tr>\n",
       "  </tbody>\n",
       "</table>\n",
       "</div>"
      ],
      "text/plain": [
       "  uniprot   cluster          cf_filename                uniref    taxonId  \\\n",
       "0  P07038  U100-001  P07038_U100-001.a3m  UniRef100_A0A6A7YAK2  2608987.0   \n",
       "1  P07038  U100-001  P07038_U100-001.a3m  UniRef100_A0A0E3PDB5    38027.0   \n",
       "2  P07038  U100-001  P07038_U100-001.a3m      UniRef100_W1NSW6    13333.0   \n",
       "3  P07038  U100-001  P07038_U100-001.a3m  UniRef100_A0A2P8C7I5  1541063.0   \n",
       "4  P07038  U100-001  P07038_U100-001.a3m  UniRef100_A0A7C4C2M2  2026714.0   \n",
       "\n",
       "                                     uniprot_lineage  \\\n",
       "0  [131567, 2759, 33154, 4751, 451864, 4890, 7165...   \n",
       "1  [131567, 2759, 33154, 4751, 451864, 4890, 7165...   \n",
       "2  [131567, 2759, 33154, 4751, 451864, 4890, 7165...   \n",
       "3  [131567, 2759, 33154, 4751, 451864, 4890, 7165...   \n",
       "4  [131567, 2759, 33154, 4751, 451864, 4890, 7165...   \n",
       "\n",
       "                                     cluster_lineage  percent_complete  \\\n",
       "0    [131567, 2, 1224, 28211, 356, 2822331, 2822332]         85.000000   \n",
       "1  [131567, 2157, 28890, 2290931, 224756, 94695, ...         84.130435   \n",
       "2  [131567, 2759, 33090, 35493, 131221, 3193, 580...         87.717391   \n",
       "3  [131567, 2, 1783270, 68336, 976, 200643, 19701...         83.369565   \n",
       "4           [131567, 2157, 1783275, 928852, 1700837]         81.521739   \n",
       "\n",
       "   lineage_score  uniprot_lineage_length  cluster_lineage_length  \n",
       "0            1.0                    16.0                     7.0  \n",
       "1            1.0                    16.0                     8.0  \n",
       "2            2.0                    16.0                    13.0  \n",
       "3            1.0                    16.0                     9.0  \n",
       "4            1.0                    16.0                     5.0  "
      ]
     },
     "execution_count": 1701,
     "metadata": {},
     "output_type": "execute_result"
    }
   ],
   "source": [
    "lineage.head()"
   ]
  },
  {
   "cell_type": "code",
   "execution_count": 1702,
   "metadata": {},
   "outputs": [],
   "source": [
    "lineage = lineage.drop(columns=['cf_filename', 'uniref', 'taxonId', 'uniprot_lineage', 'cluster_lineage'])\n",
    "rmsds = rmsds[['uniprot', 'pdb', 'cluster', grmsd, imfd]]\n",
    "\n",
    "md_lineage = md_lineage.drop(columns=['cf_filename', 'uniref', 'taxonId', 'uniprot_lineage', 'cluster_lineage'])\n",
    "md_rmsds = md_rmsds[['uniprot', 'pdb', 'cluster', grmsd, imfd]]"
   ]
  },
  {
   "cell_type": "code",
   "execution_count": 1703,
   "metadata": {},
   "outputs": [],
   "source": [
    "lineage = lineage[lineage['lineage_score'] != 0]\n",
    "md_lineage = md_lineage[md_lineage['lineage_score'] != 0]"
   ]
  },
  {
   "cell_type": "code",
   "execution_count": 1704,
   "metadata": {},
   "outputs": [],
   "source": [
    "var = lineage.groupby(['uniprot', 'cluster'])['lineage_score'].transform('var')\n",
    "lineage['LS Var.'] = var\n",
    "mean = lineage.groupby(['uniprot', 'cluster'])['lineage_score'].transform('mean')\n",
    "lineage['Mean LS'] = mean\n",
    "max = lineage.groupby(['uniprot', 'cluster'])['lineage_score'].transform('max')\n",
    "lineage['LS Max'] = max\n",
    "count = lineage.groupby(['uniprot', 'cluster'])['lineage_score'].transform('count')\n",
    "lineage['Number of Seqs.'] = count\n",
    "mean_perc = lineage.groupby(['uniprot', 'cluster'])['percent_complete'].transform('mean')\n",
    "lineage['Mean \\% Seq. Completeness'] = mean_perc\n",
    "lineage = lineage.drop(columns=['lineage_score', 'percent_complete', 'uniprot_lineage_length', 'cluster_lineage_length']).drop_duplicates().reset_index(drop=True)"
   ]
  },
  {
   "cell_type": "code",
   "execution_count": 1705,
   "metadata": {},
   "outputs": [
    {
     "data": {
      "text/plain": [
       "(1443, 7)"
      ]
     },
     "execution_count": 1705,
     "metadata": {},
     "output_type": "execute_result"
    }
   ],
   "source": [
    "lineage.shape"
   ]
  },
  {
   "cell_type": "code",
   "execution_count": 1706,
   "metadata": {},
   "outputs": [],
   "source": [
    "md_var = md_lineage.groupby(['uniprot', 'cluster'])['lineage_score'].transform('var')\n",
    "md_lineage['LS Var.'] = md_var\n",
    "md_mean = md_lineage.groupby(['uniprot', 'cluster'])['lineage_score'].transform('mean')\n",
    "md_lineage['Mean LS'] = md_mean\n",
    "md_max = md_lineage.groupby(['uniprot', 'cluster'])['lineage_score'].transform('max')\n",
    "md_lineage['LS Max'] = md_max\n",
    "md_count = md_lineage.groupby(['uniprot', 'cluster'])['lineage_score'].transform('count')\n",
    "md_lineage['Number of Seqs.'] = md_count\n",
    "md_mean_perc = md_lineage.groupby(['uniprot', 'cluster'])['percent_complete'].transform('mean')\n",
    "md_lineage['Mean \\% Seq. Completeness'] = md_mean_perc\n",
    "md_lineage = md_lineage.drop(columns=['lineage_score', 'percent_complete', 'uniprot_lineage_length', 'cluster_lineage_length']).drop_duplicates().reset_index(drop=True)"
   ]
  },
  {
   "cell_type": "code",
   "execution_count": 1707,
   "metadata": {},
   "outputs": [
    {
     "data": {
      "text/plain": [
       "(2103, 7)"
      ]
     },
     "execution_count": 1707,
     "metadata": {},
     "output_type": "execute_result"
    }
   ],
   "source": [
    "md_lineage.shape"
   ]
  },
  {
   "cell_type": "code",
   "execution_count": 1708,
   "metadata": {},
   "outputs": [],
   "source": [
    "lineage_features = pd.merge(lineage, rmsds, on=['uniprot', 'cluster'], how='inner')\n",
    "non_u = lineage_features[~lineage_features['cluster'].str.contains('U')]\n",
    "only_u = lineage_features[lineage_features['cluster'].str.contains('U')]\n",
    "\n",
    "# Group each by uniprot and by cluster and select the pdb per cluster with the lowest grmsd\n",
    "lineage_features = lineage_features.sort_values(grmsd).groupby(['uniprot', 'cluster']).head(1).reset_index(drop=True)\n",
    "non_u = non_u.sort_values(grmsd).groupby(['uniprot', 'cluster']).head(1).reset_index(drop=True)\n",
    "only_u = only_u.sort_values(grmsd).groupby(['uniprot', 'cluster']).head(1).reset_index(drop=True)\n",
    "\n",
    "lineage_features.shape, non_u.shape, only_u.shape\n",
    "\n",
    "accurate_non_u = non_u[non_u[grmsd] <= 3]\n",
    "inaccurate_non_u = non_u[non_u[grmsd] > 3]"
   ]
  },
  {
   "cell_type": "code",
   "execution_count": 1709,
   "metadata": {},
   "outputs": [],
   "source": [
    "md_lineage_features = pd.merge(md_lineage, md_rmsds, on=['uniprot', 'cluster'], how='inner')\n",
    "md_non_u = md_lineage_features[~md_lineage_features['cluster'].str.contains('U')]\n",
    "md_only_u = md_lineage_features[md_lineage_features['cluster'].str.contains('U')]\n",
    "\n",
    "# Group each by uniprot and by cluster and select the pdb per cluster with the lowest grmsd\n",
    "md_lineage_features = md_lineage_features.sort_values(grmsd).groupby(['uniprot', 'cluster']).head(1).reset_index(drop=True)\n",
    "md_non_u = md_non_u.sort_values(grmsd).groupby(['uniprot', 'cluster']).head(1).reset_index(drop=True)\n",
    "md_only_u = md_only_u.sort_values(grmsd).groupby(['uniprot', 'cluster']).head(1).reset_index(drop=True)\n",
    "\n",
    "md_lineage_features.shape, md_non_u.shape, md_only_u.shape\n",
    "\n",
    "md_accurate_non_u = md_non_u[md_non_u[grmsd] <= 3]\n",
    "md_inaccurate_non_u = md_non_u[md_non_u[grmsd] > 3]"
   ]
  },
  {
   "cell_type": "code",
   "execution_count": 1710,
   "metadata": {},
   "outputs": [],
   "source": [
    "accurate_only_u = only_u[only_u[grmsd] <= 3]\n",
    "inaccurate_only_u = only_u[only_u[grmsd] > 3]\n",
    "\n",
    "md_accurate_only_u = md_only_u[md_only_u[grmsd] <= 3]\n",
    "md_inaccurate_only_u = md_only_u[md_only_u[grmsd] > 3]"
   ]
  },
  {
   "cell_type": "code",
   "execution_count": 1711,
   "metadata": {},
   "outputs": [
    {
     "name": "stderr",
     "output_type": "stream",
     "text": [
      "/tmp/ipykernel_1638889/2080612962.py:1: SettingWithCopyWarning: \n",
      "A value is trying to be set on a copy of a slice from a DataFrame.\n",
      "Try using .loc[row_indexer,col_indexer] = value instead\n",
      "\n",
      "See the caveats in the documentation: https://pandas.pydata.org/pandas-docs/stable/user_guide/indexing.html#returning-a-view-versus-a-copy\n",
      "  accurate_non_u['Accuracy'] = 'Accurate AI'\n",
      "/tmp/ipykernel_1638889/2080612962.py:2: SettingWithCopyWarning: \n",
      "A value is trying to be set on a copy of a slice from a DataFrame.\n",
      "Try using .loc[row_indexer,col_indexer] = value instead\n",
      "\n",
      "See the caveats in the documentation: https://pandas.pydata.org/pandas-docs/stable/user_guide/indexing.html#returning-a-view-versus-a-copy\n",
      "  accurate_non_u['Type'] = 'AI'\n",
      "/tmp/ipykernel_1638889/2080612962.py:3: SettingWithCopyWarning: \n",
      "A value is trying to be set on a copy of a slice from a DataFrame.\n",
      "Try using .loc[row_indexer,col_indexer] = value instead\n",
      "\n",
      "See the caveats in the documentation: https://pandas.pydata.org/pandas-docs/stable/user_guide/indexing.html#returning-a-view-versus-a-copy\n",
      "  inaccurate_non_u['Accuracy'] = 'Inaccurate AI'\n",
      "/tmp/ipykernel_1638889/2080612962.py:4: SettingWithCopyWarning: \n",
      "A value is trying to be set on a copy of a slice from a DataFrame.\n",
      "Try using .loc[row_indexer,col_indexer] = value instead\n",
      "\n",
      "See the caveats in the documentation: https://pandas.pydata.org/pandas-docs/stable/user_guide/indexing.html#returning-a-view-versus-a-copy\n",
      "  inaccurate_non_u['Type'] = 'AI'\n",
      "/tmp/ipykernel_1638889/2080612962.py:6: SettingWithCopyWarning: \n",
      "A value is trying to be set on a copy of a slice from a DataFrame.\n",
      "Try using .loc[row_indexer,col_indexer] = value instead\n",
      "\n",
      "See the caveats in the documentation: https://pandas.pydata.org/pandas-docs/stable/user_guide/indexing.html#returning-a-view-versus-a-copy\n",
      "  md_accurate_non_u['Accuracy'] = 'Accurate TD'\n",
      "/tmp/ipykernel_1638889/2080612962.py:7: SettingWithCopyWarning: \n",
      "A value is trying to be set on a copy of a slice from a DataFrame.\n",
      "Try using .loc[row_indexer,col_indexer] = value instead\n",
      "\n",
      "See the caveats in the documentation: https://pandas.pydata.org/pandas-docs/stable/user_guide/indexing.html#returning-a-view-versus-a-copy\n",
      "  md_accurate_non_u['Type'] = 'TD'\n",
      "/tmp/ipykernel_1638889/2080612962.py:8: SettingWithCopyWarning: \n",
      "A value is trying to be set on a copy of a slice from a DataFrame.\n",
      "Try using .loc[row_indexer,col_indexer] = value instead\n",
      "\n",
      "See the caveats in the documentation: https://pandas.pydata.org/pandas-docs/stable/user_guide/indexing.html#returning-a-view-versus-a-copy\n",
      "  md_inaccurate_non_u['Accuracy'] = 'Inaccurate TD'\n",
      "/tmp/ipykernel_1638889/2080612962.py:9: SettingWithCopyWarning: \n",
      "A value is trying to be set on a copy of a slice from a DataFrame.\n",
      "Try using .loc[row_indexer,col_indexer] = value instead\n",
      "\n",
      "See the caveats in the documentation: https://pandas.pydata.org/pandas-docs/stable/user_guide/indexing.html#returning-a-view-versus-a-copy\n",
      "  md_inaccurate_non_u['Type'] = 'TD'\n",
      "/tmp/ipykernel_1638889/2080612962.py:11: SettingWithCopyWarning: \n",
      "A value is trying to be set on a copy of a slice from a DataFrame.\n",
      "Try using .loc[row_indexer,col_indexer] = value instead\n",
      "\n",
      "See the caveats in the documentation: https://pandas.pydata.org/pandas-docs/stable/user_guide/indexing.html#returning-a-view-versus-a-copy\n",
      "  accurate_only_u['Accuracy'] = 'Accurate AI'\n",
      "/tmp/ipykernel_1638889/2080612962.py:12: SettingWithCopyWarning: \n",
      "A value is trying to be set on a copy of a slice from a DataFrame.\n",
      "Try using .loc[row_indexer,col_indexer] = value instead\n",
      "\n",
      "See the caveats in the documentation: https://pandas.pydata.org/pandas-docs/stable/user_guide/indexing.html#returning-a-view-versus-a-copy\n",
      "  accurate_only_u['Type'] = 'AI'\n",
      "/tmp/ipykernel_1638889/2080612962.py:13: SettingWithCopyWarning: \n",
      "A value is trying to be set on a copy of a slice from a DataFrame.\n",
      "Try using .loc[row_indexer,col_indexer] = value instead\n",
      "\n",
      "See the caveats in the documentation: https://pandas.pydata.org/pandas-docs/stable/user_guide/indexing.html#returning-a-view-versus-a-copy\n",
      "  inaccurate_only_u['Accuracy'] = 'Inaccurate AI'\n",
      "/tmp/ipykernel_1638889/2080612962.py:14: SettingWithCopyWarning: \n",
      "A value is trying to be set on a copy of a slice from a DataFrame.\n",
      "Try using .loc[row_indexer,col_indexer] = value instead\n",
      "\n",
      "See the caveats in the documentation: https://pandas.pydata.org/pandas-docs/stable/user_guide/indexing.html#returning-a-view-versus-a-copy\n",
      "  inaccurate_only_u['Type'] = 'AI'\n",
      "/tmp/ipykernel_1638889/2080612962.py:16: SettingWithCopyWarning: \n",
      "A value is trying to be set on a copy of a slice from a DataFrame.\n",
      "Try using .loc[row_indexer,col_indexer] = value instead\n",
      "\n",
      "See the caveats in the documentation: https://pandas.pydata.org/pandas-docs/stable/user_guide/indexing.html#returning-a-view-versus-a-copy\n",
      "  md_accurate_only_u['Accuracy'] = 'Accurate TD'\n",
      "/tmp/ipykernel_1638889/2080612962.py:17: SettingWithCopyWarning: \n",
      "A value is trying to be set on a copy of a slice from a DataFrame.\n",
      "Try using .loc[row_indexer,col_indexer] = value instead\n",
      "\n",
      "See the caveats in the documentation: https://pandas.pydata.org/pandas-docs/stable/user_guide/indexing.html#returning-a-view-versus-a-copy\n",
      "  md_accurate_only_u['Type'] = 'TD'\n",
      "/tmp/ipykernel_1638889/2080612962.py:18: SettingWithCopyWarning: \n",
      "A value is trying to be set on a copy of a slice from a DataFrame.\n",
      "Try using .loc[row_indexer,col_indexer] = value instead\n",
      "\n",
      "See the caveats in the documentation: https://pandas.pydata.org/pandas-docs/stable/user_guide/indexing.html#returning-a-view-versus-a-copy\n",
      "  md_inaccurate_only_u['Accuracy'] = 'Inaccurate TD'\n",
      "/tmp/ipykernel_1638889/2080612962.py:19: SettingWithCopyWarning: \n",
      "A value is trying to be set on a copy of a slice from a DataFrame.\n",
      "Try using .loc[row_indexer,col_indexer] = value instead\n",
      "\n",
      "See the caveats in the documentation: https://pandas.pydata.org/pandas-docs/stable/user_guide/indexing.html#returning-a-view-versus-a-copy\n",
      "  md_inaccurate_only_u['Type'] = 'TD'\n"
     ]
    }
   ],
   "source": [
    "accurate_non_u['Accuracy'] = 'Accurate AI'\n",
    "accurate_non_u['Type'] = 'AI'\n",
    "inaccurate_non_u['Accuracy'] = 'Inaccurate AI'\n",
    "inaccurate_non_u['Type'] = 'AI'\n",
    "\n",
    "md_accurate_non_u['Accuracy'] = 'Accurate TD'\n",
    "md_accurate_non_u['Type'] = 'TD'\n",
    "md_inaccurate_non_u['Accuracy'] = 'Inaccurate TD'\n",
    "md_inaccurate_non_u['Type'] = 'TD'\n",
    "\n",
    "accurate_only_u['Accuracy'] = 'Accurate AI'\n",
    "accurate_only_u['Type'] = 'AI'\n",
    "inaccurate_only_u['Accuracy'] = 'Inaccurate AI'\n",
    "inaccurate_only_u['Type'] = 'AI'\n",
    "\n",
    "md_accurate_only_u['Accuracy'] = 'Accurate TD'\n",
    "md_accurate_only_u['Type'] = 'TD'\n",
    "md_inaccurate_only_u['Accuracy'] = 'Inaccurate TD'\n",
    "md_inaccurate_only_u['Type'] = 'TD'"
   ]
  },
  {
   "cell_type": "code",
   "execution_count": 1712,
   "metadata": {},
   "outputs": [],
   "source": [
    "only_u = pd.concat([accurate_only_u, inaccurate_only_u, md_accurate_only_u, md_inaccurate_only_u])\n",
    "non_u = pd.concat([accurate_non_u, inaccurate_non_u, md_accurate_non_u, md_inaccurate_non_u])"
   ]
  },
  {
   "cell_type": "code",
   "execution_count": 1713,
   "metadata": {},
   "outputs": [
    {
     "data": {
      "text/html": [
       "<div>\n",
       "<style scoped>\n",
       "    .dataframe tbody tr th:only-of-type {\n",
       "        vertical-align: middle;\n",
       "    }\n",
       "\n",
       "    .dataframe tbody tr th {\n",
       "        vertical-align: top;\n",
       "    }\n",
       "\n",
       "    .dataframe thead th {\n",
       "        text-align: right;\n",
       "    }\n",
       "</style>\n",
       "<table border=\"1\" class=\"dataframe\">\n",
       "  <thead>\n",
       "    <tr style=\"text-align: right;\">\n",
       "      <th></th>\n",
       "      <th>uniprot</th>\n",
       "      <th>cluster</th>\n",
       "      <th>LS Var.</th>\n",
       "      <th>Mean LS</th>\n",
       "      <th>LS Max</th>\n",
       "      <th>Number of Seqs.</th>\n",
       "      <th>Mean \\% Seq. Completeness</th>\n",
       "      <th>pdb</th>\n",
       "      <th>gRMSD</th>\n",
       "      <th>$_{fd}^{im}$RMSD</th>\n",
       "      <th>Accuracy</th>\n",
       "      <th>Type</th>\n",
       "    </tr>\n",
       "  </thead>\n",
       "  <tbody>\n",
       "    <tr>\n",
       "      <th>0</th>\n",
       "      <td>Q96BN8</td>\n",
       "      <td>U100-004</td>\n",
       "      <td>17.568256</td>\n",
       "      <td>15.268817</td>\n",
       "      <td>22.0</td>\n",
       "      <td>93</td>\n",
       "      <td>85.114247</td>\n",
       "      <td>3znx</td>\n",
       "      <td>1.147</td>\n",
       "      <td>1.604</td>\n",
       "      <td>Accurate AI</td>\n",
       "      <td>AI</td>\n",
       "    </tr>\n",
       "    <tr>\n",
       "      <th>1</th>\n",
       "      <td>Q96BN8</td>\n",
       "      <td>U100-007</td>\n",
       "      <td>23.474725</td>\n",
       "      <td>14.945055</td>\n",
       "      <td>26.0</td>\n",
       "      <td>91</td>\n",
       "      <td>85.498876</td>\n",
       "      <td>3znx</td>\n",
       "      <td>1.317</td>\n",
       "      <td>1.843</td>\n",
       "      <td>Accurate AI</td>\n",
       "      <td>AI</td>\n",
       "    </tr>\n",
       "    <tr>\n",
       "      <th>2</th>\n",
       "      <td>Q96BN8</td>\n",
       "      <td>U100-001</td>\n",
       "      <td>21.596774</td>\n",
       "      <td>14.967742</td>\n",
       "      <td>25.0</td>\n",
       "      <td>93</td>\n",
       "      <td>83.993157</td>\n",
       "      <td>3znx</td>\n",
       "      <td>1.360</td>\n",
       "      <td>1.661</td>\n",
       "      <td>Accurate AI</td>\n",
       "      <td>AI</td>\n",
       "    </tr>\n",
       "    <tr>\n",
       "      <th>3</th>\n",
       "      <td>Q96BN8</td>\n",
       "      <td>U100-005</td>\n",
       "      <td>14.178723</td>\n",
       "      <td>15.400000</td>\n",
       "      <td>26.0</td>\n",
       "      <td>95</td>\n",
       "      <td>85.971890</td>\n",
       "      <td>3znx</td>\n",
       "      <td>1.387</td>\n",
       "      <td>2.030</td>\n",
       "      <td>Accurate AI</td>\n",
       "      <td>AI</td>\n",
       "    </tr>\n",
       "    <tr>\n",
       "      <th>4</th>\n",
       "      <td>Q96BN8</td>\n",
       "      <td>U100-009</td>\n",
       "      <td>19.630128</td>\n",
       "      <td>15.244898</td>\n",
       "      <td>22.0</td>\n",
       "      <td>98</td>\n",
       "      <td>85.093924</td>\n",
       "      <td>3znx</td>\n",
       "      <td>1.388</td>\n",
       "      <td>1.799</td>\n",
       "      <td>Accurate AI</td>\n",
       "      <td>AI</td>\n",
       "    </tr>\n",
       "  </tbody>\n",
       "</table>\n",
       "</div>"
      ],
      "text/plain": [
       "  uniprot   cluster    LS Var.    Mean LS  LS Max  Number of Seqs.  \\\n",
       "0  Q96BN8  U100-004  17.568256  15.268817    22.0               93   \n",
       "1  Q96BN8  U100-007  23.474725  14.945055    26.0               91   \n",
       "2  Q96BN8  U100-001  21.596774  14.967742    25.0               93   \n",
       "3  Q96BN8  U100-005  14.178723  15.400000    26.0               95   \n",
       "4  Q96BN8  U100-009  19.630128  15.244898    22.0               98   \n",
       "\n",
       "   Mean \\% Seq. Completeness   pdb  gRMSD  $_{fd}^{im}$RMSD     Accuracy Type  \n",
       "0                  85.114247  3znx  1.147             1.604  Accurate AI   AI  \n",
       "1                  85.498876  3znx  1.317             1.843  Accurate AI   AI  \n",
       "2                  83.993157  3znx  1.360             1.661  Accurate AI   AI  \n",
       "3                  85.971890  3znx  1.387             2.030  Accurate AI   AI  \n",
       "4                  85.093924  3znx  1.388             1.799  Accurate AI   AI  "
      ]
     },
     "execution_count": 1713,
     "metadata": {},
     "output_type": "execute_result"
    }
   ],
   "source": [
    "only_u.head()"
   ]
  },
  {
   "cell_type": "code",
   "execution_count": 1720,
   "metadata": {},
   "outputs": [
    {
     "name": "stderr",
     "output_type": "stream",
     "text": [
      "/tmp/ipykernel_1638889/1789927343.py:59: UserWarning: set_ticklabels() should only be used with a fixed number of ticks, i.e. after set_ticks() or using a FixedLocator.\n",
      "  ax.set_yticklabels(ax.get_yticklabels(), fontsize=12)\n"
     ]
    },
    {
     "name": "stdout",
     "output_type": "stream",
     "text": [
      "p-value annotation legend:\n",
      "      ns: 5.00e-02 < p <= 1.00e+00\n",
      "       *: 1.00e-02 < p <= 5.00e-02\n",
      "      **: 1.00e-03 < p <= 1.00e-02\n",
      "     ***: 1.00e-04 < p <= 1.00e-03\n",
      "    ****: p <= 1.00e-04\n",
      "\n",
      "Accurate AI_AI vs. Inaccurate AI_AI: Mann-Whitney-Wilcoxon test two-sided, P_val:8.079e-03 U_stat=1.281e+04\n",
      "Accurate TD_TD vs. Inaccurate TD_TD: Mann-Whitney-Wilcoxon test two-sided, P_val:7.154e-02 U_stat=1.979e+04\n",
      "p-value annotation legend:\n",
      "      ns: 5.00e-02 < p <= 1.00e+00\n",
      "       *: 1.00e-02 < p <= 5.00e-02\n",
      "      **: 1.00e-03 < p <= 1.00e-02\n",
      "     ***: 1.00e-04 < p <= 1.00e-03\n",
      "    ****: p <= 1.00e-04\n",
      "\n",
      "Accurate AI_AI vs. Inaccurate AI_AI: Mann-Whitney-Wilcoxon test two-sided, P_val:4.918e-01 U_stat=1.808e+04\n"
     ]
    },
    {
     "name": "stderr",
     "output_type": "stream",
     "text": [
      "/tmp/ipykernel_1638889/1789927343.py:59: UserWarning: set_ticklabels() should only be used with a fixed number of ticks, i.e. after set_ticks() or using a FixedLocator.\n",
      "  ax.set_yticklabels(ax.get_yticklabels(), fontsize=12)\n"
     ]
    },
    {
     "name": "stdout",
     "output_type": "stream",
     "text": [
      "Accurate TD_TD vs. Inaccurate TD_TD: Mann-Whitney-Wilcoxon test two-sided, P_val:6.659e-04 U_stat=9.834e+04\n"
     ]
    },
    {
     "data": {
      "image/png": "[encoded data removed]",
      "text/plain": [
       "<Figure size 1000x500 with 2 Axes>"
      ]
     },
     "metadata": {},
     "output_type": "display_data"
    }
   ],
   "source": [
    "fig, axes = plt.subplots(1, 2, figsize=(10, 5))\n",
    "axes[0].set_ylim(0, 20)\n",
    "axes[1].set_ylim(0, 20)\n",
    "\n",
    "axi = axes.flatten()\n",
    "\n",
    "order = ['Accurate AI', 'Inaccurate AI', 'Accurate TD', 'Inaccurate TD']\n",
    "pairs = [[('Accurate AI', 'AI'), ('Inaccurate AI', 'AI')], \n",
    "         [('Accurate TD', 'TD'), ('Inaccurate TD', 'TD')]]\n",
    "\n",
    "# plot_lineage(acc_both_only_u, axes[0], colors, 'Type', 'Mean LS', 'Type', order, pairs)\n",
    "# plot_lineage(only_u, axes[0], accuracy_palette, 'Type', 'Mean LS', 'Accuracy', order, pairs)\n",
    "plot_lineage(only_u, axes[0], colors, 'Accuracy', 'Mean LS', 'Type', order, pairs)\n",
    "plot_lineage(non_u, axes[1], colors, 'Accuracy', 'Mean LS', 'Type', order, pairs)\n",
    "\n",
    "cols = ['Uniformly Clustered', 'Locally Clustered']\n",
    "\n",
    "pad = 5\n",
    "for ax, col in zip(axes, cols):\n",
    "    ax.annotate(col, xy=(0.5, 1.1), xytext=(0, pad),\n",
    "                xycoords='axes fraction', textcoords='offset points',\n",
    "                size=16, ha='center', va='baseline')\n",
    "    \n",
    "plt.savefig('./project_pipeline/data/figures/mean_ls.png', dpi=300, bbox_inches='tight')"
   ]
  },
  {
   "cell_type": "code",
   "execution_count": 1721,
   "metadata": {},
   "outputs": [
    {
     "name": "stderr",
     "output_type": "stream",
     "text": [
      "/tmp/ipykernel_1638889/1789927343.py:59: UserWarning: set_ticklabels() should only be used with a fixed number of ticks, i.e. after set_ticks() or using a FixedLocator.\n",
      "  ax.set_yticklabels(ax.get_yticklabels(), fontsize=12)\n"
     ]
    },
    {
     "name": "stdout",
     "output_type": "stream",
     "text": [
      "p-value annotation legend:\n",
      "      ns: 5.00e-02 < p <= 1.00e+00\n",
      "       *: 1.00e-02 < p <= 5.00e-02\n",
      "      **: 1.00e-03 < p <= 1.00e-02\n",
      "     ***: 1.00e-04 < p <= 1.00e-03\n",
      "    ****: p <= 1.00e-04\n",
      "\n",
      "Accurate AI_AI vs. Inaccurate AI_AI: Mann-Whitney-Wilcoxon test two-sided, P_val:5.786e-02 U_stat=9.166e+03\n",
      "Accurate TD_TD vs. Inaccurate TD_TD: Mann-Whitney-Wilcoxon test two-sided, P_val:6.200e-02 U_stat=1.588e+04\n"
     ]
    },
    {
     "name": "stderr",
     "output_type": "stream",
     "text": [
      "/tmp/ipykernel_1638889/1789927343.py:59: UserWarning: set_ticklabels() should only be used with a fixed number of ticks, i.e. after set_ticks() or using a FixedLocator.\n",
      "  ax.set_yticklabels(ax.get_yticklabels(), fontsize=12)\n"
     ]
    },
    {
     "name": "stdout",
     "output_type": "stream",
     "text": [
      "p-value annotation legend:\n",
      "      ns: 5.00e-02 < p <= 1.00e+00\n",
      "       *: 1.00e-02 < p <= 5.00e-02\n",
      "      **: 1.00e-03 < p <= 1.00e-02\n",
      "     ***: 1.00e-04 < p <= 1.00e-03\n",
      "    ****: p <= 1.00e-04\n",
      "\n",
      "Accurate AI_AI vs. Inaccurate AI_AI: Mann-Whitney-Wilcoxon test two-sided, P_val:1.673e-04 U_stat=2.639e+04\n",
      "Accurate TD_TD vs. Inaccurate TD_TD: Mann-Whitney-Wilcoxon test two-sided, P_val:2.762e-04 U_stat=1.004e+05\n"
     ]
    },
    {
     "data": {
      "image/png": "[encoded data removed]",
      "text/plain": [
       "<Figure size 1000x500 with 2 Axes>"
      ]
     },
     "metadata": {},
     "output_type": "display_data"
    }
   ],
   "source": [
    "fig, axes = plt.subplots(1, 2, figsize=(10, 5))\n",
    "axes[0].set_ylim(70, 101)\n",
    "axes[1].set_ylim(70, 101)\n",
    "\n",
    "axi = axes.flatten()\n",
    "\n",
    "order = ['Accurate AI', 'Inaccurate AI', 'Accurate TD', 'Inaccurate TD']\n",
    "pairs = [[('Accurate AI', 'AI'), ('Inaccurate AI', 'AI')], \n",
    "         [('Accurate TD', 'TD'), ('Inaccurate TD', 'TD')]]\n",
    "\n",
    "# plot_lineage(acc_both_only_u, axes[0], colors, 'Type', 'Mean LS', 'Type', order, pairs)\n",
    "# plot_lineage(only_u, axes[0], accuracy_palette, 'Type', 'Mean LS', 'Accuracy', order, pairs)\n",
    "plot_lineage(only_u, axes[0], colors, 'Accuracy', 'Mean \\% Seq. Completeness', 'Type', order, pairs)\n",
    "plot_lineage(non_u, axes[1], colors, 'Accuracy', 'Mean \\% Seq. Completeness', 'Type', order, pairs)\n",
    "\n",
    "cols = ['Uniformly Clustered', 'Locally Clustered']\n",
    "\n",
    "pad = 5\n",
    "for ax, col in zip(axes, cols):\n",
    "    ax.annotate(col, xy=(0.5, 1.1), xytext=(0, pad),\n",
    "                xycoords='axes fraction', textcoords='offset points',\n",
    "                size=16, ha='center', va='baseline')\n",
    "    \n",
    "plt.savefig('./project_pipeline/data/figures/mean_seq_completeness.png', dpi=300, bbox_inches='tight')"
   ]
  },
  {
   "cell_type": "code",
   "execution_count": 1722,
   "metadata": {},
   "outputs": [
    {
     "name": "stderr",
     "output_type": "stream",
     "text": [
      "/tmp/ipykernel_1638889/1789927343.py:59: UserWarning: set_ticklabels() should only be used with a fixed number of ticks, i.e. after set_ticks() or using a FixedLocator.\n",
      "  ax.set_yticklabels(ax.get_yticklabels(), fontsize=12)\n"
     ]
    },
    {
     "name": "stdout",
     "output_type": "stream",
     "text": [
      "p-value annotation legend:\n",
      "      ns: 5.00e-02 < p <= 1.00e+00\n",
      "       *: 1.00e-02 < p <= 5.00e-02\n",
      "      **: 1.00e-03 < p <= 1.00e-02\n",
      "     ***: 1.00e-04 < p <= 1.00e-03\n",
      "    ****: p <= 1.00e-04\n",
      "\n",
      "Accurate AI_AI vs. Inaccurate AI_AI: Mann-Whitney-Wilcoxon test two-sided, P_val:4.926e-03 U_stat=1.294e+04\n",
      "Accurate TD_TD vs. Inaccurate TD_TD: Mann-Whitney-Wilcoxon test two-sided, P_val:5.563e-04 U_stat=2.154e+04\n"
     ]
    },
    {
     "name": "stderr",
     "output_type": "stream",
     "text": [
      "/tmp/ipykernel_1638889/1789927343.py:59: UserWarning: set_ticklabels() should only be used with a fixed number of ticks, i.e. after set_ticks() or using a FixedLocator.\n",
      "  ax.set_yticklabels(ax.get_yticklabels(), fontsize=12)\n"
     ]
    },
    {
     "name": "stdout",
     "output_type": "stream",
     "text": [
      "p-value annotation legend:\n",
      "      ns: 5.00e-02 < p <= 1.00e+00\n",
      "       *: 1.00e-02 < p <= 5.00e-02\n",
      "      **: 1.00e-03 < p <= 1.00e-02\n",
      "     ***: 1.00e-04 < p <= 1.00e-03\n",
      "    ****: p <= 1.00e-04\n",
      "\n",
      "Accurate AI_AI vs. Inaccurate AI_AI: Mann-Whitney-Wilcoxon test two-sided, P_val:5.042e-14 U_stat=3.325e+04\n",
      "Accurate TD_TD vs. Inaccurate TD_TD: Mann-Whitney-Wilcoxon test two-sided, P_val:4.532e-04 U_stat=9.952e+04\n"
     ]
    },
    {
     "data": {
      "image/png": "[encoded data removed]",
      "text/plain": [
       "<Figure size 1000x500 with 2 Axes>"
      ]
     },
     "metadata": {},
     "output_type": "display_data"
    }
   ],
   "source": [
    "fig, axes = plt.subplots(1, 2, figsize=(10, 5))\n",
    "axes[0].set_ylim(0, 200)\n",
    "axes[1].set_ylim(0, 200)\n",
    "\n",
    "axi = axes.flatten()\n",
    "\n",
    "order = ['Accurate AI', 'Inaccurate AI', 'Accurate TD', 'Inaccurate TD']\n",
    "pairs = [[('Accurate AI', 'AI'), ('Inaccurate AI', 'AI')], \n",
    "         [('Accurate TD', 'TD'), ('Inaccurate TD', 'TD')]]\n",
    "\n",
    "# plot_lineage(acc_both_only_u, axes[0], colors, 'Type', 'Mean LS', 'Type', order, pairs)\n",
    "# plot_lineage(only_u, axes[0], accuracy_palette, 'Type', 'Mean LS', 'Accuracy', order, pairs)\n",
    "plot_lineage(only_u, axes[0], colors, 'Accuracy', 'Number of Seqs.', 'Type', order, pairs)\n",
    "plot_lineage(non_u, axes[1], colors, 'Accuracy', 'Number of Seqs.', 'Type', order, pairs)\n",
    "\n",
    "cols = ['Uniformly Clustered', 'Locally Clustered']\n",
    "\n",
    "pad = 5\n",
    "for ax, col in zip(axes, cols):\n",
    "    ax.annotate(col, xy=(0.5, 1.1), xytext=(0, pad),\n",
    "                xycoords='axes fraction', textcoords='offset points',\n",
    "                size=16, ha='center', va='baseline')\n",
    "    \n",
    "plt.savefig('./project_pipeline/data/figures/num_seqs.png', dpi=300, bbox_inches='tight')"
   ]
  },
  {
   "cell_type": "code",
   "execution_count": 1723,
   "metadata": {},
   "outputs": [
    {
     "name": "stderr",
     "output_type": "stream",
     "text": [
      "/tmp/ipykernel_1638889/1789927343.py:59: UserWarning: set_ticklabels() should only be used with a fixed number of ticks, i.e. after set_ticks() or using a FixedLocator.\n",
      "  ax.set_yticklabels(ax.get_yticklabels(), fontsize=12)\n"
     ]
    },
    {
     "name": "stdout",
     "output_type": "stream",
     "text": [
      "p-value annotation legend:\n",
      "      ns: 5.00e-02 < p <= 1.00e+00\n",
      "       *: 1.00e-02 < p <= 5.00e-02\n",
      "      **: 1.00e-03 < p <= 1.00e-02\n",
      "     ***: 1.00e-04 < p <= 1.00e-03\n",
      "    ****: p <= 1.00e-04\n",
      "\n",
      "Accurate AI_AI vs. Inaccurate AI_AI: Mann-Whitney-Wilcoxon test two-sided, P_val:4.126e-05 U_stat=1.398e+04\n",
      "Accurate TD_TD vs. Inaccurate TD_TD: Mann-Whitney-Wilcoxon test two-sided, P_val:5.028e-02 U_stat=1.571e+04\n"
     ]
    },
    {
     "name": "stderr",
     "output_type": "stream",
     "text": [
      "/tmp/ipykernel_1638889/1789927343.py:59: UserWarning: set_ticklabels() should only be used with a fixed number of ticks, i.e. after set_ticks() or using a FixedLocator.\n",
      "  ax.set_yticklabels(ax.get_yticklabels(), fontsize=12)\n"
     ]
    },
    {
     "name": "stdout",
     "output_type": "stream",
     "text": [
      "p-value annotation legend:\n",
      "      ns: 5.00e-02 < p <= 1.00e+00\n",
      "       *: 1.00e-02 < p <= 5.00e-02\n",
      "      **: 1.00e-03 < p <= 1.00e-02\n",
      "     ***: 1.00e-04 < p <= 1.00e-03\n",
      "    ****: p <= 1.00e-04\n",
      "\n",
      "Accurate AI_AI vs. Inaccurate AI_AI: Mann-Whitney-Wilcoxon test two-sided, P_val:1.651e-12 U_stat=2.324e+04\n",
      "Accurate TD_TD vs. Inaccurate TD_TD: Mann-Whitney-Wilcoxon test two-sided, P_val:1.331e-01 U_stat=6.422e+04\n"
     ]
    },
    {
     "data": {
      "image/png": "[encoded data removed]",
      "text/plain": [
       "<Figure size 1000x500 with 2 Axes>"
      ]
     },
     "metadata": {},
     "output_type": "display_data"
    }
   ],
   "source": [
    "fig, axes = plt.subplots(1, 2, figsize=(10, 5))\n",
    "axes[0].set_ylim(-1, 40)\n",
    "axes[1].set_ylim(-1, 40)\n",
    "\n",
    "axi = axes.flatten()\n",
    "\n",
    "order = ['Accurate AI', 'Inaccurate AI', 'Accurate TD', 'Inaccurate TD']\n",
    "pairs = [[('Accurate AI', 'AI'), ('Inaccurate AI', 'AI')], \n",
    "         [('Accurate TD', 'TD'), ('Inaccurate TD', 'TD')]]\n",
    "\n",
    "# plot_lineage(acc_both_only_u, axes[0], colors, 'Type', 'Mean LS', 'Type', order, pairs)\n",
    "# plot_lineage(only_u, axes[0], accuracy_palette, 'Type', 'Mean LS', 'Accuracy', order, pairs)\n",
    "plot_lineage(only_u, axes[0], colors, 'Accuracy', 'LS Var.', 'Type', order, pairs)\n",
    "plot_lineage(non_u, axes[1], colors, 'Accuracy', 'LS Var.', 'Type', order, pairs)\n",
    "\n",
    "cols = ['Uniformly Clustered', 'Locally Clustered']\n",
    "\n",
    "pad = 5\n",
    "for ax, col in zip(axes, cols):\n",
    "    ax.annotate(col, xy=(0.5, 1.1), xytext=(0, pad),\n",
    "                xycoords='axes fraction', textcoords='offset points',\n",
    "                size=16, ha='center', va='baseline')\n",
    "    \n",
    "plt.savefig('./project_pipeline/data/figures/ls_var.png', dpi=300, bbox_inches='tight')"
   ]
  },
  {
   "cell_type": "code",
   "execution_count": 1724,
   "metadata": {},
   "outputs": [
    {
     "name": "stderr",
     "output_type": "stream",
     "text": [
      "/tmp/ipykernel_1638889/1789927343.py:59: UserWarning: set_ticklabels() should only be used with a fixed number of ticks, i.e. after set_ticks() or using a FixedLocator.\n",
      "  ax.set_yticklabels(ax.get_yticklabels(), fontsize=12)\n"
     ]
    },
    {
     "name": "stdout",
     "output_type": "stream",
     "text": [
      "p-value annotation legend:\n",
      "      ns: 5.00e-02 < p <= 1.00e+00\n",
      "       *: 1.00e-02 < p <= 5.00e-02\n",
      "      **: 1.00e-03 < p <= 1.00e-02\n",
      "     ***: 1.00e-04 < p <= 1.00e-03\n",
      "    ****: p <= 1.00e-04\n",
      "\n",
      "Accurate AI_AI vs. Inaccurate AI_AI: Mann-Whitney-Wilcoxon test two-sided, P_val:1.549e-05 U_stat=1.413e+04\n",
      "Accurate TD_TD vs. Inaccurate TD_TD: Mann-Whitney-Wilcoxon test two-sided, P_val:2.125e-01 U_stat=1.918e+04\n",
      "p-value annotation legend:\n",
      "      ns: 5.00e-02 < p <= 1.00e+00\n",
      "       *: 1.00e-02 < p <= 5.00e-02\n",
      "      **: 1.00e-03 < p <= 1.00e-02\n",
      "     ***: 1.00e-04 < p <= 1.00e-03\n",
      "    ****: p <= 1.00e-04\n",
      "\n",
      "Accurate AI_AI vs. Inaccurate AI_AI: Mann-Whitney-Wilcoxon test two-sided, P_val:1.049e-01 U_stat=2.234e+04\n"
     ]
    },
    {
     "name": "stderr",
     "output_type": "stream",
     "text": [
      "/tmp/ipykernel_1638889/1789927343.py:59: UserWarning: set_ticklabels() should only be used with a fixed number of ticks, i.e. after set_ticks() or using a FixedLocator.\n",
      "  ax.set_yticklabels(ax.get_yticklabels(), fontsize=12)\n"
     ]
    },
    {
     "name": "stdout",
     "output_type": "stream",
     "text": [
      "Accurate TD_TD vs. Inaccurate TD_TD: Mann-Whitney-Wilcoxon test two-sided, P_val:2.236e-03 U_stat=9.665e+04\n"
     ]
    },
    {
     "data": {
      "image/png": "[encoded data removed]",
      "text/plain": [
       "<Figure size 1000x500 with 2 Axes>"
      ]
     },
     "metadata": {},
     "output_type": "display_data"
    }
   ],
   "source": [
    "fig, axes = plt.subplots(1, 2, figsize=(10, 5))\n",
    "axes[0].set_ylim(-1, 40)\n",
    "axes[1].set_ylim(-1, 40)\n",
    "\n",
    "axi = axes.flatten()\n",
    "\n",
    "order = ['Accurate AI', 'Inaccurate AI', 'Accurate TD', 'Inaccurate TD']\n",
    "pairs = [[('Accurate AI', 'AI'), ('Inaccurate AI', 'AI')], \n",
    "         [('Accurate TD', 'TD'), ('Inaccurate TD', 'TD')]]\n",
    "\n",
    "# plot_lineage(acc_both_only_u, axes[0], colors, 'Type', 'Mean LS', 'Type', order, pairs)\n",
    "# plot_lineage(only_u, axes[0], accuracy_palette, 'Type', 'Mean LS', 'Accuracy', order, pairs)\n",
    "plot_lineage(only_u, axes[0], colors, 'Accuracy', 'LS Max', 'Type', order, pairs)\n",
    "plot_lineage(non_u, axes[1], colors, 'Accuracy', 'LS Max', 'Type', order, pairs)\n",
    "\n",
    "cols = ['Uniformly Clustered', 'Locally Clustered']\n",
    "\n",
    "pad = 5\n",
    "for ax, col in zip(axes, cols):\n",
    "    ax.annotate(col, xy=(0.5, 1.1), xytext=(0, pad),\n",
    "                xycoords='axes fraction', textcoords='offset points',\n",
    "                size=16, ha='center', va='baseline')\n",
    "    \n",
    "plt.savefig('./project_pipeline/data/figures/ls_max.png', dpi=300, bbox_inches='tight')"
   ]
  },
  {
   "cell_type": "code",
   "execution_count": 1309,
   "metadata": {},
   "outputs": [],
   "source": [
    "melt_Accurate_non_u = pd.melt(accurate_non_u, id_vars=['uniprot', 'cluster'], value_vars=['Mean LS', 'LS Var.', 'Mean \\% Seq. \\n Completeness', \n",
    "                                                                                          'LS Max', 'Number of Seqs.'])\n",
    "melt_Inaccurate_non_u = pd.melt(inaccurate_non_u, id_vars=['uniprot', 'cluster'], value_vars=['Mean LS', 'LS Var.', 'Mean \\% Seq. \\n Completeness', \n",
    "                                                                                              'LS Max', 'Number of Seqs.'])\n",
    "\n",
    "melt_Accurate_non_u['type'] = 'Accurate'\n",
    "melt_Inaccurate_non_u['type'] = 'Inaccurate'\n",
    "\n",
    "to_plot = pd.concat([melt_Accurate_non_u, melt_Inaccurate_non_u]).reset_index(drop=True)"
   ]
  },
  {
   "cell_type": "code",
   "execution_count": 1310,
   "metadata": {},
   "outputs": [],
   "source": [
    "melt_Accurate_non_u_md = pd.melt(md_accurate_non_u, id_vars=['uniprot', 'cluster'], value_vars=['Mean LS', 'LS Var.', 'Mean \\% Seq. \\n Completeness',\n",
    "                                                                                                'LS Max', 'Number of Seqs.'])\n",
    "melt_Inaccurate_non_u_md = pd.melt(md_inaccurate_non_u, id_vars=['uniprot', 'cluster'], value_vars=['Mean LS', 'LS Var.', 'Mean \\% Seq. \\n Completeness',\n",
    "                                                                                                    'LS Max', 'Number of Seqs.'])\n",
    "\n",
    "melt_Accurate_non_u_md['type'] = 'Accurate'\n",
    "melt_Inaccurate_non_u_md['type'] = 'Inaccurate'\n",
    "\n",
    "to_plot_md = pd.concat([melt_Accurate_non_u_md, melt_Inaccurate_non_u_md]).reset_index(drop=True)"
   ]
  },
  {
   "cell_type": "code",
   "execution_count": 1311,
   "metadata": {},
   "outputs": [],
   "source": [
    "\n",
    "\n",
    "# Accurate_only_u = Accurate_only_u.rename(columns={'LS Var.': 'Accurate_LS Var.', 'Mean LS': 'Accurate_Mean LS', 'LS Max': 'Accurate_LS Max',\n",
    "#                                                 'Mean \\% Seq. \\n Completeness': 'Accurate_Mean \\% Seq. \\n Completeness'})\n",
    "\n",
    "# Inaccurate_only_u = Inaccurate_only_u.rename(columns={'LS Var.': 'Inaccurate_LS Var.', 'Mean LS': 'Inaccurate_Mean LS',\n",
    "#                                                         'LS Max': 'Inaccurate_LS Max', 'Mean \\% Seq. \\n Completeness': 'Inaccurate_Mean \\% Seq. \\n Completeness'})\n",
    "\n",
    "melt_Accurate_only_u = pd.melt(Accurate_only_u, id_vars=['uniprot', 'cluster'], value_vars=['Mean LS', 'LS Var.', 'Mean \\% Seq. \\n Completeness', \n",
    "                                                                                            'LS Max', 'Number of Seqs.'])\n",
    "melt_Inaccurate_only_u = pd.melt(Inaccurate_only_u, id_vars=['uniprot', 'cluster'], value_vars=['Mean LS', 'LS Var.', 'Mean \\% Seq. \\n Completeness', \n",
    "                                                                                                'LS Max', 'Number of Seqs.'])\n",
    "\n",
    "melt_Accurate_only_u['type'] = 'Accurate'\n",
    "melt_Inaccurate_only_u['type'] = 'Inaccurate'\n",
    "\n",
    "to_plot_only_u = pd.concat([melt_Accurate_only_u, melt_Inaccurate_only_u])"
   ]
  },
  {
   "cell_type": "code",
   "execution_count": 1312,
   "metadata": {},
   "outputs": [],
   "source": [
    "\n",
    "\n",
    "melt_Accurate_only_u_md = pd.melt(md_accurate_only_u, id_vars=['uniprot', 'cluster'], value_vars=['Mean LS', 'LS Var.', 'Mean \\% Seq. \\n Completeness',\n",
    "                                                                                                'LS Max', 'Number of Seqs.'])\n",
    "melt_Inaccurate_only_u_md = pd.melt(md_inaccurate_only_u, id_vars=['uniprot', 'cluster'], value_vars=['Mean LS', 'LS Var.', 'Mean \\% Seq. \\n Completeness',\n",
    "                                                                                                    'LS Max', 'Number of Seqs.'])\n",
    "\n",
    "melt_Accurate_only_u_md['type'] = 'Accurate'\n",
    "melt_Inaccurate_only_u_md['type'] = 'Inaccurate'\n",
    "\n",
    "to_plot_only_u_md = pd.concat([melt_Accurate_only_u_md, melt_Inaccurate_only_u_md])"
   ]
  },
  {
   "cell_type": "code",
   "execution_count": 1313,
   "metadata": {},
   "outputs": [],
   "source": [
    "md_palette = {'Accurate': blues[2], 'Inaccurate': blues[0]}\n",
    "ai_palette = {'Accurate': greens[2], 'Inaccurate': greens[0]}\n",
    "\n",
    "\n",
    "df_list = [to_plot, to_plot_md, to_plot_only_u, to_plot_only_u_md]\n",
    "palette_list = [ai_palette, md_palette, ai_palette, md_palette]"
   ]
  },
  {
   "cell_type": "code",
   "execution_count": null,
   "metadata": {},
   "outputs": [],
   "source": [
    "plt.figure(dpi=1200)\n",
    "\n",
    "fig, axes = plt.subplots(2, 2, figsize=(11, 8))\n",
    "axi = axes.flatten()\n",
    "\n",
    "for i, (df, palette, ax) in enumerate(zip(df_list, palette_list, axi)):\n",
    "    plot_lineage(df, ax, palette)\n",
    "\n",
    "cols = ['Autoinhibitory', 'Two-Domain']\n",
    "rows = ['Non-Uniform', 'Uniform']\n",
    "\n",
    "pad = 5\n",
    "for ax, col in zip(axes[0], cols):\n",
    "    ax.annotate(col, xy=(0.5, 1.1), xytext=(0, pad),\n",
    "                xycoords='axes fraction', textcoords='offset points',\n",
    "                size=20, ha='center', va='baseline')\n",
    "    \n",
    "for ax, row in zip(axes[:,0], rows):\n",
    "    ax.annotate(row, xy=(0, 0.5), xytext=(-ax.yaxis.labelpad - pad, 0),\n",
    "                xycoords=ax.yaxis.label, textcoords='offset points',\n",
    "                size=20, ha='right', va='center', rotation=90)\n",
    "    \n",
    "for ax in axes[:, 0]:\n",
    "    ax.set_ylabel('Value', fontsize=14)\n",
    "\n",
    "for ax in axes[1]:\n",
    "    ax.set_xlabel('Feature', fontsize=14)\n",
    "\n",
    "plt.subplots_adjust(hspace=0.3)\n",
    "plt.tight_layout()\n",
    "\n",
    "plt.savefig('./project_pipeline/data/figures/lineage_features_all.png', dpi=300, bbox_inches='tight')"
   ]
  },
  {
   "cell_type": "markdown",
   "metadata": {},
   "source": [
    "## Interface Hydrophobicity"
   ]
  },
  {
   "cell_type": "code",
   "execution_count": 1315,
   "metadata": {},
   "outputs": [],
   "source": [
    "ai_int = pd.read_csv('./project_pipeline/data/proteins_interface.tsv', sep='\\t')\n",
    "af_int = pd.read_csv('./project_pipeline/data/alphafold_interface.tsv', sep='\\t')\n",
    "md_int = pd.read_csv('./project_pipeline/data/md_proteins_interface.tsv', sep='\\t')\n",
    "mdaf_int = pd.read_csv('./project_pipeline/data/md_alphafold_interface.tsv', sep='\\t')\n",
    "\n",
    "af_hydro = pd.read_csv('./project_pipeline/data/ai_full_depth_structure_information.tsv', sep='\\t')\n",
    "mdaf_hydro = pd.read_csv('./project_pipeline/data/md_full_depth_structure_information.tsv', sep='\\t')\n",
    "sasai = pd.read_csv('./project_pipeline/data/ai_full_depth_sasa.tsv', sep='\\t')\n",
    "sasamd = pd.read_csv('./project_pipeline/data/md_full_depth_sasa.tsv', sep='\\t')\n",
    "\n",
    "ai_plddt = pd.read_csv('./project_pipeline/data/ai_full-depth_pLDDT.tsv', sep='\\t')\n",
    "md_plddt = pd.read_csv('./project_pipeline/data/md_full-depth_pLDDT.tsv', sep='\\t')\n",
    "\n",
    "ai_pae = pd.read_csv('./project_pipeline/data/disorder.tsv', sep='\\t')\n",
    "md_pae = pd.read_csv('./project_pipeline/data/multi_domain_pae.tsv', sep='\\t')\n",
    "\n",
    "af_int['region_1 search'] = af_int['region_1'].apply(string2range)\n",
    "af_int['region_2 search'] = af_int['region_2'].apply(string2range)\n",
    "\n",
    "mdaf_int['region_1 search'] = mdaf_int['region_1'].apply(string2range)\n",
    "mdaf_int['region_2 search'] = mdaf_int['region_2'].apply(string2range)\n",
    "\n",
    "# Adjust AlphaFold interface dataframe\n",
    "ai_uniprots = ai_int['uniprot'].tolist()\n",
    "# af_int = af_int[af_int['uniprot'].isin(ai_uniprots)]\n",
    "af_int['region_1_len'] = af_int.apply(lambda x: len(x['region_1 search']), axis=1)\n",
    "af_int['region_2_len'] = af_int.apply(lambda x: len(x['region_2 search']), axis=1)\n",
    "af_int = af_int[['uniprot', 'number_interface_residues', 'region_1_len', 'region_2_len']]\n",
    "af_int['percent_interface_residues'] = af_int['number_interface_residues'] / (af_int['region_1_len'] + af_int['region_2_len'])\n",
    "af_int = af_int.drop(columns=['number_interface_residues'])\n",
    "\n",
    "# Adjust ai pae\n",
    "ai_pae = ai_pae.drop(columns=['gene_name', 'protein_length', 'region_1', 'region_2', 'af_filename',\n",
    "                              'percent_disorder_1', 'ar_disorder'])\n",
    "\n",
    "# Adjust ai plddt\n",
    "ai_plddt = ai_plddt[['uniprot', 'complex_mean_plddt', 'r1_mean_plddt',\n",
    "                    'r2_mean_plddt']].drop_duplicates().reset_index(drop=True)\n",
    "\n",
    "# Adjust sasa\n",
    "sasai = sasai[['uniprot', 'sasa']]\n",
    "\n",
    "# Adjust Alphafold hydrophobicity dataframe\n",
    "af_hydro['percent_protein_helix'] = af_hydro['num_protein_helix'] / af_hydro['protein_length']\n",
    "af_hydro['percent_protein_sheet'] = af_hydro['num_protein_sheet'] / af_hydro['protein_length']\n",
    "af_hydro['percent_protein_coil'] = 1 - (af_hydro['percent_protein_helix'] + af_hydro['percent_protein_sheet'])\n",
    "\n"
   ]
  },
  {
   "cell_type": "code",
   "execution_count": 1316,
   "metadata": {},
   "outputs": [],
   "source": [
    "# Combine af_int and af_hydro\n",
    "\n",
    "df = pd.merge(af_int, af_hydro, on='uniprot', how='inner')\n",
    "df['percent_domains_coil'] = 1 - ((df['num_im_helix'] + df['num_im_sheet'] + df['num_fd_helix'] + df['num_fd_sheet']) / (df['region_1_len'] + df['region_2_len']))\n",
    "df = df[df['uniprot'].isin(dockq_uniprots)]\n",
    "\n",
    "\n",
    "df = df.drop(columns=['Unnamed: 0', 'region_1', 'region_2', 'af_filename', 'interface_residues', 'num_interface_hydro',\n",
    "                    'number_interface_residues', 'num_im_hydro', 'num_fd_hydro', 'num_domains_hydro', 'num_protein_helix',\n",
    "                    'num_im_helix', 'num_im_sheet', 'num_fd_helix', 'num_fd_sheet', 'num_protein_sheet', 'num_protein_hydro',\n",
    "                    'num_interface_charged', 'num_im_charged', 'num_fd_charged', 'num_domains_charged', 'num_protein_charged',\n",
    "                    'protein_length'])\n",
    "\n",
    "df['perc_coil_im'] = 1 - (df['percent_im_helix'] + df['percent_im_sheet'])\n",
    "df['perc_coil_fd'] = 1 - (df['percent_fd_helix'] + df['percent_fd_sheet'])\n",
    "df['perc_coil_protein'] = 1 - (df['percent_protein_helix'] + df['percent_protein_sheet'])\n",
    "\n",
    "# Add pae\n",
    "df = pd.merge(df, ai_pae, on='uniprot', how='inner')\n",
    "\n",
    "# Add pLDDT\n",
    "# df = pd.merge(df, ai_plddt, on='uniprot', how='inner')\n",
    "\n",
    "# Add SASA\n",
    "df = pd.merge(df, sasai, on='uniprot', how='inner')\n",
    "\n",
    "df = df[df['uniprot'].isin(ai_uniprots)]\n",
    "\n",
    "# Do this all for md\n",
    "md_uniprots = md_int['uniprot'].tolist()\n",
    "mdaf_int = mdaf_int[mdaf_int['uniprot'].isin(md_uniprots)]\n",
    "mdaf_int['region_1_len'] = mdaf_int.apply(lambda x: len(list(x['region_1 search'])), axis=1)\n",
    "mdaf_int['region_2_len'] = mdaf_int.apply(lambda x: len(list(x['region_2 search'])), axis=1)\n",
    "mdaf_int = mdaf_int[['uniprot', 'number_interface_residues', 'region_1_len', 'region_2_len']]\n",
    "mdaf_int['percent_interface_residues'] = mdaf_int['number_interface_residues'] / (mdaf_int['region_1_len'] + mdaf_int['region_2_len'])\n",
    "mdaf_int = mdaf_int.drop(columns=['number_interface_residues'])\n",
    "\n",
    "# Adjust md pae\n",
    "md_pae = md_pae[['uniprot', 'mean_pae_1_1', 'mean_pae_1_2', 'mean_pae_2_2']].drop_duplicates().reset_index(drop=True)\n",
    "\n",
    "# Adjust md plddt\n",
    "md_plddt = md_plddt[['uniprot', 'complex_mean_plddt', 'r1_mean_plddt',\n",
    "                    'r2_mean_plddt']].drop_duplicates().reset_index(drop=True)\n",
    "\n",
    "# Adjust sasa\n",
    "sasamd = sasamd[['uniprot', 'sasa']]\n",
    "\n",
    "# Adjust Alphafold hydrophobicity dataframe\n",
    "mdaf_hydro['percent_protein_helix'] = mdaf_hydro['num_protein_helix'] / mdaf_hydro['protein_length']\n",
    "mdaf_hydro['percent_protein_sheet'] = mdaf_hydro['num_protein_sheet'] / mdaf_hydro['protein_length']\n",
    "mdaf_hydro['percent_protein_coil'] = 1 - (mdaf_hydro['percent_protein_helix'] + mdaf_hydro['percent_protein_sheet'])\n",
    "\n",
    "# Combine af_int and af_hydro\n",
    "md = pd.merge(mdaf_int, mdaf_hydro, on='uniprot', how='inner')\n",
    "md['percent_domains_coil'] = 1 - ((md['num_im_helix'] + md['num_im_sheet'] + md['num_fd_helix'] + md['num_fd_sheet']) / (md['region_1_len'] + md['region_2_len']))\n",
    "md = md[md['uniprot'].isin(md_dockq_uniprots)]\n",
    "\n",
    "md = md.drop(columns=['Unnamed: 0', 'region_1', 'region_2', 'af_filename', 'interface_residues', 'num_interface_hydro',\n",
    "                    'number_interface_residues', 'num_im_hydro', 'num_fd_hydro', 'num_domains_hydro', 'num_protein_helix',\n",
    "                    'num_im_helix', 'num_im_sheet', 'num_fd_helix', 'num_fd_sheet', 'num_protein_sheet', 'num_protein_hydro',\n",
    "                    'num_interface_charged', 'num_im_charged', 'num_fd_charged', 'num_domains_charged', 'num_protein_charged',\n",
    "                    'protein_length'])\n",
    "\n",
    "md['perc_coil_im'] = 1 - (md['percent_im_helix'] + md['percent_im_sheet'])\n",
    "md['perc_coil_fd'] = 1 - (md['percent_fd_helix'] + md['percent_fd_sheet'])\n",
    "md['perc_coil_protein'] = 1 - (md['percent_protein_helix'] + md['percent_protein_sheet'])\n",
    "\n",
    "# Add pae\n",
    "md = pd.merge(md, md_pae, on='uniprot', how='inner')\n",
    "\n",
    "# Add pLDDT\n",
    "md = pd.merge(md, md_plddt, on='uniprot', how='inner')\n",
    "\n",
    "# Add SASA\n",
    "md = pd.merge(md, sasamd, on='uniprot', how='inner')"
   ]
  },
  {
   "cell_type": "code",
   "execution_count": null,
   "metadata": {},
   "outputs": [],
   "source": [
    "# Let's make three equally populated bins for the hydrophobicity\n",
    "df['Interface Hydrophobicity'] = pd.qcut(df['percent_interface_hydro'], q=3, labels=['Low', 'Medium', 'High'])\n",
    "df['Protein Hydrophobicity'] = pd.qcut(df['percent_protein_hydro'], q=3, labels=['Low', 'Medium', 'High'])\n",
    "df['IM Hydrophobicity'] = pd.qcut(df['percent_im_hydro'], q=3, labels=['Low', 'Medium', 'High'])\n",
    "df['FD Hydrophobicity'] = pd.qcut(df['percent_fd_hydro'], q=3, labels=['Low', 'Medium', 'High'])\n",
    "df['Domains Hydrophobicity'] = pd.qcut(df['percent_domains_hydro'], q=3, labels=['Low', 'Medium', 'High'])\n",
    "\n",
    "df['\\% Coil in IM'] = pd.qcut(df['perc_coil_im'], q=3, labels=['Low', 'Medium', 'High'])\n",
    "df['\\% Coil in FD'] = pd.qcut(df['perc_coil_fd'], q=3, labels=['Low', 'Medium', 'High'])\n",
    "df['\\% Coil in Domains'] = pd.qcut(df['percent_domains_coil'], q=3, labels=['Low', 'Medium', 'High'])\n",
    "df['\\% Coil in Protein'] = pd.qcut(df['perc_coil_protein'], q=3, labels=['Low', 'Medium', 'High'])\n",
    "\n",
    "df['Interface Charge'] = pd.qcut(df['percent_interface_charged'], q=3, labels=['Low', 'Medium', 'High'])\n",
    "df['IM Charge'] = pd.qcut(df['percent_im_charged'], q=3, labels=['Low', 'Medium', 'High'])\n",
    "df['FD Charge'] = pd.qcut(df['percent_fd_charged'], q=3, labels=['Low', 'Medium', 'High'])\n",
    "df['Protein Charge'] = pd.qcut(df['percent_protein_charged'], q=3, labels=['Low', 'Medium', 'High'])\n",
    "df['Domains Charge'] = pd.qcut(df['percent_domains_charged'], q=3, labels=['Low', 'Medium', 'High'])\n",
    "\n",
    "df['SASA'] = pd.qcut(df['sasa'], q=3, labels=['Low', 'Medium', 'High'])\n",
    "\n",
    "df['Interface Hydrophobicity'].value_counts()"
   ]
  },
  {
   "cell_type": "code",
   "execution_count": null,
   "metadata": {},
   "outputs": [],
   "source": [
    "md['Interface Hydrophobicity'] = pd.qcut(md['percent_interface_hydro'], q=3, labels=['Low', 'Medium', 'High'])\n",
    "md['Protein Hydrophobicity'] = pd.qcut(md['percent_protein_hydro'], q=3, labels=['Low', 'Medium', 'High'])\n",
    "md['IM Hydrophobicity'] = pd.qcut(md['percent_im_hydro'], q=3, labels=['Low', 'Medium', 'High'])\n",
    "md['FD Hydrophobicity'] = pd.qcut(md['percent_fd_hydro'], q=3, labels=['Low', 'Medium', 'High'])\n",
    "md['Domains Hydrophobicity'] = pd.qcut(md['percent_domains_hydro'], q=3, labels=['Low', 'Medium', 'High'])\n",
    "\n",
    "md['perc_coil_im'] = 1 - (md['percent_im_helix'] + md['percent_im_sheet'])\n",
    "md['perc_coil_fd'] = 1 - (md['percent_fd_helix'] + md['percent_fd_sheet'])\n",
    "md['perc_coil_protein'] = 1 - (md['percent_protein_helix'] + md['percent_protein_sheet'])\n",
    "\n",
    "md['\\% Coil in IM'] = pd.qcut(md['perc_coil_im'], q=3, labels=['Low', 'Medium', 'High'])\n",
    "md['\\% Coil in FD'] = pd.qcut(md['perc_coil_fd'], q=3, labels=['Low', 'Medium', 'High'])\n",
    "md['\\% Coil in Domains'] = pd.qcut(md['percent_domains_coil'], q=3, labels=['Low', 'Medium', 'High'])\n",
    "md['\\% Coil in Protein'] = pd.qcut(md['perc_coil_protein'], q=3, labels=['Low', 'Medium', 'High'])\n",
    "\n",
    "md['Interface Charge'] = pd.qcut(md['percent_interface_charged'], q=3, labels=['Low', 'Medium', 'High'])\n",
    "md['IM Charge'] = pd.qcut(md['percent_im_charged'], q=3, labels=['Low', 'Medium', 'High'])\n",
    "md['FD Charge'] = pd.qcut(md['percent_fd_charged'], q=3, labels=['Low', 'Medium', 'High'])\n",
    "md['Protein Charge'] = pd.qcut(md['percent_protein_charged'], q=3, labels=['Low', 'Medium', 'High'])\n",
    "md['Domains Charge'] = pd.qcut(md['percent_domains_charged'], q=3, labels=['Low', 'Medium', 'High'])\n",
    "\n",
    "md['SASA'] = pd.qcut(md['sasa'], q=3, labels=['Low', 'Medium', 'High'])\n",
    "\n",
    "md['Interface Hydrophobicity'].value_counts()"
   ]
  },
  {
   "cell_type": "code",
   "execution_count": null,
   "metadata": {},
   "outputs": [],
   "source": [
    "md['percent_interface_charged'].describe()"
   ]
  },
  {
   "cell_type": "code",
   "execution_count": null,
   "metadata": {},
   "outputs": [],
   "source": [
    "df['percent_interface_charged'].describe()"
   ]
  },
  {
   "cell_type": "code",
   "execution_count": 1321,
   "metadata": {},
   "outputs": [],
   "source": [
    "df['type'] = 'Autoinhibitory'\n",
    "md['type'] = 'Two-Domain'\n",
    "\n",
    "aimd = pd.concat([df, md])\n",
    "\n",
    "aimd = aimd.rename(columns={'mean_pae_1_2': 'Mean PAE R1 vs R2'})"
   ]
  },
  {
   "cell_type": "code",
   "execution_count": 1322,
   "metadata": {},
   "outputs": [],
   "source": [
    "def plot_structure_features(df, x, y, ax, palette=three_cats, ylim=(0, 40), set_labels=True):\n",
    "\n",
    "    sns.boxplot(x=x, y=y, data=df, ax=ax, palette=palette)\n",
    "    if set_labels:\n",
    "        ax.set_ylabel(y, fontsize=14)\n",
    "        ax.set_xlabel(x, fontsize=14)\n",
    "    else:\n",
    "        ax.set(ylabel=None, xlabel=None)\n",
    "    ax.set_ylim(ylim)\n",
    "    ax.set_xticklabels(ax.get_xticklabels(), fontsize=12)\n",
    "    ax.set_yticklabels(ax.get_yticklabels(), fontsize=12)\n",
    "\n",
    "    pairs = [('Low', 'Medium'), ('Medium', 'High'), ('Low', 'High')]\n",
    "\n",
    "    annotator = Annotator(ax=ax, pairs=pairs, data=df, x=x, y=y)\n",
    "    annotator.configure(test='Mann-Whitney', text_format='star', loc='outside')\n",
    "    annotator.apply_and_annotate()"
   ]
  },
  {
   "cell_type": "code",
   "execution_count": null,
   "metadata": {},
   "outputs": [],
   "source": [
    "# All\n",
    "fig, ax = plt.subplots(figsize=(4, 2))\n",
    "\n",
    "plot_structure_features(aimd, 'Interface Hydrophobicity', 'Mean PAE R1 vs R2', ax)\n",
    "\n",
    "plt.savefig('./project_pipeline/data/figures/interface_hydrophobicity_pae_1_2.png', dpi=300, bbox_inches='tight')"
   ]
  },
  {
   "cell_type": "code",
   "execution_count": null,
   "metadata": {},
   "outputs": [],
   "source": [
    "md.groupby('\\% Coil in Domains')['mean_pae_1_2'].describe()"
   ]
  },
  {
   "cell_type": "code",
   "execution_count": null,
   "metadata": {},
   "outputs": [],
   "source": [
    "df['percent_domains_coil'].describe()"
   ]
  },
  {
   "cell_type": "code",
   "execution_count": null,
   "metadata": {},
   "outputs": [],
   "source": [
    "# Autoinhibitory only\n",
    "fig, ax = plt.subplots(1, 2, figsize=(10, 4))\n",
    "\n",
    "plot_structure_features(df, 'Interface Hydrophobicity', 'mean_pae_1_2', ax=ax[0], palette=three_greens)\n",
    "ax[0].set_ylabel('Mean PAE IM vs FD', fontsize=14)\n",
    "ax[0].annotate('Autoinhibitory', xy=(0.5, 1.35), xytext=(0, 5),\n",
    "                xycoords='axes fraction', textcoords='offset points',\n",
    "                size=16, ha='center', va='baseline')\n",
    "\n",
    "plot_structure_features(md, 'Interface Hydrophobicity', 'mean_pae_1_2', ax=ax[1], palette=three_blues)\n",
    "ax[1].set_ylabel('Mean PAE D1 vs D2', fontsize=14)\n",
    "ax[1].annotate('Two-Domain', xy=(0.5, 1.35), xytext=(0, 5),\n",
    "                xycoords='axes fraction', textcoords='offset points',\n",
    "                size=16, ha='center', va='baseline')\n",
    "\n",
    "plt.savefig('./project_pipeline/data/figures/interface_hydrophobicity.png', dpi=300, bbox_inches='tight')"
   ]
  },
  {
   "cell_type": "code",
   "execution_count": null,
   "metadata": {},
   "outputs": [],
   "source": [
    "fig, ax = plt.subplots(1, 2, figsize=(10, 4))\n",
    "\n",
    "plot_structure_features(df, 'Interface Charge', 'mean_pae_1_2', ax[0], palette=three_greens)\n",
    "ax[0].set_ylabel('Mean PAE IM vs FD', fontsize=14)\n",
    "ax[0].annotate('Autoinhibitory', xy=(0.5, 1.35), xytext=(0, 5),\n",
    "                xycoords='axes fraction', textcoords='offset points',\n",
    "                size=16, ha='center', va='baseline')\n",
    "\n",
    "plot_structure_features(md, 'Interface Charge', 'mean_pae_1_2', ax[1], palette=three_blues)\n",
    "ax[1].set_ylabel('Mean PAE D1 vs D2', fontsize=14)\n",
    "ax[1].annotate('Two-Domain', xy=(0.5, 1.35), xytext=(0, 5),\n",
    "                xycoords='axes fraction', textcoords='offset points',\n",
    "                size=16, ha='center', va='baseline')\n",
    "\n",
    "plt.savefig('./project_pipeline/data/figures/interface_charge.png', dpi=300, bbox_inches='tight')"
   ]
  },
  {
   "cell_type": "code",
   "execution_count": null,
   "metadata": {},
   "outputs": [],
   "source": [
    "fig, ax = plt.subplots(1, 2, figsize=(10, 4))\n",
    "\n",
    "plot_structure_features(df, '\\% Coil in Domains', 'mean_pae_1_2', ax[0], palette=three_greens)\n",
    "ax[0].set_ylabel('Mean PAE IM vs FD', fontsize=14)\n",
    "ax[0].annotate('Autoinhibitory', xy=(0.5, 1.35), xytext=(0, 5),\n",
    "                xycoords='axes fraction', textcoords='offset points',\n",
    "                size=16, ha='center', va='baseline')\n",
    "\n",
    "plot_structure_features(md, '\\% Coil in Domains', 'mean_pae_1_2', ax[1], palette=three_blues)\n",
    "ax[1].set_ylabel('Mean PAE D1 vs D2', fontsize=14)\n",
    "ax[1].annotate('Two-Domain', xy=(0.5, 1.35), xytext=(0, 5),\n",
    "                xycoords='axes fraction', textcoords='offset points',\n",
    "                size=16, ha='center', va='baseline')\n",
    "\n",
    "plt.savefig('./project_pipeline/data/figures/domains_coil.png', dpi=300, bbox_inches='tight')"
   ]
  },
  {
   "cell_type": "code",
   "execution_count": null,
   "metadata": {},
   "outputs": [],
   "source": [
    "# Two-domain coil in domains\n",
    "fig, ax = plt.subplots(figsize=(4, 2))\n",
    "\n",
    "plot_structure_features(md, '\\% Coil in Domains', 'mean_pae_1_2', ax, palette=three_blues)\n",
    "ax.set_ylabel('Mean PAE D1 vs D2', fontsize=14)"
   ]
  },
  {
   "cell_type": "code",
   "execution_count": null,
   "metadata": {},
   "outputs": [],
   "source": [
    "# All SASA\n",
    "fig, ax = plt.subplots(figsize=(4, 2))\n",
    "\n",
    "plot_structure_features(aimd, 'SASA', 'Mean PAE R1 vs R2', ax)\n",
    "\n",
    "plt.savefig('./project_pipeline/data/figures/sasa_mean_pae_1_2.png', dpi=300, bbox_inches='tight')"
   ]
  },
  {
   "cell_type": "code",
   "execution_count": null,
   "metadata": {},
   "outputs": [],
   "source": [
    "# Autoinhibitory sasa\n",
    "fig, ax = plt.subplots(figsize=(4, 2))\n",
    "\n",
    "plot_structure_features(df, 'SASA', 'mean_pae_1_2', ax, palette=three_greens)\n",
    "ax.set_ylabel('Mean PAE IM vs FD', fontsize=14)"
   ]
  },
  {
   "cell_type": "code",
   "execution_count": null,
   "metadata": {},
   "outputs": [],
   "source": [
    "# Two-domain sasa\n",
    "fig, ax = plt.subplots(figsize=(4, 2))\n",
    "\n",
    "plot_structure_features(md, 'SASA', 'mean_pae_1_2', ax, palette=three_blues)\n",
    "ax.set_ylabel('Mean PAE D1 vs D2', fontsize=14)"
   ]
  },
  {
   "cell_type": "code",
   "execution_count": null,
   "metadata": {},
   "outputs": [],
   "source": [
    "sns.histplot(aimd['percent_domains_coil'])"
   ]
  },
  {
   "cell_type": "code",
   "execution_count": null,
   "metadata": {},
   "outputs": [],
   "source": [
    "md['uniprot'].nunique()"
   ]
  },
  {
   "cell_type": "code",
   "execution_count": null,
   "metadata": {},
   "outputs": [],
   "source": [
    "df['uniprot'].nunique()"
   ]
  },
  {
   "cell_type": "code",
   "execution_count": null,
   "metadata": {},
   "outputs": [],
   "source": [
    "df['percent_fd_hydro'].describe()"
   ]
  },
  {
   "cell_type": "code",
   "execution_count": null,
   "metadata": {},
   "outputs": [],
   "source": [
    "aimd.shape"
   ]
  },
  {
   "cell_type": "code",
   "execution_count": null,
   "metadata": {},
   "outputs": [],
   "source": [
    "features = ['IM Hydrophobicity', 'FD Hydrophobicity', '\\% Coil in IM', '\\% Coil in FD']\n",
    "dfs = [aimd, aimd, aimd, aimd]\n",
    "outcomes = ['r1_mean_plddt', 'r2_mean_plddt', 'r1_mean_plddt', 'r2_mean_plddt']\n",
    "\n",
    "plt.figure(dpi=1200)\n",
    "\n",
    "plt.figure(dpi=1200)\n",
    "\n",
    "fig, axes = plt.subplots(2, 2, figsize=(11, 9))\n",
    "axi = axes.flatten()\n",
    "\n",
    "for i, (d, x, y, ax) in enumerate(zip(dfs, features, outcomes, axi)):\n",
    "    plot_structure_features(d, x, y, ax, ylim=None, set_labels=False)\n",
    "\n",
    "cols = ['IM/D1', 'FD/D2']\n",
    "rows = ['\\% Hydrophobicity', '\\% Coil']\n",
    "\n",
    "pad = 5\n",
    "for ax, col in zip(axes[0], cols):\n",
    "    ax.annotate(col, xy=(0.5, 1.35), xytext=(0, pad),\n",
    "                xycoords='axes fraction', textcoords='offset points',\n",
    "                size=20, ha='center', va='baseline')\n",
    "    \n",
    "for ax, row in zip(axes[:,0], rows):\n",
    "    ax.annotate(row, xy=(0, 0.5), xytext=(-ax.yaxis.labelpad - pad, 0),\n",
    "                xycoords=ax.yaxis.label, textcoords='offset points',\n",
    "                size=20, ha='right', va='center', rotation=90)\n",
    "    \n",
    "for ax in axes[:, 0]:\n",
    "    ax.set_ylabel('Mean pLDDT', fontsize=14)\n",
    "\n",
    "for ax in axes[1]:\n",
    "    ax.set_xlabel('Category', fontsize=14)\n",
    "\n",
    "plt.subplots_adjust(hspace=0.3)\n",
    "plt.tight_layout()\n",
    "\n",
    "plt.savefig('./project_pipeline/data/figures/structure_features_pLDDT.png', dpi=300, bbox_inches='tight')"
   ]
  },
  {
   "cell_type": "code",
   "execution_count": null,
   "metadata": {},
   "outputs": [],
   "source": [
    "aimd['has_partner'].value_counts()"
   ]
  },
  {
   "cell_type": "code",
   "execution_count": 104,
   "metadata": {},
   "outputs": [],
   "source": [
    "ai_pae = ai_pae[['uniprot', 'complex_mean_plddt', 'r1_mean_plddt', 'r2_mean_plddt', 'mean_pae_1_1', 'mean_pae_1_2', 'mean_pae_2_2']].drop_duplicates().reset_index(drop=True)\n",
    "\n",
    "af_int = pd.merge(af_int, ai_pae, on=['uniprot'], how='left')\n",
    "\n",
    "md_pae = md_pae[['uniprot', 'mean_pae_1_1', 'mean_pae_1_2', 'mean_pae_2_2']].drop_duplicates().reset_index(drop=True)\n",
    "md_plddt = md_plddt[['uniprot', 'complex_mean_plddt', 'r1_mean_plddt', 'r2_mean_plddt']].drop_duplicates().reset_index(drop=True)\n",
    "\n",
    "md_int = pd.merge(md_int, md_pae, on=['uniprot'], how='left')\n",
    "md_int = pd.merge(md_int, md_plddt, on=['uniprot'], how='left')"
   ]
  },
  {
   "cell_type": "code",
   "execution_count": 105,
   "metadata": {},
   "outputs": [],
   "source": [
    "ai_int['percent_interface_residues'] = ai_int['number_interface_residues'] / (ai_int['region_1_len'] + ai_int['region_2_len'])\n",
    "af_int['percent_interface_residues'] = af_int['number_interface_residues'] / (af_int['region_1_len'] + af_int['region_2_len'])\n",
    "\n",
    "md_int['percent_interface_residues'] = md_int['number_interface_residues'] / (md_int['region_1_len'] + md_int['region_2_len'])\n",
    "mdaf_int['percent_interface_residues'] = mdaf_int['number_interface_residues'] / (mdaf_int['region_1_len'] + mdaf_int['region_2_len'])"
   ]
  },
  {
   "cell_type": "code",
   "execution_count": null,
   "metadata": {},
   "outputs": [],
   "source": [
    "af_hydro = af_hydro.drop(columns=['region_1', 'region_2', 'af_filename', 'interface_residues', 'number_interface_residues'])\n",
    "\n",
    "af = pd.merge(af_int, af_hydro, on='uniprot', how='left').drop_duplicates().reset_index(drop=True)\n",
    "af.columns\n",
    "af = percent_domain_coil(af)\n",
    "\n",
    "mdaf_hydro = mdaf_hydro.drop(columns=['region_1', 'region_2', 'af_filename', 'interface_residues', 'number_interface_residues'])\n",
    "\n",
    "mdaf = pd.merge(mdaf_int, mdaf_hydro, on='uniprot', how='left')\n",
    "mdaf = pd.merge(mdaf, md_pae, on='uniprot', how='left')\n",
    "mdaf = pd.merge(mdaf, md_plddt, on='uniprot', how='left')\n",
    "mdaf = percent_domain_coil(mdaf)"
   ]
  },
  {
   "cell_type": "code",
   "execution_count": null,
   "metadata": {},
   "outputs": [],
   "source": [
    "sasai = pd.read_csv('./project_pipeline/data/ai_full_depth_sasa.tsv', sep='\\t')\n",
    "sasamd = pd.read_csv('./project_pipeline/data/md_full_depth_sasa.tsv', sep='\\t')\n",
    "sasai.head()"
   ]
  },
  {
   "cell_type": "code",
   "execution_count": null,
   "metadata": {},
   "outputs": [],
   "source": [
    "af = pd.merge(af, sasai, on='uniprot', how='left')\n",
    "mdaf = pd.merge(mdaf, sasamd, on='uniprot', how='left')"
   ]
  },
  {
   "cell_type": "code",
   "execution_count": null,
   "metadata": {},
   "outputs": [],
   "source": [
    "sub = af[['complex_mean_plddt', 'r1_mean_plddt', 'r2_mean_plddt',\n",
    "          'mean_pae_1_1', 'mean_pae_1_2', 'mean_pae_2_2',\n",
    "          'percent_im_hydro', 'percent_fd_hydro',\n",
    "          'perc_im_coil', 'perc_fd_coil', \n",
    "          'percent_interface_residues', 'percent_interface_hydro', 'perc_domains_coil',\n",
    "          'sasa']]\n",
    "sub.corr()"
   ]
  },
  {
   "cell_type": "code",
   "execution_count": null,
   "metadata": {},
   "outputs": [],
   "source": [
    "md_sub = mdaf[['complex_mean_plddt', 'r1_mean_plddt', 'r2_mean_plddt',\n",
    "            'mean_pae_1_1', 'mean_pae_1_2', 'mean_pae_2_2',\n",
    "            'percent_im_hydro', 'percent_fd_hydro',\n",
    "            'perc_im_coil', 'perc_fd_coil', \n",
    "            'percent_interface_residues', 'percent_interface_hydro', 'perc_domains_coil',\n",
    "            'sasa']]\n",
    "md_sub.corr()"
   ]
  }
 ],
 "metadata": {
  "kernelspec": {
   "display_name": "analysis",
   "language": "python",
   "name": "python3"
  },
  "language_info": {
   "codemirror_mode": {
    "name": "ipython",
    "version": 3
   },
   "file_extension": ".py",
   "mimetype": "text/x-python",
   "name": "python",
   "nbconvert_exporter": "python",
   "pygments_lexer": "ipython3",
   "version": "3.11.9"
  }
 },
 "nbformat": 4,
 "nbformat_minor": 2
}
