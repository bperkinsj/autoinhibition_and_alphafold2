{
 "cells": [
  {
   "cell_type": "markdown",
   "metadata": {},
   "source": [
    "This is just a small notebook to add a \"filenames\" column to some important datasets: autoinhibitory AF structures, multi-domain AF structures, and single-domain AF structures.\n",
    "TODO: Integrate these steps into the main pipeline."
   ]
  },
  {
   "cell_type": "code",
   "execution_count": 27,
   "metadata": {},
   "outputs": [],
   "source": [
    "import pandas as pd\n",
    "import os"
   ]
  },
  {
   "cell_type": "code",
   "execution_count": 28,
   "metadata": {},
   "outputs": [],
   "source": [
    "# Define some functions\n",
    "def add_AF_filename(df, fp):\n",
    "    # Specifically for AlphaFold files because CF have clusters\n",
    "\n",
    "    # Get list of filenames from the file path\n",
    "    filenames = os.listdir(fp)\n",
    "\n",
    "    # Keep only the .cif files\n",
    "    filenames = [f for f in filenames if f.endswith('.cif')]\n",
    "\n",
    "    # Determine which files are in the dataframe\n",
    "    df_proteins = df['uniprot'].tolist()\n",
    "\n",
    "    # Create a dictionary of the filenames and the corresponding uniprot\n",
    "    filename_dict = {}\n",
    "    for filename in filenames:\n",
    "        uniprot = filename.split('-')[1]\n",
    "        filename_dict[uniprot] = filename\n",
    "\n",
    "    # Create a list of the filenames in the order of the dataframe\n",
    "    AF_filenames = []\n",
    "    for protein in df_proteins:\n",
    "        AF_filenames.append(filename_dict[protein])\n",
    "\n",
    "    # Add the list to the dataframe\n",
    "    df['filename'] = AF_filenames\n",
    "\n",
    "    return df"
   ]
  },
  {
   "cell_type": "markdown",
   "metadata": {},
   "source": [
    "Make a dataframe with filenames for the AF autoinhibitory proteins."
   ]
  },
  {
   "cell_type": "code",
   "execution_count": 29,
   "metadata": {},
   "outputs": [],
   "source": [
    "df = pd.read_csv('./project_pipeline/data/classified_files_3.tsv', sep='\\t').astype('object')\n",
    "\n",
    "# Select relevant columns\n",
    "df = df[['uniprot', 'region_1', 'region_2']]\n",
    "\n",
    "# Add the filename column\n",
    "fp = './project_pipeline/data/input/Alphafold_cif/'\n",
    "df = add_AF_filename(df, fp)\n",
    "\n",
    "# Save the dataframe\n",
    "df.to_csv('./project_pipeline/data/af_autoinhibited_best.tsv', sep='\\t', index=False)\n"
   ]
  },
  {
   "cell_type": "markdown",
   "metadata": {},
   "source": [
    "Add the filenames to the AF multi-domain and single-domain dataframes."
   ]
  },
  {
   "cell_type": "code",
   "execution_count": 30,
   "metadata": {},
   "outputs": [],
   "source": [
    "multi = pd.read_csv('./project_pipeline/data/multi_domain_pae.tsv', sep='\\t').astype('object')\n",
    "single = pd.read_csv('./project_pipeline/data/single_domain_pae.tsv', sep='\\t').astype('object') # TODO add the sequence length to this file\n",
    "\n",
    "# Add the filename column\n",
    "fpm = './project_pipeline/data/input/Alphafold_multi_domain/'\n",
    "fps = './project_pipeline/data/input/Alphafold_single_domain/'\n",
    "\n",
    "\n",
    "\n",
    "# For both dataframes, we need to drop the rows with NaN values in the mean_pae column and then subset out the mean_pae column\n",
    "multi = multi.dropna(subset=['mean_pae_1_1'])\n",
    "multi = multi[['uniprot', 'region_1', 'region_2']]\n",
    "multi = add_AF_filename(multi, fpm)\n",
    "\n",
    "single = single.dropna(subset=['mean_pae'])\n",
    "single = single[['uniprot', 'region']]\n",
    "single = add_AF_filename(single, fps)\n",
    "\n",
    "# Save the dataframe\n",
    "multi.to_csv('./project_pipeline/data/af_multi_domain.tsv', sep='\\t', index=False)\n",
    "single.to_csv('./project_pipeline/data/af_single_domain.tsv', sep='\\t', index=False)"
   ]
  }
 ],
 "metadata": {
  "kernelspec": {
   "display_name": "rmsd_snek",
   "language": "python",
   "name": "python3"
  },
  "language_info": {
   "codemirror_mode": {
    "name": "ipython",
    "version": 3
   },
   "file_extension": ".py",
   "mimetype": "text/x-python",
   "name": "python",
   "nbconvert_exporter": "python",
   "pygments_lexer": "ipython3",
   "version": "3.8.16"
  }
 },
 "nbformat": 4,
 "nbformat_minor": 2
}
