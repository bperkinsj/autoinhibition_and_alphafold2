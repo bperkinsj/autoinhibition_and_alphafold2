{
 "cells": [
  {
   "cell_type": "markdown",
   "metadata": {},
   "source": [
    "A notebook for collecting the mean PAEs of trimmed proteins."
   ]
  },
  {
   "cell_type": "code",
   "execution_count": 1,
   "metadata": {},
   "outputs": [],
   "source": [
    "import pandas as pd\n",
    "import project_pipeline.scripts.utils as utils\n",
    "import numpy as np\n",
    "import os"
   ]
  },
  {
   "cell_type": "code",
   "execution_count": 2,
   "metadata": {},
   "outputs": [],
   "source": [
    "def mean_paes(df, path, affix, suffix, cluster=False):\n",
    "    # Calculate the average pae for region 1 to region 1, region 2 to region 2, and region 1 to region 2\n",
    "\n",
    "    print('Calculating mean pae...')\n",
    "\n",
    "    for i in range(len(df)):\n",
    "        uniprot = df.loc[i, 'uniprot']\n",
    "        fn = affix + uniprot + suffix\n",
    "        if cluster:\n",
    "            cluster = df.loc[i, 'cluster']\n",
    "            fn = uniprot + '_' + cluster + '_' + suffix\n",
    "        region_1 = df.loc[i, 'region_1']\n",
    "        region_2 = df.loc[i, 'region_2']\n",
    "\n",
    "        # Region bounds are in the format [start, end] for each region. Regions with multiple sections look like [[start, end], [start, end], ...]\n",
    "        reg1_bounds = utils.region_bounds(region_1)\n",
    "        reg2_bounds = utils.region_bounds(region_2)\n",
    "\n",
    "        reg1_array = np.array(reg1_bounds)\n",
    "        reg2_array = np.array(reg2_bounds)\n",
    "\n",
    "        # Because we have trimmed the proteins, we have to correct the region bounds. We subtract the minimum boundary - 1 from all values so that the minimum\n",
    "        # boundary becomes 1.\n",
    "\n",
    "        reg1_array, reg2_array = utils.adjust_trimmed_bounds(reg1_array, reg2_array)\n",
    "\n",
    "        # Read in json file\n",
    "        if cluster:\n",
    "            subpath = os.path.join(path, uniprot)\n",
    "            prot_array = utils.pae_from_json(subpath, fn)\n",
    "\n",
    "        else:\n",
    "            print(fn)\n",
    "            prot_array = utils.pae_from_json(path, fn)\n",
    "\n",
    "        '''\n",
    "        We want means of reg1 compared against reg1, reg1 compared against reg2, and reg2 compared against reg2.\n",
    "        '''\n",
    "\n",
    "        if prot_array.any() == np.nan:\n",
    "            mean11 = 0\n",
    "            mean12 = 0\n",
    "            mean22 = 0\n",
    "\n",
    "        else:\n",
    "            mean11 = utils.calculate_pae_mean(prot_array, reg1_array, reg1_array)\n",
    "            mean12 = utils.calculate_pae_mean(prot_array, reg1_array, reg2_array)\n",
    "            mean22 = utils.calculate_pae_mean(prot_array, reg2_array, reg2_array)\n",
    "        \n",
    "\n",
    "        df.loc[i, 'mean_pae_1_1'] = round(mean11, 3)\n",
    "        df.loc[i, 'mean_pae_1_2'] = round(mean12, 3)\n",
    "        df.loc[i, 'mean_pae_2_2'] = round(mean22, 3)\n",
    "    \n",
    "    return df"
   ]
  },
  {
   "cell_type": "code",
   "execution_count": 3,
   "metadata": {},
   "outputs": [
    {
     "name": "stdout",
     "output_type": "stream",
     "text": [
      "Calculating mean pae...\n"
     ]
    }
   ],
   "source": [
    "ai = pd.read_csv('./project_pipeline/data/af2t_ai_pdb_clusters.tsv', sep='\\t')\n",
    "# md = pd.read_csv('./data/md_pdb_clusters.tsv', sep='\\t')\n",
    "\n",
    "ai_path = 'project_pipeline/data/input/Colabfold_cif/trimmed/'\n",
    "# md_path = 'data/input/Colabfold_cif/multi_domain/'\n",
    "\n",
    "affix = ''\n",
    "suffix = 'predicted_aligned_error_v1.json'\n",
    "\n",
    "# Get rid of some redundancy because we only need the uniprots and clusters\n",
    "ai = ai[['uniprot', 'cluster', 'region_1', 'region_2']].drop_duplicates().reset_index(drop=True) \n",
    "# md = md[['uniprot', 'cluster', 'region_1', 'region_2']].drop_duplicates().reset_index(drop=True)\n",
    "\n",
    "# Calculate mean PAE for each cluster\n",
    "ai_pae = mean_paes(ai, ai_path, affix, suffix, cluster=True)\n",
    "# md_pae = main.mean_paes(md, md_path, affix, suffix, cluster=True)\n",
    "\n",
    "# Save the files\n",
    "ai_pae.to_csv('./project_pipeline/data/af2t_ai_cluster_pae.tsv', sep='\\t', index=False)\n",
    "# md_pae.to_csv('./data/md_cluster_pae.tsv', sep='\\t', index=False)"
   ]
  }
 ],
 "metadata": {
  "kernelspec": {
   "display_name": "rmsd_snek",
   "language": "python",
   "name": "python3"
  },
  "language_info": {
   "codemirror_mode": {
    "name": "ipython",
    "version": 3
   },
   "file_extension": ".py",
   "mimetype": "text/x-python",
   "name": "python",
   "nbconvert_exporter": "python",
   "pygments_lexer": "ipython3",
   "version": "3.8.16"
  }
 },
 "nbformat": 4,
 "nbformat_minor": 2
}
