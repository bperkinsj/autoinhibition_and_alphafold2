{
 "cells": [
  {
   "cell_type": "code",
   "execution_count": 140,
   "metadata": {},
   "outputs": [],
   "source": [
    "from matplotlib.ticker import FuncFormatter\n",
    "from statannotations.Annotator import Annotator\n",
    "from scipy.stats import mannwhitneyu\n",
    "from pandas.plotting import table\n",
    "import matplotlib.pyplot as plt\n",
    "import dataframe_image as dfi\n",
    "import pandas as pd\n",
    "import seaborn as sns\n",
    "import matplotlib as mpl\n",
    "import numpy as np\n",
    "import scipy as sp\n",
    "import scienceplots"
   ]
  },
  {
   "cell_type": "code",
   "execution_count": 141,
   "metadata": {},
   "outputs": [
    {
     "name": "stdout",
     "output_type": "stream",
     "text": [
      "['#a6cee3', '#1f78b4', '#b2df8a', '#33a02c', '#fb9a99', '#e31a1c', '#fdbf6f', '#ff7f00', '#cab2d6', '#6a3d9a', '#ffff99', '#b15928']\n"
     ]
    },
    {
     "data": {
      "text/html": [
       "<svg  width=\"660\" height=\"55\"><rect x=\"0\" y=\"0\" width=\"55\" height=\"55\" style=\"fill:#a6cee3;stroke-width:2;stroke:rgb(255,255,255)\"/><rect x=\"55\" y=\"0\" width=\"55\" height=\"55\" style=\"fill:#1f78b4;stroke-width:2;stroke:rgb(255,255,255)\"/><rect x=\"110\" y=\"0\" width=\"55\" height=\"55\" style=\"fill:#b2df8a;stroke-width:2;stroke:rgb(255,255,255)\"/><rect x=\"165\" y=\"0\" width=\"55\" height=\"55\" style=\"fill:#33a02c;stroke-width:2;stroke:rgb(255,255,255)\"/><rect x=\"220\" y=\"0\" width=\"55\" height=\"55\" style=\"fill:#fb9a99;stroke-width:2;stroke:rgb(255,255,255)\"/><rect x=\"275\" y=\"0\" width=\"55\" height=\"55\" style=\"fill:#e31a1c;stroke-width:2;stroke:rgb(255,255,255)\"/><rect x=\"330\" y=\"0\" width=\"55\" height=\"55\" style=\"fill:#fdbf6f;stroke-width:2;stroke:rgb(255,255,255)\"/><rect x=\"385\" y=\"0\" width=\"55\" height=\"55\" style=\"fill:#ff7f00;stroke-width:2;stroke:rgb(255,255,255)\"/><rect x=\"440\" y=\"0\" width=\"55\" height=\"55\" style=\"fill:#cab2d6;stroke-width:2;stroke:rgb(255,255,255)\"/><rect x=\"495\" y=\"0\" width=\"55\" height=\"55\" style=\"fill:#6a3d9a;stroke-width:2;stroke:rgb(255,255,255)\"/><rect x=\"550\" y=\"0\" width=\"55\" height=\"55\" style=\"fill:#ffff99;stroke-width:2;stroke:rgb(255,255,255)\"/><rect x=\"605\" y=\"0\" width=\"55\" height=\"55\" style=\"fill:#b15928;stroke-width:2;stroke:rgb(255,255,255)\"/></svg>"
      ],
      "text/plain": [
       "['#a6cee3',\n",
       " '#1f78b4',\n",
       " '#b2df8a',\n",
       " '#33a02c',\n",
       " '#fb9a99',\n",
       " '#e31a1c',\n",
       " '#fdbf6f',\n",
       " '#ff7f00',\n",
       " '#cab2d6',\n",
       " '#6a3d9a',\n",
       " '#ffff99',\n",
       " '#b15928']"
      ]
     },
     "execution_count": 141,
     "metadata": {},
     "output_type": "execute_result"
    }
   ],
   "source": [
    "plt.style.use('science')\n",
    "\n",
    "# Get the hex codes for the colors so we can assign them to categories\n",
    "pal = sns.color_palette('Paired')\n",
    "print(pal.as_hex())\n",
    "\n",
    "# Set the color palette. Our categories are \"Single Domain\", \"Two-Domain\", and \"Autoinhibitory\"\n",
    "colors = {'Single Domain': pal[0], 'Two-Domain': pal[1], 'Autoinhibitory': pal[3], 'Autoinhibitory (Active)': pal[2], 'Autoinhibitory (Autoinhibited)': pal[3], \n",
    "          'Full': pal[3], 'Clusters': pal[7], 'Two-State AI': pal[4], 'Autoinhibitory (Closed)': pal[5], 'Autoinhibitory (Open)': pal[4]}\n",
    "pal.as_hex()"
   ]
  },
  {
   "cell_type": "code",
   "execution_count": 142,
   "metadata": {},
   "outputs": [
    {
     "data": {
      "text/html": [
       "<div>\n",
       "<style scoped>\n",
       "    .dataframe tbody tr th:only-of-type {\n",
       "        vertical-align: middle;\n",
       "    }\n",
       "\n",
       "    .dataframe tbody tr th {\n",
       "        vertical-align: top;\n",
       "    }\n",
       "\n",
       "    .dataframe thead th {\n",
       "        text-align: right;\n",
       "    }\n",
       "</style>\n",
       "<table border=\"1\" class=\"dataframe\">\n",
       "  <thead>\n",
       "    <tr style=\"text-align: right;\">\n",
       "      <th></th>\n",
       "      <th>uniprot</th>\n",
       "      <th>pdb</th>\n",
       "      <th>region_1</th>\n",
       "      <th>region_2</th>\n",
       "      <th>complex_rmsd</th>\n",
       "      <th>percent_region_1</th>\n",
       "      <th>percent_region_2</th>\n",
       "      <th>2_aligned</th>\n",
       "      <th>2_comp</th>\n",
       "      <th>state</th>\n",
       "      <th>conformation</th>\n",
       "      <th>organism</th>\n",
       "      <th>date</th>\n",
       "      <th>notes</th>\n",
       "    </tr>\n",
       "  </thead>\n",
       "  <tbody>\n",
       "    <tr>\n",
       "      <th>0</th>\n",
       "      <td>P04637</td>\n",
       "      <td>8f2h</td>\n",
       "      <td>364-393</td>\n",
       "      <td>102-292</td>\n",
       "      <td>30.431</td>\n",
       "      <td>100.0</td>\n",
       "      <td>100.000000</td>\n",
       "      <td>3.065</td>\n",
       "      <td>70.729</td>\n",
       "      <td>Autoinhibited</td>\n",
       "      <td>Closed</td>\n",
       "      <td>\"Homo sapiens\"</td>\n",
       "      <td>['2022-11-08']</td>\n",
       "      <td>NaN</td>\n",
       "    </tr>\n",
       "    <tr>\n",
       "      <th>1</th>\n",
       "      <td>P04637</td>\n",
       "      <td>8f2i</td>\n",
       "      <td>364-393</td>\n",
       "      <td>102-292</td>\n",
       "      <td>30.431</td>\n",
       "      <td>100.0</td>\n",
       "      <td>100.000000</td>\n",
       "      <td>3.065</td>\n",
       "      <td>70.729</td>\n",
       "      <td>Autoinhibited</td>\n",
       "      <td>Closed</td>\n",
       "      <td>\"Homo sapiens\"</td>\n",
       "      <td>['2022-11-08']</td>\n",
       "      <td>NaN</td>\n",
       "    </tr>\n",
       "    <tr>\n",
       "      <th>2</th>\n",
       "      <td>P00523</td>\n",
       "      <td>2ptk</td>\n",
       "      <td>148-245,246-266</td>\n",
       "      <td>81-142,521-533</td>\n",
       "      <td>1.737</td>\n",
       "      <td>100.0</td>\n",
       "      <td>89.333333</td>\n",
       "      <td>1.921</td>\n",
       "      <td>3.093</td>\n",
       "      <td>Autoinhibited</td>\n",
       "      <td>Closed</td>\n",
       "      <td>Gallus gallus</td>\n",
       "      <td>['1997-06-17']</td>\n",
       "      <td>NaN</td>\n",
       "    </tr>\n",
       "    <tr>\n",
       "      <th>3</th>\n",
       "      <td>P28482</td>\n",
       "      <td>1pme</td>\n",
       "      <td>173-196</td>\n",
       "      <td>25-172,197-313</td>\n",
       "      <td>2.422</td>\n",
       "      <td>100.0</td>\n",
       "      <td>96.603774</td>\n",
       "      <td>1.220</td>\n",
       "      <td>6.639</td>\n",
       "      <td>Autoinhibited</td>\n",
       "      <td>Closed</td>\n",
       "      <td>Homo sapiens</td>\n",
       "      <td>['1998-06-08']</td>\n",
       "      <td>NaN</td>\n",
       "    </tr>\n",
       "    <tr>\n",
       "      <th>4</th>\n",
       "      <td>P28482</td>\n",
       "      <td>1tvo</td>\n",
       "      <td>173-196</td>\n",
       "      <td>25-172,197-313</td>\n",
       "      <td>2.497</td>\n",
       "      <td>100.0</td>\n",
       "      <td>100.000000</td>\n",
       "      <td>1.523</td>\n",
       "      <td>6.633</td>\n",
       "      <td>Autoinhibited</td>\n",
       "      <td>Closed</td>\n",
       "      <td>Homo sapiens</td>\n",
       "      <td>['2004-06-30']</td>\n",
       "      <td>NaN</td>\n",
       "    </tr>\n",
       "  </tbody>\n",
       "</table>\n",
       "</div>"
      ],
      "text/plain": [
       "  uniprot   pdb         region_1        region_2  complex_rmsd  \\\n",
       "0  P04637  8f2h          364-393         102-292        30.431   \n",
       "1  P04637  8f2i          364-393         102-292        30.431   \n",
       "2  P00523  2ptk  148-245,246-266  81-142,521-533         1.737   \n",
       "3  P28482  1pme          173-196  25-172,197-313         2.422   \n",
       "4  P28482  1tvo          173-196  25-172,197-313         2.497   \n",
       "\n",
       "   percent_region_1  percent_region_2  2_aligned  2_comp          state  \\\n",
       "0             100.0        100.000000      3.065  70.729  Autoinhibited   \n",
       "1             100.0        100.000000      3.065  70.729  Autoinhibited   \n",
       "2             100.0         89.333333      1.921   3.093  Autoinhibited   \n",
       "3             100.0         96.603774      1.220   6.639  Autoinhibited   \n",
       "4             100.0        100.000000      1.523   6.633  Autoinhibited   \n",
       "\n",
       "  conformation        organism            date notes  \n",
       "0       Closed  \"Homo sapiens\"  ['2022-11-08']   NaN  \n",
       "1       Closed  \"Homo sapiens\"  ['2022-11-08']   NaN  \n",
       "2       Closed   Gallus gallus  ['1997-06-17']   NaN  \n",
       "3       Closed    Homo sapiens  ['1998-06-08']   NaN  \n",
       "4       Closed    Homo sapiens  ['2004-06-30']   NaN  "
      ]
     },
     "execution_count": 142,
     "metadata": {},
     "output_type": "execute_result"
    }
   ],
   "source": [
    "# Load the data\n",
    "cl = pd.read_csv('./project_pipeline/data/classified_files.tsv', sep='\\t')\n",
    "rmsd = pd.read_csv('./project_pipeline/data/rmsds.tsv', sep='\\t').astype('object')\n",
    "md = pd.read_csv('./project_pipeline/data/md_rmsds.tsv', sep='\\t').astype('object')\n",
    "\n",
    "cl.head()"
   ]
  },
  {
   "cell_type": "code",
   "execution_count": 143,
   "metadata": {},
   "outputs": [
    {
     "name": "stdout",
     "output_type": "stream",
     "text": [
      "Closed    116\n",
      "Open       12\n",
      "Name: conformation, dtype: int64\n"
     ]
    }
   ],
   "source": [
    "# We need to group by protein (uniprot) and find the minimum value of the 2_comp column\n",
    "\n",
    "exem = cl.sort_values('2_comp').groupby('uniprot', as_index=False).first()\n",
    "\n",
    "print(exem['conformation'].value_counts())\n"
   ]
  },
  {
   "cell_type": "code",
   "execution_count": 144,
   "metadata": {},
   "outputs": [
    {
     "name": "stdout",
     "output_type": "stream",
     "text": [
      "116\n",
      "40\n",
      "['5ups', '6m01', '5tw8', '5wm5', '7vxq', '5kei', '5iz1', '4ir8', '3myr', '6ur9', '4ueq', '3ayz', '4wv3', '4d4i', '5n4b', '5n9x', '7a9j', '3dy5', '1ohe', '4mgf', '2j3x', '1ig8', '5n0c', '1a62', '1qme', '1e8n', '1pyy', '1ru3', '5zwk', '6e97', '3pbs', '4rmn', '6ruc', '3txm', '2p3y', '3cw9', '4cdp', '3a9u', '6s62', '1e3d']\n"
     ]
    }
   ],
   "source": [
    "# We want only closed structures\n",
    "exem_closed = exem[exem['conformation'] == 'Closed']\n",
    "print(len(exem_closed))\n",
    "closed_uniprots = exem_closed['uniprot'].tolist()\n",
    "closed_pdb = exem_closed['pdb'].tolist()\n",
    "\n",
    "md_exem = md.sort_values('2_comp').groupby('uniprot', as_index=False).first()\n",
    "md_pdb = md_exem['pdb'].tolist()\n",
    "print(len(md_exem))\n",
    "print(md_pdb)"
   ]
  },
  {
   "cell_type": "code",
   "execution_count": 145,
   "metadata": {},
   "outputs": [
    {
     "name": "stderr",
     "output_type": "stream",
     "text": [
      "/tmp/ipykernel_1095503/3211990202.py:13: SettingWithCopyWarning: \n",
      "A value is trying to be set on a copy of a slice from a DataFrame.\n",
      "Try using .loc[row_indexer,col_indexer] = value instead\n",
      "\n",
      "See the caveats in the documentation: https://pandas.pydata.org/pandas-docs/stable/user_guide/indexing.html#returning-a-view-versus-a-copy\n",
      "  clSub[['Full Sequence', 'IM', 'FD', 'IM on FD']] = clSub[['Full Sequence', 'IM', 'FD', 'IM on FD']].astype(float)\n"
     ]
    }
   ],
   "source": [
    "# Reformat the data for plotting\n",
    "\n",
    "# Add 1_aligned to classified files\n",
    "rmsdSub = rmsd[['uniprot', 'pdb', '1_aligned']]\n",
    "exem = exem_closed.merge(rmsdSub, on=['uniprot', 'pdb'], how='left')\n",
    "\n",
    "# Select columns of interest\n",
    "clSub = exem[['uniprot', 'pdb', 'complex_rmsd', '1_aligned', '2_aligned', '2_comp']]\n",
    "\n",
    "# Rename columns\n",
    "clSub.columns = ['Uniprot', 'PDB', 'Full Sequence', 'IM', 'FD', 'IM on FD']\n",
    "\n",
    "clSub[['Full Sequence', 'IM', 'FD', 'IM on FD']] = clSub[['Full Sequence', 'IM', 'FD', 'IM on FD']].astype(float)\n",
    "\n",
    "# Melt the data\n",
    "plot = pd.melt(clSub, id_vars=['Uniprot', 'PDB'], var_name='Alignment', value_name='RMSD')\n",
    "\n",
    "# Convert the RMSD to a float\n",
    "plot['RMSD'] = plot['RMSD'].astype(float)\n",
    "\n",
    "# Remove outliers above 100 RMSD\n",
    "plot = plot[plot['RMSD'] < 100]"
   ]
  },
  {
   "cell_type": "code",
   "execution_count": 146,
   "metadata": {},
   "outputs": [],
   "source": [
    "# Add in multi-domain data\n",
    "\n",
    "md = pd.read_csv('./project_pipeline/data/md_rmsds.tsv', sep='\\t').astype('object')\n",
    "\n",
    "# Subset the data\n",
    "mdSub = md[['uniprot', 'pdb', 'complex_rmsd', '1_aligned', '2_aligned', '2_comp']]\n",
    "\n",
    "# Rename columns\n",
    "mdSub.columns = ['Uniprot', 'PDB', 'Full Sequence', 'D1', 'D2', 'D1 on D2']\n",
    "\n",
    "# Melt the data\n",
    "mdPlot = pd.melt(mdSub, id_vars=['Uniprot', 'PDB'], var_name='Alignment', value_name='RMSD')\n",
    "\n",
    "# Convert the RMSD to a float\n",
    "mdPlot['RMSD'] = mdPlot['RMSD'].astype(float)"
   ]
  },
  {
   "cell_type": "code",
   "execution_count": 147,
   "metadata": {},
   "outputs": [
    {
     "name": "stderr",
     "output_type": "stream",
     "text": [
      "/tmp/ipykernel_1095503/2205942897.py:2: SettingWithCopyWarning: \n",
      "A value is trying to be set on a copy of a slice from a DataFrame.\n",
      "Try using .loc[row_indexer,col_indexer] = value instead\n",
      "\n",
      "See the caveats in the documentation: https://pandas.pydata.org/pandas-docs/stable/user_guide/indexing.html#returning-a-view-versus-a-copy\n",
      "  clSub['Type'] = 'Autoinhibitory (Closed)'\n",
      "/tmp/ipykernel_1095503/2205942897.py:3: SettingWithCopyWarning: \n",
      "A value is trying to be set on a copy of a slice from a DataFrame.\n",
      "Try using .loc[row_indexer,col_indexer] = value instead\n",
      "\n",
      "See the caveats in the documentation: https://pandas.pydata.org/pandas-docs/stable/user_guide/indexing.html#returning-a-view-versus-a-copy\n",
      "  mdSub['Type'] = 'Two-Domain'\n"
     ]
    },
    {
     "data": {
      "text/html": [
       "<div>\n",
       "<style scoped>\n",
       "    .dataframe tbody tr th:only-of-type {\n",
       "        vertical-align: middle;\n",
       "    }\n",
       "\n",
       "    .dataframe tbody tr th {\n",
       "        vertical-align: top;\n",
       "    }\n",
       "\n",
       "    .dataframe thead th {\n",
       "        text-align: right;\n",
       "    }\n",
       "</style>\n",
       "<table border=\"1\" class=\"dataframe\">\n",
       "  <thead>\n",
       "    <tr style=\"text-align: right;\">\n",
       "      <th></th>\n",
       "      <th>UniProt</th>\n",
       "      <th>PDB</th>\n",
       "      <th>Full Sequence</th>\n",
       "      <th>IM/D1</th>\n",
       "      <th>FD/D2</th>\n",
       "      <th>IM on FD/D1 on D2</th>\n",
       "      <th>Type</th>\n",
       "    </tr>\n",
       "  </thead>\n",
       "  <tbody>\n",
       "    <tr>\n",
       "      <th>0</th>\n",
       "      <td>D9N168</td>\n",
       "      <td>3ht3</td>\n",
       "      <td>1.115</td>\n",
       "      <td>0.883</td>\n",
       "      <td>1.153</td>\n",
       "      <td>0.979</td>\n",
       "      <td>Two-Domain</td>\n",
       "    </tr>\n",
       "    <tr>\n",
       "      <th>1</th>\n",
       "      <td>D9N168</td>\n",
       "      <td>4o0i</td>\n",
       "      <td>1.166</td>\n",
       "      <td>0.826</td>\n",
       "      <td>1.253</td>\n",
       "      <td>0.999</td>\n",
       "      <td>Two-Domain</td>\n",
       "    </tr>\n",
       "    <tr>\n",
       "      <th>2</th>\n",
       "      <td>D9N168</td>\n",
       "      <td>6ueu</td>\n",
       "      <td>1.787</td>\n",
       "      <td>0.72</td>\n",
       "      <td>2.667</td>\n",
       "      <td>1.017</td>\n",
       "      <td>Two-Domain</td>\n",
       "    </tr>\n",
       "    <tr>\n",
       "      <th>3</th>\n",
       "      <td>D9N168</td>\n",
       "      <td>6ur2</td>\n",
       "      <td>1.208</td>\n",
       "      <td>0.836</td>\n",
       "      <td>1.317</td>\n",
       "      <td>0.998</td>\n",
       "      <td>Two-Domain</td>\n",
       "    </tr>\n",
       "    <tr>\n",
       "      <th>4</th>\n",
       "      <td>D9N168</td>\n",
       "      <td>6ur4</td>\n",
       "      <td>1.208</td>\n",
       "      <td>0.842</td>\n",
       "      <td>1.275</td>\n",
       "      <td>1.073</td>\n",
       "      <td>Two-Domain</td>\n",
       "    </tr>\n",
       "  </tbody>\n",
       "</table>\n",
       "</div>"
      ],
      "text/plain": [
       "  UniProt   PDB Full Sequence  IM/D1  FD/D2 IM on FD/D1 on D2        Type\n",
       "0  D9N168  3ht3         1.115  0.883  1.153             0.979  Two-Domain\n",
       "1  D9N168  4o0i         1.166  0.826  1.253             0.999  Two-Domain\n",
       "2  D9N168  6ueu         1.787   0.72  2.667             1.017  Two-Domain\n",
       "3  D9N168  6ur2         1.208  0.836  1.317             0.998  Two-Domain\n",
       "4  D9N168  6ur4         1.208  0.842  1.275             1.073  Two-Domain"
      ]
     },
     "execution_count": 147,
     "metadata": {},
     "output_type": "execute_result"
    }
   ],
   "source": [
    "# Add types to the dataframes\n",
    "clSub['Type'] = 'Autoinhibitory (Closed)'\n",
    "mdSub['Type'] = 'Two-Domain'\n",
    "\n",
    "# Rename the columns to match\n",
    "clSub.columns = ['UniProt', 'PDB', 'Full Sequence', 'IM/D1', 'FD/D2', 'IM on FD/D1 on D2', 'Type']\n",
    "mdSub.columns = ['UniProt', 'PDB', 'Full Sequence', 'IM/D1', 'FD/D2', 'IM on FD/D1 on D2', 'Type']\n",
    "\n",
    "# Concatenate the dataframes\n",
    "allPlot = pd.concat([clSub, mdSub])\n",
    "\n",
    "# Melt the data\n",
    "allPlot = pd.melt(allPlot, id_vars=['UniProt', 'PDB', 'Type'], var_name='Alignment', value_name='RMSD')\n",
    "\n",
    "# Convert the RMSD to a float\n",
    "allPlot['RMSD'] = allPlot['RMSD'].astype(float)\n",
    "\n",
    "# Remove outliers\n",
    "allPlot = allPlot[allPlot['RMSD'] < 100]\n",
    "mdSub.head()"
   ]
  },
  {
   "cell_type": "code",
   "execution_count": 148,
   "metadata": {},
   "outputs": [
    {
     "name": "stdout",
     "output_type": "stream",
     "text": [
      "p-value annotation legend:\n",
      "      ns: 5.00e-02 < p <= 1.00e+00\n",
      "       *: 1.00e-02 < p <= 5.00e-02\n",
      "      **: 1.00e-03 < p <= 1.00e-02\n",
      "     ***: 1.00e-04 < p <= 1.00e-03\n",
      "    ****: p <= 1.00e-04\n",
      "\n",
      "IM/D1_Autoinhibitory (Closed) vs. IM/D1_Two-Domain: Mann-Whitney-Wilcoxon test two-sided, P_val:2.015e-11 U_stat=1.534e+04\n"
     ]
    },
    {
     "name": "stderr",
     "output_type": "stream",
     "text": [
      "/tmp/ipykernel_1095503/1134918773.py:8: UserWarning: set_ticklabels() should only be used with a fixed number of ticks, i.e. after set_ticks() or using a FixedLocator.\n",
      "  ax.set_yticklabels(ax.get_yticklabels(), fontsize=12)\n"
     ]
    },
    {
     "name": "stdout",
     "output_type": "stream",
     "text": [
      "Full Sequence_Autoinhibitory (Closed) vs. Full Sequence_Two-Domain: Mann-Whitney-Wilcoxon test two-sided, P_val:2.083e-13 U_stat=1.580e+04\n",
      "FD/D2_Autoinhibitory (Closed) vs. FD/D2_Two-Domain: Mann-Whitney-Wilcoxon test two-sided, P_val:1.645e-14 U_stat=1.604e+04\n",
      "IM on FD/D1 on D2_Autoinhibitory (Closed) vs. IM on FD/D1 on D2_Two-Domain: Mann-Whitney-Wilcoxon test two-sided, P_val:1.712e-07 U_stat=1.416e+04\n"
     ]
    },
    {
     "data": {
      "image/png": "[encoded data removed]",
      "text/plain": [
       "<Figure size 600x400 with 1 Axes>"
      ]
     },
     "metadata": {},
     "output_type": "display_data"
    }
   ],
   "source": [
    "# Now we plot the data\n",
    "fig, ax = plt.subplots(figsize=(6, 4))\n",
    "sns.boxplot(data=allPlot, x='Alignment', y='RMSD', ax=ax, palette=colors, hue='Type')\n",
    "ax.set_ylim(0, 40)\n",
    "ax.set_ylabel('RMSD (Å)', fontsize=14)\n",
    "ax.set_xlabel('Alignment', fontsize=14)\n",
    "ax.set_xticklabels(ax.get_xticklabels(), fontsize=12)\n",
    "ax.set_yticklabels(ax.get_yticklabels(), fontsize=12)\n",
    "ax.legend(title='Type', fontsize=12, title_fontsize=12)\n",
    "\n",
    "# Add the annotations, comparing between structural alignment categories\n",
    "pairs = [[('Full Sequence', 'Autoinhibitory (Closed)'), ('Full Sequence', 'Two-Domain')],\n",
    "         [('IM/D1', 'Autoinhibitory (Closed)'), ('IM/D1', 'Two-Domain')],\n",
    "         [('FD/D2', 'Autoinhibitory (Closed)'), ('FD/D2', 'Two-Domain')],\n",
    "         [('IM on FD/D1 on D2', 'Autoinhibitory (Closed)'), ('IM on FD/D1 on D2', 'Two-Domain')]]\n",
    "subcat_order = ['Full Sequence', 'IM/D1', 'FD/D2', 'IM on FD/D1 on D2']\n",
    "annotator = Annotator(ax, pairs, data=allPlot, x='Alignment', y='RMSD', order=subcat_order, hue='Type')\n",
    "annotator.configure(test='Mann-Whitney', text_format='star', loc='outside')\n",
    "annotator.apply_and_annotate()\n",
    "\n",
    "# Save the plot\n",
    "plt.tight_layout()\n",
    "plt.savefig('./project_pipeline/data/figures/closed_rmsd_distributions.png', dpi=500, bbox_inches='tight')"
   ]
  },
  {
   "cell_type": "markdown",
   "metadata": {},
   "source": [
    "## Now we do the PAE"
   ]
  },
  {
   "cell_type": "code",
   "execution_count": 149,
   "metadata": {},
   "outputs": [],
   "source": [
    "df_auto = pd.read_csv('./project_pipeline/data/disorder.tsv', sep='\\t').astype('object')\n",
    "df_single = pd.read_csv('./project_pipeline/data/single_domain_pae.tsv', sep='\\t').astype('object')\n",
    "df_multi = pd.read_csv('./project_pipeline/data/multi_domain_pae.tsv', sep='\\t').astype('object')"
   ]
  },
  {
   "cell_type": "code",
   "execution_count": 150,
   "metadata": {},
   "outputs": [
    {
     "name": "stdout",
     "output_type": "stream",
     "text": [
      "112\n"
     ]
    }
   ],
   "source": [
    "df_pae = df_auto[['uniprot', 'mean_pae_1_1', 'mean_pae_1_2', 'mean_pae_2_2']]\n",
    "\n",
    "pae_closed = df_pae[df_pae['uniprot'].isin(closed_uniprots)].drop_duplicates(subset='uniprot')\n",
    "print(len(pae_closed))"
   ]
  },
  {
   "cell_type": "code",
   "execution_count": 151,
   "metadata": {},
   "outputs": [],
   "source": [
    "\n",
    "\n",
    "# Remove all rows with multiple regions. Comment this out if you want to see the difference.\n",
    "for i in range(len(df_single)):\n",
    "    region = df_single.loc[i, 'region']\n",
    "    count = region.count('-')\n",
    "    if count > 1:\n",
    "        df_single = df_single.drop(i)\n",
    "\n",
    "\n",
    "# Reformat the singles dataframe\n",
    "df_single = df_single[['uniprot', 'mean_pae']].dropna()\n",
    "df_single = df_single.astype({'mean_pae': 'float'})\n",
    "df_single = df_single.rename(columns={'mean_pae': 'Single Domain'})\n",
    "df_single_melt = df_single.melt(id_vars=['uniprot'], var_name='region', value_name='mean_pae')\n",
    "\n",
    "# Reformat all pae dataframe\n",
    "df_pae = pae_closed.rename(columns={'mean_pae_1_1': 'IM', 'mean_pae_1_2': 'IM on FD', 'mean_pae_2_2': 'FD'})\n",
    "df_pae_melt = df_pae.melt(id_vars=['uniprot'], var_name='region', value_name='mean_pae').drop_duplicates()\n",
    "\n",
    "# Reformat the multi dataframe\n",
    "df_multi = df_multi[['uniprot', 'mean_pae_1_1', 'mean_pae_1_2', 'mean_pae_2_2']].dropna().reset_index(drop=True)\n",
    "df_multi = df_multi.rename(columns={'mean_pae_1_1': 'D1', 'mean_pae_1_2': 'D1 on D2', 'mean_pae_2_2': 'D2'})\n",
    "df_multi_melt = df_multi.melt(id_vars=['uniprot'], var_name='region', value_name='mean_pae').drop_duplicates()\n",
    "\n",
    "# Add type column\n",
    "df_pae_melt['type'] = 'Autoinhibitory (Closed)'\n",
    "df_single_melt['type'] = 'Single Domain'\n",
    "df_multi_melt['type'] = 'Two-Domain'\n",
    "\n",
    "# Merge all dataframes\n",
    "df_all = pd.concat([df_single_melt, df_pae_melt, df_multi_melt], ignore_index=True).drop_duplicates()\n",
    "df_all['mean_pae'] = df_all['mean_pae'].astype('float')"
   ]
  },
  {
   "cell_type": "code",
   "execution_count": 152,
   "metadata": {},
   "outputs": [
    {
     "name": "stderr",
     "output_type": "stream",
     "text": [
      "/tmp/ipykernel_1095503/3781635464.py:8: UserWarning: set_ticklabels() should only be used with a fixed number of ticks, i.e. after set_ticks() or using a FixedLocator.\n",
      "  ax.set_yticklabels(ax.get_yticklabels(), fontsize=12)\n"
     ]
    },
    {
     "name": "stdout",
     "output_type": "stream",
     "text": [
      "p-value annotation legend:\n",
      "      ns: 5.00e-02 < p <= 1.00e+00\n",
      "       *: 1.00e-02 < p <= 5.00e-02\n",
      "      **: 1.00e-03 < p <= 1.00e-02\n",
      "     ***: 1.00e-04 < p <= 1.00e-03\n",
      "    ****: p <= 1.00e-04\n",
      "\n",
      "D2_Two-Domain vs. FD_Autoinhibitory (Closed): Mann-Whitney-Wilcoxon test two-sided with Bonferroni correction, P_val:4.821e-13 U_stat=8.270e+02\n",
      "D1_Two-Domain vs. IM_Autoinhibitory (Closed): Mann-Whitney-Wilcoxon test two-sided with Bonferroni correction, P_val:1.509e-03 U_stat=1.918e+03\n",
      "D1 on D2_Two-Domain vs. IM on FD_Autoinhibitory (Closed): Mann-Whitney-Wilcoxon test two-sided with Bonferroni correction, P_val:2.543e-02 U_stat=2.148e+03\n",
      "Single Domain_Single Domain vs. D2_Two-Domain: Mann-Whitney-Wilcoxon test two-sided with Bonferroni correction, P_val:1.522e-05 U_stat=9.643e+03\n",
      "Single Domain_Single Domain vs. FD_Autoinhibitory (Closed): Mann-Whitney-Wilcoxon test two-sided with Bonferroni correction, P_val:4.715e-05 U_stat=1.022e+04\n",
      "Single Domain_Single Domain vs. D1_Two-Domain: Mann-Whitney-Wilcoxon test two-sided with Bonferroni correction, P_val:1.000e+00 U_stat=7.594e+03\n"
     ]
    },
    {
     "data": {
      "image/png": "[encoded data removed]",
      "text/plain": [
       "<Figure size 700x400 with 1 Axes>"
      ]
     },
     "metadata": {},
     "output_type": "display_data"
    }
   ],
   "source": [
    "region_order = ['Single Domain', 'D2', 'FD', 'D1', 'IM', 'D1 on D2', 'IM on FD']\n",
    "\n",
    "f, ax = plt.subplots(figsize=(7, 4))\n",
    "sns.boxplot(data=df_all, x='region', y='mean_pae', hue='type', order=region_order, ax=ax, palette=colors, dodge=False)\n",
    "ax.set_xlabel('Domains Compared', fontsize=14)\n",
    "ax.set_ylabel('Mean PAE', fontsize=14)\n",
    "ax.set_xticklabels(ax.get_xticklabels(), fontsize=12)\n",
    "ax.set_yticklabels(ax.get_yticklabels(), fontsize=12)\n",
    "ax.legend(title='Protein Type', title_fontsize='14', fontsize='12') \n",
    "\n",
    "# Annotate statistical significance\n",
    "\n",
    "pairs = [[('Single Domain', 'Single Domain'), ('FD', 'Autoinhibitory (Closed)')],\n",
    "         [('Single Domain', 'Single Domain'), ('D2', 'Two-Domain')],\n",
    "         [('Single Domain', 'Single Domain'), ('D1', 'Two-Domain')],\n",
    "         [('FD', 'Autoinhibitory (Closed)'), ('D2', 'Two-Domain')],\n",
    "         [('IM', 'Autoinhibitory (Closed)'), ('D1', 'Two-Domain')],\n",
    "         [('IM on FD', 'Autoinhibitory (Closed)'), ('D1 on D2', 'Two-Domain')]]\n",
    "annotator = Annotator(ax, pairs, data=df_all, x='region', y='mean_pae', order=region_order, hue='type')\n",
    "annotator.configure(test='Mann-Whitney', text_format='star', loc='outside', comparisons_correction=\"bonferroni\")\n",
    "_, corrected_results = annotator.apply_and_annotate()\n",
    "\n",
    "# Save the figure\n",
    "plt.savefig('./project_pipeline/data/figures/closed_sd_md_proteins_pae_annotated.png')"
   ]
  },
  {
   "cell_type": "code",
   "execution_count": 153,
   "metadata": {},
   "outputs": [],
   "source": [
    "# Functions to rename columns\n",
    "\n",
    "def rename_auto_columns(df):\n",
    "    df = df.rename(columns={'complex_mean_plddt': 'Full Sequence', 'r1_mean_plddt': 'IM/D1', 'r2_mean_plddt': 'FD/D2'})\n",
    "\n",
    "    return df\n",
    "\n",
    "def rename_multi_columns(df):\n",
    "    df = df.rename(columns={'complex_mean_plddt': 'Full Sequence', 'r1_mean_plddt': 'IM/D1', 'r2_mean_plddt': 'FD/D2'})\n",
    "\n",
    "    return df\n",
    "\n",
    "# Quick functions to melt dataframes\n",
    "def pivot_af_df(df):\n",
    "\n",
    "    df = df.melt(id_vars=['uniprot', 'region_1', 'region_2', 'af_filename'], var_name='Section', value_name='Mean pLDDT')\n",
    "    df['Mean pLDDT'] = df['Mean pLDDT'].astype(float)\n",
    "\n",
    "    return df\n",
    "\n",
    "def pivot_cf_df(df):\n",
    "\n",
    "    df = df.melt(id_vars=['uniprot', 'cluster', 'region_1', 'region_2', 'cf_filename'], var_name='Section', value_name='Mean pLDDT')\n",
    "    df['Mean pLDDT'] = df['Mean pLDDT'].astype(float)\n",
    "\n",
    "    return df\n",
    "\n",
    "# Add signifier column\n",
    "def add_auto_type(df):\n",
    "    df['type'] = 'Autoinhibitory (Closed)'\n",
    "\n",
    "    return df\n",
    "\n",
    "def add_multi_type(df):\n",
    "    df['type'] = 'Two-Domain'\n",
    "\n",
    "    return df"
   ]
  },
  {
   "cell_type": "code",
   "execution_count": 154,
   "metadata": {},
   "outputs": [
    {
     "name": "stdout",
     "output_type": "stream",
     "text": [
      "112\n"
     ]
    }
   ],
   "source": [
    "afAuto = pd.read_csv('./project_pipeline/data/af_autoinhibited_pLDDT.tsv', sep='\\t').astype('object')\n",
    "afMulti = pd.read_csv('./project_pipeline/data/af_multi_domain_pLDDT.tsv', sep='\\t').astype('object')\n",
    "\n",
    "afAuto = afAuto.drop(columns=['pdb', 'complex_rmsd', 'percent_region_1', 'percent_region_2', \n",
    "                    '2_aligned', '2_comp', 'conformation', 'state', 'organism', \n",
    "                    'date', 'notes'])\n",
    "\n",
    "afAuto = afAuto[afAuto['uniprot'].isin(closed_uniprots)].drop_duplicates(subset='uniprot').reset_index(drop=True)\n",
    "print(len(afAuto))\n",
    "\n",
    "afMulti = afMulti.drop(columns=['mean_pae_1_1', 'mean_pae_1_2', 'mean_pae_2_2'])"
   ]
  },
  {
   "cell_type": "code",
   "execution_count": 155,
   "metadata": {},
   "outputs": [],
   "source": [
    "# Rename columns\n",
    "af_auto = rename_auto_columns(afAuto)\n",
    "af_multi = rename_multi_columns(afMulti)\n",
    "\n",
    "# Pivot dataframes\n",
    "afAuto_p = pivot_af_df(af_auto)\n",
    "afMulti_p = pivot_af_df(af_multi)\n",
    "\n",
    "# Add type column\n",
    "afAuto_p = add_auto_type(afAuto_p)\n",
    "afMulti_p = add_multi_type(afMulti_p)\n",
    "\n",
    "# Concatenate dataframes\n",
    "af = pd.concat([afAuto_p, afMulti_p])"
   ]
  },
  {
   "cell_type": "code",
   "execution_count": 156,
   "metadata": {},
   "outputs": [
    {
     "name": "stdout",
     "output_type": "stream",
     "text": [
      "p-value annotation legend:\n",
      "      ns: 5.00e-02 < p <= 1.00e+00\n",
      "       *: 1.00e-02 < p <= 5.00e-02\n",
      "      **: 1.00e-03 < p <= 1.00e-02\n",
      "     ***: 1.00e-04 < p <= 1.00e-03\n",
      "    ****: p <= 1.00e-04\n",
      "\n",
      "IM/D1_Autoinhibitory (Closed) vs. IM/D1_Two-Domain: Mann-Whitney-Wilcoxon test two-sided, P_val:1.682e-10 U_stat=1.137e+03\n"
     ]
    },
    {
     "name": "stderr",
     "output_type": "stream",
     "text": [
      "/tmp/ipykernel_1095503/1278764341.py:6: UserWarning: set_ticklabels() should only be used with a fixed number of ticks, i.e. after set_ticks() or using a FixedLocator.\n",
      "  ax.set_yticklabels(ax.get_yticklabels(), fontsize=12)\n"
     ]
    },
    {
     "name": "stdout",
     "output_type": "stream",
     "text": [
      "Full Sequence_Autoinhibitory (Closed) vs. Full Sequence_Two-Domain: Mann-Whitney-Wilcoxon test two-sided, P_val:4.574e-16 U_stat=6.400e+02\n",
      "FD/D2_Autoinhibitory (Closed) vs. FD/D2_Two-Domain: Mann-Whitney-Wilcoxon test two-sided, P_val:2.053e-07 U_stat=1.479e+03\n"
     ]
    },
    {
     "data": {
      "image/png": "[encoded data removed]",
      "text/plain": [
       "<Figure size 500x500 with 1 Axes>"
      ]
     },
     "metadata": {},
     "output_type": "display_data"
    }
   ],
   "source": [
    "\n",
    "\n",
    "fig, ax = plt.subplots(figsize=(5, 5))\n",
    "sns.boxplot(data=af, x='Section', y='Mean pLDDT', ax = ax, hue='type', palette=colors)\n",
    "ax.set_ylabel('Mean pLDDT', fontsize=14)\n",
    "ax.set_xlabel('Section', fontsize=14)\n",
    "ax.set_xticklabels(ax.get_xticklabels(), fontsize=12)\n",
    "ax.set_yticklabels(ax.get_yticklabels(), fontsize=12)\n",
    "ax.legend(title='Protein Type', title_fontsize='14', fontsize='12')\n",
    "\n",
    "\n",
    "# Annotate statistical significance\n",
    "pairs = [[('Full Sequence', 'Autoinhibitory (Closed)'), ('Full Sequence', 'Two-Domain')],\n",
    "         [('IM/D1', 'Autoinhibitory (Closed)'), ('IM/D1', 'Two-Domain')],\n",
    "         [('FD/D2', 'Autoinhibitory (Closed)'), ('FD/D2', 'Two-Domain')]]\n",
    "subcat_order = ['Full Sequence', 'IM/D1', 'FD/D2']\n",
    "annotator = Annotator(ax, pairs, data=af, x='Section', y='Mean pLDDT', order=subcat_order, hue='type')\n",
    "annotator.configure(test='Mann-Whitney', text_format='star', loc='outside')\n",
    "annotator.apply_and_annotate()\n",
    "\n",
    "# Save the figure\n",
    "plt.style.use('science')\n",
    "plt.tight_layout()\n",
    "plt.savefig('./project_pipeline/data/figures/af_closed_multi_plddt.png', dpi=300, bbox_inches='tight')"
   ]
  },
  {
   "cell_type": "markdown",
   "metadata": {},
   "source": [
    "## Now for DockQ"
   ]
  },
  {
   "cell_type": "code",
   "execution_count": 157,
   "metadata": {},
   "outputs": [
    {
     "name": "stdout",
     "output_type": "stream",
     "text": [
      "116\n"
     ]
    }
   ],
   "source": [
    "ai1 = pd.read_csv('./project_pipeline/data/ai_dockq_results.csv').astype('object')\n",
    "md_dockq = pd.read_csv('./project_pipeline/data/md_dockq_results.csv').astype('object')\n",
    "\n",
    "ai = ai1[ai1['pdb'].isin(closed_pdb)].reset_index(drop=True)\n",
    "ai = ai[ai['uniprot'].isin(closed_uniprots)].reset_index(drop=True)\n",
    "\n",
    "md_dockq = md_dockq[md_dockq['pdb'].isin(md_pdb)].reset_index(drop=True)\n",
    "print(len(ai))"
   ]
  },
  {
   "cell_type": "code",
   "execution_count": 158,
   "metadata": {},
   "outputs": [
    {
     "data": {
      "text/html": [
       "<div>\n",
       "<style scoped>\n",
       "    .dataframe tbody tr th:only-of-type {\n",
       "        vertical-align: middle;\n",
       "    }\n",
       "\n",
       "    .dataframe tbody tr th {\n",
       "        vertical-align: top;\n",
       "    }\n",
       "\n",
       "    .dataframe thead th {\n",
       "        text-align: right;\n",
       "    }\n",
       "</style>\n",
       "<table border=\"1\" class=\"dataframe\">\n",
       "  <thead>\n",
       "    <tr style=\"text-align: right;\">\n",
       "      <th></th>\n",
       "      <th>uniprot</th>\n",
       "      <th>pdb</th>\n",
       "      <th>fnat</th>\n",
       "      <th>fnat_correct</th>\n",
       "      <th>fnat_total</th>\n",
       "      <th>fnonnat</th>\n",
       "      <th>fnonnat_nnative</th>\n",
       "      <th>fnonnat_model</th>\n",
       "      <th>irms</th>\n",
       "      <th>lrms</th>\n",
       "      <th>dockq</th>\n",
       "      <th>capri</th>\n",
       "      <th>type</th>\n",
       "    </tr>\n",
       "  </thead>\n",
       "  <tbody>\n",
       "    <tr>\n",
       "      <th>0</th>\n",
       "      <td>Q96FI4</td>\n",
       "      <td>4nrv</td>\n",
       "      <td>0.944</td>\n",
       "      <td>17</td>\n",
       "      <td>18</td>\n",
       "      <td>0.056</td>\n",
       "      <td>1</td>\n",
       "      <td>18</td>\n",
       "      <td>0.523</td>\n",
       "      <td>0.436</td>\n",
       "      <td>0.944</td>\n",
       "      <td>High</td>\n",
       "      <td>Autoinhibitory (Closed)</td>\n",
       "    </tr>\n",
       "    <tr>\n",
       "      <th>1</th>\n",
       "      <td>P14921</td>\n",
       "      <td>1gvj</td>\n",
       "      <td>0.772</td>\n",
       "      <td>44</td>\n",
       "      <td>57</td>\n",
       "      <td>0.137</td>\n",
       "      <td>7</td>\n",
       "      <td>51</td>\n",
       "      <td>9.909</td>\n",
       "      <td>23.751</td>\n",
       "      <td>0.303</td>\n",
       "      <td>Acceptable</td>\n",
       "      <td>Autoinhibitory (Closed)</td>\n",
       "    </tr>\n",
       "    <tr>\n",
       "      <th>2</th>\n",
       "      <td>Q06124</td>\n",
       "      <td>6mdc</td>\n",
       "      <td>0.919</td>\n",
       "      <td>79</td>\n",
       "      <td>86</td>\n",
       "      <td>0.092</td>\n",
       "      <td>8</td>\n",
       "      <td>87</td>\n",
       "      <td>0.327</td>\n",
       "      <td>0.413</td>\n",
       "      <td>0.957</td>\n",
       "      <td>High</td>\n",
       "      <td>Autoinhibitory (Closed)</td>\n",
       "    </tr>\n",
       "    <tr>\n",
       "      <th>3</th>\n",
       "      <td>Q5Y4Y6</td>\n",
       "      <td>5b5r</td>\n",
       "      <td>0.705</td>\n",
       "      <td>55</td>\n",
       "      <td>78</td>\n",
       "      <td>0.433</td>\n",
       "      <td>42</td>\n",
       "      <td>97</td>\n",
       "      <td>4.032</td>\n",
       "      <td>4.75</td>\n",
       "      <td>0.53</td>\n",
       "      <td>Medium</td>\n",
       "      <td>Autoinhibitory (Closed)</td>\n",
       "    </tr>\n",
       "    <tr>\n",
       "      <th>4</th>\n",
       "      <td>P18654</td>\n",
       "      <td>4mao</td>\n",
       "      <td>0.943</td>\n",
       "      <td>50</td>\n",
       "      <td>53</td>\n",
       "      <td>0.153</td>\n",
       "      <td>9</td>\n",
       "      <td>59</td>\n",
       "      <td>0.863</td>\n",
       "      <td>1.76</td>\n",
       "      <td>0.885</td>\n",
       "      <td>High</td>\n",
       "      <td>Autoinhibitory (Closed)</td>\n",
       "    </tr>\n",
       "  </tbody>\n",
       "</table>\n",
       "</div>"
      ],
      "text/plain": [
       "  uniprot   pdb   fnat fnat_correct fnat_total fnonnat fnonnat_nnative  \\\n",
       "0  Q96FI4  4nrv  0.944           17         18   0.056               1   \n",
       "1  P14921  1gvj  0.772           44         57   0.137               7   \n",
       "2  Q06124  6mdc  0.919           79         86   0.092               8   \n",
       "3  Q5Y4Y6  5b5r  0.705           55         78   0.433              42   \n",
       "4  P18654  4mao  0.943           50         53   0.153               9   \n",
       "\n",
       "  fnonnat_model   irms    lrms  dockq       capri                     type  \n",
       "0            18  0.523   0.436  0.944        High  Autoinhibitory (Closed)  \n",
       "1            51  9.909  23.751  0.303  Acceptable  Autoinhibitory (Closed)  \n",
       "2            87  0.327   0.413  0.957        High  Autoinhibitory (Closed)  \n",
       "3            97  4.032    4.75   0.53      Medium  Autoinhibitory (Closed)  \n",
       "4            59  0.863    1.76  0.885        High  Autoinhibitory (Closed)  "
      ]
     },
     "execution_count": 158,
     "metadata": {},
     "output_type": "execute_result"
    }
   ],
   "source": [
    "md_dockq['type'] = 'Two-Domain'\n",
    "md_dockq.head()\n",
    "\n",
    "\n",
    "ai['type'] = 'Autoinhibitory (Closed)'\n",
    "\n",
    "ai_sub = ai[['uniprot', 'pdb', 'fnat', 'fnat_correct', 'fnat_total', 'fnonnat',\n",
    "       'fnonnat_nnative', 'fnonnat_model', 'irms', 'lrms', 'dockq', 'capri',\n",
    "       'type']]\n",
    "\n",
    "plot = pd.concat([ai_sub, md_dockq], ignore_index=True)\n",
    "plot.head()"
   ]
  },
  {
   "cell_type": "code",
   "execution_count": 159,
   "metadata": {},
   "outputs": [
    {
     "name": "stderr",
     "output_type": "stream",
     "text": [
      "/tmp/ipykernel_1095503/1941098761.py:12: UserWarning: set_ticklabels() should only be used with a fixed number of ticks, i.e. after set_ticks() or using a FixedLocator.\n",
      "  ax.set_yticklabels(ax.get_yticklabels(), fontsize=12)\n"
     ]
    },
    {
     "data": {
      "image/png": "[encoded data removed]",
      "text/plain": [
       "<Figure size 600x400 with 1 Axes>"
      ]
     },
     "metadata": {},
     "output_type": "display_data"
    }
   ],
   "source": [
    "# Make the capri class categorical\n",
    "plot['capri'] = pd.Categorical(plot['capri'], ['High', 'Medium', 'Acceptable', 'Incorrect'])\n",
    "\n",
    "# Make histograms of both\n",
    "fig, ax = plt.subplots(1, 1, figsize=(6, 4))\n",
    "\n",
    "# Autoinhibitory DockQ\n",
    "sns.countplot(data=plot, x='capri', hue='type', ax=ax, palette=colors, edgecolor='.3')\n",
    "ax.set_xlabel('Capri Class', fontsize=14)\n",
    "ax.set_ylabel('Count', fontsize=14)\n",
    "ax.set_xticklabels(ax.get_xticklabels(), fontsize=12)\n",
    "ax.set_yticklabels(ax.get_yticklabels(), fontsize=12)\n",
    "ax.legend(title='Type', fontsize=12, title_fontsize=12)\n",
    "\n",
    "plt.savefig('./project_pipeline/data/figures/dockq_histograms.png', dpi=300)"
   ]
  }
 ],
 "metadata": {
  "kernelspec": {
   "display_name": "analysis",
   "language": "python",
   "name": "python3"
  },
  "language_info": {
   "codemirror_mode": {
    "name": "ipython",
    "version": 3
   },
   "file_extension": ".py",
   "mimetype": "text/x-python",
   "name": "python",
   "nbconvert_exporter": "python",
   "pygments_lexer": "ipython3",
   "version": "3.11.9"
  }
 },
 "nbformat": 4,
 "nbformat_minor": 2
}
