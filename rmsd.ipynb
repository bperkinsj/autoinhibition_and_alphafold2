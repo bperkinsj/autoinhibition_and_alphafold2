{
 "cells": [
  {
   "cell_type": "markdown",
   "metadata": {},
   "source": [
    "A Jupyter notebook for analyzing the differences between predicted and experimental structures."
   ]
  },
  {
   "cell_type": "code",
   "execution_count": 1,
   "metadata": {},
   "outputs": [],
   "source": [
    "from matplotlib.ticker import FuncFormatter\n",
    "from statannotations.Annotator import Annotator\n",
    "from scipy.stats import mannwhitneyu\n",
    "from pandas.plotting import table\n",
    "import matplotlib.pyplot as plt\n",
    "import dataframe_image as dfi\n",
    "import pandas as pd\n",
    "import seaborn as sns\n",
    "import matplotlib as mpl\n",
    "import numpy as np\n",
    "import scipy as sp\n",
    "import json\n",
    "import sys\n",
    "import scienceplots\n"
   ]
  },
  {
   "cell_type": "markdown",
   "metadata": {},
   "source": [
    "Quick look at our data."
   ]
  },
  {
   "cell_type": "code",
   "execution_count": 2,
   "metadata": {},
   "outputs": [
    {
     "data": {
      "text/html": [
       "<div>\n",
       "<style scoped>\n",
       "    .dataframe tbody tr th:only-of-type {\n",
       "        vertical-align: middle;\n",
       "    }\n",
       "\n",
       "    .dataframe tbody tr th {\n",
       "        vertical-align: top;\n",
       "    }\n",
       "\n",
       "    .dataframe thead th {\n",
       "        text-align: right;\n",
       "    }\n",
       "</style>\n",
       "<table border=\"1\" class=\"dataframe\">\n",
       "  <thead>\n",
       "    <tr style=\"text-align: right;\">\n",
       "      <th></th>\n",
       "      <th>uniprot</th>\n",
       "      <th>pdb</th>\n",
       "      <th>region_1</th>\n",
       "      <th>region_2</th>\n",
       "      <th>complex_rmsd</th>\n",
       "      <th>percent_region_1</th>\n",
       "      <th>percent_region_2</th>\n",
       "      <th>2_aligned</th>\n",
       "      <th>2_comp</th>\n",
       "      <th>conformation</th>\n",
       "      <th>state</th>\n",
       "      <th>organism</th>\n",
       "      <th>date</th>\n",
       "      <th>notes</th>\n",
       "    </tr>\n",
       "  </thead>\n",
       "  <tbody>\n",
       "    <tr>\n",
       "      <th>0</th>\n",
       "      <td>A0A0R4I961</td>\n",
       "      <td>6gtv</td>\n",
       "      <td>155-279</td>\n",
       "      <td>3-147</td>\n",
       "      <td>1.45</td>\n",
       "      <td>100.0</td>\n",
       "      <td>100.0</td>\n",
       "      <td>1.673</td>\n",
       "      <td>1.135</td>\n",
       "      <td>Open</td>\n",
       "      <td>Active</td>\n",
       "      <td>Escherichia coli F18+</td>\n",
       "      <td>['2018-06-19']</td>\n",
       "      <td>NaN</td>\n",
       "    </tr>\n",
       "    <tr>\n",
       "      <th>1</th>\n",
       "      <td>A0A0R4I961</td>\n",
       "      <td>6gtz</td>\n",
       "      <td>155-279</td>\n",
       "      <td>3-147</td>\n",
       "      <td>1.631</td>\n",
       "      <td>100.0</td>\n",
       "      <td>100.0</td>\n",
       "      <td>1.648</td>\n",
       "      <td>3.014</td>\n",
       "      <td>Open</td>\n",
       "      <td>Active</td>\n",
       "      <td>Escherichia coli F18+</td>\n",
       "      <td>['2018-06-19']</td>\n",
       "      <td>NaN</td>\n",
       "    </tr>\n",
       "    <tr>\n",
       "      <th>2</th>\n",
       "      <td>A0A0R4I961</td>\n",
       "      <td>6gu0</td>\n",
       "      <td>155-279</td>\n",
       "      <td>3-147</td>\n",
       "      <td>2.105</td>\n",
       "      <td>100.0</td>\n",
       "      <td>100.0</td>\n",
       "      <td>1.788</td>\n",
       "      <td>4.298</td>\n",
       "      <td>Open</td>\n",
       "      <td>Active</td>\n",
       "      <td>Escherichia coli F18+</td>\n",
       "      <td>['2018-06-19']</td>\n",
       "      <td>NaN</td>\n",
       "    </tr>\n",
       "    <tr>\n",
       "      <th>3</th>\n",
       "      <td>B5XAZ0</td>\n",
       "      <td>7bfk</td>\n",
       "      <td>116-120</td>\n",
       "      <td>1-115</td>\n",
       "      <td>4.781</td>\n",
       "      <td>100.0</td>\n",
       "      <td>83.478261</td>\n",
       "      <td>2.6</td>\n",
       "      <td>0.965</td>\n",
       "      <td>Closed</td>\n",
       "      <td>Autoinhibited</td>\n",
       "      <td>Salmo salar</td>\n",
       "      <td>['2021-01-04']</td>\n",
       "      <td>NaN</td>\n",
       "    </tr>\n",
       "    <tr>\n",
       "      <th>4</th>\n",
       "      <td>B5XAZ0</td>\n",
       "      <td>7bfl</td>\n",
       "      <td>116-120</td>\n",
       "      <td>1-115</td>\n",
       "      <td>2.591</td>\n",
       "      <td>100.0</td>\n",
       "      <td>79.130435</td>\n",
       "      <td>2.76</td>\n",
       "      <td>0.807</td>\n",
       "      <td>Closed</td>\n",
       "      <td>Autoinhibited</td>\n",
       "      <td>Salmo salar</td>\n",
       "      <td>['2021-01-04']</td>\n",
       "      <td>NaN</td>\n",
       "    </tr>\n",
       "  </tbody>\n",
       "</table>\n",
       "</div>"
      ],
      "text/plain": [
       "      uniprot   pdb region_1 region_2 complex_rmsd percent_region_1  \\\n",
       "0  A0A0R4I961  6gtv  155-279    3-147         1.45            100.0   \n",
       "1  A0A0R4I961  6gtz  155-279    3-147        1.631            100.0   \n",
       "2  A0A0R4I961  6gu0  155-279    3-147        2.105            100.0   \n",
       "3      B5XAZ0  7bfk  116-120    1-115        4.781            100.0   \n",
       "4      B5XAZ0  7bfl  116-120    1-115        2.591            100.0   \n",
       "\n",
       "  percent_region_2 2_aligned 2_comp conformation          state  \\\n",
       "0            100.0     1.673  1.135         Open         Active   \n",
       "1            100.0     1.648  3.014         Open         Active   \n",
       "2            100.0     1.788  4.298         Open         Active   \n",
       "3        83.478261       2.6  0.965       Closed  Autoinhibited   \n",
       "4        79.130435      2.76  0.807       Closed  Autoinhibited   \n",
       "\n",
       "                organism            date notes  \n",
       "0  Escherichia coli F18+  ['2018-06-19']   NaN  \n",
       "1  Escherichia coli F18+  ['2018-06-19']   NaN  \n",
       "2  Escherichia coli F18+  ['2018-06-19']   NaN  \n",
       "3            Salmo salar  ['2021-01-04']   NaN  \n",
       "4            Salmo salar  ['2021-01-04']   NaN  "
      ]
     },
     "execution_count": 2,
     "metadata": {},
     "output_type": "execute_result"
    }
   ],
   "source": [
    "cl = pd.read_csv('./project_pipeline/data/classified_files_3.tsv', sep='\\t').astype('object')\n",
    "rmsd = pd.read_csv('./project_pipeline/data/rmsds.tsv', sep='\\t').astype('object')\n",
    "cl.head()"
   ]
  },
  {
   "cell_type": "code",
   "execution_count": 3,
   "metadata": {},
   "outputs": [
    {
     "name": "stdout",
     "output_type": "stream",
     "text": [
      "['#e41a1c', '#377eb8', '#4daf4a', '#984ea3', '#ff7f00', '#ffff33', '#a65628', '#f781bf', '#999999']\n"
     ]
    },
    {
     "data": {
      "text/html": [
       "<svg  width=\"495\" height=\"55\"><rect x=\"0\" y=\"0\" width=\"55\" height=\"55\" style=\"fill:#e41a1c;stroke-width:2;stroke:rgb(255,255,255)\"/><rect x=\"55\" y=\"0\" width=\"55\" height=\"55\" style=\"fill:#377eb8;stroke-width:2;stroke:rgb(255,255,255)\"/><rect x=\"110\" y=\"0\" width=\"55\" height=\"55\" style=\"fill:#4daf4a;stroke-width:2;stroke:rgb(255,255,255)\"/><rect x=\"165\" y=\"0\" width=\"55\" height=\"55\" style=\"fill:#984ea3;stroke-width:2;stroke:rgb(255,255,255)\"/><rect x=\"220\" y=\"0\" width=\"55\" height=\"55\" style=\"fill:#ff7f00;stroke-width:2;stroke:rgb(255,255,255)\"/><rect x=\"275\" y=\"0\" width=\"55\" height=\"55\" style=\"fill:#ffff33;stroke-width:2;stroke:rgb(255,255,255)\"/><rect x=\"330\" y=\"0\" width=\"55\" height=\"55\" style=\"fill:#a65628;stroke-width:2;stroke:rgb(255,255,255)\"/><rect x=\"385\" y=\"0\" width=\"55\" height=\"55\" style=\"fill:#f781bf;stroke-width:2;stroke:rgb(255,255,255)\"/><rect x=\"440\" y=\"0\" width=\"55\" height=\"55\" style=\"fill:#999999;stroke-width:2;stroke:rgb(255,255,255)\"/></svg>"
      ],
      "text/plain": [
       "['#e41a1c',\n",
       " '#377eb8',\n",
       " '#4daf4a',\n",
       " '#984ea3',\n",
       " '#ff7f00',\n",
       " '#ffff33',\n",
       " '#a65628',\n",
       " '#f781bf',\n",
       " '#999999']"
      ]
     },
     "execution_count": 3,
     "metadata": {},
     "output_type": "execute_result"
    }
   ],
   "source": [
    "plt.style.use('science')\n",
    "\n",
    "# Get the hex codes for the colors so we can assign them to categories\n",
    "pal = sns.color_palette('Set1')\n",
    "print(pal.as_hex())\n",
    "\n",
    "# Set the color palette. Our categories are \"Single Domain\", \"Two-Domain\", and \"Autoinhibitory\"\n",
    "colors = {'Single Domain': pal[0], 'Two-Domain': pal[1], 'Autoinhibitory': pal[2], 'Full': pal[3], 'Clusters': pal[4]}\n",
    "pal.as_hex()"
   ]
  },
  {
   "cell_type": "markdown",
   "metadata": {},
   "source": [
    "We'll re-format the data first."
   ]
  },
  {
   "cell_type": "code",
   "execution_count": 4,
   "metadata": {},
   "outputs": [
    {
     "name": "stdout",
     "output_type": "stream",
     "text": [
      "551\n"
     ]
    }
   ],
   "source": [
    "# Reformat the data for plotting\n",
    "\n",
    "# Add 1_aligned to classified files\n",
    "rmsdSub = rmsd[['uniprot', 'pdb', '1_aligned']]\n",
    "cl = cl.merge(rmsdSub, on=['uniprot', 'pdb'], how='left')\n",
    "\n",
    "# Select only proteins with both state and conformation annotated\n",
    "cl = cl.dropna(subset=['state', 'conformation'])\n",
    " \n",
    "# Let's check the length of that\n",
    "print(len(cl))\n",
    "\n",
    "# Select columns of interest\n",
    "clSub = cl[['uniprot', 'pdb', 'complex_rmsd', '1_aligned', '2_aligned', '2_comp']]\n",
    "\n",
    "# Rename columns\n",
    "clSub.columns = ['Uniprot', 'PDB', 'Full Sequence', 'IM', 'FD', 'IM on FD']\n",
    "\n",
    "# Melt the data\n",
    "plot = pd.melt(clSub, id_vars=['Uniprot', 'PDB'], var_name='Alignment', value_name='RMSD')\n",
    "\n",
    "# Convert the RMSD to a float\n",
    "plot['RMSD'] = plot['RMSD'].astype(float)\n",
    "\n",
    "# Remove outliers above 100 RMSD\n",
    "plot = plot[plot['RMSD'] < 100]"
   ]
  },
  {
   "cell_type": "markdown",
   "metadata": {},
   "source": [
    "# Plot for RMSD of All Autoinhibitory Proteins"
   ]
  },
  {
   "cell_type": "markdown",
   "metadata": {},
   "source": [
    "First let's look at the distributions for RMSD between whole proteins, inhibitory modules, and functional domains."
   ]
  },
  {
   "cell_type": "code",
   "execution_count": 5,
   "metadata": {},
   "outputs": [
    {
     "name": "stdout",
     "output_type": "stream",
     "text": [
      "p-value annotation legend:\n",
      "      ns: 5.00e-02 < p <= 1.00e+00\n",
      "       *: 1.00e-02 < p <= 5.00e-02\n",
      "      **: 1.00e-03 < p <= 1.00e-02\n",
      "     ***: 1.00e-04 < p <= 1.00e-03\n",
      "    ****: p <= 1.00e-04\n",
      "\n",
      "Full Sequence vs. IM: Mann-Whitney-Wilcoxon test two-sided, P_val:9.060e-06 U_stat=1.743e+05\n",
      "IM vs. FD: Mann-Whitney-Wilcoxon test two-sided, P_val:5.176e-20 U_stat=1.995e+05\n",
      "FD vs. IM on FD: Mann-Whitney-Wilcoxon test two-sided, P_val:1.726e-50 U_stat=7.269e+04\n",
      "Full Sequence vs. FD: Mann-Whitney-Wilcoxon test two-sided, P_val:3.451e-71 U_stat=2.456e+05\n",
      "IM vs. IM on FD: Mann-Whitney-Wilcoxon test two-sided, P_val:7.954e-15 U_stat=1.101e+05\n",
      "Full Sequence vs. IM on FD: Mann-Whitney-Wilcoxon test two-sided, P_val:3.058e-03 U_stat=1.356e+05\n"
     ]
    },
    {
     "data": {
      "image/png": "[encoded data removed]",
      "text/plain": [
       "<Figure size 800x600 with 1 Axes>"
      ]
     },
     "metadata": {},
     "output_type": "display_data"
    }
   ],
   "source": [
    "# Now plot it\n",
    "fig, ax = plt.subplots(figsize=(8, 6))\n",
    "sns.boxplot(data=plot, x='Alignment', y='RMSD', ax=ax, palette='Set2')\n",
    "ax.set_ybound(0.0, 40.0)\n",
    "ax.set_ylabel('RMSD (Å)', fontsize=14)\n",
    "ax.set_xlabel('Alignment', fontsize=14)\n",
    "\n",
    "# Add the annotations\n",
    "pairs = [('Full Sequence', 'IM'),\n",
    "         ('Full Sequence', 'FD'),\n",
    "         ('Full Sequence', 'IM on FD'),\n",
    "         ('IM', 'FD'),\n",
    "         ('IM', 'IM on FD'),\n",
    "         ('FD', 'IM on FD')]\n",
    "order = ['Full Sequence', 'IM', 'FD', 'IM on FD']\n",
    "annotator = Annotator(ax, pairs, data=plot, x='Alignment', y='RMSD', order=order)\n",
    "annotator.configure(test='Mann-Whitney', text_format='star', loc='outside')\n",
    "annotator.apply_and_annotate()\n",
    "\n",
    "# Save the plot\n",
    "plt.tight_layout()\n",
    "plt.savefig('./project_pipeline/data/figures/rmsd_distributions.png', dpi=300, bbox_inches='tight')"
   ]
  },
  {
   "cell_type": "markdown",
   "metadata": {},
   "source": [
    "Now let's make a table showing how many AlphaFold2 predictions are in each state.\n",
    "\n",
    "To do that, we'll first find the experimental structure that has the lowest RMSD for inhibitory modules when aligned on the functional domains."
   ]
  },
  {
   "cell_type": "code",
   "execution_count": 6,
   "metadata": {},
   "outputs": [
    {
     "name": "stderr",
     "output_type": "stream",
     "text": [
      "/tmp/ipykernel_2642781/3894209724.py:20: FutureWarning: In a future version of pandas all arguments of DataFrame.pivot will be keyword-only.\n",
      "  table(ax, counts.pivot('Predicted State', 'Conformation', 'Count'))\n"
     ]
    },
    {
     "data": {
      "image/png": "[encoded data removed]",
      "text/plain": [
       "<Figure size 350x262.5 with 1 Axes>"
      ]
     },
     "metadata": {},
     "output_type": "display_data"
    }
   ],
   "source": [
    "# Find the lowest 2_comp RMSD for each uniprot and keep the PDB identifier\n",
    "min2Comp = clSub.groupby('Uniprot')[['PDB', 'IM on FD']].min().reset_index()\n",
    "\n",
    "# Merge the minimum 2_comp RMSD with the original data to get state and conformation\n",
    "minState = min2Comp.merge(cl[['uniprot', 'pdb', 'state', 'conformation']], left_on='PDB', right_on='pdb')\n",
    "\n",
    "# Assign predicted structure state. Use state if less than 15 RMSD, otherwise it's 'indeterminate'\n",
    "minState['predicted_state'] = np.where(minState['IM on FD'] < 15, minState['state'], 'Indeterminate')\n",
    "\n",
    "# Now let's count the number of proteins in each predicted state and conformation\n",
    "counts = minState.groupby(['predicted_state', 'conformation']).size().reset_index()\n",
    "counts.columns = ['Predicted State', 'Conformation', 'Count']\n",
    "\n",
    "# Let's do it only by predicted state\n",
    "stateCounts = minState.groupby('predicted_state').size().reset_index()\n",
    "stateCounts.columns = ['Predicted State', 'Count']\n",
    "\n",
    "# Let's plot these as tables\n",
    "ax = plt.subplot(111, frame_on=False)\n",
    "table(ax, counts.pivot('Predicted State', 'Conformation', 'Count'))\n",
    "ax.xaxis.set_visible(False)\n",
    "ax.yaxis.set_visible(False)\n",
    "\n",
    "# Plot the other one\n",
    "# ax = plt.subplot(111, frame_on=False)\n",
    "# table(ax, stateCounts)\n",
    "# ax.xaxis.set_visible(False)\n",
    "# ax.yaxis.set_visible(False)\n",
    "\n",
    "# Save the plot\n",
    "plt.savefig('./project_pipeline/data/figures/state_conformation_counts.png', dpi=300, bbox_inches='tight')"
   ]
  },
  {
   "cell_type": "markdown",
   "metadata": {},
   "source": [
    "# Plot for RMSD of Two-State Autoinhibitory Proteins"
   ]
  },
  {
   "cell_type": "markdown",
   "metadata": {},
   "source": [
    "Now let's make the same plots and tables as above for proteins with experimental structures in both states. We'll figure this out _de novo_."
   ]
  },
  {
   "cell_type": "code",
   "execution_count": 7,
   "metadata": {},
   "outputs": [],
   "source": [
    "# Determine which proteins from cl have both active and autoinhibited structures\n",
    "both = cl.groupby('uniprot').filter(lambda x: x['state'].nunique() > 1)\n",
    "\n",
    "# Format the data for plotting\n",
    "bothSub = both[['uniprot', 'pdb', 'complex_rmsd', '1_aligned', '2_aligned', '2_comp']]\n",
    "bothSub.columns = ['Uniprot', 'PDB', 'Full Sequence', 'IM', 'FD', 'IM on FD']\n",
    "bothPlot = pd.melt(bothSub, id_vars=['Uniprot', 'PDB'], var_name='Alignment', value_name='RMSD')\n",
    "bothPlot['RMSD'] = bothPlot['RMSD'].astype(float)\n",
    "bothPlot = bothPlot[bothPlot['RMSD'] < 100]"
   ]
  },
  {
   "cell_type": "code",
   "execution_count": 8,
   "metadata": {},
   "outputs": [
    {
     "name": "stdout",
     "output_type": "stream",
     "text": [
      "p-value annotation legend:\n",
      "      ns: 5.00e-02 < p <= 1.00e+00\n",
      "       *: 1.00e-02 < p <= 5.00e-02\n",
      "      **: 1.00e-03 < p <= 1.00e-02\n",
      "     ***: 1.00e-04 < p <= 1.00e-03\n",
      "    ****: p <= 1.00e-04\n",
      "\n",
      "Full Sequence vs. IM: Mann-Whitney-Wilcoxon test two-sided, P_val:8.295e-02 U_stat=2.616e+04\n",
      "IM vs. FD: Mann-Whitney-Wilcoxon test two-sided, P_val:1.294e-58 U_stat=5.333e+04\n",
      "FD vs. IM on FD: Mann-Whitney-Wilcoxon test two-sided, P_val:1.084e-73 U_stat=1.275e+03\n",
      "Full Sequence vs. FD: Mann-Whitney-Wilcoxon test two-sided, P_val:1.770e-57 U_stat=5.347e+04\n",
      "IM vs. IM on FD: Mann-Whitney-Wilcoxon test two-sided, P_val:7.955e-17 U_stat=1.614e+04\n",
      "Full Sequence vs. IM on FD: Mann-Whitney-Wilcoxon test two-sided, P_val:1.424e-16 U_stat=1.641e+04\n"
     ]
    },
    {
     "data": {
      "image/png": "[encoded data removed]",
      "text/plain": [
       "<Figure size 800x600 with 1 Axes>"
      ]
     },
     "metadata": {},
     "output_type": "display_data"
    }
   ],
   "source": [
    "# Plot the data\n",
    "fig, ax = plt.subplots(figsize=(8, 6))\n",
    "sns.boxplot(data=bothPlot, x='Alignment', y='RMSD', ax=ax, palette='Set2')\n",
    "ax.set_ylabel('RMSD (Å)', fontsize=14)\n",
    "ax.set_xlabel('Alignment', fontsize=14)\n",
    "\n",
    "# Add the annotations\n",
    "pairs = [('Full Sequence', 'IM'),\n",
    "         ('Full Sequence', 'FD'),\n",
    "         ('Full Sequence', 'IM on FD'),\n",
    "         ('IM', 'FD'),\n",
    "         ('IM', 'IM on FD'),\n",
    "         ('FD', 'IM on FD')]\n",
    "order = ['Full Sequence', 'IM', 'FD', 'IM on FD']\n",
    "annotator = Annotator(ax, pairs, data=bothPlot, x='Alignment', y='RMSD', order=order)\n",
    "annotator.configure(test='Mann-Whitney', text_format='star', loc='outside')\n",
    "annotator.apply_and_annotate()\n",
    "\n",
    "# Save the plot\n",
    "plt.tight_layout()\n",
    "plt.savefig('./project_pipeline/data/figures/rmsd_distributions_2state.png', dpi=300, bbox_inches='tight')"
   ]
  },
  {
   "cell_type": "code",
   "execution_count": 9,
   "metadata": {},
   "outputs": [
    {
     "name": "stderr",
     "output_type": "stream",
     "text": [
      "/tmp/ipykernel_2642781/4238038402.py:16: FutureWarning: In a future version of pandas all arguments of DataFrame.pivot will be keyword-only.\n",
      "  table(ax, bothCounts.pivot('Predicted State', 'Conformation', 'Count'))\n"
     ]
    },
    {
     "data": {
      "image/png": "[encoded data removed]",
      "text/plain": [
       "<Figure size 350x262.5 with 1 Axes>"
      ]
     },
     "metadata": {},
     "output_type": "display_data"
    }
   ],
   "source": [
    "# Now we make the table\n",
    "bothMin = both.groupby('uniprot')[['pdb', '2_comp']].min().reset_index()\n",
    "\n",
    "# Merge the minimum 2_comp RMSD with the original data to get state and conformation\n",
    "bothState = bothMin.merge(both[['uniprot', 'pdb', 'state', 'conformation']], on='pdb')\n",
    "\n",
    "# Assign predicted structure state. Use state if less than 15 RMSD, otherwise it's 'indeterminate'\n",
    "bothState['predicted_state'] = np.where(bothState['2_comp'] < 15, bothState['state'], 'Indeterminate')\n",
    "\n",
    "# Now let's count the number of proteins in each predicted state and conformation\n",
    "bothCounts = bothState.groupby(['predicted_state', 'conformation']).size().reset_index()\n",
    "bothCounts.columns = ['Predicted State', 'Conformation', 'Count']\n",
    "\n",
    "# Make table\n",
    "ax = plt.subplot(111, frame_on=False)\n",
    "table(ax, bothCounts.pivot('Predicted State', 'Conformation', 'Count'))\n",
    "ax.xaxis.set_visible(False)\n",
    "ax.yaxis.set_visible(False)\n",
    "\n",
    "# Save the plot\n",
    "plt.savefig('./project_pipeline/data/figures/state_conformation_counts_2state.png', dpi=300, bbox_inches='tight')"
   ]
  },
  {
   "cell_type": "markdown",
   "metadata": {},
   "source": [
    "# Plot for RMSD of Two-Domain Proteins"
   ]
  },
  {
   "cell_type": "markdown",
   "metadata": {},
   "source": [
    "Now let's look at the distribution of RMSDs for the multi-domain proteins"
   ]
  },
  {
   "cell_type": "code",
   "execution_count": 10,
   "metadata": {},
   "outputs": [],
   "source": [
    "md = pd.read_csv('./project_pipeline/data/md_rmsds.tsv', sep='\\t').astype('object')\n",
    "\n",
    "# Subset the data\n",
    "mdSub = md[['uniprot', 'pdb', 'complex_rmsd', '1_aligned', '2_aligned', '2_comp']]\n",
    "\n",
    "# Rename columns\n",
    "mdSub.columns = ['Uniprot', 'PDB', 'Full Sequence', 'D1', 'D2', 'D1 on D2']\n",
    "\n",
    "# Melt the data\n",
    "mdPlot = pd.melt(mdSub, id_vars=['Uniprot', 'PDB'], var_name='Alignment', value_name='RMSD')\n",
    "\n",
    "# Convert the RMSD to a float\n",
    "mdPlot['RMSD'] = mdPlot['RMSD'].astype(float)"
   ]
  },
  {
   "cell_type": "code",
   "execution_count": 11,
   "metadata": {},
   "outputs": [
    {
     "name": "stdout",
     "output_type": "stream",
     "text": [
      "p-value annotation legend:\n",
      "      ns: 5.00e-02 < p <= 1.00e+00\n",
      "       *: 1.00e-02 < p <= 5.00e-02\n",
      "      **: 1.00e-03 < p <= 1.00e-02\n",
      "     ***: 1.00e-04 < p <= 1.00e-03\n",
      "    ****: p <= 1.00e-04\n",
      "\n",
      "Full Sequence vs. D1: Mann-Whitney-Wilcoxon test two-sided, P_val:1.554e-08 U_stat=1.008e+04\n",
      "D1 vs. D2: Mann-Whitney-Wilcoxon test two-sided, P_val:7.051e-02 U_stat=6.120e+03\n",
      "D2 vs. D1 on D2: Mann-Whitney-Wilcoxon test two-sided, P_val:6.114e-03 U_stat=5.624e+03\n",
      "Full Sequence vs. D2: Mann-Whitney-Wilcoxon test two-sided, P_val:4.495e-05 U_stat=9.248e+03\n",
      "D1 vs. D1 on D2: Mann-Whitney-Wilcoxon test two-sided, P_val:1.317e-05 U_stat=4.766e+03\n",
      "Full Sequence vs. D1 on D2: Mann-Whitney-Wilcoxon test two-sided, P_val:4.063e-01 U_stat=7.522e+03\n"
     ]
    },
    {
     "data": {
      "image/png": "[encoded data removed]",
      "text/plain": [
       "<Figure size 800x600 with 1 Axes>"
      ]
     },
     "metadata": {},
     "output_type": "display_data"
    }
   ],
   "source": [
    "# Now we plot the data\n",
    "fig, ax = plt.subplots(figsize=(8, 6))\n",
    "sns.boxplot(data=mdPlot, x='Alignment', y='RMSD', ax=ax, palette='Set2')\n",
    "ax.set_ybound(0, 20)\n",
    "ax.set_ylabel('RMSD (Å)', fontsize=14)\n",
    "ax.set_xlabel('Alignment', fontsize=14)\n",
    "\n",
    "# Add the annotations\n",
    "pairs = [('Full Sequence', 'D1'),\n",
    "         ('Full Sequence', 'D2'),\n",
    "         ('Full Sequence', 'D1 on D2'),\n",
    "         ('D1', 'D2'),\n",
    "         ('D1', 'D1 on D2'),\n",
    "         ('D2', 'D1 on D2')]\n",
    "order = ['Full Sequence', 'D1', 'D2', 'D1 on D2']\n",
    "annotator = Annotator(ax, pairs, data=mdPlot, x='Alignment', y='RMSD', order=order)\n",
    "annotator.configure(test='Mann-Whitney', text_format='star', loc='outside')\n",
    "annotator.apply_and_annotate()\n",
    "\n",
    "# Save the plot\n",
    "plt.tight_layout\n",
    "plt.savefig('./project_pipeline/data/figures/md_rmsd_distributions.png', dpi=300, bbox_inches='tight')"
   ]
  },
  {
   "cell_type": "markdown",
   "metadata": {},
   "source": [
    "# Plot to compare RMSD of Autoinhibitory and Two-Domain Proteins"
   ]
  },
  {
   "cell_type": "markdown",
   "metadata": {},
   "source": [
    "Now we'll compare between autoinhibitory proteins and Two-Domain proteins."
   ]
  },
  {
   "cell_type": "code",
   "execution_count": 12,
   "metadata": {},
   "outputs": [
    {
     "name": "stderr",
     "output_type": "stream",
     "text": [
      "/tmp/ipykernel_2642781/3662529167.py:2: SettingWithCopyWarning: \n",
      "A value is trying to be set on a copy of a slice from a DataFrame.\n",
      "Try using .loc[row_indexer,col_indexer] = value instead\n",
      "\n",
      "See the caveats in the documentation: https://pandas.pydata.org/pandas-docs/stable/user_guide/indexing.html#returning-a-view-versus-a-copy\n",
      "  clSub['Type'] = 'Autoinhibitory'\n",
      "/tmp/ipykernel_2642781/3662529167.py:3: SettingWithCopyWarning: \n",
      "A value is trying to be set on a copy of a slice from a DataFrame.\n",
      "Try using .loc[row_indexer,col_indexer] = value instead\n",
      "\n",
      "See the caveats in the documentation: https://pandas.pydata.org/pandas-docs/stable/user_guide/indexing.html#returning-a-view-versus-a-copy\n",
      "  mdSub['Type'] = 'Two-Domain'\n"
     ]
    }
   ],
   "source": [
    "# Add types to the dataframes\n",
    "clSub['Type'] = 'Autoinhibitory'\n",
    "mdSub['Type'] = 'Two-Domain'\n",
    "\n",
    "# Rename the columns to match\n",
    "clSub.columns = ['UnipProt', 'PDB', 'Full Sequence', 'IM/D1', 'FD/D2', 'IM on FD/D1 on D2', 'Type']\n",
    "mdSub.columns = ['UnipProt', 'PDB', 'Full Sequence', 'IM/D1', 'FD/D2', 'IM on FD/D1 on D2', 'Type']\n",
    "\n",
    "# Concatenate the dataframes\n",
    "allPlot = pd.concat([clSub, mdSub])\n",
    "\n",
    "# Melt the data\n",
    "allPlot = pd.melt(allPlot, id_vars=['UnipProt', 'PDB', 'Type'], var_name='Alignment', value_name='RMSD')\n",
    "\n",
    "# Convert the RMSD to a float\n",
    "allPlot['RMSD'] = allPlot['RMSD'].astype(float)\n",
    "\n",
    "# Remove outliers\n",
    "allPlot = allPlot[allPlot['RMSD'] < 100]"
   ]
  },
  {
   "cell_type": "code",
   "execution_count": 18,
   "metadata": {},
   "outputs": [
    {
     "name": "stderr",
     "output_type": "stream",
     "text": [
      "/tmp/ipykernel_2642781/1313441118.py:8: UserWarning: set_ticklabels() should only be used with a fixed number of ticks, i.e. after set_ticks() or using a FixedLocator.\n",
      "  ax.set_yticklabels(ax.get_yticklabels(), fontsize=12)\n"
     ]
    },
    {
     "name": "stdout",
     "output_type": "stream",
     "text": [
      "p-value annotation legend:\n",
      "      ns: 5.00e-02 < p <= 1.00e+00\n",
      "       *: 1.00e-02 < p <= 5.00e-02\n",
      "      **: 1.00e-03 < p <= 1.00e-02\n",
      "     ***: 1.00e-04 < p <= 1.00e-03\n",
      "    ****: p <= 1.00e-04\n",
      "\n",
      "IM/D1_Autoinhibitory vs. IM/D1_Two-Domain: Mann-Whitney-Wilcoxon test two-sided, P_val:4.716e-26 U_stat=5.281e+04\n",
      "Full Sequence_Autoinhibitory vs. Full Sequence_Two-Domain: Mann-Whitney-Wilcoxon test two-sided, P_val:2.115e-18 U_stat=4.945e+04\n",
      "FD/D2_Autoinhibitory vs. FD/D2_Two-Domain: Mann-Whitney-Wilcoxon test two-sided, P_val:2.667e-08 U_stat=4.344e+04\n",
      "IM on FD/D1 on D2_Autoinhibitory vs. IM on FD/D1 on D2_Two-Domain: Mann-Whitney-Wilcoxon test two-sided, P_val:1.036e-12 U_stat=4.635e+04\n"
     ]
    },
    {
     "data": {
      "image/png": "[encoded data removed]",
      "text/plain": [
       "<Figure size 800x600 with 1 Axes>"
      ]
     },
     "metadata": {},
     "output_type": "display_data"
    }
   ],
   "source": [
    "# Now we plot the data\n",
    "fig, ax = plt.subplots(figsize=(8, 6))\n",
    "sns.boxplot(data=allPlot, x='Alignment', y='RMSD', ax=ax, palette=colors, hue='Type')\n",
    "ax.set_ylim(0, 40)\n",
    "ax.set_ylabel('RMSD (Å)', fontsize=14)\n",
    "ax.set_xlabel('Alignment', fontsize=14)\n",
    "ax.set_xticklabels(ax.get_xticklabels(), fontsize=12)\n",
    "ax.set_yticklabels(ax.get_yticklabels(), fontsize=12)\n",
    "ax.legend(title='Type', fontsize=12, title_fontsize=12)\n",
    "\n",
    "# Add the annotations, comparing between structural alignment categories\n",
    "pairs = [[('Full Sequence', 'Autoinhibitory'), ('Full Sequence', 'Two-Domain')],\n",
    "         [('IM/D1', 'Autoinhibitory'), ('IM/D1', 'Two-Domain')],\n",
    "         [('FD/D2', 'Autoinhibitory'), ('FD/D2', 'Two-Domain')],\n",
    "         [('IM on FD/D1 on D2', 'Autoinhibitory'), ('IM on FD/D1 on D2', 'Two-Domain')]]\n",
    "subcat_order = ['Full Sequence', 'IM/D1', 'FD/D2', 'IM on FD/D1 on D2']\n",
    "annotator = Annotator(ax, pairs, data=allPlot, x='Alignment', y='RMSD', order=subcat_order, hue='Type')\n",
    "annotator.configure(test='Mann-Whitney', text_format='star', loc='outside')\n",
    "annotator.apply_and_annotate()\n",
    "\n",
    "# Save the plot\n",
    "plt.tight_layout()\n",
    "plt.savefig('./project_pipeline/data/figures/all_rmsd_distributions.png', dpi=300, bbox_inches='tight')"
   ]
  }
 ],
 "metadata": {
  "kernelspec": {
   "display_name": "analysis",
   "language": "python",
   "name": "python3"
  },
  "language_info": {
   "codemirror_mode": {
    "name": "ipython",
    "version": 3
   },
   "file_extension": ".py",
   "mimetype": "text/x-python",
   "name": "python",
   "nbconvert_exporter": "python",
   "pygments_lexer": "ipython3",
   "version": "3.11.8"
  }
 },
 "nbformat": 4,
 "nbformat_minor": 2
}
