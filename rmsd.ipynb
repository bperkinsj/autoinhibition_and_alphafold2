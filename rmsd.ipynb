{
 "cells": [
  {
   "cell_type": "markdown",
   "metadata": {},
   "source": [
    "A Jupyter notebook for analyzing the differences between predicted and experimental structures."
   ]
  },
  {
   "cell_type": "code",
   "execution_count": 232,
   "metadata": {},
   "outputs": [],
   "source": [
    "from matplotlib.ticker import FuncFormatter\n",
    "from statannotations.Annotator import Annotator\n",
    "from scipy.stats import mannwhitneyu\n",
    "from pandas.plotting import table\n",
    "import matplotlib.pyplot as plt\n",
    "import dataframe_image as dfi\n",
    "import pandas as pd\n",
    "import seaborn as sns\n",
    "import matplotlib as mpl\n",
    "import numpy as np\n",
    "import scipy as sp\n",
    "import json\n",
    "import sys\n",
    "import scienceplots\n"
   ]
  },
  {
   "cell_type": "markdown",
   "metadata": {},
   "source": [
    "Quick look at our data."
   ]
  },
  {
   "cell_type": "code",
   "execution_count": 233,
   "metadata": {},
   "outputs": [
    {
     "data": {
      "text/html": [
       "<div>\n",
       "<style scoped>\n",
       "    .dataframe tbody tr th:only-of-type {\n",
       "        vertical-align: middle;\n",
       "    }\n",
       "\n",
       "    .dataframe tbody tr th {\n",
       "        vertical-align: top;\n",
       "    }\n",
       "\n",
       "    .dataframe thead th {\n",
       "        text-align: right;\n",
       "    }\n",
       "</style>\n",
       "<table border=\"1\" class=\"dataframe\">\n",
       "  <thead>\n",
       "    <tr style=\"text-align: right;\">\n",
       "      <th></th>\n",
       "      <th>uniprot</th>\n",
       "      <th>pdb</th>\n",
       "      <th>region_1</th>\n",
       "      <th>region_2</th>\n",
       "      <th>complex_rmsd</th>\n",
       "      <th>percent_region_1</th>\n",
       "      <th>percent_region_2</th>\n",
       "      <th>2_aligned</th>\n",
       "      <th>2_comp</th>\n",
       "      <th>state</th>\n",
       "      <th>conformation</th>\n",
       "      <th>organism</th>\n",
       "      <th>date</th>\n",
       "      <th>notes</th>\n",
       "    </tr>\n",
       "  </thead>\n",
       "  <tbody>\n",
       "    <tr>\n",
       "      <th>0</th>\n",
       "      <td>P04637</td>\n",
       "      <td>8f2h</td>\n",
       "      <td>364-393</td>\n",
       "      <td>102-292</td>\n",
       "      <td>30.431</td>\n",
       "      <td>100.0</td>\n",
       "      <td>100.0</td>\n",
       "      <td>3.065</td>\n",
       "      <td>70.729</td>\n",
       "      <td>Autoinhibited</td>\n",
       "      <td>Closed</td>\n",
       "      <td>\"Homo sapiens\"</td>\n",
       "      <td>['2022-11-08']</td>\n",
       "      <td>NaN</td>\n",
       "    </tr>\n",
       "    <tr>\n",
       "      <th>1</th>\n",
       "      <td>P04637</td>\n",
       "      <td>8f2i</td>\n",
       "      <td>364-393</td>\n",
       "      <td>102-292</td>\n",
       "      <td>30.431</td>\n",
       "      <td>100.0</td>\n",
       "      <td>100.0</td>\n",
       "      <td>3.065</td>\n",
       "      <td>70.729</td>\n",
       "      <td>Autoinhibited</td>\n",
       "      <td>Closed</td>\n",
       "      <td>\"Homo sapiens\"</td>\n",
       "      <td>['2022-11-08']</td>\n",
       "      <td>NaN</td>\n",
       "    </tr>\n",
       "    <tr>\n",
       "      <th>2</th>\n",
       "      <td>P00523</td>\n",
       "      <td>2ptk</td>\n",
       "      <td>148-245,246-266</td>\n",
       "      <td>81-142,521-533</td>\n",
       "      <td>1.737</td>\n",
       "      <td>100.0</td>\n",
       "      <td>89.333333</td>\n",
       "      <td>1.921</td>\n",
       "      <td>3.093</td>\n",
       "      <td>Autoinhibited</td>\n",
       "      <td>Closed</td>\n",
       "      <td>Gallus gallus</td>\n",
       "      <td>['1997-06-17']</td>\n",
       "      <td>NaN</td>\n",
       "    </tr>\n",
       "    <tr>\n",
       "      <th>3</th>\n",
       "      <td>P28482</td>\n",
       "      <td>1pme</td>\n",
       "      <td>173-196</td>\n",
       "      <td>25-172,197-313</td>\n",
       "      <td>2.422</td>\n",
       "      <td>100.0</td>\n",
       "      <td>96.603774</td>\n",
       "      <td>1.22</td>\n",
       "      <td>6.639</td>\n",
       "      <td>Autoinhibited</td>\n",
       "      <td>Closed</td>\n",
       "      <td>Homo sapiens</td>\n",
       "      <td>['1998-06-08']</td>\n",
       "      <td>NaN</td>\n",
       "    </tr>\n",
       "    <tr>\n",
       "      <th>4</th>\n",
       "      <td>P28482</td>\n",
       "      <td>1tvo</td>\n",
       "      <td>173-196</td>\n",
       "      <td>25-172,197-313</td>\n",
       "      <td>2.497</td>\n",
       "      <td>100.0</td>\n",
       "      <td>100.0</td>\n",
       "      <td>1.523</td>\n",
       "      <td>6.633</td>\n",
       "      <td>Autoinhibited</td>\n",
       "      <td>Closed</td>\n",
       "      <td>Homo sapiens</td>\n",
       "      <td>['2004-06-30']</td>\n",
       "      <td>NaN</td>\n",
       "    </tr>\n",
       "  </tbody>\n",
       "</table>\n",
       "</div>"
      ],
      "text/plain": [
       "  uniprot   pdb         region_1        region_2 complex_rmsd  \\\n",
       "0  P04637  8f2h          364-393         102-292       30.431   \n",
       "1  P04637  8f2i          364-393         102-292       30.431   \n",
       "2  P00523  2ptk  148-245,246-266  81-142,521-533        1.737   \n",
       "3  P28482  1pme          173-196  25-172,197-313        2.422   \n",
       "4  P28482  1tvo          173-196  25-172,197-313        2.497   \n",
       "\n",
       "  percent_region_1 percent_region_2 2_aligned  2_comp          state  \\\n",
       "0            100.0            100.0     3.065  70.729  Autoinhibited   \n",
       "1            100.0            100.0     3.065  70.729  Autoinhibited   \n",
       "2            100.0        89.333333     1.921   3.093  Autoinhibited   \n",
       "3            100.0        96.603774      1.22   6.639  Autoinhibited   \n",
       "4            100.0            100.0     1.523   6.633  Autoinhibited   \n",
       "\n",
       "  conformation        organism            date notes  \n",
       "0       Closed  \"Homo sapiens\"  ['2022-11-08']   NaN  \n",
       "1       Closed  \"Homo sapiens\"  ['2022-11-08']   NaN  \n",
       "2       Closed   Gallus gallus  ['1997-06-17']   NaN  \n",
       "3       Closed    Homo sapiens  ['1998-06-08']   NaN  \n",
       "4       Closed    Homo sapiens  ['2004-06-30']   NaN  "
      ]
     },
     "execution_count": 233,
     "metadata": {},
     "output_type": "execute_result"
    }
   ],
   "source": [
    "cl = pd.read_csv('./project_pipeline/data/classified_files.tsv', sep='\\t').astype('object')\n",
    "rmsd = pd.read_csv('./project_pipeline/data/rmsds.tsv', sep='\\t').astype('object')\n",
    "cl.head()"
   ]
  },
  {
   "cell_type": "code",
   "execution_count": 264,
   "metadata": {},
   "outputs": [
    {
     "name": "stdout",
     "output_type": "stream",
     "text": [
      "['#e41a1c', '#377eb8', '#4daf4a', '#984ea3', '#ff7f00', '#ffff33', '#a65628', '#f781bf', '#999999']\n"
     ]
    },
    {
     "data": {
      "text/html": [
       "<svg  width=\"495\" height=\"55\"><rect x=\"0\" y=\"0\" width=\"55\" height=\"55\" style=\"fill:#e41a1c;stroke-width:2;stroke:rgb(255,255,255)\"/><rect x=\"55\" y=\"0\" width=\"55\" height=\"55\" style=\"fill:#377eb8;stroke-width:2;stroke:rgb(255,255,255)\"/><rect x=\"110\" y=\"0\" width=\"55\" height=\"55\" style=\"fill:#4daf4a;stroke-width:2;stroke:rgb(255,255,255)\"/><rect x=\"165\" y=\"0\" width=\"55\" height=\"55\" style=\"fill:#984ea3;stroke-width:2;stroke:rgb(255,255,255)\"/><rect x=\"220\" y=\"0\" width=\"55\" height=\"55\" style=\"fill:#ff7f00;stroke-width:2;stroke:rgb(255,255,255)\"/><rect x=\"275\" y=\"0\" width=\"55\" height=\"55\" style=\"fill:#ffff33;stroke-width:2;stroke:rgb(255,255,255)\"/><rect x=\"330\" y=\"0\" width=\"55\" height=\"55\" style=\"fill:#a65628;stroke-width:2;stroke:rgb(255,255,255)\"/><rect x=\"385\" y=\"0\" width=\"55\" height=\"55\" style=\"fill:#f781bf;stroke-width:2;stroke:rgb(255,255,255)\"/><rect x=\"440\" y=\"0\" width=\"55\" height=\"55\" style=\"fill:#999999;stroke-width:2;stroke:rgb(255,255,255)\"/></svg>"
      ],
      "text/plain": [
       "['#e41a1c',\n",
       " '#377eb8',\n",
       " '#4daf4a',\n",
       " '#984ea3',\n",
       " '#ff7f00',\n",
       " '#ffff33',\n",
       " '#a65628',\n",
       " '#f781bf',\n",
       " '#999999']"
      ]
     },
     "execution_count": 264,
     "metadata": {},
     "output_type": "execute_result"
    }
   ],
   "source": [
    "plt.style.use('science')\n",
    "\n",
    "# Get the hex codes for the colors so we can assign them to categories\n",
    "pal = sns.color_palette('Set1')\n",
    "print(pal.as_hex())\n",
    "\n",
    "# Set the color palette. Our categories are \"Single Domain\", \"Two-Domain\", and \"Autoinhibitory\"\n",
    "colors = {'Single Domain': pal[0], 'Two-Domain': pal[1], 'Autoinhibitory': pal[2], 'Autoinhibitory (Active)': pal[6], 'Autoinhibitory (Autoinhibited)': pal[5], \n",
    "          'Full': pal[3], 'Clusters': pal[7], 'Two-State AI': pal[4]}\n",
    "pal.as_hex()"
   ]
  },
  {
   "cell_type": "markdown",
   "metadata": {},
   "source": [
    "We'll re-format the data first."
   ]
  },
  {
   "cell_type": "code",
   "execution_count": 235,
   "metadata": {},
   "outputs": [
    {
     "name": "stderr",
     "output_type": "stream",
     "text": [
      "/tmp/ipykernel_37785/2820021228.py:13: SettingWithCopyWarning: \n",
      "A value is trying to be set on a copy of a slice from a DataFrame.\n",
      "Try using .loc[row_indexer,col_indexer] = value instead\n",
      "\n",
      "See the caveats in the documentation: https://pandas.pydata.org/pandas-docs/stable/user_guide/indexing.html#returning-a-view-versus-a-copy\n",
      "  clSub[['Full Sequence', 'IM', 'FD', 'IM on FD']] = clSub[['Full Sequence', 'IM', 'FD', 'IM on FD']].astype(float)\n"
     ]
    }
   ],
   "source": [
    "# Reformat the data for plotting\n",
    "\n",
    "# Add 1_aligned to classified files\n",
    "rmsdSub = rmsd[['uniprot', 'pdb', '1_aligned']]\n",
    "cl = cl.merge(rmsdSub, on=['uniprot', 'pdb'], how='left')\n",
    "\n",
    "# Select columns of interest\n",
    "clSub = cl[['uniprot', 'pdb', 'complex_rmsd', '1_aligned', '2_aligned', '2_comp']]\n",
    "\n",
    "# Rename columns\n",
    "clSub.columns = ['Uniprot', 'PDB', 'Full Sequence', 'IM', 'FD', 'IM on FD']\n",
    "\n",
    "clSub[['Full Sequence', 'IM', 'FD', 'IM on FD']] = clSub[['Full Sequence', 'IM', 'FD', 'IM on FD']].astype(float)\n",
    "\n",
    "# Melt the data\n",
    "plot = pd.melt(clSub, id_vars=['Uniprot', 'PDB'], var_name='Alignment', value_name='RMSD')\n",
    "\n",
    "# Convert the RMSD to a float\n",
    "plot['RMSD'] = plot['RMSD'].astype(float)\n",
    "\n",
    "# Remove outliers above 100 RMSD\n",
    "plot = plot[plot['RMSD'] < 100]"
   ]
  },
  {
   "cell_type": "markdown",
   "metadata": {},
   "source": [
    "# Plot for RMSD of All Autoinhibitory Proteins"
   ]
  },
  {
   "cell_type": "markdown",
   "metadata": {},
   "source": [
    "Now let's make a table showing how many AlphaFold2 predictions are in each state.\n",
    "\n",
    "To do that, we'll first find the experimental structure that has the lowest RMSD for inhibitory modules when aligned on the functional domains."
   ]
  },
  {
   "cell_type": "code",
   "execution_count": 236,
   "metadata": {},
   "outputs": [
    {
     "name": "stderr",
     "output_type": "stream",
     "text": [
      "/tmp/ipykernel_37785/3894209724.py:20: FutureWarning: In a future version of pandas all arguments of DataFrame.pivot will be keyword-only.\n",
      "  table(ax, counts.pivot('Predicted State', 'Conformation', 'Count'))\n"
     ]
    },
    {
     "data": {
      "image/png": "[encoded data removed]",
      "text/plain": [
       "<Figure size 350x262.5 with 1 Axes>"
      ]
     },
     "metadata": {},
     "output_type": "display_data"
    }
   ],
   "source": [
    "# Find the lowest 2_comp RMSD for each uniprot and keep the PDB identifier\n",
    "min2Comp = clSub.groupby('Uniprot')[['PDB', 'IM on FD']].min().reset_index()\n",
    "\n",
    "# Merge the minimum 2_comp RMSD with the original data to get state and conformation\n",
    "minState = min2Comp.merge(cl[['uniprot', 'pdb', 'state', 'conformation']], left_on='PDB', right_on='pdb')\n",
    "\n",
    "# Assign predicted structure state. Use state if less than 15 RMSD, otherwise it's 'indeterminate'\n",
    "minState['predicted_state'] = np.where(minState['IM on FD'] < 15, minState['state'], 'Indeterminate')\n",
    "\n",
    "# Now let's count the number of proteins in each predicted state and conformation\n",
    "counts = minState.groupby(['predicted_state', 'conformation']).size().reset_index()\n",
    "counts.columns = ['Predicted State', 'Conformation', 'Count']\n",
    "\n",
    "# Let's do it only by predicted state\n",
    "stateCounts = minState.groupby('predicted_state').size().reset_index()\n",
    "stateCounts.columns = ['Predicted State', 'Count']\n",
    "\n",
    "# Let's plot these as tables\n",
    "ax = plt.subplot(111, frame_on=False)\n",
    "table(ax, counts.pivot('Predicted State', 'Conformation', 'Count'))\n",
    "ax.xaxis.set_visible(False)\n",
    "ax.yaxis.set_visible(False)\n",
    "\n",
    "# Plot the other one\n",
    "# ax = plt.subplot(111, frame_on=False)\n",
    "# table(ax, stateCounts)\n",
    "# ax.xaxis.set_visible(False)\n",
    "# ax.yaxis.set_visible(False)\n",
    "\n",
    "# Save the plot\n",
    "plt.savefig('./project_pipeline/data/figures/state_conformation_counts.png', dpi=300, bbox_inches='tight')"
   ]
  },
  {
   "cell_type": "markdown",
   "metadata": {},
   "source": [
    "# Plot for RMSD of Two-State Autoinhibitory Proteins"
   ]
  },
  {
   "cell_type": "markdown",
   "metadata": {},
   "source": [
    "Now let's make the same plots and tables as above for proteins with experimental structures in both states. We'll figure this out _de novo_."
   ]
  },
  {
   "cell_type": "code",
   "execution_count": 237,
   "metadata": {},
   "outputs": [],
   "source": [
    "# Determine which proteins from cl have both active and autoinhibited structures\n",
    "both = cl.groupby('uniprot').filter(lambda x: x['state'].nunique() > 1)\n",
    "\n",
    "# Format the data for plotting\n",
    "bothSub = both[['uniprot', 'pdb', 'complex_rmsd', '1_aligned', '2_aligned', '2_comp']]\n",
    "bothSub.columns = ['Uniprot', 'PDB', 'Full Sequence', 'IM', 'FD', 'IM on FD']\n",
    "bothPlot = pd.melt(bothSub, id_vars=['Uniprot', 'PDB'], var_name='Alignment', value_name='RMSD')\n",
    "bothPlot['RMSD'] = bothPlot['RMSD'].astype(float)\n",
    "bothPlot = bothPlot[bothPlot['RMSD'] < 100]"
   ]
  },
  {
   "cell_type": "code",
   "execution_count": 238,
   "metadata": {},
   "outputs": [
    {
     "name": "stderr",
     "output_type": "stream",
     "text": [
      "/tmp/ipykernel_37785/4238038402.py:16: FutureWarning: In a future version of pandas all arguments of DataFrame.pivot will be keyword-only.\n",
      "  table(ax, bothCounts.pivot('Predicted State', 'Conformation', 'Count'))\n"
     ]
    },
    {
     "data": {
      "image/png": "[encoded data removed]",
      "text/plain": [
       "<Figure size 350x262.5 with 1 Axes>"
      ]
     },
     "metadata": {},
     "output_type": "display_data"
    }
   ],
   "source": [
    "# Now we make the table\n",
    "bothMin = both.groupby('uniprot')[['pdb', '2_comp']].min().reset_index()\n",
    "\n",
    "# Merge the minimum 2_comp RMSD with the original data to get state and conformation\n",
    "bothState = bothMin.merge(both[['uniprot', 'pdb', 'state', 'conformation']], on='pdb')\n",
    "\n",
    "# Assign predicted structure state. Use state if less than 15 RMSD, otherwise it's 'indeterminate'\n",
    "bothState['predicted_state'] = np.where(bothState['2_comp'] < 15, bothState['state'], 'Indeterminate')\n",
    "\n",
    "# Now let's count the number of proteins in each predicted state and conformation\n",
    "bothCounts = bothState.groupby(['predicted_state', 'conformation']).size().reset_index()\n",
    "bothCounts.columns = ['Predicted State', 'Conformation', 'Count']\n",
    "\n",
    "# Make table\n",
    "ax = plt.subplot(111, frame_on=False)\n",
    "table(ax, bothCounts.pivot('Predicted State', 'Conformation', 'Count'))\n",
    "ax.xaxis.set_visible(False)\n",
    "ax.yaxis.set_visible(False)\n",
    "\n",
    "# Save the plot\n",
    "plt.savefig('./project_pipeline/data/figures/state_conformation_counts_2state.png', dpi=300, bbox_inches='tight')"
   ]
  },
  {
   "cell_type": "markdown",
   "metadata": {},
   "source": [
    "# Plot for RMSD of Two-Domain Proteins"
   ]
  },
  {
   "cell_type": "markdown",
   "metadata": {},
   "source": [
    "Now let's look at the distribution of RMSDs for the multi-domain proteins"
   ]
  },
  {
   "cell_type": "code",
   "execution_count": 239,
   "metadata": {},
   "outputs": [],
   "source": [
    "md = pd.read_csv('./project_pipeline/data/md_rmsds.tsv', sep='\\t').astype('object')\n",
    "\n",
    "# Subset the data\n",
    "mdSub = md[['uniprot', 'pdb', 'complex_rmsd', '1_aligned', '2_aligned', '2_comp']]\n",
    "\n",
    "# Rename columns\n",
    "mdSub.columns = ['Uniprot', 'PDB', 'Full Sequence', 'D1', 'D2', 'D1 on D2']\n",
    "\n",
    "# Melt the data\n",
    "mdPlot = pd.melt(mdSub, id_vars=['Uniprot', 'PDB'], var_name='Alignment', value_name='RMSD')\n",
    "\n",
    "# Convert the RMSD to a float\n",
    "mdPlot['RMSD'] = mdPlot['RMSD'].astype(float)"
   ]
  },
  {
   "cell_type": "markdown",
   "metadata": {},
   "source": [
    "# Plot to compare RMSD of Autoinhibitory and Two-Domain Proteins"
   ]
  },
  {
   "cell_type": "markdown",
   "metadata": {},
   "source": [
    "Now we'll compare between autoinhibitory proteins and Two-Domain proteins."
   ]
  },
  {
   "cell_type": "code",
   "execution_count": 240,
   "metadata": {},
   "outputs": [
    {
     "name": "stderr",
     "output_type": "stream",
     "text": [
      "/tmp/ipykernel_37785/1554477085.py:2: SettingWithCopyWarning: \n",
      "A value is trying to be set on a copy of a slice from a DataFrame.\n",
      "Try using .loc[row_indexer,col_indexer] = value instead\n",
      "\n",
      "See the caveats in the documentation: https://pandas.pydata.org/pandas-docs/stable/user_guide/indexing.html#returning-a-view-versus-a-copy\n",
      "  clSub['Type'] = 'Autoinhibitory'\n",
      "/tmp/ipykernel_37785/1554477085.py:3: SettingWithCopyWarning: \n",
      "A value is trying to be set on a copy of a slice from a DataFrame.\n",
      "Try using .loc[row_indexer,col_indexer] = value instead\n",
      "\n",
      "See the caveats in the documentation: https://pandas.pydata.org/pandas-docs/stable/user_guide/indexing.html#returning-a-view-versus-a-copy\n",
      "  mdSub['Type'] = 'Two-Domain'\n"
     ]
    },
    {
     "data": {
      "text/html": [
       "<div>\n",
       "<style scoped>\n",
       "    .dataframe tbody tr th:only-of-type {\n",
       "        vertical-align: middle;\n",
       "    }\n",
       "\n",
       "    .dataframe tbody tr th {\n",
       "        vertical-align: top;\n",
       "    }\n",
       "\n",
       "    .dataframe thead th {\n",
       "        text-align: right;\n",
       "    }\n",
       "</style>\n",
       "<table border=\"1\" class=\"dataframe\">\n",
       "  <thead>\n",
       "    <tr style=\"text-align: right;\">\n",
       "      <th></th>\n",
       "      <th>UniProt</th>\n",
       "      <th>PDB</th>\n",
       "      <th>Full Sequence</th>\n",
       "      <th>IM/D1</th>\n",
       "      <th>FD/D2</th>\n",
       "      <th>IM on FD/D1 on D2</th>\n",
       "      <th>Type</th>\n",
       "    </tr>\n",
       "  </thead>\n",
       "  <tbody>\n",
       "    <tr>\n",
       "      <th>0</th>\n",
       "      <td>Q72AS4</td>\n",
       "      <td>2wpn</td>\n",
       "      <td>1.248</td>\n",
       "      <td>1.44</td>\n",
       "      <td>0.628</td>\n",
       "      <td>1.488</td>\n",
       "      <td>Two-Domain</td>\n",
       "    </tr>\n",
       "    <tr>\n",
       "      <th>1</th>\n",
       "      <td>Q72AS4</td>\n",
       "      <td>3ze6</td>\n",
       "      <td>1.193</td>\n",
       "      <td>1.425</td>\n",
       "      <td>0.611</td>\n",
       "      <td>1.454</td>\n",
       "      <td>Two-Domain</td>\n",
       "    </tr>\n",
       "    <tr>\n",
       "      <th>2</th>\n",
       "      <td>Q72AS4</td>\n",
       "      <td>3ze7</td>\n",
       "      <td>0.7</td>\n",
       "      <td>0.711</td>\n",
       "      <td>0.611</td>\n",
       "      <td>0.717</td>\n",
       "      <td>Two-Domain</td>\n",
       "    </tr>\n",
       "    <tr>\n",
       "      <th>3</th>\n",
       "      <td>Q72AS4</td>\n",
       "      <td>3ze8</td>\n",
       "      <td>1.2</td>\n",
       "      <td>1.437</td>\n",
       "      <td>0.605</td>\n",
       "      <td>1.477</td>\n",
       "      <td>Two-Domain</td>\n",
       "    </tr>\n",
       "    <tr>\n",
       "      <th>4</th>\n",
       "      <td>Q72AS4</td>\n",
       "      <td>3ze9</td>\n",
       "      <td>0.614</td>\n",
       "      <td>0.595</td>\n",
       "      <td>0.544</td>\n",
       "      <td>0.62</td>\n",
       "      <td>Two-Domain</td>\n",
       "    </tr>\n",
       "  </tbody>\n",
       "</table>\n",
       "</div>"
      ],
      "text/plain": [
       "  UniProt   PDB Full Sequence  IM/D1  FD/D2 IM on FD/D1 on D2        Type\n",
       "0  Q72AS4  2wpn         1.248   1.44  0.628             1.488  Two-Domain\n",
       "1  Q72AS4  3ze6         1.193  1.425  0.611             1.454  Two-Domain\n",
       "2  Q72AS4  3ze7           0.7  0.711  0.611             0.717  Two-Domain\n",
       "3  Q72AS4  3ze8           1.2  1.437  0.605             1.477  Two-Domain\n",
       "4  Q72AS4  3ze9         0.614  0.595  0.544              0.62  Two-Domain"
      ]
     },
     "execution_count": 240,
     "metadata": {},
     "output_type": "execute_result"
    }
   ],
   "source": [
    "# Add types to the dataframes\n",
    "clSub['Type'] = 'Autoinhibitory'\n",
    "mdSub['Type'] = 'Two-Domain'\n",
    "\n",
    "# Rename the columns to match\n",
    "clSub.columns = ['UniProt', 'PDB', 'Full Sequence', 'IM/D1', 'FD/D2', 'IM on FD/D1 on D2', 'Type']\n",
    "mdSub.columns = ['UniProt', 'PDB', 'Full Sequence', 'IM/D1', 'FD/D2', 'IM on FD/D1 on D2', 'Type']\n",
    "\n",
    "# Concatenate the dataframes\n",
    "allPlot = pd.concat([clSub, mdSub])\n",
    "\n",
    "# Melt the data\n",
    "allPlot = pd.melt(allPlot, id_vars=['UniProt', 'PDB', 'Type'], var_name='Alignment', value_name='RMSD')\n",
    "\n",
    "# Convert the RMSD to a float\n",
    "allPlot['RMSD'] = allPlot['RMSD'].astype(float)\n",
    "\n",
    "# Remove outliers\n",
    "allPlot = allPlot[allPlot['RMSD'] < 100]\n",
    "mdSub.head()"
   ]
  },
  {
   "cell_type": "code",
   "execution_count": 241,
   "metadata": {},
   "outputs": [
    {
     "name": "stderr",
     "output_type": "stream",
     "text": [
      "/tmp/ipykernel_37785/3234923963.py:8: UserWarning: set_ticklabels() should only be used with a fixed number of ticks, i.e. after set_ticks() or using a FixedLocator.\n",
      "  ax.set_yticklabels(ax.get_yticklabels(), fontsize=12)\n"
     ]
    },
    {
     "name": "stdout",
     "output_type": "stream",
     "text": [
      "p-value annotation legend:\n",
      "      ns: 5.00e-02 < p <= 1.00e+00\n",
      "       *: 1.00e-02 < p <= 5.00e-02\n",
      "      **: 1.00e-03 < p <= 1.00e-02\n",
      "     ***: 1.00e-04 < p <= 1.00e-03\n",
      "    ****: p <= 1.00e-04\n",
      "\n",
      "IM/D1_Autoinhibitory vs. IM/D1_Two-Domain: Mann-Whitney-Wilcoxon test two-sided, P_val:7.893e-24 U_stat=1.711e+05\n",
      "Full Sequence_Autoinhibitory vs. Full Sequence_Two-Domain: Mann-Whitney-Wilcoxon test two-sided, P_val:1.060e-34 U_stat=1.817e+05\n",
      "FD/D2_Autoinhibitory vs. FD/D2_Two-Domain: Mann-Whitney-Wilcoxon test two-sided, P_val:2.240e-11 U_stat=1.546e+05\n",
      "IM on FD/D1 on D2_Autoinhibitory vs. IM on FD/D1 on D2_Two-Domain: Mann-Whitney-Wilcoxon test two-sided, P_val:1.794e-23 U_stat=1.703e+05\n"
     ]
    },
    {
     "data": {
      "image/png": "[encoded data removed]",
      "text/plain": [
       "<Figure size 600x400 with 1 Axes>"
      ]
     },
     "metadata": {},
     "output_type": "display_data"
    }
   ],
   "source": [
    "# Now we plot the data\n",
    "fig, ax = plt.subplots(figsize=(6, 4))\n",
    "sns.boxplot(data=allPlot, x='Alignment', y='RMSD', ax=ax, palette=colors, hue='Type')\n",
    "ax.set_ylim(0, 40)\n",
    "ax.set_ylabel('RMSD (Å)', fontsize=14)\n",
    "ax.set_xlabel('Alignment', fontsize=14)\n",
    "ax.set_xticklabels(ax.get_xticklabels(), fontsize=12)\n",
    "ax.set_yticklabels(ax.get_yticklabels(), fontsize=12)\n",
    "ax.legend(title='Type', fontsize=12, title_fontsize=12)\n",
    "\n",
    "# Add the annotations, comparing between structural alignment categories\n",
    "pairs = [[('Full Sequence', 'Autoinhibitory'), ('Full Sequence', 'Two-Domain')],\n",
    "         [('IM/D1', 'Autoinhibitory'), ('IM/D1', 'Two-Domain')],\n",
    "         [('FD/D2', 'Autoinhibitory'), ('FD/D2', 'Two-Domain')],\n",
    "         [('IM on FD/D1 on D2', 'Autoinhibitory'), ('IM on FD/D1 on D2', 'Two-Domain')]]\n",
    "subcat_order = ['Full Sequence', 'IM/D1', 'FD/D2', 'IM on FD/D1 on D2']\n",
    "annotator = Annotator(ax, pairs, data=allPlot, x='Alignment', y='RMSD', order=subcat_order, hue='Type')\n",
    "annotator.configure(test='Mann-Whitney', text_format='star', loc='outside')\n",
    "annotator.apply_and_annotate()\n",
    "\n",
    "# Save the plot\n",
    "plt.tight_layout()\n",
    "plt.savefig('./project_pipeline/data/figures/all_rmsd_distributions.png', dpi=500, bbox_inches='tight')"
   ]
  },
  {
   "cell_type": "markdown",
   "metadata": {},
   "source": [
    "# Plot to Compare RMSD of Two-State AI and Two-Domain Proteins"
   ]
  },
  {
   "cell_type": "code",
   "execution_count": 242,
   "metadata": {},
   "outputs": [
    {
     "name": "stderr",
     "output_type": "stream",
     "text": [
      "/tmp/ipykernel_37785/1535710398.py:2: SettingWithCopyWarning: \n",
      "A value is trying to be set on a copy of a slice from a DataFrame.\n",
      "Try using .loc[row_indexer,col_indexer] = value instead\n",
      "\n",
      "See the caveats in the documentation: https://pandas.pydata.org/pandas-docs/stable/user_guide/indexing.html#returning-a-view-versus-a-copy\n",
      "  bothSub['Type'] = 'Two-State AI'\n",
      "/tmp/ipykernel_37785/1535710398.py:3: SettingWithCopyWarning: \n",
      "A value is trying to be set on a copy of a slice from a DataFrame.\n",
      "Try using .loc[row_indexer,col_indexer] = value instead\n",
      "\n",
      "See the caveats in the documentation: https://pandas.pydata.org/pandas-docs/stable/user_guide/indexing.html#returning-a-view-versus-a-copy\n",
      "  mdSub['Type'] = 'Two-Domain'\n"
     ]
    }
   ],
   "source": [
    "# Add types to the dataframes\n",
    "bothSub['Type'] = 'Two-State AI'\n",
    "mdSub['Type'] = 'Two-Domain'\n",
    "\n",
    "# Rename the columns to match\n",
    "bothSub.columns = ['UniProt', 'PDB', 'Full Sequence', 'IM/D1', 'FD/D2', 'IM on FD/D1 on D2', 'Type']\n",
    "mdSub.columns = ['UniProt', 'PDB', 'Full Sequence', 'IM/D1', 'FD/D2', 'IM on FD/D1 on D2', 'Type']\n",
    "\n",
    "# Concatenate the dataframes\n",
    "allPlot2 = pd.concat([bothSub, mdSub])\n",
    "\n",
    "# Melt the data\n",
    "allPlot2 = pd.melt(allPlot2, id_vars=['UniProt', 'PDB', 'Type'], var_name='Alignment', value_name='RMSD')\n",
    "\n",
    "# Convert the RMSD to a float\n",
    "allPlot2['RMSD'] = allPlot2['RMSD'].astype(float)\n",
    "\n",
    "# Remove outliers\n",
    "allPlot2 = allPlot2[allPlot2['RMSD'] < 100]"
   ]
  },
  {
   "cell_type": "code",
   "execution_count": 243,
   "metadata": {},
   "outputs": [
    {
     "name": "stderr",
     "output_type": "stream",
     "text": [
      "/tmp/ipykernel_37785/2473071201.py:8: UserWarning: set_ticklabels() should only be used with a fixed number of ticks, i.e. after set_ticks() or using a FixedLocator.\n",
      "  ax.set_yticklabels(ax.get_yticklabels(), fontsize=12)\n"
     ]
    },
    {
     "name": "stdout",
     "output_type": "stream",
     "text": [
      "p-value annotation legend:\n",
      "      ns: 5.00e-02 < p <= 1.00e+00\n",
      "       *: 1.00e-02 < p <= 5.00e-02\n",
      "      **: 1.00e-03 < p <= 1.00e-02\n",
      "     ***: 1.00e-04 < p <= 1.00e-03\n",
      "    ****: p <= 1.00e-04\n",
      "\n",
      "IM/D1_Two-State AI vs. IM/D1_Two-Domain: Mann-Whitney-Wilcoxon test two-sided, P_val:7.020e-76 U_stat=7.881e+04\n",
      "Full Sequence_Two-State AI vs. Full Sequence_Two-Domain: Mann-Whitney-Wilcoxon test two-sided, P_val:6.323e-54 U_stat=7.284e+04\n",
      "FD/D2_Two-State AI vs. FD/D2_Two-Domain: Mann-Whitney-Wilcoxon test two-sided, P_val:2.430e-05 U_stat=5.025e+04\n",
      "IM on FD/D1 on D2_Two-State AI vs. IM on FD/D1 on D2_Two-Domain: Mann-Whitney-Wilcoxon test two-sided, P_val:7.995e-66 U_stat=7.620e+04\n"
     ]
    },
    {
     "data": {
      "image/png": "[encoded data removed]",
      "text/plain": [
       "<Figure size 600x400 with 1 Axes>"
      ]
     },
     "metadata": {},
     "output_type": "display_data"
    }
   ],
   "source": [
    "# Now we plot the data\n",
    "fig, ax = plt.subplots(figsize=(6, 4))\n",
    "sns.boxplot(data=allPlot2, x='Alignment', y='RMSD', ax=ax, palette=colors, hue='Type')\n",
    "ax.set_ylim(0, 40)\n",
    "ax.set_ylabel('RMSD (Å)', fontsize=14)\n",
    "ax.set_xlabel('Alignment', fontsize=14)\n",
    "ax.set_xticklabels(ax.get_xticklabels(), fontsize=12)\n",
    "ax.set_yticklabels(ax.get_yticklabels(), fontsize=12)\n",
    "ax.legend(title='Type', fontsize=12, title_fontsize=12)\n",
    "\n",
    "# Add the annotations, comparing between structural alignment categories\n",
    "pairs = [[('Full Sequence', 'Two-State AI'), ('Full Sequence', 'Two-Domain')],\n",
    "         [('IM/D1', 'Two-State AI'), ('IM/D1', 'Two-Domain')],\n",
    "         [('FD/D2', 'Two-State AI'), ('FD/D2', 'Two-Domain')],\n",
    "         [('IM on FD/D1 on D2', 'Two-State AI'), ('IM on FD/D1 on D2', 'Two-Domain')]]\n",
    "subcat_order = ['Full Sequence', 'IM/D1', 'FD/D2', 'IM on FD/D1 on D2']\n",
    "annotator = Annotator(ax, pairs, data=allPlot2, x='Alignment', y='RMSD', order=subcat_order, hue='Type')\n",
    "annotator.configure(test='Mann-Whitney', text_format='star', loc='outside')\n",
    "annotator.apply_and_annotate()\n",
    "\n",
    "# Save the plot\n",
    "plt.tight_layout()\n",
    "plt.savefig('./project_pipeline/data/figures/2state_2domain_rmsd_distributions.png', dpi=500, bbox_inches='tight')"
   ]
  },
  {
   "cell_type": "markdown",
   "metadata": {},
   "source": [
    "What does our graph look like with only \"truly\" obligate multi-domain proteins?"
   ]
  },
  {
   "cell_type": "code",
   "execution_count": 244,
   "metadata": {},
   "outputs": [
    {
     "data": {
      "text/html": [
       "<div>\n",
       "<style scoped>\n",
       "    .dataframe tbody tr th:only-of-type {\n",
       "        vertical-align: middle;\n",
       "    }\n",
       "\n",
       "    .dataframe tbody tr th {\n",
       "        vertical-align: top;\n",
       "    }\n",
       "\n",
       "    .dataframe thead th {\n",
       "        text-align: right;\n",
       "    }\n",
       "</style>\n",
       "<table border=\"1\" class=\"dataframe\">\n",
       "  <thead>\n",
       "    <tr style=\"text-align: right;\">\n",
       "      <th></th>\n",
       "      <th>uniprot</th>\n",
       "      <th>domains</th>\n",
       "      <th>region_1</th>\n",
       "      <th>region_2</th>\n",
       "      <th>notes</th>\n",
       "      <th>pdb</th>\n",
       "      <th>complex_rmsd</th>\n",
       "      <th>1.0_aligned</th>\n",
       "      <th>1.0_comp</th>\n",
       "      <th>1.1_aligned</th>\n",
       "      <th>...</th>\n",
       "      <th>2.3_aligned</th>\n",
       "      <th>2.3_comp</th>\n",
       "      <th>percent_region_1</th>\n",
       "      <th>percent_region_2</th>\n",
       "      <th>gt_fn</th>\n",
       "      <th>pred_fn</th>\n",
       "      <th>1_aligned</th>\n",
       "      <th>1_comp</th>\n",
       "      <th>2_aligned</th>\n",
       "      <th>2_comp</th>\n",
       "    </tr>\n",
       "  </thead>\n",
       "  <tbody>\n",
       "    <tr>\n",
       "      <th>0</th>\n",
       "      <td>P0AG30</td>\n",
       "      <td>48-123</td>\n",
       "      <td>1-47</td>\n",
       "      <td>48-123</td>\n",
       "      <td>NaN</td>\n",
       "      <td>1a62</td>\n",
       "      <td>1.275</td>\n",
       "      <td>1.041</td>\n",
       "      <td>1.686</td>\n",
       "      <td>0.0</td>\n",
       "      <td>...</td>\n",
       "      <td>0</td>\n",
       "      <td>0</td>\n",
       "      <td>93.617021</td>\n",
       "      <td>100.0</td>\n",
       "      <td>1a62.cif</td>\n",
       "      <td>AF-P0AG30-F1-model_v4.cif</td>\n",
       "      <td>1.041</td>\n",
       "      <td>1.686</td>\n",
       "      <td>1.287</td>\n",
       "      <td>1.239</td>\n",
       "    </tr>\n",
       "    <tr>\n",
       "      <th>1</th>\n",
       "      <td>P0AG30</td>\n",
       "      <td>48-123</td>\n",
       "      <td>1-47</td>\n",
       "      <td>48-123</td>\n",
       "      <td>NaN</td>\n",
       "      <td>1a63</td>\n",
       "      <td>3.21</td>\n",
       "      <td>1.994</td>\n",
       "      <td>3.328</td>\n",
       "      <td>0.0</td>\n",
       "      <td>...</td>\n",
       "      <td>0</td>\n",
       "      <td>0</td>\n",
       "      <td>100.0</td>\n",
       "      <td>100.0</td>\n",
       "      <td>1a63.cif</td>\n",
       "      <td>AF-P0AG30-F1-model_v4.cif</td>\n",
       "      <td>1.994</td>\n",
       "      <td>3.328</td>\n",
       "      <td>3.184</td>\n",
       "      <td>2.436</td>\n",
       "    </tr>\n",
       "    <tr>\n",
       "      <th>2</th>\n",
       "      <td>P0AG30</td>\n",
       "      <td>48-123</td>\n",
       "      <td>1-47</td>\n",
       "      <td>48-123</td>\n",
       "      <td>NaN</td>\n",
       "      <td>3ice</td>\n",
       "      <td>1.992</td>\n",
       "      <td>1.835</td>\n",
       "      <td>1.875</td>\n",
       "      <td>0.0</td>\n",
       "      <td>...</td>\n",
       "      <td>0</td>\n",
       "      <td>0</td>\n",
       "      <td>61.702128</td>\n",
       "      <td>100.0</td>\n",
       "      <td>3ice.cif</td>\n",
       "      <td>AF-P0AG30-F1-model_v4.cif</td>\n",
       "      <td>1.835</td>\n",
       "      <td>1.875</td>\n",
       "      <td>1.315</td>\n",
       "      <td>2.018</td>\n",
       "    </tr>\n",
       "    <tr>\n",
       "      <th>3</th>\n",
       "      <td>P0AG30</td>\n",
       "      <td>48-123</td>\n",
       "      <td>1-47</td>\n",
       "      <td>48-123</td>\n",
       "      <td>NaN</td>\n",
       "      <td>6wa8</td>\n",
       "      <td>3.015</td>\n",
       "      <td>4.644</td>\n",
       "      <td>6.318</td>\n",
       "      <td>0.0</td>\n",
       "      <td>...</td>\n",
       "      <td>0</td>\n",
       "      <td>0</td>\n",
       "      <td>100.0</td>\n",
       "      <td>100.0</td>\n",
       "      <td>6wa8.cif</td>\n",
       "      <td>AF-P0AG30-F1-model_v4.cif</td>\n",
       "      <td>4.644</td>\n",
       "      <td>6.318</td>\n",
       "      <td>1.893</td>\n",
       "      <td>5.339</td>\n",
       "    </tr>\n",
       "    <tr>\n",
       "      <th>4</th>\n",
       "      <td>P0AG30</td>\n",
       "      <td>48-123</td>\n",
       "      <td>1-47</td>\n",
       "      <td>48-123</td>\n",
       "      <td>NaN</td>\n",
       "      <td>7x2r</td>\n",
       "      <td>2.462</td>\n",
       "      <td>2.068</td>\n",
       "      <td>1.897</td>\n",
       "      <td>0.0</td>\n",
       "      <td>...</td>\n",
       "      <td>0</td>\n",
       "      <td>0</td>\n",
       "      <td>100.0</td>\n",
       "      <td>100.0</td>\n",
       "      <td>7x2r.cif</td>\n",
       "      <td>AF-P0AG30-F1-model_v4.cif</td>\n",
       "      <td>2.068</td>\n",
       "      <td>1.897</td>\n",
       "      <td>1.722</td>\n",
       "      <td>2.097</td>\n",
       "    </tr>\n",
       "  </tbody>\n",
       "</table>\n",
       "<p>5 rows × 29 columns</p>\n",
       "</div>"
      ],
      "text/plain": [
       "  uniprot domains region_1 region_2 notes   pdb complex_rmsd 1.0_aligned  \\\n",
       "0  P0AG30  48-123     1-47   48-123   NaN  1a62        1.275       1.041   \n",
       "1  P0AG30  48-123     1-47   48-123   NaN  1a63         3.21       1.994   \n",
       "2  P0AG30  48-123     1-47   48-123   NaN  3ice        1.992       1.835   \n",
       "3  P0AG30  48-123     1-47   48-123   NaN  6wa8        3.015       4.644   \n",
       "4  P0AG30  48-123     1-47   48-123   NaN  7x2r        2.462       2.068   \n",
       "\n",
       "  1.0_comp 1.1_aligned  ... 2.3_aligned 2.3_comp percent_region_1  \\\n",
       "0    1.686         0.0  ...           0        0        93.617021   \n",
       "1    3.328         0.0  ...           0        0            100.0   \n",
       "2    1.875         0.0  ...           0        0        61.702128   \n",
       "3    6.318         0.0  ...           0        0            100.0   \n",
       "4    1.897         0.0  ...           0        0            100.0   \n",
       "\n",
       "  percent_region_2     gt_fn                    pred_fn 1_aligned 1_comp  \\\n",
       "0            100.0  1a62.cif  AF-P0AG30-F1-model_v4.cif     1.041  1.686   \n",
       "1            100.0  1a63.cif  AF-P0AG30-F1-model_v4.cif     1.994  3.328   \n",
       "2            100.0  3ice.cif  AF-P0AG30-F1-model_v4.cif     1.835  1.875   \n",
       "3            100.0  6wa8.cif  AF-P0AG30-F1-model_v4.cif     4.644  6.318   \n",
       "4            100.0  7x2r.cif  AF-P0AG30-F1-model_v4.cif     2.068  1.897   \n",
       "\n",
       "  2_aligned 2_comp  \n",
       "0     1.287  1.239  \n",
       "1     3.184  2.436  \n",
       "2     1.315  2.018  \n",
       "3     1.893  5.339  \n",
       "4     1.722  2.097  \n",
       "\n",
       "[5 rows x 29 columns]"
      ]
     },
     "execution_count": 244,
     "metadata": {},
     "output_type": "execute_result"
    }
   ],
   "source": [
    "si = pd.read_csv('./project_pipeline/data/sidhanta_domains.csv').astype('object')\n",
    "\n",
    "# Get common proteins between si and md\n",
    "common = si.merge(md, on='uniprot', how='inner')\n",
    "common.head()"
   ]
  },
  {
   "cell_type": "code",
   "execution_count": 245,
   "metadata": {},
   "outputs": [],
   "source": [
    "# Subset the data\n",
    "cmSub = common[['uniprot', 'pdb', 'complex_rmsd', '1_aligned', '2_aligned', '2_comp']]\n",
    "\n",
    "# Rename columns\n",
    "cmSub.columns = ['Uniprot', 'PDB', 'Full Sequence', 'D1', 'D2', 'D1 on D2']\n",
    "\n",
    "# Melt the data\n",
    "cmPlot = pd.melt(cmSub, id_vars=['Uniprot', 'PDB'], var_name='Alignment', value_name='RMSD')\n",
    "\n",
    "# Convert the RMSD to a float\n",
    "cmPlot['RMSD'] = cmPlot['RMSD'].astype(float)"
   ]
  },
  {
   "cell_type": "code",
   "execution_count": 246,
   "metadata": {},
   "outputs": [
    {
     "name": "stderr",
     "output_type": "stream",
     "text": [
      "/tmp/ipykernel_37785/3167596635.py:2: SettingWithCopyWarning: \n",
      "A value is trying to be set on a copy of a slice from a DataFrame.\n",
      "Try using .loc[row_indexer,col_indexer] = value instead\n",
      "\n",
      "See the caveats in the documentation: https://pandas.pydata.org/pandas-docs/stable/user_guide/indexing.html#returning-a-view-versus-a-copy\n",
      "  cmSub['Type'] = 'Two-Domain'\n"
     ]
    }
   ],
   "source": [
    "# Concatenate data\n",
    "cmSub['Type'] = 'Two-Domain'\n",
    "\n",
    "cmSub.columns = ['UniProt', 'PDB', 'Full Sequence', 'IM/D1', 'FD/D2', 'IM on FD/D1 on D2', 'Type']\n",
    "\n",
    "# Concatenate the dataframes\n",
    "all2Plot = pd.concat([clSub, cmSub])\n",
    "\n",
    "# Melt the data\n",
    "all2Plot = pd.melt(all2Plot, id_vars=['UniProt', 'PDB', 'Type'], var_name='Alignment', value_name='RMSD')\n",
    "\n",
    "# Convert the RMSD to a float\n",
    "all2Plot['RMSD'] = all2Plot['RMSD'].astype(float)\n",
    "\n",
    "# Remove outliers\n",
    "all2Plot = all2Plot[all2Plot['RMSD'] < 100]"
   ]
  },
  {
   "cell_type": "code",
   "execution_count": 247,
   "metadata": {},
   "outputs": [
    {
     "name": "stderr",
     "output_type": "stream",
     "text": [
      "/tmp/ipykernel_37785/638876958.py:8: UserWarning: set_ticklabels() should only be used with a fixed number of ticks, i.e. after set_ticks() or using a FixedLocator.\n",
      "  ax.set_yticklabels(ax.get_yticklabels(), fontsize=12)\n"
     ]
    },
    {
     "name": "stdout",
     "output_type": "stream",
     "text": [
      "p-value annotation legend:\n",
      "      ns: 5.00e-02 < p <= 1.00e+00\n",
      "       *: 1.00e-02 < p <= 5.00e-02\n",
      "      **: 1.00e-03 < p <= 1.00e-02\n",
      "     ***: 1.00e-04 < p <= 1.00e-03\n",
      "    ****: p <= 1.00e-04\n",
      "\n",
      "IM/D1_Autoinhibitory vs. IM/D1_Two-Domain: Mann-Whitney-Wilcoxon test two-sided, P_val:1.667e-08 U_stat=8.842e+04\n",
      "Full Sequence_Autoinhibitory vs. Full Sequence_Two-Domain: Mann-Whitney-Wilcoxon test two-sided, P_val:1.043e-24 U_stat=1.043e+05\n",
      "FD/D2_Autoinhibitory vs. FD/D2_Two-Domain: Mann-Whitney-Wilcoxon test two-sided, P_val:2.070e-05 U_stat=8.361e+04\n",
      "IM on FD/D1 on D2_Autoinhibitory vs. IM on FD/D1 on D2_Two-Domain: Mann-Whitney-Wilcoxon test two-sided, P_val:7.392e-16 U_stat=9.660e+04\n"
     ]
    },
    {
     "data": {
      "image/png": "[encoded data removed]",
      "text/plain": [
       "<Figure size 600x500 with 1 Axes>"
      ]
     },
     "metadata": {},
     "output_type": "display_data"
    }
   ],
   "source": [
    "# Now we plot the data\n",
    "fig, ax = plt.subplots(figsize=(6, 5))\n",
    "sns.boxplot(data=all2Plot, x='Alignment', y='RMSD', ax=ax, palette=colors, hue='Type')\n",
    "ax.set_ylim(0, 40)\n",
    "ax.set_ylabel('RMSD (Å)', fontsize=14)\n",
    "ax.set_xlabel('Alignment', fontsize=14)\n",
    "ax.set_xticklabels(ax.get_xticklabels(), fontsize=12)\n",
    "ax.set_yticklabels(ax.get_yticklabels(), fontsize=12)\n",
    "ax.legend(title='Type', fontsize=12, title_fontsize=12)\n",
    "\n",
    "# Add the annotations, comparing between structural alignment categories\n",
    "pairs = [[('Full Sequence', 'Autoinhibitory'), ('Full Sequence', 'Two-Domain')],\n",
    "         [('IM/D1', 'Autoinhibitory'), ('IM/D1', 'Two-Domain')],\n",
    "         [('FD/D2', 'Autoinhibitory'), ('FD/D2', 'Two-Domain')],\n",
    "         [('IM on FD/D1 on D2', 'Autoinhibitory'), ('IM on FD/D1 on D2', 'Two-Domain')]]\n",
    "subcat_order = ['Full Sequence', 'IM/D1', 'FD/D2', 'IM on FD/D1 on D2']\n",
    "annotator = Annotator(ax, pairs, data=all2Plot, x='Alignment', y='RMSD', order=subcat_order, hue='Type')\n",
    "annotator.configure(test='Mann-Whitney', text_format='star', loc='outside')\n",
    "annotator.apply_and_annotate()\n",
    "\n",
    "# Save the plot\n",
    "plt.tight_layout()\n",
    "plt.savefig('./project_pipeline/data/figures/rmsd_distributions_obligate.png', dpi=300, bbox_inches='tight')"
   ]
  },
  {
   "cell_type": "markdown",
   "metadata": {},
   "source": [
    "# Looking at only proteins with state annotated"
   ]
  },
  {
   "cell_type": "code",
   "execution_count": 248,
   "metadata": {},
   "outputs": [
    {
     "name": "stdout",
     "output_type": "stream",
     "text": [
      "628\n"
     ]
    },
    {
     "name": "stderr",
     "output_type": "stream",
     "text": [
      "/tmp/ipykernel_37785/754549966.py:11: SettingWithCopyWarning: \n",
      "A value is trying to be set on a copy of a slice from a DataFrame.\n",
      "Try using .loc[row_indexer,col_indexer] = value instead\n",
      "\n",
      "See the caveats in the documentation: https://pandas.pydata.org/pandas-docs/stable/user_guide/indexing.html#returning-a-view-versus-a-copy\n",
      "  clSub[['Full Sequence', 'IM', 'FD', 'IM on FD']] = clSub[['Full Sequence', 'IM', 'FD', 'IM on FD']].astype(float)\n",
      "/tmp/ipykernel_37785/754549966.py:15: SettingWithCopyWarning: \n",
      "A value is trying to be set on a copy of a slice from a DataFrame.\n",
      "Try using .loc[row_indexer,col_indexer] = value instead\n",
      "\n",
      "See the caveats in the documentation: https://pandas.pydata.org/pandas-docs/stable/user_guide/indexing.html#returning-a-view-versus-a-copy\n",
      "  clSub['Type'] = 'Autoinhibitory'\n"
     ]
    },
    {
     "data": {
      "text/html": [
       "<div>\n",
       "<style scoped>\n",
       "    .dataframe tbody tr th:only-of-type {\n",
       "        vertical-align: middle;\n",
       "    }\n",
       "\n",
       "    .dataframe tbody tr th {\n",
       "        vertical-align: top;\n",
       "    }\n",
       "\n",
       "    .dataframe thead th {\n",
       "        text-align: right;\n",
       "    }\n",
       "</style>\n",
       "<table border=\"1\" class=\"dataframe\">\n",
       "  <thead>\n",
       "    <tr style=\"text-align: right;\">\n",
       "      <th></th>\n",
       "      <th>UniProt</th>\n",
       "      <th>PDB</th>\n",
       "      <th>Type</th>\n",
       "      <th>Alignment</th>\n",
       "      <th>RMSD</th>\n",
       "    </tr>\n",
       "  </thead>\n",
       "  <tbody>\n",
       "    <tr>\n",
       "      <th>0</th>\n",
       "      <td>P04637</td>\n",
       "      <td>8f2h</td>\n",
       "      <td>Autoinhibitory</td>\n",
       "      <td>Full Sequence</td>\n",
       "      <td>30.431</td>\n",
       "    </tr>\n",
       "    <tr>\n",
       "      <th>1</th>\n",
       "      <td>P04637</td>\n",
       "      <td>8f2i</td>\n",
       "      <td>Autoinhibitory</td>\n",
       "      <td>Full Sequence</td>\n",
       "      <td>30.431</td>\n",
       "    </tr>\n",
       "    <tr>\n",
       "      <th>2</th>\n",
       "      <td>P00523</td>\n",
       "      <td>2ptk</td>\n",
       "      <td>Autoinhibitory</td>\n",
       "      <td>Full Sequence</td>\n",
       "      <td>1.737</td>\n",
       "    </tr>\n",
       "    <tr>\n",
       "      <th>3</th>\n",
       "      <td>P28482</td>\n",
       "      <td>1pme</td>\n",
       "      <td>Autoinhibitory</td>\n",
       "      <td>Full Sequence</td>\n",
       "      <td>2.422</td>\n",
       "    </tr>\n",
       "    <tr>\n",
       "      <th>4</th>\n",
       "      <td>P28482</td>\n",
       "      <td>1tvo</td>\n",
       "      <td>Autoinhibitory</td>\n",
       "      <td>Full Sequence</td>\n",
       "      <td>2.497</td>\n",
       "    </tr>\n",
       "  </tbody>\n",
       "</table>\n",
       "</div>"
      ],
      "text/plain": [
       "  UniProt   PDB            Type      Alignment    RMSD\n",
       "0  P04637  8f2h  Autoinhibitory  Full Sequence  30.431\n",
       "1  P04637  8f2i  Autoinhibitory  Full Sequence  30.431\n",
       "2  P00523  2ptk  Autoinhibitory  Full Sequence   1.737\n",
       "3  P28482  1pme  Autoinhibitory  Full Sequence   2.422\n",
       "4  P28482  1tvo  Autoinhibitory  Full Sequence   2.497"
      ]
     },
     "execution_count": 248,
     "metadata": {},
     "output_type": "execute_result"
    }
   ],
   "source": [
    "# Select only proteins with state annotated\n",
    "cl_state = cl.dropna(subset=['state'])\n",
    "\n",
    "print(len(cl_state))\n",
    "\n",
    "clSub = cl_state[['uniprot', 'pdb', 'complex_rmsd', '1_aligned', '2_aligned', '2_comp']]\n",
    "\n",
    "# Rename columns\n",
    "clSub.columns = ['Uniprot', 'PDB', 'Full Sequence', 'IM', 'FD', 'IM on FD']\n",
    "\n",
    "clSub[['Full Sequence', 'IM', 'FD', 'IM on FD']] = clSub[['Full Sequence', 'IM', 'FD', 'IM on FD']].astype(float)\n",
    "\n",
    "\n",
    "# Add types to the dataframes\n",
    "clSub['Type'] = 'Autoinhibitory'\n",
    "\n",
    "# Rename the columns to match\n",
    "clSub.columns = ['UniProt', 'PDB', 'Full Sequence', 'IM/D1', 'FD/D2', 'IM on FD/D1 on D2', 'Type']\n",
    "\n",
    "# Concatenate the dataframes\n",
    "allPlot = pd.concat([clSub, mdSub])\n",
    "\n",
    "# Melt the data\n",
    "allPlot = pd.melt(allPlot, id_vars=['UniProt', 'PDB', 'Type'], var_name='Alignment', value_name='RMSD')\n",
    "\n",
    "# Convert the RMSD to a float\n",
    "allPlot['RMSD'] = allPlot['RMSD'].astype(float)\n",
    "\n",
    "# Remove outliers\n",
    "allPlot = allPlot[allPlot['RMSD'] < 100]\n",
    "allPlot.head()"
   ]
  },
  {
   "cell_type": "code",
   "execution_count": 249,
   "metadata": {},
   "outputs": [
    {
     "name": "stdout",
     "output_type": "stream",
     "text": [
      "p-value annotation legend:\n",
      "      ns: 5.00e-02 < p <= 1.00e+00\n",
      "       *: 1.00e-02 < p <= 5.00e-02\n",
      "      **: 1.00e-03 < p <= 1.00e-02\n",
      "     ***: 1.00e-04 < p <= 1.00e-03\n",
      "    ****: p <= 1.00e-04\n",
      "\n",
      "IM/D1_Autoinhibitory vs. IM/D1_Two-Domain: Mann-Whitney-Wilcoxon test two-sided, P_val:3.767e-33 U_stat=1.288e+05\n"
     ]
    },
    {
     "name": "stderr",
     "output_type": "stream",
     "text": [
      "/tmp/ipykernel_37785/3016454638.py:8: UserWarning: set_ticklabels() should only be used with a fixed number of ticks, i.e. after set_ticks() or using a FixedLocator.\n",
      "  ax.set_yticklabels(ax.get_yticklabels(), fontsize=12)\n"
     ]
    },
    {
     "name": "stdout",
     "output_type": "stream",
     "text": [
      "Full Sequence_Autoinhibitory vs. Full Sequence_Two-Domain: Mann-Whitney-Wilcoxon test two-sided, P_val:1.312e-43 U_stat=1.352e+05\n",
      "FD/D2_Autoinhibitory vs. FD/D2_Two-Domain: Mann-Whitney-Wilcoxon test two-sided, P_val:5.937e-11 U_stat=1.092e+05\n",
      "IM on FD/D1 on D2_Autoinhibitory vs. IM on FD/D1 on D2_Two-Domain: Mann-Whitney-Wilcoxon test two-sided, P_val:5.177e-28 U_stat=1.249e+05\n"
     ]
    },
    {
     "data": {
      "image/png": "[encoded data removed]",
      "text/plain": [
       "<Figure size 600x400 with 1 Axes>"
      ]
     },
     "metadata": {},
     "output_type": "display_data"
    }
   ],
   "source": [
    "# Now we plot the data\n",
    "fig, ax = plt.subplots(figsize=(6, 4))\n",
    "sns.boxplot(data=allPlot, x='Alignment', y='RMSD', ax=ax, palette=colors, hue='Type')\n",
    "ax.set_ylim(0, 40)\n",
    "ax.set_ylabel('RMSD (Å)', fontsize=14)\n",
    "ax.set_xlabel('Alignment', fontsize=14)\n",
    "ax.set_xticklabels(ax.get_xticklabels(), fontsize=12)\n",
    "ax.set_yticklabels(ax.get_yticklabels(), fontsize=12)\n",
    "ax.legend(title='Type', fontsize=12, title_fontsize=12)\n",
    "\n",
    "# Add the annotations, comparing between structural alignment categories\n",
    "pairs = [[('Full Sequence', 'Autoinhibitory'), ('Full Sequence', 'Two-Domain')],\n",
    "         [('IM/D1', 'Autoinhibitory'), ('IM/D1', 'Two-Domain')],\n",
    "         [('FD/D2', 'Autoinhibitory'), ('FD/D2', 'Two-Domain')],\n",
    "         [('IM on FD/D1 on D2', 'Autoinhibitory'), ('IM on FD/D1 on D2', 'Two-Domain')]]\n",
    "subcat_order = ['Full Sequence', 'IM/D1', 'FD/D2', 'IM on FD/D1 on D2']\n",
    "annotator = Annotator(ax, pairs, data=allPlot, x='Alignment', y='RMSD', order=subcat_order, hue='Type')\n",
    "annotator.configure(test='Mann-Whitney', text_format='star', loc='outside')\n",
    "annotator.apply_and_annotate()\n",
    "\n",
    "# Save the plot\n",
    "plt.tight_layout()\n",
    "plt.savefig('./project_pipeline/data/figures/all_state_rmsd_distributions.png', dpi=500, bbox_inches='tight')"
   ]
  },
  {
   "cell_type": "markdown",
   "metadata": {},
   "source": [
    "If we break it down by active vs autoinhibited, what does the data look like?"
   ]
  },
  {
   "cell_type": "code",
   "execution_count": 267,
   "metadata": {},
   "outputs": [
    {
     "name": "stdout",
     "output_type": "stream",
     "text": [
      "189\n"
     ]
    },
    {
     "name": "stderr",
     "output_type": "stream",
     "text": [
      "/tmp/ipykernel_37785/4170904382.py:8: SettingWithCopyWarning: \n",
      "A value is trying to be set on a copy of a slice from a DataFrame.\n",
      "Try using .loc[row_indexer,col_indexer] = value instead\n",
      "\n",
      "See the caveats in the documentation: https://pandas.pydata.org/pandas-docs/stable/user_guide/indexing.html#returning-a-view-versus-a-copy\n",
      "  active[['Full Sequence', 'IM', 'FD', 'IM on FD']] = active[['Full Sequence', 'IM', 'FD', 'IM on FD']].astype(float)\n",
      "/tmp/ipykernel_37785/4170904382.py:11: SettingWithCopyWarning: \n",
      "A value is trying to be set on a copy of a slice from a DataFrame.\n",
      "Try using .loc[row_indexer,col_indexer] = value instead\n",
      "\n",
      "See the caveats in the documentation: https://pandas.pydata.org/pandas-docs/stable/user_guide/indexing.html#returning-a-view-versus-a-copy\n",
      "  active['Type'] = 'Autoinhibitory (Active)'\n"
     ]
    }
   ],
   "source": [
    "active_state = cl_state[cl_state['state'] == 'Active']\n",
    "\n",
    "active = active_state[['uniprot', 'pdb', 'complex_rmsd', '1_aligned', '2_aligned', '2_comp']]\n",
    "\n",
    "# Rename columns\n",
    "active.columns = ['Uniprot', 'PDB', 'Full Sequence', 'IM', 'FD', 'IM on FD']\n",
    "\n",
    "active[['Full Sequence', 'IM', 'FD', 'IM on FD']] = active[['Full Sequence', 'IM', 'FD', 'IM on FD']].astype(float)\n",
    "\n",
    "# Add types to the dataframes\n",
    "active['Type'] = 'Autoinhibitory (Active)'\n",
    "\n",
    "# Rename the columns to match\n",
    "active.columns = ['UniProt', 'PDB', 'Full Sequence', 'IM/D1', 'FD/D2', 'IM on FD/D1 on D2', 'Type']\n",
    "\n",
    "# # Concatenate the dataframes\n",
    "# activePlot = pd.concat([active, mdSub])\n",
    "\n",
    "# # Melt the data\n",
    "# activePlot = pd.melt(activePlot, id_vars=['UniProt', 'PDB', 'Type'], var_name='Alignment', value_name='RMSD')\n",
    "\n",
    "# # Convert the RMSD to a float\n",
    "# activePlot['RMSD'] = activePlot['RMSD'].astype(float)\n",
    "\n",
    "# # Remove outliers\n",
    "# activePlot = activePlot[activePlot['RMSD'] < 100]\n",
    "print(len(active))"
   ]
  },
  {
   "cell_type": "code",
   "execution_count": 266,
   "metadata": {},
   "outputs": [
    {
     "name": "stdout",
     "output_type": "stream",
     "text": [
      "439\n"
     ]
    },
    {
     "name": "stderr",
     "output_type": "stream",
     "text": [
      "/tmp/ipykernel_37785/1805734533.py:8: SettingWithCopyWarning: \n",
      "A value is trying to be set on a copy of a slice from a DataFrame.\n",
      "Try using .loc[row_indexer,col_indexer] = value instead\n",
      "\n",
      "See the caveats in the documentation: https://pandas.pydata.org/pandas-docs/stable/user_guide/indexing.html#returning-a-view-versus-a-copy\n",
      "  auto[['Full Sequence', 'IM', 'FD', 'IM on FD']] = auto[['Full Sequence', 'IM', 'FD', 'IM on FD']].astype(float)\n",
      "/tmp/ipykernel_37785/1805734533.py:11: SettingWithCopyWarning: \n",
      "A value is trying to be set on a copy of a slice from a DataFrame.\n",
      "Try using .loc[row_indexer,col_indexer] = value instead\n",
      "\n",
      "See the caveats in the documentation: https://pandas.pydata.org/pandas-docs/stable/user_guide/indexing.html#returning-a-view-versus-a-copy\n",
      "  auto['Type'] = 'Autoinhibitory (Autoinhibited)'\n"
     ]
    }
   ],
   "source": [
    "auto_state = cl_state[cl_state['state'] == 'Autoinhibited']\n",
    "\n",
    "auto = auto_state[['uniprot', 'pdb', 'complex_rmsd', '1_aligned', '2_aligned', '2_comp']]\n",
    "\n",
    "# Rename columns\n",
    "auto.columns = ['Uniprot', 'PDB', 'Full Sequence', 'IM', 'FD', 'IM on FD']\n",
    "\n",
    "auto[['Full Sequence', 'IM', 'FD', 'IM on FD']] = auto[['Full Sequence', 'IM', 'FD', 'IM on FD']].astype(float)\n",
    "\n",
    "# Add types to the dataframes\n",
    "auto['Type'] = 'Autoinhibitory (Autoinhibited)'\n",
    "\n",
    "# Rename the columns to match\n",
    "auto.columns = ['UniProt', 'PDB', 'Full Sequence', 'IM/D1', 'FD/D2', 'IM on FD/D1 on D2', 'Type']\n",
    "\n",
    "# Concatenate the dataframes\n",
    "autoPlot = pd.concat([active, auto, mdSub])\n",
    "\n",
    "# Melt the data\n",
    "autoPlot = pd.melt(autoPlot, id_vars=['UniProt', 'PDB', 'Type'], var_name='Alignment', value_name='RMSD')\n",
    "\n",
    "# Convert the RMSD to a float\n",
    "autoPlot['RMSD'] = autoPlot['RMSD'].astype(float)\n",
    "\n",
    "# Remove outliers\n",
    "autoPlot = autoPlot[autoPlot['RMSD'] < 100]\n",
    "print(len(auto))"
   ]
  },
  {
   "cell_type": "code",
   "execution_count": 268,
   "metadata": {},
   "outputs": [
    {
     "name": "stderr",
     "output_type": "stream",
     "text": [
      "/tmp/ipykernel_37785/771683352.py:8: UserWarning: set_ticklabels() should only be used with a fixed number of ticks, i.e. after set_ticks() or using a FixedLocator.\n",
      "  ax.set_yticklabels(ax.get_yticklabels(), fontsize=12)\n"
     ]
    },
    {
     "name": "stdout",
     "output_type": "stream",
     "text": [
      "p-value annotation legend:\n",
      "      ns: 5.00e-02 < p <= 1.00e+00\n",
      "       *: 1.00e-02 < p <= 5.00e-02\n",
      "      **: 1.00e-03 < p <= 1.00e-02\n",
      "     ***: 1.00e-04 < p <= 1.00e-03\n",
      "    ****: p <= 1.00e-04\n",
      "\n",
      "IM/D1_Autoinhibitory (Autoinhibited) vs. IM/D1_Two-Domain: Mann-Whitney-Wilcoxon test two-sided, P_val:6.142e-22 U_stat=8.561e+04\n",
      "FD/D2_Autoinhibitory (Autoinhibited) vs. FD/D2_Two-Domain: Mann-Whitney-Wilcoxon test two-sided, P_val:7.360e-13 U_stat=7.906e+04\n",
      "FD/D2_Autoinhibitory (Active) vs. FD/D2_Autoinhibitory (Autoinhibited): Mann-Whitney-Wilcoxon test two-sided, P_val:1.032e-04 U_stat=3.339e+04\n",
      "IM on FD/D1 on D2_Autoinhibitory (Autoinhibited) vs. IM on FD/D1 on D2_Two-Domain: Mann-Whitney-Wilcoxon test two-sided, P_val:2.634e-18 U_stat=8.303e+04\n",
      "IM on FD/D1 on D2_Autoinhibitory (Active) vs. IM on FD/D1 on D2_Autoinhibitory (Autoinhibited): Mann-Whitney-Wilcoxon test two-sided, P_val:1.595e-15 U_stat=5.798e+04\n",
      "Full Sequence_Autoinhibitory (Autoinhibited) vs. Full Sequence_Two-Domain: Mann-Whitney-Wilcoxon test two-sided, P_val:1.026e-32 U_stat=9.152e+04\n",
      "Full Sequence_Autoinhibitory (Active) vs. Full Sequence_Autoinhibitory (Autoinhibited): Mann-Whitney-Wilcoxon test two-sided, P_val:4.947e-09 U_stat=5.357e+04\n",
      "IM/D1_Autoinhibitory (Active) vs. IM/D1_Autoinhibitory (Autoinhibited): Mann-Whitney-Wilcoxon test two-sided, P_val:1.335e-11 U_stat=5.559e+04\n",
      "FD/D2_Autoinhibitory (Active) vs. FD/D2_Two-Domain: Mann-Whitney-Wilcoxon test two-sided, P_val:2.020e-03 U_stat=3.016e+04\n",
      "IM on FD/D1 on D2_Autoinhibitory (Active) vs. IM on FD/D1 on D2_Two-Domain: Mann-Whitney-Wilcoxon test two-sided, P_val:3.912e-30 U_stat=4.189e+04\n",
      "IM/D1_Autoinhibitory (Active) vs. IM/D1_Two-Domain: Mann-Whitney-Wilcoxon test two-sided, P_val:7.917e-35 U_stat=4.317e+04\n",
      "Full Sequence_Autoinhibitory (Active) vs. Full Sequence_Two-Domain: Mann-Whitney-Wilcoxon test two-sided, P_val:6.134e-37 U_stat=4.371e+04\n"
     ]
    },
    {
     "data": {
      "image/png": "[encoded data removed]",
      "text/plain": [
       "<Figure size 1200x800 with 1 Axes>"
      ]
     },
     "metadata": {},
     "output_type": "display_data"
    }
   ],
   "source": [
    "# Now we plot the data\n",
    "fig, ax = plt.subplots(figsize=(12, 8))\n",
    "sns.boxplot(data=autoPlot, x='Alignment', y='RMSD', ax=ax, palette=colors, hue='Type')\n",
    "ax.set_ylim(0, 40)\n",
    "ax.set_ylabel('RMSD (Å)', fontsize=14)\n",
    "ax.set_xlabel('Alignment', fontsize=14)\n",
    "ax.set_xticklabels(ax.get_xticklabels(), fontsize=12)\n",
    "ax.set_yticklabels(ax.get_yticklabels(), fontsize=12)\n",
    "ax.legend(title='Type', fontsize=12, title_fontsize=12)\n",
    "\n",
    "# Add the annotations, comparing between structural alignment categories\n",
    "pairs = [[('Full Sequence', 'Autoinhibitory (Active)'), ('Full Sequence', 'Two-Domain')],\n",
    "        [('Full Sequence', 'Autoinhibitory (Autoinhibited)'), ('Full Sequence', 'Two-Domain')],\n",
    "        [('Full Sequence', 'Autoinhibitory (Active)'), ('Full Sequence', 'Autoinhibitory (Autoinhibited)')],\n",
    "        [('IM/D1', 'Autoinhibitory (Active)'), ('IM/D1', 'Two-Domain')],\n",
    "        [('IM/D1', 'Autoinhibitory (Autoinhibited)'), ('IM/D1', 'Two-Domain')],\n",
    "        [('IM/D1', 'Autoinhibitory (Active)'), ('IM/D1', 'Autoinhibitory (Autoinhibited)')],\n",
    "        [('FD/D2', 'Autoinhibitory (Active)'), ('FD/D2', 'Two-Domain')],\n",
    "        [('FD/D2', 'Autoinhibitory (Autoinhibited)'), ('FD/D2', 'Two-Domain')],\n",
    "        [('FD/D2', 'Autoinhibitory (Active)'), ('FD/D2', 'Autoinhibitory (Autoinhibited)')],\n",
    "        [('IM on FD/D1 on D2', 'Autoinhibitory (Active)'), ('IM on FD/D1 on D2', 'Two-Domain')],\n",
    "        [('IM on FD/D1 on D2', 'Autoinhibitory (Autoinhibited)'), ('IM on FD/D1 on D2', 'Two-Domain')],\n",
    "        [('IM on FD/D1 on D2', 'Autoinhibitory (Active)'), ('IM on FD/D1 on D2', 'Autoinhibitory (Autoinhibited)')]]\n",
    "subcat_order = ['Full Sequence', 'IM/D1', 'FD/D2', 'IM on FD/D1 on D2']\n",
    "annotator = Annotator(ax, pairs, data=autoPlot, x='Alignment', y='RMSD', order=subcat_order, hue='Type')\n",
    "annotator.configure(test='Mann-Whitney', text_format='star', loc='outside')\n",
    "annotator.apply_and_annotate()\n",
    "\n",
    "# Save the plot\n",
    "plt.tight_layout()\n",
    "plt.savefig('./project_pipeline/data/figures/by_state_rmsd_distributions.png', dpi=500, bbox_inches='tight')"
   ]
  }
 ],
 "metadata": {
  "kernelspec": {
   "display_name": "analysis",
   "language": "python",
   "name": "python3"
  },
  "language_info": {
   "codemirror_mode": {
    "name": "ipython",
    "version": 3
   },
   "file_extension": ".py",
   "mimetype": "text/x-python",
   "name": "python",
   "nbconvert_exporter": "python",
   "pygments_lexer": "ipython3",
   "version": "3.11.8"
  }
 },
 "nbformat": 4,
 "nbformat_minor": 2
}
