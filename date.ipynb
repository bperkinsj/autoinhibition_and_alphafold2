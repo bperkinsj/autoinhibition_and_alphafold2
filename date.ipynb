{
 "cells": [
  {
   "cell_type": "markdown",
   "metadata": {},
   "source": [
    "This is a notebook for getting the dates of all of our PDB structures so that we can select only proteins with dates after AlphaFold2's training set."
   ]
  },
  {
   "cell_type": "code",
   "execution_count": 4,
   "metadata": {},
   "outputs": [],
   "source": [
    "import pandas as pd\n",
    "import datetime\n",
    "import numpy as np\n",
    "from Bio.PDB.MMCIF2Dict import MMCIF2Dict\n",
    "from os.path import join\n",
    "from multiprocessing import Pool"
   ]
  },
  {
   "cell_type": "code",
   "execution_count": 5,
   "metadata": {},
   "outputs": [],
   "source": [
    "# Some helper functions\n",
    "def divide_chunks(l, n):\n",
    "\n",
    "    # looping till length l\n",
    "    for i in range(0, len(l), n):\n",
    "        yield l[i:i + n]\n",
    "\n",
    "def get_structure_dict(fn, path):\n",
    "\n",
    "    # Join the path and the file name\n",
    "    full_path = join(path, fn)\n",
    "            \n",
    "    # Make an MMCIFDict object to grab more information form the .cif files\n",
    "    mmcif_dict = MMCIF2Dict(full_path)\n",
    "\n",
    "    return mmcif_dict\n",
    "\n",
    "def add_date(row, path):\n",
    "    # Add the date of deposition of the structure to the row\n",
    "    f = row['gt_fn']\n",
    "    uniprot = row['uniprot']\n",
    "    fn = join(uniprot, f)\n",
    "\n",
    "    # Get the structure dictionary\n",
    "    structure_dict = get_structure_dict(fn, path)\n",
    "\n",
    "    # Get the date of deposition\n",
    "    date = structure_dict['_pdbx_database_status.recvd_initial_deposition_date'][0]\n",
    "\n",
    "    row['date'] = date\n",
    "\n",
    "    return row\n",
    "\n",
    "def create_chunk_df_and_add_dates(df, path, chunk):\n",
    "    # Create a dataframe with the chunk of proteins\n",
    "    chunk_df = df[df['uniprot'].isin(chunk)].reset_index(drop=True)\n",
    "\n",
    "    # Calculate the rmsds\n",
    "    chunk_df = chunk_df.apply(add_date, axis=1, args=(path,))\n",
    "\n",
    "    return chunk_df"
   ]
  },
  {
   "cell_type": "code",
   "execution_count": 6,
   "metadata": {},
   "outputs": [],
   "source": [
    "path = './project_pipeline/data/input/RCSB_cif'\n",
    "ai = pd.read_csv('./project_pipeline/data/proteins_by_pdb.tsv', sep='\\t')\n",
    "md = pd.read_csv('./project_pipeline/data/md_pdbs.tsv', sep='\\t')\n",
    "\n",
    "ai_prots = ai['uniprot'].unique()\n",
    "md_prots = md['uniprot'].unique()"
   ]
  },
  {
   "cell_type": "code",
   "execution_count": 7,
   "metadata": {},
   "outputs": [],
   "source": [
    "ai_prot_chunks = list(divide_chunks(ai_prots, 10))\n",
    "\n",
    "with Pool() as pool:\n",
    "    ai_results = pool.starmap(create_chunk_df_and_add_dates, [(ai, path, chunk) for chunk in ai_prot_chunks])\n",
    "\n",
    "ai_dates = pd.concat(ai_results).reset_index(drop=True)"
   ]
  },
  {
   "cell_type": "code",
   "execution_count": 8,
   "metadata": {},
   "outputs": [],
   "source": [
    "# Repeat for the MD proteins\n",
    "md_prot_chunks = list(divide_chunks(md_prots, 10))\n",
    "\n",
    "with Pool() as pool:\n",
    "    md_results = pool.starmap(create_chunk_df_and_add_dates, [(md, path, chunk) for chunk in md_prot_chunks])\n",
    "\n",
    "md_dates = pd.concat(md_results).reset_index(drop=True)"
   ]
  },
  {
   "cell_type": "code",
   "execution_count": 9,
   "metadata": {},
   "outputs": [
    {
     "data": {
      "text/html": [
       "<div>\n",
       "<style scoped>\n",
       "    .dataframe tbody tr th:only-of-type {\n",
       "        vertical-align: middle;\n",
       "    }\n",
       "\n",
       "    .dataframe tbody tr th {\n",
       "        vertical-align: top;\n",
       "    }\n",
       "\n",
       "    .dataframe thead th {\n",
       "        text-align: right;\n",
       "    }\n",
       "</style>\n",
       "<table border=\"1\" class=\"dataframe\">\n",
       "  <thead>\n",
       "    <tr style=\"text-align: right;\">\n",
       "      <th></th>\n",
       "      <th>gene_name</th>\n",
       "      <th>uniprot</th>\n",
       "      <th>protein_length</th>\n",
       "      <th>region_1</th>\n",
       "      <th>region_2</th>\n",
       "      <th>pdb</th>\n",
       "      <th>chain</th>\n",
       "      <th>af_filename</th>\n",
       "      <th>gt_fn</th>\n",
       "      <th>date</th>\n",
       "    </tr>\n",
       "  </thead>\n",
       "  <tbody>\n",
       "    <tr>\n",
       "      <th>0</th>\n",
       "      <td>Nos1</td>\n",
       "      <td>P29476</td>\n",
       "      <td>1429.0</td>\n",
       "      <td>815-870</td>\n",
       "      <td>757-949</td>\n",
       "      <td>1b8q</td>\n",
       "      <td>A</td>\n",
       "      <td>F-P29476-F1-model_v3.cif</td>\n",
       "      <td>1b8q.cif</td>\n",
       "      <td>1999-02-01</td>\n",
       "    </tr>\n",
       "    <tr>\n",
       "      <th>1</th>\n",
       "      <td>Nos1</td>\n",
       "      <td>P29476</td>\n",
       "      <td>1429.0</td>\n",
       "      <td>815-870</td>\n",
       "      <td>757-949</td>\n",
       "      <td>1cmi</td>\n",
       "      <td>C</td>\n",
       "      <td>F-P29476-F1-model_v3.cif</td>\n",
       "      <td>1cmi.cif</td>\n",
       "      <td>1999-05-06</td>\n",
       "    </tr>\n",
       "    <tr>\n",
       "      <th>2</th>\n",
       "      <td>Nos1</td>\n",
       "      <td>P29476</td>\n",
       "      <td>1429.0</td>\n",
       "      <td>815-870</td>\n",
       "      <td>757-949</td>\n",
       "      <td>1f20</td>\n",
       "      <td>A</td>\n",
       "      <td>F-P29476-F1-model_v3.cif</td>\n",
       "      <td>1f20.cif</td>\n",
       "      <td>2000-05-22</td>\n",
       "    </tr>\n",
       "    <tr>\n",
       "      <th>3</th>\n",
       "      <td>Nos1</td>\n",
       "      <td>P29476</td>\n",
       "      <td>1429.0</td>\n",
       "      <td>815-870</td>\n",
       "      <td>757-949</td>\n",
       "      <td>1k2r</td>\n",
       "      <td>A</td>\n",
       "      <td>F-P29476-F1-model_v3.cif</td>\n",
       "      <td>1k2r.cif</td>\n",
       "      <td>2001-09-28</td>\n",
       "    </tr>\n",
       "    <tr>\n",
       "      <th>4</th>\n",
       "      <td>Nos1</td>\n",
       "      <td>P29476</td>\n",
       "      <td>1429.0</td>\n",
       "      <td>815-870</td>\n",
       "      <td>757-949</td>\n",
       "      <td>1k2s</td>\n",
       "      <td>A</td>\n",
       "      <td>F-P29476-F1-model_v3.cif</td>\n",
       "      <td>1k2s.cif</td>\n",
       "      <td>2001-09-28</td>\n",
       "    </tr>\n",
       "  </tbody>\n",
       "</table>\n",
       "</div>"
      ],
      "text/plain": [
       "  gene_name uniprot  protein_length region_1 region_2   pdb chain  \\\n",
       "0      Nos1  P29476          1429.0  815-870  757-949  1b8q     A   \n",
       "1      Nos1  P29476          1429.0  815-870  757-949  1cmi     C   \n",
       "2      Nos1  P29476          1429.0  815-870  757-949  1f20     A   \n",
       "3      Nos1  P29476          1429.0  815-870  757-949  1k2r     A   \n",
       "4      Nos1  P29476          1429.0  815-870  757-949  1k2s     A   \n",
       "\n",
       "                af_filename     gt_fn        date  \n",
       "0  F-P29476-F1-model_v3.cif  1b8q.cif  1999-02-01  \n",
       "1  F-P29476-F1-model_v3.cif  1cmi.cif  1999-05-06  \n",
       "2  F-P29476-F1-model_v3.cif  1f20.cif  2000-05-22  \n",
       "3  F-P29476-F1-model_v3.cif  1k2r.cif  2001-09-28  \n",
       "4  F-P29476-F1-model_v3.cif  1k2s.cif  2001-09-28  "
      ]
     },
     "execution_count": 9,
     "metadata": {},
     "output_type": "execute_result"
    }
   ],
   "source": [
    "ai_dates.head()"
   ]
  },
  {
   "cell_type": "code",
   "execution_count": 10,
   "metadata": {},
   "outputs": [],
   "source": [
    "ai2 = ai_dates.copy()\n",
    "md2 = md_dates.copy()"
   ]
  },
  {
   "cell_type": "code",
   "execution_count": 11,
   "metadata": {},
   "outputs": [],
   "source": [
    "# Convert the dates to datetime objects\n",
    "ai2['date'] = pd.to_datetime(ai2['date'])\n",
    "md2['date'] = pd.to_datetime(md2['date'])"
   ]
  },
  {
   "cell_type": "code",
   "execution_count": 12,
   "metadata": {},
   "outputs": [],
   "source": [
    "# The maximum release date for AlphaFold2 was April 30, 2018. Select only those structures released after this date\n",
    "ai_after = ai2[ai2['date'] > datetime.datetime(2018, 4, 30)]\n",
    "md_after = md2[md2['date'] > datetime.datetime(2018, 4, 30)]"
   ]
  },
  {
   "cell_type": "code",
   "execution_count": 13,
   "metadata": {},
   "outputs": [],
   "source": [
    "# Save the dates\n",
    "ai2.to_csv('./project_pipeline/data/ai_dates.tsv', sep='\\t', index=False)\n",
    "md2.to_csv('./project_pipeline/data/md_dates.tsv', sep='\\t', index=False)"
   ]
  }
 ],
 "metadata": {
  "kernelspec": {
   "display_name": "rmsd_snek",
   "language": "python",
   "name": "python3"
  },
  "language_info": {
   "codemirror_mode": {
    "name": "ipython",
    "version": 3
   },
   "file_extension": ".py",
   "mimetype": "text/x-python",
   "name": "python",
   "nbconvert_exporter": "python",
   "pygments_lexer": "ipython3",
   "version": "3.8.16"
  }
 },
 "nbformat": 4,
 "nbformat_minor": 2
}
