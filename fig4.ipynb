{
 "cells": [
  {
   "cell_type": "code",
   "execution_count": 17,
   "metadata": {},
   "outputs": [],
   "source": [
    "from matplotlib.ticker import FuncFormatter\n",
    "from statannotations.Annotator import Annotator\n",
    "from scipy.stats import mannwhitneyu\n",
    "from pandas.plotting import table\n",
    "import matplotlib.pyplot as plt\n",
    "import dataframe_image as dfi\n",
    "import pandas as pd\n",
    "import seaborn as sns\n",
    "import matplotlib as mpl\n",
    "import numpy as np\n",
    "import scipy as sp\n",
    "import scienceplots"
   ]
  },
  {
   "cell_type": "code",
   "execution_count": 18,
   "metadata": {},
   "outputs": [
    {
     "name": "stdout",
     "output_type": "stream",
     "text": [
      "['#a6cee3', '#1f78b4', '#b2df8a', '#33a02c', '#fb9a99', '#e31a1c', '#fdbf6f', '#ff7f00', '#cab2d6', '#6a3d9a', '#ffff99', '#b15928']\n"
     ]
    },
    {
     "data": {
      "text/html": [
       "<svg  width=\"660\" height=\"55\"><rect x=\"0\" y=\"0\" width=\"55\" height=\"55\" style=\"fill:#a6cee3;stroke-width:2;stroke:rgb(255,255,255)\"/><rect x=\"55\" y=\"0\" width=\"55\" height=\"55\" style=\"fill:#1f78b4;stroke-width:2;stroke:rgb(255,255,255)\"/><rect x=\"110\" y=\"0\" width=\"55\" height=\"55\" style=\"fill:#b2df8a;stroke-width:2;stroke:rgb(255,255,255)\"/><rect x=\"165\" y=\"0\" width=\"55\" height=\"55\" style=\"fill:#33a02c;stroke-width:2;stroke:rgb(255,255,255)\"/><rect x=\"220\" y=\"0\" width=\"55\" height=\"55\" style=\"fill:#fb9a99;stroke-width:2;stroke:rgb(255,255,255)\"/><rect x=\"275\" y=\"0\" width=\"55\" height=\"55\" style=\"fill:#e31a1c;stroke-width:2;stroke:rgb(255,255,255)\"/><rect x=\"330\" y=\"0\" width=\"55\" height=\"55\" style=\"fill:#fdbf6f;stroke-width:2;stroke:rgb(255,255,255)\"/><rect x=\"385\" y=\"0\" width=\"55\" height=\"55\" style=\"fill:#ff7f00;stroke-width:2;stroke:rgb(255,255,255)\"/><rect x=\"440\" y=\"0\" width=\"55\" height=\"55\" style=\"fill:#cab2d6;stroke-width:2;stroke:rgb(255,255,255)\"/><rect x=\"495\" y=\"0\" width=\"55\" height=\"55\" style=\"fill:#6a3d9a;stroke-width:2;stroke:rgb(255,255,255)\"/><rect x=\"550\" y=\"0\" width=\"55\" height=\"55\" style=\"fill:#ffff99;stroke-width:2;stroke:rgb(255,255,255)\"/><rect x=\"605\" y=\"0\" width=\"55\" height=\"55\" style=\"fill:#b15928;stroke-width:2;stroke:rgb(255,255,255)\"/></svg>"
      ],
      "text/plain": [
       "['#a6cee3',\n",
       " '#1f78b4',\n",
       " '#b2df8a',\n",
       " '#33a02c',\n",
       " '#fb9a99',\n",
       " '#e31a1c',\n",
       " '#fdbf6f',\n",
       " '#ff7f00',\n",
       " '#cab2d6',\n",
       " '#6a3d9a',\n",
       " '#ffff99',\n",
       " '#b15928']"
      ]
     },
     "execution_count": 18,
     "metadata": {},
     "output_type": "execute_result"
    }
   ],
   "source": [
    "plt.style.use('science')\n",
    "\n",
    "# Get the hex codes for the colors so we can assign them to categories\n",
    "pal = sns.color_palette('Paired')\n",
    "print(pal.as_hex())\n",
    "\n",
    "# Set the color palette. Our categories are \"Single Domain\", \"Two-Domain\", and \"Autoinhibitory\"\n",
    "colors = {'Single Domain': pal[5], 'Two-Domain': pal[1], 'Autoinhibitory': pal[3], 'Autoinhibitory (Active)': pal[2], 'Autoinhibitory (Autoinhibited)': pal[3], \n",
    "          'Full': pal[3], 'Clusters': pal[7], 'Two-State AI': pal[4], 'Autoinhibitory (Closed)': pal[5], 'Autoinhibitory (Open)': pal[4]}\n",
    "pal.as_hex()"
   ]
  },
  {
   "cell_type": "code",
   "execution_count": 19,
   "metadata": {},
   "outputs": [
    {
     "data": {
      "text/html": [
       "<div>\n",
       "<style scoped>\n",
       "    .dataframe tbody tr th:only-of-type {\n",
       "        vertical-align: middle;\n",
       "    }\n",
       "\n",
       "    .dataframe tbody tr th {\n",
       "        vertical-align: top;\n",
       "    }\n",
       "\n",
       "    .dataframe thead th {\n",
       "        text-align: right;\n",
       "    }\n",
       "</style>\n",
       "<table border=\"1\" class=\"dataframe\">\n",
       "  <thead>\n",
       "    <tr style=\"text-align: right;\">\n",
       "      <th></th>\n",
       "      <th>uniprot</th>\n",
       "      <th>pdb</th>\n",
       "      <th>region_1</th>\n",
       "      <th>region_2</th>\n",
       "      <th>complex_rmsd</th>\n",
       "      <th>percent_region_1</th>\n",
       "      <th>percent_region_2</th>\n",
       "      <th>2_aligned</th>\n",
       "      <th>2_comp</th>\n",
       "      <th>state</th>\n",
       "      <th>conformation</th>\n",
       "      <th>organism</th>\n",
       "      <th>date</th>\n",
       "      <th>notes</th>\n",
       "    </tr>\n",
       "  </thead>\n",
       "  <tbody>\n",
       "    <tr>\n",
       "      <th>0</th>\n",
       "      <td>P04637</td>\n",
       "      <td>8f2h</td>\n",
       "      <td>364-393</td>\n",
       "      <td>102-292</td>\n",
       "      <td>30.431</td>\n",
       "      <td>100.0</td>\n",
       "      <td>100.000000</td>\n",
       "      <td>3.065</td>\n",
       "      <td>70.729</td>\n",
       "      <td>Autoinhibited</td>\n",
       "      <td>Closed</td>\n",
       "      <td>\"Homo sapiens\"</td>\n",
       "      <td>['2022-11-08']</td>\n",
       "      <td>NaN</td>\n",
       "    </tr>\n",
       "    <tr>\n",
       "      <th>1</th>\n",
       "      <td>P04637</td>\n",
       "      <td>8f2i</td>\n",
       "      <td>364-393</td>\n",
       "      <td>102-292</td>\n",
       "      <td>30.431</td>\n",
       "      <td>100.0</td>\n",
       "      <td>100.000000</td>\n",
       "      <td>3.065</td>\n",
       "      <td>70.729</td>\n",
       "      <td>Autoinhibited</td>\n",
       "      <td>Closed</td>\n",
       "      <td>\"Homo sapiens\"</td>\n",
       "      <td>['2022-11-08']</td>\n",
       "      <td>NaN</td>\n",
       "    </tr>\n",
       "    <tr>\n",
       "      <th>2</th>\n",
       "      <td>P00523</td>\n",
       "      <td>2ptk</td>\n",
       "      <td>148-245,246-266</td>\n",
       "      <td>81-142,521-533</td>\n",
       "      <td>1.737</td>\n",
       "      <td>100.0</td>\n",
       "      <td>89.333333</td>\n",
       "      <td>1.921</td>\n",
       "      <td>3.093</td>\n",
       "      <td>Autoinhibited</td>\n",
       "      <td>Closed</td>\n",
       "      <td>Gallus gallus</td>\n",
       "      <td>['1997-06-17']</td>\n",
       "      <td>NaN</td>\n",
       "    </tr>\n",
       "    <tr>\n",
       "      <th>3</th>\n",
       "      <td>P28482</td>\n",
       "      <td>1pme</td>\n",
       "      <td>173-196</td>\n",
       "      <td>25-172,197-313</td>\n",
       "      <td>2.422</td>\n",
       "      <td>100.0</td>\n",
       "      <td>96.603774</td>\n",
       "      <td>1.220</td>\n",
       "      <td>6.639</td>\n",
       "      <td>Autoinhibited</td>\n",
       "      <td>Closed</td>\n",
       "      <td>Homo sapiens</td>\n",
       "      <td>['1998-06-08']</td>\n",
       "      <td>NaN</td>\n",
       "    </tr>\n",
       "    <tr>\n",
       "      <th>4</th>\n",
       "      <td>P28482</td>\n",
       "      <td>1tvo</td>\n",
       "      <td>173-196</td>\n",
       "      <td>25-172,197-313</td>\n",
       "      <td>2.497</td>\n",
       "      <td>100.0</td>\n",
       "      <td>100.000000</td>\n",
       "      <td>1.523</td>\n",
       "      <td>6.633</td>\n",
       "      <td>Autoinhibited</td>\n",
       "      <td>Closed</td>\n",
       "      <td>Homo sapiens</td>\n",
       "      <td>['2004-06-30']</td>\n",
       "      <td>NaN</td>\n",
       "    </tr>\n",
       "  </tbody>\n",
       "</table>\n",
       "</div>"
      ],
      "text/plain": [
       "  uniprot   pdb         region_1        region_2  complex_rmsd  \\\n",
       "0  P04637  8f2h          364-393         102-292        30.431   \n",
       "1  P04637  8f2i          364-393         102-292        30.431   \n",
       "2  P00523  2ptk  148-245,246-266  81-142,521-533         1.737   \n",
       "3  P28482  1pme          173-196  25-172,197-313         2.422   \n",
       "4  P28482  1tvo          173-196  25-172,197-313         2.497   \n",
       "\n",
       "   percent_region_1  percent_region_2  2_aligned  2_comp          state  \\\n",
       "0             100.0        100.000000      3.065  70.729  Autoinhibited   \n",
       "1             100.0        100.000000      3.065  70.729  Autoinhibited   \n",
       "2             100.0         89.333333      1.921   3.093  Autoinhibited   \n",
       "3             100.0         96.603774      1.220   6.639  Autoinhibited   \n",
       "4             100.0        100.000000      1.523   6.633  Autoinhibited   \n",
       "\n",
       "  conformation        organism            date notes  \n",
       "0       Closed  \"Homo sapiens\"  ['2022-11-08']   NaN  \n",
       "1       Closed  \"Homo sapiens\"  ['2022-11-08']   NaN  \n",
       "2       Closed   Gallus gallus  ['1997-06-17']   NaN  \n",
       "3       Closed    Homo sapiens  ['1998-06-08']   NaN  \n",
       "4       Closed    Homo sapiens  ['2004-06-30']   NaN  "
      ]
     },
     "execution_count": 19,
     "metadata": {},
     "output_type": "execute_result"
    }
   ],
   "source": [
    "# Load the data\n",
    "cl = pd.read_csv('./project_pipeline/data/classified_files.tsv', sep='\\t')\n",
    "rmsd = pd.read_csv('./project_pipeline/data/rmsds.tsv', sep='\\t').astype('object')\n",
    "md = pd.read_csv('./project_pipeline/data/md_rmsds.tsv', sep='\\t').astype('object')\n",
    "\n",
    "cl.head()"
   ]
  },
  {
   "cell_type": "code",
   "execution_count": 20,
   "metadata": {},
   "outputs": [
    {
     "name": "stdout",
     "output_type": "stream",
     "text": [
      "Closed    116\n",
      "Open       12\n",
      "Name: conformation, dtype: int64\n"
     ]
    }
   ],
   "source": [
    "# We need to group by protein (uniprot) and find the minimum value of the 2_comp column\n",
    "\n",
    "exem = cl.sort_values('2_comp').groupby('uniprot', as_index=False).first()\n",
    "\n",
    "print(exem['conformation'].value_counts())\n"
   ]
  },
  {
   "cell_type": "code",
   "execution_count": 21,
   "metadata": {},
   "outputs": [
    {
     "name": "stdout",
     "output_type": "stream",
     "text": [
      "116\n",
      "40\n",
      "['5ups', '6m01', '5tw8', '5wm5', '7vxq', '5kei', '5iz1', '4ir8', '3myr', '6ur9', '4ueq', '3ayz', '4wv3', '4d4i', '5n4b', '5n9x', '7a9j', '3dy5', '1ohe', '4mgf', '2j3x', '1ig8', '5n0c', '1a62', '1qme', '1e8n', '1pyy', '1ru3', '5zwk', '6e97', '3pbs', '4rmn', '6ruc', '3txm', '2p3y', '3cw9', '4cdp', '3a9u', '6s62', '1e3d']\n"
     ]
    }
   ],
   "source": [
    "# We want only closed structures\n",
    "exem_closed = exem[exem['conformation'] == 'Closed']\n",
    "print(len(exem_closed))\n",
    "closed_uniprots = exem_closed['uniprot'].tolist()\n",
    "closed_pdb = exem_closed['pdb'].tolist()\n",
    "\n",
    "md_exem = md.sort_values('2_comp').groupby('uniprot', as_index=False).first()\n",
    "md_pdb = md_exem['pdb'].tolist()\n",
    "print(len(md_exem))\n",
    "print(md_pdb)"
   ]
  },
  {
   "cell_type": "code",
   "execution_count": 22,
   "metadata": {},
   "outputs": [
    {
     "name": "stdout",
     "output_type": "stream",
     "text": [
      "861\n"
     ]
    }
   ],
   "source": [
    "ai1 = pd.read_csv('./project_pipeline/data/ai_dockq_results.csv').astype('object')\n",
    "md_dockq = pd.read_csv('./project_pipeline/data/md_dockq_results.csv').astype('object')\n",
    "\n",
    "ai = ai1[ai1['uniprot'].isin(closed_uniprots)].reset_index(drop=True)\n",
    "\n",
    "md_dockq = md_dockq[md_dockq['pdb'].isin(md_pdb)].reset_index(drop=True)\n",
    "print(len(ai))"
   ]
  },
  {
   "cell_type": "code",
   "execution_count": 23,
   "metadata": {},
   "outputs": [
    {
     "data": {
      "text/html": [
       "<div>\n",
       "<style scoped>\n",
       "    .dataframe tbody tr th:only-of-type {\n",
       "        vertical-align: middle;\n",
       "    }\n",
       "\n",
       "    .dataframe tbody tr th {\n",
       "        vertical-align: top;\n",
       "    }\n",
       "\n",
       "    .dataframe thead th {\n",
       "        text-align: right;\n",
       "    }\n",
       "</style>\n",
       "<table border=\"1\" class=\"dataframe\">\n",
       "  <thead>\n",
       "    <tr style=\"text-align: right;\">\n",
       "      <th></th>\n",
       "      <th>uniprot</th>\n",
       "      <th>pdb</th>\n",
       "      <th>fnat</th>\n",
       "      <th>fnat_correct</th>\n",
       "      <th>fnat_total</th>\n",
       "      <th>fnonnat</th>\n",
       "      <th>fnonnat_nnative</th>\n",
       "      <th>fnonnat_model</th>\n",
       "      <th>irms</th>\n",
       "      <th>lrms</th>\n",
       "      <th>dockq</th>\n",
       "      <th>capri</th>\n",
       "      <th>type</th>\n",
       "    </tr>\n",
       "  </thead>\n",
       "  <tbody>\n",
       "    <tr>\n",
       "      <th>0</th>\n",
       "      <td>P28482</td>\n",
       "      <td>4qp6</td>\n",
       "      <td>0.913</td>\n",
       "      <td>63</td>\n",
       "      <td>69</td>\n",
       "      <td>0.222</td>\n",
       "      <td>18</td>\n",
       "      <td>81</td>\n",
       "      <td>1.644</td>\n",
       "      <td>3.298</td>\n",
       "      <td>0.745</td>\n",
       "      <td>Medium</td>\n",
       "      <td>Autoinhibitory (Closed)</td>\n",
       "    </tr>\n",
       "    <tr>\n",
       "      <th>1</th>\n",
       "      <td>P62826</td>\n",
       "      <td>5uwh</td>\n",
       "      <td>1.0</td>\n",
       "      <td>5</td>\n",
       "      <td>5</td>\n",
       "      <td>0.286</td>\n",
       "      <td>2</td>\n",
       "      <td>7</td>\n",
       "      <td>1.03</td>\n",
       "      <td>40.342</td>\n",
       "      <td>0.574</td>\n",
       "      <td>Medium</td>\n",
       "      <td>Autoinhibitory (Closed)</td>\n",
       "    </tr>\n",
       "    <tr>\n",
       "      <th>2</th>\n",
       "      <td>Q8IXJ6</td>\n",
       "      <td>4r8m</td>\n",
       "      <td>0.989</td>\n",
       "      <td>90</td>\n",
       "      <td>91</td>\n",
       "      <td>0.032</td>\n",
       "      <td>3</td>\n",
       "      <td>93</td>\n",
       "      <td>0.459</td>\n",
       "      <td>0.77</td>\n",
       "      <td>0.965</td>\n",
       "      <td>High</td>\n",
       "      <td>Autoinhibitory (Closed)</td>\n",
       "    </tr>\n",
       "    <tr>\n",
       "      <th>3</th>\n",
       "      <td>P28482</td>\n",
       "      <td>6gjb</td>\n",
       "      <td>0.8</td>\n",
       "      <td>64</td>\n",
       "      <td>80</td>\n",
       "      <td>0.439</td>\n",
       "      <td>50</td>\n",
       "      <td>114</td>\n",
       "      <td>2.574</td>\n",
       "      <td>5.796</td>\n",
       "      <td>0.579</td>\n",
       "      <td>Medium</td>\n",
       "      <td>Autoinhibitory (Closed)</td>\n",
       "    </tr>\n",
       "    <tr>\n",
       "      <th>4</th>\n",
       "      <td>P28482</td>\n",
       "      <td>7nr3</td>\n",
       "      <td>0.833</td>\n",
       "      <td>60</td>\n",
       "      <td>72</td>\n",
       "      <td>0.455</td>\n",
       "      <td>50</td>\n",
       "      <td>110</td>\n",
       "      <td>2.533</td>\n",
       "      <td>5.722</td>\n",
       "      <td>0.594</td>\n",
       "      <td>Medium</td>\n",
       "      <td>Autoinhibitory (Closed)</td>\n",
       "    </tr>\n",
       "  </tbody>\n",
       "</table>\n",
       "</div>"
      ],
      "text/plain": [
       "  uniprot   pdb   fnat fnat_correct fnat_total fnonnat fnonnat_nnative  \\\n",
       "0  P28482  4qp6  0.913           63         69   0.222              18   \n",
       "1  P62826  5uwh    1.0            5          5   0.286               2   \n",
       "2  Q8IXJ6  4r8m  0.989           90         91   0.032               3   \n",
       "3  P28482  6gjb    0.8           64         80   0.439              50   \n",
       "4  P28482  7nr3  0.833           60         72   0.455              50   \n",
       "\n",
       "  fnonnat_model   irms    lrms  dockq   capri                     type  \n",
       "0            81  1.644   3.298  0.745  Medium  Autoinhibitory (Closed)  \n",
       "1             7   1.03  40.342  0.574  Medium  Autoinhibitory (Closed)  \n",
       "2            93  0.459    0.77  0.965    High  Autoinhibitory (Closed)  \n",
       "3           114  2.574   5.796  0.579  Medium  Autoinhibitory (Closed)  \n",
       "4           110  2.533   5.722  0.594  Medium  Autoinhibitory (Closed)  "
      ]
     },
     "execution_count": 23,
     "metadata": {},
     "output_type": "execute_result"
    }
   ],
   "source": [
    "md_dockq['type'] = 'Two-Domain'\n",
    "md_dockq.head()\n",
    "\n",
    "\n",
    "ai['type'] = 'Autoinhibitory (Closed)'\n",
    "\n",
    "ai_sub = ai[['uniprot', 'pdb', 'fnat', 'fnat_correct', 'fnat_total', 'fnonnat',\n",
    "       'fnonnat_nnative', 'fnonnat_model', 'irms', 'lrms', 'dockq', 'capri',\n",
    "       'type']]\n",
    "\n",
    "plot = pd.concat([ai_sub, md_dockq], ignore_index=True)\n",
    "plot.head()"
   ]
  },
  {
   "cell_type": "code",
   "execution_count": 24,
   "metadata": {},
   "outputs": [
    {
     "name": "stderr",
     "output_type": "stream",
     "text": [
      "/tmp/ipykernel_1388301/2907441062.py:12: UserWarning: set_ticklabels() should only be used with a fixed number of ticks, i.e. after set_ticks() or using a FixedLocator.\n",
      "  ax.set_yticklabels(ax.get_yticklabels(), fontsize=12)\n"
     ]
    },
    {
     "data": {
      "image/png": "[encoded data removed]",
      "text/plain": [
       "<Figure size 600x400 with 1 Axes>"
      ]
     },
     "metadata": {},
     "output_type": "display_data"
    }
   ],
   "source": [
    "# Make the capri class categorical\n",
    "plot['capri'] = pd.Categorical(plot['capri'], ['High', 'Medium', 'Acceptable', 'Incorrect'])\n",
    "\n",
    "# Make histograms of both\n",
    "fig, ax = plt.subplots(1, 1, figsize=(6, 4))\n",
    "\n",
    "# Autoinhibitory DockQ\n",
    "sns.countplot(data=plot, x='capri', hue='type', ax=ax, palette=colors, edgecolor='.3')\n",
    "ax.set_xlabel('Capri Class', fontsize=14)\n",
    "ax.set_ylabel('Count', fontsize=14)\n",
    "ax.set_xticklabels(ax.get_xticklabels(), fontsize=12)\n",
    "ax.set_yticklabels(ax.get_yticklabels(), fontsize=12)\n",
    "ax.legend(title='Type', fontsize=12, title_fontsize=12)\n",
    "\n",
    "plt.savefig('./project_pipeline/data/figures/all_closed_dockq_histograms.png', dpi=300)"
   ]
  }
 ],
 "metadata": {
  "kernelspec": {
   "display_name": "analysis",
   "language": "python",
   "name": "python3"
  },
  "language_info": {
   "codemirror_mode": {
    "name": "ipython",
    "version": 3
   },
   "file_extension": ".py",
   "mimetype": "text/x-python",
   "name": "python",
   "nbconvert_exporter": "python",
   "pygments_lexer": "ipython3",
   "version": "3.11.9"
  }
 },
 "nbformat": 4,
 "nbformat_minor": 2
}
