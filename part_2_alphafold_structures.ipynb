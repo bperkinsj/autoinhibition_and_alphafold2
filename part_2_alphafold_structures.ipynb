{
 "cells": [
  {
   "cell_type": "markdown",
   "metadata": {},
   "source": [
    "Here we want to find out if the AlphaFold2 structures are in the \"closed\" or \"open\" conformation and look at how much they contribute to the variability observed."
   ]
  },
  {
   "cell_type": "code",
   "execution_count": 288,
   "metadata": {},
   "outputs": [],
   "source": [
    "import pandas as pd\n",
    "import numpy as np\n",
    "import matplotlib.pyplot as plt\n",
    "import seaborn as sns\n",
    "import scienceplots\n",
    "from statannotations.Annotator import Annotator\n",
    "from scipy.stats import mannwhitneyu"
   ]
  },
  {
   "cell_type": "code",
   "execution_count": 289,
   "metadata": {},
   "outputs": [],
   "source": [
    "cl = pd.read_csv('./project_pipeline/data/classified_files.tsv', sep='\\t')\n",
    "\n",
    "afinf = pd.read_csv('./project_pipeline/data/alphafold_interface.tsv', sep='\\t')\n",
    "\n",
    "rmsd = pd.read_csv('./project_pipeline/data/rmsds.tsv', sep='\\t').astype('object')\n",
    "rmsdSub = rmsd[['uniprot', 'pdb', '1_aligned']]\n",
    "cl = cl.merge(rmsdSub, on=['uniprot', 'pdb'], how='left')"
   ]
  },
  {
   "cell_type": "code",
   "execution_count": 290,
   "metadata": {},
   "outputs": [
    {
     "name": "stdout",
     "output_type": "stream",
     "text": [
      "['#a6cee3', '#1f78b4', '#b2df8a', '#33a02c', '#fb9a99', '#e31a1c', '#fdbf6f', '#ff7f00', '#cab2d6', '#6a3d9a', '#ffff99', '#b15928']\n"
     ]
    },
    {
     "data": {
      "text/html": [
       "<svg  width=\"660\" height=\"55\"><rect x=\"0\" y=\"0\" width=\"55\" height=\"55\" style=\"fill:#a6cee3;stroke-width:2;stroke:rgb(255,255,255)\"/><rect x=\"55\" y=\"0\" width=\"55\" height=\"55\" style=\"fill:#1f78b4;stroke-width:2;stroke:rgb(255,255,255)\"/><rect x=\"110\" y=\"0\" width=\"55\" height=\"55\" style=\"fill:#b2df8a;stroke-width:2;stroke:rgb(255,255,255)\"/><rect x=\"165\" y=\"0\" width=\"55\" height=\"55\" style=\"fill:#33a02c;stroke-width:2;stroke:rgb(255,255,255)\"/><rect x=\"220\" y=\"0\" width=\"55\" height=\"55\" style=\"fill:#fb9a99;stroke-width:2;stroke:rgb(255,255,255)\"/><rect x=\"275\" y=\"0\" width=\"55\" height=\"55\" style=\"fill:#e31a1c;stroke-width:2;stroke:rgb(255,255,255)\"/><rect x=\"330\" y=\"0\" width=\"55\" height=\"55\" style=\"fill:#fdbf6f;stroke-width:2;stroke:rgb(255,255,255)\"/><rect x=\"385\" y=\"0\" width=\"55\" height=\"55\" style=\"fill:#ff7f00;stroke-width:2;stroke:rgb(255,255,255)\"/><rect x=\"440\" y=\"0\" width=\"55\" height=\"55\" style=\"fill:#cab2d6;stroke-width:2;stroke:rgb(255,255,255)\"/><rect x=\"495\" y=\"0\" width=\"55\" height=\"55\" style=\"fill:#6a3d9a;stroke-width:2;stroke:rgb(255,255,255)\"/><rect x=\"550\" y=\"0\" width=\"55\" height=\"55\" style=\"fill:#ffff99;stroke-width:2;stroke:rgb(255,255,255)\"/><rect x=\"605\" y=\"0\" width=\"55\" height=\"55\" style=\"fill:#b15928;stroke-width:2;stroke:rgb(255,255,255)\"/></svg>"
      ],
      "text/plain": [
       "['#a6cee3',\n",
       " '#1f78b4',\n",
       " '#b2df8a',\n",
       " '#33a02c',\n",
       " '#fb9a99',\n",
       " '#e31a1c',\n",
       " '#fdbf6f',\n",
       " '#ff7f00',\n",
       " '#cab2d6',\n",
       " '#6a3d9a',\n",
       " '#ffff99',\n",
       " '#b15928']"
      ]
     },
     "execution_count": 290,
     "metadata": {},
     "output_type": "execute_result"
    }
   ],
   "source": [
    "plt.style.use('science')\n",
    "\n",
    "# Get the hex codes for the colors so we can assign them to categories\n",
    "pal = sns.color_palette('Paired')\n",
    "print(pal.as_hex())\n",
    "\n",
    "# Set the color palette. Our categories are \"Single Domain\", \"Two-Domain\", and \"Autoinhibitory\"\n",
    "colors = {'Single Domain': pal[0], 'Two-Domain': pal[1], 'Autoinhibitory': pal[2], 'Autoinhibitory (Active)': pal[2], 'Autoinhibitory (Autoinhibited)': pal[3], \n",
    "          'Full': pal[3], 'Clusters': pal[7], 'Two-State AI': pal[4], 'Autoinhibitory (Closed)': pal[5], 'Autoinhibitory (Open)': pal[4],\n",
    "          'AI Predicted Open': pal[6], 'AI Predicted Closed': pal[7]}\n",
    "pal.as_hex()"
   ]
  },
  {
   "cell_type": "code",
   "execution_count": 291,
   "metadata": {},
   "outputs": [],
   "source": [
    "# Assign uniprot conformations. Closed if any interface residues, open if none.\n",
    "afinf['af_conformation'] = afinf['number_interface_residues'].apply(lambda x: 'Closed' if x > 0 else 'Open')"
   ]
  },
  {
   "cell_type": "code",
   "execution_count": 292,
   "metadata": {},
   "outputs": [
    {
     "data": {
      "text/html": [
       "<div>\n",
       "<style scoped>\n",
       "    .dataframe tbody tr th:only-of-type {\n",
       "        vertical-align: middle;\n",
       "    }\n",
       "\n",
       "    .dataframe tbody tr th {\n",
       "        vertical-align: top;\n",
       "    }\n",
       "\n",
       "    .dataframe thead th {\n",
       "        text-align: right;\n",
       "    }\n",
       "</style>\n",
       "<table border=\"1\" class=\"dataframe\">\n",
       "  <thead>\n",
       "    <tr style=\"text-align: right;\">\n",
       "      <th></th>\n",
       "      <th>uniprot</th>\n",
       "      <th>pdb</th>\n",
       "      <th>region_1</th>\n",
       "      <th>region_2</th>\n",
       "      <th>complex_rmsd</th>\n",
       "      <th>percent_region_1</th>\n",
       "      <th>percent_region_2</th>\n",
       "      <th>2_aligned</th>\n",
       "      <th>2_comp</th>\n",
       "      <th>state</th>\n",
       "      <th>conformation</th>\n",
       "      <th>1_aligned</th>\n",
       "      <th>af_conformation</th>\n",
       "    </tr>\n",
       "  </thead>\n",
       "  <tbody>\n",
       "    <tr>\n",
       "      <th>0</th>\n",
       "      <td>P04637</td>\n",
       "      <td>8f2h</td>\n",
       "      <td>364-393</td>\n",
       "      <td>102-292</td>\n",
       "      <td>30.431</td>\n",
       "      <td>100.0</td>\n",
       "      <td>100.000000</td>\n",
       "      <td>3.065</td>\n",
       "      <td>70.729</td>\n",
       "      <td>Autoinhibited</td>\n",
       "      <td>Closed</td>\n",
       "      <td>10.923</td>\n",
       "      <td>Open</td>\n",
       "    </tr>\n",
       "    <tr>\n",
       "      <th>1</th>\n",
       "      <td>P04637</td>\n",
       "      <td>8f2i</td>\n",
       "      <td>364-393</td>\n",
       "      <td>102-292</td>\n",
       "      <td>30.431</td>\n",
       "      <td>100.0</td>\n",
       "      <td>100.000000</td>\n",
       "      <td>3.065</td>\n",
       "      <td>70.729</td>\n",
       "      <td>Autoinhibited</td>\n",
       "      <td>Closed</td>\n",
       "      <td>10.923</td>\n",
       "      <td>Open</td>\n",
       "    </tr>\n",
       "    <tr>\n",
       "      <th>2</th>\n",
       "      <td>P00523</td>\n",
       "      <td>2ptk</td>\n",
       "      <td>148-245,246-266</td>\n",
       "      <td>81-142,521-533</td>\n",
       "      <td>1.737</td>\n",
       "      <td>100.0</td>\n",
       "      <td>89.333333</td>\n",
       "      <td>1.921</td>\n",
       "      <td>3.093</td>\n",
       "      <td>Autoinhibited</td>\n",
       "      <td>Closed</td>\n",
       "      <td>1.164</td>\n",
       "      <td>Closed</td>\n",
       "    </tr>\n",
       "    <tr>\n",
       "      <th>3</th>\n",
       "      <td>P28482</td>\n",
       "      <td>1pme</td>\n",
       "      <td>173-196</td>\n",
       "      <td>25-172,197-313</td>\n",
       "      <td>2.422</td>\n",
       "      <td>100.0</td>\n",
       "      <td>96.603774</td>\n",
       "      <td>1.220</td>\n",
       "      <td>6.639</td>\n",
       "      <td>Autoinhibited</td>\n",
       "      <td>Closed</td>\n",
       "      <td>5.24</td>\n",
       "      <td>Closed</td>\n",
       "    </tr>\n",
       "    <tr>\n",
       "      <th>4</th>\n",
       "      <td>P28482</td>\n",
       "      <td>1tvo</td>\n",
       "      <td>173-196</td>\n",
       "      <td>25-172,197-313</td>\n",
       "      <td>2.497</td>\n",
       "      <td>100.0</td>\n",
       "      <td>100.000000</td>\n",
       "      <td>1.523</td>\n",
       "      <td>6.633</td>\n",
       "      <td>Autoinhibited</td>\n",
       "      <td>Closed</td>\n",
       "      <td>5.318</td>\n",
       "      <td>Closed</td>\n",
       "    </tr>\n",
       "  </tbody>\n",
       "</table>\n",
       "</div>"
      ],
      "text/plain": [
       "  uniprot   pdb         region_1        region_2  complex_rmsd  \\\n",
       "0  P04637  8f2h          364-393         102-292        30.431   \n",
       "1  P04637  8f2i          364-393         102-292        30.431   \n",
       "2  P00523  2ptk  148-245,246-266  81-142,521-533         1.737   \n",
       "3  P28482  1pme          173-196  25-172,197-313         2.422   \n",
       "4  P28482  1tvo          173-196  25-172,197-313         2.497   \n",
       "\n",
       "   percent_region_1  percent_region_2  2_aligned  2_comp          state  \\\n",
       "0             100.0        100.000000      3.065  70.729  Autoinhibited   \n",
       "1             100.0        100.000000      3.065  70.729  Autoinhibited   \n",
       "2             100.0         89.333333      1.921   3.093  Autoinhibited   \n",
       "3             100.0         96.603774      1.220   6.639  Autoinhibited   \n",
       "4             100.0        100.000000      1.523   6.633  Autoinhibited   \n",
       "\n",
       "  conformation 1_aligned af_conformation  \n",
       "0       Closed    10.923            Open  \n",
       "1       Closed    10.923            Open  \n",
       "2       Closed     1.164          Closed  \n",
       "3       Closed      5.24          Closed  \n",
       "4       Closed     5.318          Closed  "
      ]
     },
     "execution_count": 292,
     "metadata": {},
     "output_type": "execute_result"
    }
   ],
   "source": [
    "# Add to classified files\n",
    "af_conf = afinf[['uniprot', 'af_conformation']]\n",
    "merge = pd.merge(cl, af_conf, on='uniprot', how='left')\n",
    "\n",
    "merge = merge.drop(columns=['organism', 'date', 'notes'])\n",
    "\n",
    "merge.head()"
   ]
  },
  {
   "cell_type": "markdown",
   "metadata": {},
   "source": [
    "Let's get some statistics"
   ]
  },
  {
   "cell_type": "code",
   "execution_count": 293,
   "metadata": {},
   "outputs": [
    {
     "data": {
      "text/plain": [
       "Closed    115\n",
       "Open       13\n",
       "Name: af_conformation, dtype: int64"
      ]
     },
     "execution_count": 293,
     "metadata": {},
     "output_type": "execute_result"
    }
   ],
   "source": [
    "uni_only = merge[['uniprot', 'af_conformation']].drop_duplicates().reset_index(drop=True)\n",
    "vals = uni_only['af_conformation'].value_counts()\n",
    "vals"
   ]
  },
  {
   "cell_type": "code",
   "execution_count": 294,
   "metadata": {},
   "outputs": [
    {
     "data": {
      "text/plain": [
       "Autoinhibited    439\n",
       "Active           190\n",
       "Name: state, dtype: int64"
      ]
     },
     "execution_count": 294,
     "metadata": {},
     "output_type": "execute_result"
    }
   ],
   "source": [
    "states = merge['state'].value_counts()\n",
    "states"
   ]
  },
  {
   "cell_type": "code",
   "execution_count": 295,
   "metadata": {},
   "outputs": [
    {
     "data": {
      "text/plain": [
       "Closed    862\n",
       "Open       32\n",
       "Name: conformation, dtype: int64"
      ]
     },
     "execution_count": 295,
     "metadata": {},
     "output_type": "execute_result"
    }
   ],
   "source": [
    "confs = merge['conformation'].value_counts()\n",
    "confs"
   ]
  },
  {
   "cell_type": "code",
   "execution_count": 296,
   "metadata": {},
   "outputs": [
    {
     "data": {
      "text/plain": [
       "Closed    864\n",
       "Open       30\n",
       "Name: af_conformation, dtype: int64"
      ]
     },
     "execution_count": 296,
     "metadata": {},
     "output_type": "execute_result"
    }
   ],
   "source": [
    "af_confs = merge['af_conformation'].value_counts()\n",
    "af_confs"
   ]
  },
  {
   "cell_type": "code",
   "execution_count": 297,
   "metadata": {},
   "outputs": [
    {
     "data": {
      "text/html": [
       "<div>\n",
       "<style scoped>\n",
       "    .dataframe tbody tr th:only-of-type {\n",
       "        vertical-align: middle;\n",
       "    }\n",
       "\n",
       "    .dataframe tbody tr th {\n",
       "        vertical-align: top;\n",
       "    }\n",
       "\n",
       "    .dataframe thead th {\n",
       "        text-align: right;\n",
       "    }\n",
       "</style>\n",
       "<table border=\"1\" class=\"dataframe\">\n",
       "  <thead>\n",
       "    <tr style=\"text-align: right;\">\n",
       "      <th>conformation</th>\n",
       "      <th>Closed</th>\n",
       "      <th>Open</th>\n",
       "    </tr>\n",
       "    <tr>\n",
       "      <th>state</th>\n",
       "      <th></th>\n",
       "      <th></th>\n",
       "    </tr>\n",
       "  </thead>\n",
       "  <tbody>\n",
       "    <tr>\n",
       "      <th>Active</th>\n",
       "      <td>176</td>\n",
       "      <td>14</td>\n",
       "    </tr>\n",
       "    <tr>\n",
       "      <th>Autoinhibited</th>\n",
       "      <td>436</td>\n",
       "      <td>3</td>\n",
       "    </tr>\n",
       "  </tbody>\n",
       "</table>\n",
       "</div>"
      ],
      "text/plain": [
       "conformation   Closed  Open\n",
       "state                      \n",
       "Active            176    14\n",
       "Autoinhibited     436     3"
      ]
     },
     "execution_count": 297,
     "metadata": {},
     "output_type": "execute_result"
    }
   ],
   "source": [
    "s_v_c = merge.groupby(['state', 'conformation']).size().unstack().fillna(0)\n",
    "s_v_c"
   ]
  },
  {
   "cell_type": "code",
   "execution_count": 298,
   "metadata": {},
   "outputs": [
    {
     "data": {
      "text/html": [
       "<div>\n",
       "<style scoped>\n",
       "    .dataframe tbody tr th:only-of-type {\n",
       "        vertical-align: middle;\n",
       "    }\n",
       "\n",
       "    .dataframe tbody tr th {\n",
       "        vertical-align: top;\n",
       "    }\n",
       "\n",
       "    .dataframe thead th {\n",
       "        text-align: right;\n",
       "    }\n",
       "</style>\n",
       "<table border=\"1\" class=\"dataframe\">\n",
       "  <thead>\n",
       "    <tr style=\"text-align: right;\">\n",
       "      <th>af_conformation</th>\n",
       "      <th>Closed</th>\n",
       "      <th>Open</th>\n",
       "    </tr>\n",
       "    <tr>\n",
       "      <th>conformation</th>\n",
       "      <th></th>\n",
       "      <th></th>\n",
       "    </tr>\n",
       "  </thead>\n",
       "  <tbody>\n",
       "    <tr>\n",
       "      <th>Closed</th>\n",
       "      <td>854</td>\n",
       "      <td>8</td>\n",
       "    </tr>\n",
       "    <tr>\n",
       "      <th>Open</th>\n",
       "      <td>10</td>\n",
       "      <td>22</td>\n",
       "    </tr>\n",
       "  </tbody>\n",
       "</table>\n",
       "</div>"
      ],
      "text/plain": [
       "af_conformation  Closed  Open\n",
       "conformation                 \n",
       "Closed              854     8\n",
       "Open                 10    22"
      ]
     },
     "execution_count": 298,
     "metadata": {},
     "output_type": "execute_result"
    }
   ],
   "source": [
    "c_v_ac = merge.groupby(['conformation', 'af_conformation']).size().unstack().fillna(0)\n",
    "c_v_ac"
   ]
  },
  {
   "cell_type": "code",
   "execution_count": 299,
   "metadata": {},
   "outputs": [
    {
     "data": {
      "text/html": [
       "<div>\n",
       "<style scoped>\n",
       "    .dataframe tbody tr th:only-of-type {\n",
       "        vertical-align: middle;\n",
       "    }\n",
       "\n",
       "    .dataframe tbody tr th {\n",
       "        vertical-align: top;\n",
       "    }\n",
       "\n",
       "    .dataframe thead th {\n",
       "        text-align: right;\n",
       "    }\n",
       "</style>\n",
       "<table border=\"1\" class=\"dataframe\">\n",
       "  <thead>\n",
       "    <tr style=\"text-align: right;\">\n",
       "      <th>af_conformation</th>\n",
       "      <th>Closed</th>\n",
       "      <th>Open</th>\n",
       "    </tr>\n",
       "    <tr>\n",
       "      <th>state</th>\n",
       "      <th></th>\n",
       "      <th></th>\n",
       "    </tr>\n",
       "  </thead>\n",
       "  <tbody>\n",
       "    <tr>\n",
       "      <th>Active</th>\n",
       "      <td>182</td>\n",
       "      <td>8</td>\n",
       "    </tr>\n",
       "    <tr>\n",
       "      <th>Autoinhibited</th>\n",
       "      <td>433</td>\n",
       "      <td>6</td>\n",
       "    </tr>\n",
       "  </tbody>\n",
       "</table>\n",
       "</div>"
      ],
      "text/plain": [
       "af_conformation  Closed  Open\n",
       "state                        \n",
       "Active              182     8\n",
       "Autoinhibited       433     6"
      ]
     },
     "execution_count": 299,
     "metadata": {},
     "output_type": "execute_result"
    }
   ],
   "source": [
    "s_v_ac = merge.groupby(['state', 'af_conformation']).size().unstack().fillna(0)\n",
    "s_v_ac"
   ]
  },
  {
   "cell_type": "code",
   "execution_count": 300,
   "metadata": {},
   "outputs": [
    {
     "data": {
      "text/html": [
       "<div>\n",
       "<style scoped>\n",
       "    .dataframe tbody tr th:only-of-type {\n",
       "        vertical-align: middle;\n",
       "    }\n",
       "\n",
       "    .dataframe tbody tr th {\n",
       "        vertical-align: top;\n",
       "    }\n",
       "\n",
       "    .dataframe thead th {\n",
       "        text-align: right;\n",
       "    }\n",
       "</style>\n",
       "<table border=\"1\" class=\"dataframe\">\n",
       "  <thead>\n",
       "    <tr style=\"text-align: right;\">\n",
       "      <th></th>\n",
       "      <th>conformation</th>\n",
       "      <th>Closed</th>\n",
       "      <th>Open</th>\n",
       "    </tr>\n",
       "    <tr>\n",
       "      <th>state</th>\n",
       "      <th>af_conformation</th>\n",
       "      <th></th>\n",
       "      <th></th>\n",
       "    </tr>\n",
       "  </thead>\n",
       "  <tbody>\n",
       "    <tr>\n",
       "      <th rowspan=\"2\" valign=\"top\">Active</th>\n",
       "      <th>Closed</th>\n",
       "      <td>176.0</td>\n",
       "      <td>6.0</td>\n",
       "    </tr>\n",
       "    <tr>\n",
       "      <th>Open</th>\n",
       "      <td>0.0</td>\n",
       "      <td>8.0</td>\n",
       "    </tr>\n",
       "    <tr>\n",
       "      <th rowspan=\"2\" valign=\"top\">Autoinhibited</th>\n",
       "      <th>Closed</th>\n",
       "      <td>432.0</td>\n",
       "      <td>1.0</td>\n",
       "    </tr>\n",
       "    <tr>\n",
       "      <th>Open</th>\n",
       "      <td>4.0</td>\n",
       "      <td>2.0</td>\n",
       "    </tr>\n",
       "  </tbody>\n",
       "</table>\n",
       "</div>"
      ],
      "text/plain": [
       "conformation                   Closed  Open\n",
       "state         af_conformation              \n",
       "Active        Closed            176.0   6.0\n",
       "              Open                0.0   8.0\n",
       "Autoinhibited Closed            432.0   1.0\n",
       "              Open                4.0   2.0"
      ]
     },
     "execution_count": 300,
     "metadata": {},
     "output_type": "execute_result"
    }
   ],
   "source": [
    "s_v_ac_v_c = merge.groupby(['state', 'af_conformation', 'conformation']).size().unstack().fillna(0)\n",
    "s_v_ac_v_c"
   ]
  },
  {
   "cell_type": "markdown",
   "metadata": {},
   "source": [
    "What does the RMSD distribution look like for closed structures?"
   ]
  },
  {
   "cell_type": "code",
   "execution_count": 301,
   "metadata": {},
   "outputs": [],
   "source": [
    "# Get the comparison data\n",
    "md = pd.read_csv('./project_pipeline/data/md_rmsds.tsv', sep='\\t').astype('object')\n",
    "\n",
    "md['type'] = 'Two-Domain'\n",
    "# Subset the data\n",
    "mdSub = md[['uniprot', 'pdb', 'complex_rmsd', '1_aligned', '2_aligned', '2_comp', 'type']]\n",
    "\n",
    "common_columns = ['UniProt', 'PDB', 'Full Sequence', 'IM/D1', 'FD/D2', 'IM on FD/D1 on D2', 'Type']\n",
    "\n",
    "# Rename columns\n",
    "mdSub.columns = common_columns\n",
    "\n",
    "# Melt the data\n",
    "mdPlot = pd.melt(mdSub, id_vars=['UniProt', 'PDB', 'Type'], var_name='Alignment', value_name='RMSD')\n",
    "\n",
    "# Convert the RMSD to a float\n",
    "mdPlot['RMSD'] = mdPlot['RMSD'].astype(float)"
   ]
  },
  {
   "cell_type": "code",
   "execution_count": 302,
   "metadata": {},
   "outputs": [
    {
     "name": "stderr",
     "output_type": "stream",
     "text": [
      "/tmp/ipykernel_3197310/4053161127.py:2: SettingWithCopyWarning: \n",
      "A value is trying to be set on a copy of a slice from a DataFrame.\n",
      "Try using .loc[row_indexer,col_indexer] = value instead\n",
      "\n",
      "See the caveats in the documentation: https://pandas.pydata.org/pandas-docs/stable/user_guide/indexing.html#returning-a-view-versus-a-copy\n",
      "  closed['type'] = 'Autoinhibitory (Closed)'\n"
     ]
    }
   ],
   "source": [
    "closed = merge[merge['conformation'] == 'Closed']\n",
    "closed['type'] = 'Autoinhibitory (Closed)'\n",
    "closed = closed[['uniprot', 'pdb', 'complex_rmsd', '1_aligned', '2_aligned', '2_comp', 'type']]\n",
    "closed.columns = common_columns\n",
    "closed_melt = pd.melt(closed, id_vars=['UniProt', 'PDB', 'Type'], var_name='Alignment', value_name='RMSD')\n",
    "closed_melt['RMSD'] = closed_melt['RMSD'].astype(float)"
   ]
  },
  {
   "cell_type": "code",
   "execution_count": 303,
   "metadata": {},
   "outputs": [
    {
     "name": "stderr",
     "output_type": "stream",
     "text": [
      "/tmp/ipykernel_3197310/833641024.py:2: SettingWithCopyWarning: \n",
      "A value is trying to be set on a copy of a slice from a DataFrame.\n",
      "Try using .loc[row_indexer,col_indexer] = value instead\n",
      "\n",
      "See the caveats in the documentation: https://pandas.pydata.org/pandas-docs/stable/user_guide/indexing.html#returning-a-view-versus-a-copy\n",
      "  ope['type'] = 'Autoinhibitory (Open)'\n"
     ]
    }
   ],
   "source": [
    "ope = merge[merge['conformation'] == 'Open']\n",
    "ope['type'] = 'Autoinhibitory (Open)'\n",
    "ope = ope[['uniprot', 'pdb', 'complex_rmsd', '1_aligned', '2_aligned', '2_comp', 'type']]\n",
    "ope.columns = common_columns\n",
    "ope_melt = pd.melt(ope, id_vars=['UniProt', 'PDB', 'Type'], var_name='Alignment', value_name='RMSD')\n",
    "ope_melt['RMSD'] = ope_melt['RMSD'].astype(float)"
   ]
  },
  {
   "cell_type": "code",
   "execution_count": 304,
   "metadata": {},
   "outputs": [],
   "source": [
    "# Concatenate the data\n",
    "three_plot = pd.concat([ope_melt, closed_melt, mdPlot])\n",
    "\n",
    "# Remove outliers\n",
    "three_plot = three_plot[three_plot['RMSD'] < 200]"
   ]
  },
  {
   "cell_type": "code",
   "execution_count": 305,
   "metadata": {},
   "outputs": [
    {
     "name": "stderr",
     "output_type": "stream",
     "text": [
      "/tmp/ipykernel_3197310/3561054271.py:8: UserWarning: set_ticklabels() should only be used with a fixed number of ticks, i.e. after set_ticks() or using a FixedLocator.\n",
      "  ax.set_yticklabels(ax.get_yticklabels(), fontsize=12)\n"
     ]
    },
    {
     "name": "stdout",
     "output_type": "stream",
     "text": [
      "p-value annotation legend:\n",
      "      ns: 5.00e-02 < p <= 1.00e+00\n",
      "       *: 1.00e-02 < p <= 5.00e-02\n",
      "      **: 1.00e-03 < p <= 1.00e-02\n",
      "     ***: 1.00e-04 < p <= 1.00e-03\n",
      "    ****: p <= 1.00e-04\n",
      "\n",
      "IM/D1_Autoinhibitory (Closed) vs. IM/D1_Two-Domain: Mann-Whitney-Wilcoxon test two-sided, P_val:9.089e-23 U_stat=1.640e+05\n",
      "FD/D2_Autoinhibitory (Closed) vs. FD/D2_Two-Domain: Mann-Whitney-Wilcoxon test two-sided, P_val:2.675e-10 U_stat=1.475e+05\n"
     ]
    },
    {
     "name": "stdout",
     "output_type": "stream",
     "text": [
      "FD/D2_Autoinhibitory (Open) vs. FD/D2_Autoinhibitory (Closed): Mann-Whitney-Wilcoxon test two-sided, P_val:4.638e-06 U_stat=2.036e+04\n",
      "IM on FD/D1 on D2_Autoinhibitory (Closed) vs. IM on FD/D1 on D2_Two-Domain: Mann-Whitney-Wilcoxon test two-sided, P_val:1.531e-21 U_stat=1.627e+05\n",
      "IM on FD/D1 on D2_Autoinhibitory (Open) vs. IM on FD/D1 on D2_Autoinhibitory (Closed): Mann-Whitney-Wilcoxon test two-sided, P_val:3.330e-12 U_stat=2.319e+04\n",
      "Full Sequence_Autoinhibitory (Closed) vs. Full Sequence_Two-Domain: Mann-Whitney-Wilcoxon test two-sided, P_val:1.136e-32 U_stat=1.738e+05\n",
      "Full Sequence_Autoinhibitory (Open) vs. Full Sequence_Autoinhibitory (Closed): Mann-Whitney-Wilcoxon test two-sided, P_val:4.735e-10 U_stat=2.272e+04\n",
      "IM/D1_Autoinhibitory (Open) vs. IM/D1_Autoinhibitory (Closed): Mann-Whitney-Wilcoxon test two-sided, P_val:3.569e-01 U_stat=1.511e+04\n",
      "FD/D2_Autoinhibitory (Open) vs. FD/D2_Two-Domain: Mann-Whitney-Wilcoxon test two-sided, P_val:3.395e-09 U_stat=7.158e+03\n",
      "IM on FD/D1 on D2_Autoinhibitory (Open) vs. IM on FD/D1 on D2_Two-Domain: Mann-Whitney-Wilcoxon test two-sided, P_val:1.330e-15 U_stat=7.938e+03\n",
      "IM/D1_Autoinhibitory (Open) vs. IM/D1_Two-Domain: Mann-Whitney-Wilcoxon test two-sided, P_val:1.082e-08 U_stat=7.067e+03\n",
      "Full Sequence_Autoinhibitory (Open) vs. Full Sequence_Two-Domain: Mann-Whitney-Wilcoxon test two-sided, P_val:1.129e-15 U_stat=8.150e+03\n"
     ]
    },
    {
     "data": {
      "image/png": "[encoded data removed]",
      "text/plain": [
       "<Figure size 800x600 with 1 Axes>"
      ]
     },
     "metadata": {},
     "output_type": "display_data"
    }
   ],
   "source": [
    "# Plot the data\n",
    "fig, ax = plt.subplots(figsize=(8, 6))\n",
    "sns.boxplot(x='Alignment', y='RMSD', hue='Type', data=three_plot, ax=ax, palette=colors)\n",
    "ax.set_ylim(0, 40)\n",
    "ax.set_ylabel('RMSD (Å)', fontsize=14)\n",
    "ax.set_xlabel('Alignment', fontsize=14)\n",
    "ax.set_xticklabels(ax.get_xticklabels(), fontsize=12)\n",
    "ax.set_yticklabels(ax.get_yticklabels(), fontsize=12)\n",
    "ax.legend(title='Type', fontsize=12, title_fontsize=12)\n",
    "\n",
    "\n",
    "# Add the annotations, comparing between structural alignment categories\n",
    "pairs = [[('Full Sequence', 'Autoinhibitory (Open)'), ('Full Sequence', 'Two-Domain')],\n",
    "        [('Full Sequence', 'Autoinhibitory (Closed)'), ('Full Sequence', 'Two-Domain')],\n",
    "        [('Full Sequence', 'Autoinhibitory (Open)'), ('Full Sequence', 'Autoinhibitory (Closed)')],\n",
    "        [('IM/D1', 'Autoinhibitory (Open)'), ('IM/D1', 'Two-Domain')],\n",
    "        [('IM/D1', 'Autoinhibitory (Closed)'), ('IM/D1', 'Two-Domain')],\n",
    "        [('IM/D1', 'Autoinhibitory (Open)'), ('IM/D1', 'Autoinhibitory (Closed)')],\n",
    "        [('FD/D2', 'Autoinhibitory (Open)'), ('FD/D2', 'Two-Domain')],\n",
    "        [('FD/D2', 'Autoinhibitory (Closed)'), ('FD/D2', 'Two-Domain')],\n",
    "        [('FD/D2', 'Autoinhibitory (Open)'), ('FD/D2', 'Autoinhibitory (Closed)')],\n",
    "        [('IM on FD/D1 on D2', 'Autoinhibitory (Open)'), ('IM on FD/D1 on D2', 'Two-Domain')],\n",
    "        [('IM on FD/D1 on D2', 'Autoinhibitory (Closed)'), ('IM on FD/D1 on D2', 'Two-Domain')],\n",
    "        [('IM on FD/D1 on D2', 'Autoinhibitory (Open)'), ('IM on FD/D1 on D2', 'Autoinhibitory (Closed)')]]\n",
    "subcat_order = ['Full Sequence', 'IM/D1', 'FD/D2', 'IM on FD/D1 on D2']\n",
    "annotator = Annotator(ax, pairs, data=three_plot, x='Alignment', y='RMSD', order=subcat_order, hue='Type')\n",
    "annotator.configure(test='Mann-Whitney', text_format='star', loc='outside')\n",
    "annotator.apply_and_annotate()\n",
    "\n",
    "plt.savefig('./project_pipeline/data/figures/by_conformation_rmsd.png', dpi=500, bbox_inches='tight')\n",
    "plt.show()"
   ]
  },
  {
   "cell_type": "markdown",
   "metadata": {},
   "source": [
    "How many of our structures with differences between the predicted and experimental of greater than 20 come from the open, closed, active, and autoinhibited?"
   ]
  },
  {
   "cell_type": "code",
   "execution_count": 306,
   "metadata": {},
   "outputs": [
    {
     "name": "stdout",
     "output_type": "stream",
     "text": [
      "188\n"
     ]
    },
    {
     "data": {
      "text/html": [
       "<div>\n",
       "<style scoped>\n",
       "    .dataframe tbody tr th:only-of-type {\n",
       "        vertical-align: middle;\n",
       "    }\n",
       "\n",
       "    .dataframe tbody tr th {\n",
       "        vertical-align: top;\n",
       "    }\n",
       "\n",
       "    .dataframe thead th {\n",
       "        text-align: right;\n",
       "    }\n",
       "</style>\n",
       "<table border=\"1\" class=\"dataframe\">\n",
       "  <thead>\n",
       "    <tr style=\"text-align: right;\">\n",
       "      <th>conformation</th>\n",
       "      <th>Closed</th>\n",
       "      <th>Open</th>\n",
       "    </tr>\n",
       "    <tr>\n",
       "      <th>state</th>\n",
       "      <th></th>\n",
       "      <th></th>\n",
       "    </tr>\n",
       "  </thead>\n",
       "  <tbody>\n",
       "    <tr>\n",
       "      <th>Active</th>\n",
       "      <td>83</td>\n",
       "      <td>10</td>\n",
       "    </tr>\n",
       "    <tr>\n",
       "      <th>Autoinhibited</th>\n",
       "      <td>61</td>\n",
       "      <td>3</td>\n",
       "    </tr>\n",
       "  </tbody>\n",
       "</table>\n",
       "</div>"
      ],
      "text/plain": [
       "conformation   Closed  Open\n",
       "state                      \n",
       "Active             83    10\n",
       "Autoinhibited      61     3"
      ]
     },
     "execution_count": 306,
     "metadata": {},
     "output_type": "execute_result"
    }
   ],
   "source": [
    "bigdif = merge[merge['2_comp'] > 20]\n",
    "bigdif_cl = bigdif.groupby(['state', 'conformation']).size().unstack().fillna(0)\n",
    "print(len(bigdif))\n",
    "bigdif_cl"
   ]
  },
  {
   "cell_type": "markdown",
   "metadata": {},
   "source": [
    "How much are the variations between our closed AlphaFold2 structures and our open AlphaFold2 structures?"
   ]
  },
  {
   "cell_type": "code",
   "execution_count": 307,
   "metadata": {},
   "outputs": [
    {
     "name": "stderr",
     "output_type": "stream",
     "text": [
      "/tmp/ipykernel_3197310/2451765563.py:2: SettingWithCopyWarning: \n",
      "A value is trying to be set on a copy of a slice from a DataFrame.\n",
      "Try using .loc[row_indexer,col_indexer] = value instead\n",
      "\n",
      "See the caveats in the documentation: https://pandas.pydata.org/pandas-docs/stable/user_guide/indexing.html#returning-a-view-versus-a-copy\n",
      "  af_closed['type'] = 'AI Predicted Closed'\n",
      "/tmp/ipykernel_3197310/2451765563.py:9: SettingWithCopyWarning: \n",
      "A value is trying to be set on a copy of a slice from a DataFrame.\n",
      "Try using .loc[row_indexer,col_indexer] = value instead\n",
      "\n",
      "See the caveats in the documentation: https://pandas.pydata.org/pandas-docs/stable/user_guide/indexing.html#returning-a-view-versus-a-copy\n",
      "  af_ope['type'] = 'AI Predicted Open'\n"
     ]
    }
   ],
   "source": [
    "af_closed = merge[merge['af_conformation'] == 'Closed']\n",
    "af_closed['type'] = 'AI Predicted Closed'\n",
    "af_closed = af_closed[['uniprot', 'pdb', 'complex_rmsd', '1_aligned', '2_aligned', '2_comp', 'type']]\n",
    "af_closed.columns = common_columns\n",
    "af_closed_melt = pd.melt(af_closed, id_vars=['UniProt', 'PDB', 'Type'], var_name='Alignment', value_name='RMSD')\n",
    "af_closed_melt['RMSD'] = af_closed_melt['RMSD'].astype(float)\n",
    "\n",
    "af_ope = merge[merge['af_conformation'] == 'Open']\n",
    "af_ope['type'] = 'AI Predicted Open'\n",
    "af_ope = af_ope[['uniprot', 'pdb', 'complex_rmsd', '1_aligned', '2_aligned', '2_comp', 'type']]\n",
    "af_ope.columns = common_columns\n",
    "af_ope_melt = pd.melt(af_ope, id_vars=['UniProt', 'PDB', 'Type'], var_name='Alignment', value_name='RMSD')\n",
    "af_ope_melt['RMSD'] = af_ope_melt['RMSD'].astype(float)"
   ]
  },
  {
   "cell_type": "code",
   "execution_count": 308,
   "metadata": {},
   "outputs": [],
   "source": [
    "# Concatenate the data\n",
    "af_three_plot = pd.concat([af_ope_melt, af_closed_melt, mdPlot])\n",
    "\n",
    "# Remove outliers\n",
    "af_three_plot = af_three_plot[af_three_plot['RMSD'] < 100]"
   ]
  },
  {
   "cell_type": "code",
   "execution_count": 314,
   "metadata": {},
   "outputs": [
    {
     "name": "stderr",
     "output_type": "stream",
     "text": [
      "/tmp/ipykernel_3197310/956262436.py:8: UserWarning: set_ticklabels() should only be used with a fixed number of ticks, i.e. after set_ticks() or using a FixedLocator.\n",
      "  ax.set_yticklabels(ax.get_yticklabels(), fontsize=12)\n"
     ]
    },
    {
     "name": "stdout",
     "output_type": "stream",
     "text": [
      "p-value annotation legend:\n",
      "      ns: 5.00e-02 < p <= 1.00e+00\n",
      "       *: 1.00e-02 < p <= 5.00e-02\n",
      "      **: 1.00e-03 < p <= 1.00e-02\n",
      "     ***: 1.00e-04 < p <= 1.00e-03\n",
      "    ****: p <= 1.00e-04\n",
      "\n",
      "IM/D1_AI Predicted Closed vs. IM/D1_Two-Domain: Mann-Whitney-Wilcoxon test two-sided, P_val:5.575e-23 U_stat=1.646e+05\n",
      "FD/D2_AI Predicted Closed vs. FD/D2_Two-Domain: Mann-Whitney-Wilcoxon test two-sided, P_val:4.519e-10 U_stat=1.474e+05\n",
      "FD/D2_AI Predicted Open vs. FD/D2_AI Predicted Closed: Mann-Whitney-Wilcoxon test two-sided, P_val:8.878e-09 U_stat=2.096e+04\n",
      "IM on FD/D1 on D2_AI Predicted Closed vs. IM on FD/D1 on D2_Two-Domain: Mann-Whitney-Wilcoxon test two-sided, P_val:1.447e-21 U_stat=1.629e+05\n",
      "IM on FD/D1 on D2_AI Predicted Open vs. IM on FD/D1 on D2_AI Predicted Closed: Mann-Whitney-Wilcoxon test two-sided, P_val:1.839e-12 U_stat=2.213e+04\n",
      "Full Sequence_AI Predicted Closed vs. Full Sequence_Two-Domain: Mann-Whitney-Wilcoxon test two-sided, P_val:9.056e-33 U_stat=1.743e+05\n",
      "Full Sequence_AI Predicted Open vs. Full Sequence_AI Predicted Closed: Mann-Whitney-Wilcoxon test two-sided, P_val:1.307e-09 U_stat=2.082e+04\n",
      "IM/D1_AI Predicted Open vs. IM/D1_AI Predicted Closed: Mann-Whitney-Wilcoxon test two-sided, P_val:2.125e-01 U_stat=1.469e+04\n",
      "FD/D2_AI Predicted Open vs. FD/D2_Two-Domain: Mann-Whitney-Wilcoxon test two-sided, P_val:7.993e-12 U_stat=7.210e+03\n",
      "IM on FD/D1 on D2_AI Predicted Open vs. IM on FD/D1 on D2_Two-Domain: Mann-Whitney-Wilcoxon test two-sided, P_val:5.269e-15 U_stat=7.456e+03\n",
      "IM/D1_AI Predicted Open vs. IM/D1_Two-Domain: Mann-Whitney-Wilcoxon test two-sided, P_val:1.925e-07 U_stat=6.467e+03\n",
      "Full Sequence_AI Predicted Open vs. Full Sequence_Two-Domain: Mann-Whitney-Wilcoxon test two-sided, P_val:1.402e-14 U_stat=7.400e+03\n"
     ]
    },
    {
     "data": {
      "image/png": "[encoded data removed]",
      "text/plain": [
       "<Figure size 800x600 with 1 Axes>"
      ]
     },
     "metadata": {},
     "output_type": "display_data"
    }
   ],
   "source": [
    "# Plot the data\n",
    "fig, ax = plt.subplots(figsize=(8, 6))\n",
    "sns.boxplot(x='Alignment', y='RMSD', hue='Type', data=af_three_plot, ax=ax, palette=colors)\n",
    "ax.set_ylim(0, 40)\n",
    "ax.set_ylabel('RMSD (Å)', fontsize=14)\n",
    "ax.set_xlabel('Alignment', fontsize=14)\n",
    "ax.set_xticklabels(ax.get_xticklabels(), fontsize=12)\n",
    "ax.set_yticklabels(ax.get_yticklabels(), fontsize=12)\n",
    "ax.legend(title='Type', fontsize=12, title_fontsize=12)\n",
    "\n",
    "\n",
    "# Add the annotations, comparing between structural alignment categories\n",
    "pairs = [[('Full Sequence', 'AI Predicted Open'), ('Full Sequence', 'Two-Domain')],\n",
    "        [('Full Sequence', 'AI Predicted Closed'), ('Full Sequence', 'Two-Domain')],\n",
    "        [('Full Sequence', 'AI Predicted Open'), ('Full Sequence', 'AI Predicted Closed')],\n",
    "        [('IM/D1', 'AI Predicted Open'), ('IM/D1', 'Two-Domain')],\n",
    "        [('IM/D1', 'AI Predicted Closed'), ('IM/D1', 'Two-Domain')],\n",
    "        [('IM/D1', 'AI Predicted Open'), ('IM/D1', 'AI Predicted Closed')],\n",
    "        [('FD/D2', 'AI Predicted Open'), ('FD/D2', 'Two-Domain')],\n",
    "        [('FD/D2', 'AI Predicted Closed'), ('FD/D2', 'Two-Domain')],\n",
    "        [('FD/D2', 'AI Predicted Open'), ('FD/D2', 'AI Predicted Closed')],\n",
    "        [('IM on FD/D1 on D2', 'AI Predicted Open'), ('IM on FD/D1 on D2', 'Two-Domain')],\n",
    "        [('IM on FD/D1 on D2', 'AI Predicted Closed'), ('IM on FD/D1 on D2', 'Two-Domain')],\n",
    "        [('IM on FD/D1 on D2', 'AI Predicted Open'), ('IM on FD/D1 on D2', 'AI Predicted Closed')]]\n",
    "subcat_order = ['Full Sequence', 'IM/D1', 'FD/D2', 'IM on FD/D1 on D2']\n",
    "annotator = Annotator(ax, pairs, data=af_three_plot, x='Alignment', y='RMSD', order=subcat_order, hue='Type')\n",
    "annotator.configure(test='Mann-Whitney', text_format='star', loc='outside')\n",
    "annotator.apply_and_annotate()\n",
    "\n",
    "plt.savefig('./project_pipeline/data/figures/by_af_conformation_rmsd.png', dpi=500, bbox_inches='tight')\n",
    "plt.show()"
   ]
  }
 ],
 "metadata": {
  "kernelspec": {
   "display_name": "analysis",
   "language": "python",
   "name": "python3"
  },
  "language_info": {
   "codemirror_mode": {
    "name": "ipython",
    "version": 3
   },
   "file_extension": ".py",
   "mimetype": "text/x-python",
   "name": "python",
   "nbconvert_exporter": "python",
   "pygments_lexer": "ipython3",
   "version": "3.11.9"
  }
 },
 "nbformat": 4,
 "nbformat_minor": 2
}
