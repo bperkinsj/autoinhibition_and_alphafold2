{
 "cells": [
  {
   "cell_type": "markdown",
   "metadata": {},
   "source": [
    "This is a notebook for fixing the residue numbers of my AF3 trimmed PDB files."
   ]
  },
  {
   "cell_type": "code",
   "execution_count": 37,
   "metadata": {},
   "outputs": [],
   "source": [
    "from biopandas.pdb import PandasPdb\n",
    "import project_pipeline.scripts.utils as utils\n",
    "import numpy as np\n",
    "import pandas as pd\n",
    "import os"
   ]
  },
  {
   "cell_type": "code",
   "execution_count": 38,
   "metadata": {},
   "outputs": [],
   "source": [
    "def fix_trimmed(df, path):\n",
    "\n",
    "    for index, row in df.iterrows():\n",
    "        uniprot = row['UniProt']\n",
    "        region_1_range = utils.string2range(row['region_1'])\n",
    "        region_2_range = utils.string2range(row['region_2'])\n",
    "\n",
    "        both_ranges = set(region_1_range + region_2_range)\n",
    "        min_range = min(both_ranges)\n",
    "\n",
    "        if min == 1:\n",
    "            continue\n",
    "\n",
    "        else:\n",
    "            print(f'Fixing {uniprot}...')\n",
    "            uniprot_dir = os.path.join(path, uniprot)\n",
    "            files = os.listdir(uniprot_dir)\n",
    "            for f in files:\n",
    "                if '.pdb' in f:\n",
    "                    ppdb = PandasPdb().read_pdb(os.path.join(uniprot_dir, f))\n",
    "                    protein = ppdb.df['ATOM']\n",
    "                    residues = protein['residue_number'].tolist()\n",
    "                    if residues[0] == min_range:\n",
    "                        continue\n",
    "                    else:\n",
    "                        new_residues = [(r + (min_range - 1)) for r in residues]\n",
    "                        protein['residue_number'] = new_residues\n",
    "                        ppdb.df['ATOM'] = protein\n",
    "                        ppdb.to_pdb(path=os.path.join(uniprot_dir, f))"
   ]
  },
  {
   "cell_type": "code",
   "execution_count": 39,
   "metadata": {},
   "outputs": [
    {
     "name": "stdout",
     "output_type": "stream",
     "text": [
      "Fixing P07038...\n",
      "Fixing Q8NQJ3...\n",
      "Fixing P60240...\n",
      "Fixing P28482...\n",
      "Fixing P62826...\n",
      "Fixing P12931...\n",
      "Fixing P22681...\n",
      "Fixing P21333...\n",
      "Fixing Q9Y6K1...\n",
      "Fixing P26358...\n",
      "Fixing P29350...\n",
      "Fixing P35520...\n",
      "Fixing P27577...\n",
      "Fixing O08967...\n",
      "Fixing P53042...\n",
      "Fixing P00579...\n"
     ]
    }
   ],
   "source": [
    "df = pd.read_csv('./project_pipeline/data/trimmed_proteins.csv', sep=';')\n",
    "df = df.drop_duplicates()\n",
    "\n",
    "path = './project_pipeline/data/input/Colabfold_cif/trimmed/'\n",
    "\n",
    "df2 = fix_trimmed(df, path)"
   ]
  }
 ],
 "metadata": {
  "kernelspec": {
   "display_name": "rmsd_snek",
   "language": "python",
   "name": "python3"
  },
  "language_info": {
   "codemirror_mode": {
    "name": "ipython",
    "version": 3
   },
   "file_extension": ".py",
   "mimetype": "text/x-python",
   "name": "python",
   "nbconvert_exporter": "python",
   "pygments_lexer": "ipython3",
   "version": "3.8.16"
  }
 },
 "nbformat": 4,
 "nbformat_minor": 2
}
