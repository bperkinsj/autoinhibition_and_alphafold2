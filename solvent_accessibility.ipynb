{
 "cells": [
  {
   "cell_type": "markdown",
   "metadata": {},
   "source": [
    "This file is for gathering solvent accessable surface areas. Unfortunately, I cannot run this with my main pipeline because it requires a newer version of python and biopython than I have in my main pipeline and I don't want to break my main pipeline."
   ]
  },
  {
   "cell_type": "code",
   "execution_count": 1,
   "metadata": {},
   "outputs": [],
   "source": [
    "from Bio.PDB.MMCIFParser import MMCIFParser\n",
    "from Bio.PDB.SASA import ShrakeRupley\n",
    "import pandas as pd\n",
    "import os"
   ]
  },
  {
   "cell_type": "code",
   "execution_count": 2,
   "metadata": {},
   "outputs": [],
   "source": [
    "# # Gather the solvent accessibility values for each protein\n",
    "\n",
    "def get_sasa(row, path):\n",
    "    \n",
    "    fn = row['af_filename']\n",
    "    fp = os.path.join(path, fn)\n",
    "\n",
    "    p = MMCIFParser(QUIET=1)\n",
    "    struct = p.get_structure('x', fp)\n",
    "    sr = ShrakeRupley()\n",
    "    sr.compute(struct, level='S')\n",
    "    row['sasa'] = round(struct.sasa, 2)\n",
    "\n",
    "    return row\n"
   ]
  },
  {
   "cell_type": "code",
   "execution_count": 3,
   "metadata": {},
   "outputs": [],
   "source": [
    "path1 = './project_pipeline/data/input/Alphafold_cif'\n",
    "path2 = './project_pipeline/data/input/Alphafold_multi_domain'\n",
    "\n",
    "df = pd.read_csv('./project_pipeline/data/proteins.tsv', sep='\\t')\n",
    "df = df[['uniprot', 'af_filename']].drop_duplicates().reset_index(drop=True)\n",
    "df = df.apply(get_sasa, args=(path1,), axis=1)\n",
    "\n",
    "md = pd.read_csv('./project_pipeline/data/md_rmsds.tsv', sep='\\t')\n",
    "md = md[['uniprot', 'af_filename']].drop_duplicates().reset_index(drop=True)\n",
    "md = md.apply(get_sasa, args=(path2,), axis=1)"
   ]
  },
  {
   "cell_type": "code",
   "execution_count": 4,
   "metadata": {},
   "outputs": [],
   "source": [
    "df.to_csv('./project_pipeline/data/ai_full_depth_sasa.tsv', sep='\\t', index=False)\n",
    "md.to_csv('./project_pipeline/data/md_full_depth_sasa.tsv', sep='\\t', index=False)"
   ]
  }
 ],
 "metadata": {
  "kernelspec": {
   "display_name": "rmsd_snek",
   "language": "python",
   "name": "python3"
  },
  "language_info": {
   "codemirror_mode": {
    "name": "ipython",
    "version": 3
   },
   "file_extension": ".py",
   "mimetype": "text/x-python",
   "name": "python",
   "nbconvert_exporter": "python",
   "pygments_lexer": "ipython3",
   "version": "3.8.16"
  }
 },
 "nbformat": 4,
 "nbformat_minor": 2
}
