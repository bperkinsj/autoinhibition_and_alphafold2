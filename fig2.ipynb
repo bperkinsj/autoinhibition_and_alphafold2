{
 "cells": [
  {
   "cell_type": "code",
   "execution_count": 4,
   "metadata": {},
   "outputs": [],
   "source": [
    "from matplotlib.ticker import FuncFormatter\n",
    "from statannotations.Annotator import Annotator\n",
    "from scipy.stats import mannwhitneyu\n",
    "from pandas.plotting import table\n",
    "import matplotlib.pyplot as plt\n",
    "import dataframe_image as dfi\n",
    "import pandas as pd\n",
    "import seaborn as sns\n",
    "import matplotlib as mpl\n",
    "import numpy as np\n",
    "import scipy as sp\n",
    "import scienceplots"
   ]
  },
  {
   "cell_type": "code",
   "execution_count": 5,
   "metadata": {},
   "outputs": [
    {
     "data": {
      "text/html": [
       "<div>\n",
       "<style scoped>\n",
       "    .dataframe tbody tr th:only-of-type {\n",
       "        vertical-align: middle;\n",
       "    }\n",
       "\n",
       "    .dataframe tbody tr th {\n",
       "        vertical-align: top;\n",
       "    }\n",
       "\n",
       "    .dataframe thead th {\n",
       "        text-align: right;\n",
       "    }\n",
       "</style>\n",
       "<table border=\"1\" class=\"dataframe\">\n",
       "  <thead>\n",
       "    <tr style=\"text-align: right;\">\n",
       "      <th></th>\n",
       "      <th>uniprot</th>\n",
       "      <th>region_1</th>\n",
       "      <th>region_2</th>\n",
       "      <th>af_filename</th>\n",
       "      <th>interacting_residue_pairs</th>\n",
       "      <th>interface_residues</th>\n",
       "      <th>number_interface_residues</th>\n",
       "      <th>region_1 search</th>\n",
       "      <th>region_2 search</th>\n",
       "    </tr>\n",
       "  </thead>\n",
       "  <tbody>\n",
       "    <tr>\n",
       "      <th>0</th>\n",
       "      <td>P29476</td>\n",
       "      <td>815-870</td>\n",
       "      <td>757-949</td>\n",
       "      <td>F-P29476-F1-model_v3.cif</td>\n",
       "      <td>[(834, 837), (847, 850), (850, 854), (845, 901...</td>\n",
       "      <td>{758, 759, 760, 761, 762, 787, 788, 789, 791, ...</td>\n",
       "      <td>93.0</td>\n",
       "      <td>[815, 816, 817, 818, 819, 820, 821, 822, 823, ...</td>\n",
       "      <td>[757, 758, 759, 760, 761, 762, 763, 764, 765, ...</td>\n",
       "    </tr>\n",
       "    <tr>\n",
       "      <th>1</th>\n",
       "      <td>P18031</td>\n",
       "      <td>353-387</td>\n",
       "      <td>2-277</td>\n",
       "      <td>F-P18031-F1-model_v3.cif</td>\n",
       "      <td>NaN</td>\n",
       "      <td>NaN</td>\n",
       "      <td>NaN</td>\n",
       "      <td>[353, 354, 355, 356, 357, 358, 359, 360, 361, ...</td>\n",
       "      <td>[2, 3, 4, 5, 6, 7, 8, 9, 10, 11, 12, 13, 14, 1...</td>\n",
       "    </tr>\n",
       "    <tr>\n",
       "      <th>2</th>\n",
       "      <td>P00533</td>\n",
       "      <td>166-309,482-618</td>\n",
       "      <td>712-979</td>\n",
       "      <td>F-P00533-F1-model_v3.cif</td>\n",
       "      <td>NaN</td>\n",
       "      <td>NaN</td>\n",
       "      <td>NaN</td>\n",
       "      <td>[512, 513, 514, 515, 516, 517, 518, 519, 520, ...</td>\n",
       "      <td>[712, 713, 714, 715, 716, 717, 718, 719, 720, ...</td>\n",
       "    </tr>\n",
       "    <tr>\n",
       "      <th>3</th>\n",
       "      <td>P04637</td>\n",
       "      <td>364-393</td>\n",
       "      <td>102-292</td>\n",
       "      <td>F-P04637-F1-model_v3.cif</td>\n",
       "      <td>NaN</td>\n",
       "      <td>NaN</td>\n",
       "      <td>NaN</td>\n",
       "      <td>[364, 365, 366, 367, 368, 369, 370, 371, 372, ...</td>\n",
       "      <td>[102, 103, 104, 105, 106, 107, 108, 109, 110, ...</td>\n",
       "    </tr>\n",
       "    <tr>\n",
       "      <th>4</th>\n",
       "      <td>O14757</td>\n",
       "      <td>391-476</td>\n",
       "      <td>9-265</td>\n",
       "      <td>F-O14757-F1-model_v3.cif</td>\n",
       "      <td>[(205, 449), (96, 452), (93, 452), (207, 420),...</td>\n",
       "      <td>{134, 13, 14, 17, 419, 420, 422, 442, 447, 448...</td>\n",
       "      <td>28.0</td>\n",
       "      <td>[391, 392, 393, 394, 395, 396, 397, 398, 399, ...</td>\n",
       "      <td>[9, 10, 11, 12, 13, 14, 15, 16, 17, 18, 19, 20...</td>\n",
       "    </tr>\n",
       "  </tbody>\n",
       "</table>\n",
       "</div>"
      ],
      "text/plain": [
       "  uniprot         region_1 region_2               af_filename  \\\n",
       "0  P29476          815-870  757-949  F-P29476-F1-model_v3.cif   \n",
       "1  P18031          353-387    2-277  F-P18031-F1-model_v3.cif   \n",
       "2  P00533  166-309,482-618  712-979  F-P00533-F1-model_v3.cif   \n",
       "3  P04637          364-393  102-292  F-P04637-F1-model_v3.cif   \n",
       "4  O14757          391-476    9-265  F-O14757-F1-model_v3.cif   \n",
       "\n",
       "                           interacting_residue_pairs  \\\n",
       "0  [(834, 837), (847, 850), (850, 854), (845, 901...   \n",
       "1                                                NaN   \n",
       "2                                                NaN   \n",
       "3                                                NaN   \n",
       "4  [(205, 449), (96, 452), (93, 452), (207, 420),...   \n",
       "\n",
       "                                  interface_residues  \\\n",
       "0  {758, 759, 760, 761, 762, 787, 788, 789, 791, ...   \n",
       "1                                                NaN   \n",
       "2                                                NaN   \n",
       "3                                                NaN   \n",
       "4  {134, 13, 14, 17, 419, 420, 422, 442, 447, 448...   \n",
       "\n",
       "   number_interface_residues  \\\n",
       "0                       93.0   \n",
       "1                        NaN   \n",
       "2                        NaN   \n",
       "3                        NaN   \n",
       "4                       28.0   \n",
       "\n",
       "                                     region_1 search  \\\n",
       "0  [815, 816, 817, 818, 819, 820, 821, 822, 823, ...   \n",
       "1  [353, 354, 355, 356, 357, 358, 359, 360, 361, ...   \n",
       "2  [512, 513, 514, 515, 516, 517, 518, 519, 520, ...   \n",
       "3  [364, 365, 366, 367, 368, 369, 370, 371, 372, ...   \n",
       "4  [391, 392, 393, 394, 395, 396, 397, 398, 399, ...   \n",
       "\n",
       "                                     region_2 search  \n",
       "0  [757, 758, 759, 760, 761, 762, 763, 764, 765, ...  \n",
       "1  [2, 3, 4, 5, 6, 7, 8, 9, 10, 11, 12, 13, 14, 1...  \n",
       "2  [712, 713, 714, 715, 716, 717, 718, 719, 720, ...  \n",
       "3  [102, 103, 104, 105, 106, 107, 108, 109, 110, ...  \n",
       "4  [9, 10, 11, 12, 13, 14, 15, 16, 17, 18, 19, 20...  "
      ]
     },
     "execution_count": 5,
     "metadata": {},
     "output_type": "execute_result"
    }
   ],
   "source": [
    "# Load the data\n",
    "cl = pd.read_csv('./project_pipeline/data/classified_files.tsv', sep='\\t')\n",
    "afinf = pd.read_csv('./project_pipeline/data/alphafold_interface.tsv', sep='\\t')\n",
    "\n",
    "afinf.head()"
   ]
  },
  {
   "cell_type": "code",
   "execution_count": 6,
   "metadata": {},
   "outputs": [],
   "source": [
    "# Assign uniprot conformations. Closed if any interface residues, open if none.\n",
    "afinf['af_conformation'] = afinf['number_interface_residues'].apply(lambda x: 'Closed' if x > 0 else 'Open')"
   ]
  },
  {
   "cell_type": "code",
   "execution_count": 7,
   "metadata": {},
   "outputs": [
    {
     "name": "stdout",
     "output_type": "stream",
     "text": [
      "Closed    116\n",
      "Open       12\n",
      "Name: conformation, dtype: int64\n"
     ]
    }
   ],
   "source": [
    "# We need to group by protein (uniprot) and find the minimum value of the 2_comp column\n",
    "\n",
    "exem = cl.sort_values('2_comp').groupby('uniprot', as_index=False).first()\n",
    "\n",
    "print(exem['conformation'].value_counts())"
   ]
  },
  {
   "cell_type": "code",
   "execution_count": 8,
   "metadata": {},
   "outputs": [
    {
     "data": {
      "text/html": [
       "<div>\n",
       "<style scoped>\n",
       "    .dataframe tbody tr th:only-of-type {\n",
       "        vertical-align: middle;\n",
       "    }\n",
       "\n",
       "    .dataframe tbody tr th {\n",
       "        vertical-align: top;\n",
       "    }\n",
       "\n",
       "    .dataframe thead th {\n",
       "        text-align: right;\n",
       "    }\n",
       "</style>\n",
       "<table border=\"1\" class=\"dataframe\">\n",
       "  <thead>\n",
       "    <tr style=\"text-align: right;\">\n",
       "      <th></th>\n",
       "      <th>uniprot</th>\n",
       "      <th>pdb</th>\n",
       "      <th>region_1</th>\n",
       "      <th>region_2</th>\n",
       "      <th>complex_rmsd</th>\n",
       "      <th>percent_region_1</th>\n",
       "      <th>percent_region_2</th>\n",
       "      <th>2_aligned</th>\n",
       "      <th>2_comp</th>\n",
       "      <th>state</th>\n",
       "      <th>conformation</th>\n",
       "      <th>af_conformation</th>\n",
       "    </tr>\n",
       "  </thead>\n",
       "  <tbody>\n",
       "    <tr>\n",
       "      <th>0</th>\n",
       "      <td>A0A0R4I961</td>\n",
       "      <td>6gtv</td>\n",
       "      <td>155-279</td>\n",
       "      <td>3-147</td>\n",
       "      <td>1.450</td>\n",
       "      <td>100.000000</td>\n",
       "      <td>100.000000</td>\n",
       "      <td>1.673</td>\n",
       "      <td>1.135</td>\n",
       "      <td>Active</td>\n",
       "      <td>Closed</td>\n",
       "      <td>Closed</td>\n",
       "    </tr>\n",
       "    <tr>\n",
       "      <th>1</th>\n",
       "      <td>B5XAZ0</td>\n",
       "      <td>7bfl</td>\n",
       "      <td>116-120</td>\n",
       "      <td>1-115</td>\n",
       "      <td>2.591</td>\n",
       "      <td>100.000000</td>\n",
       "      <td>79.130435</td>\n",
       "      <td>2.760</td>\n",
       "      <td>0.807</td>\n",
       "      <td>Autoinhibited</td>\n",
       "      <td>Closed</td>\n",
       "      <td>Closed</td>\n",
       "    </tr>\n",
       "    <tr>\n",
       "      <th>2</th>\n",
       "      <td>D2AJU0</td>\n",
       "      <td>6lol</td>\n",
       "      <td>57-228</td>\n",
       "      <td>251-545</td>\n",
       "      <td>3.539</td>\n",
       "      <td>100.000000</td>\n",
       "      <td>81.694915</td>\n",
       "      <td>2.829</td>\n",
       "      <td>7.860</td>\n",
       "      <td>Autoinhibited</td>\n",
       "      <td>Closed</td>\n",
       "      <td>Closed</td>\n",
       "    </tr>\n",
       "    <tr>\n",
       "      <th>3</th>\n",
       "      <td>O00571</td>\n",
       "      <td>7liu</td>\n",
       "      <td>132-181</td>\n",
       "      <td>211-575</td>\n",
       "      <td>2.074</td>\n",
       "      <td>94.000000</td>\n",
       "      <td>100.000000</td>\n",
       "      <td>2.105</td>\n",
       "      <td>1.984</td>\n",
       "      <td>Autoinhibited</td>\n",
       "      <td>Closed</td>\n",
       "      <td>Closed</td>\n",
       "    </tr>\n",
       "    <tr>\n",
       "      <th>4</th>\n",
       "      <td>O08722</td>\n",
       "      <td>3g5b</td>\n",
       "      <td>541-687</td>\n",
       "      <td>688-828,853-942</td>\n",
       "      <td>0.922</td>\n",
       "      <td>99.319728</td>\n",
       "      <td>99.567100</td>\n",
       "      <td>0.959</td>\n",
       "      <td>0.927</td>\n",
       "      <td>Autoinhibited</td>\n",
       "      <td>Closed</td>\n",
       "      <td>Closed</td>\n",
       "    </tr>\n",
       "  </tbody>\n",
       "</table>\n",
       "</div>"
      ],
      "text/plain": [
       "      uniprot   pdb region_1         region_2  complex_rmsd  percent_region_1  \\\n",
       "0  A0A0R4I961  6gtv  155-279            3-147         1.450        100.000000   \n",
       "1      B5XAZ0  7bfl  116-120            1-115         2.591        100.000000   \n",
       "2      D2AJU0  6lol   57-228          251-545         3.539        100.000000   \n",
       "3      O00571  7liu  132-181          211-575         2.074         94.000000   \n",
       "4      O08722  3g5b  541-687  688-828,853-942         0.922         99.319728   \n",
       "\n",
       "   percent_region_2  2_aligned  2_comp          state conformation  \\\n",
       "0        100.000000      1.673   1.135         Active       Closed   \n",
       "1         79.130435      2.760   0.807  Autoinhibited       Closed   \n",
       "2         81.694915      2.829   7.860  Autoinhibited       Closed   \n",
       "3        100.000000      2.105   1.984  Autoinhibited       Closed   \n",
       "4         99.567100      0.959   0.927  Autoinhibited       Closed   \n",
       "\n",
       "  af_conformation  \n",
       "0          Closed  \n",
       "1          Closed  \n",
       "2          Closed  \n",
       "3          Closed  \n",
       "4          Closed  "
      ]
     },
     "execution_count": 8,
     "metadata": {},
     "output_type": "execute_result"
    }
   ],
   "source": [
    "# Add to classified files\n",
    "af_conf = afinf[['uniprot', 'af_conformation']]\n",
    "merge = pd.merge(exem, af_conf, on='uniprot', how='left')\n",
    "\n",
    "merge = merge.drop(columns=['organism', 'date', 'notes'])\n",
    "\n",
    "merge.head()"
   ]
  },
  {
   "cell_type": "code",
   "execution_count": 9,
   "metadata": {},
   "outputs": [
    {
     "data": {
      "text/plain": [
       "Closed    115\n",
       "Open       13\n",
       "Name: af_conformation, dtype: int64"
      ]
     },
     "execution_count": 9,
     "metadata": {},
     "output_type": "execute_result"
    }
   ],
   "source": [
    "uni_only = merge[['uniprot', 'af_conformation']].drop_duplicates().reset_index(drop=True)\n",
    "vals = uni_only['af_conformation'].value_counts()\n",
    "vals"
   ]
  },
  {
   "cell_type": "code",
   "execution_count": 10,
   "metadata": {},
   "outputs": [
    {
     "data": {
      "text/plain": [
       "Autoinhibited    67\n",
       "Active           30\n",
       "Name: state, dtype: int64"
      ]
     },
     "execution_count": 10,
     "metadata": {},
     "output_type": "execute_result"
    }
   ],
   "source": [
    "states = merge['state'].value_counts()\n",
    "states"
   ]
  },
  {
   "cell_type": "code",
   "execution_count": 11,
   "metadata": {},
   "outputs": [
    {
     "data": {
      "text/plain": [
       "Closed    116\n",
       "Open       12\n",
       "Name: conformation, dtype: int64"
      ]
     },
     "execution_count": 11,
     "metadata": {},
     "output_type": "execute_result"
    }
   ],
   "source": [
    "confs = merge['conformation'].value_counts()\n",
    "confs"
   ]
  },
  {
   "cell_type": "code",
   "execution_count": 12,
   "metadata": {},
   "outputs": [
    {
     "data": {
      "text/plain": [
       "Closed    115\n",
       "Open       13\n",
       "Name: af_conformation, dtype: int64"
      ]
     },
     "execution_count": 12,
     "metadata": {},
     "output_type": "execute_result"
    }
   ],
   "source": [
    "af_confs = merge['af_conformation'].value_counts()\n",
    "af_confs"
   ]
  },
  {
   "cell_type": "code",
   "execution_count": 13,
   "metadata": {},
   "outputs": [
    {
     "data": {
      "text/html": [
       "<div>\n",
       "<style scoped>\n",
       "    .dataframe tbody tr th:only-of-type {\n",
       "        vertical-align: middle;\n",
       "    }\n",
       "\n",
       "    .dataframe tbody tr th {\n",
       "        vertical-align: top;\n",
       "    }\n",
       "\n",
       "    .dataframe thead th {\n",
       "        text-align: right;\n",
       "    }\n",
       "</style>\n",
       "<table border=\"1\" class=\"dataframe\">\n",
       "  <thead>\n",
       "    <tr style=\"text-align: right;\">\n",
       "      <th>conformation</th>\n",
       "      <th>Closed</th>\n",
       "      <th>Open</th>\n",
       "    </tr>\n",
       "    <tr>\n",
       "      <th>state</th>\n",
       "      <th></th>\n",
       "      <th></th>\n",
       "    </tr>\n",
       "  </thead>\n",
       "  <tbody>\n",
       "    <tr>\n",
       "      <th>Active</th>\n",
       "      <td>25</td>\n",
       "      <td>5</td>\n",
       "    </tr>\n",
       "    <tr>\n",
       "      <th>Autoinhibited</th>\n",
       "      <td>64</td>\n",
       "      <td>3</td>\n",
       "    </tr>\n",
       "  </tbody>\n",
       "</table>\n",
       "</div>"
      ],
      "text/plain": [
       "conformation   Closed  Open\n",
       "state                      \n",
       "Active             25     5\n",
       "Autoinhibited      64     3"
      ]
     },
     "execution_count": 13,
     "metadata": {},
     "output_type": "execute_result"
    }
   ],
   "source": [
    "s_v_c = merge.groupby(['state', 'conformation']).size().unstack().fillna(0)\n",
    "s_v_c"
   ]
  },
  {
   "cell_type": "code",
   "execution_count": 14,
   "metadata": {},
   "outputs": [
    {
     "data": {
      "text/html": [
       "<div>\n",
       "<style scoped>\n",
       "    .dataframe tbody tr th:only-of-type {\n",
       "        vertical-align: middle;\n",
       "    }\n",
       "\n",
       "    .dataframe tbody tr th {\n",
       "        vertical-align: top;\n",
       "    }\n",
       "\n",
       "    .dataframe thead th {\n",
       "        text-align: right;\n",
       "    }\n",
       "</style>\n",
       "<table border=\"1\" class=\"dataframe\">\n",
       "  <thead>\n",
       "    <tr style=\"text-align: right;\">\n",
       "      <th>af_conformation</th>\n",
       "      <th>Closed</th>\n",
       "      <th>Open</th>\n",
       "    </tr>\n",
       "    <tr>\n",
       "      <th>conformation</th>\n",
       "      <th></th>\n",
       "      <th></th>\n",
       "    </tr>\n",
       "  </thead>\n",
       "  <tbody>\n",
       "    <tr>\n",
       "      <th>Closed</th>\n",
       "      <td>110</td>\n",
       "      <td>6</td>\n",
       "    </tr>\n",
       "    <tr>\n",
       "      <th>Open</th>\n",
       "      <td>5</td>\n",
       "      <td>7</td>\n",
       "    </tr>\n",
       "  </tbody>\n",
       "</table>\n",
       "</div>"
      ],
      "text/plain": [
       "af_conformation  Closed  Open\n",
       "conformation                 \n",
       "Closed              110     6\n",
       "Open                  5     7"
      ]
     },
     "execution_count": 14,
     "metadata": {},
     "output_type": "execute_result"
    }
   ],
   "source": [
    "c_v_ac = merge.groupby(['conformation', 'af_conformation']).size().unstack().fillna(0)\n",
    "c_v_ac"
   ]
  },
  {
   "cell_type": "code",
   "execution_count": 15,
   "metadata": {},
   "outputs": [
    {
     "data": {
      "text/html": [
       "<div>\n",
       "<style scoped>\n",
       "    .dataframe tbody tr th:only-of-type {\n",
       "        vertical-align: middle;\n",
       "    }\n",
       "\n",
       "    .dataframe tbody tr th {\n",
       "        vertical-align: top;\n",
       "    }\n",
       "\n",
       "    .dataframe thead th {\n",
       "        text-align: right;\n",
       "    }\n",
       "</style>\n",
       "<table border=\"1\" class=\"dataframe\">\n",
       "  <thead>\n",
       "    <tr style=\"text-align: right;\">\n",
       "      <th>af_conformation</th>\n",
       "      <th>Closed</th>\n",
       "      <th>Open</th>\n",
       "    </tr>\n",
       "    <tr>\n",
       "      <th>state</th>\n",
       "      <th></th>\n",
       "      <th></th>\n",
       "    </tr>\n",
       "  </thead>\n",
       "  <tbody>\n",
       "    <tr>\n",
       "      <th>Active</th>\n",
       "      <td>28</td>\n",
       "      <td>2</td>\n",
       "    </tr>\n",
       "    <tr>\n",
       "      <th>Autoinhibited</th>\n",
       "      <td>63</td>\n",
       "      <td>4</td>\n",
       "    </tr>\n",
       "  </tbody>\n",
       "</table>\n",
       "</div>"
      ],
      "text/plain": [
       "af_conformation  Closed  Open\n",
       "state                        \n",
       "Active               28     2\n",
       "Autoinhibited        63     4"
      ]
     },
     "execution_count": 15,
     "metadata": {},
     "output_type": "execute_result"
    }
   ],
   "source": [
    "s_v_ac = merge.groupby(['state', 'af_conformation']).size().unstack().fillna(0)\n",
    "s_v_ac"
   ]
  },
  {
   "cell_type": "code",
   "execution_count": 16,
   "metadata": {},
   "outputs": [
    {
     "data": {
      "text/html": [
       "<div>\n",
       "<style scoped>\n",
       "    .dataframe tbody tr th:only-of-type {\n",
       "        vertical-align: middle;\n",
       "    }\n",
       "\n",
       "    .dataframe tbody tr th {\n",
       "        vertical-align: top;\n",
       "    }\n",
       "\n",
       "    .dataframe thead th {\n",
       "        text-align: right;\n",
       "    }\n",
       "</style>\n",
       "<table border=\"1\" class=\"dataframe\">\n",
       "  <thead>\n",
       "    <tr style=\"text-align: right;\">\n",
       "      <th></th>\n",
       "      <th>conformation</th>\n",
       "      <th>Closed</th>\n",
       "      <th>Open</th>\n",
       "    </tr>\n",
       "    <tr>\n",
       "      <th>state</th>\n",
       "      <th>af_conformation</th>\n",
       "      <th></th>\n",
       "      <th></th>\n",
       "    </tr>\n",
       "  </thead>\n",
       "  <tbody>\n",
       "    <tr>\n",
       "      <th rowspan=\"2\" valign=\"top\">Active</th>\n",
       "      <th>Closed</th>\n",
       "      <td>25.0</td>\n",
       "      <td>3.0</td>\n",
       "    </tr>\n",
       "    <tr>\n",
       "      <th>Open</th>\n",
       "      <td>0.0</td>\n",
       "      <td>2.0</td>\n",
       "    </tr>\n",
       "    <tr>\n",
       "      <th rowspan=\"2\" valign=\"top\">Autoinhibited</th>\n",
       "      <th>Closed</th>\n",
       "      <td>62.0</td>\n",
       "      <td>1.0</td>\n",
       "    </tr>\n",
       "    <tr>\n",
       "      <th>Open</th>\n",
       "      <td>2.0</td>\n",
       "      <td>2.0</td>\n",
       "    </tr>\n",
       "  </tbody>\n",
       "</table>\n",
       "</div>"
      ],
      "text/plain": [
       "conformation                   Closed  Open\n",
       "state         af_conformation              \n",
       "Active        Closed             25.0   3.0\n",
       "              Open                0.0   2.0\n",
       "Autoinhibited Closed             62.0   1.0\n",
       "              Open                2.0   2.0"
      ]
     },
     "execution_count": 16,
     "metadata": {},
     "output_type": "execute_result"
    }
   ],
   "source": [
    "s_v_ac_v_c = merge.groupby(['state', 'af_conformation', 'conformation']).size().unstack().fillna(0)\n",
    "s_v_ac_v_c"
   ]
  }
 ],
 "metadata": {
  "kernelspec": {
   "display_name": "analysis",
   "language": "python",
   "name": "python3"
  },
  "language_info": {
   "codemirror_mode": {
    "name": "ipython",
    "version": 3
   },
   "file_extension": ".py",
   "mimetype": "text/x-python",
   "name": "python",
   "nbconvert_exporter": "python",
   "pygments_lexer": "ipython3",
   "version": "3.11.9"
  }
 },
 "nbformat": 4,
 "nbformat_minor": 2
}
