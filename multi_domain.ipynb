{
 "cells": [
  {
   "cell_type": "markdown",
   "metadata": {},
   "source": [
    "Code to retrieve multi-domain proteins for analysis of domain to domain predicted aligned error."
   ]
  },
  {
   "cell_type": "code",
   "execution_count": 1,
   "metadata": {},
   "outputs": [],
   "source": [
    "import requests\n",
    "import pandas as pd\n",
    "import numpy as np\n",
    "import random\n",
    "import csv"
   ]
  },
  {
   "cell_type": "code",
   "execution_count": 3,
   "metadata": {},
   "outputs": [],
   "source": [
    "'''\n",
    "Build the PDB Search API request\n",
    "'''\n",
    "\n",
    "# Set the search parameters\n",
    "url = 'https://search.rcsb.org/rcsbsearch/v2/query'\n",
    "query = {\n",
    "  \"query\": {\n",
    "    \"type\": \"group\",\n",
    "    \"nodes\": [\n",
    "      {\n",
    "        \"type\": \"group\",\n",
    "        \"logical_operator\": \"and\",\n",
    "        \"nodes\": [\n",
    "          {\n",
    "            \"type\": \"terminal\",\n",
    "            \"service\": \"text\",\n",
    "            \"parameters\": {\n",
    "              \"attribute\": \"rcsb_polymer_instance_annotation.annotation_lineage.id\",\n",
    "              \"operator\": \"exact_match\",\n",
    "              \"value\": \"56572\",\n",
    "              \"negation\": False\n",
    "            }\n",
    "          },\n",
    "          {\n",
    "            \"type\": \"terminal\",\n",
    "            \"service\": \"text\",\n",
    "            \"parameters\": {\n",
    "              \"attribute\": \"rcsb_polymer_instance_annotation.type\",\n",
    "              \"operator\": \"exact_match\",\n",
    "              \"value\": \"SCOP\",\n",
    "              \"negation\": False\n",
    "            }\n",
    "          }\n",
    "        ],\n",
    "        \"label\": \"nested-attribute\"\n",
    "      },\n",
    "    ],\n",
    "    \"logical_operator\": \"and\",\n",
    "    \"label\": \"text\"\n",
    "  },\n",
    "  \"return_type\": \"polymer_entity\",\n",
    "  \"request_options\": {\n",
    "    \"group_by_return_type\": \"groups\",\n",
    "    \"group_by\": {\n",
    "      \"aggregation_method\": \"matching_uniprot_accession\",\n",
    "      \"ranking_criteria_type\": {\n",
    "        \"sort_by\": \"rcsb_entry_info.resolution_combined\",\n",
    "        \"direction\": \"asc\"\n",
    "      }\n",
    "    },\n",
    "    \"return_all_hits\": True,\n",
    "    \"results_content_type\": [\n",
    "      \"experimental\"\n",
    "    ],\n",
    "    \"sort\": [\n",
    "      {\n",
    "        \"sort_by\": \"score\",\n",
    "        \"direction\": \"desc\"\n",
    "      },\n",
    "      {\n",
    "        \"sort_by\": \"size\",\n",
    "        \"direction\": \"desc\"\n",
    "      }\n",
    "    ],\n",
    "    \"scoring_strategy\": \"combined\"\n",
    "  }\n",
    "}"
   ]
  },
  {
   "cell_type": "code",
   "execution_count": 4,
   "metadata": {},
   "outputs": [],
   "source": [
    "response = requests.post(url, json=query)\n",
    "\n",
    "response_dic = response.json()\n",
    "\n",
    "# Get the PDB IDs\n",
    "group_set = response_dic['group_set']\n",
    "\n",
    "# Get the list of uniprot ids\n",
    "uniprots = [group_set[i]['identifier'] for i in range(len(group_set))]\n",
    "\n",
    "\n",
    "# with open('./project_pipeline/data/multi_domain_uniprots.csv', 'w') as f:\n",
    "#     writer = csv.writer(f)\n",
    "#     writer.writerow(['uniprot'])\n",
    "#     writer.writerows(uniprots)\n"
   ]
  },
  {
   "cell_type": "code",
   "execution_count": 5,
   "metadata": {},
   "outputs": [
    {
     "name": "stdout",
     "output_type": "stream",
     "text": [
      "Getting domains for P03366\n",
      "Getting domains for P33334\n",
      "Getting domains for P04585\n",
      "Getting domains for P12497\n",
      "Getting domains for P04050\n",
      "Getting domains for P08518\n",
      "Getting domains for P03300\n",
      "Getting domains for P03303\n",
      "Getting domains for P03367\n",
      "Getting domains for Q97W02\n",
      "Getting domains for Q38087\n",
      "Getting domains for P00811\n",
      "Getting domains for P26663\n",
      "Getting domains for Q8RQE9\n",
      "Getting domains for Q8RQE8\n",
      "Getting domains for P62593\n",
      "Getting domains for P19821\n",
      "Getting domains for Q99ZW2\n"
     ]
    },
    {
     "ename": "KeyboardInterrupt",
     "evalue": "",
     "output_type": "error",
     "traceback": [
      "\u001b[0;31m---------------------------------------------------------------------------\u001b[0m",
      "\u001b[0;31mKeyboardInterrupt\u001b[0m                         Traceback (most recent call last)",
      "\u001b[1;32m/home/bjechow/Documents/gsponer_lab/autoinhibition_protein_data/multi_domain.ipynb Cell 5\u001b[0m line \u001b[0;36m4\n\u001b[1;32m     <a href='vscode-notebook-cell:/home/bjechow/Documents/gsponer_lab/autoinhibition_protein_data/multi_domain.ipynb#W4sZmlsZQ%3D%3D?line=39'>40</a>\u001b[0m     domains_df \u001b[39m=\u001b[39m pd\u001b[39m.\u001b[39mDataFrame\u001b[39m.\u001b[39mfrom_dict(domains, orient\u001b[39m=\u001b[39m\u001b[39m'\u001b[39m\u001b[39mcolumns\u001b[39m\u001b[39m'\u001b[39m)\n\u001b[1;32m     <a href='vscode-notebook-cell:/home/bjechow/Documents/gsponer_lab/autoinhibition_protein_data/multi_domain.ipynb#W4sZmlsZQ%3D%3D?line=41'>42</a>\u001b[0m     \u001b[39mreturn\u001b[39;00m domains_df\n\u001b[0;32m---> <a href='vscode-notebook-cell:/home/bjechow/Documents/gsponer_lab/autoinhibition_protein_data/multi_domain.ipynb#W4sZmlsZQ%3D%3D?line=43'>44</a>\u001b[0m domains_df \u001b[39m=\u001b[39m single_domains(uniprots)\n",
      "\u001b[1;32m/home/bjechow/Documents/gsponer_lab/autoinhibition_protein_data/multi_domain.ipynb Cell 5\u001b[0m line \u001b[0;36m3\n\u001b[1;32m     <a href='vscode-notebook-cell:/home/bjechow/Documents/gsponer_lab/autoinhibition_protein_data/multi_domain.ipynb#W4sZmlsZQ%3D%3D?line=32'>33</a>\u001b[0m \u001b[39mfor\u001b[39;00m i \u001b[39min\u001b[39;00m \u001b[39mrange\u001b[39m(\u001b[39mlen\u001b[39m(uniprots)):\n\u001b[1;32m     <a href='vscode-notebook-cell:/home/bjechow/Documents/gsponer_lab/autoinhibition_protein_data/multi_domain.ipynb#W4sZmlsZQ%3D%3D?line=33'>34</a>\u001b[0m     uniprot_id \u001b[39m=\u001b[39m uniprots[i]\n\u001b[0;32m---> <a href='vscode-notebook-cell:/home/bjechow/Documents/gsponer_lab/autoinhibition_protein_data/multi_domain.ipynb#W4sZmlsZQ%3D%3D?line=34'>35</a>\u001b[0m     region \u001b[39m=\u001b[39m get_domains(uniprot_id)\n\u001b[1;32m     <a href='vscode-notebook-cell:/home/bjechow/Documents/gsponer_lab/autoinhibition_protein_data/multi_domain.ipynb#W4sZmlsZQ%3D%3D?line=35'>36</a>\u001b[0m     domains[\u001b[39m'\u001b[39m\u001b[39muniprot\u001b[39m\u001b[39m'\u001b[39m]\u001b[39m.\u001b[39mappend(uniprot_id)\n\u001b[1;32m     <a href='vscode-notebook-cell:/home/bjechow/Documents/gsponer_lab/autoinhibition_protein_data/multi_domain.ipynb#W4sZmlsZQ%3D%3D?line=36'>37</a>\u001b[0m     domains[\u001b[39m'\u001b[39m\u001b[39mregion\u001b[39m\u001b[39m'\u001b[39m]\u001b[39m.\u001b[39mappend(region)\n",
      "\u001b[1;32m/home/bjechow/Documents/gsponer_lab/autoinhibition_protein_data/multi_domain.ipynb Cell 5\u001b[0m line \u001b[0;36m7\n\u001b[1;32m      <a href='vscode-notebook-cell:/home/bjechow/Documents/gsponer_lab/autoinhibition_protein_data/multi_domain.ipynb#W4sZmlsZQ%3D%3D?line=4'>5</a>\u001b[0m \u001b[39mprint\u001b[39m(\u001b[39mf\u001b[39m\u001b[39m'\u001b[39m\u001b[39mGetting domains for \u001b[39m\u001b[39m{\u001b[39;00muniprot_id\u001b[39m}\u001b[39;00m\u001b[39m'\u001b[39m)\n\u001b[1;32m      <a href='vscode-notebook-cell:/home/bjechow/Documents/gsponer_lab/autoinhibition_protein_data/multi_domain.ipynb#W4sZmlsZQ%3D%3D?line=5'>6</a>\u001b[0m url \u001b[39m=\u001b[39m \u001b[39mf\u001b[39m\u001b[39m'\u001b[39m\u001b[39mhttps://rest.uniprot.org/uniprotkb/search?query=accession:\u001b[39m\u001b[39m{\u001b[39;00muniprot_id\u001b[39m}\u001b[39;00m\u001b[39m&fields=ft_domain\u001b[39m\u001b[39m'\u001b[39m\n\u001b[0;32m----> <a href='vscode-notebook-cell:/home/bjechow/Documents/gsponer_lab/autoinhibition_protein_data/multi_domain.ipynb#W4sZmlsZQ%3D%3D?line=6'>7</a>\u001b[0m response \u001b[39m=\u001b[39m requests\u001b[39m.\u001b[39;49mget(url)\n\u001b[1;32m      <a href='vscode-notebook-cell:/home/bjechow/Documents/gsponer_lab/autoinhibition_protein_data/multi_domain.ipynb#W4sZmlsZQ%3D%3D?line=7'>8</a>\u001b[0m response_dic \u001b[39m=\u001b[39m response\u001b[39m.\u001b[39mjson()\n\u001b[1;32m      <a href='vscode-notebook-cell:/home/bjechow/Documents/gsponer_lab/autoinhibition_protein_data/multi_domain.ipynb#W4sZmlsZQ%3D%3D?line=8'>9</a>\u001b[0m domains \u001b[39m=\u001b[39m []\n",
      "File \u001b[0;32m~/anaconda3/envs/rmsd_snek/lib/python3.8/site-packages/requests/api.py:73\u001b[0m, in \u001b[0;36mget\u001b[0;34m(url, params, **kwargs)\u001b[0m\n\u001b[1;32m     62\u001b[0m \u001b[39mdef\u001b[39;00m \u001b[39mget\u001b[39m(url, params\u001b[39m=\u001b[39m\u001b[39mNone\u001b[39;00m, \u001b[39m*\u001b[39m\u001b[39m*\u001b[39mkwargs):\n\u001b[1;32m     63\u001b[0m \u001b[39m    \u001b[39m\u001b[39mr\u001b[39m\u001b[39m\"\"\"Sends a GET request.\u001b[39;00m\n\u001b[1;32m     64\u001b[0m \n\u001b[1;32m     65\u001b[0m \u001b[39m    :param url: URL for the new :class:`Request` object.\u001b[39;00m\n\u001b[0;32m   (...)\u001b[0m\n\u001b[1;32m     70\u001b[0m \u001b[39m    :rtype: requests.Response\u001b[39;00m\n\u001b[1;32m     71\u001b[0m \u001b[39m    \"\"\"\u001b[39;00m\n\u001b[0;32m---> 73\u001b[0m     \u001b[39mreturn\u001b[39;00m request(\u001b[39m\"\u001b[39;49m\u001b[39mget\u001b[39;49m\u001b[39m\"\u001b[39;49m, url, params\u001b[39m=\u001b[39;49mparams, \u001b[39m*\u001b[39;49m\u001b[39m*\u001b[39;49mkwargs)\n",
      "File \u001b[0;32m~/anaconda3/envs/rmsd_snek/lib/python3.8/site-packages/requests/api.py:59\u001b[0m, in \u001b[0;36mrequest\u001b[0;34m(method, url, **kwargs)\u001b[0m\n\u001b[1;32m     55\u001b[0m \u001b[39m# By using the 'with' statement we are sure the session is closed, thus we\u001b[39;00m\n\u001b[1;32m     56\u001b[0m \u001b[39m# avoid leaving sockets open which can trigger a ResourceWarning in some\u001b[39;00m\n\u001b[1;32m     57\u001b[0m \u001b[39m# cases, and look like a memory leak in others.\u001b[39;00m\n\u001b[1;32m     58\u001b[0m \u001b[39mwith\u001b[39;00m sessions\u001b[39m.\u001b[39mSession() \u001b[39mas\u001b[39;00m session:\n\u001b[0;32m---> 59\u001b[0m     \u001b[39mreturn\u001b[39;00m session\u001b[39m.\u001b[39;49mrequest(method\u001b[39m=\u001b[39;49mmethod, url\u001b[39m=\u001b[39;49murl, \u001b[39m*\u001b[39;49m\u001b[39m*\u001b[39;49mkwargs)\n",
      "File \u001b[0;32m~/anaconda3/envs/rmsd_snek/lib/python3.8/site-packages/requests/sessions.py:587\u001b[0m, in \u001b[0;36mSession.request\u001b[0;34m(self, method, url, params, data, headers, cookies, files, auth, timeout, allow_redirects, proxies, hooks, stream, verify, cert, json)\u001b[0m\n\u001b[1;32m    582\u001b[0m send_kwargs \u001b[39m=\u001b[39m {\n\u001b[1;32m    583\u001b[0m     \u001b[39m\"\u001b[39m\u001b[39mtimeout\u001b[39m\u001b[39m\"\u001b[39m: timeout,\n\u001b[1;32m    584\u001b[0m     \u001b[39m\"\u001b[39m\u001b[39mallow_redirects\u001b[39m\u001b[39m\"\u001b[39m: allow_redirects,\n\u001b[1;32m    585\u001b[0m }\n\u001b[1;32m    586\u001b[0m send_kwargs\u001b[39m.\u001b[39mupdate(settings)\n\u001b[0;32m--> 587\u001b[0m resp \u001b[39m=\u001b[39m \u001b[39mself\u001b[39;49m\u001b[39m.\u001b[39;49msend(prep, \u001b[39m*\u001b[39;49m\u001b[39m*\u001b[39;49msend_kwargs)\n\u001b[1;32m    589\u001b[0m \u001b[39mreturn\u001b[39;00m resp\n",
      "File \u001b[0;32m~/anaconda3/envs/rmsd_snek/lib/python3.8/site-packages/requests/sessions.py:701\u001b[0m, in \u001b[0;36mSession.send\u001b[0;34m(self, request, **kwargs)\u001b[0m\n\u001b[1;32m    698\u001b[0m start \u001b[39m=\u001b[39m preferred_clock()\n\u001b[1;32m    700\u001b[0m \u001b[39m# Send the request\u001b[39;00m\n\u001b[0;32m--> 701\u001b[0m r \u001b[39m=\u001b[39m adapter\u001b[39m.\u001b[39;49msend(request, \u001b[39m*\u001b[39;49m\u001b[39m*\u001b[39;49mkwargs)\n\u001b[1;32m    703\u001b[0m \u001b[39m# Total elapsed time of the request (approximately)\u001b[39;00m\n\u001b[1;32m    704\u001b[0m elapsed \u001b[39m=\u001b[39m preferred_clock() \u001b[39m-\u001b[39m start\n",
      "File \u001b[0;32m~/anaconda3/envs/rmsd_snek/lib/python3.8/site-packages/requests/adapters.py:487\u001b[0m, in \u001b[0;36mHTTPAdapter.send\u001b[0;34m(self, request, stream, timeout, verify, cert, proxies)\u001b[0m\n\u001b[1;32m    484\u001b[0m     timeout \u001b[39m=\u001b[39m TimeoutSauce(connect\u001b[39m=\u001b[39mtimeout, read\u001b[39m=\u001b[39mtimeout)\n\u001b[1;32m    486\u001b[0m \u001b[39mtry\u001b[39;00m:\n\u001b[0;32m--> 487\u001b[0m     resp \u001b[39m=\u001b[39m conn\u001b[39m.\u001b[39;49murlopen(\n\u001b[1;32m    488\u001b[0m         method\u001b[39m=\u001b[39;49mrequest\u001b[39m.\u001b[39;49mmethod,\n\u001b[1;32m    489\u001b[0m         url\u001b[39m=\u001b[39;49murl,\n\u001b[1;32m    490\u001b[0m         body\u001b[39m=\u001b[39;49mrequest\u001b[39m.\u001b[39;49mbody,\n\u001b[1;32m    491\u001b[0m         headers\u001b[39m=\u001b[39;49mrequest\u001b[39m.\u001b[39;49mheaders,\n\u001b[1;32m    492\u001b[0m         redirect\u001b[39m=\u001b[39;49m\u001b[39mFalse\u001b[39;49;00m,\n\u001b[1;32m    493\u001b[0m         assert_same_host\u001b[39m=\u001b[39;49m\u001b[39mFalse\u001b[39;49;00m,\n\u001b[1;32m    494\u001b[0m         preload_content\u001b[39m=\u001b[39;49m\u001b[39mFalse\u001b[39;49;00m,\n\u001b[1;32m    495\u001b[0m         decode_content\u001b[39m=\u001b[39;49m\u001b[39mFalse\u001b[39;49;00m,\n\u001b[1;32m    496\u001b[0m         retries\u001b[39m=\u001b[39;49m\u001b[39mself\u001b[39;49m\u001b[39m.\u001b[39;49mmax_retries,\n\u001b[1;32m    497\u001b[0m         timeout\u001b[39m=\u001b[39;49mtimeout,\n\u001b[1;32m    498\u001b[0m         chunked\u001b[39m=\u001b[39;49mchunked,\n\u001b[1;32m    499\u001b[0m     )\n\u001b[1;32m    501\u001b[0m \u001b[39mexcept\u001b[39;00m (ProtocolError, \u001b[39mOSError\u001b[39;00m) \u001b[39mas\u001b[39;00m err:\n\u001b[1;32m    502\u001b[0m     \u001b[39mraise\u001b[39;00m \u001b[39mConnectionError\u001b[39;00m(err, request\u001b[39m=\u001b[39mrequest)\n",
      "File \u001b[0;32m~/anaconda3/envs/rmsd_snek/lib/python3.8/site-packages/urllib3/connectionpool.py:703\u001b[0m, in \u001b[0;36mHTTPConnectionPool.urlopen\u001b[0;34m(self, method, url, body, headers, retries, redirect, assert_same_host, timeout, pool_timeout, release_conn, chunked, body_pos, **response_kw)\u001b[0m\n\u001b[1;32m    700\u001b[0m     \u001b[39mself\u001b[39m\u001b[39m.\u001b[39m_prepare_proxy(conn)\n\u001b[1;32m    702\u001b[0m \u001b[39m# Make the request on the httplib connection object.\u001b[39;00m\n\u001b[0;32m--> 703\u001b[0m httplib_response \u001b[39m=\u001b[39m \u001b[39mself\u001b[39;49m\u001b[39m.\u001b[39;49m_make_request(\n\u001b[1;32m    704\u001b[0m     conn,\n\u001b[1;32m    705\u001b[0m     method,\n\u001b[1;32m    706\u001b[0m     url,\n\u001b[1;32m    707\u001b[0m     timeout\u001b[39m=\u001b[39;49mtimeout_obj,\n\u001b[1;32m    708\u001b[0m     body\u001b[39m=\u001b[39;49mbody,\n\u001b[1;32m    709\u001b[0m     headers\u001b[39m=\u001b[39;49mheaders,\n\u001b[1;32m    710\u001b[0m     chunked\u001b[39m=\u001b[39;49mchunked,\n\u001b[1;32m    711\u001b[0m )\n\u001b[1;32m    713\u001b[0m \u001b[39m# If we're going to release the connection in ``finally:``, then\u001b[39;00m\n\u001b[1;32m    714\u001b[0m \u001b[39m# the response doesn't need to know about the connection. Otherwise\u001b[39;00m\n\u001b[1;32m    715\u001b[0m \u001b[39m# it will also try to release it and we'll have a double-release\u001b[39;00m\n\u001b[1;32m    716\u001b[0m \u001b[39m# mess.\u001b[39;00m\n\u001b[1;32m    717\u001b[0m response_conn \u001b[39m=\u001b[39m conn \u001b[39mif\u001b[39;00m \u001b[39mnot\u001b[39;00m release_conn \u001b[39melse\u001b[39;00m \u001b[39mNone\u001b[39;00m\n",
      "File \u001b[0;32m~/anaconda3/envs/rmsd_snek/lib/python3.8/site-packages/urllib3/connectionpool.py:386\u001b[0m, in \u001b[0;36mHTTPConnectionPool._make_request\u001b[0;34m(self, conn, method, url, timeout, chunked, **httplib_request_kw)\u001b[0m\n\u001b[1;32m    384\u001b[0m \u001b[39m# Trigger any extra validation we need to do.\u001b[39;00m\n\u001b[1;32m    385\u001b[0m \u001b[39mtry\u001b[39;00m:\n\u001b[0;32m--> 386\u001b[0m     \u001b[39mself\u001b[39;49m\u001b[39m.\u001b[39;49m_validate_conn(conn)\n\u001b[1;32m    387\u001b[0m \u001b[39mexcept\u001b[39;00m (SocketTimeout, BaseSSLError) \u001b[39mas\u001b[39;00m e:\n\u001b[1;32m    388\u001b[0m     \u001b[39m# Py2 raises this as a BaseSSLError, Py3 raises it as socket timeout.\u001b[39;00m\n\u001b[1;32m    389\u001b[0m     \u001b[39mself\u001b[39m\u001b[39m.\u001b[39m_raise_timeout(err\u001b[39m=\u001b[39me, url\u001b[39m=\u001b[39murl, timeout_value\u001b[39m=\u001b[39mconn\u001b[39m.\u001b[39mtimeout)\n",
      "File \u001b[0;32m~/anaconda3/envs/rmsd_snek/lib/python3.8/site-packages/urllib3/connectionpool.py:1042\u001b[0m, in \u001b[0;36mHTTPSConnectionPool._validate_conn\u001b[0;34m(self, conn)\u001b[0m\n\u001b[1;32m   1040\u001b[0m \u001b[39m# Force connect early to allow us to validate the connection.\u001b[39;00m\n\u001b[1;32m   1041\u001b[0m \u001b[39mif\u001b[39;00m \u001b[39mnot\u001b[39;00m \u001b[39mgetattr\u001b[39m(conn, \u001b[39m\"\u001b[39m\u001b[39msock\u001b[39m\u001b[39m\"\u001b[39m, \u001b[39mNone\u001b[39;00m):  \u001b[39m# AppEngine might not have  `.sock`\u001b[39;00m\n\u001b[0;32m-> 1042\u001b[0m     conn\u001b[39m.\u001b[39;49mconnect()\n\u001b[1;32m   1044\u001b[0m \u001b[39mif\u001b[39;00m \u001b[39mnot\u001b[39;00m conn\u001b[39m.\u001b[39mis_verified:\n\u001b[1;32m   1045\u001b[0m     warnings\u001b[39m.\u001b[39mwarn(\n\u001b[1;32m   1046\u001b[0m         (\n\u001b[1;32m   1047\u001b[0m             \u001b[39m\"\u001b[39m\u001b[39mUnverified HTTPS request is being made to host \u001b[39m\u001b[39m'\u001b[39m\u001b[39m%s\u001b[39;00m\u001b[39m'\u001b[39m\u001b[39m. \u001b[39m\u001b[39m\"\u001b[39m\n\u001b[0;32m   (...)\u001b[0m\n\u001b[1;32m   1052\u001b[0m         InsecureRequestWarning,\n\u001b[1;32m   1053\u001b[0m     )\n",
      "File \u001b[0;32m~/anaconda3/envs/rmsd_snek/lib/python3.8/site-packages/urllib3/connection.py:363\u001b[0m, in \u001b[0;36mHTTPSConnection.connect\u001b[0;34m(self)\u001b[0m\n\u001b[1;32m    361\u001b[0m \u001b[39mdef\u001b[39;00m \u001b[39mconnect\u001b[39m(\u001b[39mself\u001b[39m):\n\u001b[1;32m    362\u001b[0m     \u001b[39m# Add certificate verification\u001b[39;00m\n\u001b[0;32m--> 363\u001b[0m     \u001b[39mself\u001b[39m\u001b[39m.\u001b[39msock \u001b[39m=\u001b[39m conn \u001b[39m=\u001b[39m \u001b[39mself\u001b[39;49m\u001b[39m.\u001b[39;49m_new_conn()\n\u001b[1;32m    364\u001b[0m     hostname \u001b[39m=\u001b[39m \u001b[39mself\u001b[39m\u001b[39m.\u001b[39mhost\n\u001b[1;32m    365\u001b[0m     tls_in_tls \u001b[39m=\u001b[39m \u001b[39mFalse\u001b[39;00m\n",
      "File \u001b[0;32m~/anaconda3/envs/rmsd_snek/lib/python3.8/site-packages/urllib3/connection.py:174\u001b[0m, in \u001b[0;36mHTTPConnection._new_conn\u001b[0;34m(self)\u001b[0m\n\u001b[1;32m    171\u001b[0m     extra_kw[\u001b[39m\"\u001b[39m\u001b[39msocket_options\u001b[39m\u001b[39m\"\u001b[39m] \u001b[39m=\u001b[39m \u001b[39mself\u001b[39m\u001b[39m.\u001b[39msocket_options\n\u001b[1;32m    173\u001b[0m \u001b[39mtry\u001b[39;00m:\n\u001b[0;32m--> 174\u001b[0m     conn \u001b[39m=\u001b[39m connection\u001b[39m.\u001b[39;49mcreate_connection(\n\u001b[1;32m    175\u001b[0m         (\u001b[39mself\u001b[39;49m\u001b[39m.\u001b[39;49m_dns_host, \u001b[39mself\u001b[39;49m\u001b[39m.\u001b[39;49mport), \u001b[39mself\u001b[39;49m\u001b[39m.\u001b[39;49mtimeout, \u001b[39m*\u001b[39;49m\u001b[39m*\u001b[39;49mextra_kw\n\u001b[1;32m    176\u001b[0m     )\n\u001b[1;32m    178\u001b[0m \u001b[39mexcept\u001b[39;00m SocketTimeout:\n\u001b[1;32m    179\u001b[0m     \u001b[39mraise\u001b[39;00m ConnectTimeoutError(\n\u001b[1;32m    180\u001b[0m         \u001b[39mself\u001b[39m,\n\u001b[1;32m    181\u001b[0m         \u001b[39m\"\u001b[39m\u001b[39mConnection to \u001b[39m\u001b[39m%s\u001b[39;00m\u001b[39m timed out. (connect timeout=\u001b[39m\u001b[39m%s\u001b[39;00m\u001b[39m)\u001b[39m\u001b[39m\"\u001b[39m\n\u001b[1;32m    182\u001b[0m         \u001b[39m%\u001b[39m (\u001b[39mself\u001b[39m\u001b[39m.\u001b[39mhost, \u001b[39mself\u001b[39m\u001b[39m.\u001b[39mtimeout),\n\u001b[1;32m    183\u001b[0m     )\n",
      "File \u001b[0;32m~/anaconda3/envs/rmsd_snek/lib/python3.8/site-packages/urllib3/util/connection.py:85\u001b[0m, in \u001b[0;36mcreate_connection\u001b[0;34m(address, timeout, source_address, socket_options)\u001b[0m\n\u001b[1;32m     83\u001b[0m     \u001b[39mif\u001b[39;00m source_address:\n\u001b[1;32m     84\u001b[0m         sock\u001b[39m.\u001b[39mbind(source_address)\n\u001b[0;32m---> 85\u001b[0m     sock\u001b[39m.\u001b[39;49mconnect(sa)\n\u001b[1;32m     86\u001b[0m     \u001b[39mreturn\u001b[39;00m sock\n\u001b[1;32m     88\u001b[0m \u001b[39mexcept\u001b[39;00m socket\u001b[39m.\u001b[39merror \u001b[39mas\u001b[39;00m e:\n",
      "\u001b[0;31mKeyboardInterrupt\u001b[0m: "
     ]
    }
   ],
   "source": [
    "'''\n",
    "Commented out\n",
    "'''\n",
    "# def get_domains(uniprot_id):\n",
    "#     '''\n",
    "#     Get the domain information from UniProtKB\n",
    "#     '''\n",
    "#     print(f'Getting domains for {uniprot_id}')\n",
    "#     url = f'https://rest.uniprot.org/uniprotkb/search?query=accession:{uniprot_id}&fields=ft_domain'\n",
    "#     response = requests.get(url)\n",
    "#     response_dic = response.json()\n",
    "#     domains = []\n",
    "#     try:\n",
    "#         features = response_dic['results'][0]['features']\n",
    "#         # Get the start and end of any domains\n",
    "#         for i in range(len(features)):\n",
    "#             if response_dic['results'][0]['features'][0]['type'] == 'Domain':\n",
    "#                 start = str(features[i]['location']['start']['value'])\n",
    "#                 end = str(features[i]['location']['end']['value'])\n",
    "#                 domains.append((start + '-' + end))\n",
    "\n",
    "#         domains_string = ','.join(domains)\n",
    "\n",
    "#     except KeyError:\n",
    "#         print(f'No domains found for {uniprot_id}')\n",
    "#         domains_string = None\n",
    "\n",
    "#     return domains_string\n",
    "\n",
    "# def single_domains(uniprots):\n",
    "#     '''\n",
    "#     Get the single domains from UniProtKB\n",
    "#     '''\n",
    "#     domains = {'uniprot': [], 'region': []}\n",
    "#     # Get domains for the uniprot ids\n",
    "#     for i in range(len(uniprots)):\n",
    "#         uniprot_id = uniprots[i]\n",
    "#         region = get_domains(uniprot_id)\n",
    "#         domains['uniprot'].append(uniprot_id)\n",
    "#         domains['region'].append(region)\n",
    "\n",
    "#     # Convert to pandas dataframe\n",
    "#     domains_df = pd.DataFrame.from_dict(domains, orient='columns')\n",
    "\n",
    "#     return domains_df\n",
    "\n",
    "# domains_df = single_domains(uniprots)"
   ]
  },
  {
   "cell_type": "code",
   "execution_count": 6,
   "metadata": {},
   "outputs": [
    {
     "ename": "NameError",
     "evalue": "name 'domains_df' is not defined",
     "output_type": "error",
     "traceback": [
      "\u001b[0;31m---------------------------------------------------------------------------\u001b[0m",
      "\u001b[0;31mNameError\u001b[0m                                 Traceback (most recent call last)",
      "\u001b[1;32m/home/bjechow/Documents/gsponer_lab/autoinhibition_protein_data/multi_domain.ipynb Cell 6\u001b[0m line \u001b[0;36m1\n\u001b[0;32m----> <a href='vscode-notebook-cell:/home/bjechow/Documents/gsponer_lab/autoinhibition_protein_data/multi_domain.ipynb#W5sZmlsZQ%3D%3D?line=0'>1</a>\u001b[0m domains_df \u001b[39m=\u001b[39m domains_df\u001b[39m.\u001b[39mdrop(domains_df[domains_df[\u001b[39m'\u001b[39m\u001b[39mregion\u001b[39m\u001b[39m'\u001b[39m] \u001b[39m==\u001b[39m \u001b[39m'\u001b[39m\u001b[39m'\u001b[39m]\u001b[39m.\u001b[39mindex)\u001b[39m.\u001b[39mreset_index(drop\u001b[39m=\u001b[39m\u001b[39mTrue\u001b[39;00m)\n\u001b[1;32m      <a href='vscode-notebook-cell:/home/bjechow/Documents/gsponer_lab/autoinhibition_protein_data/multi_domain.ipynb#W5sZmlsZQ%3D%3D?line=1'>2</a>\u001b[0m domains_df \u001b[39m=\u001b[39m domains_df\u001b[39m.\u001b[39mdropna()\u001b[39m.\u001b[39mreset_index(drop\u001b[39m=\u001b[39m\u001b[39mTrue\u001b[39;00m)\n\u001b[1;32m      <a href='vscode-notebook-cell:/home/bjechow/Documents/gsponer_lab/autoinhibition_protein_data/multi_domain.ipynb#W5sZmlsZQ%3D%3D?line=3'>4</a>\u001b[0m \u001b[39m# Remove any proteins with only one annotated domain\u001b[39;00m\n",
      "\u001b[0;31mNameError\u001b[0m: name 'domains_df' is not defined"
     ]
    }
   ],
   "source": [
    "'''\n",
    "Commented out\n",
    "'''\n",
    "# domains_df = domains_df.drop(domains_df[domains_df['region'] == ''].index).reset_index(drop=True)\n",
    "# domains_df = domains_df.dropna().reset_index(drop=True)\n",
    "\n",
    "# # Remove any proteins with only one annotated domain\n",
    "# for i in range(len(domains_df)):\n",
    "#     region = domains_df.loc[i, 'region']\n",
    "#     count = region.count('-')\n",
    "#     if count <= 1:\n",
    "#         domains_df = domains_df.drop(i)\n",
    "\n",
    "# # remove any proteins that may overlap with my autoinhibited set\n",
    "# autoinhibited = pd.read_csv('./project_pipeline/data/classified_files_3.tsv', sep='\\t').astype('object')\n",
    "# common = domains_df['uniprot'].isin(autoinhibited['uniprot'])\n",
    "# print(common)\n",
    "# domains_df = domains_df.drop(domains_df[common].index).reset_index(drop=True)\n",
    "\n",
    "# # Save the dataframe\n",
    "# domains_df.to_csv('./project_pipeline/data/multi_domain_domains.csv', index=False)"
   ]
  },
  {
   "cell_type": "code",
   "execution_count": 2,
   "metadata": {},
   "outputs": [],
   "source": [
    "autoinhibited = pd.read_csv('./project_pipeline/data/classified_files_3.tsv', sep='\\t').astype('object')\n",
    "single_df = pd.read_csv('./project_pipeline/data/single_domain_domains.csv')\n",
    "common2 = single_df['uniprot'].isin(autoinhibited['uniprot'])"
   ]
  },
  {
   "cell_type": "code",
   "execution_count": 3,
   "metadata": {},
   "outputs": [
    {
     "name": "stdout",
     "output_type": "stream",
     "text": [
      "61\n"
     ]
    }
   ],
   "source": [
    "'''\n",
    "How many multi-domain proteins have only two designated domains?\n",
    "'''\n",
    "md = pd.read_csv('./project_pipeline/data/multi_domain_domains.csv')\n",
    "\n",
    "# Get the number of domains\n",
    "md['num_domains'] = md['region'].str.count(',') + 1\n",
    "\n",
    "# Get the number of proteins with only two domains\n",
    "md_2 = md[md['num_domains'] == 2]\n",
    "print(len(md_2))"
   ]
  },
  {
   "cell_type": "code",
   "execution_count": 3,
   "metadata": {},
   "outputs": [],
   "source": [
    "'''\n",
    "Select proteins with two domains. Label those domains 'region 1' and 'region 2' and pass the protein\n",
    "through my predicted aligned error script.\n",
    "'''\n",
    "domains_df = pd.read_csv('./project_pipeline/data/multi_domain_domains.csv').astype('object')\n",
    "\n",
    "domains_df['region'] = domains_df['region'].str.split(',')\n",
    "two_domains_list = [row for index, row in domains_df.iterrows() if len(row['region']) == 2]\n",
    "two_domains = pd.DataFrame(two_domains_list).reset_index(drop=True)\n",
    "\n",
    "expand = pd.DataFrame(two_domains['region'].to_list(), columns=['region_1', 'region_2'])\n",
    "expand = expand.join(two_domains['uniprot'], how='left')\n",
    "expand = expand[['uniprot', 'region_1', 'region_2']]\n",
    "expand.head()\n",
    "\n",
    "expand.to_csv('./project_pipeline/data/multi_domain_regions.csv', index=False)"
   ]
  }
 ],
 "metadata": {
  "kernelspec": {
   "display_name": "rmsd_snek",
   "language": "python",
   "name": "python3"
  },
  "language_info": {
   "codemirror_mode": {
    "name": "ipython",
    "version": 3
   },
   "file_extension": ".py",
   "mimetype": "text/x-python",
   "name": "python",
   "nbconvert_exporter": "python",
   "pygments_lexer": "ipython3",
   "version": "3.8.16"
  }
 },
 "nbformat": 4,
 "nbformat_minor": 2
}
