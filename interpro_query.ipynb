{
 "cells": [
  {
   "cell_type": "code",
   "execution_count": 2,
   "metadata": {},
   "outputs": [],
   "source": [
    "import requests\n",
    "import pandas as pd\n",
    "import json"
   ]
  },
  {
   "cell_type": "markdown",
   "metadata": {},
   "source": [
    "This notebook is for drafting a script to download data from the interpro API. The code may later be turned into a standalone script."
   ]
  },
  {
   "cell_type": "code",
   "execution_count": 13,
   "metadata": {},
   "outputs": [],
   "source": [
    "# Read the protein data\n",
    "df = pd.read_csv('./project_pipeline/data/classified_files_3.tsv', sep='\\t').astype('object')\n",
    "\n",
    "\n",
    "def add_interpro(df):\n",
    "    '''\n",
    "    Function to add interpro data to the dataframe. Data is retrieved as [{type: [name, ...]}, ...]. For instance, [{'domain': ['Protein kinase domain', ...]}, ...].\n",
    "    Data is then saved to dataframe with keys as columns and values as cells.\n",
    "    '''\n",
    "\n",
    "    for i in range(len(df)):\n",
    "        uniprot = df.loc[i, 'uniprot']\n",
    "\n",
    "        # Get the query\n",
    "        query = interpro_get(uniprot)\n",
    "\n",
    "        # Decode the query into our dictionary format\n",
    "        results_dict = decode_interpro(query)\n",
    "        # Add the data to the dataframe\n",
    "        for key in results_dict:\n",
    "            df.at[i, key] = ', '.join(results_dict[key])\n",
    "\n",
    "    return df\n",
    "\n",
    "def interpro_get(id):\n",
    "    '''\n",
    "    Function to generate an interpro query from a given UniProt id. Returns the json object.\n",
    "    '''\n",
    "    url = f'https://ebi.ac.uk/interpro/api/entry/interpro/protein/uniprot/{id}?format=json'\n",
    "\n",
    "    response = requests.get(url=url)\n",
    "\n",
    "    if response.status_code == 200:\n",
    "        return response.json()\n",
    "\n",
    "def decode_interpro(query):\n",
    "    '''\n",
    "    We're going to pull data from every metadata entry in the query. We will pull the type (domain, family, etc) and the name. Data\n",
    "    will be saved as a dictionary with the type as the key and the name as the value (e.g. {'domain': 'Protein kinase domain'}).\n",
    "    '''\n",
    "    results_dict = {}\n",
    "    results_list = query['results']\n",
    "\n",
    "    for i in range(len(results_list)):\n",
    "        # Define type and name\n",
    "        ip_type = results_list[i]['metadata']['type']\n",
    "        ip_name = results_list[i]['metadata']['name']\n",
    "\n",
    "        if ip_type not in results_dict:\n",
    "            results_dict[ip_type] = [ip_name]\n",
    "\n",
    "        else:\n",
    "            results_dict[ip_type].append(ip_name)\n",
    "\n",
    "    return results_dict\n",
    "\n",
    "# Run the function \n",
    "df = add_interpro(df)\n",
    "\n",
    "# Save the dataframe\n",
    "df.to_csv('./project_pipeline/data/interpro.tsv', sep='\\t', index=False)\n",
    "\n",
    "\n"
   ]
  }
 ],
 "metadata": {
  "kernelspec": {
   "display_name": "rmsd_snek",
   "language": "python",
   "name": "python3"
  },
  "language_info": {
   "codemirror_mode": {
    "name": "ipython",
    "version": 3
   },
   "file_extension": ".py",
   "mimetype": "text/x-python",
   "name": "python",
   "nbconvert_exporter": "python",
   "pygments_lexer": "ipython3",
   "version": "3.8.16"
  },
  "orig_nbformat": 4
 },
 "nbformat": 4,
 "nbformat_minor": 2
}
