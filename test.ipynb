{
 "cells": [
  {
   "cell_type": "code",
   "execution_count": 3,
   "metadata": {},
   "outputs": [],
   "source": [
    "import pandas as pd"
   ]
  },
  {
   "cell_type": "markdown",
   "metadata": {},
   "source": [
    "Do we have any uniprots in md_rmsds that we don't have in multi_domain_pae?"
   ]
  },
  {
   "cell_type": "code",
   "execution_count": 8,
   "metadata": {},
   "outputs": [],
   "source": [
    "rm = pd.read_csv('./project_pipeline/data/md_rmsds.tsv', sep='\\t')\n",
    "pae = pd.read_csv('./project_pipeline/data/multi_domain_pae.tsv', sep='\\t')\n",
    "ob = pd.read_csv('./project_pipeline/data/obligate.tsv', sep='\\t')"
   ]
  },
  {
   "cell_type": "code",
   "execution_count": 9,
   "metadata": {},
   "outputs": [
    {
     "name": "stdout",
     "output_type": "stream",
     "text": [
      "RMSD uniprots: 40\n",
      "PAE uniprots: 53\n",
      "Obligate uniprots: 8\n"
     ]
    }
   ],
   "source": [
    "rm_un = rm['uniprot'].unique()\n",
    "pae_un = pae['uniprot'].unique()\n",
    "ob_un = ob['uniprot'].unique()\n",
    "\n",
    "print('RMSD uniprots:', len(rm_un))\n",
    "print('PAE uniprots:', len(pae_un))\n",
    "print('Obligate uniprots:', len(ob_un))"
   ]
  },
  {
   "cell_type": "code",
   "execution_count": 11,
   "metadata": {},
   "outputs": [
    {
     "name": "stdout",
     "output_type": "stream",
     "text": [
      "Common uniprots: {'P0AG30', 'O69275', 'O60729', 'P23687', 'P04807', 'Q7KLV9', 'P04958', 'H2E7Q8'}\n"
     ]
    }
   ],
   "source": [
    "common = set(rm_un) & set(ob_un)\n",
    "print('Common uniprots:', common)"
   ]
  }
 ],
 "metadata": {
  "kernelspec": {
   "display_name": "analysis",
   "language": "python",
   "name": "python3"
  },
  "language_info": {
   "codemirror_mode": {
    "name": "ipython",
    "version": 3
   },
   "file_extension": ".py",
   "mimetype": "text/x-python",
   "name": "python",
   "nbconvert_exporter": "python",
   "pygments_lexer": "ipython3",
   "version": "3.11.9"
  }
 },
 "nbformat": 4,
 "nbformat_minor": 2
}
