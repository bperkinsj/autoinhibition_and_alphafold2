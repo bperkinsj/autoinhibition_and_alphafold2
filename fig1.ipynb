{
 "cells": [
  {
   "cell_type": "markdown",
   "metadata": {},
   "source": [
    "This is a notebook for creating Figure 1 of our paper so I don't have to hunt through all of my other notebooks."
   ]
  },
  {
   "cell_type": "code",
   "execution_count": 1,
   "metadata": {},
   "outputs": [],
   "source": [
    "from matplotlib.ticker import FuncFormatter\n",
    "from statannotations.Annotator import Annotator\n",
    "from scipy.stats import mannwhitneyu\n",
    "from pandas.plotting import table\n",
    "import matplotlib.pyplot as plt\n",
    "import dataframe_image as dfi\n",
    "import pandas as pd\n",
    "import seaborn as sns\n",
    "import matplotlib as mpl\n",
    "import numpy as np\n",
    "import scipy as sp\n",
    "import scienceplots\n"
   ]
  },
  {
   "cell_type": "code",
   "execution_count": 2,
   "metadata": {},
   "outputs": [
    {
     "name": "stdout",
     "output_type": "stream",
     "text": [
      "['#a6cee3', '#1f78b4', '#b2df8a', '#33a02c', '#fb9a99', '#e31a1c', '#fdbf6f', '#ff7f00', '#cab2d6', '#6a3d9a', '#ffff99', '#b15928']\n"
     ]
    },
    {
     "data": {
      "text/html": [
       "<svg  width=\"660\" height=\"55\"><rect x=\"0\" y=\"0\" width=\"55\" height=\"55\" style=\"fill:#a6cee3;stroke-width:2;stroke:rgb(255,255,255)\"/><rect x=\"55\" y=\"0\" width=\"55\" height=\"55\" style=\"fill:#1f78b4;stroke-width:2;stroke:rgb(255,255,255)\"/><rect x=\"110\" y=\"0\" width=\"55\" height=\"55\" style=\"fill:#b2df8a;stroke-width:2;stroke:rgb(255,255,255)\"/><rect x=\"165\" y=\"0\" width=\"55\" height=\"55\" style=\"fill:#33a02c;stroke-width:2;stroke:rgb(255,255,255)\"/><rect x=\"220\" y=\"0\" width=\"55\" height=\"55\" style=\"fill:#fb9a99;stroke-width:2;stroke:rgb(255,255,255)\"/><rect x=\"275\" y=\"0\" width=\"55\" height=\"55\" style=\"fill:#e31a1c;stroke-width:2;stroke:rgb(255,255,255)\"/><rect x=\"330\" y=\"0\" width=\"55\" height=\"55\" style=\"fill:#fdbf6f;stroke-width:2;stroke:rgb(255,255,255)\"/><rect x=\"385\" y=\"0\" width=\"55\" height=\"55\" style=\"fill:#ff7f00;stroke-width:2;stroke:rgb(255,255,255)\"/><rect x=\"440\" y=\"0\" width=\"55\" height=\"55\" style=\"fill:#cab2d6;stroke-width:2;stroke:rgb(255,255,255)\"/><rect x=\"495\" y=\"0\" width=\"55\" height=\"55\" style=\"fill:#6a3d9a;stroke-width:2;stroke:rgb(255,255,255)\"/><rect x=\"550\" y=\"0\" width=\"55\" height=\"55\" style=\"fill:#ffff99;stroke-width:2;stroke:rgb(255,255,255)\"/><rect x=\"605\" y=\"0\" width=\"55\" height=\"55\" style=\"fill:#b15928;stroke-width:2;stroke:rgb(255,255,255)\"/></svg>"
      ],
      "text/plain": [
       "['#a6cee3',\n",
       " '#1f78b4',\n",
       " '#b2df8a',\n",
       " '#33a02c',\n",
       " '#fb9a99',\n",
       " '#e31a1c',\n",
       " '#fdbf6f',\n",
       " '#ff7f00',\n",
       " '#cab2d6',\n",
       " '#6a3d9a',\n",
       " '#ffff99',\n",
       " '#b15928']"
      ]
     },
     "execution_count": 2,
     "metadata": {},
     "output_type": "execute_result"
    }
   ],
   "source": [
    "plt.style.use('science')\n",
    "\n",
    "# Get the hex codes for the colors so we can assign them to categories\n",
    "pal = sns.color_palette('Paired')\n",
    "print(pal.as_hex())\n",
    "\n",
    "# Set the color palette. Our categories are \"Single Domain\", \"Two-Domain\", and \"Autoinhibitory\"\n",
    "colors = {'Single Domain': pal[0], 'Two-Domain': pal[1], 'Autoinhibitory': pal[3], 'Autoinhibitory (Active)': pal[2], 'Autoinhibitory (Autoinhibited)': pal[3], \n",
    "          'Full': pal[3], 'Clusters': pal[7], 'Two-State AI': pal[4], 'Autoinhibitory (Closed)': pal[5], 'Autoinhibitory (Open)': pal[4]}\n",
    "pal.as_hex()"
   ]
  },
  {
   "cell_type": "markdown",
   "metadata": {},
   "source": [
    "So we need to look at only our \"exemplary\" structures, aka the best structure for each protein and their states. "
   ]
  },
  {
   "cell_type": "code",
   "execution_count": 3,
   "metadata": {},
   "outputs": [
    {
     "data": {
      "text/html": [
       "<div>\n",
       "<style scoped>\n",
       "    .dataframe tbody tr th:only-of-type {\n",
       "        vertical-align: middle;\n",
       "    }\n",
       "\n",
       "    .dataframe tbody tr th {\n",
       "        vertical-align: top;\n",
       "    }\n",
       "\n",
       "    .dataframe thead th {\n",
       "        text-align: right;\n",
       "    }\n",
       "</style>\n",
       "<table border=\"1\" class=\"dataframe\">\n",
       "  <thead>\n",
       "    <tr style=\"text-align: right;\">\n",
       "      <th></th>\n",
       "      <th>uniprot</th>\n",
       "      <th>pdb</th>\n",
       "      <th>region_1</th>\n",
       "      <th>region_2</th>\n",
       "      <th>complex_rmsd</th>\n",
       "      <th>percent_region_1</th>\n",
       "      <th>percent_region_2</th>\n",
       "      <th>2_aligned</th>\n",
       "      <th>2_comp</th>\n",
       "      <th>state</th>\n",
       "      <th>conformation</th>\n",
       "      <th>organism</th>\n",
       "      <th>date</th>\n",
       "      <th>notes</th>\n",
       "    </tr>\n",
       "  </thead>\n",
       "  <tbody>\n",
       "    <tr>\n",
       "      <th>0</th>\n",
       "      <td>P04637</td>\n",
       "      <td>8f2h</td>\n",
       "      <td>364-393</td>\n",
       "      <td>102-292</td>\n",
       "      <td>30.431</td>\n",
       "      <td>100.0</td>\n",
       "      <td>100.000000</td>\n",
       "      <td>3.065</td>\n",
       "      <td>70.729</td>\n",
       "      <td>Autoinhibited</td>\n",
       "      <td>Closed</td>\n",
       "      <td>\"Homo sapiens\"</td>\n",
       "      <td>['2022-11-08']</td>\n",
       "      <td>NaN</td>\n",
       "    </tr>\n",
       "    <tr>\n",
       "      <th>1</th>\n",
       "      <td>P04637</td>\n",
       "      <td>8f2i</td>\n",
       "      <td>364-393</td>\n",
       "      <td>102-292</td>\n",
       "      <td>30.431</td>\n",
       "      <td>100.0</td>\n",
       "      <td>100.000000</td>\n",
       "      <td>3.065</td>\n",
       "      <td>70.729</td>\n",
       "      <td>Autoinhibited</td>\n",
       "      <td>Closed</td>\n",
       "      <td>\"Homo sapiens\"</td>\n",
       "      <td>['2022-11-08']</td>\n",
       "      <td>NaN</td>\n",
       "    </tr>\n",
       "    <tr>\n",
       "      <th>2</th>\n",
       "      <td>P00523</td>\n",
       "      <td>2ptk</td>\n",
       "      <td>148-245,246-266</td>\n",
       "      <td>81-142,521-533</td>\n",
       "      <td>1.737</td>\n",
       "      <td>100.0</td>\n",
       "      <td>89.333333</td>\n",
       "      <td>1.921</td>\n",
       "      <td>3.093</td>\n",
       "      <td>Autoinhibited</td>\n",
       "      <td>Closed</td>\n",
       "      <td>Gallus gallus</td>\n",
       "      <td>['1997-06-17']</td>\n",
       "      <td>NaN</td>\n",
       "    </tr>\n",
       "    <tr>\n",
       "      <th>3</th>\n",
       "      <td>P28482</td>\n",
       "      <td>1pme</td>\n",
       "      <td>173-196</td>\n",
       "      <td>25-172,197-313</td>\n",
       "      <td>2.422</td>\n",
       "      <td>100.0</td>\n",
       "      <td>96.603774</td>\n",
       "      <td>1.220</td>\n",
       "      <td>6.639</td>\n",
       "      <td>Autoinhibited</td>\n",
       "      <td>Closed</td>\n",
       "      <td>Homo sapiens</td>\n",
       "      <td>['1998-06-08']</td>\n",
       "      <td>NaN</td>\n",
       "    </tr>\n",
       "    <tr>\n",
       "      <th>4</th>\n",
       "      <td>P28482</td>\n",
       "      <td>1tvo</td>\n",
       "      <td>173-196</td>\n",
       "      <td>25-172,197-313</td>\n",
       "      <td>2.497</td>\n",
       "      <td>100.0</td>\n",
       "      <td>100.000000</td>\n",
       "      <td>1.523</td>\n",
       "      <td>6.633</td>\n",
       "      <td>Autoinhibited</td>\n",
       "      <td>Closed</td>\n",
       "      <td>Homo sapiens</td>\n",
       "      <td>['2004-06-30']</td>\n",
       "      <td>NaN</td>\n",
       "    </tr>\n",
       "  </tbody>\n",
       "</table>\n",
       "</div>"
      ],
      "text/plain": [
       "  uniprot   pdb         region_1        region_2  complex_rmsd  \\\n",
       "0  P04637  8f2h          364-393         102-292        30.431   \n",
       "1  P04637  8f2i          364-393         102-292        30.431   \n",
       "2  P00523  2ptk  148-245,246-266  81-142,521-533         1.737   \n",
       "3  P28482  1pme          173-196  25-172,197-313         2.422   \n",
       "4  P28482  1tvo          173-196  25-172,197-313         2.497   \n",
       "\n",
       "   percent_region_1  percent_region_2  2_aligned  2_comp          state  \\\n",
       "0             100.0        100.000000      3.065  70.729  Autoinhibited   \n",
       "1             100.0        100.000000      3.065  70.729  Autoinhibited   \n",
       "2             100.0         89.333333      1.921   3.093  Autoinhibited   \n",
       "3             100.0         96.603774      1.220   6.639  Autoinhibited   \n",
       "4             100.0        100.000000      1.523   6.633  Autoinhibited   \n",
       "\n",
       "  conformation        organism            date notes  \n",
       "0       Closed  \"Homo sapiens\"  ['2022-11-08']   NaN  \n",
       "1       Closed  \"Homo sapiens\"  ['2022-11-08']   NaN  \n",
       "2       Closed   Gallus gallus  ['1997-06-17']   NaN  \n",
       "3       Closed    Homo sapiens  ['1998-06-08']   NaN  \n",
       "4       Closed    Homo sapiens  ['2004-06-30']   NaN  "
      ]
     },
     "execution_count": 3,
     "metadata": {},
     "output_type": "execute_result"
    }
   ],
   "source": [
    "# Load the data\n",
    "cl = pd.read_csv('./project_pipeline/data/classified_files.tsv', sep='\\t')\n",
    "rmsd = pd.read_csv('./project_pipeline/data/rmsds.tsv', sep='\\t').astype('object')\n",
    "md = pd.read_csv('./project_pipeline/data/md_rmsds.tsv', sep='\\t').astype('object')\n",
    "\n",
    "cl.head()"
   ]
  },
  {
   "cell_type": "code",
   "execution_count": 9,
   "metadata": {},
   "outputs": [
    {
     "name": "stdout",
     "output_type": "stream",
     "text": [
      "Closed    116\n",
      "Open       12\n",
      "Name: conformation, dtype: int64\n",
      "1.135     1\n",
      "0.807     1\n",
      "0.825     1\n",
      "4.391     1\n",
      "25.112    1\n",
      "         ..\n",
      "19.893    1\n",
      "2.441     1\n",
      "1.765     1\n",
      "3.241     1\n",
      "22.071    1\n",
      "Name: 2_comp, Length: 128, dtype: int64\n"
     ]
    }
   ],
   "source": [
    "# We need to group by protein (uniprot) and find the minimum value of the 2_comp column\n",
    "\n",
    "exem = cl.sort_values('2_comp').groupby('uniprot', as_index=False).first()\n",
    "\n",
    "print(exem['conformation'].value_counts())\n"
   ]
  },
  {
   "cell_type": "code",
   "execution_count": 5,
   "metadata": {},
   "outputs": [
    {
     "name": "stderr",
     "output_type": "stream",
     "text": [
      "/tmp/ipykernel_1367934/790151984.py:13: SettingWithCopyWarning: \n",
      "A value is trying to be set on a copy of a slice from a DataFrame.\n",
      "Try using .loc[row_indexer,col_indexer] = value instead\n",
      "\n",
      "See the caveats in the documentation: https://pandas.pydata.org/pandas-docs/stable/user_guide/indexing.html#returning-a-view-versus-a-copy\n",
      "  clSub[['Full Sequence', 'IM', 'FD', 'IM on FD']] = clSub[['Full Sequence', 'IM', 'FD', 'IM on FD']].astype(float)\n"
     ]
    }
   ],
   "source": [
    "# Reformat the data for plotting\n",
    "\n",
    "# Add 1_aligned to classified files\n",
    "rmsdSub = rmsd[['uniprot', 'pdb', '1_aligned']]\n",
    "exem = exem.merge(rmsdSub, on=['uniprot', 'pdb'], how='left')\n",
    "\n",
    "# Select columns of interest\n",
    "clSub = exem[['uniprot', 'pdb', 'complex_rmsd', '1_aligned', '2_aligned', '2_comp']]\n",
    "\n",
    "# Rename columns\n",
    "clSub.columns = ['Uniprot', 'PDB', 'Full Sequence', 'IM', 'FD', 'IM on FD']\n",
    "\n",
    "clSub[['Full Sequence', 'IM', 'FD', 'IM on FD']] = clSub[['Full Sequence', 'IM', 'FD', 'IM on FD']].astype(float)\n",
    "\n",
    "# Melt the data\n",
    "plot = pd.melt(clSub, id_vars=['Uniprot', 'PDB'], var_name='Alignment', value_name='RMSD')\n",
    "\n",
    "# Convert the RMSD to a float\n",
    "plot['RMSD'] = plot['RMSD'].astype(float)\n",
    "\n",
    "# Remove outliers above 100 RMSD\n",
    "plot = plot[plot['RMSD'] < 100]"
   ]
  },
  {
   "cell_type": "code",
   "execution_count": 6,
   "metadata": {},
   "outputs": [],
   "source": [
    "# Add in multi-domain data\n",
    "\n",
    "md = pd.read_csv('./project_pipeline/data/md_rmsds.tsv', sep='\\t').astype('object')\n",
    "\n",
    "# Subset the data\n",
    "mdSub = md[['uniprot', 'pdb', 'complex_rmsd', '1_aligned', '2_aligned', '2_comp']]\n",
    "\n",
    "# Rename columns\n",
    "mdSub.columns = ['Uniprot', 'PDB', 'Full Sequence', 'D1', 'D2', 'D1 on D2']\n",
    "\n",
    "# Melt the data\n",
    "mdPlot = pd.melt(mdSub, id_vars=['Uniprot', 'PDB'], var_name='Alignment', value_name='RMSD')\n",
    "\n",
    "# Convert the RMSD to a float\n",
    "mdPlot['RMSD'] = mdPlot['RMSD'].astype(float)"
   ]
  },
  {
   "cell_type": "code",
   "execution_count": 7,
   "metadata": {},
   "outputs": [
    {
     "name": "stderr",
     "output_type": "stream",
     "text": [
      "/tmp/ipykernel_1367934/1554477085.py:2: SettingWithCopyWarning: \n",
      "A value is trying to be set on a copy of a slice from a DataFrame.\n",
      "Try using .loc[row_indexer,col_indexer] = value instead\n",
      "\n",
      "See the caveats in the documentation: https://pandas.pydata.org/pandas-docs/stable/user_guide/indexing.html#returning-a-view-versus-a-copy\n",
      "  clSub['Type'] = 'Autoinhibitory'\n",
      "/tmp/ipykernel_1367934/1554477085.py:3: SettingWithCopyWarning: \n",
      "A value is trying to be set on a copy of a slice from a DataFrame.\n",
      "Try using .loc[row_indexer,col_indexer] = value instead\n",
      "\n",
      "See the caveats in the documentation: https://pandas.pydata.org/pandas-docs/stable/user_guide/indexing.html#returning-a-view-versus-a-copy\n",
      "  mdSub['Type'] = 'Two-Domain'\n"
     ]
    },
    {
     "data": {
      "text/html": [
       "<div>\n",
       "<style scoped>\n",
       "    .dataframe tbody tr th:only-of-type {\n",
       "        vertical-align: middle;\n",
       "    }\n",
       "\n",
       "    .dataframe tbody tr th {\n",
       "        vertical-align: top;\n",
       "    }\n",
       "\n",
       "    .dataframe thead th {\n",
       "        text-align: right;\n",
       "    }\n",
       "</style>\n",
       "<table border=\"1\" class=\"dataframe\">\n",
       "  <thead>\n",
       "    <tr style=\"text-align: right;\">\n",
       "      <th></th>\n",
       "      <th>UniProt</th>\n",
       "      <th>PDB</th>\n",
       "      <th>Full Sequence</th>\n",
       "      <th>IM/D1</th>\n",
       "      <th>FD/D2</th>\n",
       "      <th>IM on FD/D1 on D2</th>\n",
       "      <th>Type</th>\n",
       "    </tr>\n",
       "  </thead>\n",
       "  <tbody>\n",
       "    <tr>\n",
       "      <th>0</th>\n",
       "      <td>D9N168</td>\n",
       "      <td>3ht3</td>\n",
       "      <td>1.115</td>\n",
       "      <td>0.883</td>\n",
       "      <td>1.153</td>\n",
       "      <td>0.979</td>\n",
       "      <td>Two-Domain</td>\n",
       "    </tr>\n",
       "    <tr>\n",
       "      <th>1</th>\n",
       "      <td>D9N168</td>\n",
       "      <td>4o0i</td>\n",
       "      <td>1.166</td>\n",
       "      <td>0.826</td>\n",
       "      <td>1.253</td>\n",
       "      <td>0.999</td>\n",
       "      <td>Two-Domain</td>\n",
       "    </tr>\n",
       "    <tr>\n",
       "      <th>2</th>\n",
       "      <td>D9N168</td>\n",
       "      <td>6ueu</td>\n",
       "      <td>1.787</td>\n",
       "      <td>0.72</td>\n",
       "      <td>2.667</td>\n",
       "      <td>1.017</td>\n",
       "      <td>Two-Domain</td>\n",
       "    </tr>\n",
       "    <tr>\n",
       "      <th>3</th>\n",
       "      <td>D9N168</td>\n",
       "      <td>6ur2</td>\n",
       "      <td>1.208</td>\n",
       "      <td>0.836</td>\n",
       "      <td>1.317</td>\n",
       "      <td>0.998</td>\n",
       "      <td>Two-Domain</td>\n",
       "    </tr>\n",
       "    <tr>\n",
       "      <th>4</th>\n",
       "      <td>D9N168</td>\n",
       "      <td>6ur4</td>\n",
       "      <td>1.208</td>\n",
       "      <td>0.842</td>\n",
       "      <td>1.275</td>\n",
       "      <td>1.073</td>\n",
       "      <td>Two-Domain</td>\n",
       "    </tr>\n",
       "  </tbody>\n",
       "</table>\n",
       "</div>"
      ],
      "text/plain": [
       "  UniProt   PDB Full Sequence  IM/D1  FD/D2 IM on FD/D1 on D2        Type\n",
       "0  D9N168  3ht3         1.115  0.883  1.153             0.979  Two-Domain\n",
       "1  D9N168  4o0i         1.166  0.826  1.253             0.999  Two-Domain\n",
       "2  D9N168  6ueu         1.787   0.72  2.667             1.017  Two-Domain\n",
       "3  D9N168  6ur2         1.208  0.836  1.317             0.998  Two-Domain\n",
       "4  D9N168  6ur4         1.208  0.842  1.275             1.073  Two-Domain"
      ]
     },
     "execution_count": 7,
     "metadata": {},
     "output_type": "execute_result"
    }
   ],
   "source": [
    "# Add types to the dataframes\n",
    "clSub['Type'] = 'Autoinhibitory'\n",
    "mdSub['Type'] = 'Two-Domain'\n",
    "\n",
    "# Rename the columns to match\n",
    "clSub.columns = ['UniProt', 'PDB', 'Full Sequence', 'IM/D1', 'FD/D2', 'IM on FD/D1 on D2', 'Type']\n",
    "mdSub.columns = ['UniProt', 'PDB', 'Full Sequence', 'IM/D1', 'FD/D2', 'IM on FD/D1 on D2', 'Type']\n",
    "\n",
    "# Concatenate the dataframes\n",
    "allPlot = pd.concat([clSub, mdSub])\n",
    "\n",
    "# Melt the data\n",
    "allPlot = pd.melt(allPlot, id_vars=['UniProt', 'PDB', 'Type'], var_name='Alignment', value_name='RMSD')\n",
    "\n",
    "# Convert the RMSD to a float\n",
    "allPlot['RMSD'] = allPlot['RMSD'].astype(float)\n",
    "\n",
    "# Remove outliers\n",
    "allPlot = allPlot[allPlot['RMSD'] < 100]\n",
    "mdSub.head()"
   ]
  },
  {
   "cell_type": "code",
   "execution_count": 8,
   "metadata": {},
   "outputs": [
    {
     "name": "stderr",
     "output_type": "stream",
     "text": [
      "/tmp/ipykernel_1367934/3234923963.py:8: UserWarning: set_ticklabels() should only be used with a fixed number of ticks, i.e. after set_ticks() or using a FixedLocator.\n",
      "  ax.set_yticklabels(ax.get_yticklabels(), fontsize=12)\n"
     ]
    },
    {
     "name": "stdout",
     "output_type": "stream",
     "text": [
      "p-value annotation legend:\n",
      "      ns: 5.00e-02 < p <= 1.00e+00\n",
      "       *: 1.00e-02 < p <= 5.00e-02\n",
      "      **: 1.00e-03 < p <= 1.00e-02\n",
      "     ***: 1.00e-04 < p <= 1.00e-03\n",
      "    ****: p <= 1.00e-04\n",
      "\n",
      "IM/D1_Autoinhibitory vs. IM/D1_Two-Domain: Mann-Whitney-Wilcoxon test two-sided, P_val:1.910e-13 U_stat=1.727e+04\n",
      "Full Sequence_Autoinhibitory vs. Full Sequence_Two-Domain: Mann-Whitney-Wilcoxon test two-sided, P_val:3.093e-15 U_stat=1.756e+04\n",
      "FD/D2_Autoinhibitory vs. FD/D2_Two-Domain: Mann-Whitney-Wilcoxon test two-sided, P_val:5.946e-16 U_stat=1.784e+04\n",
      "IM on FD/D1 on D2_Autoinhibitory vs. IM on FD/D1 on D2_Two-Domain: Mann-Whitney-Wilcoxon test two-sided, P_val:3.521e-09 U_stat=1.592e+04\n"
     ]
    },
    {
     "data": {
      "image/png": "[encoded data removed]",
      "text/plain": [
       "<Figure size 600x400 with 1 Axes>"
      ]
     },
     "metadata": {},
     "output_type": "display_data"
    }
   ],
   "source": [
    "# Now we plot the data\n",
    "fig, ax = plt.subplots(figsize=(6, 4))\n",
    "sns.boxplot(data=allPlot, x='Alignment', y='RMSD', ax=ax, palette=colors, hue='Type')\n",
    "ax.set_ylim(0, 40)\n",
    "ax.set_ylabel('RMSD (Å)', fontsize=14)\n",
    "ax.set_xlabel('Alignment', fontsize=14)\n",
    "ax.set_xticklabels(ax.get_xticklabels(), fontsize=12)\n",
    "ax.set_yticklabels(ax.get_yticklabels(), fontsize=12)\n",
    "ax.legend(title='Type', fontsize=12, title_fontsize=12)\n",
    "\n",
    "# Add the annotations, comparing between structural alignment categories\n",
    "pairs = [[('Full Sequence', 'Autoinhibitory'), ('Full Sequence', 'Two-Domain')],\n",
    "         [('IM/D1', 'Autoinhibitory'), ('IM/D1', 'Two-Domain')],\n",
    "         [('FD/D2', 'Autoinhibitory'), ('FD/D2', 'Two-Domain')],\n",
    "         [('IM on FD/D1 on D2', 'Autoinhibitory'), ('IM on FD/D1 on D2', 'Two-Domain')]]\n",
    "subcat_order = ['Full Sequence', 'IM/D1', 'FD/D2', 'IM on FD/D1 on D2']\n",
    "annotator = Annotator(ax, pairs, data=allPlot, x='Alignment', y='RMSD', order=subcat_order, hue='Type')\n",
    "annotator.configure(test='Mann-Whitney', text_format='star', loc='outside')\n",
    "annotator.apply_and_annotate()\n",
    "\n",
    "# Save the plot\n",
    "plt.tight_layout()\n",
    "plt.savefig('./project_pipeline/data/figures/all_rmsd_distributions.png', dpi=500, bbox_inches='tight')"
   ]
  }
 ],
 "metadata": {
  "kernelspec": {
   "display_name": "analysis",
   "language": "python",
   "name": "python3"
  },
  "language_info": {
   "codemirror_mode": {
    "name": "ipython",
    "version": 3
   },
   "file_extension": ".py",
   "mimetype": "text/x-python",
   "name": "python",
   "nbconvert_exporter": "python",
   "pygments_lexer": "ipython3",
   "version": "3.11.8"
  }
 },
 "nbformat": 4,
 "nbformat_minor": 2
}
