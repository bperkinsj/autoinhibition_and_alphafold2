{
 "cells": [
  {
   "cell_type": "markdown",
   "metadata": {},
   "source": [
    "This is essentially the same as ls_matrix.ipynb, but we're looking at the ColabFold/PDB comparisons instead of the AlphaFold/ColabFold comparisons"
   ]
  },
  {
   "cell_type": "code",
   "execution_count": 437,
   "metadata": {},
   "outputs": [],
   "source": [
    "# Data Processing\n",
    "import pandas as pd\n",
    "import numpy as np\n",
    "\n",
    "# Modelling\n",
    "from sklearn.ensemble import RandomForestClassifier, RandomForestRegressor\n",
    "from sklearn.metrics import accuracy_score, confusion_matrix, precision_score, recall_score, ConfusionMatrixDisplay\n",
    "from sklearn.model_selection import RandomizedSearchCV, train_test_split\n",
    "from scipy.stats import randint\n",
    "\n",
    "# Tree Visualisation\n",
    "from sklearn.tree import export_graphviz\n",
    "from IPython.display import Image\n",
    "import graphviz\n",
    "\n",
    "# Plotting\n",
    "import matplotlib.pyplot as plt\n",
    "import seaborn as sns"
   ]
  },
  {
   "cell_type": "code",
   "execution_count": 438,
   "metadata": {},
   "outputs": [
    {
     "name": "stdout",
     "output_type": "stream",
     "text": [
      "1536\n"
     ]
    },
    {
     "data": {
      "text/html": [
       "<div>\n",
       "<style scoped>\n",
       "    .dataframe tbody tr th:only-of-type {\n",
       "        vertical-align: middle;\n",
       "    }\n",
       "\n",
       "    .dataframe tbody tr th {\n",
       "        vertical-align: top;\n",
       "    }\n",
       "\n",
       "    .dataframe thead th {\n",
       "        text-align: right;\n",
       "    }\n",
       "</style>\n",
       "<table border=\"1\" class=\"dataframe\">\n",
       "  <thead>\n",
       "    <tr style=\"text-align: right;\">\n",
       "      <th></th>\n",
       "      <th>uniprot</th>\n",
       "      <th>pdb</th>\n",
       "      <th>cluster</th>\n",
       "      <th>Complex RMSD</th>\n",
       "      <th>IMAE</th>\n",
       "    </tr>\n",
       "  </thead>\n",
       "  <tbody>\n",
       "    <tr>\n",
       "      <th>0</th>\n",
       "      <td>O08967</td>\n",
       "      <td>2r09</td>\n",
       "      <td>U10-005</td>\n",
       "      <td>17.274</td>\n",
       "      <td>33.607</td>\n",
       "    </tr>\n",
       "    <tr>\n",
       "      <th>1</th>\n",
       "      <td>O08967</td>\n",
       "      <td>2r09</td>\n",
       "      <td>031</td>\n",
       "      <td>19.503</td>\n",
       "      <td>31.059</td>\n",
       "    </tr>\n",
       "    <tr>\n",
       "      <th>2</th>\n",
       "      <td>O08967</td>\n",
       "      <td>2r09</td>\n",
       "      <td>U10-001</td>\n",
       "      <td>16.866</td>\n",
       "      <td>23.513</td>\n",
       "    </tr>\n",
       "    <tr>\n",
       "      <th>3</th>\n",
       "      <td>O08967</td>\n",
       "      <td>2r09</td>\n",
       "      <td>U100-004</td>\n",
       "      <td>21.285</td>\n",
       "      <td>52.734</td>\n",
       "    </tr>\n",
       "    <tr>\n",
       "      <th>4</th>\n",
       "      <td>O08967</td>\n",
       "      <td>2r09</td>\n",
       "      <td>029</td>\n",
       "      <td>12.546</td>\n",
       "      <td>23.212</td>\n",
       "    </tr>\n",
       "  </tbody>\n",
       "</table>\n",
       "</div>"
      ],
      "text/plain": [
       "  uniprot   pdb   cluster  Complex RMSD    IMAE\n",
       "0  O08967  2r09   U10-005        17.274  33.607\n",
       "1  O08967  2r09       031        19.503  31.059\n",
       "2  O08967  2r09   U10-001        16.866  23.513\n",
       "3  O08967  2r09  U100-004        21.285  52.734\n",
       "4  O08967  2r09       029        12.546  23.212"
      ]
     },
     "execution_count": 438,
     "metadata": {},
     "output_type": "execute_result"
    }
   ],
   "source": [
    "'''\n",
    "We need to wrangle our RMSD data a bit before we can make any calculations.\n",
    "'''\n",
    "\n",
    "rmsd = pd.read_csv('./project_pipeline/data/two-state_cf_pdb_compared.tsv', sep='\\t')\n",
    "\n",
    "# We only need a subset of the columns\n",
    "rmsd = rmsd[['uniprot', 'pdb', 'cluster', 'complex_rmsd', '2_comp']]\n",
    "\n",
    "rmsd = rmsd.rename(columns={'complex_rmsd': 'Complex RMSD', '2_comp': 'IMAE'})\n",
    "\n",
    "rmsd_sub = rmsd[['uniprot', 'cluster']].drop_duplicates()\n",
    "print(len(rmsd_sub))\n",
    "rmsd.head()"
   ]
  },
  {
   "cell_type": "code",
   "execution_count": 439,
   "metadata": {},
   "outputs": [
    {
     "name": "stdout",
     "output_type": "stream",
     "text": [
      "1536\n"
     ]
    }
   ],
   "source": [
    "two_state = pd.read_csv('./project_pipeline/data/two-state_af_cf.tsv', sep='\\t')\n",
    "\n",
    "two_state_sub = two_state[['uniprot', 'cluster']].drop_duplicates()\n",
    "print(len(two_state))"
   ]
  },
  {
   "cell_type": "code",
   "execution_count": 440,
   "metadata": {},
   "outputs": [
    {
     "name": "stdout",
     "output_type": "stream",
     "text": [
      "1445\n"
     ]
    },
    {
     "data": {
      "text/html": [
       "<div>\n",
       "<style scoped>\n",
       "    .dataframe tbody tr th:only-of-type {\n",
       "        vertical-align: middle;\n",
       "    }\n",
       "\n",
       "    .dataframe tbody tr th {\n",
       "        vertical-align: top;\n",
       "    }\n",
       "\n",
       "    .dataframe thead th {\n",
       "        text-align: right;\n",
       "    }\n",
       "</style>\n",
       "<table border=\"1\" class=\"dataframe\">\n",
       "  <thead>\n",
       "    <tr style=\"text-align: right;\">\n",
       "      <th></th>\n",
       "      <th>uniprot</th>\n",
       "      <th>state</th>\n",
       "      <th>conformation</th>\n",
       "      <th>cluster</th>\n",
       "      <th>filename</th>\n",
       "      <th>uniref</th>\n",
       "      <th>taxonId</th>\n",
       "      <th>uniprot_lineage</th>\n",
       "      <th>cluster_lineage</th>\n",
       "      <th>lineage_score</th>\n",
       "      <th>uniprot_lineage_length</th>\n",
       "      <th>cluster_lineage_length</th>\n",
       "    </tr>\n",
       "  </thead>\n",
       "  <tbody>\n",
       "    <tr>\n",
       "      <th>0</th>\n",
       "      <td>O08967</td>\n",
       "      <td>Autoinhibited</td>\n",
       "      <td>Closed</td>\n",
       "      <td>U10-005</td>\n",
       "      <td>O08967_U10-005.a3m</td>\n",
       "      <td>UniRef100_A0A812VSQ5</td>\n",
       "      <td>2952.0</td>\n",
       "      <td>[131567, 2759, 33154, 33208, 6072, 33213, 3351...</td>\n",
       "      <td>[131567, 2759, 2698737, 33630, 2864, 89954, 25...</td>\n",
       "      <td>2</td>\n",
       "      <td>30</td>\n",
       "      <td>8</td>\n",
       "    </tr>\n",
       "    <tr>\n",
       "      <th>1</th>\n",
       "      <td>O08967</td>\n",
       "      <td>Autoinhibited</td>\n",
       "      <td>Closed</td>\n",
       "      <td>U10-005</td>\n",
       "      <td>O08967_U10-005.a3m</td>\n",
       "      <td>UniRef100_A0A2G8JTM8</td>\n",
       "      <td>307972.0</td>\n",
       "      <td>[131567, 2759, 33154, 33208, 6072, 33213, 3351...</td>\n",
       "      <td>[131567, 2759, 33154, 33208, 6072, 33213, 3351...</td>\n",
       "      <td>7</td>\n",
       "      <td>30</td>\n",
       "      <td>15</td>\n",
       "    </tr>\n",
       "    <tr>\n",
       "      <th>2</th>\n",
       "      <td>O08967</td>\n",
       "      <td>Autoinhibited</td>\n",
       "      <td>Closed</td>\n",
       "      <td>U10-005</td>\n",
       "      <td>O08967_U10-005.a3m</td>\n",
       "      <td>UniRef100_UPI001469F9E4</td>\n",
       "      <td>52239.0</td>\n",
       "      <td>[131567, 2759, 33154, 33208, 6072, 33213, 3351...</td>\n",
       "      <td>[131567, 2759, 33154, 33208, 6072, 33213, 3351...</td>\n",
       "      <td>13</td>\n",
       "      <td>30</td>\n",
       "      <td>31</td>\n",
       "    </tr>\n",
       "    <tr>\n",
       "      <th>3</th>\n",
       "      <td>O08967</td>\n",
       "      <td>Autoinhibited</td>\n",
       "      <td>Closed</td>\n",
       "      <td>U10-005</td>\n",
       "      <td>O08967_U10-005.a3m</td>\n",
       "      <td>UniRef100_A0A8C7Z9G0</td>\n",
       "      <td>183150.0</td>\n",
       "      <td>[131567, 2759, 33154, 33208, 6072, 33213, 3351...</td>\n",
       "      <td>[131567, 2759, 33154, 33208, 6072, 33213, 3351...</td>\n",
       "      <td>13</td>\n",
       "      <td>30</td>\n",
       "      <td>33</td>\n",
       "    </tr>\n",
       "    <tr>\n",
       "      <th>4</th>\n",
       "      <td>O08967</td>\n",
       "      <td>Autoinhibited</td>\n",
       "      <td>Closed</td>\n",
       "      <td>U10-005</td>\n",
       "      <td>O08967_U10-005.a3m</td>\n",
       "      <td>UniRef100_UPI001E1BC1D8</td>\n",
       "      <td>35525.0</td>\n",
       "      <td>[131567, 2759, 33154, 33208, 6072, 33213, 3351...</td>\n",
       "      <td>[131567, 2759, 33154, 33208, 6072, 33213, 3331...</td>\n",
       "      <td>6</td>\n",
       "      <td>30</td>\n",
       "      <td>20</td>\n",
       "    </tr>\n",
       "  </tbody>\n",
       "</table>\n",
       "</div>"
      ],
      "text/plain": [
       "  uniprot          state conformation  cluster            filename  \\\n",
       "0  O08967  Autoinhibited       Closed  U10-005  O08967_U10-005.a3m   \n",
       "1  O08967  Autoinhibited       Closed  U10-005  O08967_U10-005.a3m   \n",
       "2  O08967  Autoinhibited       Closed  U10-005  O08967_U10-005.a3m   \n",
       "3  O08967  Autoinhibited       Closed  U10-005  O08967_U10-005.a3m   \n",
       "4  O08967  Autoinhibited       Closed  U10-005  O08967_U10-005.a3m   \n",
       "\n",
       "                    uniref   taxonId  \\\n",
       "0     UniRef100_A0A812VSQ5    2952.0   \n",
       "1     UniRef100_A0A2G8JTM8  307972.0   \n",
       "2  UniRef100_UPI001469F9E4   52239.0   \n",
       "3     UniRef100_A0A8C7Z9G0  183150.0   \n",
       "4  UniRef100_UPI001E1BC1D8   35525.0   \n",
       "\n",
       "                                     uniprot_lineage  \\\n",
       "0  [131567, 2759, 33154, 33208, 6072, 33213, 3351...   \n",
       "1  [131567, 2759, 33154, 33208, 6072, 33213, 3351...   \n",
       "2  [131567, 2759, 33154, 33208, 6072, 33213, 3351...   \n",
       "3  [131567, 2759, 33154, 33208, 6072, 33213, 3351...   \n",
       "4  [131567, 2759, 33154, 33208, 6072, 33213, 3351...   \n",
       "\n",
       "                                     cluster_lineage  lineage_score  \\\n",
       "0  [131567, 2759, 2698737, 33630, 2864, 89954, 25...              2   \n",
       "1  [131567, 2759, 33154, 33208, 6072, 33213, 3351...              7   \n",
       "2  [131567, 2759, 33154, 33208, 6072, 33213, 3351...             13   \n",
       "3  [131567, 2759, 33154, 33208, 6072, 33213, 3351...             13   \n",
       "4  [131567, 2759, 33154, 33208, 6072, 33213, 3331...              6   \n",
       "\n",
       "   uniprot_lineage_length  cluster_lineage_length  \n",
       "0                      30                       8  \n",
       "1                      30                      15  \n",
       "2                      30                      31  \n",
       "3                      30                      33  \n",
       "4                      30                      20  "
      ]
     },
     "execution_count": 440,
     "metadata": {},
     "output_type": "execute_result"
    }
   ],
   "source": [
    "lineage = pd.read_csv('./project_pipeline/data/lineage_scores.csv')\n",
    "\n",
    "lineage_sub = lineage[['uniprot', 'cluster']].drop_duplicates()\n",
    "print(len(lineage_sub))\n",
    "lineage.head()"
   ]
  },
  {
   "cell_type": "code",
   "execution_count": 441,
   "metadata": {},
   "outputs": [
    {
     "name": "stdout",
     "output_type": "stream",
     "text": [
      "cf_conformation\n",
      "Closed    1333\n",
      "Open       203\n",
      "Name: count, dtype: int64\n"
     ]
    }
   ],
   "source": [
    "# Also add the cluster conformations\n",
    "cluster = pd.read_csv('./project_pipeline/data/autoinhibited_cf_interface.tsv', sep='\\t')\n",
    "\n",
    "cluster['cf_conformation'] = cluster['number_interface_residues'].apply(lambda x: 'Closed' if x > 0 else 'Open')\n",
    "\n",
    "print(cluster['cf_conformation'].value_counts())\n",
    "\n",
    "cluster = cluster[['uniprot', 'cluster', 'cf_conformation']]"
   ]
  },
  {
   "cell_type": "code",
   "execution_count": 442,
   "metadata": {},
   "outputs": [
    {
     "name": "stdout",
     "output_type": "stream",
     "text": [
      "1445\n"
     ]
    },
    {
     "data": {
      "text/html": [
       "<div>\n",
       "<style scoped>\n",
       "    .dataframe tbody tr th:only-of-type {\n",
       "        vertical-align: middle;\n",
       "    }\n",
       "\n",
       "    .dataframe tbody tr th {\n",
       "        vertical-align: top;\n",
       "    }\n",
       "\n",
       "    .dataframe thead th {\n",
       "        text-align: right;\n",
       "    }\n",
       "</style>\n",
       "<table border=\"1\" class=\"dataframe\">\n",
       "  <thead>\n",
       "    <tr style=\"text-align: right;\">\n",
       "      <th></th>\n",
       "      <th>uniprot</th>\n",
       "      <th>pdb</th>\n",
       "      <th>cluster</th>\n",
       "      <th>Complex RMSD</th>\n",
       "      <th>IMAE</th>\n",
       "      <th>state</th>\n",
       "      <th>conformation</th>\n",
       "      <th>filename</th>\n",
       "      <th>uniref</th>\n",
       "      <th>taxonId</th>\n",
       "      <th>uniprot_lineage</th>\n",
       "      <th>cluster_lineage</th>\n",
       "      <th>lineage_score</th>\n",
       "      <th>uniprot_lineage_length</th>\n",
       "      <th>cluster_lineage_length</th>\n",
       "      <th>cf_conformation</th>\n",
       "    </tr>\n",
       "  </thead>\n",
       "  <tbody>\n",
       "    <tr>\n",
       "      <th>7</th>\n",
       "      <td>O08967</td>\n",
       "      <td>2r09</td>\n",
       "      <td>031</td>\n",
       "      <td>19.503</td>\n",
       "      <td>31.059</td>\n",
       "      <td>Autoinhibited</td>\n",
       "      <td>Closed</td>\n",
       "      <td>O08967_031.a3m</td>\n",
       "      <td>UniRef100_A0A024UJ15</td>\n",
       "      <td>157072.0</td>\n",
       "      <td>[131567, 2759, 33154, 33208, 6072, 33213, 3351...</td>\n",
       "      <td>[131567, 2759, 2698737, 33634, 4762, 4763, 476...</td>\n",
       "      <td>2</td>\n",
       "      <td>30</td>\n",
       "      <td>8</td>\n",
       "      <td>Closed</td>\n",
       "    </tr>\n",
       "    <tr>\n",
       "      <th>8</th>\n",
       "      <td>O08967</td>\n",
       "      <td>2r09</td>\n",
       "      <td>031</td>\n",
       "      <td>19.503</td>\n",
       "      <td>31.059</td>\n",
       "      <td>Autoinhibited</td>\n",
       "      <td>Closed</td>\n",
       "      <td>O08967_031.a3m</td>\n",
       "      <td>UniRef100_W4FH40</td>\n",
       "      <td>112090.0</td>\n",
       "      <td>[131567, 2759, 33154, 33208, 6072, 33213, 3351...</td>\n",
       "      <td>[131567, 2759, 2698737, 33634, 4762, 4763, 476...</td>\n",
       "      <td>2</td>\n",
       "      <td>30</td>\n",
       "      <td>8</td>\n",
       "      <td>Closed</td>\n",
       "    </tr>\n",
       "    <tr>\n",
       "      <th>80</th>\n",
       "      <td>O08967</td>\n",
       "      <td>2r09</td>\n",
       "      <td>002</td>\n",
       "      <td>20.558</td>\n",
       "      <td>25.518</td>\n",
       "      <td>Autoinhibited</td>\n",
       "      <td>Closed</td>\n",
       "      <td>O08967_002.a3m</td>\n",
       "      <td>UniRef100_UPI001C3FA3AE</td>\n",
       "      <td>7868.0</td>\n",
       "      <td>[131567, 2759, 33154, 33208, 6072, 33213, 3351...</td>\n",
       "      <td>[131567, 2759, 33154, 33208, 6072, 33213, 3351...</td>\n",
       "      <td>11</td>\n",
       "      <td>30</td>\n",
       "      <td>16</td>\n",
       "      <td>Closed</td>\n",
       "    </tr>\n",
       "    <tr>\n",
       "      <th>81</th>\n",
       "      <td>O08967</td>\n",
       "      <td>2r09</td>\n",
       "      <td>002</td>\n",
       "      <td>20.558</td>\n",
       "      <td>25.518</td>\n",
       "      <td>Autoinhibited</td>\n",
       "      <td>Closed</td>\n",
       "      <td>O08967_002.a3m</td>\n",
       "      <td>UniRef100_UPI001B7D9AF6</td>\n",
       "      <td>13397.0</td>\n",
       "      <td>[131567, 2759, 33154, 33208, 6072, 33213, 3351...</td>\n",
       "      <td>[131567, 2759, 33154, 33208, 6072, 33213, 3351...</td>\n",
       "      <td>11</td>\n",
       "      <td>30</td>\n",
       "      <td>20</td>\n",
       "      <td>Closed</td>\n",
       "    </tr>\n",
       "    <tr>\n",
       "      <th>82</th>\n",
       "      <td>O08967</td>\n",
       "      <td>2r09</td>\n",
       "      <td>002</td>\n",
       "      <td>20.558</td>\n",
       "      <td>25.518</td>\n",
       "      <td>Autoinhibited</td>\n",
       "      <td>Closed</td>\n",
       "      <td>O08967_002.a3m</td>\n",
       "      <td>UniRef100_UPI00223D03CD</td>\n",
       "      <td>685728.0</td>\n",
       "      <td>[131567, 2759, 33154, 33208, 6072, 33213, 3351...</td>\n",
       "      <td>[131567, 2759, 33154, 33208, 6072, 33213, 3351...</td>\n",
       "      <td>11</td>\n",
       "      <td>30</td>\n",
       "      <td>17</td>\n",
       "      <td>Closed</td>\n",
       "    </tr>\n",
       "  </tbody>\n",
       "</table>\n",
       "</div>"
      ],
      "text/plain": [
       "   uniprot   pdb cluster  Complex RMSD    IMAE          state conformation  \\\n",
       "7   O08967  2r09     031        19.503  31.059  Autoinhibited       Closed   \n",
       "8   O08967  2r09     031        19.503  31.059  Autoinhibited       Closed   \n",
       "80  O08967  2r09     002        20.558  25.518  Autoinhibited       Closed   \n",
       "81  O08967  2r09     002        20.558  25.518  Autoinhibited       Closed   \n",
       "82  O08967  2r09     002        20.558  25.518  Autoinhibited       Closed   \n",
       "\n",
       "          filename                   uniref   taxonId  \\\n",
       "7   O08967_031.a3m     UniRef100_A0A024UJ15  157072.0   \n",
       "8   O08967_031.a3m         UniRef100_W4FH40  112090.0   \n",
       "80  O08967_002.a3m  UniRef100_UPI001C3FA3AE    7868.0   \n",
       "81  O08967_002.a3m  UniRef100_UPI001B7D9AF6   13397.0   \n",
       "82  O08967_002.a3m  UniRef100_UPI00223D03CD  685728.0   \n",
       "\n",
       "                                      uniprot_lineage  \\\n",
       "7   [131567, 2759, 33154, 33208, 6072, 33213, 3351...   \n",
       "8   [131567, 2759, 33154, 33208, 6072, 33213, 3351...   \n",
       "80  [131567, 2759, 33154, 33208, 6072, 33213, 3351...   \n",
       "81  [131567, 2759, 33154, 33208, 6072, 33213, 3351...   \n",
       "82  [131567, 2759, 33154, 33208, 6072, 33213, 3351...   \n",
       "\n",
       "                                      cluster_lineage  lineage_score  \\\n",
       "7   [131567, 2759, 2698737, 33634, 4762, 4763, 476...              2   \n",
       "8   [131567, 2759, 2698737, 33634, 4762, 4763, 476...              2   \n",
       "80  [131567, 2759, 33154, 33208, 6072, 33213, 3351...             11   \n",
       "81  [131567, 2759, 33154, 33208, 6072, 33213, 3351...             11   \n",
       "82  [131567, 2759, 33154, 33208, 6072, 33213, 3351...             11   \n",
       "\n",
       "    uniprot_lineage_length  cluster_lineage_length cf_conformation  \n",
       "7                       30                       8          Closed  \n",
       "8                       30                       8          Closed  \n",
       "80                      30                      16          Closed  \n",
       "81                      30                      20          Closed  \n",
       "82                      30                      17          Closed  "
      ]
     },
     "execution_count": 442,
     "metadata": {},
     "output_type": "execute_result"
    }
   ],
   "source": [
    "'''\n",
    "Now we'll merge the RMSD data with the lineage scores.\n",
    "'''\n",
    "\n",
    "# Merge the RMSD and lineage data\n",
    "merged = pd.merge(rmsd, lineage, on=['uniprot', 'cluster'])\n",
    "\n",
    "merged_sub = merged.drop_duplicates(subset=['uniprot', 'cluster'])\n",
    "print(len(merged_sub))\n",
    "\n",
    "# Merge the cluster data\n",
    "merged = pd.merge(merged, cluster, on=['uniprot', 'cluster'])\n",
    "\n",
    "# remove uniformly distributed clusters\n",
    "merged = merged[~merged['cluster'].str.contains('U')]\n",
    "merged.head()"
   ]
  },
  {
   "cell_type": "markdown",
   "metadata": {},
   "source": [
    "We want to find the best cluster structure per PDB file."
   ]
  },
  {
   "cell_type": "code",
   "execution_count": 443,
   "metadata": {},
   "outputs": [
    {
     "name": "stdout",
     "output_type": "stream",
     "text": [
      "13387\n",
      "275\n"
     ]
    },
    {
     "data": {
      "text/html": [
       "<div>\n",
       "<style scoped>\n",
       "    .dataframe tbody tr th:only-of-type {\n",
       "        vertical-align: middle;\n",
       "    }\n",
       "\n",
       "    .dataframe tbody tr th {\n",
       "        vertical-align: top;\n",
       "    }\n",
       "\n",
       "    .dataframe thead th {\n",
       "        text-align: right;\n",
       "    }\n",
       "</style>\n",
       "<table border=\"1\" class=\"dataframe\">\n",
       "  <thead>\n",
       "    <tr style=\"text-align: right;\">\n",
       "      <th></th>\n",
       "      <th>pdb</th>\n",
       "      <th>IMAE</th>\n",
       "      <th>uniprot</th>\n",
       "      <th>cluster</th>\n",
       "      <th>Complex RMSD</th>\n",
       "      <th>state</th>\n",
       "      <th>conformation</th>\n",
       "      <th>filename</th>\n",
       "      <th>uniref</th>\n",
       "      <th>taxonId</th>\n",
       "      <th>uniprot_lineage</th>\n",
       "      <th>cluster_lineage</th>\n",
       "      <th>lineage_score</th>\n",
       "      <th>uniprot_lineage_length</th>\n",
       "      <th>cluster_lineage_length</th>\n",
       "      <th>cf_conformation</th>\n",
       "    </tr>\n",
       "  </thead>\n",
       "  <tbody>\n",
       "    <tr>\n",
       "      <th>0</th>\n",
       "      <td>1fbv</td>\n",
       "      <td>16.614</td>\n",
       "      <td>P22681</td>\n",
       "      <td>001</td>\n",
       "      <td>26.959</td>\n",
       "      <td>Active</td>\n",
       "      <td>Open</td>\n",
       "      <td>P22681_001.a3m</td>\n",
       "      <td>UniRef100_A0A6J2VMB9</td>\n",
       "      <td>29144.0</td>\n",
       "      <td>[131567, 2759, 33154, 33208, 6072, 33213, 3351...</td>\n",
       "      <td>[131567, 2759, 33154, 33208, 6072, 33213, 3351...</td>\n",
       "      <td>13</td>\n",
       "      <td>30</td>\n",
       "      <td>26</td>\n",
       "      <td>Closed</td>\n",
       "    </tr>\n",
       "    <tr>\n",
       "      <th>1</th>\n",
       "      <td>1fbv</td>\n",
       "      <td>16.614</td>\n",
       "      <td>P22681</td>\n",
       "      <td>001</td>\n",
       "      <td>26.959</td>\n",
       "      <td>Active</td>\n",
       "      <td>Open</td>\n",
       "      <td>P22681_001.a3m</td>\n",
       "      <td>UniRef100_UPI00148F4755</td>\n",
       "      <td>1203425.0</td>\n",
       "      <td>[131567, 2759, 33154, 33208, 6072, 33213, 3351...</td>\n",
       "      <td>[131567, 2759, 33154, 33208, 6072, 33213, 3351...</td>\n",
       "      <td>13</td>\n",
       "      <td>30</td>\n",
       "      <td>30</td>\n",
       "      <td>Closed</td>\n",
       "    </tr>\n",
       "    <tr>\n",
       "      <th>2</th>\n",
       "      <td>1fbv</td>\n",
       "      <td>16.614</td>\n",
       "      <td>P22681</td>\n",
       "      <td>001</td>\n",
       "      <td>26.959</td>\n",
       "      <td>Active</td>\n",
       "      <td>Open</td>\n",
       "      <td>P22681_001.a3m</td>\n",
       "      <td>UniRef100_UPI0014458EF9</td>\n",
       "      <td>310571.0</td>\n",
       "      <td>[131567, 2759, 33154, 33208, 6072, 33213, 3351...</td>\n",
       "      <td>[131567, 2759, 33154, 33208, 6072, 33213, 3351...</td>\n",
       "      <td>13</td>\n",
       "      <td>30</td>\n",
       "      <td>33</td>\n",
       "      <td>Closed</td>\n",
       "    </tr>\n",
       "    <tr>\n",
       "      <th>3</th>\n",
       "      <td>1fbv</td>\n",
       "      <td>16.614</td>\n",
       "      <td>P22681</td>\n",
       "      <td>001</td>\n",
       "      <td>26.959</td>\n",
       "      <td>Active</td>\n",
       "      <td>Open</td>\n",
       "      <td>P22681_001.a3m</td>\n",
       "      <td>UniRef100_UPI001BEAA65B</td>\n",
       "      <td>109905.0</td>\n",
       "      <td>[131567, 2759, 33154, 33208, 6072, 33213, 3351...</td>\n",
       "      <td>[131567, 2759, 33154, 33208, 6072, 33213, 3351...</td>\n",
       "      <td>13</td>\n",
       "      <td>30</td>\n",
       "      <td>30</td>\n",
       "      <td>Closed</td>\n",
       "    </tr>\n",
       "    <tr>\n",
       "      <th>4</th>\n",
       "      <td>1fbv</td>\n",
       "      <td>16.614</td>\n",
       "      <td>P22681</td>\n",
       "      <td>001</td>\n",
       "      <td>26.959</td>\n",
       "      <td>Active</td>\n",
       "      <td>Open</td>\n",
       "      <td>P22681_001.a3m</td>\n",
       "      <td>UniRef100_A0A3Q1H707</td>\n",
       "      <td>80966.0</td>\n",
       "      <td>[131567, 2759, 33154, 33208, 6072, 33213, 3351...</td>\n",
       "      <td>[131567, 2759, 33154, 33208, 6072, 33213, 3351...</td>\n",
       "      <td>13</td>\n",
       "      <td>30</td>\n",
       "      <td>30</td>\n",
       "      <td>Closed</td>\n",
       "    </tr>\n",
       "  </tbody>\n",
       "</table>\n",
       "</div>"
      ],
      "text/plain": [
       "    pdb    IMAE uniprot cluster  Complex RMSD   state conformation  \\\n",
       "0  1fbv  16.614  P22681     001        26.959  Active         Open   \n",
       "1  1fbv  16.614  P22681     001        26.959  Active         Open   \n",
       "2  1fbv  16.614  P22681     001        26.959  Active         Open   \n",
       "3  1fbv  16.614  P22681     001        26.959  Active         Open   \n",
       "4  1fbv  16.614  P22681     001        26.959  Active         Open   \n",
       "\n",
       "         filename                   uniref    taxonId  \\\n",
       "0  P22681_001.a3m     UniRef100_A0A6J2VMB9    29144.0   \n",
       "1  P22681_001.a3m  UniRef100_UPI00148F4755  1203425.0   \n",
       "2  P22681_001.a3m  UniRef100_UPI0014458EF9   310571.0   \n",
       "3  P22681_001.a3m  UniRef100_UPI001BEAA65B   109905.0   \n",
       "4  P22681_001.a3m     UniRef100_A0A3Q1H707    80966.0   \n",
       "\n",
       "                                     uniprot_lineage  \\\n",
       "0  [131567, 2759, 33154, 33208, 6072, 33213, 3351...   \n",
       "1  [131567, 2759, 33154, 33208, 6072, 33213, 3351...   \n",
       "2  [131567, 2759, 33154, 33208, 6072, 33213, 3351...   \n",
       "3  [131567, 2759, 33154, 33208, 6072, 33213, 3351...   \n",
       "4  [131567, 2759, 33154, 33208, 6072, 33213, 3351...   \n",
       "\n",
       "                                     cluster_lineage  lineage_score  \\\n",
       "0  [131567, 2759, 33154, 33208, 6072, 33213, 3351...             13   \n",
       "1  [131567, 2759, 33154, 33208, 6072, 33213, 3351...             13   \n",
       "2  [131567, 2759, 33154, 33208, 6072, 33213, 3351...             13   \n",
       "3  [131567, 2759, 33154, 33208, 6072, 33213, 3351...             13   \n",
       "4  [131567, 2759, 33154, 33208, 6072, 33213, 3351...             13   \n",
       "\n",
       "   uniprot_lineage_length  cluster_lineage_length cf_conformation  \n",
       "0                      30                      26          Closed  \n",
       "1                      30                      30          Closed  \n",
       "2                      30                      33          Closed  \n",
       "3                      30                      30          Closed  \n",
       "4                      30                      30          Closed  "
      ]
     },
     "execution_count": 443,
     "metadata": {},
     "output_type": "execute_result"
    }
   ],
   "source": [
    "best = merged.groupby('pdb')['IMAE'].min().reset_index()\n",
    "\n",
    "merged = pd.merge(best, merged, on=['pdb', 'IMAE'], how='left')\n",
    "\n",
    "print(len(merged))\n",
    "print(merged['pdb'].nunique())\n",
    "merged.head()"
   ]
  },
  {
   "cell_type": "code",
   "execution_count": 444,
   "metadata": {},
   "outputs": [
    {
     "name": "stdout",
     "output_type": "stream",
     "text": [
      "cf_conformation\n",
      "Closed    269\n",
      "Open        6\n",
      "Name: count, dtype: int64\n",
      "conformation\n",
      "Open      242\n",
      "Closed     33\n",
      "Name: count, dtype: int64\n"
     ]
    }
   ],
   "source": [
    "merged_sub = merged.drop_duplicates(subset=['uniprot', 'pdb', 'cluster'])\n",
    "\n",
    "print(merged_sub['cf_conformation'].value_counts())\n",
    "print(merged_sub['conformation'].value_counts())"
   ]
  },
  {
   "cell_type": "code",
   "execution_count": 445,
   "metadata": {},
   "outputs": [
    {
     "name": "stdout",
     "output_type": "stream",
     "text": [
      "   cluster uniprot  counts\n",
      "0      000  O60741       8\n",
      "1      000  P07038       2\n",
      "2      000  P28482    1316\n",
      "3      000  P53042     372\n",
      "4      000  P60240       4\n",
      "5      000  Q9Y6K1       5\n",
      "6      001  P07038       4\n",
      "7      001  P22681     456\n",
      "8      001  Q9Y6K1       2\n",
      "9      005  O08967      14\n",
      "10     007  P22681      20\n",
      "11     008  P22681      42\n",
      "12     010  P62826       4\n",
      "13     013  Q96BN8     477\n",
      "14     015  P22681       3\n",
      "15     016  O08967       4\n",
      "16     018  P27577     360\n",
      "17     018  P29350       9\n",
      "18     018  Q6GQQ9       6\n",
      "19     019  P22681       9\n",
      "20     021  P29350      13\n",
      "21     025  P35520      30\n",
      "22     026  P28482     897\n",
      "23     039  P53042      72\n",
      "24     041  Q8NQJ3       2\n",
      "25     060  P62826       2\n",
      "26     061  P12931     210\n",
      "27     066  P62826     198\n",
      "28     081  P28482    7392\n",
      "29     082  P62826       9\n",
      "30     088  Q8NQJ3       1\n",
      "31     096  P62826     234\n",
      "32     099  P28482     890\n",
      "33     105  P12931      15\n",
      "34     137  P35520     216\n",
      "35     139  P28482      70\n",
      "36     187  P28482       2\n",
      "37     226  P28482       1\n",
      "38     281  P28482      16\n"
     ]
    }
   ],
   "source": [
    "# First the variance\n",
    "var = merged.groupby(['uniprot', 'cluster'])['lineage_score'].transform('var')\n",
    "\n",
    "merged['var'] = var\n",
    "\n",
    "merged = merged.fillna(0)\n",
    "\n",
    "# Now the mean\n",
    "mean = merged.groupby(['uniprot', 'cluster'])['lineage_score'].transform('mean')\n",
    "\n",
    "merged['mean'] = mean\n",
    "\n",
    "# Now the max\n",
    "lmax = merged.groupby(['uniprot', 'cluster'])['lineage_score'].transform('max')\n",
    "\n",
    "merged['max'] = lmax\n",
    "\n",
    "# Min\n",
    "lmin = merged.groupby(['uniprot', 'cluster'])['lineage_score'].transform('min')\n",
    "\n",
    "merged['min'] = lmin\n",
    "\n",
    "# Need to count the number of unirefs per cluster\n",
    "\n",
    "counts = merged.groupby(['cluster', 'uniprot']).size().reset_index(name='counts')\n",
    "\n",
    "print(counts)\n",
    "\n",
    "# Now we can merge the counts with the lineage scores\n",
    "lineage_counts = pd.merge(merged, counts, on=['uniprot', 'cluster'])"
   ]
  },
  {
   "cell_type": "code",
   "execution_count": 446,
   "metadata": {},
   "outputs": [
    {
     "data": {
      "text/html": [
       "<div>\n",
       "<style scoped>\n",
       "    .dataframe tbody tr th:only-of-type {\n",
       "        vertical-align: middle;\n",
       "    }\n",
       "\n",
       "    .dataframe tbody tr th {\n",
       "        vertical-align: top;\n",
       "    }\n",
       "\n",
       "    .dataframe thead th {\n",
       "        text-align: right;\n",
       "    }\n",
       "</style>\n",
       "<table border=\"1\" class=\"dataframe\">\n",
       "  <thead>\n",
       "    <tr style=\"text-align: right;\">\n",
       "      <th></th>\n",
       "      <th>pdb</th>\n",
       "      <th>IMAE</th>\n",
       "      <th>uniprot</th>\n",
       "      <th>cluster</th>\n",
       "      <th>Complex RMSD</th>\n",
       "      <th>state</th>\n",
       "      <th>conformation</th>\n",
       "      <th>filename</th>\n",
       "      <th>uniref</th>\n",
       "      <th>taxonId</th>\n",
       "      <th>...</th>\n",
       "      <th>cluster_lineage</th>\n",
       "      <th>lineage_score</th>\n",
       "      <th>uniprot_lineage_length</th>\n",
       "      <th>cluster_lineage_length</th>\n",
       "      <th>cf_conformation</th>\n",
       "      <th>var</th>\n",
       "      <th>mean</th>\n",
       "      <th>max</th>\n",
       "      <th>min</th>\n",
       "      <th>counts</th>\n",
       "    </tr>\n",
       "  </thead>\n",
       "  <tbody>\n",
       "    <tr>\n",
       "      <th>0</th>\n",
       "      <td>1fbv</td>\n",
       "      <td>16.614</td>\n",
       "      <td>P22681</td>\n",
       "      <td>001</td>\n",
       "      <td>26.959</td>\n",
       "      <td>Active</td>\n",
       "      <td>Open</td>\n",
       "      <td>P22681_001.a3m</td>\n",
       "      <td>UniRef100_A0A6J2VMB9</td>\n",
       "      <td>29144.0</td>\n",
       "      <td>...</td>\n",
       "      <td>[131567, 2759, 33154, 33208, 6072, 33213, 3351...</td>\n",
       "      <td>13</td>\n",
       "      <td>30</td>\n",
       "      <td>26</td>\n",
       "      <td>Closed</td>\n",
       "      <td>3.27688</td>\n",
       "      <td>12.743421</td>\n",
       "      <td>13</td>\n",
       "      <td>0</td>\n",
       "      <td>456</td>\n",
       "    </tr>\n",
       "    <tr>\n",
       "      <th>1</th>\n",
       "      <td>1fbv</td>\n",
       "      <td>16.614</td>\n",
       "      <td>P22681</td>\n",
       "      <td>001</td>\n",
       "      <td>26.959</td>\n",
       "      <td>Active</td>\n",
       "      <td>Open</td>\n",
       "      <td>P22681_001.a3m</td>\n",
       "      <td>UniRef100_UPI00148F4755</td>\n",
       "      <td>1203425.0</td>\n",
       "      <td>...</td>\n",
       "      <td>[131567, 2759, 33154, 33208, 6072, 33213, 3351...</td>\n",
       "      <td>13</td>\n",
       "      <td>30</td>\n",
       "      <td>30</td>\n",
       "      <td>Closed</td>\n",
       "      <td>3.27688</td>\n",
       "      <td>12.743421</td>\n",
       "      <td>13</td>\n",
       "      <td>0</td>\n",
       "      <td>456</td>\n",
       "    </tr>\n",
       "    <tr>\n",
       "      <th>2</th>\n",
       "      <td>1fbv</td>\n",
       "      <td>16.614</td>\n",
       "      <td>P22681</td>\n",
       "      <td>001</td>\n",
       "      <td>26.959</td>\n",
       "      <td>Active</td>\n",
       "      <td>Open</td>\n",
       "      <td>P22681_001.a3m</td>\n",
       "      <td>UniRef100_UPI0014458EF9</td>\n",
       "      <td>310571.0</td>\n",
       "      <td>...</td>\n",
       "      <td>[131567, 2759, 33154, 33208, 6072, 33213, 3351...</td>\n",
       "      <td>13</td>\n",
       "      <td>30</td>\n",
       "      <td>33</td>\n",
       "      <td>Closed</td>\n",
       "      <td>3.27688</td>\n",
       "      <td>12.743421</td>\n",
       "      <td>13</td>\n",
       "      <td>0</td>\n",
       "      <td>456</td>\n",
       "    </tr>\n",
       "    <tr>\n",
       "      <th>3</th>\n",
       "      <td>1fbv</td>\n",
       "      <td>16.614</td>\n",
       "      <td>P22681</td>\n",
       "      <td>001</td>\n",
       "      <td>26.959</td>\n",
       "      <td>Active</td>\n",
       "      <td>Open</td>\n",
       "      <td>P22681_001.a3m</td>\n",
       "      <td>UniRef100_UPI001BEAA65B</td>\n",
       "      <td>109905.0</td>\n",
       "      <td>...</td>\n",
       "      <td>[131567, 2759, 33154, 33208, 6072, 33213, 3351...</td>\n",
       "      <td>13</td>\n",
       "      <td>30</td>\n",
       "      <td>30</td>\n",
       "      <td>Closed</td>\n",
       "      <td>3.27688</td>\n",
       "      <td>12.743421</td>\n",
       "      <td>13</td>\n",
       "      <td>0</td>\n",
       "      <td>456</td>\n",
       "    </tr>\n",
       "    <tr>\n",
       "      <th>4</th>\n",
       "      <td>1fbv</td>\n",
       "      <td>16.614</td>\n",
       "      <td>P22681</td>\n",
       "      <td>001</td>\n",
       "      <td>26.959</td>\n",
       "      <td>Active</td>\n",
       "      <td>Open</td>\n",
       "      <td>P22681_001.a3m</td>\n",
       "      <td>UniRef100_A0A3Q1H707</td>\n",
       "      <td>80966.0</td>\n",
       "      <td>...</td>\n",
       "      <td>[131567, 2759, 33154, 33208, 6072, 33213, 3351...</td>\n",
       "      <td>13</td>\n",
       "      <td>30</td>\n",
       "      <td>30</td>\n",
       "      <td>Closed</td>\n",
       "      <td>3.27688</td>\n",
       "      <td>12.743421</td>\n",
       "      <td>13</td>\n",
       "      <td>0</td>\n",
       "      <td>456</td>\n",
       "    </tr>\n",
       "  </tbody>\n",
       "</table>\n",
       "<p>5 rows × 21 columns</p>\n",
       "</div>"
      ],
      "text/plain": [
       "    pdb    IMAE uniprot cluster  Complex RMSD   state conformation  \\\n",
       "0  1fbv  16.614  P22681     001        26.959  Active         Open   \n",
       "1  1fbv  16.614  P22681     001        26.959  Active         Open   \n",
       "2  1fbv  16.614  P22681     001        26.959  Active         Open   \n",
       "3  1fbv  16.614  P22681     001        26.959  Active         Open   \n",
       "4  1fbv  16.614  P22681     001        26.959  Active         Open   \n",
       "\n",
       "         filename                   uniref    taxonId  ...  \\\n",
       "0  P22681_001.a3m     UniRef100_A0A6J2VMB9    29144.0  ...   \n",
       "1  P22681_001.a3m  UniRef100_UPI00148F4755  1203425.0  ...   \n",
       "2  P22681_001.a3m  UniRef100_UPI0014458EF9   310571.0  ...   \n",
       "3  P22681_001.a3m  UniRef100_UPI001BEAA65B   109905.0  ...   \n",
       "4  P22681_001.a3m     UniRef100_A0A3Q1H707    80966.0  ...   \n",
       "\n",
       "                                     cluster_lineage lineage_score  \\\n",
       "0  [131567, 2759, 33154, 33208, 6072, 33213, 3351...            13   \n",
       "1  [131567, 2759, 33154, 33208, 6072, 33213, 3351...            13   \n",
       "2  [131567, 2759, 33154, 33208, 6072, 33213, 3351...            13   \n",
       "3  [131567, 2759, 33154, 33208, 6072, 33213, 3351...            13   \n",
       "4  [131567, 2759, 33154, 33208, 6072, 33213, 3351...            13   \n",
       "\n",
       "   uniprot_lineage_length  cluster_lineage_length  cf_conformation      var  \\\n",
       "0                      30                      26           Closed  3.27688   \n",
       "1                      30                      30           Closed  3.27688   \n",
       "2                      30                      33           Closed  3.27688   \n",
       "3                      30                      30           Closed  3.27688   \n",
       "4                      30                      30           Closed  3.27688   \n",
       "\n",
       "        mean  max  min  counts  \n",
       "0  12.743421   13    0     456  \n",
       "1  12.743421   13    0     456  \n",
       "2  12.743421   13    0     456  \n",
       "3  12.743421   13    0     456  \n",
       "4  12.743421   13    0     456  \n",
       "\n",
       "[5 rows x 21 columns]"
      ]
     },
     "execution_count": 446,
     "metadata": {},
     "output_type": "execute_result"
    }
   ],
   "source": [
    "lineage_counts.head()"
   ]
  },
  {
   "cell_type": "code",
   "execution_count": 447,
   "metadata": {},
   "outputs": [
    {
     "name": "stdout",
     "output_type": "stream",
     "text": [
      "cf_conformation\n",
      "Closed    240\n",
      "Open        2\n",
      "Name: count, dtype: int64\n"
     ]
    }
   ],
   "source": [
    "# Keep only the closed structures.\n",
    "closed = lineage_counts[lineage_counts['conformation'] == 'Open']\n",
    "\n",
    "closed_sub = closed.drop_duplicates(subset=['uniprot', 'pdb', 'cluster'])\n",
    "print(closed_sub['cf_conformation'].value_counts())"
   ]
  },
  {
   "cell_type": "code",
   "execution_count": 448,
   "metadata": {},
   "outputs": [
    {
     "data": {
      "text/html": [
       "<div>\n",
       "<style scoped>\n",
       "    .dataframe tbody tr th:only-of-type {\n",
       "        vertical-align: middle;\n",
       "    }\n",
       "\n",
       "    .dataframe tbody tr th {\n",
       "        vertical-align: top;\n",
       "    }\n",
       "\n",
       "    .dataframe thead th {\n",
       "        text-align: right;\n",
       "    }\n",
       "</style>\n",
       "<table border=\"1\" class=\"dataframe\">\n",
       "  <thead>\n",
       "    <tr style=\"text-align: right;\">\n",
       "      <th></th>\n",
       "      <th>pdb</th>\n",
       "      <th>IMAE</th>\n",
       "      <th>uniprot</th>\n",
       "      <th>cluster</th>\n",
       "      <th>Complex RMSD</th>\n",
       "      <th>uniprot_lineage_length</th>\n",
       "      <th>cf_conformation</th>\n",
       "      <th>var</th>\n",
       "      <th>mean</th>\n",
       "      <th>max</th>\n",
       "      <th>min</th>\n",
       "      <th>counts</th>\n",
       "    </tr>\n",
       "  </thead>\n",
       "  <tbody>\n",
       "    <tr>\n",
       "      <th>0</th>\n",
       "      <td>1fbv</td>\n",
       "      <td>16.614</td>\n",
       "      <td>P22681</td>\n",
       "      <td>001</td>\n",
       "      <td>26.959</td>\n",
       "      <td>30</td>\n",
       "      <td>Closed</td>\n",
       "      <td>3.276880</td>\n",
       "      <td>12.743421</td>\n",
       "      <td>13</td>\n",
       "      <td>0</td>\n",
       "      <td>456</td>\n",
       "    </tr>\n",
       "    <tr>\n",
       "      <th>1</th>\n",
       "      <td>1k5d</td>\n",
       "      <td>13.037</td>\n",
       "      <td>P62826</td>\n",
       "      <td>010</td>\n",
       "      <td>5.794</td>\n",
       "      <td>30</td>\n",
       "      <td>Closed</td>\n",
       "      <td>0.000000</td>\n",
       "      <td>2.000000</td>\n",
       "      <td>2</td>\n",
       "      <td>2</td>\n",
       "      <td>4</td>\n",
       "    </tr>\n",
       "    <tr>\n",
       "      <th>2</th>\n",
       "      <td>1k5g</td>\n",
       "      <td>13.059</td>\n",
       "      <td>P62826</td>\n",
       "      <td>066</td>\n",
       "      <td>6.376</td>\n",
       "      <td>30</td>\n",
       "      <td>Closed</td>\n",
       "      <td>0.000000</td>\n",
       "      <td>3.000000</td>\n",
       "      <td>3</td>\n",
       "      <td>3</td>\n",
       "      <td>198</td>\n",
       "    </tr>\n",
       "    <tr>\n",
       "      <th>3</th>\n",
       "      <td>1pme</td>\n",
       "      <td>6.000</td>\n",
       "      <td>P28482</td>\n",
       "      <td>081</td>\n",
       "      <td>2.834</td>\n",
       "      <td>30</td>\n",
       "      <td>Closed</td>\n",
       "      <td>23.773057</td>\n",
       "      <td>8.666667</td>\n",
       "      <td>26</td>\n",
       "      <td>0</td>\n",
       "      <td>7392</td>\n",
       "    </tr>\n",
       "    <tr>\n",
       "      <th>4</th>\n",
       "      <td>1rrp</td>\n",
       "      <td>10.590</td>\n",
       "      <td>P62826</td>\n",
       "      <td>010</td>\n",
       "      <td>4.928</td>\n",
       "      <td>30</td>\n",
       "      <td>Closed</td>\n",
       "      <td>0.000000</td>\n",
       "      <td>2.000000</td>\n",
       "      <td>2</td>\n",
       "      <td>2</td>\n",
       "      <td>4</td>\n",
       "    </tr>\n",
       "  </tbody>\n",
       "</table>\n",
       "</div>"
      ],
      "text/plain": [
       "    pdb    IMAE uniprot cluster  Complex RMSD  uniprot_lineage_length  \\\n",
       "0  1fbv  16.614  P22681     001        26.959                      30   \n",
       "1  1k5d  13.037  P62826     010         5.794                      30   \n",
       "2  1k5g  13.059  P62826     066         6.376                      30   \n",
       "3  1pme   6.000  P28482     081         2.834                      30   \n",
       "4  1rrp  10.590  P62826     010         4.928                      30   \n",
       "\n",
       "  cf_conformation        var       mean  max  min  counts  \n",
       "0          Closed   3.276880  12.743421   13    0     456  \n",
       "1          Closed   0.000000   2.000000    2    2       4  \n",
       "2          Closed   0.000000   3.000000    3    3     198  \n",
       "3          Closed  23.773057   8.666667   26    0    7392  \n",
       "4          Closed   0.000000   2.000000    2    2       4  "
      ]
     },
     "execution_count": 448,
     "metadata": {},
     "output_type": "execute_result"
    }
   ],
   "source": [
    "pre = closed.drop(columns=['filename', 'uniref', 'taxonId', 'uniprot_lineage', 'cluster_lineage', 'lineage_score', 'cluster_lineage_length', 'state', 'conformation'])\n",
    "pre = pre.drop_duplicates().reset_index(drop=True)\n",
    "\n",
    "# What if we got rid of the uniformly sampled clusters? I.e. any cluster with U in it\n",
    "pre = pre[~pre['cluster'].str.contains('U')]\n",
    "pre.head()"
   ]
  },
  {
   "cell_type": "code",
   "execution_count": 449,
   "metadata": {},
   "outputs": [
    {
     "data": {
      "text/html": [
       "<div>\n",
       "<style scoped>\n",
       "    .dataframe tbody tr th:only-of-type {\n",
       "        vertical-align: middle;\n",
       "    }\n",
       "\n",
       "    .dataframe tbody tr th {\n",
       "        vertical-align: top;\n",
       "    }\n",
       "\n",
       "    .dataframe thead th {\n",
       "        text-align: right;\n",
       "    }\n",
       "</style>\n",
       "<table border=\"1\" class=\"dataframe\">\n",
       "  <thead>\n",
       "    <tr style=\"text-align: right;\">\n",
       "      <th></th>\n",
       "      <th>IMAE</th>\n",
       "      <th>Complex RMSD</th>\n",
       "      <th>uniprot_lineage_length</th>\n",
       "      <th>cf_conformation</th>\n",
       "      <th>var</th>\n",
       "      <th>mean</th>\n",
       "      <th>max</th>\n",
       "      <th>min</th>\n",
       "      <th>counts</th>\n",
       "    </tr>\n",
       "  </thead>\n",
       "  <tbody>\n",
       "    <tr>\n",
       "      <th>0</th>\n",
       "      <td>16.614</td>\n",
       "      <td>26.959</td>\n",
       "      <td>30</td>\n",
       "      <td>0</td>\n",
       "      <td>3.276880</td>\n",
       "      <td>12.743421</td>\n",
       "      <td>13</td>\n",
       "      <td>0</td>\n",
       "      <td>456</td>\n",
       "    </tr>\n",
       "    <tr>\n",
       "      <th>1</th>\n",
       "      <td>13.037</td>\n",
       "      <td>5.794</td>\n",
       "      <td>30</td>\n",
       "      <td>0</td>\n",
       "      <td>0.000000</td>\n",
       "      <td>2.000000</td>\n",
       "      <td>2</td>\n",
       "      <td>2</td>\n",
       "      <td>4</td>\n",
       "    </tr>\n",
       "    <tr>\n",
       "      <th>2</th>\n",
       "      <td>13.059</td>\n",
       "      <td>6.376</td>\n",
       "      <td>30</td>\n",
       "      <td>0</td>\n",
       "      <td>0.000000</td>\n",
       "      <td>3.000000</td>\n",
       "      <td>3</td>\n",
       "      <td>3</td>\n",
       "      <td>198</td>\n",
       "    </tr>\n",
       "    <tr>\n",
       "      <th>3</th>\n",
       "      <td>6.000</td>\n",
       "      <td>2.834</td>\n",
       "      <td>30</td>\n",
       "      <td>0</td>\n",
       "      <td>23.773057</td>\n",
       "      <td>8.666667</td>\n",
       "      <td>26</td>\n",
       "      <td>0</td>\n",
       "      <td>7392</td>\n",
       "    </tr>\n",
       "    <tr>\n",
       "      <th>4</th>\n",
       "      <td>10.590</td>\n",
       "      <td>4.928</td>\n",
       "      <td>30</td>\n",
       "      <td>0</td>\n",
       "      <td>0.000000</td>\n",
       "      <td>2.000000</td>\n",
       "      <td>2</td>\n",
       "      <td>2</td>\n",
       "      <td>4</td>\n",
       "    </tr>\n",
       "  </tbody>\n",
       "</table>\n",
       "</div>"
      ],
      "text/plain": [
       "     IMAE  Complex RMSD  uniprot_lineage_length  cf_conformation        var  \\\n",
       "0  16.614        26.959                      30                0   3.276880   \n",
       "1  13.037         5.794                      30                0   0.000000   \n",
       "2  13.059         6.376                      30                0   0.000000   \n",
       "3   6.000         2.834                      30                0  23.773057   \n",
       "4  10.590         4.928                      30                0   0.000000   \n",
       "\n",
       "        mean  max  min  counts  \n",
       "0  12.743421   13    0     456  \n",
       "1   2.000000    2    2       4  \n",
       "2   3.000000    3    3     198  \n",
       "3   8.666667   26    0    7392  \n",
       "4   2.000000    2    2       4  "
      ]
     },
     "execution_count": 449,
     "metadata": {},
     "output_type": "execute_result"
    }
   ],
   "source": [
    "#We'll one-hot the state and conformation. 0 if Autoinhibited/Closed, 1 if Active/Open\n",
    "pre['cf_conformation'] = pre['cf_conformation'].map({'Closed': 0, 'Open': 1})\n",
    "pre = pre.drop(columns=['uniprot', 'cluster', 'pdb'])\n",
    "pre.head()"
   ]
  },
  {
   "cell_type": "code",
   "execution_count": 450,
   "metadata": {},
   "outputs": [],
   "source": [
    "# Now we'll make a dataset for the conformation\n",
    "conf = pre.drop(columns=['Complex RMSD', 'IMAE'])\n",
    "\n",
    "# Now we'll make a dataset for the Complex RMSD\n",
    "rmsd = pre.drop(columns=['IMAE', 'cf_conformation'])\n",
    "\n",
    "# Finally, we'll make a dataset for the IMAE\n",
    "imae = pre.drop(columns=['Complex RMSD', 'cf_conformation'])"
   ]
  },
  {
   "cell_type": "code",
   "execution_count": 451,
   "metadata": {},
   "outputs": [],
   "source": [
    "# Split the data into features and target\n",
    "X = conf.drop('cf_conformation', axis=1)\n",
    "Y = conf['cf_conformation']\n",
    "\n",
    "# Split the data into training and test sets\n",
    "X_train, X_test, Y_train, Y_test = train_test_split(X, Y, test_size=0.2, random_state=42)"
   ]
  },
  {
   "cell_type": "code",
   "execution_count": 452,
   "metadata": {},
   "outputs": [
    {
     "data": {
      "text/html": [
       "<style>#sk-container-id-67 {color: black;}#sk-container-id-67 pre{padding: 0;}#sk-container-id-67 div.sk-toggleable {background-color: white;}#sk-container-id-67 label.sk-toggleable__label {cursor: pointer;display: block;width: 100%;margin-bottom: 0;padding: 0.3em;box-sizing: border-box;text-align: center;}#sk-container-id-67 label.sk-toggleable__label-arrow:before {content: \"▸\";float: left;margin-right: 0.25em;color: #696969;}#sk-container-id-67 label.sk-toggleable__label-arrow:hover:before {color: black;}#sk-container-id-67 div.sk-estimator:hover label.sk-toggleable__label-arrow:before {color: black;}#sk-container-id-67 div.sk-toggleable__content {max-height: 0;max-width: 0;overflow: hidden;text-align: left;background-color: #f0f8ff;}#sk-container-id-67 div.sk-toggleable__content pre {margin: 0.2em;color: black;border-radius: 0.25em;background-color: #f0f8ff;}#sk-container-id-67 input.sk-toggleable__control:checked~div.sk-toggleable__content {max-height: 200px;max-width: 100%;overflow: auto;}#sk-container-id-67 input.sk-toggleable__control:checked~label.sk-toggleable__label-arrow:before {content: \"▾\";}#sk-container-id-67 div.sk-estimator input.sk-toggleable__control:checked~label.sk-toggleable__label {background-color: #d4ebff;}#sk-container-id-67 div.sk-label input.sk-toggleable__control:checked~label.sk-toggleable__label {background-color: #d4ebff;}#sk-container-id-67 input.sk-hidden--visually {border: 0;clip: rect(1px 1px 1px 1px);clip: rect(1px, 1px, 1px, 1px);height: 1px;margin: -1px;overflow: hidden;padding: 0;position: absolute;width: 1px;}#sk-container-id-67 div.sk-estimator {font-family: monospace;background-color: #f0f8ff;border: 1px dotted black;border-radius: 0.25em;box-sizing: border-box;margin-bottom: 0.5em;}#sk-container-id-67 div.sk-estimator:hover {background-color: #d4ebff;}#sk-container-id-67 div.sk-parallel-item::after {content: \"\";width: 100%;border-bottom: 1px solid gray;flex-grow: 1;}#sk-container-id-67 div.sk-label:hover label.sk-toggleable__label {background-color: #d4ebff;}#sk-container-id-67 div.sk-serial::before {content: \"\";position: absolute;border-left: 1px solid gray;box-sizing: border-box;top: 0;bottom: 0;left: 50%;z-index: 0;}#sk-container-id-67 div.sk-serial {display: flex;flex-direction: column;align-items: center;background-color: white;padding-right: 0.2em;padding-left: 0.2em;position: relative;}#sk-container-id-67 div.sk-item {position: relative;z-index: 1;}#sk-container-id-67 div.sk-parallel {display: flex;align-items: stretch;justify-content: center;background-color: white;position: relative;}#sk-container-id-67 div.sk-item::before, #sk-container-id-67 div.sk-parallel-item::before {content: \"\";position: absolute;border-left: 1px solid gray;box-sizing: border-box;top: 0;bottom: 0;left: 50%;z-index: -1;}#sk-container-id-67 div.sk-parallel-item {display: flex;flex-direction: column;z-index: 1;position: relative;background-color: white;}#sk-container-id-67 div.sk-parallel-item:first-child::after {align-self: flex-end;width: 50%;}#sk-container-id-67 div.sk-parallel-item:last-child::after {align-self: flex-start;width: 50%;}#sk-container-id-67 div.sk-parallel-item:only-child::after {width: 0;}#sk-container-id-67 div.sk-dashed-wrapped {border: 1px dashed gray;margin: 0 0.4em 0.5em 0.4em;box-sizing: border-box;padding-bottom: 0.4em;background-color: white;}#sk-container-id-67 div.sk-label label {font-family: monospace;font-weight: bold;display: inline-block;line-height: 1.2em;}#sk-container-id-67 div.sk-label-container {text-align: center;}#sk-container-id-67 div.sk-container {/* jupyter's `normalize.less` sets `[hidden] { display: none; }` but bootstrap.min.css set `[hidden] { display: none !important; }` so we also need the `!important` here to be able to override the default hidden behavior on the sphinx rendered scikit-learn.org. See: https://github.com/scikit-learn/scikit-learn/issues/21755 */display: inline-block !important;position: relative;}#sk-container-id-67 div.sk-text-repr-fallback {display: none;}</style><div id=\"sk-container-id-67\" class=\"sk-top-container\"><div class=\"sk-text-repr-fallback\"><pre>RandomForestClassifier()</pre><b>In a Jupyter environment, please rerun this cell to show the HTML representation or trust the notebook. <br />On GitHub, the HTML representation is unable to render, please try loading this page with nbviewer.org.</b></div><div class=\"sk-container\" hidden><div class=\"sk-item\"><div class=\"sk-estimator sk-toggleable\"><input class=\"sk-toggleable__control sk-hidden--visually\" id=\"sk-estimator-id-133\" type=\"checkbox\" checked><label for=\"sk-estimator-id-133\" class=\"sk-toggleable__label sk-toggleable__label-arrow\">RandomForestClassifier</label><div class=\"sk-toggleable__content\"><pre>RandomForestClassifier()</pre></div></div></div></div></div>"
      ],
      "text/plain": [
       "RandomForestClassifier()"
      ]
     },
     "execution_count": 452,
     "metadata": {},
     "output_type": "execute_result"
    }
   ],
   "source": [
    "rf = RandomForestClassifier()\n",
    "rf.fit(X_train, Y_train)"
   ]
  },
  {
   "cell_type": "code",
   "execution_count": 453,
   "metadata": {},
   "outputs": [
    {
     "name": "stdout",
     "output_type": "stream",
     "text": [
      "Accuracy: 1.0\n"
     ]
    }
   ],
   "source": [
    "Y_pred = rf.predict(X_test)\n",
    "\n",
    "accuracy = accuracy_score(Y_test, Y_pred)\n",
    "print(f'Accuracy: {accuracy}')"
   ]
  },
  {
   "cell_type": "code",
   "execution_count": 454,
   "metadata": {},
   "outputs": [
    {
     "data": {
      "image/svg+xml": [
       "<?xml version=\"1.0\" encoding=\"UTF-8\" standalone=\"no\"?>\n",
       "<!DOCTYPE svg PUBLIC \"-//W3C//DTD SVG 1.1//EN\"\n",
       " \"http://www.w3.org/Graphics/SVG/1.1/DTD/svg11.dtd\">\n",
       "<!-- Generated by graphviz version 2.50.0 (0)\n",
       " -->\n",
       "<!-- Title: Tree Pages: 1 -->\n",
       "<svg width=\"407pt\" height=\"311pt\"\n",
       " viewBox=\"0.00 0.00 407.00 311.00\" xmlns=\"http://www.w3.org/2000/svg\" xmlns:xlink=\"http://www.w3.org/1999/xlink\">\n",
       "<g id=\"graph0\" class=\"graph\" transform=\"scale(1 1) rotate(0) translate(4 307)\">\n",
       "<title>Tree</title>\n",
       "<polygon fill=\"white\" stroke=\"transparent\" points=\"-4,4 -4,-307 403,-307 403,4 -4,4\"/>\n",
       "<!-- 0 -->\n",
       "<g id=\"node1\" class=\"node\">\n",
       "<title>0</title>\n",
       "<polygon fill=\"#e5823b\" stroke=\"black\" points=\"320,-303 162,-303 162,-250 320,-250 320,-303\"/>\n",
       "<text text-anchor=\"middle\" x=\"241\" y=\"-287.8\" font-family=\"Helvetica,sans-Serif\" font-size=\"14.00\">var &lt;= 0.026</text>\n",
       "<text text-anchor=\"middle\" x=\"241\" y=\"-272.8\" font-family=\"Helvetica,sans-Serif\" font-size=\"14.00\">samples = 100.0%</text>\n",
       "<text text-anchor=\"middle\" x=\"241\" y=\"-257.8\" font-family=\"Helvetica,sans-Serif\" font-size=\"14.00\">value = [0.99, 0.01]</text>\n",
       "</g>\n",
       "<!-- 1 -->\n",
       "<g id=\"node2\" class=\"node\">\n",
       "<title>1</title>\n",
       "<polygon fill=\"#e6843d\" stroke=\"black\" points=\"241,-214 65,-214 65,-161 241,-161 241,-214\"/>\n",
       "<text text-anchor=\"middle\" x=\"153\" y=\"-198.8\" font-family=\"Helvetica,sans-Serif\" font-size=\"14.00\">mean &lt;= 6.5</text>\n",
       "<text text-anchor=\"middle\" x=\"153\" y=\"-183.8\" font-family=\"Helvetica,sans-Serif\" font-size=\"14.00\">samples = 48.0%</text>\n",
       "<text text-anchor=\"middle\" x=\"153\" y=\"-168.8\" font-family=\"Helvetica,sans-Serif\" font-size=\"14.00\">value = [0.979, 0.021]</text>\n",
       "</g>\n",
       "<!-- 0&#45;&gt;1 -->\n",
       "<g id=\"edge1\" class=\"edge\">\n",
       "<title>0&#45;&gt;1</title>\n",
       "<path fill=\"none\" stroke=\"black\" d=\"M215.07,-249.87C206.02,-240.92 195.74,-230.75 186.18,-221.3\"/>\n",
       "<polygon fill=\"black\" stroke=\"black\" points=\"188.62,-218.79 179.05,-214.25 183.7,-223.77 188.62,-218.79\"/>\n",
       "<text text-anchor=\"middle\" x=\"179.19\" y=\"-235.55\" font-family=\"Helvetica,sans-Serif\" font-size=\"14.00\">True</text>\n",
       "</g>\n",
       "<!-- 6 -->\n",
       "<g id=\"node7\" class=\"node\">\n",
       "<title>6</title>\n",
       "<polygon fill=\"#e58139\" stroke=\"black\" points=\"399,-206.5 259,-206.5 259,-168.5 399,-168.5 399,-206.5\"/>\n",
       "<text text-anchor=\"middle\" x=\"329\" y=\"-191.3\" font-family=\"Helvetica,sans-Serif\" font-size=\"14.00\">samples = 52.0%</text>\n",
       "<text text-anchor=\"middle\" x=\"329\" y=\"-176.3\" font-family=\"Helvetica,sans-Serif\" font-size=\"14.00\">value = [1.0, 0.0]</text>\n",
       "</g>\n",
       "<!-- 0&#45;&gt;6 -->\n",
       "<g id=\"edge6\" class=\"edge\">\n",
       "<title>0&#45;&gt;6</title>\n",
       "<path fill=\"none\" stroke=\"black\" d=\"M266.93,-249.87C278.49,-238.44 292.07,-225.01 303.57,-213.64\"/>\n",
       "<polygon fill=\"black\" stroke=\"black\" points=\"306.14,-216.03 310.79,-206.51 301.21,-211.05 306.14,-216.03\"/>\n",
       "<text text-anchor=\"middle\" x=\"310.64\" y=\"-227.81\" font-family=\"Helvetica,sans-Serif\" font-size=\"14.00\">False</text>\n",
       "</g>\n",
       "<!-- 2 -->\n",
       "<g id=\"node3\" class=\"node\">\n",
       "<title>2</title>\n",
       "<polygon fill=\"#e58139\" stroke=\"black\" points=\"140,-117.5 0,-117.5 0,-79.5 140,-79.5 140,-117.5\"/>\n",
       "<text text-anchor=\"middle\" x=\"70\" y=\"-102.3\" font-family=\"Helvetica,sans-Serif\" font-size=\"14.00\">samples = 44.0%</text>\n",
       "<text text-anchor=\"middle\" x=\"70\" y=\"-87.3\" font-family=\"Helvetica,sans-Serif\" font-size=\"14.00\">value = [1.0, 0.0]</text>\n",
       "</g>\n",
       "<!-- 1&#45;&gt;2 -->\n",
       "<g id=\"edge2\" class=\"edge\">\n",
       "<title>1&#45;&gt;2</title>\n",
       "<path fill=\"none\" stroke=\"black\" d=\"M128.55,-160.87C117.75,-149.55 105.08,-136.27 94.3,-124.97\"/>\n",
       "<polygon fill=\"black\" stroke=\"black\" points=\"96.61,-122.33 87.18,-117.51 91.55,-127.16 96.61,-122.33\"/>\n",
       "</g>\n",
       "<!-- 3 -->\n",
       "<g id=\"node4\" class=\"node\">\n",
       "<title>3</title>\n",
       "<polygon fill=\"#eeab7b\" stroke=\"black\" points=\"316,-125 158,-125 158,-72 316,-72 316,-125\"/>\n",
       "<text text-anchor=\"middle\" x=\"237\" y=\"-109.8\" font-family=\"Helvetica,sans-Serif\" font-size=\"14.00\">mean &lt;= 10.0</text>\n",
       "<text text-anchor=\"middle\" x=\"237\" y=\"-94.8\" font-family=\"Helvetica,sans-Serif\" font-size=\"14.00\">samples = 4.0%</text>\n",
       "<text text-anchor=\"middle\" x=\"237\" y=\"-79.8\" font-family=\"Helvetica,sans-Serif\" font-size=\"14.00\">value = [0.75, 0.25]</text>\n",
       "</g>\n",
       "<!-- 1&#45;&gt;3 -->\n",
       "<g id=\"edge3\" class=\"edge\">\n",
       "<title>1&#45;&gt;3</title>\n",
       "<path fill=\"none\" stroke=\"black\" d=\"M177.75,-160.87C186.3,-152.01 196.01,-141.95 205.06,-132.58\"/>\n",
       "<polygon fill=\"black\" stroke=\"black\" points=\"207.71,-134.87 212.14,-125.25 202.67,-130.01 207.71,-134.87\"/>\n",
       "</g>\n",
       "<!-- 4 -->\n",
       "<g id=\"node5\" class=\"node\">\n",
       "<title>4</title>\n",
       "<polygon fill=\"#c0c0c0\" stroke=\"black\" points=\"228,-36 174,-36 174,0 228,0 228,-36\"/>\n",
       "<text text-anchor=\"middle\" x=\"201\" y=\"-14.3\" font-family=\"Helvetica,sans-Serif\" font-size=\"14.00\">(...)</text>\n",
       "</g>\n",
       "<!-- 3&#45;&gt;4 -->\n",
       "<g id=\"edge4\" class=\"edge\">\n",
       "<title>3&#45;&gt;4</title>\n",
       "<path fill=\"none\" stroke=\"black\" d=\"M225.21,-71.8C221.34,-63.35 217.03,-53.95 213.13,-45.45\"/>\n",
       "<polygon fill=\"black\" stroke=\"black\" points=\"216.3,-43.96 208.95,-36.33 209.93,-46.88 216.3,-43.96\"/>\n",
       "</g>\n",
       "<!-- 5 -->\n",
       "<g id=\"node6\" class=\"node\">\n",
       "<title>5</title>\n",
       "<polygon fill=\"#c0c0c0\" stroke=\"black\" points=\"300,-36 246,-36 246,0 300,0 300,-36\"/>\n",
       "<text text-anchor=\"middle\" x=\"273\" y=\"-14.3\" font-family=\"Helvetica,sans-Serif\" font-size=\"14.00\">(...)</text>\n",
       "</g>\n",
       "<!-- 3&#45;&gt;5 -->\n",
       "<g id=\"edge5\" class=\"edge\">\n",
       "<title>3&#45;&gt;5</title>\n",
       "<path fill=\"none\" stroke=\"black\" d=\"M248.79,-71.8C252.66,-63.35 256.97,-53.95 260.87,-45.45\"/>\n",
       "<polygon fill=\"black\" stroke=\"black\" points=\"264.07,-46.88 265.05,-36.33 257.7,-43.96 264.07,-46.88\"/>\n",
       "</g>\n",
       "</g>\n",
       "</svg>\n"
      ],
      "text/plain": [
       "<graphviz.sources.Source at 0x7fc00c8641a0>"
      ]
     },
     "metadata": {},
     "output_type": "display_data"
    },
    {
     "data": {
      "image/svg+xml": [
       "<?xml version=\"1.0\" encoding=\"UTF-8\" standalone=\"no\"?>\n",
       "<!DOCTYPE svg PUBLIC \"-//W3C//DTD SVG 1.1//EN\"\n",
       " \"http://www.w3.org/Graphics/SVG/1.1/DTD/svg11.dtd\">\n",
       "<!-- Generated by graphviz version 2.50.0 (0)\n",
       " -->\n",
       "<!-- Title: Tree Pages: 1 -->\n",
       "<svg width=\"157pt\" height=\"46pt\"\n",
       " viewBox=\"0.00 0.00 157.00 46.00\" xmlns=\"http://www.w3.org/2000/svg\" xmlns:xlink=\"http://www.w3.org/1999/xlink\">\n",
       "<g id=\"graph0\" class=\"graph\" transform=\"scale(1 1) rotate(0) translate(4 42)\">\n",
       "<title>Tree</title>\n",
       "<polygon fill=\"white\" stroke=\"transparent\" points=\"-4,4 -4,-42 153,-42 153,4 -4,4\"/>\n",
       "<!-- 0 -->\n",
       "<g id=\"node1\" class=\"node\">\n",
       "<title>0</title>\n",
       "<polygon fill=\"#e58139\" stroke=\"black\" points=\"149,-38 0,-38 0,0 149,0 149,-38\"/>\n",
       "<text text-anchor=\"middle\" x=\"74.5\" y=\"-22.8\" font-family=\"Helvetica,sans-Serif\" font-size=\"14.00\">samples = 100.0%</text>\n",
       "<text text-anchor=\"middle\" x=\"74.5\" y=\"-7.8\" font-family=\"Helvetica,sans-Serif\" font-size=\"14.00\">value = [1.0, 0.0]</text>\n",
       "</g>\n",
       "</g>\n",
       "</svg>\n"
      ],
      "text/plain": [
       "<graphviz.sources.Source at 0x7fbffdc7ffb0>"
      ]
     },
     "metadata": {},
     "output_type": "display_data"
    },
    {
     "data": {
      "image/svg+xml": [
       "<?xml version=\"1.0\" encoding=\"UTF-8\" standalone=\"no\"?>\n",
       "<!DOCTYPE svg PUBLIC \"-//W3C//DTD SVG 1.1//EN\"\n",
       " \"http://www.w3.org/Graphics/SVG/1.1/DTD/svg11.dtd\">\n",
       "<!-- Generated by graphviz version 2.50.0 (0)\n",
       " -->\n",
       "<!-- Title: Tree Pages: 1 -->\n",
       "<svg width=\"157pt\" height=\"46pt\"\n",
       " viewBox=\"0.00 0.00 157.00 46.00\" xmlns=\"http://www.w3.org/2000/svg\" xmlns:xlink=\"http://www.w3.org/1999/xlink\">\n",
       "<g id=\"graph0\" class=\"graph\" transform=\"scale(1 1) rotate(0) translate(4 42)\">\n",
       "<title>Tree</title>\n",
       "<polygon fill=\"white\" stroke=\"transparent\" points=\"-4,4 -4,-42 153,-42 153,4 -4,4\"/>\n",
       "<!-- 0 -->\n",
       "<g id=\"node1\" class=\"node\">\n",
       "<title>0</title>\n",
       "<polygon fill=\"#e58139\" stroke=\"black\" points=\"149,-38 0,-38 0,0 149,0 149,-38\"/>\n",
       "<text text-anchor=\"middle\" x=\"74.5\" y=\"-22.8\" font-family=\"Helvetica,sans-Serif\" font-size=\"14.00\">samples = 100.0%</text>\n",
       "<text text-anchor=\"middle\" x=\"74.5\" y=\"-7.8\" font-family=\"Helvetica,sans-Serif\" font-size=\"14.00\">value = [1.0, 0.0]</text>\n",
       "</g>\n",
       "</g>\n",
       "</svg>\n"
      ],
      "text/plain": [
       "<graphviz.sources.Source at 0x7fc00c8641a0>"
      ]
     },
     "metadata": {},
     "output_type": "display_data"
    }
   ],
   "source": [
    "# Export the first three decision trees from the forest\n",
    "\n",
    "for i in range(3):\n",
    "    tree = rf.estimators_[i]\n",
    "    dot_data = export_graphviz(tree,\n",
    "                               feature_names=X_train.columns,  \n",
    "                               filled=True,  \n",
    "                               max_depth=2, \n",
    "                               impurity=False, \n",
    "                               proportion=True)\n",
    "    graph = graphviz.Source(dot_data)\n",
    "    display(graph)"
   ]
  },
  {
   "cell_type": "code",
   "execution_count": 455,
   "metadata": {},
   "outputs": [
    {
     "name": "stderr",
     "output_type": "stream",
     "text": [
      "/home/bjechow/anaconda3/envs/ranforest/lib/python3.12/site-packages/sklearn/model_selection/_split.py:725: UserWarning: The least populated class in y has only 1 members, which is less than n_splits=5.\n",
      "  warnings.warn(\n"
     ]
    },
    {
     "data": {
      "text/html": [
       "<style>#sk-container-id-68 {color: black;}#sk-container-id-68 pre{padding: 0;}#sk-container-id-68 div.sk-toggleable {background-color: white;}#sk-container-id-68 label.sk-toggleable__label {cursor: pointer;display: block;width: 100%;margin-bottom: 0;padding: 0.3em;box-sizing: border-box;text-align: center;}#sk-container-id-68 label.sk-toggleable__label-arrow:before {content: \"▸\";float: left;margin-right: 0.25em;color: #696969;}#sk-container-id-68 label.sk-toggleable__label-arrow:hover:before {color: black;}#sk-container-id-68 div.sk-estimator:hover label.sk-toggleable__label-arrow:before {color: black;}#sk-container-id-68 div.sk-toggleable__content {max-height: 0;max-width: 0;overflow: hidden;text-align: left;background-color: #f0f8ff;}#sk-container-id-68 div.sk-toggleable__content pre {margin: 0.2em;color: black;border-radius: 0.25em;background-color: #f0f8ff;}#sk-container-id-68 input.sk-toggleable__control:checked~div.sk-toggleable__content {max-height: 200px;max-width: 100%;overflow: auto;}#sk-container-id-68 input.sk-toggleable__control:checked~label.sk-toggleable__label-arrow:before {content: \"▾\";}#sk-container-id-68 div.sk-estimator input.sk-toggleable__control:checked~label.sk-toggleable__label {background-color: #d4ebff;}#sk-container-id-68 div.sk-label input.sk-toggleable__control:checked~label.sk-toggleable__label {background-color: #d4ebff;}#sk-container-id-68 input.sk-hidden--visually {border: 0;clip: rect(1px 1px 1px 1px);clip: rect(1px, 1px, 1px, 1px);height: 1px;margin: -1px;overflow: hidden;padding: 0;position: absolute;width: 1px;}#sk-container-id-68 div.sk-estimator {font-family: monospace;background-color: #f0f8ff;border: 1px dotted black;border-radius: 0.25em;box-sizing: border-box;margin-bottom: 0.5em;}#sk-container-id-68 div.sk-estimator:hover {background-color: #d4ebff;}#sk-container-id-68 div.sk-parallel-item::after {content: \"\";width: 100%;border-bottom: 1px solid gray;flex-grow: 1;}#sk-container-id-68 div.sk-label:hover label.sk-toggleable__label {background-color: #d4ebff;}#sk-container-id-68 div.sk-serial::before {content: \"\";position: absolute;border-left: 1px solid gray;box-sizing: border-box;top: 0;bottom: 0;left: 50%;z-index: 0;}#sk-container-id-68 div.sk-serial {display: flex;flex-direction: column;align-items: center;background-color: white;padding-right: 0.2em;padding-left: 0.2em;position: relative;}#sk-container-id-68 div.sk-item {position: relative;z-index: 1;}#sk-container-id-68 div.sk-parallel {display: flex;align-items: stretch;justify-content: center;background-color: white;position: relative;}#sk-container-id-68 div.sk-item::before, #sk-container-id-68 div.sk-parallel-item::before {content: \"\";position: absolute;border-left: 1px solid gray;box-sizing: border-box;top: 0;bottom: 0;left: 50%;z-index: -1;}#sk-container-id-68 div.sk-parallel-item {display: flex;flex-direction: column;z-index: 1;position: relative;background-color: white;}#sk-container-id-68 div.sk-parallel-item:first-child::after {align-self: flex-end;width: 50%;}#sk-container-id-68 div.sk-parallel-item:last-child::after {align-self: flex-start;width: 50%;}#sk-container-id-68 div.sk-parallel-item:only-child::after {width: 0;}#sk-container-id-68 div.sk-dashed-wrapped {border: 1px dashed gray;margin: 0 0.4em 0.5em 0.4em;box-sizing: border-box;padding-bottom: 0.4em;background-color: white;}#sk-container-id-68 div.sk-label label {font-family: monospace;font-weight: bold;display: inline-block;line-height: 1.2em;}#sk-container-id-68 div.sk-label-container {text-align: center;}#sk-container-id-68 div.sk-container {/* jupyter's `normalize.less` sets `[hidden] { display: none; }` but bootstrap.min.css set `[hidden] { display: none !important; }` so we also need the `!important` here to be able to override the default hidden behavior on the sphinx rendered scikit-learn.org. See: https://github.com/scikit-learn/scikit-learn/issues/21755 */display: inline-block !important;position: relative;}#sk-container-id-68 div.sk-text-repr-fallback {display: none;}</style><div id=\"sk-container-id-68\" class=\"sk-top-container\"><div class=\"sk-text-repr-fallback\"><pre>RandomizedSearchCV(cv=5, estimator=RandomForestClassifier(), n_iter=5,\n",
       "                   param_distributions={&#x27;max_depth&#x27;: &lt;scipy.stats._distn_infrastructure.rv_discrete_frozen object at 0x7fbffdc57260&gt;,\n",
       "                                        &#x27;n_estimators&#x27;: &lt;scipy.stats._distn_infrastructure.rv_discrete_frozen object at 0x7fbffdc57aa0&gt;})</pre><b>In a Jupyter environment, please rerun this cell to show the HTML representation or trust the notebook. <br />On GitHub, the HTML representation is unable to render, please try loading this page with nbviewer.org.</b></div><div class=\"sk-container\" hidden><div class=\"sk-item sk-dashed-wrapped\"><div class=\"sk-label-container\"><div class=\"sk-label sk-toggleable\"><input class=\"sk-toggleable__control sk-hidden--visually\" id=\"sk-estimator-id-134\" type=\"checkbox\" ><label for=\"sk-estimator-id-134\" class=\"sk-toggleable__label sk-toggleable__label-arrow\">RandomizedSearchCV</label><div class=\"sk-toggleable__content\"><pre>RandomizedSearchCV(cv=5, estimator=RandomForestClassifier(), n_iter=5,\n",
       "                   param_distributions={&#x27;max_depth&#x27;: &lt;scipy.stats._distn_infrastructure.rv_discrete_frozen object at 0x7fbffdc57260&gt;,\n",
       "                                        &#x27;n_estimators&#x27;: &lt;scipy.stats._distn_infrastructure.rv_discrete_frozen object at 0x7fbffdc57aa0&gt;})</pre></div></div></div><div class=\"sk-parallel\"><div class=\"sk-parallel-item\"><div class=\"sk-item\"><div class=\"sk-label-container\"><div class=\"sk-label sk-toggleable\"><input class=\"sk-toggleable__control sk-hidden--visually\" id=\"sk-estimator-id-135\" type=\"checkbox\" ><label for=\"sk-estimator-id-135\" class=\"sk-toggleable__label sk-toggleable__label-arrow\">estimator: RandomForestClassifier</label><div class=\"sk-toggleable__content\"><pre>RandomForestClassifier()</pre></div></div></div><div class=\"sk-serial\"><div class=\"sk-item\"><div class=\"sk-estimator sk-toggleable\"><input class=\"sk-toggleable__control sk-hidden--visually\" id=\"sk-estimator-id-136\" type=\"checkbox\" ><label for=\"sk-estimator-id-136\" class=\"sk-toggleable__label sk-toggleable__label-arrow\">RandomForestClassifier</label><div class=\"sk-toggleable__content\"><pre>RandomForestClassifier()</pre></div></div></div></div></div></div></div></div></div></div>"
      ],
      "text/plain": [
       "RandomizedSearchCV(cv=5, estimator=RandomForestClassifier(), n_iter=5,\n",
       "                   param_distributions={'max_depth': <scipy.stats._distn_infrastructure.rv_discrete_frozen object at 0x7fbffdc57260>,\n",
       "                                        'n_estimators': <scipy.stats._distn_infrastructure.rv_discrete_frozen object at 0x7fbffdc57aa0>})"
      ]
     },
     "execution_count": 455,
     "metadata": {},
     "output_type": "execute_result"
    }
   ],
   "source": [
    "param_dist = {'n_estimators': randint(50,500),\n",
    "              'max_depth': randint(1,20)}\n",
    "\n",
    "# Create a random forest classifier\n",
    "rf = RandomForestClassifier()\n",
    "\n",
    "# Use random search to find the best hyperparameters\n",
    "rand_search = RandomizedSearchCV(rf, \n",
    "                                 param_distributions = param_dist, \n",
    "                                 n_iter=5, \n",
    "                                 cv=5)\n",
    "\n",
    "# Fit the random search object to the data\n",
    "rand_search.fit(X_train, Y_train)"
   ]
  },
  {
   "cell_type": "code",
   "execution_count": 456,
   "metadata": {},
   "outputs": [
    {
     "name": "stdout",
     "output_type": "stream",
     "text": [
      "Best hyperparameters: {'max_depth': 12, 'n_estimators': 148}\n"
     ]
    }
   ],
   "source": [
    "# Create a variable for the best model\n",
    "best_rf = rand_search.best_estimator_\n",
    "\n",
    "# Print the best hyperparameters\n",
    "print('Best hyperparameters:',  rand_search.best_params_)"
   ]
  },
  {
   "cell_type": "code",
   "execution_count": 457,
   "metadata": {},
   "outputs": [
    {
     "data": {
      "image/png": "[encoded data removed]",
      "text/plain": [
       "<Figure size 640x480 with 2 Axes>"
      ]
     },
     "metadata": {},
     "output_type": "display_data"
    }
   ],
   "source": [
    "# Generate predictions with the best model\n",
    "y_pred = best_rf.predict(X_test)\n",
    "\n",
    "# Create the confusion matrix\n",
    "cm = confusion_matrix(Y_test, Y_pred)\n",
    "\n",
    "ConfusionMatrixDisplay(confusion_matrix=cm).plot();"
   ]
  },
  {
   "cell_type": "code",
   "execution_count": 458,
   "metadata": {},
   "outputs": [
    {
     "name": "stdout",
     "output_type": "stream",
     "text": [
      "Accuracy: 1.0\n",
      "Precision: 1.0\n",
      "Recall: 1.0\n"
     ]
    }
   ],
   "source": [
    "accuracy = accuracy_score(Y_test, y_pred)\n",
    "precision = precision_score(Y_test, y_pred)\n",
    "recall = recall_score(Y_test, y_pred)\n",
    "\n",
    "print(\"Accuracy:\", accuracy)\n",
    "print(\"Precision:\", precision)\n",
    "print(\"Recall:\", recall)"
   ]
  },
  {
   "cell_type": "code",
   "execution_count": 459,
   "metadata": {},
   "outputs": [
    {
     "data": {
      "image/png": "[encoded data removed]",
      "text/plain": [
       "<Figure size 640x480 with 1 Axes>"
      ]
     },
     "metadata": {},
     "output_type": "display_data"
    }
   ],
   "source": [
    "# Create a series containing feature importances from the model and feature names from the training data\n",
    "feature_importances = pd.Series(best_rf.feature_importances_, index=X_train.columns).sort_values(ascending=False)\n",
    "\n",
    "# Plot a simple bar chart\n",
    "f = sns.barplot(x=feature_importances, y=feature_importances.index)\n",
    "f.set_title('Feature Importance for Conformation')\n",
    "f.set_xlabel('Importance')\n",
    "f.set_ylabel('Feature')\n",
    "\n",
    "plt.savefig('./project_pipeline/data/figures/closed_cf_pdb_conformation_feature_importance.png')"
   ]
  },
  {
   "cell_type": "code",
   "execution_count": 460,
   "metadata": {},
   "outputs": [],
   "source": [
    "# Split the data into features and target\n",
    "Xi = imae.drop('IMAE', axis=1)\n",
    "Yi = imae['IMAE']\n",
    "\n",
    "# Split the data into training and test sets\n",
    "Xi_train, Xi_test, Yi_train, Yi_test = train_test_split(Xi, Yi, test_size=0.2, random_state=42)"
   ]
  },
  {
   "cell_type": "code",
   "execution_count": 461,
   "metadata": {},
   "outputs": [
    {
     "data": {
      "text/html": [
       "<style>#sk-container-id-69 {color: black;}#sk-container-id-69 pre{padding: 0;}#sk-container-id-69 div.sk-toggleable {background-color: white;}#sk-container-id-69 label.sk-toggleable__label {cursor: pointer;display: block;width: 100%;margin-bottom: 0;padding: 0.3em;box-sizing: border-box;text-align: center;}#sk-container-id-69 label.sk-toggleable__label-arrow:before {content: \"▸\";float: left;margin-right: 0.25em;color: #696969;}#sk-container-id-69 label.sk-toggleable__label-arrow:hover:before {color: black;}#sk-container-id-69 div.sk-estimator:hover label.sk-toggleable__label-arrow:before {color: black;}#sk-container-id-69 div.sk-toggleable__content {max-height: 0;max-width: 0;overflow: hidden;text-align: left;background-color: #f0f8ff;}#sk-container-id-69 div.sk-toggleable__content pre {margin: 0.2em;color: black;border-radius: 0.25em;background-color: #f0f8ff;}#sk-container-id-69 input.sk-toggleable__control:checked~div.sk-toggleable__content {max-height: 200px;max-width: 100%;overflow: auto;}#sk-container-id-69 input.sk-toggleable__control:checked~label.sk-toggleable__label-arrow:before {content: \"▾\";}#sk-container-id-69 div.sk-estimator input.sk-toggleable__control:checked~label.sk-toggleable__label {background-color: #d4ebff;}#sk-container-id-69 div.sk-label input.sk-toggleable__control:checked~label.sk-toggleable__label {background-color: #d4ebff;}#sk-container-id-69 input.sk-hidden--visually {border: 0;clip: rect(1px 1px 1px 1px);clip: rect(1px, 1px, 1px, 1px);height: 1px;margin: -1px;overflow: hidden;padding: 0;position: absolute;width: 1px;}#sk-container-id-69 div.sk-estimator {font-family: monospace;background-color: #f0f8ff;border: 1px dotted black;border-radius: 0.25em;box-sizing: border-box;margin-bottom: 0.5em;}#sk-container-id-69 div.sk-estimator:hover {background-color: #d4ebff;}#sk-container-id-69 div.sk-parallel-item::after {content: \"\";width: 100%;border-bottom: 1px solid gray;flex-grow: 1;}#sk-container-id-69 div.sk-label:hover label.sk-toggleable__label {background-color: #d4ebff;}#sk-container-id-69 div.sk-serial::before {content: \"\";position: absolute;border-left: 1px solid gray;box-sizing: border-box;top: 0;bottom: 0;left: 50%;z-index: 0;}#sk-container-id-69 div.sk-serial {display: flex;flex-direction: column;align-items: center;background-color: white;padding-right: 0.2em;padding-left: 0.2em;position: relative;}#sk-container-id-69 div.sk-item {position: relative;z-index: 1;}#sk-container-id-69 div.sk-parallel {display: flex;align-items: stretch;justify-content: center;background-color: white;position: relative;}#sk-container-id-69 div.sk-item::before, #sk-container-id-69 div.sk-parallel-item::before {content: \"\";position: absolute;border-left: 1px solid gray;box-sizing: border-box;top: 0;bottom: 0;left: 50%;z-index: -1;}#sk-container-id-69 div.sk-parallel-item {display: flex;flex-direction: column;z-index: 1;position: relative;background-color: white;}#sk-container-id-69 div.sk-parallel-item:first-child::after {align-self: flex-end;width: 50%;}#sk-container-id-69 div.sk-parallel-item:last-child::after {align-self: flex-start;width: 50%;}#sk-container-id-69 div.sk-parallel-item:only-child::after {width: 0;}#sk-container-id-69 div.sk-dashed-wrapped {border: 1px dashed gray;margin: 0 0.4em 0.5em 0.4em;box-sizing: border-box;padding-bottom: 0.4em;background-color: white;}#sk-container-id-69 div.sk-label label {font-family: monospace;font-weight: bold;display: inline-block;line-height: 1.2em;}#sk-container-id-69 div.sk-label-container {text-align: center;}#sk-container-id-69 div.sk-container {/* jupyter's `normalize.less` sets `[hidden] { display: none; }` but bootstrap.min.css set `[hidden] { display: none !important; }` so we also need the `!important` here to be able to override the default hidden behavior on the sphinx rendered scikit-learn.org. See: https://github.com/scikit-learn/scikit-learn/issues/21755 */display: inline-block !important;position: relative;}#sk-container-id-69 div.sk-text-repr-fallback {display: none;}</style><div id=\"sk-container-id-69\" class=\"sk-top-container\"><div class=\"sk-text-repr-fallback\"><pre>RandomForestRegressor()</pre><b>In a Jupyter environment, please rerun this cell to show the HTML representation or trust the notebook. <br />On GitHub, the HTML representation is unable to render, please try loading this page with nbviewer.org.</b></div><div class=\"sk-container\" hidden><div class=\"sk-item\"><div class=\"sk-estimator sk-toggleable\"><input class=\"sk-toggleable__control sk-hidden--visually\" id=\"sk-estimator-id-137\" type=\"checkbox\" checked><label for=\"sk-estimator-id-137\" class=\"sk-toggleable__label sk-toggleable__label-arrow\">RandomForestRegressor</label><div class=\"sk-toggleable__content\"><pre>RandomForestRegressor()</pre></div></div></div></div></div>"
      ],
      "text/plain": [
       "RandomForestRegressor()"
      ]
     },
     "execution_count": 461,
     "metadata": {},
     "output_type": "execute_result"
    }
   ],
   "source": [
    "rf = RandomForestRegressor()\n",
    "rf.fit(Xi_train, Yi_train)"
   ]
  },
  {
   "cell_type": "code",
   "execution_count": 462,
   "metadata": {},
   "outputs": [
    {
     "data": {
      "text/html": [
       "<style>#sk-container-id-70 {color: black;}#sk-container-id-70 pre{padding: 0;}#sk-container-id-70 div.sk-toggleable {background-color: white;}#sk-container-id-70 label.sk-toggleable__label {cursor: pointer;display: block;width: 100%;margin-bottom: 0;padding: 0.3em;box-sizing: border-box;text-align: center;}#sk-container-id-70 label.sk-toggleable__label-arrow:before {content: \"▸\";float: left;margin-right: 0.25em;color: #696969;}#sk-container-id-70 label.sk-toggleable__label-arrow:hover:before {color: black;}#sk-container-id-70 div.sk-estimator:hover label.sk-toggleable__label-arrow:before {color: black;}#sk-container-id-70 div.sk-toggleable__content {max-height: 0;max-width: 0;overflow: hidden;text-align: left;background-color: #f0f8ff;}#sk-container-id-70 div.sk-toggleable__content pre {margin: 0.2em;color: black;border-radius: 0.25em;background-color: #f0f8ff;}#sk-container-id-70 input.sk-toggleable__control:checked~div.sk-toggleable__content {max-height: 200px;max-width: 100%;overflow: auto;}#sk-container-id-70 input.sk-toggleable__control:checked~label.sk-toggleable__label-arrow:before {content: \"▾\";}#sk-container-id-70 div.sk-estimator input.sk-toggleable__control:checked~label.sk-toggleable__label {background-color: #d4ebff;}#sk-container-id-70 div.sk-label input.sk-toggleable__control:checked~label.sk-toggleable__label {background-color: #d4ebff;}#sk-container-id-70 input.sk-hidden--visually {border: 0;clip: rect(1px 1px 1px 1px);clip: rect(1px, 1px, 1px, 1px);height: 1px;margin: -1px;overflow: hidden;padding: 0;position: absolute;width: 1px;}#sk-container-id-70 div.sk-estimator {font-family: monospace;background-color: #f0f8ff;border: 1px dotted black;border-radius: 0.25em;box-sizing: border-box;margin-bottom: 0.5em;}#sk-container-id-70 div.sk-estimator:hover {background-color: #d4ebff;}#sk-container-id-70 div.sk-parallel-item::after {content: \"\";width: 100%;border-bottom: 1px solid gray;flex-grow: 1;}#sk-container-id-70 div.sk-label:hover label.sk-toggleable__label {background-color: #d4ebff;}#sk-container-id-70 div.sk-serial::before {content: \"\";position: absolute;border-left: 1px solid gray;box-sizing: border-box;top: 0;bottom: 0;left: 50%;z-index: 0;}#sk-container-id-70 div.sk-serial {display: flex;flex-direction: column;align-items: center;background-color: white;padding-right: 0.2em;padding-left: 0.2em;position: relative;}#sk-container-id-70 div.sk-item {position: relative;z-index: 1;}#sk-container-id-70 div.sk-parallel {display: flex;align-items: stretch;justify-content: center;background-color: white;position: relative;}#sk-container-id-70 div.sk-item::before, #sk-container-id-70 div.sk-parallel-item::before {content: \"\";position: absolute;border-left: 1px solid gray;box-sizing: border-box;top: 0;bottom: 0;left: 50%;z-index: -1;}#sk-container-id-70 div.sk-parallel-item {display: flex;flex-direction: column;z-index: 1;position: relative;background-color: white;}#sk-container-id-70 div.sk-parallel-item:first-child::after {align-self: flex-end;width: 50%;}#sk-container-id-70 div.sk-parallel-item:last-child::after {align-self: flex-start;width: 50%;}#sk-container-id-70 div.sk-parallel-item:only-child::after {width: 0;}#sk-container-id-70 div.sk-dashed-wrapped {border: 1px dashed gray;margin: 0 0.4em 0.5em 0.4em;box-sizing: border-box;padding-bottom: 0.4em;background-color: white;}#sk-container-id-70 div.sk-label label {font-family: monospace;font-weight: bold;display: inline-block;line-height: 1.2em;}#sk-container-id-70 div.sk-label-container {text-align: center;}#sk-container-id-70 div.sk-container {/* jupyter's `normalize.less` sets `[hidden] { display: none; }` but bootstrap.min.css set `[hidden] { display: none !important; }` so we also need the `!important` here to be able to override the default hidden behavior on the sphinx rendered scikit-learn.org. See: https://github.com/scikit-learn/scikit-learn/issues/21755 */display: inline-block !important;position: relative;}#sk-container-id-70 div.sk-text-repr-fallback {display: none;}</style><div id=\"sk-container-id-70\" class=\"sk-top-container\"><div class=\"sk-text-repr-fallback\"><pre>RandomizedSearchCV(cv=5, estimator=RandomForestRegressor(), n_iter=5,\n",
       "                   param_distributions={&#x27;max_depth&#x27;: &lt;scipy.stats._distn_infrastructure.rv_discrete_frozen object at 0x7fc00c99c470&gt;,\n",
       "                                        &#x27;n_estimators&#x27;: &lt;scipy.stats._distn_infrastructure.rv_discrete_frozen object at 0x7fc0286c26f0&gt;})</pre><b>In a Jupyter environment, please rerun this cell to show the HTML representation or trust the notebook. <br />On GitHub, the HTML representation is unable to render, please try loading this page with nbviewer.org.</b></div><div class=\"sk-container\" hidden><div class=\"sk-item sk-dashed-wrapped\"><div class=\"sk-label-container\"><div class=\"sk-label sk-toggleable\"><input class=\"sk-toggleable__control sk-hidden--visually\" id=\"sk-estimator-id-138\" type=\"checkbox\" ><label for=\"sk-estimator-id-138\" class=\"sk-toggleable__label sk-toggleable__label-arrow\">RandomizedSearchCV</label><div class=\"sk-toggleable__content\"><pre>RandomizedSearchCV(cv=5, estimator=RandomForestRegressor(), n_iter=5,\n",
       "                   param_distributions={&#x27;max_depth&#x27;: &lt;scipy.stats._distn_infrastructure.rv_discrete_frozen object at 0x7fc00c99c470&gt;,\n",
       "                                        &#x27;n_estimators&#x27;: &lt;scipy.stats._distn_infrastructure.rv_discrete_frozen object at 0x7fc0286c26f0&gt;})</pre></div></div></div><div class=\"sk-parallel\"><div class=\"sk-parallel-item\"><div class=\"sk-item\"><div class=\"sk-label-container\"><div class=\"sk-label sk-toggleable\"><input class=\"sk-toggleable__control sk-hidden--visually\" id=\"sk-estimator-id-139\" type=\"checkbox\" ><label for=\"sk-estimator-id-139\" class=\"sk-toggleable__label sk-toggleable__label-arrow\">estimator: RandomForestRegressor</label><div class=\"sk-toggleable__content\"><pre>RandomForestRegressor()</pre></div></div></div><div class=\"sk-serial\"><div class=\"sk-item\"><div class=\"sk-estimator sk-toggleable\"><input class=\"sk-toggleable__control sk-hidden--visually\" id=\"sk-estimator-id-140\" type=\"checkbox\" ><label for=\"sk-estimator-id-140\" class=\"sk-toggleable__label sk-toggleable__label-arrow\">RandomForestRegressor</label><div class=\"sk-toggleable__content\"><pre>RandomForestRegressor()</pre></div></div></div></div></div></div></div></div></div></div>"
      ],
      "text/plain": [
       "RandomizedSearchCV(cv=5, estimator=RandomForestRegressor(), n_iter=5,\n",
       "                   param_distributions={'max_depth': <scipy.stats._distn_infrastructure.rv_discrete_frozen object at 0x7fc00c99c470>,\n",
       "                                        'n_estimators': <scipy.stats._distn_infrastructure.rv_discrete_frozen object at 0x7fc0286c26f0>})"
      ]
     },
     "execution_count": 462,
     "metadata": {},
     "output_type": "execute_result"
    }
   ],
   "source": [
    "param_dist = {'n_estimators': randint(50,500),\n",
    "              'max_depth': randint(1,20)}\n",
    "\n",
    "# Create a random forest classifier\n",
    "rf = RandomForestRegressor()\n",
    "\n",
    "# Use random search to find the best hyperparameters\n",
    "rand_searchi = RandomizedSearchCV(rf, \n",
    "                                 param_distributions = param_dist, \n",
    "                                 n_iter=5, \n",
    "                                 cv=5)\n",
    "\n",
    "# Fit the random search object to the data\n",
    "rand_searchi.fit(Xi_train, Yi_train)"
   ]
  },
  {
   "cell_type": "code",
   "execution_count": 463,
   "metadata": {},
   "outputs": [
    {
     "name": "stdout",
     "output_type": "stream",
     "text": [
      "Best hyperparameters: {'max_depth': 15, 'n_estimators': 162}\n"
     ]
    }
   ],
   "source": [
    "# Create a variable for the best model\n",
    "best_rfi = rand_searchi.best_estimator_\n",
    "\n",
    "# Print the best hyperparameters\n",
    "print('Best hyperparameters:',  rand_searchi.best_params_)"
   ]
  },
  {
   "cell_type": "code",
   "execution_count": 464,
   "metadata": {},
   "outputs": [
    {
     "data": {
      "image/png": "[encoded data removed]",
      "text/plain": [
       "<Figure size 640x480 with 1 Axes>"
      ]
     },
     "metadata": {},
     "output_type": "display_data"
    }
   ],
   "source": [
    "# Create a series containing feature importances from the model and feature names from the training data\n",
    "feature_importancesi = pd.Series(best_rfi.feature_importances_, index=Xi_train.columns).sort_values(ascending=False)\n",
    "\n",
    "# Plot a simple bar chart\n",
    "f = sns.barplot(x=feature_importancesi, y=feature_importancesi.index)\n",
    "f.set_title('Feature Importance for Inhibitory Module Alignment Error (IMAE)')\n",
    "f.set_xlabel('Importance')\n",
    "f.set_ylabel('Feature')\n",
    "\n",
    "plt.savefig('./project_pipeline/data/figures/closed_cf_pdb_imae_feature_importance.png')"
   ]
  },
  {
   "cell_type": "code",
   "execution_count": 465,
   "metadata": {},
   "outputs": [],
   "source": [
    "# Split the data into features and target\n",
    "Xc = rmsd.drop('Complex RMSD', axis=1)\n",
    "Yc = rmsd['Complex RMSD']\n",
    "\n",
    "# Split the data into training and test sets\n",
    "Xc_train, Xc_test, Yc_train, Yc_test = train_test_split(Xc, Yc, test_size=0.2, random_state=42)"
   ]
  },
  {
   "cell_type": "code",
   "execution_count": 466,
   "metadata": {},
   "outputs": [
    {
     "data": {
      "text/html": [
       "<style>#sk-container-id-71 {color: black;}#sk-container-id-71 pre{padding: 0;}#sk-container-id-71 div.sk-toggleable {background-color: white;}#sk-container-id-71 label.sk-toggleable__label {cursor: pointer;display: block;width: 100%;margin-bottom: 0;padding: 0.3em;box-sizing: border-box;text-align: center;}#sk-container-id-71 label.sk-toggleable__label-arrow:before {content: \"▸\";float: left;margin-right: 0.25em;color: #696969;}#sk-container-id-71 label.sk-toggleable__label-arrow:hover:before {color: black;}#sk-container-id-71 div.sk-estimator:hover label.sk-toggleable__label-arrow:before {color: black;}#sk-container-id-71 div.sk-toggleable__content {max-height: 0;max-width: 0;overflow: hidden;text-align: left;background-color: #f0f8ff;}#sk-container-id-71 div.sk-toggleable__content pre {margin: 0.2em;color: black;border-radius: 0.25em;background-color: #f0f8ff;}#sk-container-id-71 input.sk-toggleable__control:checked~div.sk-toggleable__content {max-height: 200px;max-width: 100%;overflow: auto;}#sk-container-id-71 input.sk-toggleable__control:checked~label.sk-toggleable__label-arrow:before {content: \"▾\";}#sk-container-id-71 div.sk-estimator input.sk-toggleable__control:checked~label.sk-toggleable__label {background-color: #d4ebff;}#sk-container-id-71 div.sk-label input.sk-toggleable__control:checked~label.sk-toggleable__label {background-color: #d4ebff;}#sk-container-id-71 input.sk-hidden--visually {border: 0;clip: rect(1px 1px 1px 1px);clip: rect(1px, 1px, 1px, 1px);height: 1px;margin: -1px;overflow: hidden;padding: 0;position: absolute;width: 1px;}#sk-container-id-71 div.sk-estimator {font-family: monospace;background-color: #f0f8ff;border: 1px dotted black;border-radius: 0.25em;box-sizing: border-box;margin-bottom: 0.5em;}#sk-container-id-71 div.sk-estimator:hover {background-color: #d4ebff;}#sk-container-id-71 div.sk-parallel-item::after {content: \"\";width: 100%;border-bottom: 1px solid gray;flex-grow: 1;}#sk-container-id-71 div.sk-label:hover label.sk-toggleable__label {background-color: #d4ebff;}#sk-container-id-71 div.sk-serial::before {content: \"\";position: absolute;border-left: 1px solid gray;box-sizing: border-box;top: 0;bottom: 0;left: 50%;z-index: 0;}#sk-container-id-71 div.sk-serial {display: flex;flex-direction: column;align-items: center;background-color: white;padding-right: 0.2em;padding-left: 0.2em;position: relative;}#sk-container-id-71 div.sk-item {position: relative;z-index: 1;}#sk-container-id-71 div.sk-parallel {display: flex;align-items: stretch;justify-content: center;background-color: white;position: relative;}#sk-container-id-71 div.sk-item::before, #sk-container-id-71 div.sk-parallel-item::before {content: \"\";position: absolute;border-left: 1px solid gray;box-sizing: border-box;top: 0;bottom: 0;left: 50%;z-index: -1;}#sk-container-id-71 div.sk-parallel-item {display: flex;flex-direction: column;z-index: 1;position: relative;background-color: white;}#sk-container-id-71 div.sk-parallel-item:first-child::after {align-self: flex-end;width: 50%;}#sk-container-id-71 div.sk-parallel-item:last-child::after {align-self: flex-start;width: 50%;}#sk-container-id-71 div.sk-parallel-item:only-child::after {width: 0;}#sk-container-id-71 div.sk-dashed-wrapped {border: 1px dashed gray;margin: 0 0.4em 0.5em 0.4em;box-sizing: border-box;padding-bottom: 0.4em;background-color: white;}#sk-container-id-71 div.sk-label label {font-family: monospace;font-weight: bold;display: inline-block;line-height: 1.2em;}#sk-container-id-71 div.sk-label-container {text-align: center;}#sk-container-id-71 div.sk-container {/* jupyter's `normalize.less` sets `[hidden] { display: none; }` but bootstrap.min.css set `[hidden] { display: none !important; }` so we also need the `!important` here to be able to override the default hidden behavior on the sphinx rendered scikit-learn.org. See: https://github.com/scikit-learn/scikit-learn/issues/21755 */display: inline-block !important;position: relative;}#sk-container-id-71 div.sk-text-repr-fallback {display: none;}</style><div id=\"sk-container-id-71\" class=\"sk-top-container\"><div class=\"sk-text-repr-fallback\"><pre>RandomForestRegressor()</pre><b>In a Jupyter environment, please rerun this cell to show the HTML representation or trust the notebook. <br />On GitHub, the HTML representation is unable to render, please try loading this page with nbviewer.org.</b></div><div class=\"sk-container\" hidden><div class=\"sk-item\"><div class=\"sk-estimator sk-toggleable\"><input class=\"sk-toggleable__control sk-hidden--visually\" id=\"sk-estimator-id-141\" type=\"checkbox\" checked><label for=\"sk-estimator-id-141\" class=\"sk-toggleable__label sk-toggleable__label-arrow\">RandomForestRegressor</label><div class=\"sk-toggleable__content\"><pre>RandomForestRegressor()</pre></div></div></div></div></div>"
      ],
      "text/plain": [
       "RandomForestRegressor()"
      ]
     },
     "execution_count": 466,
     "metadata": {},
     "output_type": "execute_result"
    }
   ],
   "source": [
    "rf = RandomForestRegressor()\n",
    "rf.fit(Xc_train, Yc_train)"
   ]
  },
  {
   "cell_type": "code",
   "execution_count": 467,
   "metadata": {},
   "outputs": [
    {
     "data": {
      "text/html": [
       "<style>#sk-container-id-72 {color: black;}#sk-container-id-72 pre{padding: 0;}#sk-container-id-72 div.sk-toggleable {background-color: white;}#sk-container-id-72 label.sk-toggleable__label {cursor: pointer;display: block;width: 100%;margin-bottom: 0;padding: 0.3em;box-sizing: border-box;text-align: center;}#sk-container-id-72 label.sk-toggleable__label-arrow:before {content: \"▸\";float: left;margin-right: 0.25em;color: #696969;}#sk-container-id-72 label.sk-toggleable__label-arrow:hover:before {color: black;}#sk-container-id-72 div.sk-estimator:hover label.sk-toggleable__label-arrow:before {color: black;}#sk-container-id-72 div.sk-toggleable__content {max-height: 0;max-width: 0;overflow: hidden;text-align: left;background-color: #f0f8ff;}#sk-container-id-72 div.sk-toggleable__content pre {margin: 0.2em;color: black;border-radius: 0.25em;background-color: #f0f8ff;}#sk-container-id-72 input.sk-toggleable__control:checked~div.sk-toggleable__content {max-height: 200px;max-width: 100%;overflow: auto;}#sk-container-id-72 input.sk-toggleable__control:checked~label.sk-toggleable__label-arrow:before {content: \"▾\";}#sk-container-id-72 div.sk-estimator input.sk-toggleable__control:checked~label.sk-toggleable__label {background-color: #d4ebff;}#sk-container-id-72 div.sk-label input.sk-toggleable__control:checked~label.sk-toggleable__label {background-color: #d4ebff;}#sk-container-id-72 input.sk-hidden--visually {border: 0;clip: rect(1px 1px 1px 1px);clip: rect(1px, 1px, 1px, 1px);height: 1px;margin: -1px;overflow: hidden;padding: 0;position: absolute;width: 1px;}#sk-container-id-72 div.sk-estimator {font-family: monospace;background-color: #f0f8ff;border: 1px dotted black;border-radius: 0.25em;box-sizing: border-box;margin-bottom: 0.5em;}#sk-container-id-72 div.sk-estimator:hover {background-color: #d4ebff;}#sk-container-id-72 div.sk-parallel-item::after {content: \"\";width: 100%;border-bottom: 1px solid gray;flex-grow: 1;}#sk-container-id-72 div.sk-label:hover label.sk-toggleable__label {background-color: #d4ebff;}#sk-container-id-72 div.sk-serial::before {content: \"\";position: absolute;border-left: 1px solid gray;box-sizing: border-box;top: 0;bottom: 0;left: 50%;z-index: 0;}#sk-container-id-72 div.sk-serial {display: flex;flex-direction: column;align-items: center;background-color: white;padding-right: 0.2em;padding-left: 0.2em;position: relative;}#sk-container-id-72 div.sk-item {position: relative;z-index: 1;}#sk-container-id-72 div.sk-parallel {display: flex;align-items: stretch;justify-content: center;background-color: white;position: relative;}#sk-container-id-72 div.sk-item::before, #sk-container-id-72 div.sk-parallel-item::before {content: \"\";position: absolute;border-left: 1px solid gray;box-sizing: border-box;top: 0;bottom: 0;left: 50%;z-index: -1;}#sk-container-id-72 div.sk-parallel-item {display: flex;flex-direction: column;z-index: 1;position: relative;background-color: white;}#sk-container-id-72 div.sk-parallel-item:first-child::after {align-self: flex-end;width: 50%;}#sk-container-id-72 div.sk-parallel-item:last-child::after {align-self: flex-start;width: 50%;}#sk-container-id-72 div.sk-parallel-item:only-child::after {width: 0;}#sk-container-id-72 div.sk-dashed-wrapped {border: 1px dashed gray;margin: 0 0.4em 0.5em 0.4em;box-sizing: border-box;padding-bottom: 0.4em;background-color: white;}#sk-container-id-72 div.sk-label label {font-family: monospace;font-weight: bold;display: inline-block;line-height: 1.2em;}#sk-container-id-72 div.sk-label-container {text-align: center;}#sk-container-id-72 div.sk-container {/* jupyter's `normalize.less` sets `[hidden] { display: none; }` but bootstrap.min.css set `[hidden] { display: none !important; }` so we also need the `!important` here to be able to override the default hidden behavior on the sphinx rendered scikit-learn.org. See: https://github.com/scikit-learn/scikit-learn/issues/21755 */display: inline-block !important;position: relative;}#sk-container-id-72 div.sk-text-repr-fallback {display: none;}</style><div id=\"sk-container-id-72\" class=\"sk-top-container\"><div class=\"sk-text-repr-fallback\"><pre>RandomizedSearchCV(cv=5, estimator=RandomForestRegressor(), n_iter=5,\n",
       "                   param_distributions={&#x27;max_depth&#x27;: &lt;scipy.stats._distn_infrastructure.rv_discrete_frozen object at 0x7fc0287f9580&gt;,\n",
       "                                        &#x27;n_estimators&#x27;: &lt;scipy.stats._distn_infrastructure.rv_discrete_frozen object at 0x7fc0141a48c0&gt;})</pre><b>In a Jupyter environment, please rerun this cell to show the HTML representation or trust the notebook. <br />On GitHub, the HTML representation is unable to render, please try loading this page with nbviewer.org.</b></div><div class=\"sk-container\" hidden><div class=\"sk-item sk-dashed-wrapped\"><div class=\"sk-label-container\"><div class=\"sk-label sk-toggleable\"><input class=\"sk-toggleable__control sk-hidden--visually\" id=\"sk-estimator-id-142\" type=\"checkbox\" ><label for=\"sk-estimator-id-142\" class=\"sk-toggleable__label sk-toggleable__label-arrow\">RandomizedSearchCV</label><div class=\"sk-toggleable__content\"><pre>RandomizedSearchCV(cv=5, estimator=RandomForestRegressor(), n_iter=5,\n",
       "                   param_distributions={&#x27;max_depth&#x27;: &lt;scipy.stats._distn_infrastructure.rv_discrete_frozen object at 0x7fc0287f9580&gt;,\n",
       "                                        &#x27;n_estimators&#x27;: &lt;scipy.stats._distn_infrastructure.rv_discrete_frozen object at 0x7fc0141a48c0&gt;})</pre></div></div></div><div class=\"sk-parallel\"><div class=\"sk-parallel-item\"><div class=\"sk-item\"><div class=\"sk-label-container\"><div class=\"sk-label sk-toggleable\"><input class=\"sk-toggleable__control sk-hidden--visually\" id=\"sk-estimator-id-143\" type=\"checkbox\" ><label for=\"sk-estimator-id-143\" class=\"sk-toggleable__label sk-toggleable__label-arrow\">estimator: RandomForestRegressor</label><div class=\"sk-toggleable__content\"><pre>RandomForestRegressor()</pre></div></div></div><div class=\"sk-serial\"><div class=\"sk-item\"><div class=\"sk-estimator sk-toggleable\"><input class=\"sk-toggleable__control sk-hidden--visually\" id=\"sk-estimator-id-144\" type=\"checkbox\" ><label for=\"sk-estimator-id-144\" class=\"sk-toggleable__label sk-toggleable__label-arrow\">RandomForestRegressor</label><div class=\"sk-toggleable__content\"><pre>RandomForestRegressor()</pre></div></div></div></div></div></div></div></div></div></div>"
      ],
      "text/plain": [
       "RandomizedSearchCV(cv=5, estimator=RandomForestRegressor(), n_iter=5,\n",
       "                   param_distributions={'max_depth': <scipy.stats._distn_infrastructure.rv_discrete_frozen object at 0x7fc0287f9580>,\n",
       "                                        'n_estimators': <scipy.stats._distn_infrastructure.rv_discrete_frozen object at 0x7fc0141a48c0>})"
      ]
     },
     "execution_count": 467,
     "metadata": {},
     "output_type": "execute_result"
    }
   ],
   "source": [
    "param_dist = {'n_estimators': randint(50,500),\n",
    "              'max_depth': randint(1,20)}\n",
    "\n",
    "# Create a random forest classifier\n",
    "rf = RandomForestRegressor()\n",
    "\n",
    "# Use random search to find the best hyperparameters\n",
    "rand_searchc = RandomizedSearchCV(rf, \n",
    "                                 param_distributions = param_dist, \n",
    "                                 n_iter=5, \n",
    "                                 cv=5)\n",
    "\n",
    "# Fit the random search object to the data\n",
    "rand_searchc.fit(Xc_train, Yc_train)"
   ]
  },
  {
   "cell_type": "code",
   "execution_count": 468,
   "metadata": {},
   "outputs": [
    {
     "name": "stdout",
     "output_type": "stream",
     "text": [
      "Best hyperparameters: {'max_depth': 14, 'n_estimators': 495}\n"
     ]
    }
   ],
   "source": [
    "# Create a variable for the best model\n",
    "best_rfc = rand_searchc.best_estimator_\n",
    "\n",
    "# Print the best hyperparameters\n",
    "print('Best hyperparameters:',  rand_searchc.best_params_)"
   ]
  },
  {
   "cell_type": "code",
   "execution_count": 469,
   "metadata": {},
   "outputs": [
    {
     "data": {
      "image/png": "[encoded data removed]",
      "text/plain": [
       "<Figure size 640x480 with 1 Axes>"
      ]
     },
     "metadata": {},
     "output_type": "display_data"
    }
   ],
   "source": [
    "# Create a series containing feature importances from the model and feature names from the training data\n",
    "feature_importancesc = pd.Series(best_rfc.feature_importances_, index=Xc_train.columns).sort_values(ascending=False)\n",
    "\n",
    "# Plot a simple bar chart\n",
    "f = sns.barplot(x=feature_importancesc, y=feature_importancesc.index)\n",
    "f.set_title('Feature Importance for Complex Alignment Error')\n",
    "f.set_xlabel('Importance')\n",
    "f.set_ylabel('Feature')\n",
    "\n",
    "plt.savefig('./project_pipeline/data/figures/closed_cf_pdb_complex_rmsd_feature_importance.png')"
   ]
  },
  {
   "cell_type": "code",
   "execution_count": 470,
   "metadata": {},
   "outputs": [
    {
     "name": "stdout",
     "output_type": "stream",
     "text": [
      "242\n"
     ]
    },
    {
     "data": {
      "image/png": "[encoded data removed]",
      "text/plain": [
       "<Figure size 500x500 with 1 Axes>"
      ]
     },
     "metadata": {},
     "output_type": "display_data"
    }
   ],
   "source": [
    "sns.lmplot(pre, x='uniprot_lineage_length', y='cf_conformation')\n",
    "print(len(pre))\n",
    "\n",
    "plt.savefig('./project_pipeline/data/figures/closed_cf_pdb_lineage_vs_conf.png')"
   ]
  }
 ],
 "metadata": {
  "language_info": {
   "name": "python"
  }
 },
 "nbformat": 4,
 "nbformat_minor": 2
}
