{
 "cells": [
  {
   "cell_type": "markdown",
   "metadata": {},
   "source": [
    "This is essentially the same as ls_matrix.ipynb, but we're looking at the ColabFold/PDB comparisons instead of the AlphaFold/ColabFold comparisons"
   ]
  },
  {
   "cell_type": "code",
   "execution_count": 70,
   "metadata": {},
   "outputs": [],
   "source": [
    "# Data Processing\n",
    "import pandas as pd\n",
    "import numpy as np\n",
    "\n",
    "# Modelling\n",
    "from sklearn.ensemble import RandomForestClassifier, RandomForestRegressor\n",
    "from sklearn.metrics import accuracy_score, confusion_matrix, precision_score, recall_score, ConfusionMatrixDisplay\n",
    "from sklearn.model_selection import RandomizedSearchCV, train_test_split\n",
    "from scipy.stats import randint\n",
    "\n",
    "# Tree Visualisation\n",
    "from sklearn.tree import export_graphviz\n",
    "from IPython.display import Image\n",
    "import graphviz\n",
    "\n",
    "# Plotting\n",
    "import matplotlib.pyplot as plt\n",
    "import seaborn as sns"
   ]
  },
  {
   "cell_type": "code",
   "execution_count": 71,
   "metadata": {},
   "outputs": [
    {
     "name": "stdout",
     "output_type": "stream",
     "text": [
      "1536\n",
      "281\n"
     ]
    }
   ],
   "source": [
    "'''\n",
    "We need to wrangle our RMSD data a bit before we can make any calculations.\n",
    "'''\n",
    "\n",
    "rmsd = pd.read_csv('./project_pipeline/data/two-state_cf_pdb_compared.tsv', sep='\\t')\n",
    "\n",
    "# We only need a subset of the columns\n",
    "rmsd = rmsd[['uniprot', 'pdb', 'cluster', 'complex_rmsd', '2_comp']]\n",
    "\n",
    "rmsd = rmsd.rename(columns={'complex_rmsd': 'Complex RMSD', '2_comp': 'IMAE'})\n",
    "\n",
    "rmsd_sub = rmsd[['uniprot', 'cluster']].drop_duplicates()\n",
    "print(len(rmsd_sub))\n",
    "rmsd.head()\n",
    "print(rmsd['pdb'].nunique())"
   ]
  },
  {
   "cell_type": "code",
   "execution_count": 72,
   "metadata": {},
   "outputs": [
    {
     "name": "stdout",
     "output_type": "stream",
     "text": [
      "281\n"
     ]
    },
    {
     "data": {
      "text/html": [
       "<div>\n",
       "<style scoped>\n",
       "    .dataframe tbody tr th:only-of-type {\n",
       "        vertical-align: middle;\n",
       "    }\n",
       "\n",
       "    .dataframe tbody tr th {\n",
       "        vertical-align: top;\n",
       "    }\n",
       "\n",
       "    .dataframe thead th {\n",
       "        text-align: right;\n",
       "    }\n",
       "</style>\n",
       "<table border=\"1\" class=\"dataframe\">\n",
       "  <thead>\n",
       "    <tr style=\"text-align: right;\">\n",
       "      <th></th>\n",
       "      <th>uniprot</th>\n",
       "      <th>pdb</th>\n",
       "      <th>cluster</th>\n",
       "      <th>Complex RMSD</th>\n",
       "      <th>IMAE</th>\n",
       "      <th>state</th>\n",
       "      <th>conformation</th>\n",
       "    </tr>\n",
       "  </thead>\n",
       "  <tbody>\n",
       "    <tr>\n",
       "      <th>0</th>\n",
       "      <td>O08967</td>\n",
       "      <td>2r09</td>\n",
       "      <td>U10-005</td>\n",
       "      <td>17.274</td>\n",
       "      <td>33.607</td>\n",
       "      <td>Autoinhibited</td>\n",
       "      <td>Closed</td>\n",
       "    </tr>\n",
       "    <tr>\n",
       "      <th>1</th>\n",
       "      <td>O08967</td>\n",
       "      <td>2r09</td>\n",
       "      <td>031</td>\n",
       "      <td>19.503</td>\n",
       "      <td>31.059</td>\n",
       "      <td>Autoinhibited</td>\n",
       "      <td>Closed</td>\n",
       "    </tr>\n",
       "    <tr>\n",
       "      <th>2</th>\n",
       "      <td>O08967</td>\n",
       "      <td>2r09</td>\n",
       "      <td>U10-001</td>\n",
       "      <td>16.866</td>\n",
       "      <td>23.513</td>\n",
       "      <td>Autoinhibited</td>\n",
       "      <td>Closed</td>\n",
       "    </tr>\n",
       "    <tr>\n",
       "      <th>3</th>\n",
       "      <td>O08967</td>\n",
       "      <td>2r09</td>\n",
       "      <td>U100-004</td>\n",
       "      <td>21.285</td>\n",
       "      <td>52.734</td>\n",
       "      <td>Autoinhibited</td>\n",
       "      <td>Closed</td>\n",
       "    </tr>\n",
       "    <tr>\n",
       "      <th>4</th>\n",
       "      <td>O08967</td>\n",
       "      <td>2r09</td>\n",
       "      <td>029</td>\n",
       "      <td>12.546</td>\n",
       "      <td>23.212</td>\n",
       "      <td>Autoinhibited</td>\n",
       "      <td>Closed</td>\n",
       "    </tr>\n",
       "  </tbody>\n",
       "</table>\n",
       "</div>"
      ],
      "text/plain": [
       "  uniprot   pdb   cluster  Complex RMSD    IMAE          state conformation\n",
       "0  O08967  2r09   U10-005        17.274  33.607  Autoinhibited       Closed\n",
       "1  O08967  2r09       031        19.503  31.059  Autoinhibited       Closed\n",
       "2  O08967  2r09   U10-001        16.866  23.513  Autoinhibited       Closed\n",
       "3  O08967  2r09  U100-004        21.285  52.734  Autoinhibited       Closed\n",
       "4  O08967  2r09       029        12.546  23.212  Autoinhibited       Closed"
      ]
     },
     "execution_count": 72,
     "metadata": {},
     "output_type": "execute_result"
    }
   ],
   "source": [
    "# Add conformation information\n",
    "cl = pd.read_csv('./project_pipeline/data/classified_files.tsv', sep='\\t')\n",
    "cl = cl[['uniprot', 'pdb', 'state', 'conformation']]\n",
    "\n",
    "rmsd = pd.merge(rmsd, cl, on=['uniprot', 'pdb'], how='left')\n",
    "print(rmsd['pdb'].nunique())\n",
    "rmsd.head()"
   ]
  },
  {
   "cell_type": "code",
   "execution_count": 73,
   "metadata": {},
   "outputs": [
    {
     "name": "stdout",
     "output_type": "stream",
     "text": [
      "1536\n"
     ]
    }
   ],
   "source": [
    "two_state = pd.read_csv('./project_pipeline/data/two-state_af_cf.tsv', sep='\\t')\n",
    "\n",
    "two_state_sub = two_state[['uniprot', 'cluster']].drop_duplicates()\n",
    "print(len(two_state))"
   ]
  },
  {
   "cell_type": "code",
   "execution_count": 74,
   "metadata": {},
   "outputs": [
    {
     "name": "stdout",
     "output_type": "stream",
     "text": [
      "1445\n"
     ]
    },
    {
     "data": {
      "text/html": [
       "<div>\n",
       "<style scoped>\n",
       "    .dataframe tbody tr th:only-of-type {\n",
       "        vertical-align: middle;\n",
       "    }\n",
       "\n",
       "    .dataframe tbody tr th {\n",
       "        vertical-align: top;\n",
       "    }\n",
       "\n",
       "    .dataframe thead th {\n",
       "        text-align: right;\n",
       "    }\n",
       "</style>\n",
       "<table border=\"1\" class=\"dataframe\">\n",
       "  <thead>\n",
       "    <tr style=\"text-align: right;\">\n",
       "      <th></th>\n",
       "      <th>uniprot</th>\n",
       "      <th>cluster</th>\n",
       "      <th>filename</th>\n",
       "      <th>uniref</th>\n",
       "      <th>taxonId</th>\n",
       "      <th>uniprot_lineage</th>\n",
       "      <th>cluster_lineage</th>\n",
       "      <th>lineage_score</th>\n",
       "      <th>uniprot_lineage_length</th>\n",
       "      <th>cluster_lineage_length</th>\n",
       "    </tr>\n",
       "  </thead>\n",
       "  <tbody>\n",
       "    <tr>\n",
       "      <th>0</th>\n",
       "      <td>O08967</td>\n",
       "      <td>U10-005</td>\n",
       "      <td>O08967_U10-005.a3m</td>\n",
       "      <td>UniRef100_A0A812VSQ5</td>\n",
       "      <td>2952.0</td>\n",
       "      <td>[131567, 2759, 33154, 33208, 6072, 33213, 3351...</td>\n",
       "      <td>[131567, 2759, 2698737, 33630, 2864, 89954, 25...</td>\n",
       "      <td>2</td>\n",
       "      <td>30</td>\n",
       "      <td>8</td>\n",
       "    </tr>\n",
       "    <tr>\n",
       "      <th>1</th>\n",
       "      <td>O08967</td>\n",
       "      <td>U10-005</td>\n",
       "      <td>O08967_U10-005.a3m</td>\n",
       "      <td>UniRef100_A0A2G8JTM8</td>\n",
       "      <td>307972.0</td>\n",
       "      <td>[131567, 2759, 33154, 33208, 6072, 33213, 3351...</td>\n",
       "      <td>[131567, 2759, 33154, 33208, 6072, 33213, 3351...</td>\n",
       "      <td>7</td>\n",
       "      <td>30</td>\n",
       "      <td>15</td>\n",
       "    </tr>\n",
       "    <tr>\n",
       "      <th>2</th>\n",
       "      <td>O08967</td>\n",
       "      <td>U10-005</td>\n",
       "      <td>O08967_U10-005.a3m</td>\n",
       "      <td>UniRef100_UPI001469F9E4</td>\n",
       "      <td>52239.0</td>\n",
       "      <td>[131567, 2759, 33154, 33208, 6072, 33213, 3351...</td>\n",
       "      <td>[131567, 2759, 33154, 33208, 6072, 33213, 3351...</td>\n",
       "      <td>13</td>\n",
       "      <td>30</td>\n",
       "      <td>31</td>\n",
       "    </tr>\n",
       "    <tr>\n",
       "      <th>3</th>\n",
       "      <td>O08967</td>\n",
       "      <td>U10-005</td>\n",
       "      <td>O08967_U10-005.a3m</td>\n",
       "      <td>UniRef100_A0A8C7Z9G0</td>\n",
       "      <td>183150.0</td>\n",
       "      <td>[131567, 2759, 33154, 33208, 6072, 33213, 3351...</td>\n",
       "      <td>[131567, 2759, 33154, 33208, 6072, 33213, 3351...</td>\n",
       "      <td>13</td>\n",
       "      <td>30</td>\n",
       "      <td>33</td>\n",
       "    </tr>\n",
       "    <tr>\n",
       "      <th>4</th>\n",
       "      <td>O08967</td>\n",
       "      <td>U10-005</td>\n",
       "      <td>O08967_U10-005.a3m</td>\n",
       "      <td>UniRef100_UPI001E1BC1D8</td>\n",
       "      <td>35525.0</td>\n",
       "      <td>[131567, 2759, 33154, 33208, 6072, 33213, 3351...</td>\n",
       "      <td>[131567, 2759, 33154, 33208, 6072, 33213, 3331...</td>\n",
       "      <td>6</td>\n",
       "      <td>30</td>\n",
       "      <td>20</td>\n",
       "    </tr>\n",
       "  </tbody>\n",
       "</table>\n",
       "</div>"
      ],
      "text/plain": [
       "  uniprot  cluster            filename                   uniref   taxonId  \\\n",
       "0  O08967  U10-005  O08967_U10-005.a3m     UniRef100_A0A812VSQ5    2952.0   \n",
       "1  O08967  U10-005  O08967_U10-005.a3m     UniRef100_A0A2G8JTM8  307972.0   \n",
       "2  O08967  U10-005  O08967_U10-005.a3m  UniRef100_UPI001469F9E4   52239.0   \n",
       "3  O08967  U10-005  O08967_U10-005.a3m     UniRef100_A0A8C7Z9G0  183150.0   \n",
       "4  O08967  U10-005  O08967_U10-005.a3m  UniRef100_UPI001E1BC1D8   35525.0   \n",
       "\n",
       "                                     uniprot_lineage  \\\n",
       "0  [131567, 2759, 33154, 33208, 6072, 33213, 3351...   \n",
       "1  [131567, 2759, 33154, 33208, 6072, 33213, 3351...   \n",
       "2  [131567, 2759, 33154, 33208, 6072, 33213, 3351...   \n",
       "3  [131567, 2759, 33154, 33208, 6072, 33213, 3351...   \n",
       "4  [131567, 2759, 33154, 33208, 6072, 33213, 3351...   \n",
       "\n",
       "                                     cluster_lineage  lineage_score  \\\n",
       "0  [131567, 2759, 2698737, 33630, 2864, 89954, 25...              2   \n",
       "1  [131567, 2759, 33154, 33208, 6072, 33213, 3351...              7   \n",
       "2  [131567, 2759, 33154, 33208, 6072, 33213, 3351...             13   \n",
       "3  [131567, 2759, 33154, 33208, 6072, 33213, 3351...             13   \n",
       "4  [131567, 2759, 33154, 33208, 6072, 33213, 3331...              6   \n",
       "\n",
       "   uniprot_lineage_length  cluster_lineage_length  \n",
       "0                      30                       8  \n",
       "1                      30                      15  \n",
       "2                      30                      31  \n",
       "3                      30                      33  \n",
       "4                      30                      20  "
      ]
     },
     "execution_count": 74,
     "metadata": {},
     "output_type": "execute_result"
    }
   ],
   "source": [
    "lineage = pd.read_csv('./project_pipeline/data/lineage_scores.csv')\n",
    "\n",
    "lineage_sub = lineage[['uniprot', 'cluster']].drop_duplicates()\n",
    "lineage = lineage.drop(columns=['conformation', 'state'])\n",
    "print(len(lineage_sub))\n",
    "lineage.head()"
   ]
  },
  {
   "cell_type": "code",
   "execution_count": 75,
   "metadata": {},
   "outputs": [
    {
     "name": "stdout",
     "output_type": "stream",
     "text": [
      "cf_conformation\n",
      "Closed    1333\n",
      "Open       203\n",
      "Name: count, dtype: int64\n"
     ]
    }
   ],
   "source": [
    "# Also add the cluster conformations\n",
    "cluster = pd.read_csv('./project_pipeline/data/autoinhibited_cf_interface.tsv', sep='\\t')\n",
    "\n",
    "cluster['cf_conformation'] = cluster['number_interface_residues'].apply(lambda x: 'Closed' if x > 0 else 'Open')\n",
    "\n",
    "print(cluster['cf_conformation'].value_counts())\n",
    "\n",
    "cluster = cluster[['uniprot', 'cluster', 'cf_conformation']]"
   ]
  },
  {
   "cell_type": "code",
   "execution_count": 80,
   "metadata": {},
   "outputs": [
    {
     "name": "stdout",
     "output_type": "stream",
     "text": [
      "281\n",
      "1445\n",
      "275\n",
      "16\n"
     ]
    },
    {
     "data": {
      "text/html": [
       "<div>\n",
       "<style scoped>\n",
       "    .dataframe tbody tr th:only-of-type {\n",
       "        vertical-align: middle;\n",
       "    }\n",
       "\n",
       "    .dataframe tbody tr th {\n",
       "        vertical-align: top;\n",
       "    }\n",
       "\n",
       "    .dataframe thead th {\n",
       "        text-align: right;\n",
       "    }\n",
       "</style>\n",
       "<table border=\"1\" class=\"dataframe\">\n",
       "  <thead>\n",
       "    <tr style=\"text-align: right;\">\n",
       "      <th></th>\n",
       "      <th>uniprot</th>\n",
       "      <th>pdb</th>\n",
       "      <th>cluster</th>\n",
       "      <th>Complex RMSD</th>\n",
       "      <th>IMAE</th>\n",
       "      <th>state</th>\n",
       "      <th>conformation</th>\n",
       "      <th>filename</th>\n",
       "      <th>uniref</th>\n",
       "      <th>taxonId</th>\n",
       "      <th>uniprot_lineage</th>\n",
       "      <th>cluster_lineage</th>\n",
       "      <th>lineage_score</th>\n",
       "      <th>uniprot_lineage_length</th>\n",
       "      <th>cluster_lineage_length</th>\n",
       "      <th>cf_conformation</th>\n",
       "    </tr>\n",
       "  </thead>\n",
       "  <tbody>\n",
       "    <tr>\n",
       "      <th>7</th>\n",
       "      <td>O08967</td>\n",
       "      <td>2r09</td>\n",
       "      <td>031</td>\n",
       "      <td>19.503</td>\n",
       "      <td>31.059</td>\n",
       "      <td>Autoinhibited</td>\n",
       "      <td>Closed</td>\n",
       "      <td>O08967_031.a3m</td>\n",
       "      <td>UniRef100_A0A024UJ15</td>\n",
       "      <td>157072.0</td>\n",
       "      <td>[131567, 2759, 33154, 33208, 6072, 33213, 3351...</td>\n",
       "      <td>[131567, 2759, 2698737, 33634, 4762, 4763, 476...</td>\n",
       "      <td>2</td>\n",
       "      <td>30</td>\n",
       "      <td>8</td>\n",
       "      <td>Closed</td>\n",
       "    </tr>\n",
       "    <tr>\n",
       "      <th>8</th>\n",
       "      <td>O08967</td>\n",
       "      <td>2r09</td>\n",
       "      <td>031</td>\n",
       "      <td>19.503</td>\n",
       "      <td>31.059</td>\n",
       "      <td>Autoinhibited</td>\n",
       "      <td>Closed</td>\n",
       "      <td>O08967_031.a3m</td>\n",
       "      <td>UniRef100_W4FH40</td>\n",
       "      <td>112090.0</td>\n",
       "      <td>[131567, 2759, 33154, 33208, 6072, 33213, 3351...</td>\n",
       "      <td>[131567, 2759, 2698737, 33634, 4762, 4763, 476...</td>\n",
       "      <td>2</td>\n",
       "      <td>30</td>\n",
       "      <td>8</td>\n",
       "      <td>Closed</td>\n",
       "    </tr>\n",
       "    <tr>\n",
       "      <th>80</th>\n",
       "      <td>O08967</td>\n",
       "      <td>2r09</td>\n",
       "      <td>002</td>\n",
       "      <td>20.558</td>\n",
       "      <td>25.518</td>\n",
       "      <td>Autoinhibited</td>\n",
       "      <td>Closed</td>\n",
       "      <td>O08967_002.a3m</td>\n",
       "      <td>UniRef100_UPI001C3FA3AE</td>\n",
       "      <td>7868.0</td>\n",
       "      <td>[131567, 2759, 33154, 33208, 6072, 33213, 3351...</td>\n",
       "      <td>[131567, 2759, 33154, 33208, 6072, 33213, 3351...</td>\n",
       "      <td>11</td>\n",
       "      <td>30</td>\n",
       "      <td>16</td>\n",
       "      <td>Closed</td>\n",
       "    </tr>\n",
       "    <tr>\n",
       "      <th>81</th>\n",
       "      <td>O08967</td>\n",
       "      <td>2r09</td>\n",
       "      <td>002</td>\n",
       "      <td>20.558</td>\n",
       "      <td>25.518</td>\n",
       "      <td>Autoinhibited</td>\n",
       "      <td>Closed</td>\n",
       "      <td>O08967_002.a3m</td>\n",
       "      <td>UniRef100_UPI001B7D9AF6</td>\n",
       "      <td>13397.0</td>\n",
       "      <td>[131567, 2759, 33154, 33208, 6072, 33213, 3351...</td>\n",
       "      <td>[131567, 2759, 33154, 33208, 6072, 33213, 3351...</td>\n",
       "      <td>11</td>\n",
       "      <td>30</td>\n",
       "      <td>20</td>\n",
       "      <td>Closed</td>\n",
       "    </tr>\n",
       "    <tr>\n",
       "      <th>82</th>\n",
       "      <td>O08967</td>\n",
       "      <td>2r09</td>\n",
       "      <td>002</td>\n",
       "      <td>20.558</td>\n",
       "      <td>25.518</td>\n",
       "      <td>Autoinhibited</td>\n",
       "      <td>Closed</td>\n",
       "      <td>O08967_002.a3m</td>\n",
       "      <td>UniRef100_UPI00223D03CD</td>\n",
       "      <td>685728.0</td>\n",
       "      <td>[131567, 2759, 33154, 33208, 6072, 33213, 3351...</td>\n",
       "      <td>[131567, 2759, 33154, 33208, 6072, 33213, 3351...</td>\n",
       "      <td>11</td>\n",
       "      <td>30</td>\n",
       "      <td>17</td>\n",
       "      <td>Closed</td>\n",
       "    </tr>\n",
       "  </tbody>\n",
       "</table>\n",
       "</div>"
      ],
      "text/plain": [
       "   uniprot   pdb cluster  Complex RMSD    IMAE          state conformation  \\\n",
       "7   O08967  2r09     031        19.503  31.059  Autoinhibited       Closed   \n",
       "8   O08967  2r09     031        19.503  31.059  Autoinhibited       Closed   \n",
       "80  O08967  2r09     002        20.558  25.518  Autoinhibited       Closed   \n",
       "81  O08967  2r09     002        20.558  25.518  Autoinhibited       Closed   \n",
       "82  O08967  2r09     002        20.558  25.518  Autoinhibited       Closed   \n",
       "\n",
       "          filename                   uniref   taxonId  \\\n",
       "7   O08967_031.a3m     UniRef100_A0A024UJ15  157072.0   \n",
       "8   O08967_031.a3m         UniRef100_W4FH40  112090.0   \n",
       "80  O08967_002.a3m  UniRef100_UPI001C3FA3AE    7868.0   \n",
       "81  O08967_002.a3m  UniRef100_UPI001B7D9AF6   13397.0   \n",
       "82  O08967_002.a3m  UniRef100_UPI00223D03CD  685728.0   \n",
       "\n",
       "                                      uniprot_lineage  \\\n",
       "7   [131567, 2759, 33154, 33208, 6072, 33213, 3351...   \n",
       "8   [131567, 2759, 33154, 33208, 6072, 33213, 3351...   \n",
       "80  [131567, 2759, 33154, 33208, 6072, 33213, 3351...   \n",
       "81  [131567, 2759, 33154, 33208, 6072, 33213, 3351...   \n",
       "82  [131567, 2759, 33154, 33208, 6072, 33213, 3351...   \n",
       "\n",
       "                                      cluster_lineage  lineage_score  \\\n",
       "7   [131567, 2759, 2698737, 33634, 4762, 4763, 476...              2   \n",
       "8   [131567, 2759, 2698737, 33634, 4762, 4763, 476...              2   \n",
       "80  [131567, 2759, 33154, 33208, 6072, 33213, 3351...             11   \n",
       "81  [131567, 2759, 33154, 33208, 6072, 33213, 3351...             11   \n",
       "82  [131567, 2759, 33154, 33208, 6072, 33213, 3351...             11   \n",
       "\n",
       "    uniprot_lineage_length  cluster_lineage_length cf_conformation  \n",
       "7                       30                       8          Closed  \n",
       "8                       30                       8          Closed  \n",
       "80                      30                      16          Closed  \n",
       "81                      30                      20          Closed  \n",
       "82                      30                      17          Closed  "
      ]
     },
     "execution_count": 80,
     "metadata": {},
     "output_type": "execute_result"
    }
   ],
   "source": [
    "'''\n",
    "Now we'll merge the RMSD data with the lineage scores.\n",
    "'''\n",
    "\n",
    "# Merge the RMSD and lineage data\n",
    "merged = pd.merge(rmsd, lineage, on=['uniprot', 'cluster'])\n",
    "\n",
    "merged_sub = merged.drop_duplicates(subset=['uniprot', 'cluster'])\n",
    "print(merged['pdb'].nunique())\n",
    "print(len(merged_sub))\n",
    "\n",
    "# Merge the cluster data\n",
    "merged = pd.merge(merged, cluster, on=['uniprot', 'cluster'])\n",
    "\n",
    "# remove uniformly distributed clusters\n",
    "merged = merged[~merged['cluster'].str.contains('U')]\n",
    "print(merged['pdb'].nunique())\n",
    "print(merged['uniprot'].nunique())\n",
    "merged.head()"
   ]
  },
  {
   "cell_type": "markdown",
   "metadata": {},
   "source": [
    "We want to find the best cluster structure per PDB file."
   ]
  },
  {
   "cell_type": "code",
   "execution_count": 77,
   "metadata": {},
   "outputs": [
    {
     "name": "stdout",
     "output_type": "stream",
     "text": [
      "13387\n",
      "275\n",
      "Empty DataFrame\n",
      "Columns: [pdb, IMAE, uniprot, cluster, Complex RMSD, state, conformation, filename, uniref, taxonId, uniprot_lineage, cluster_lineage, lineage_score, uniprot_lineage_length, cluster_lineage_length, cf_conformation]\n",
      "Index: []\n"
     ]
    },
    {
     "data": {
      "text/html": [
       "<div>\n",
       "<style scoped>\n",
       "    .dataframe tbody tr th:only-of-type {\n",
       "        vertical-align: middle;\n",
       "    }\n",
       "\n",
       "    .dataframe tbody tr th {\n",
       "        vertical-align: top;\n",
       "    }\n",
       "\n",
       "    .dataframe thead th {\n",
       "        text-align: right;\n",
       "    }\n",
       "</style>\n",
       "<table border=\"1\" class=\"dataframe\">\n",
       "  <thead>\n",
       "    <tr style=\"text-align: right;\">\n",
       "      <th></th>\n",
       "      <th>uniprot</th>\n",
       "      <th>pdb</th>\n",
       "      <th>cluster</th>\n",
       "      <th>Complex RMSD</th>\n",
       "      <th>IMAE</th>\n",
       "      <th>state</th>\n",
       "      <th>conformation</th>\n",
       "      <th>filename</th>\n",
       "      <th>uniref</th>\n",
       "      <th>taxonId</th>\n",
       "      <th>uniprot_lineage</th>\n",
       "      <th>cluster_lineage</th>\n",
       "      <th>lineage_score</th>\n",
       "      <th>uniprot_lineage_length</th>\n",
       "      <th>cluster_lineage_length</th>\n",
       "      <th>cf_conformation</th>\n",
       "    </tr>\n",
       "  </thead>\n",
       "  <tbody>\n",
       "    <tr>\n",
       "      <th>7</th>\n",
       "      <td>O08967</td>\n",
       "      <td>2r09</td>\n",
       "      <td>031</td>\n",
       "      <td>19.503</td>\n",
       "      <td>31.059</td>\n",
       "      <td>Autoinhibited</td>\n",
       "      <td>Closed</td>\n",
       "      <td>O08967_031.a3m</td>\n",
       "      <td>UniRef100_A0A024UJ15</td>\n",
       "      <td>157072.0</td>\n",
       "      <td>[131567, 2759, 33154, 33208, 6072, 33213, 3351...</td>\n",
       "      <td>[131567, 2759, 2698737, 33634, 4762, 4763, 476...</td>\n",
       "      <td>2</td>\n",
       "      <td>30</td>\n",
       "      <td>8</td>\n",
       "      <td>Closed</td>\n",
       "    </tr>\n",
       "    <tr>\n",
       "      <th>8</th>\n",
       "      <td>O08967</td>\n",
       "      <td>2r09</td>\n",
       "      <td>031</td>\n",
       "      <td>19.503</td>\n",
       "      <td>31.059</td>\n",
       "      <td>Autoinhibited</td>\n",
       "      <td>Closed</td>\n",
       "      <td>O08967_031.a3m</td>\n",
       "      <td>UniRef100_W4FH40</td>\n",
       "      <td>112090.0</td>\n",
       "      <td>[131567, 2759, 33154, 33208, 6072, 33213, 3351...</td>\n",
       "      <td>[131567, 2759, 2698737, 33634, 4762, 4763, 476...</td>\n",
       "      <td>2</td>\n",
       "      <td>30</td>\n",
       "      <td>8</td>\n",
       "      <td>Closed</td>\n",
       "    </tr>\n",
       "    <tr>\n",
       "      <th>80</th>\n",
       "      <td>O08967</td>\n",
       "      <td>2r09</td>\n",
       "      <td>002</td>\n",
       "      <td>20.558</td>\n",
       "      <td>25.518</td>\n",
       "      <td>Autoinhibited</td>\n",
       "      <td>Closed</td>\n",
       "      <td>O08967_002.a3m</td>\n",
       "      <td>UniRef100_UPI001C3FA3AE</td>\n",
       "      <td>7868.0</td>\n",
       "      <td>[131567, 2759, 33154, 33208, 6072, 33213, 3351...</td>\n",
       "      <td>[131567, 2759, 33154, 33208, 6072, 33213, 3351...</td>\n",
       "      <td>11</td>\n",
       "      <td>30</td>\n",
       "      <td>16</td>\n",
       "      <td>Closed</td>\n",
       "    </tr>\n",
       "    <tr>\n",
       "      <th>81</th>\n",
       "      <td>O08967</td>\n",
       "      <td>2r09</td>\n",
       "      <td>002</td>\n",
       "      <td>20.558</td>\n",
       "      <td>25.518</td>\n",
       "      <td>Autoinhibited</td>\n",
       "      <td>Closed</td>\n",
       "      <td>O08967_002.a3m</td>\n",
       "      <td>UniRef100_UPI001B7D9AF6</td>\n",
       "      <td>13397.0</td>\n",
       "      <td>[131567, 2759, 33154, 33208, 6072, 33213, 3351...</td>\n",
       "      <td>[131567, 2759, 33154, 33208, 6072, 33213, 3351...</td>\n",
       "      <td>11</td>\n",
       "      <td>30</td>\n",
       "      <td>20</td>\n",
       "      <td>Closed</td>\n",
       "    </tr>\n",
       "    <tr>\n",
       "      <th>82</th>\n",
       "      <td>O08967</td>\n",
       "      <td>2r09</td>\n",
       "      <td>002</td>\n",
       "      <td>20.558</td>\n",
       "      <td>25.518</td>\n",
       "      <td>Autoinhibited</td>\n",
       "      <td>Closed</td>\n",
       "      <td>O08967_002.a3m</td>\n",
       "      <td>UniRef100_UPI00223D03CD</td>\n",
       "      <td>685728.0</td>\n",
       "      <td>[131567, 2759, 33154, 33208, 6072, 33213, 3351...</td>\n",
       "      <td>[131567, 2759, 33154, 33208, 6072, 33213, 3351...</td>\n",
       "      <td>11</td>\n",
       "      <td>30</td>\n",
       "      <td>17</td>\n",
       "      <td>Closed</td>\n",
       "    </tr>\n",
       "  </tbody>\n",
       "</table>\n",
       "</div>"
      ],
      "text/plain": [
       "   uniprot   pdb cluster  Complex RMSD    IMAE          state conformation  \\\n",
       "7   O08967  2r09     031        19.503  31.059  Autoinhibited       Closed   \n",
       "8   O08967  2r09     031        19.503  31.059  Autoinhibited       Closed   \n",
       "80  O08967  2r09     002        20.558  25.518  Autoinhibited       Closed   \n",
       "81  O08967  2r09     002        20.558  25.518  Autoinhibited       Closed   \n",
       "82  O08967  2r09     002        20.558  25.518  Autoinhibited       Closed   \n",
       "\n",
       "          filename                   uniref   taxonId  \\\n",
       "7   O08967_031.a3m     UniRef100_A0A024UJ15  157072.0   \n",
       "8   O08967_031.a3m         UniRef100_W4FH40  112090.0   \n",
       "80  O08967_002.a3m  UniRef100_UPI001C3FA3AE    7868.0   \n",
       "81  O08967_002.a3m  UniRef100_UPI001B7D9AF6   13397.0   \n",
       "82  O08967_002.a3m  UniRef100_UPI00223D03CD  685728.0   \n",
       "\n",
       "                                      uniprot_lineage  \\\n",
       "7   [131567, 2759, 33154, 33208, 6072, 33213, 3351...   \n",
       "8   [131567, 2759, 33154, 33208, 6072, 33213, 3351...   \n",
       "80  [131567, 2759, 33154, 33208, 6072, 33213, 3351...   \n",
       "81  [131567, 2759, 33154, 33208, 6072, 33213, 3351...   \n",
       "82  [131567, 2759, 33154, 33208, 6072, 33213, 3351...   \n",
       "\n",
       "                                      cluster_lineage  lineage_score  \\\n",
       "7   [131567, 2759, 2698737, 33634, 4762, 4763, 476...              2   \n",
       "8   [131567, 2759, 2698737, 33634, 4762, 4763, 476...              2   \n",
       "80  [131567, 2759, 33154, 33208, 6072, 33213, 3351...             11   \n",
       "81  [131567, 2759, 33154, 33208, 6072, 33213, 3351...             11   \n",
       "82  [131567, 2759, 33154, 33208, 6072, 33213, 3351...             11   \n",
       "\n",
       "    uniprot_lineage_length  cluster_lineage_length cf_conformation  \n",
       "7                       30                       8          Closed  \n",
       "8                       30                       8          Closed  \n",
       "80                      30                      16          Closed  \n",
       "81                      30                      20          Closed  \n",
       "82                      30                      17          Closed  "
      ]
     },
     "execution_count": 77,
     "metadata": {},
     "output_type": "execute_result"
    }
   ],
   "source": [
    "best = merged.groupby('pdb')['IMAE'].min().reset_index()\n",
    "\n",
    "merged2 = pd.merge(best, merged, on=['pdb', 'IMAE'], how='left')\n",
    "\n",
    "print(len(merged2))\n",
    "print(merged2['pdb'].nunique())\n",
    "merged.head()"
   ]
  },
  {
   "cell_type": "code",
   "execution_count": 12,
   "metadata": {},
   "outputs": [
    {
     "name": "stdout",
     "output_type": "stream",
     "text": [
      "cf_conformation\n",
      "Closed    269\n",
      "Open        6\n",
      "Name: count, dtype: int64\n",
      "conformation\n",
      "Closed    273\n",
      "Open        2\n",
      "Name: count, dtype: int64\n"
     ]
    }
   ],
   "source": [
    "merged_sub = merged.drop_duplicates(subset=['uniprot', 'pdb', 'cluster'])\n",
    "\n",
    "print(merged_sub['cf_conformation'].value_counts())\n",
    "print(merged_sub['conformation'].value_counts())"
   ]
  },
  {
   "cell_type": "code",
   "execution_count": 13,
   "metadata": {},
   "outputs": [
    {
     "name": "stdout",
     "output_type": "stream",
     "text": [
      "   cluster uniprot  counts\n",
      "0      000  O60741       8\n",
      "1      000  P07038       2\n",
      "2      000  P28482    1316\n",
      "3      000  P53042     372\n",
      "4      000  P60240       4\n",
      "5      000  Q9Y6K1       5\n",
      "6      001  P07038       4\n",
      "7      001  P22681     456\n",
      "8      001  Q9Y6K1       2\n",
      "9      005  O08967      14\n",
      "10     007  P22681      20\n",
      "11     008  P22681      42\n",
      "12     010  P62826       4\n",
      "13     013  Q96BN8     477\n",
      "14     015  P22681       3\n",
      "15     016  O08967       4\n",
      "16     018  P27577     360\n",
      "17     018  P29350       9\n",
      "18     018  Q6GQQ9       6\n",
      "19     019  P22681       9\n",
      "20     021  P29350      13\n",
      "21     025  P35520      30\n",
      "22     026  P28482     897\n",
      "23     039  P53042      72\n",
      "24     041  Q8NQJ3       2\n",
      "25     060  P62826       2\n",
      "26     061  P12931     210\n",
      "27     066  P62826     198\n",
      "28     081  P28482    7392\n",
      "29     082  P62826       9\n",
      "30     088  Q8NQJ3       1\n",
      "31     096  P62826     234\n",
      "32     099  P28482     890\n",
      "33     105  P12931      15\n",
      "34     137  P35520     216\n",
      "35     139  P28482      70\n",
      "36     187  P28482       2\n",
      "37     226  P28482       1\n",
      "38     281  P28482      16\n"
     ]
    }
   ],
   "source": [
    "# First the variance\n",
    "var = merged.groupby(['uniprot', 'cluster'])['lineage_score'].transform('var')\n",
    "\n",
    "merged['var'] = var\n",
    "\n",
    "merged = merged.fillna(0)\n",
    "\n",
    "# Now the mean\n",
    "mean = merged.groupby(['uniprot', 'cluster'])['lineage_score'].transform('mean')\n",
    "\n",
    "merged['mean'] = mean\n",
    "\n",
    "# Now the max\n",
    "lmax = merged.groupby(['uniprot', 'cluster'])['lineage_score'].transform('max')\n",
    "\n",
    "merged['max'] = lmax\n",
    "\n",
    "# Min\n",
    "lmin = merged.groupby(['uniprot', 'cluster'])['lineage_score'].transform('min')\n",
    "\n",
    "merged['min'] = lmin\n",
    "\n",
    "# Need to count the number of unirefs per cluster\n",
    "\n",
    "counts = merged.groupby(['cluster', 'uniprot']).size().reset_index(name='counts')\n",
    "\n",
    "print(counts)\n",
    "\n",
    "# Now we can merge the counts with the lineage scores\n",
    "lineage_counts = pd.merge(merged, counts, on=['uniprot', 'cluster'])"
   ]
  },
  {
   "cell_type": "code",
   "execution_count": 14,
   "metadata": {},
   "outputs": [
    {
     "data": {
      "text/html": [
       "<div>\n",
       "<style scoped>\n",
       "    .dataframe tbody tr th:only-of-type {\n",
       "        vertical-align: middle;\n",
       "    }\n",
       "\n",
       "    .dataframe tbody tr th {\n",
       "        vertical-align: top;\n",
       "    }\n",
       "\n",
       "    .dataframe thead th {\n",
       "        text-align: right;\n",
       "    }\n",
       "</style>\n",
       "<table border=\"1\" class=\"dataframe\">\n",
       "  <thead>\n",
       "    <tr style=\"text-align: right;\">\n",
       "      <th></th>\n",
       "      <th>pdb</th>\n",
       "      <th>IMAE</th>\n",
       "      <th>uniprot</th>\n",
       "      <th>cluster</th>\n",
       "      <th>Complex RMSD</th>\n",
       "      <th>state</th>\n",
       "      <th>conformation</th>\n",
       "      <th>filename</th>\n",
       "      <th>uniref</th>\n",
       "      <th>taxonId</th>\n",
       "      <th>...</th>\n",
       "      <th>cluster_lineage</th>\n",
       "      <th>lineage_score</th>\n",
       "      <th>uniprot_lineage_length</th>\n",
       "      <th>cluster_lineage_length</th>\n",
       "      <th>cf_conformation</th>\n",
       "      <th>var</th>\n",
       "      <th>mean</th>\n",
       "      <th>max</th>\n",
       "      <th>min</th>\n",
       "      <th>counts</th>\n",
       "    </tr>\n",
       "  </thead>\n",
       "  <tbody>\n",
       "    <tr>\n",
       "      <th>0</th>\n",
       "      <td>1fbv</td>\n",
       "      <td>16.614</td>\n",
       "      <td>P22681</td>\n",
       "      <td>001</td>\n",
       "      <td>26.959</td>\n",
       "      <td>Autoinhibited</td>\n",
       "      <td>Closed</td>\n",
       "      <td>P22681_001.a3m</td>\n",
       "      <td>UniRef100_A0A6J2VMB9</td>\n",
       "      <td>29144.0</td>\n",
       "      <td>...</td>\n",
       "      <td>[131567, 2759, 33154, 33208, 6072, 33213, 3351...</td>\n",
       "      <td>13</td>\n",
       "      <td>30</td>\n",
       "      <td>26</td>\n",
       "      <td>Closed</td>\n",
       "      <td>3.27688</td>\n",
       "      <td>12.743421</td>\n",
       "      <td>13</td>\n",
       "      <td>0</td>\n",
       "      <td>456</td>\n",
       "    </tr>\n",
       "    <tr>\n",
       "      <th>1</th>\n",
       "      <td>1fbv</td>\n",
       "      <td>16.614</td>\n",
       "      <td>P22681</td>\n",
       "      <td>001</td>\n",
       "      <td>26.959</td>\n",
       "      <td>Autoinhibited</td>\n",
       "      <td>Closed</td>\n",
       "      <td>P22681_001.a3m</td>\n",
       "      <td>UniRef100_UPI00148F4755</td>\n",
       "      <td>1203425.0</td>\n",
       "      <td>...</td>\n",
       "      <td>[131567, 2759, 33154, 33208, 6072, 33213, 3351...</td>\n",
       "      <td>13</td>\n",
       "      <td>30</td>\n",
       "      <td>30</td>\n",
       "      <td>Closed</td>\n",
       "      <td>3.27688</td>\n",
       "      <td>12.743421</td>\n",
       "      <td>13</td>\n",
       "      <td>0</td>\n",
       "      <td>456</td>\n",
       "    </tr>\n",
       "    <tr>\n",
       "      <th>2</th>\n",
       "      <td>1fbv</td>\n",
       "      <td>16.614</td>\n",
       "      <td>P22681</td>\n",
       "      <td>001</td>\n",
       "      <td>26.959</td>\n",
       "      <td>Autoinhibited</td>\n",
       "      <td>Closed</td>\n",
       "      <td>P22681_001.a3m</td>\n",
       "      <td>UniRef100_UPI0014458EF9</td>\n",
       "      <td>310571.0</td>\n",
       "      <td>...</td>\n",
       "      <td>[131567, 2759, 33154, 33208, 6072, 33213, 3351...</td>\n",
       "      <td>13</td>\n",
       "      <td>30</td>\n",
       "      <td>33</td>\n",
       "      <td>Closed</td>\n",
       "      <td>3.27688</td>\n",
       "      <td>12.743421</td>\n",
       "      <td>13</td>\n",
       "      <td>0</td>\n",
       "      <td>456</td>\n",
       "    </tr>\n",
       "    <tr>\n",
       "      <th>3</th>\n",
       "      <td>1fbv</td>\n",
       "      <td>16.614</td>\n",
       "      <td>P22681</td>\n",
       "      <td>001</td>\n",
       "      <td>26.959</td>\n",
       "      <td>Autoinhibited</td>\n",
       "      <td>Closed</td>\n",
       "      <td>P22681_001.a3m</td>\n",
       "      <td>UniRef100_UPI001BEAA65B</td>\n",
       "      <td>109905.0</td>\n",
       "      <td>...</td>\n",
       "      <td>[131567, 2759, 33154, 33208, 6072, 33213, 3351...</td>\n",
       "      <td>13</td>\n",
       "      <td>30</td>\n",
       "      <td>30</td>\n",
       "      <td>Closed</td>\n",
       "      <td>3.27688</td>\n",
       "      <td>12.743421</td>\n",
       "      <td>13</td>\n",
       "      <td>0</td>\n",
       "      <td>456</td>\n",
       "    </tr>\n",
       "    <tr>\n",
       "      <th>4</th>\n",
       "      <td>1fbv</td>\n",
       "      <td>16.614</td>\n",
       "      <td>P22681</td>\n",
       "      <td>001</td>\n",
       "      <td>26.959</td>\n",
       "      <td>Autoinhibited</td>\n",
       "      <td>Closed</td>\n",
       "      <td>P22681_001.a3m</td>\n",
       "      <td>UniRef100_A0A3Q1H707</td>\n",
       "      <td>80966.0</td>\n",
       "      <td>...</td>\n",
       "      <td>[131567, 2759, 33154, 33208, 6072, 33213, 3351...</td>\n",
       "      <td>13</td>\n",
       "      <td>30</td>\n",
       "      <td>30</td>\n",
       "      <td>Closed</td>\n",
       "      <td>3.27688</td>\n",
       "      <td>12.743421</td>\n",
       "      <td>13</td>\n",
       "      <td>0</td>\n",
       "      <td>456</td>\n",
       "    </tr>\n",
       "  </tbody>\n",
       "</table>\n",
       "<p>5 rows × 21 columns</p>\n",
       "</div>"
      ],
      "text/plain": [
       "    pdb    IMAE uniprot cluster  Complex RMSD          state conformation  \\\n",
       "0  1fbv  16.614  P22681     001        26.959  Autoinhibited       Closed   \n",
       "1  1fbv  16.614  P22681     001        26.959  Autoinhibited       Closed   \n",
       "2  1fbv  16.614  P22681     001        26.959  Autoinhibited       Closed   \n",
       "3  1fbv  16.614  P22681     001        26.959  Autoinhibited       Closed   \n",
       "4  1fbv  16.614  P22681     001        26.959  Autoinhibited       Closed   \n",
       "\n",
       "         filename                   uniref    taxonId  ...  \\\n",
       "0  P22681_001.a3m     UniRef100_A0A6J2VMB9    29144.0  ...   \n",
       "1  P22681_001.a3m  UniRef100_UPI00148F4755  1203425.0  ...   \n",
       "2  P22681_001.a3m  UniRef100_UPI0014458EF9   310571.0  ...   \n",
       "3  P22681_001.a3m  UniRef100_UPI001BEAA65B   109905.0  ...   \n",
       "4  P22681_001.a3m     UniRef100_A0A3Q1H707    80966.0  ...   \n",
       "\n",
       "                                     cluster_lineage lineage_score  \\\n",
       "0  [131567, 2759, 33154, 33208, 6072, 33213, 3351...            13   \n",
       "1  [131567, 2759, 33154, 33208, 6072, 33213, 3351...            13   \n",
       "2  [131567, 2759, 33154, 33208, 6072, 33213, 3351...            13   \n",
       "3  [131567, 2759, 33154, 33208, 6072, 33213, 3351...            13   \n",
       "4  [131567, 2759, 33154, 33208, 6072, 33213, 3351...            13   \n",
       "\n",
       "   uniprot_lineage_length  cluster_lineage_length  cf_conformation      var  \\\n",
       "0                      30                      26           Closed  3.27688   \n",
       "1                      30                      30           Closed  3.27688   \n",
       "2                      30                      33           Closed  3.27688   \n",
       "3                      30                      30           Closed  3.27688   \n",
       "4                      30                      30           Closed  3.27688   \n",
       "\n",
       "        mean  max  min  counts  \n",
       "0  12.743421   13    0     456  \n",
       "1  12.743421   13    0     456  \n",
       "2  12.743421   13    0     456  \n",
       "3  12.743421   13    0     456  \n",
       "4  12.743421   13    0     456  \n",
       "\n",
       "[5 rows x 21 columns]"
      ]
     },
     "execution_count": 14,
     "metadata": {},
     "output_type": "execute_result"
    }
   ],
   "source": [
    "lineage_counts.head()"
   ]
  },
  {
   "cell_type": "code",
   "execution_count": 15,
   "metadata": {},
   "outputs": [
    {
     "name": "stdout",
     "output_type": "stream",
     "text": [
      "cf_conformation\n",
      "Closed    269\n",
      "Open        4\n",
      "Name: count, dtype: int64\n"
     ]
    }
   ],
   "source": [
    "# Keep only the closed structures.\n",
    "closed = lineage_counts[lineage_counts['conformation'] == 'Closed']\n",
    "\n",
    "closed_sub = closed.drop_duplicates(subset=['uniprot', 'pdb', 'cluster'])\n",
    "print(closed_sub['cf_conformation'].value_counts())"
   ]
  },
  {
   "cell_type": "code",
   "execution_count": 16,
   "metadata": {},
   "outputs": [
    {
     "data": {
      "text/html": [
       "<div>\n",
       "<style scoped>\n",
       "    .dataframe tbody tr th:only-of-type {\n",
       "        vertical-align: middle;\n",
       "    }\n",
       "\n",
       "    .dataframe tbody tr th {\n",
       "        vertical-align: top;\n",
       "    }\n",
       "\n",
       "    .dataframe thead th {\n",
       "        text-align: right;\n",
       "    }\n",
       "</style>\n",
       "<table border=\"1\" class=\"dataframe\">\n",
       "  <thead>\n",
       "    <tr style=\"text-align: right;\">\n",
       "      <th></th>\n",
       "      <th>pdb</th>\n",
       "      <th>IMAE</th>\n",
       "      <th>uniprot</th>\n",
       "      <th>cluster</th>\n",
       "      <th>Complex RMSD</th>\n",
       "      <th>uniprot_lineage_length</th>\n",
       "      <th>cf_conformation</th>\n",
       "      <th>var</th>\n",
       "      <th>mean</th>\n",
       "      <th>max</th>\n",
       "      <th>min</th>\n",
       "      <th>counts</th>\n",
       "    </tr>\n",
       "  </thead>\n",
       "  <tbody>\n",
       "    <tr>\n",
       "      <th>0</th>\n",
       "      <td>1fbv</td>\n",
       "      <td>16.614</td>\n",
       "      <td>P22681</td>\n",
       "      <td>001</td>\n",
       "      <td>26.959</td>\n",
       "      <td>30</td>\n",
       "      <td>Closed</td>\n",
       "      <td>3.276880</td>\n",
       "      <td>12.743421</td>\n",
       "      <td>13</td>\n",
       "      <td>0</td>\n",
       "      <td>456</td>\n",
       "    </tr>\n",
       "    <tr>\n",
       "      <th>1</th>\n",
       "      <td>1fmk</td>\n",
       "      <td>17.963</td>\n",
       "      <td>P12931</td>\n",
       "      <td>061</td>\n",
       "      <td>8.821</td>\n",
       "      <td>30</td>\n",
       "      <td>Closed</td>\n",
       "      <td>4.713055</td>\n",
       "      <td>12.628571</td>\n",
       "      <td>13</td>\n",
       "      <td>0</td>\n",
       "      <td>210</td>\n",
       "    </tr>\n",
       "    <tr>\n",
       "      <th>2</th>\n",
       "      <td>1k5d</td>\n",
       "      <td>13.037</td>\n",
       "      <td>P62826</td>\n",
       "      <td>010</td>\n",
       "      <td>5.794</td>\n",
       "      <td>30</td>\n",
       "      <td>Closed</td>\n",
       "      <td>0.000000</td>\n",
       "      <td>2.000000</td>\n",
       "      <td>2</td>\n",
       "      <td>2</td>\n",
       "      <td>4</td>\n",
       "    </tr>\n",
       "    <tr>\n",
       "      <th>3</th>\n",
       "      <td>1k5g</td>\n",
       "      <td>13.059</td>\n",
       "      <td>P62826</td>\n",
       "      <td>066</td>\n",
       "      <td>6.376</td>\n",
       "      <td>30</td>\n",
       "      <td>Closed</td>\n",
       "      <td>0.000000</td>\n",
       "      <td>3.000000</td>\n",
       "      <td>3</td>\n",
       "      <td>3</td>\n",
       "      <td>198</td>\n",
       "    </tr>\n",
       "    <tr>\n",
       "      <th>4</th>\n",
       "      <td>1ksw</td>\n",
       "      <td>13.249</td>\n",
       "      <td>P12931</td>\n",
       "      <td>061</td>\n",
       "      <td>8.873</td>\n",
       "      <td>30</td>\n",
       "      <td>Closed</td>\n",
       "      <td>4.713055</td>\n",
       "      <td>12.628571</td>\n",
       "      <td>13</td>\n",
       "      <td>0</td>\n",
       "      <td>210</td>\n",
       "    </tr>\n",
       "  </tbody>\n",
       "</table>\n",
       "</div>"
      ],
      "text/plain": [
       "    pdb    IMAE uniprot cluster  Complex RMSD  uniprot_lineage_length  \\\n",
       "0  1fbv  16.614  P22681     001        26.959                      30   \n",
       "1  1fmk  17.963  P12931     061         8.821                      30   \n",
       "2  1k5d  13.037  P62826     010         5.794                      30   \n",
       "3  1k5g  13.059  P62826     066         6.376                      30   \n",
       "4  1ksw  13.249  P12931     061         8.873                      30   \n",
       "\n",
       "  cf_conformation       var       mean  max  min  counts  \n",
       "0          Closed  3.276880  12.743421   13    0     456  \n",
       "1          Closed  4.713055  12.628571   13    0     210  \n",
       "2          Closed  0.000000   2.000000    2    2       4  \n",
       "3          Closed  0.000000   3.000000    3    3     198  \n",
       "4          Closed  4.713055  12.628571   13    0     210  "
      ]
     },
     "execution_count": 16,
     "metadata": {},
     "output_type": "execute_result"
    }
   ],
   "source": [
    "pre = closed.drop(columns=['filename', 'uniref', 'taxonId', 'uniprot_lineage', 'cluster_lineage', 'lineage_score', 'cluster_lineage_length', 'state', 'conformation'])\n",
    "pre = pre.drop_duplicates().reset_index(drop=True)\n",
    "\n",
    "# What if we got rid of the uniformly sampled clusters? I.e. any cluster with U in it\n",
    "pre = pre[~pre['cluster'].str.contains('U')]\n",
    "pre.head()"
   ]
  },
  {
   "cell_type": "code",
   "execution_count": 17,
   "metadata": {},
   "outputs": [
    {
     "data": {
      "text/html": [
       "<div>\n",
       "<style scoped>\n",
       "    .dataframe tbody tr th:only-of-type {\n",
       "        vertical-align: middle;\n",
       "    }\n",
       "\n",
       "    .dataframe tbody tr th {\n",
       "        vertical-align: top;\n",
       "    }\n",
       "\n",
       "    .dataframe thead th {\n",
       "        text-align: right;\n",
       "    }\n",
       "</style>\n",
       "<table border=\"1\" class=\"dataframe\">\n",
       "  <thead>\n",
       "    <tr style=\"text-align: right;\">\n",
       "      <th></th>\n",
       "      <th>IMAE</th>\n",
       "      <th>Complex RMSD</th>\n",
       "      <th>uniprot_lineage_length</th>\n",
       "      <th>cf_conformation</th>\n",
       "      <th>var</th>\n",
       "      <th>mean</th>\n",
       "      <th>max</th>\n",
       "      <th>min</th>\n",
       "      <th>counts</th>\n",
       "    </tr>\n",
       "  </thead>\n",
       "  <tbody>\n",
       "    <tr>\n",
       "      <th>0</th>\n",
       "      <td>16.614</td>\n",
       "      <td>26.959</td>\n",
       "      <td>30</td>\n",
       "      <td>0</td>\n",
       "      <td>3.276880</td>\n",
       "      <td>12.743421</td>\n",
       "      <td>13</td>\n",
       "      <td>0</td>\n",
       "      <td>456</td>\n",
       "    </tr>\n",
       "    <tr>\n",
       "      <th>1</th>\n",
       "      <td>17.963</td>\n",
       "      <td>8.821</td>\n",
       "      <td>30</td>\n",
       "      <td>0</td>\n",
       "      <td>4.713055</td>\n",
       "      <td>12.628571</td>\n",
       "      <td>13</td>\n",
       "      <td>0</td>\n",
       "      <td>210</td>\n",
       "    </tr>\n",
       "    <tr>\n",
       "      <th>2</th>\n",
       "      <td>13.037</td>\n",
       "      <td>5.794</td>\n",
       "      <td>30</td>\n",
       "      <td>0</td>\n",
       "      <td>0.000000</td>\n",
       "      <td>2.000000</td>\n",
       "      <td>2</td>\n",
       "      <td>2</td>\n",
       "      <td>4</td>\n",
       "    </tr>\n",
       "    <tr>\n",
       "      <th>3</th>\n",
       "      <td>13.059</td>\n",
       "      <td>6.376</td>\n",
       "      <td>30</td>\n",
       "      <td>0</td>\n",
       "      <td>0.000000</td>\n",
       "      <td>3.000000</td>\n",
       "      <td>3</td>\n",
       "      <td>3</td>\n",
       "      <td>198</td>\n",
       "    </tr>\n",
       "    <tr>\n",
       "      <th>4</th>\n",
       "      <td>13.249</td>\n",
       "      <td>8.873</td>\n",
       "      <td>30</td>\n",
       "      <td>0</td>\n",
       "      <td>4.713055</td>\n",
       "      <td>12.628571</td>\n",
       "      <td>13</td>\n",
       "      <td>0</td>\n",
       "      <td>210</td>\n",
       "    </tr>\n",
       "  </tbody>\n",
       "</table>\n",
       "</div>"
      ],
      "text/plain": [
       "     IMAE  Complex RMSD  uniprot_lineage_length  cf_conformation       var  \\\n",
       "0  16.614        26.959                      30                0  3.276880   \n",
       "1  17.963         8.821                      30                0  4.713055   \n",
       "2  13.037         5.794                      30                0  0.000000   \n",
       "3  13.059         6.376                      30                0  0.000000   \n",
       "4  13.249         8.873                      30                0  4.713055   \n",
       "\n",
       "        mean  max  min  counts  \n",
       "0  12.743421   13    0     456  \n",
       "1  12.628571   13    0     210  \n",
       "2   2.000000    2    2       4  \n",
       "3   3.000000    3    3     198  \n",
       "4  12.628571   13    0     210  "
      ]
     },
     "execution_count": 17,
     "metadata": {},
     "output_type": "execute_result"
    }
   ],
   "source": [
    "#We'll one-hot the state and conformation. 0 if Autoinhibited/Closed, 1 if Active/Open\n",
    "pre['cf_conformation'] = pre['cf_conformation'].map({'Closed': 0, 'Open': 1})\n",
    "pre = pre.drop(columns=['uniprot', 'cluster', 'pdb'])\n",
    "pre.head()"
   ]
  },
  {
   "cell_type": "code",
   "execution_count": 18,
   "metadata": {},
   "outputs": [],
   "source": [
    "# Now we'll make a dataset for the conformation\n",
    "conf = pre.drop(columns=['Complex RMSD', 'IMAE'])\n",
    "\n",
    "# Now we'll make a dataset for the Complex RMSD\n",
    "rmsd = pre.drop(columns=['IMAE', 'cf_conformation'])\n",
    "\n",
    "# Finally, we'll make a dataset for the IMAE\n",
    "imae = pre.drop(columns=['Complex RMSD', 'cf_conformation'])"
   ]
  },
  {
   "cell_type": "code",
   "execution_count": 19,
   "metadata": {},
   "outputs": [],
   "source": [
    "# Split the data into features and target\n",
    "X = conf.drop('cf_conformation', axis=1)\n",
    "Y = conf['cf_conformation']\n",
    "\n",
    "# Split the data into training and test sets\n",
    "X_train, X_test, Y_train, Y_test = train_test_split(X, Y, test_size=0.2, random_state=42)"
   ]
  },
  {
   "cell_type": "code",
   "execution_count": 20,
   "metadata": {},
   "outputs": [
    {
     "data": {
      "text/html": [
       "<style>#sk-container-id-1 {color: black;}#sk-container-id-1 pre{padding: 0;}#sk-container-id-1 div.sk-toggleable {background-color: white;}#sk-container-id-1 label.sk-toggleable__label {cursor: pointer;display: block;width: 100%;margin-bottom: 0;padding: 0.3em;box-sizing: border-box;text-align: center;}#sk-container-id-1 label.sk-toggleable__label-arrow:before {content: \"▸\";float: left;margin-right: 0.25em;color: #696969;}#sk-container-id-1 label.sk-toggleable__label-arrow:hover:before {color: black;}#sk-container-id-1 div.sk-estimator:hover label.sk-toggleable__label-arrow:before {color: black;}#sk-container-id-1 div.sk-toggleable__content {max-height: 0;max-width: 0;overflow: hidden;text-align: left;background-color: #f0f8ff;}#sk-container-id-1 div.sk-toggleable__content pre {margin: 0.2em;color: black;border-radius: 0.25em;background-color: #f0f8ff;}#sk-container-id-1 input.sk-toggleable__control:checked~div.sk-toggleable__content {max-height: 200px;max-width: 100%;overflow: auto;}#sk-container-id-1 input.sk-toggleable__control:checked~label.sk-toggleable__label-arrow:before {content: \"▾\";}#sk-container-id-1 div.sk-estimator input.sk-toggleable__control:checked~label.sk-toggleable__label {background-color: #d4ebff;}#sk-container-id-1 div.sk-label input.sk-toggleable__control:checked~label.sk-toggleable__label {background-color: #d4ebff;}#sk-container-id-1 input.sk-hidden--visually {border: 0;clip: rect(1px 1px 1px 1px);clip: rect(1px, 1px, 1px, 1px);height: 1px;margin: -1px;overflow: hidden;padding: 0;position: absolute;width: 1px;}#sk-container-id-1 div.sk-estimator {font-family: monospace;background-color: #f0f8ff;border: 1px dotted black;border-radius: 0.25em;box-sizing: border-box;margin-bottom: 0.5em;}#sk-container-id-1 div.sk-estimator:hover {background-color: #d4ebff;}#sk-container-id-1 div.sk-parallel-item::after {content: \"\";width: 100%;border-bottom: 1px solid gray;flex-grow: 1;}#sk-container-id-1 div.sk-label:hover label.sk-toggleable__label {background-color: #d4ebff;}#sk-container-id-1 div.sk-serial::before {content: \"\";position: absolute;border-left: 1px solid gray;box-sizing: border-box;top: 0;bottom: 0;left: 50%;z-index: 0;}#sk-container-id-1 div.sk-serial {display: flex;flex-direction: column;align-items: center;background-color: white;padding-right: 0.2em;padding-left: 0.2em;position: relative;}#sk-container-id-1 div.sk-item {position: relative;z-index: 1;}#sk-container-id-1 div.sk-parallel {display: flex;align-items: stretch;justify-content: center;background-color: white;position: relative;}#sk-container-id-1 div.sk-item::before, #sk-container-id-1 div.sk-parallel-item::before {content: \"\";position: absolute;border-left: 1px solid gray;box-sizing: border-box;top: 0;bottom: 0;left: 50%;z-index: -1;}#sk-container-id-1 div.sk-parallel-item {display: flex;flex-direction: column;z-index: 1;position: relative;background-color: white;}#sk-container-id-1 div.sk-parallel-item:first-child::after {align-self: flex-end;width: 50%;}#sk-container-id-1 div.sk-parallel-item:last-child::after {align-self: flex-start;width: 50%;}#sk-container-id-1 div.sk-parallel-item:only-child::after {width: 0;}#sk-container-id-1 div.sk-dashed-wrapped {border: 1px dashed gray;margin: 0 0.4em 0.5em 0.4em;box-sizing: border-box;padding-bottom: 0.4em;background-color: white;}#sk-container-id-1 div.sk-label label {font-family: monospace;font-weight: bold;display: inline-block;line-height: 1.2em;}#sk-container-id-1 div.sk-label-container {text-align: center;}#sk-container-id-1 div.sk-container {/* jupyter's `normalize.less` sets `[hidden] { display: none; }` but bootstrap.min.css set `[hidden] { display: none !important; }` so we also need the `!important` here to be able to override the default hidden behavior on the sphinx rendered scikit-learn.org. See: https://github.com/scikit-learn/scikit-learn/issues/21755 */display: inline-block !important;position: relative;}#sk-container-id-1 div.sk-text-repr-fallback {display: none;}</style><div id=\"sk-container-id-1\" class=\"sk-top-container\"><div class=\"sk-text-repr-fallback\"><pre>RandomForestClassifier()</pre><b>In a Jupyter environment, please rerun this cell to show the HTML representation or trust the notebook. <br />On GitHub, the HTML representation is unable to render, please try loading this page with nbviewer.org.</b></div><div class=\"sk-container\" hidden><div class=\"sk-item\"><div class=\"sk-estimator sk-toggleable\"><input class=\"sk-toggleable__control sk-hidden--visually\" id=\"sk-estimator-id-1\" type=\"checkbox\" checked><label for=\"sk-estimator-id-1\" class=\"sk-toggleable__label sk-toggleable__label-arrow\">RandomForestClassifier</label><div class=\"sk-toggleable__content\"><pre>RandomForestClassifier()</pre></div></div></div></div></div>"
      ],
      "text/plain": [
       "RandomForestClassifier()"
      ]
     },
     "execution_count": 20,
     "metadata": {},
     "output_type": "execute_result"
    }
   ],
   "source": [
    "rf = RandomForestClassifier()\n",
    "rf.fit(X_train, Y_train)"
   ]
  },
  {
   "cell_type": "code",
   "execution_count": 21,
   "metadata": {},
   "outputs": [
    {
     "name": "stdout",
     "output_type": "stream",
     "text": [
      "Accuracy: 0.9636363636363636\n"
     ]
    }
   ],
   "source": [
    "Y_pred = rf.predict(X_test)\n",
    "\n",
    "accuracy = accuracy_score(Y_test, Y_pred)\n",
    "print(f'Accuracy: {accuracy}')"
   ]
  },
  {
   "cell_type": "code",
   "execution_count": 22,
   "metadata": {},
   "outputs": [
    {
     "data": {
      "image/svg+xml": [
       "<?xml version=\"1.0\" encoding=\"UTF-8\" standalone=\"no\"?>\n",
       "<!DOCTYPE svg PUBLIC \"-//W3C//DTD SVG 1.1//EN\"\n",
       " \"http://www.w3.org/Graphics/SVG/1.1/DTD/svg11.dtd\">\n",
       "<!-- Generated by graphviz version 2.50.0 (0)\n",
       " -->\n",
       "<!-- Title: Tree Pages: 1 -->\n",
       "<svg width=\"306pt\" height=\"135pt\"\n",
       " viewBox=\"0.00 0.00 306.00 135.00\" xmlns=\"http://www.w3.org/2000/svg\" xmlns:xlink=\"http://www.w3.org/1999/xlink\">\n",
       "<g id=\"graph0\" class=\"graph\" transform=\"scale(1 1) rotate(0) translate(4 131)\">\n",
       "<title>Tree</title>\n",
       "<polygon fill=\"white\" stroke=\"transparent\" points=\"-4,4 -4,-131 302,-131 302,4 -4,4\"/>\n",
       "<!-- 0 -->\n",
       "<g id=\"node1\" class=\"node\">\n",
       "<title>0</title>\n",
       "<polygon fill=\"#e6843e\" stroke=\"black\" points=\"268.5,-127 29.5,-127 29.5,-74 268.5,-74 268.5,-127\"/>\n",
       "<text text-anchor=\"middle\" x=\"149\" y=\"-111.8\" font-family=\"Helvetica,sans-Serif\" font-size=\"14.00\">uniprot_lineage_length &lt;= 22.5</text>\n",
       "<text text-anchor=\"middle\" x=\"149\" y=\"-96.8\" font-family=\"Helvetica,sans-Serif\" font-size=\"14.00\">samples = 100.0%</text>\n",
       "<text text-anchor=\"middle\" x=\"149\" y=\"-81.8\" font-family=\"Helvetica,sans-Serif\" font-size=\"14.00\">value = [0.977, 0.023]</text>\n",
       "</g>\n",
       "<!-- 1 -->\n",
       "<g id=\"node2\" class=\"node\">\n",
       "<title>1</title>\n",
       "<polygon fill=\"#399de5\" stroke=\"black\" points=\"140,-38 0,-38 0,0 140,0 140,-38\"/>\n",
       "<text text-anchor=\"middle\" x=\"70\" y=\"-22.8\" font-family=\"Helvetica,sans-Serif\" font-size=\"14.00\">samples = 1.5%</text>\n",
       "<text text-anchor=\"middle\" x=\"70\" y=\"-7.8\" font-family=\"Helvetica,sans-Serif\" font-size=\"14.00\">value = [0.0, 1.0]</text>\n",
       "</g>\n",
       "<!-- 0&#45;&gt;1 -->\n",
       "<g id=\"edge1\" class=\"edge\">\n",
       "<title>0&#45;&gt;1</title>\n",
       "<path fill=\"none\" stroke=\"black\" d=\"M123.57,-73.91C114.55,-64.83 104.4,-54.62 95.38,-45.54\"/>\n",
       "<polygon fill=\"black\" stroke=\"black\" points=\"97.66,-42.87 88.12,-38.24 92.69,-47.8 97.66,-42.87\"/>\n",
       "<text text-anchor=\"middle\" x=\"88.05\" y=\"-59.54\" font-family=\"Helvetica,sans-Serif\" font-size=\"14.00\">True</text>\n",
       "</g>\n",
       "<!-- 2 -->\n",
       "<g id=\"node3\" class=\"node\">\n",
       "<title>2</title>\n",
       "<polygon fill=\"#e58139\" stroke=\"black\" points=\"298,-38 158,-38 158,0 298,0 298,-38\"/>\n",
       "<text text-anchor=\"middle\" x=\"228\" y=\"-22.8\" font-family=\"Helvetica,sans-Serif\" font-size=\"14.00\">samples = 98.5%</text>\n",
       "<text text-anchor=\"middle\" x=\"228\" y=\"-7.8\" font-family=\"Helvetica,sans-Serif\" font-size=\"14.00\">value = [1.0, 0.0]</text>\n",
       "</g>\n",
       "<!-- 0&#45;&gt;2 -->\n",
       "<g id=\"edge2\" class=\"edge\">\n",
       "<title>0&#45;&gt;2</title>\n",
       "<path fill=\"none\" stroke=\"black\" d=\"M174.43,-73.91C183.45,-64.83 193.6,-54.62 202.62,-45.54\"/>\n",
       "<polygon fill=\"black\" stroke=\"black\" points=\"205.31,-47.8 209.88,-38.24 200.34,-42.87 205.31,-47.8\"/>\n",
       "<text text-anchor=\"middle\" x=\"209.95\" y=\"-59.54\" font-family=\"Helvetica,sans-Serif\" font-size=\"14.00\">False</text>\n",
       "</g>\n",
       "</g>\n",
       "</svg>\n"
      ],
      "text/plain": [
       "<graphviz.sources.Source at 0x7f51e9eec410>"
      ]
     },
     "metadata": {},
     "output_type": "display_data"
    },
    {
     "data": {
      "image/svg+xml": [
       "<?xml version=\"1.0\" encoding=\"UTF-8\" standalone=\"no\"?>\n",
       "<!DOCTYPE svg PUBLIC \"-//W3C//DTD SVG 1.1//EN\"\n",
       " \"http://www.w3.org/Graphics/SVG/1.1/DTD/svg11.dtd\">\n",
       "<!-- Generated by graphviz version 2.50.0 (0)\n",
       " -->\n",
       "<!-- Title: Tree Pages: 1 -->\n",
       "<svg width=\"403pt\" height=\"224pt\"\n",
       " viewBox=\"0.00 0.00 403.00 224.00\" xmlns=\"http://www.w3.org/2000/svg\" xmlns:xlink=\"http://www.w3.org/1999/xlink\">\n",
       "<g id=\"graph0\" class=\"graph\" transform=\"scale(1 1) rotate(0) translate(4 220)\">\n",
       "<title>Tree</title>\n",
       "<polygon fill=\"white\" stroke=\"transparent\" points=\"-4,4 -4,-220 399,-220 399,4 -4,4\"/>\n",
       "<!-- 0 -->\n",
       "<g id=\"node1\" class=\"node\">\n",
       "<title>0</title>\n",
       "<polygon fill=\"#e6843e\" stroke=\"black\" points=\"356.5,-216 117.5,-216 117.5,-163 356.5,-163 356.5,-216\"/>\n",
       "<text text-anchor=\"middle\" x=\"237\" y=\"-200.8\" font-family=\"Helvetica,sans-Serif\" font-size=\"14.00\">uniprot_lineage_length &lt;= 23.0</text>\n",
       "<text text-anchor=\"middle\" x=\"237\" y=\"-185.8\" font-family=\"Helvetica,sans-Serif\" font-size=\"14.00\">samples = 100.0%</text>\n",
       "<text text-anchor=\"middle\" x=\"237\" y=\"-170.8\" font-family=\"Helvetica,sans-Serif\" font-size=\"14.00\">value = [0.977, 0.023]</text>\n",
       "</g>\n",
       "<!-- 1 -->\n",
       "<g id=\"node2\" class=\"node\">\n",
       "<title>1</title>\n",
       "<polygon fill=\"#88c4ef\" stroke=\"black\" points=\"237,-127 61,-127 61,-74 237,-74 237,-127\"/>\n",
       "<text text-anchor=\"middle\" x=\"149\" y=\"-111.8\" font-family=\"Helvetica,sans-Serif\" font-size=\"14.00\">min &lt;= 7.0</text>\n",
       "<text text-anchor=\"middle\" x=\"149\" y=\"-96.8\" font-family=\"Helvetica,sans-Serif\" font-size=\"14.00\">samples = 2.4%</text>\n",
       "<text text-anchor=\"middle\" x=\"149\" y=\"-81.8\" font-family=\"Helvetica,sans-Serif\" font-size=\"14.00\">value = [0.286, 0.714]</text>\n",
       "</g>\n",
       "<!-- 0&#45;&gt;1 -->\n",
       "<g id=\"edge1\" class=\"edge\">\n",
       "<title>0&#45;&gt;1</title>\n",
       "<path fill=\"none\" stroke=\"black\" d=\"M211.07,-162.87C202.02,-153.92 191.74,-143.75 182.18,-134.3\"/>\n",
       "<polygon fill=\"black\" stroke=\"black\" points=\"184.62,-131.79 175.05,-127.25 179.7,-136.77 184.62,-131.79\"/>\n",
       "<text text-anchor=\"middle\" x=\"175.19\" y=\"-148.55\" font-family=\"Helvetica,sans-Serif\" font-size=\"14.00\">True</text>\n",
       "</g>\n",
       "<!-- 4 -->\n",
       "<g id=\"node5\" class=\"node\">\n",
       "<title>4</title>\n",
       "<polygon fill=\"#e58139\" stroke=\"black\" points=\"395,-119.5 255,-119.5 255,-81.5 395,-81.5 395,-119.5\"/>\n",
       "<text text-anchor=\"middle\" x=\"325\" y=\"-104.3\" font-family=\"Helvetica,sans-Serif\" font-size=\"14.00\">samples = 97.6%</text>\n",
       "<text text-anchor=\"middle\" x=\"325\" y=\"-89.3\" font-family=\"Helvetica,sans-Serif\" font-size=\"14.00\">value = [1.0, 0.0]</text>\n",
       "</g>\n",
       "<!-- 0&#45;&gt;4 -->\n",
       "<g id=\"edge4\" class=\"edge\">\n",
       "<title>0&#45;&gt;4</title>\n",
       "<path fill=\"none\" stroke=\"black\" d=\"M262.93,-162.87C274.49,-151.44 288.07,-138.01 299.57,-126.64\"/>\n",
       "<polygon fill=\"black\" stroke=\"black\" points=\"302.14,-129.03 306.79,-119.51 297.21,-124.05 302.14,-129.03\"/>\n",
       "<text text-anchor=\"middle\" x=\"306.64\" y=\"-140.81\" font-family=\"Helvetica,sans-Serif\" font-size=\"14.00\">False</text>\n",
       "</g>\n",
       "<!-- 2 -->\n",
       "<g id=\"node3\" class=\"node\">\n",
       "<title>2</title>\n",
       "<polygon fill=\"#e58139\" stroke=\"black\" points=\"140,-38 0,-38 0,0 140,0 140,-38\"/>\n",
       "<text text-anchor=\"middle\" x=\"70\" y=\"-22.8\" font-family=\"Helvetica,sans-Serif\" font-size=\"14.00\">samples = 0.8%</text>\n",
       "<text text-anchor=\"middle\" x=\"70\" y=\"-7.8\" font-family=\"Helvetica,sans-Serif\" font-size=\"14.00\">value = [1.0, 0.0]</text>\n",
       "</g>\n",
       "<!-- 1&#45;&gt;2 -->\n",
       "<g id=\"edge2\" class=\"edge\">\n",
       "<title>1&#45;&gt;2</title>\n",
       "<path fill=\"none\" stroke=\"black\" d=\"M123.57,-73.91C114.55,-64.83 104.4,-54.62 95.38,-45.54\"/>\n",
       "<polygon fill=\"black\" stroke=\"black\" points=\"97.66,-42.87 88.12,-38.24 92.69,-47.8 97.66,-42.87\"/>\n",
       "</g>\n",
       "<!-- 3 -->\n",
       "<g id=\"node4\" class=\"node\">\n",
       "<title>3</title>\n",
       "<polygon fill=\"#399de5\" stroke=\"black\" points=\"298,-38 158,-38 158,0 298,0 298,-38\"/>\n",
       "<text text-anchor=\"middle\" x=\"228\" y=\"-22.8\" font-family=\"Helvetica,sans-Serif\" font-size=\"14.00\">samples = 1.6%</text>\n",
       "<text text-anchor=\"middle\" x=\"228\" y=\"-7.8\" font-family=\"Helvetica,sans-Serif\" font-size=\"14.00\">value = [0.0, 1.0]</text>\n",
       "</g>\n",
       "<!-- 1&#45;&gt;3 -->\n",
       "<g id=\"edge3\" class=\"edge\">\n",
       "<title>1&#45;&gt;3</title>\n",
       "<path fill=\"none\" stroke=\"black\" d=\"M174.43,-73.91C183.45,-64.83 193.6,-54.62 202.62,-45.54\"/>\n",
       "<polygon fill=\"black\" stroke=\"black\" points=\"205.31,-47.8 209.88,-38.24 200.34,-42.87 205.31,-47.8\"/>\n",
       "</g>\n",
       "</g>\n",
       "</svg>\n"
      ],
      "text/plain": [
       "<graphviz.sources.Source at 0x7f51e9a9b680>"
      ]
     },
     "metadata": {},
     "output_type": "display_data"
    },
    {
     "data": {
      "image/svg+xml": [
       "<?xml version=\"1.0\" encoding=\"UTF-8\" standalone=\"no\"?>\n",
       "<!DOCTYPE svg PUBLIC \"-//W3C//DTD SVG 1.1//EN\"\n",
       " \"http://www.w3.org/Graphics/SVG/1.1/DTD/svg11.dtd\">\n",
       "<!-- Generated by graphviz version 2.50.0 (0)\n",
       " -->\n",
       "<!-- Title: Tree Pages: 1 -->\n",
       "<svg width=\"157pt\" height=\"46pt\"\n",
       " viewBox=\"0.00 0.00 157.00 46.00\" xmlns=\"http://www.w3.org/2000/svg\" xmlns:xlink=\"http://www.w3.org/1999/xlink\">\n",
       "<g id=\"graph0\" class=\"graph\" transform=\"scale(1 1) rotate(0) translate(4 42)\">\n",
       "<title>Tree</title>\n",
       "<polygon fill=\"white\" stroke=\"transparent\" points=\"-4,4 -4,-42 153,-42 153,4 -4,4\"/>\n",
       "<!-- 0 -->\n",
       "<g id=\"node1\" class=\"node\">\n",
       "<title>0</title>\n",
       "<polygon fill=\"#e58139\" stroke=\"black\" points=\"149,-38 0,-38 0,0 149,0 149,-38\"/>\n",
       "<text text-anchor=\"middle\" x=\"74.5\" y=\"-22.8\" font-family=\"Helvetica,sans-Serif\" font-size=\"14.00\">samples = 100.0%</text>\n",
       "<text text-anchor=\"middle\" x=\"74.5\" y=\"-7.8\" font-family=\"Helvetica,sans-Serif\" font-size=\"14.00\">value = [1.0, 0.0]</text>\n",
       "</g>\n",
       "</g>\n",
       "</svg>\n"
      ],
      "text/plain": [
       "<graphviz.sources.Source at 0x7f51e9ab4710>"
      ]
     },
     "metadata": {},
     "output_type": "display_data"
    }
   ],
   "source": [
    "# Export the first three decision trees from the forest\n",
    "\n",
    "for i in range(3):\n",
    "    tree = rf.estimators_[i]\n",
    "    dot_data = export_graphviz(tree,\n",
    "                               feature_names=X_train.columns,  \n",
    "                               filled=True,  \n",
    "                               max_depth=2, \n",
    "                               impurity=False, \n",
    "                               proportion=True)\n",
    "    graph = graphviz.Source(dot_data)\n",
    "    display(graph)"
   ]
  },
  {
   "cell_type": "code",
   "execution_count": 23,
   "metadata": {},
   "outputs": [
    {
     "name": "stderr",
     "output_type": "stream",
     "text": [
      "/home/bjechow/anaconda3/envs/ranforest/lib/python3.12/site-packages/sklearn/model_selection/_split.py:725: UserWarning: The least populated class in y has only 2 members, which is less than n_splits=5.\n",
      "  warnings.warn(\n"
     ]
    },
    {
     "data": {
      "text/html": [
       "<style>#sk-container-id-2 {color: black;}#sk-container-id-2 pre{padding: 0;}#sk-container-id-2 div.sk-toggleable {background-color: white;}#sk-container-id-2 label.sk-toggleable__label {cursor: pointer;display: block;width: 100%;margin-bottom: 0;padding: 0.3em;box-sizing: border-box;text-align: center;}#sk-container-id-2 label.sk-toggleable__label-arrow:before {content: \"▸\";float: left;margin-right: 0.25em;color: #696969;}#sk-container-id-2 label.sk-toggleable__label-arrow:hover:before {color: black;}#sk-container-id-2 div.sk-estimator:hover label.sk-toggleable__label-arrow:before {color: black;}#sk-container-id-2 div.sk-toggleable__content {max-height: 0;max-width: 0;overflow: hidden;text-align: left;background-color: #f0f8ff;}#sk-container-id-2 div.sk-toggleable__content pre {margin: 0.2em;color: black;border-radius: 0.25em;background-color: #f0f8ff;}#sk-container-id-2 input.sk-toggleable__control:checked~div.sk-toggleable__content {max-height: 200px;max-width: 100%;overflow: auto;}#sk-container-id-2 input.sk-toggleable__control:checked~label.sk-toggleable__label-arrow:before {content: \"▾\";}#sk-container-id-2 div.sk-estimator input.sk-toggleable__control:checked~label.sk-toggleable__label {background-color: #d4ebff;}#sk-container-id-2 div.sk-label input.sk-toggleable__control:checked~label.sk-toggleable__label {background-color: #d4ebff;}#sk-container-id-2 input.sk-hidden--visually {border: 0;clip: rect(1px 1px 1px 1px);clip: rect(1px, 1px, 1px, 1px);height: 1px;margin: -1px;overflow: hidden;padding: 0;position: absolute;width: 1px;}#sk-container-id-2 div.sk-estimator {font-family: monospace;background-color: #f0f8ff;border: 1px dotted black;border-radius: 0.25em;box-sizing: border-box;margin-bottom: 0.5em;}#sk-container-id-2 div.sk-estimator:hover {background-color: #d4ebff;}#sk-container-id-2 div.sk-parallel-item::after {content: \"\";width: 100%;border-bottom: 1px solid gray;flex-grow: 1;}#sk-container-id-2 div.sk-label:hover label.sk-toggleable__label {background-color: #d4ebff;}#sk-container-id-2 div.sk-serial::before {content: \"\";position: absolute;border-left: 1px solid gray;box-sizing: border-box;top: 0;bottom: 0;left: 50%;z-index: 0;}#sk-container-id-2 div.sk-serial {display: flex;flex-direction: column;align-items: center;background-color: white;padding-right: 0.2em;padding-left: 0.2em;position: relative;}#sk-container-id-2 div.sk-item {position: relative;z-index: 1;}#sk-container-id-2 div.sk-parallel {display: flex;align-items: stretch;justify-content: center;background-color: white;position: relative;}#sk-container-id-2 div.sk-item::before, #sk-container-id-2 div.sk-parallel-item::before {content: \"\";position: absolute;border-left: 1px solid gray;box-sizing: border-box;top: 0;bottom: 0;left: 50%;z-index: -1;}#sk-container-id-2 div.sk-parallel-item {display: flex;flex-direction: column;z-index: 1;position: relative;background-color: white;}#sk-container-id-2 div.sk-parallel-item:first-child::after {align-self: flex-end;width: 50%;}#sk-container-id-2 div.sk-parallel-item:last-child::after {align-self: flex-start;width: 50%;}#sk-container-id-2 div.sk-parallel-item:only-child::after {width: 0;}#sk-container-id-2 div.sk-dashed-wrapped {border: 1px dashed gray;margin: 0 0.4em 0.5em 0.4em;box-sizing: border-box;padding-bottom: 0.4em;background-color: white;}#sk-container-id-2 div.sk-label label {font-family: monospace;font-weight: bold;display: inline-block;line-height: 1.2em;}#sk-container-id-2 div.sk-label-container {text-align: center;}#sk-container-id-2 div.sk-container {/* jupyter's `normalize.less` sets `[hidden] { display: none; }` but bootstrap.min.css set `[hidden] { display: none !important; }` so we also need the `!important` here to be able to override the default hidden behavior on the sphinx rendered scikit-learn.org. See: https://github.com/scikit-learn/scikit-learn/issues/21755 */display: inline-block !important;position: relative;}#sk-container-id-2 div.sk-text-repr-fallback {display: none;}</style><div id=\"sk-container-id-2\" class=\"sk-top-container\"><div class=\"sk-text-repr-fallback\"><pre>RandomizedSearchCV(cv=5, estimator=RandomForestClassifier(), n_iter=5,\n",
       "                   param_distributions={&#x27;max_depth&#x27;: &lt;scipy.stats._distn_infrastructure.rv_discrete_frozen object at 0x7f51e98f66c0&gt;,\n",
       "                                        &#x27;n_estimators&#x27;: &lt;scipy.stats._distn_infrastructure.rv_discrete_frozen object at 0x7f51e98f20f0&gt;})</pre><b>In a Jupyter environment, please rerun this cell to show the HTML representation or trust the notebook. <br />On GitHub, the HTML representation is unable to render, please try loading this page with nbviewer.org.</b></div><div class=\"sk-container\" hidden><div class=\"sk-item sk-dashed-wrapped\"><div class=\"sk-label-container\"><div class=\"sk-label sk-toggleable\"><input class=\"sk-toggleable__control sk-hidden--visually\" id=\"sk-estimator-id-2\" type=\"checkbox\" ><label for=\"sk-estimator-id-2\" class=\"sk-toggleable__label sk-toggleable__label-arrow\">RandomizedSearchCV</label><div class=\"sk-toggleable__content\"><pre>RandomizedSearchCV(cv=5, estimator=RandomForestClassifier(), n_iter=5,\n",
       "                   param_distributions={&#x27;max_depth&#x27;: &lt;scipy.stats._distn_infrastructure.rv_discrete_frozen object at 0x7f51e98f66c0&gt;,\n",
       "                                        &#x27;n_estimators&#x27;: &lt;scipy.stats._distn_infrastructure.rv_discrete_frozen object at 0x7f51e98f20f0&gt;})</pre></div></div></div><div class=\"sk-parallel\"><div class=\"sk-parallel-item\"><div class=\"sk-item\"><div class=\"sk-label-container\"><div class=\"sk-label sk-toggleable\"><input class=\"sk-toggleable__control sk-hidden--visually\" id=\"sk-estimator-id-3\" type=\"checkbox\" ><label for=\"sk-estimator-id-3\" class=\"sk-toggleable__label sk-toggleable__label-arrow\">estimator: RandomForestClassifier</label><div class=\"sk-toggleable__content\"><pre>RandomForestClassifier()</pre></div></div></div><div class=\"sk-serial\"><div class=\"sk-item\"><div class=\"sk-estimator sk-toggleable\"><input class=\"sk-toggleable__control sk-hidden--visually\" id=\"sk-estimator-id-4\" type=\"checkbox\" ><label for=\"sk-estimator-id-4\" class=\"sk-toggleable__label sk-toggleable__label-arrow\">RandomForestClassifier</label><div class=\"sk-toggleable__content\"><pre>RandomForestClassifier()</pre></div></div></div></div></div></div></div></div></div></div>"
      ],
      "text/plain": [
       "RandomizedSearchCV(cv=5, estimator=RandomForestClassifier(), n_iter=5,\n",
       "                   param_distributions={'max_depth': <scipy.stats._distn_infrastructure.rv_discrete_frozen object at 0x7f51e98f66c0>,\n",
       "                                        'n_estimators': <scipy.stats._distn_infrastructure.rv_discrete_frozen object at 0x7f51e98f20f0>})"
      ]
     },
     "execution_count": 23,
     "metadata": {},
     "output_type": "execute_result"
    }
   ],
   "source": [
    "param_dist = {'n_estimators': randint(50,500),\n",
    "              'max_depth': randint(1,20)}\n",
    "\n",
    "# Create a random forest classifier\n",
    "rf = RandomForestClassifier()\n",
    "\n",
    "# Use random search to find the best hyperparameters\n",
    "rand_search = RandomizedSearchCV(rf, \n",
    "                                 param_distributions = param_dist, \n",
    "                                 n_iter=5, \n",
    "                                 cv=5)\n",
    "\n",
    "# Fit the random search object to the data\n",
    "rand_search.fit(X_train, Y_train)"
   ]
  },
  {
   "cell_type": "code",
   "execution_count": 24,
   "metadata": {},
   "outputs": [
    {
     "name": "stdout",
     "output_type": "stream",
     "text": [
      "Best hyperparameters: {'max_depth': 3, 'n_estimators': 289}\n"
     ]
    }
   ],
   "source": [
    "# Create a variable for the best model\n",
    "best_rf = rand_search.best_estimator_\n",
    "\n",
    "# Print the best hyperparameters\n",
    "print('Best hyperparameters:',  rand_search.best_params_)"
   ]
  },
  {
   "cell_type": "code",
   "execution_count": 25,
   "metadata": {},
   "outputs": [
    {
     "data": {
      "image/png": "[encoded data removed]",
      "text/plain": [
       "<Figure size 640x480 with 2 Axes>"
      ]
     },
     "metadata": {},
     "output_type": "display_data"
    }
   ],
   "source": [
    "# Generate predictions with the best model\n",
    "y_pred = best_rf.predict(X_test)\n",
    "\n",
    "# Create the confusion matrix\n",
    "cm = confusion_matrix(Y_test, Y_pred)\n",
    "\n",
    "ConfusionMatrixDisplay(confusion_matrix=cm).plot();"
   ]
  },
  {
   "cell_type": "code",
   "execution_count": 26,
   "metadata": {},
   "outputs": [
    {
     "name": "stdout",
     "output_type": "stream",
     "text": [
      "Accuracy: 0.9636363636363636\n",
      "Precision: 0.0\n",
      "Recall: 0.0\n"
     ]
    },
    {
     "name": "stderr",
     "output_type": "stream",
     "text": [
      "/home/bjechow/anaconda3/envs/ranforest/lib/python3.12/site-packages/sklearn/metrics/_classification.py:1469: UndefinedMetricWarning: Precision is ill-defined and being set to 0.0 due to no predicted samples. Use `zero_division` parameter to control this behavior.\n",
      "  _warn_prf(average, modifier, msg_start, len(result))\n"
     ]
    }
   ],
   "source": [
    "accuracy = accuracy_score(Y_test, y_pred)\n",
    "precision = precision_score(Y_test, y_pred)\n",
    "recall = recall_score(Y_test, y_pred)\n",
    "\n",
    "print(\"Accuracy:\", accuracy)\n",
    "print(\"Precision:\", precision)\n",
    "print(\"Recall:\", recall)"
   ]
  },
  {
   "cell_type": "code",
   "execution_count": 27,
   "metadata": {},
   "outputs": [
    {
     "data": {
      "image/png": "[encoded data removed]",
      "text/plain": [
       "<Figure size 640x480 with 1 Axes>"
      ]
     },
     "metadata": {},
     "output_type": "display_data"
    }
   ],
   "source": [
    "# Create a series containing feature importances from the model and feature names from the training data\n",
    "feature_importances = pd.Series(best_rf.feature_importances_, index=X_train.columns).sort_values(ascending=False)\n",
    "\n",
    "# Plot a simple bar chart\n",
    "f = sns.barplot(x=feature_importances, y=feature_importances.index)\n",
    "f.set_title('Feature Importance for Conformation')\n",
    "f.set_xlabel('Importance')\n",
    "f.set_ylabel('Feature')\n",
    "\n",
    "plt.savefig('./project_pipeline/data/figures/closed_cf_pdb_conformation_feature_importance.png')"
   ]
  },
  {
   "cell_type": "code",
   "execution_count": 28,
   "metadata": {},
   "outputs": [],
   "source": [
    "# Split the data into features and target\n",
    "Xi = imae.drop('IMAE', axis=1)\n",
    "Yi = imae['IMAE']\n",
    "\n",
    "# Split the data into training and test sets\n",
    "Xi_train, Xi_test, Yi_train, Yi_test = train_test_split(Xi, Yi, test_size=0.2, random_state=42)"
   ]
  },
  {
   "cell_type": "code",
   "execution_count": 29,
   "metadata": {},
   "outputs": [
    {
     "data": {
      "text/html": [
       "<style>#sk-container-id-3 {color: black;}#sk-container-id-3 pre{padding: 0;}#sk-container-id-3 div.sk-toggleable {background-color: white;}#sk-container-id-3 label.sk-toggleable__label {cursor: pointer;display: block;width: 100%;margin-bottom: 0;padding: 0.3em;box-sizing: border-box;text-align: center;}#sk-container-id-3 label.sk-toggleable__label-arrow:before {content: \"▸\";float: left;margin-right: 0.25em;color: #696969;}#sk-container-id-3 label.sk-toggleable__label-arrow:hover:before {color: black;}#sk-container-id-3 div.sk-estimator:hover label.sk-toggleable__label-arrow:before {color: black;}#sk-container-id-3 div.sk-toggleable__content {max-height: 0;max-width: 0;overflow: hidden;text-align: left;background-color: #f0f8ff;}#sk-container-id-3 div.sk-toggleable__content pre {margin: 0.2em;color: black;border-radius: 0.25em;background-color: #f0f8ff;}#sk-container-id-3 input.sk-toggleable__control:checked~div.sk-toggleable__content {max-height: 200px;max-width: 100%;overflow: auto;}#sk-container-id-3 input.sk-toggleable__control:checked~label.sk-toggleable__label-arrow:before {content: \"▾\";}#sk-container-id-3 div.sk-estimator input.sk-toggleable__control:checked~label.sk-toggleable__label {background-color: #d4ebff;}#sk-container-id-3 div.sk-label input.sk-toggleable__control:checked~label.sk-toggleable__label {background-color: #d4ebff;}#sk-container-id-3 input.sk-hidden--visually {border: 0;clip: rect(1px 1px 1px 1px);clip: rect(1px, 1px, 1px, 1px);height: 1px;margin: -1px;overflow: hidden;padding: 0;position: absolute;width: 1px;}#sk-container-id-3 div.sk-estimator {font-family: monospace;background-color: #f0f8ff;border: 1px dotted black;border-radius: 0.25em;box-sizing: border-box;margin-bottom: 0.5em;}#sk-container-id-3 div.sk-estimator:hover {background-color: #d4ebff;}#sk-container-id-3 div.sk-parallel-item::after {content: \"\";width: 100%;border-bottom: 1px solid gray;flex-grow: 1;}#sk-container-id-3 div.sk-label:hover label.sk-toggleable__label {background-color: #d4ebff;}#sk-container-id-3 div.sk-serial::before {content: \"\";position: absolute;border-left: 1px solid gray;box-sizing: border-box;top: 0;bottom: 0;left: 50%;z-index: 0;}#sk-container-id-3 div.sk-serial {display: flex;flex-direction: column;align-items: center;background-color: white;padding-right: 0.2em;padding-left: 0.2em;position: relative;}#sk-container-id-3 div.sk-item {position: relative;z-index: 1;}#sk-container-id-3 div.sk-parallel {display: flex;align-items: stretch;justify-content: center;background-color: white;position: relative;}#sk-container-id-3 div.sk-item::before, #sk-container-id-3 div.sk-parallel-item::before {content: \"\";position: absolute;border-left: 1px solid gray;box-sizing: border-box;top: 0;bottom: 0;left: 50%;z-index: -1;}#sk-container-id-3 div.sk-parallel-item {display: flex;flex-direction: column;z-index: 1;position: relative;background-color: white;}#sk-container-id-3 div.sk-parallel-item:first-child::after {align-self: flex-end;width: 50%;}#sk-container-id-3 div.sk-parallel-item:last-child::after {align-self: flex-start;width: 50%;}#sk-container-id-3 div.sk-parallel-item:only-child::after {width: 0;}#sk-container-id-3 div.sk-dashed-wrapped {border: 1px dashed gray;margin: 0 0.4em 0.5em 0.4em;box-sizing: border-box;padding-bottom: 0.4em;background-color: white;}#sk-container-id-3 div.sk-label label {font-family: monospace;font-weight: bold;display: inline-block;line-height: 1.2em;}#sk-container-id-3 div.sk-label-container {text-align: center;}#sk-container-id-3 div.sk-container {/* jupyter's `normalize.less` sets `[hidden] { display: none; }` but bootstrap.min.css set `[hidden] { display: none !important; }` so we also need the `!important` here to be able to override the default hidden behavior on the sphinx rendered scikit-learn.org. See: https://github.com/scikit-learn/scikit-learn/issues/21755 */display: inline-block !important;position: relative;}#sk-container-id-3 div.sk-text-repr-fallback {display: none;}</style><div id=\"sk-container-id-3\" class=\"sk-top-container\"><div class=\"sk-text-repr-fallback\"><pre>RandomForestRegressor()</pre><b>In a Jupyter environment, please rerun this cell to show the HTML representation or trust the notebook. <br />On GitHub, the HTML representation is unable to render, please try loading this page with nbviewer.org.</b></div><div class=\"sk-container\" hidden><div class=\"sk-item\"><div class=\"sk-estimator sk-toggleable\"><input class=\"sk-toggleable__control sk-hidden--visually\" id=\"sk-estimator-id-5\" type=\"checkbox\" checked><label for=\"sk-estimator-id-5\" class=\"sk-toggleable__label sk-toggleable__label-arrow\">RandomForestRegressor</label><div class=\"sk-toggleable__content\"><pre>RandomForestRegressor()</pre></div></div></div></div></div>"
      ],
      "text/plain": [
       "RandomForestRegressor()"
      ]
     },
     "execution_count": 29,
     "metadata": {},
     "output_type": "execute_result"
    }
   ],
   "source": [
    "rf = RandomForestRegressor()\n",
    "rf.fit(Xi_train, Yi_train)"
   ]
  },
  {
   "cell_type": "code",
   "execution_count": 30,
   "metadata": {},
   "outputs": [
    {
     "data": {
      "text/html": [
       "<style>#sk-container-id-4 {color: black;}#sk-container-id-4 pre{padding: 0;}#sk-container-id-4 div.sk-toggleable {background-color: white;}#sk-container-id-4 label.sk-toggleable__label {cursor: pointer;display: block;width: 100%;margin-bottom: 0;padding: 0.3em;box-sizing: border-box;text-align: center;}#sk-container-id-4 label.sk-toggleable__label-arrow:before {content: \"▸\";float: left;margin-right: 0.25em;color: #696969;}#sk-container-id-4 label.sk-toggleable__label-arrow:hover:before {color: black;}#sk-container-id-4 div.sk-estimator:hover label.sk-toggleable__label-arrow:before {color: black;}#sk-container-id-4 div.sk-toggleable__content {max-height: 0;max-width: 0;overflow: hidden;text-align: left;background-color: #f0f8ff;}#sk-container-id-4 div.sk-toggleable__content pre {margin: 0.2em;color: black;border-radius: 0.25em;background-color: #f0f8ff;}#sk-container-id-4 input.sk-toggleable__control:checked~div.sk-toggleable__content {max-height: 200px;max-width: 100%;overflow: auto;}#sk-container-id-4 input.sk-toggleable__control:checked~label.sk-toggleable__label-arrow:before {content: \"▾\";}#sk-container-id-4 div.sk-estimator input.sk-toggleable__control:checked~label.sk-toggleable__label {background-color: #d4ebff;}#sk-container-id-4 div.sk-label input.sk-toggleable__control:checked~label.sk-toggleable__label {background-color: #d4ebff;}#sk-container-id-4 input.sk-hidden--visually {border: 0;clip: rect(1px 1px 1px 1px);clip: rect(1px, 1px, 1px, 1px);height: 1px;margin: -1px;overflow: hidden;padding: 0;position: absolute;width: 1px;}#sk-container-id-4 div.sk-estimator {font-family: monospace;background-color: #f0f8ff;border: 1px dotted black;border-radius: 0.25em;box-sizing: border-box;margin-bottom: 0.5em;}#sk-container-id-4 div.sk-estimator:hover {background-color: #d4ebff;}#sk-container-id-4 div.sk-parallel-item::after {content: \"\";width: 100%;border-bottom: 1px solid gray;flex-grow: 1;}#sk-container-id-4 div.sk-label:hover label.sk-toggleable__label {background-color: #d4ebff;}#sk-container-id-4 div.sk-serial::before {content: \"\";position: absolute;border-left: 1px solid gray;box-sizing: border-box;top: 0;bottom: 0;left: 50%;z-index: 0;}#sk-container-id-4 div.sk-serial {display: flex;flex-direction: column;align-items: center;background-color: white;padding-right: 0.2em;padding-left: 0.2em;position: relative;}#sk-container-id-4 div.sk-item {position: relative;z-index: 1;}#sk-container-id-4 div.sk-parallel {display: flex;align-items: stretch;justify-content: center;background-color: white;position: relative;}#sk-container-id-4 div.sk-item::before, #sk-container-id-4 div.sk-parallel-item::before {content: \"\";position: absolute;border-left: 1px solid gray;box-sizing: border-box;top: 0;bottom: 0;left: 50%;z-index: -1;}#sk-container-id-4 div.sk-parallel-item {display: flex;flex-direction: column;z-index: 1;position: relative;background-color: white;}#sk-container-id-4 div.sk-parallel-item:first-child::after {align-self: flex-end;width: 50%;}#sk-container-id-4 div.sk-parallel-item:last-child::after {align-self: flex-start;width: 50%;}#sk-container-id-4 div.sk-parallel-item:only-child::after {width: 0;}#sk-container-id-4 div.sk-dashed-wrapped {border: 1px dashed gray;margin: 0 0.4em 0.5em 0.4em;box-sizing: border-box;padding-bottom: 0.4em;background-color: white;}#sk-container-id-4 div.sk-label label {font-family: monospace;font-weight: bold;display: inline-block;line-height: 1.2em;}#sk-container-id-4 div.sk-label-container {text-align: center;}#sk-container-id-4 div.sk-container {/* jupyter's `normalize.less` sets `[hidden] { display: none; }` but bootstrap.min.css set `[hidden] { display: none !important; }` so we also need the `!important` here to be able to override the default hidden behavior on the sphinx rendered scikit-learn.org. See: https://github.com/scikit-learn/scikit-learn/issues/21755 */display: inline-block !important;position: relative;}#sk-container-id-4 div.sk-text-repr-fallback {display: none;}</style><div id=\"sk-container-id-4\" class=\"sk-top-container\"><div class=\"sk-text-repr-fallback\"><pre>RandomizedSearchCV(cv=5, estimator=RandomForestRegressor(), n_iter=5,\n",
       "                   param_distributions={&#x27;max_depth&#x27;: &lt;scipy.stats._distn_infrastructure.rv_discrete_frozen object at 0x7f51e962a2a0&gt;,\n",
       "                                        &#x27;n_estimators&#x27;: &lt;scipy.stats._distn_infrastructure.rv_discrete_frozen object at 0x7f51e8d9d010&gt;})</pre><b>In a Jupyter environment, please rerun this cell to show the HTML representation or trust the notebook. <br />On GitHub, the HTML representation is unable to render, please try loading this page with nbviewer.org.</b></div><div class=\"sk-container\" hidden><div class=\"sk-item sk-dashed-wrapped\"><div class=\"sk-label-container\"><div class=\"sk-label sk-toggleable\"><input class=\"sk-toggleable__control sk-hidden--visually\" id=\"sk-estimator-id-6\" type=\"checkbox\" ><label for=\"sk-estimator-id-6\" class=\"sk-toggleable__label sk-toggleable__label-arrow\">RandomizedSearchCV</label><div class=\"sk-toggleable__content\"><pre>RandomizedSearchCV(cv=5, estimator=RandomForestRegressor(), n_iter=5,\n",
       "                   param_distributions={&#x27;max_depth&#x27;: &lt;scipy.stats._distn_infrastructure.rv_discrete_frozen object at 0x7f51e962a2a0&gt;,\n",
       "                                        &#x27;n_estimators&#x27;: &lt;scipy.stats._distn_infrastructure.rv_discrete_frozen object at 0x7f51e8d9d010&gt;})</pre></div></div></div><div class=\"sk-parallel\"><div class=\"sk-parallel-item\"><div class=\"sk-item\"><div class=\"sk-label-container\"><div class=\"sk-label sk-toggleable\"><input class=\"sk-toggleable__control sk-hidden--visually\" id=\"sk-estimator-id-7\" type=\"checkbox\" ><label for=\"sk-estimator-id-7\" class=\"sk-toggleable__label sk-toggleable__label-arrow\">estimator: RandomForestRegressor</label><div class=\"sk-toggleable__content\"><pre>RandomForestRegressor()</pre></div></div></div><div class=\"sk-serial\"><div class=\"sk-item\"><div class=\"sk-estimator sk-toggleable\"><input class=\"sk-toggleable__control sk-hidden--visually\" id=\"sk-estimator-id-8\" type=\"checkbox\" ><label for=\"sk-estimator-id-8\" class=\"sk-toggleable__label sk-toggleable__label-arrow\">RandomForestRegressor</label><div class=\"sk-toggleable__content\"><pre>RandomForestRegressor()</pre></div></div></div></div></div></div></div></div></div></div>"
      ],
      "text/plain": [
       "RandomizedSearchCV(cv=5, estimator=RandomForestRegressor(), n_iter=5,\n",
       "                   param_distributions={'max_depth': <scipy.stats._distn_infrastructure.rv_discrete_frozen object at 0x7f51e962a2a0>,\n",
       "                                        'n_estimators': <scipy.stats._distn_infrastructure.rv_discrete_frozen object at 0x7f51e8d9d010>})"
      ]
     },
     "execution_count": 30,
     "metadata": {},
     "output_type": "execute_result"
    }
   ],
   "source": [
    "param_dist = {'n_estimators': randint(50,500),\n",
    "              'max_depth': randint(1,20)}\n",
    "\n",
    "# Create a random forest classifier\n",
    "rf = RandomForestRegressor()\n",
    "\n",
    "# Use random search to find the best hyperparameters\n",
    "rand_searchi = RandomizedSearchCV(rf, \n",
    "                                 param_distributions = param_dist, \n",
    "                                 n_iter=5, \n",
    "                                 cv=5)\n",
    "\n",
    "# Fit the random search object to the data\n",
    "rand_searchi.fit(Xi_train, Yi_train)"
   ]
  },
  {
   "cell_type": "code",
   "execution_count": 31,
   "metadata": {},
   "outputs": [
    {
     "name": "stdout",
     "output_type": "stream",
     "text": [
      "Best hyperparameters: {'max_depth': 9, 'n_estimators': 404}\n"
     ]
    }
   ],
   "source": [
    "# Create a variable for the best model\n",
    "best_rfi = rand_searchi.best_estimator_\n",
    "\n",
    "# Print the best hyperparameters\n",
    "print('Best hyperparameters:',  rand_searchi.best_params_)"
   ]
  },
  {
   "cell_type": "code",
   "execution_count": 32,
   "metadata": {},
   "outputs": [
    {
     "data": {
      "image/png": "[encoded data removed]",
      "text/plain": [
       "<Figure size 640x480 with 1 Axes>"
      ]
     },
     "metadata": {},
     "output_type": "display_data"
    }
   ],
   "source": [
    "# Create a series containing feature importances from the model and feature names from the training data\n",
    "feature_importancesi = pd.Series(best_rfi.feature_importances_, index=Xi_train.columns).sort_values(ascending=False)\n",
    "\n",
    "# Plot a simple bar chart\n",
    "f = sns.barplot(x=feature_importancesi, y=feature_importancesi.index)\n",
    "f.set_title('Feature Importance for Inhibitory Module Alignment Error (IMAE)')\n",
    "f.set_xlabel('Importance')\n",
    "f.set_ylabel('Feature')\n",
    "\n",
    "plt.savefig('./project_pipeline/data/figures/closed_cf_pdb_imae_feature_importance.png')"
   ]
  },
  {
   "cell_type": "code",
   "execution_count": 33,
   "metadata": {},
   "outputs": [],
   "source": [
    "# Split the data into features and target\n",
    "Xc = rmsd.drop('Complex RMSD', axis=1)\n",
    "Yc = rmsd['Complex RMSD']\n",
    "\n",
    "# Split the data into training and test sets\n",
    "Xc_train, Xc_test, Yc_train, Yc_test = train_test_split(Xc, Yc, test_size=0.2, random_state=42)"
   ]
  },
  {
   "cell_type": "code",
   "execution_count": 34,
   "metadata": {},
   "outputs": [
    {
     "data": {
      "text/html": [
       "<style>#sk-container-id-5 {color: black;}#sk-container-id-5 pre{padding: 0;}#sk-container-id-5 div.sk-toggleable {background-color: white;}#sk-container-id-5 label.sk-toggleable__label {cursor: pointer;display: block;width: 100%;margin-bottom: 0;padding: 0.3em;box-sizing: border-box;text-align: center;}#sk-container-id-5 label.sk-toggleable__label-arrow:before {content: \"▸\";float: left;margin-right: 0.25em;color: #696969;}#sk-container-id-5 label.sk-toggleable__label-arrow:hover:before {color: black;}#sk-container-id-5 div.sk-estimator:hover label.sk-toggleable__label-arrow:before {color: black;}#sk-container-id-5 div.sk-toggleable__content {max-height: 0;max-width: 0;overflow: hidden;text-align: left;background-color: #f0f8ff;}#sk-container-id-5 div.sk-toggleable__content pre {margin: 0.2em;color: black;border-radius: 0.25em;background-color: #f0f8ff;}#sk-container-id-5 input.sk-toggleable__control:checked~div.sk-toggleable__content {max-height: 200px;max-width: 100%;overflow: auto;}#sk-container-id-5 input.sk-toggleable__control:checked~label.sk-toggleable__label-arrow:before {content: \"▾\";}#sk-container-id-5 div.sk-estimator input.sk-toggleable__control:checked~label.sk-toggleable__label {background-color: #d4ebff;}#sk-container-id-5 div.sk-label input.sk-toggleable__control:checked~label.sk-toggleable__label {background-color: #d4ebff;}#sk-container-id-5 input.sk-hidden--visually {border: 0;clip: rect(1px 1px 1px 1px);clip: rect(1px, 1px, 1px, 1px);height: 1px;margin: -1px;overflow: hidden;padding: 0;position: absolute;width: 1px;}#sk-container-id-5 div.sk-estimator {font-family: monospace;background-color: #f0f8ff;border: 1px dotted black;border-radius: 0.25em;box-sizing: border-box;margin-bottom: 0.5em;}#sk-container-id-5 div.sk-estimator:hover {background-color: #d4ebff;}#sk-container-id-5 div.sk-parallel-item::after {content: \"\";width: 100%;border-bottom: 1px solid gray;flex-grow: 1;}#sk-container-id-5 div.sk-label:hover label.sk-toggleable__label {background-color: #d4ebff;}#sk-container-id-5 div.sk-serial::before {content: \"\";position: absolute;border-left: 1px solid gray;box-sizing: border-box;top: 0;bottom: 0;left: 50%;z-index: 0;}#sk-container-id-5 div.sk-serial {display: flex;flex-direction: column;align-items: center;background-color: white;padding-right: 0.2em;padding-left: 0.2em;position: relative;}#sk-container-id-5 div.sk-item {position: relative;z-index: 1;}#sk-container-id-5 div.sk-parallel {display: flex;align-items: stretch;justify-content: center;background-color: white;position: relative;}#sk-container-id-5 div.sk-item::before, #sk-container-id-5 div.sk-parallel-item::before {content: \"\";position: absolute;border-left: 1px solid gray;box-sizing: border-box;top: 0;bottom: 0;left: 50%;z-index: -1;}#sk-container-id-5 div.sk-parallel-item {display: flex;flex-direction: column;z-index: 1;position: relative;background-color: white;}#sk-container-id-5 div.sk-parallel-item:first-child::after {align-self: flex-end;width: 50%;}#sk-container-id-5 div.sk-parallel-item:last-child::after {align-self: flex-start;width: 50%;}#sk-container-id-5 div.sk-parallel-item:only-child::after {width: 0;}#sk-container-id-5 div.sk-dashed-wrapped {border: 1px dashed gray;margin: 0 0.4em 0.5em 0.4em;box-sizing: border-box;padding-bottom: 0.4em;background-color: white;}#sk-container-id-5 div.sk-label label {font-family: monospace;font-weight: bold;display: inline-block;line-height: 1.2em;}#sk-container-id-5 div.sk-label-container {text-align: center;}#sk-container-id-5 div.sk-container {/* jupyter's `normalize.less` sets `[hidden] { display: none; }` but bootstrap.min.css set `[hidden] { display: none !important; }` so we also need the `!important` here to be able to override the default hidden behavior on the sphinx rendered scikit-learn.org. See: https://github.com/scikit-learn/scikit-learn/issues/21755 */display: inline-block !important;position: relative;}#sk-container-id-5 div.sk-text-repr-fallback {display: none;}</style><div id=\"sk-container-id-5\" class=\"sk-top-container\"><div class=\"sk-text-repr-fallback\"><pre>RandomForestRegressor()</pre><b>In a Jupyter environment, please rerun this cell to show the HTML representation or trust the notebook. <br />On GitHub, the HTML representation is unable to render, please try loading this page with nbviewer.org.</b></div><div class=\"sk-container\" hidden><div class=\"sk-item\"><div class=\"sk-estimator sk-toggleable\"><input class=\"sk-toggleable__control sk-hidden--visually\" id=\"sk-estimator-id-9\" type=\"checkbox\" checked><label for=\"sk-estimator-id-9\" class=\"sk-toggleable__label sk-toggleable__label-arrow\">RandomForestRegressor</label><div class=\"sk-toggleable__content\"><pre>RandomForestRegressor()</pre></div></div></div></div></div>"
      ],
      "text/plain": [
       "RandomForestRegressor()"
      ]
     },
     "execution_count": 34,
     "metadata": {},
     "output_type": "execute_result"
    }
   ],
   "source": [
    "rf = RandomForestRegressor()\n",
    "rf.fit(Xc_train, Yc_train)"
   ]
  },
  {
   "cell_type": "code",
   "execution_count": 35,
   "metadata": {},
   "outputs": [
    {
     "data": {
      "text/html": [
       "<style>#sk-container-id-6 {color: black;}#sk-container-id-6 pre{padding: 0;}#sk-container-id-6 div.sk-toggleable {background-color: white;}#sk-container-id-6 label.sk-toggleable__label {cursor: pointer;display: block;width: 100%;margin-bottom: 0;padding: 0.3em;box-sizing: border-box;text-align: center;}#sk-container-id-6 label.sk-toggleable__label-arrow:before {content: \"▸\";float: left;margin-right: 0.25em;color: #696969;}#sk-container-id-6 label.sk-toggleable__label-arrow:hover:before {color: black;}#sk-container-id-6 div.sk-estimator:hover label.sk-toggleable__label-arrow:before {color: black;}#sk-container-id-6 div.sk-toggleable__content {max-height: 0;max-width: 0;overflow: hidden;text-align: left;background-color: #f0f8ff;}#sk-container-id-6 div.sk-toggleable__content pre {margin: 0.2em;color: black;border-radius: 0.25em;background-color: #f0f8ff;}#sk-container-id-6 input.sk-toggleable__control:checked~div.sk-toggleable__content {max-height: 200px;max-width: 100%;overflow: auto;}#sk-container-id-6 input.sk-toggleable__control:checked~label.sk-toggleable__label-arrow:before {content: \"▾\";}#sk-container-id-6 div.sk-estimator input.sk-toggleable__control:checked~label.sk-toggleable__label {background-color: #d4ebff;}#sk-container-id-6 div.sk-label input.sk-toggleable__control:checked~label.sk-toggleable__label {background-color: #d4ebff;}#sk-container-id-6 input.sk-hidden--visually {border: 0;clip: rect(1px 1px 1px 1px);clip: rect(1px, 1px, 1px, 1px);height: 1px;margin: -1px;overflow: hidden;padding: 0;position: absolute;width: 1px;}#sk-container-id-6 div.sk-estimator {font-family: monospace;background-color: #f0f8ff;border: 1px dotted black;border-radius: 0.25em;box-sizing: border-box;margin-bottom: 0.5em;}#sk-container-id-6 div.sk-estimator:hover {background-color: #d4ebff;}#sk-container-id-6 div.sk-parallel-item::after {content: \"\";width: 100%;border-bottom: 1px solid gray;flex-grow: 1;}#sk-container-id-6 div.sk-label:hover label.sk-toggleable__label {background-color: #d4ebff;}#sk-container-id-6 div.sk-serial::before {content: \"\";position: absolute;border-left: 1px solid gray;box-sizing: border-box;top: 0;bottom: 0;left: 50%;z-index: 0;}#sk-container-id-6 div.sk-serial {display: flex;flex-direction: column;align-items: center;background-color: white;padding-right: 0.2em;padding-left: 0.2em;position: relative;}#sk-container-id-6 div.sk-item {position: relative;z-index: 1;}#sk-container-id-6 div.sk-parallel {display: flex;align-items: stretch;justify-content: center;background-color: white;position: relative;}#sk-container-id-6 div.sk-item::before, #sk-container-id-6 div.sk-parallel-item::before {content: \"\";position: absolute;border-left: 1px solid gray;box-sizing: border-box;top: 0;bottom: 0;left: 50%;z-index: -1;}#sk-container-id-6 div.sk-parallel-item {display: flex;flex-direction: column;z-index: 1;position: relative;background-color: white;}#sk-container-id-6 div.sk-parallel-item:first-child::after {align-self: flex-end;width: 50%;}#sk-container-id-6 div.sk-parallel-item:last-child::after {align-self: flex-start;width: 50%;}#sk-container-id-6 div.sk-parallel-item:only-child::after {width: 0;}#sk-container-id-6 div.sk-dashed-wrapped {border: 1px dashed gray;margin: 0 0.4em 0.5em 0.4em;box-sizing: border-box;padding-bottom: 0.4em;background-color: white;}#sk-container-id-6 div.sk-label label {font-family: monospace;font-weight: bold;display: inline-block;line-height: 1.2em;}#sk-container-id-6 div.sk-label-container {text-align: center;}#sk-container-id-6 div.sk-container {/* jupyter's `normalize.less` sets `[hidden] { display: none; }` but bootstrap.min.css set `[hidden] { display: none !important; }` so we also need the `!important` here to be able to override the default hidden behavior on the sphinx rendered scikit-learn.org. See: https://github.com/scikit-learn/scikit-learn/issues/21755 */display: inline-block !important;position: relative;}#sk-container-id-6 div.sk-text-repr-fallback {display: none;}</style><div id=\"sk-container-id-6\" class=\"sk-top-container\"><div class=\"sk-text-repr-fallback\"><pre>RandomizedSearchCV(cv=5, estimator=RandomForestRegressor(), n_iter=5,\n",
       "                   param_distributions={&#x27;max_depth&#x27;: &lt;scipy.stats._distn_infrastructure.rv_discrete_frozen object at 0x7f51e8e422a0&gt;,\n",
       "                                        &#x27;n_estimators&#x27;: &lt;scipy.stats._distn_infrastructure.rv_discrete_frozen object at 0x7f51e8e19880&gt;})</pre><b>In a Jupyter environment, please rerun this cell to show the HTML representation or trust the notebook. <br />On GitHub, the HTML representation is unable to render, please try loading this page with nbviewer.org.</b></div><div class=\"sk-container\" hidden><div class=\"sk-item sk-dashed-wrapped\"><div class=\"sk-label-container\"><div class=\"sk-label sk-toggleable\"><input class=\"sk-toggleable__control sk-hidden--visually\" id=\"sk-estimator-id-10\" type=\"checkbox\" ><label for=\"sk-estimator-id-10\" class=\"sk-toggleable__label sk-toggleable__label-arrow\">RandomizedSearchCV</label><div class=\"sk-toggleable__content\"><pre>RandomizedSearchCV(cv=5, estimator=RandomForestRegressor(), n_iter=5,\n",
       "                   param_distributions={&#x27;max_depth&#x27;: &lt;scipy.stats._distn_infrastructure.rv_discrete_frozen object at 0x7f51e8e422a0&gt;,\n",
       "                                        &#x27;n_estimators&#x27;: &lt;scipy.stats._distn_infrastructure.rv_discrete_frozen object at 0x7f51e8e19880&gt;})</pre></div></div></div><div class=\"sk-parallel\"><div class=\"sk-parallel-item\"><div class=\"sk-item\"><div class=\"sk-label-container\"><div class=\"sk-label sk-toggleable\"><input class=\"sk-toggleable__control sk-hidden--visually\" id=\"sk-estimator-id-11\" type=\"checkbox\" ><label for=\"sk-estimator-id-11\" class=\"sk-toggleable__label sk-toggleable__label-arrow\">estimator: RandomForestRegressor</label><div class=\"sk-toggleable__content\"><pre>RandomForestRegressor()</pre></div></div></div><div class=\"sk-serial\"><div class=\"sk-item\"><div class=\"sk-estimator sk-toggleable\"><input class=\"sk-toggleable__control sk-hidden--visually\" id=\"sk-estimator-id-12\" type=\"checkbox\" ><label for=\"sk-estimator-id-12\" class=\"sk-toggleable__label sk-toggleable__label-arrow\">RandomForestRegressor</label><div class=\"sk-toggleable__content\"><pre>RandomForestRegressor()</pre></div></div></div></div></div></div></div></div></div></div>"
      ],
      "text/plain": [
       "RandomizedSearchCV(cv=5, estimator=RandomForestRegressor(), n_iter=5,\n",
       "                   param_distributions={'max_depth': <scipy.stats._distn_infrastructure.rv_discrete_frozen object at 0x7f51e8e422a0>,\n",
       "                                        'n_estimators': <scipy.stats._distn_infrastructure.rv_discrete_frozen object at 0x7f51e8e19880>})"
      ]
     },
     "execution_count": 35,
     "metadata": {},
     "output_type": "execute_result"
    }
   ],
   "source": [
    "param_dist = {'n_estimators': randint(50,500),\n",
    "              'max_depth': randint(1,20)}\n",
    "\n",
    "# Create a random forest classifier\n",
    "rf = RandomForestRegressor()\n",
    "\n",
    "# Use random search to find the best hyperparameters\n",
    "rand_searchc = RandomizedSearchCV(rf, \n",
    "                                 param_distributions = param_dist, \n",
    "                                 n_iter=5, \n",
    "                                 cv=5)\n",
    "\n",
    "# Fit the random search object to the data\n",
    "rand_searchc.fit(Xc_train, Yc_train)"
   ]
  },
  {
   "cell_type": "code",
   "execution_count": 36,
   "metadata": {},
   "outputs": [
    {
     "name": "stdout",
     "output_type": "stream",
     "text": [
      "Best hyperparameters: {'max_depth': 4, 'n_estimators': 65}\n"
     ]
    }
   ],
   "source": [
    "# Create a variable for the best model\n",
    "best_rfc = rand_searchc.best_estimator_\n",
    "\n",
    "# Print the best hyperparameters\n",
    "print('Best hyperparameters:',  rand_searchc.best_params_)"
   ]
  },
  {
   "cell_type": "code",
   "execution_count": 37,
   "metadata": {},
   "outputs": [
    {
     "data": {
      "image/png": "[encoded data removed]",
      "text/plain": [
       "<Figure size 640x480 with 1 Axes>"
      ]
     },
     "metadata": {},
     "output_type": "display_data"
    }
   ],
   "source": [
    "# Create a series containing feature importances from the model and feature names from the training data\n",
    "feature_importancesc = pd.Series(best_rfc.feature_importances_, index=Xc_train.columns).sort_values(ascending=False)\n",
    "\n",
    "# Plot a simple bar chart\n",
    "f = sns.barplot(x=feature_importancesc, y=feature_importancesc.index)\n",
    "f.set_title('Feature Importance for Complex Alignment Error')\n",
    "f.set_xlabel('Importance')\n",
    "f.set_ylabel('Feature')\n",
    "\n",
    "plt.savefig('./project_pipeline/data/figures/closed_cf_pdb_complex_rmsd_feature_importance.png')"
   ]
  },
  {
   "cell_type": "code",
   "execution_count": 38,
   "metadata": {},
   "outputs": [
    {
     "name": "stdout",
     "output_type": "stream",
     "text": [
      "273\n"
     ]
    },
    {
     "data": {
      "image/png": "[encoded data removed]",
      "text/plain": [
       "<Figure size 500x500 with 1 Axes>"
      ]
     },
     "metadata": {},
     "output_type": "display_data"
    }
   ],
   "source": [
    "sns.lmplot(pre, x='uniprot_lineage_length', y='cf_conformation')\n",
    "print(len(pre))\n",
    "\n",
    "plt.savefig('./project_pipeline/data/figures/closed_cf_pdb_lineage_vs_conf.png')"
   ]
  }
 ],
 "metadata": {
  "kernelspec": {
   "display_name": "ranforest",
   "language": "python",
   "name": "python3"
  },
  "language_info": {
   "codemirror_mode": {
    "name": "ipython",
    "version": 3
   },
   "file_extension": ".py",
   "mimetype": "text/x-python",
   "name": "python",
   "nbconvert_exporter": "python",
   "pygments_lexer": "ipython3",
   "version": "3.12.2"
  }
 },
 "nbformat": 4,
 "nbformat_minor": 2
}
