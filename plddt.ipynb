{
 "cells": [
  {
   "cell_type": "markdown",
   "metadata": {},
   "source": [
    "A Jupyter notebook for analyzing the pLDDT statistics of the AlphaFold2 and ColabFold autoinhibitory and Two-Domain proteins."
   ]
  },
  {
   "cell_type": "code",
   "execution_count": 26,
   "metadata": {},
   "outputs": [],
   "source": [
    "import pandas as pd\n",
    "import seaborn as sns\n",
    "import matplotlib as mpl\n",
    "import matplotlib.pyplot as plt\n",
    "import scienceplots\n",
    "from scipy.stats import mannwhitneyu\n",
    "from statannotations.Annotator import Annotator"
   ]
  },
  {
   "cell_type": "code",
   "execution_count": 27,
   "metadata": {},
   "outputs": [],
   "source": [
    "'''\n",
    "Load dataframes\n",
    "'''\n",
    "\n",
    "afAuto = pd.read_csv('./project_pipeline/data/af_autoinhibited_pLDDT.tsv', sep='\\t').astype('object')\n",
    "afMulti = pd.read_csv('./project_pipeline/data/af_multi_domain_pLDDT.tsv', sep='\\t').astype('object')\n",
    "cfAuto = pd.read_csv('./project_pipeline/data/cf_autoinhibited_pLDDT.tsv', sep='\\t').astype('object')\n",
    "cfMulti = pd.read_csv('./project_pipeline/data/cf_multi_domain_pLDDT.tsv', sep='\\t').astype('object')\n",
    "\n",
    "# Set style\n",
    "plt.style.use('science')"
   ]
  },
  {
   "cell_type": "markdown",
   "metadata": {},
   "source": [
    "We pivot our dataframes in order to graph them"
   ]
  },
  {
   "cell_type": "code",
   "execution_count": 28,
   "metadata": {},
   "outputs": [],
   "source": [
    "# Functions to rename columns\n",
    "\n",
    "def rename_auto_columns(df):\n",
    "    df = df.rename(columns={'complex_mean_plddt': 'Autoinhibitory Protein Structure', 'r1_mean_plddt': 'Region 1', 'r2_mean_plddt': 'Region 2'})\n",
    "\n",
    "    return df\n",
    "\n",
    "def rename_multi_columns(df):\n",
    "    df = df.rename(columns={'complex_mean_plddt': 'Autoinhibitory Protein Structure', 'r1_mean_plddt': 'Region 1', 'r2_mean_plddt': 'Region 2'})\n",
    "\n",
    "    return df\n",
    "\n",
    "# Quick functions to melt dataframes\n",
    "def pivot_af_df(df):\n",
    "    df = df.melt(id_vars=['uniprot', 'region_1', 'region_2', 'filename'], var_name='section', value_name='mean_plddt')\n",
    "    df['mean_plddt'] = df['mean_plddt'].astype(float)\n",
    "\n",
    "    return df\n",
    "\n",
    "def pivot_cf_df(df):\n",
    "    df = df.melt(id_vars=['uniprot', 'cluster', 'region_1', 'region_2', 'filename'], var_name='section', value_name='mean_plddt')\n",
    "    df['mean_plddt'] = df['mean_plddt'].astype(float)\n",
    "\n",
    "    return df\n",
    "\n",
    "# Add signifier column\n",
    "def add_auto_type(df):\n",
    "    df['type'] = 'Autoinhibitory'\n",
    "\n",
    "    return df\n",
    "\n",
    "def add_multi_type(df):\n",
    "    df['type'] = 'Two-Domain'\n",
    "\n",
    "    return df"
   ]
  },
  {
   "cell_type": "code",
   "execution_count": 29,
   "metadata": {},
   "outputs": [],
   "source": [
    "# Rename columns\n",
    "af_auto = rename_auto_columns(afAuto)\n",
    "af_multi = rename_multi_columns(afMulti)\n",
    "cf_auto = rename_auto_columns(cfAuto)\n",
    "cf_multi = rename_multi_columns(cfMulti)\n",
    "\n",
    "# Pivot dataframes\n",
    "afAuto_p = pivot_af_df(af_auto)\n",
    "afMulti_p = pivot_af_df(af_multi)\n",
    "cfAuto_p = pivot_cf_df(cf_auto)\n",
    "cfMulti_p = pivot_cf_df(cf_multi)\n",
    "\n",
    "# Add type column\n",
    "afAuto_p = add_auto_type(afAuto_p)\n",
    "afMulti_p = add_multi_type(afMulti_p)\n",
    "cfAuto_p = add_auto_type(cfAuto_p)\n",
    "cfMulti_p = add_multi_type(cfMulti_p)\n",
    "\n",
    "# Concatenate dataframes\n",
    "af = pd.concat([afAuto_p, afMulti_p])\n",
    "cf = pd.concat([cfAuto_p, cfMulti_p])"
   ]
  },
  {
   "cell_type": "markdown",
   "metadata": {},
   "source": [
    "Now we chart them as boxplots"
   ]
  },
  {
   "cell_type": "code",
   "execution_count": 30,
   "metadata": {},
   "outputs": [
    {
     "name": "stdout",
     "output_type": "stream",
     "text": [
      "p-value annotation legend:\n",
      "      ns: 5.00e-02 < p <= 1.00e+00\n",
      "       *: 1.00e-02 < p <= 5.00e-02\n",
      "      **: 1.00e-03 < p <= 1.00e-02\n",
      "     ***: 1.00e-04 < p <= 1.00e-03\n",
      "    ****: p <= 1.00e-04\n",
      "\n",
      "Region 1_Autoinhibitory vs. Region 1_Two-Domain: Mann-Whitney-Wilcoxon test two-sided, P_val:2.275e-10 U_stat=1.330e+03\n",
      "Autoinhibitory Protein Structure_Autoinhibitory vs. Autoinhibitory Protein Structure_Two-Domain: Mann-Whitney-Wilcoxon test two-sided, P_val:9.538e-17 U_stat=7.120e+02\n",
      "Region 2_Autoinhibitory vs. Region 2_Two-Domain: Mann-Whitney-Wilcoxon test two-sided, P_val:1.008e-07 U_stat=1.649e+03\n"
     ]
    },
    {
     "data": {
      "text/plain": [
       "(<Axes: title={'center': 'Region pLDDTs by Region'}, xlabel='Section', ylabel='Mean pLDDT'>,\n",
       " [<statannotations.Annotation.Annotation at 0x7f3b53ba0850>,\n",
       "  <statannotations.Annotation.Annotation at 0x7f3b53c04550>,\n",
       "  <statannotations.Annotation.Annotation at 0x7f3b53d3c990>])"
      ]
     },
     "execution_count": 30,
     "metadata": {},
     "output_type": "execute_result"
    },
    {
     "data": {
      "image/png": "[encoded data removed]",
      "text/plain": [
       "<Figure size 800x600 with 1 Axes>"
      ]
     },
     "metadata": {},
     "output_type": "display_data"
    }
   ],
   "source": [
    "fig, ax = plt.subplots(figsize=(8, 6))\n",
    "sns.boxplot(data=af, x='section', y='mean_plddt', ax = ax, hue='type', palette='Set2')\n",
    "ax.set_ylabel('Mean pLDDT')\n",
    "ax.set_xlabel('Section')\n",
    "ax.set_title('Region pLDDTs by Region')\n",
    "\n",
    "plt.savefig('./project_pipeline/data/figures/af_auto_multi_plddt1.png')\n",
    "\n",
    "# Annotate statistical significance\n",
    "pairs = [[('Autoinhibitory Protein Structure', 'Autoinhibitory'), ('Autoinhibitory Protein Structure', 'Two-Domain')],\n",
    "         [('Region 1', 'Autoinhibitory'), ('Region 1', 'Two-Domain')],\n",
    "         [('Region 2', 'Autoinhibitory'), ('Region 2', 'Two-Domain')]]\n",
    "subcat_order = ['Autoinhibitory Protein Structure', 'Region 1', 'Region 2']\n",
    "annotator = Annotator(ax, pairs, data=af, x='section', y='mean_plddt', order=subcat_order, hue='type')\n",
    "annotator.configure(test='Mann-Whitney', text_format='star', loc='inside')\n",
    "annotator.apply_and_annotate()"
   ]
  },
  {
   "cell_type": "markdown",
   "metadata": {},
   "source": [
    "Let's do a boxplot for the reverse"
   ]
  },
  {
   "cell_type": "code",
   "execution_count": 31,
   "metadata": {},
   "outputs": [
    {
     "name": "stdout",
     "output_type": "stream",
     "text": [
      "p-value annotation legend:\n",
      "      ns: 5.00e-02 < p <= 1.00e+00\n",
      "       *: 1.00e-02 < p <= 5.00e-02\n",
      "      **: 1.00e-03 < p <= 1.00e-02\n",
      "     ***: 1.00e-04 < p <= 1.00e-03\n",
      "    ****: p <= 1.00e-04\n",
      "\n",
      "Two-Domain_Region 1 vs. Two-Domain_Region 2: Mann-Whitney-Wilcoxon test two-sided, P_val:2.418e-01 U_stat=1.267e+03\n",
      "Autoinhibitory_Autoinhibitory Protein Structure vs. Autoinhibitory_Region 1: Mann-Whitney-Wilcoxon test two-sided, P_val:2.182e-03 U_stat=5.854e+03\n",
      "Autoinhibitory_Region 1 vs. Autoinhibitory_Region 2: Mann-Whitney-Wilcoxon test two-sided, P_val:9.617e-07 U_stat=4.830e+03\n",
      "Two-Domain_Autoinhibitory Protein Structure vs. Two-Domain_Region 1: Mann-Whitney-Wilcoxon test two-sided, P_val:2.103e-03 U_stat=9.570e+02\n",
      "Two-Domain_Autoinhibitory Protein Structure vs. Two-Domain_Region 2: Mann-Whitney-Wilcoxon test two-sided, P_val:5.524e-06 U_stat=7.180e+02\n",
      "Autoinhibitory_Autoinhibitory Protein Structure vs. Autoinhibitory_Region 2: Mann-Whitney-Wilcoxon test two-sided, P_val:3.129e-20 U_stat=2.422e+03\n"
     ]
    },
    {
     "data": {
      "text/plain": [
       "(<Axes: title={'center': 'Region pLDDTs by Protein Type'}, xlabel='Section', ylabel='Mean pLDDT'>,\n",
       " [<statannotations.Annotation.Annotation at 0x7f3b53e67f10>,\n",
       "  <statannotations.Annotation.Annotation at 0x7f3b539a4550>,\n",
       "  <statannotations.Annotation.Annotation at 0x7f3b53aaa190>,\n",
       "  <statannotations.Annotation.Annotation at 0x7f3b53c5cf50>,\n",
       "  <statannotations.Annotation.Annotation at 0x7f3b53e679d0>,\n",
       "  <statannotations.Annotation.Annotation at 0x7f3b53aa7350>])"
      ]
     },
     "execution_count": 31,
     "metadata": {},
     "output_type": "execute_result"
    },
    {
     "data": {
      "image/png": "[encoded data removed]",
      "text/plain": [
       "<Figure size 1200x800 with 1 Axes>"
      ]
     },
     "metadata": {},
     "output_type": "display_data"
    }
   ],
   "source": [
    "fig, ax = plt.subplots(figsize=(12, 8))\n",
    "sns.boxplot(data=af, x='type', y='mean_plddt', ax = ax, hue='section', palette='Set2')\n",
    "ax.set_ylabel('Mean pLDDT')\n",
    "ax.set_xlabel('Section')\n",
    "ax.set_title('Region pLDDTs by Protein Type')\n",
    "ax.legend(title='Section')\n",
    "\n",
    "plt.savefig('./project_pipeline/data/figures/af_auto_multi_plddt2.png')\n",
    "\n",
    "# Annotate statistical significance\n",
    "pairs = [[('Autoinhibitory', 'Autoinhibitory Protein Structure'), ('Autoinhibitory', 'Region 1')],\n",
    "         [('Autoinhibitory', 'Autoinhibitory Protein Structure'), ('Autoinhibitory', 'Region 2')],\n",
    "         [('Autoinhibitory', 'Region 1'), ('Autoinhibitory', 'Region 2')],\n",
    "         [('Two-Domain', 'Autoinhibitory Protein Structure'), ('Two-Domain', 'Region 1')],\n",
    "         [('Two-Domain', 'Autoinhibitory Protein Structure'), ('Two-Domain', 'Region 2')],\n",
    "         [('Two-Domain', 'Region 1'), ('Two-Domain', 'Region 2')]]\n",
    "subcat_order = ['Autoinhibitory', 'Two-Domain']\n",
    "annotator = Annotator(ax, pairs, data=af, x='type', y='mean_plddt', order=subcat_order, hue='section')\n",
    "annotator.configure(test='Mann-Whitney', text_format='star', loc='inside')\n",
    "annotator.apply_and_annotate()"
   ]
  },
  {
   "cell_type": "markdown",
   "metadata": {},
   "source": [
    "There are 123 proteins in the autoinhibited AlphaFold2 and 54 in the Two-Domain Alphafold2."
   ]
  },
  {
   "cell_type": "markdown",
   "metadata": {},
   "source": [
    "Now we'll look at only those proteins with two states"
   ]
  },
  {
   "cell_type": "code",
   "execution_count": 32,
   "metadata": {},
   "outputs": [
    {
     "data": {
      "text/html": [
       "<div>\n",
       "<style scoped>\n",
       "    .dataframe tbody tr th:only-of-type {\n",
       "        vertical-align: middle;\n",
       "    }\n",
       "\n",
       "    .dataframe tbody tr th {\n",
       "        vertical-align: top;\n",
       "    }\n",
       "\n",
       "    .dataframe thead th {\n",
       "        text-align: right;\n",
       "    }\n",
       "</style>\n",
       "<table border=\"1\" class=\"dataframe\">\n",
       "  <thead>\n",
       "    <tr style=\"text-align: right;\">\n",
       "      <th></th>\n",
       "      <th>uniprot</th>\n",
       "      <th>region_1</th>\n",
       "      <th>region_2</th>\n",
       "      <th>filename</th>\n",
       "      <th>section</th>\n",
       "      <th>mean_plddt</th>\n",
       "    </tr>\n",
       "  </thead>\n",
       "  <tbody>\n",
       "    <tr>\n",
       "      <th>0</th>\n",
       "      <td>O08967</td>\n",
       "      <td>251-265,383-395</td>\n",
       "      <td>77-206</td>\n",
       "      <td>F-O08967-F1-model_v3.cif</td>\n",
       "      <td>Autoinhibitory Protein Structure</td>\n",
       "      <td>85.817</td>\n",
       "    </tr>\n",
       "    <tr>\n",
       "      <th>1</th>\n",
       "      <td>O60741</td>\n",
       "      <td>401-479</td>\n",
       "      <td>480-604</td>\n",
       "      <td>F-O60741-F1-model_v3.cif</td>\n",
       "      <td>Autoinhibitory Protein Structure</td>\n",
       "      <td>70.564</td>\n",
       "    </tr>\n",
       "    <tr>\n",
       "      <th>2</th>\n",
       "      <td>P07038</td>\n",
       "      <td>892-917</td>\n",
       "      <td>562-625</td>\n",
       "      <td>F-P07038-F1-model_v3.cif</td>\n",
       "      <td>Autoinhibitory Protein Structure</td>\n",
       "      <td>77.453</td>\n",
       "    </tr>\n",
       "    <tr>\n",
       "      <th>3</th>\n",
       "      <td>P12931</td>\n",
       "      <td>249-269,151-248</td>\n",
       "      <td>84-145,524-536</td>\n",
       "      <td>F-P12931-F1-model_v3.cif</td>\n",
       "      <td>Autoinhibitory Protein Structure</td>\n",
       "      <td>84.513</td>\n",
       "    </tr>\n",
       "    <tr>\n",
       "      <th>4</th>\n",
       "      <td>P21333</td>\n",
       "      <td>2142-2235</td>\n",
       "      <td>2236-2325</td>\n",
       "      <td>F-P21333-F1-model_v3.cif</td>\n",
       "      <td>Autoinhibitory Protein Structure</td>\n",
       "      <td>77.384</td>\n",
       "    </tr>\n",
       "  </tbody>\n",
       "</table>\n",
       "</div>"
      ],
      "text/plain": [
       "  uniprot         region_1        region_2                  filename  \\\n",
       "0  O08967  251-265,383-395          77-206  F-O08967-F1-model_v3.cif   \n",
       "1  O60741          401-479         480-604  F-O60741-F1-model_v3.cif   \n",
       "2  P07038          892-917         562-625  F-P07038-F1-model_v3.cif   \n",
       "3  P12931  249-269,151-248  84-145,524-536  F-P12931-F1-model_v3.cif   \n",
       "4  P21333        2142-2235       2236-2325  F-P21333-F1-model_v3.cif   \n",
       "\n",
       "                            section  mean_plddt  \n",
       "0  Autoinhibitory Protein Structure      85.817  \n",
       "1  Autoinhibitory Protein Structure      70.564  \n",
       "2  Autoinhibitory Protein Structure      77.453  \n",
       "3  Autoinhibitory Protein Structure      84.513  \n",
       "4  Autoinhibitory Protein Structure      77.384  "
      ]
     },
     "execution_count": 32,
     "metadata": {},
     "output_type": "execute_result"
    }
   ],
   "source": [
    "# First subset dataframe to only include proteins with two states\n",
    "\n",
    "# Get list of two-state proteins\n",
    "two = pd.read_csv('./project_pipeline/data/two_states.tsv', sep='\\t').astype('object')\n",
    "twolist = two['uniprot'].unique().tolist()\n",
    "\n",
    "# Subset dataframe\n",
    "af_two = afAuto[afAuto['uniprot'].isin(twolist)].reset_index(drop=True)\n",
    "\n",
    "# Now rename and melt the dataframes\n",
    "rename = rename_auto_columns(af_two)\n",
    "af_twos = pivot_af_df(rename)\n",
    "af_twos.head()"
   ]
  },
  {
   "cell_type": "markdown",
   "metadata": {},
   "source": [
    "Now we'll plot those proteins with two states. We'll compare against our colabfold files."
   ]
  },
  {
   "cell_type": "code",
   "execution_count": 33,
   "metadata": {},
   "outputs": [
    {
     "data": {
      "text/html": [
       "<div>\n",
       "<style scoped>\n",
       "    .dataframe tbody tr th:only-of-type {\n",
       "        vertical-align: middle;\n",
       "    }\n",
       "\n",
       "    .dataframe tbody tr th {\n",
       "        vertical-align: top;\n",
       "    }\n",
       "\n",
       "    .dataframe thead th {\n",
       "        text-align: right;\n",
       "    }\n",
       "</style>\n",
       "<table border=\"1\" class=\"dataframe\">\n",
       "  <thead>\n",
       "    <tr style=\"text-align: right;\">\n",
       "      <th></th>\n",
       "      <th>uniprot</th>\n",
       "      <th>region_1</th>\n",
       "      <th>region_2</th>\n",
       "      <th>filename</th>\n",
       "      <th>section</th>\n",
       "      <th>mean_plddt</th>\n",
       "      <th>source</th>\n",
       "      <th>cluster</th>\n",
       "      <th>type</th>\n",
       "    </tr>\n",
       "  </thead>\n",
       "  <tbody>\n",
       "    <tr>\n",
       "      <th>0</th>\n",
       "      <td>O08967</td>\n",
       "      <td>251-265,383-395</td>\n",
       "      <td>77-206</td>\n",
       "      <td>F-O08967-F1-model_v3.cif</td>\n",
       "      <td>Autoinhibitory Protein Structure</td>\n",
       "      <td>85.817</td>\n",
       "      <td>DeepMind</td>\n",
       "      <td>NaN</td>\n",
       "      <td>NaN</td>\n",
       "    </tr>\n",
       "    <tr>\n",
       "      <th>1</th>\n",
       "      <td>O60741</td>\n",
       "      <td>401-479</td>\n",
       "      <td>480-604</td>\n",
       "      <td>F-O60741-F1-model_v3.cif</td>\n",
       "      <td>Autoinhibitory Protein Structure</td>\n",
       "      <td>70.564</td>\n",
       "      <td>DeepMind</td>\n",
       "      <td>NaN</td>\n",
       "      <td>NaN</td>\n",
       "    </tr>\n",
       "    <tr>\n",
       "      <th>2</th>\n",
       "      <td>P07038</td>\n",
       "      <td>892-917</td>\n",
       "      <td>562-625</td>\n",
       "      <td>F-P07038-F1-model_v3.cif</td>\n",
       "      <td>Autoinhibitory Protein Structure</td>\n",
       "      <td>77.453</td>\n",
       "      <td>DeepMind</td>\n",
       "      <td>NaN</td>\n",
       "      <td>NaN</td>\n",
       "    </tr>\n",
       "    <tr>\n",
       "      <th>3</th>\n",
       "      <td>P12931</td>\n",
       "      <td>249-269,151-248</td>\n",
       "      <td>84-145,524-536</td>\n",
       "      <td>F-P12931-F1-model_v3.cif</td>\n",
       "      <td>Autoinhibitory Protein Structure</td>\n",
       "      <td>84.513</td>\n",
       "      <td>DeepMind</td>\n",
       "      <td>NaN</td>\n",
       "      <td>NaN</td>\n",
       "    </tr>\n",
       "    <tr>\n",
       "      <th>4</th>\n",
       "      <td>P21333</td>\n",
       "      <td>2142-2235</td>\n",
       "      <td>2236-2325</td>\n",
       "      <td>F-P21333-F1-model_v3.cif</td>\n",
       "      <td>Autoinhibitory Protein Structure</td>\n",
       "      <td>77.384</td>\n",
       "      <td>DeepMind</td>\n",
       "      <td>NaN</td>\n",
       "      <td>NaN</td>\n",
       "    </tr>\n",
       "  </tbody>\n",
       "</table>\n",
       "</div>"
      ],
      "text/plain": [
       "  uniprot         region_1        region_2                  filename  \\\n",
       "0  O08967  251-265,383-395          77-206  F-O08967-F1-model_v3.cif   \n",
       "1  O60741          401-479         480-604  F-O60741-F1-model_v3.cif   \n",
       "2  P07038          892-917         562-625  F-P07038-F1-model_v3.cif   \n",
       "3  P12931  249-269,151-248  84-145,524-536  F-P12931-F1-model_v3.cif   \n",
       "4  P21333        2142-2235       2236-2325  F-P21333-F1-model_v3.cif   \n",
       "\n",
       "                            section  mean_plddt    source cluster type  \n",
       "0  Autoinhibitory Protein Structure      85.817  DeepMind     NaN  NaN  \n",
       "1  Autoinhibitory Protein Structure      70.564  DeepMind     NaN  NaN  \n",
       "2  Autoinhibitory Protein Structure      77.453  DeepMind     NaN  NaN  \n",
       "3  Autoinhibitory Protein Structure      84.513  DeepMind     NaN  NaN  \n",
       "4  Autoinhibitory Protein Structure      77.384  DeepMind     NaN  NaN  "
      ]
     },
     "execution_count": 33,
     "metadata": {},
     "output_type": "execute_result"
    }
   ],
   "source": [
    "# Add sources for the two dataframes\n",
    "af_twos['source'] = 'DeepMind'\n",
    "cfAuto_p['source'] = 'ColabFold'\n",
    "\n",
    "two_states = pd.concat([af_twos, cfAuto_p])\n",
    "two_states.head()"
   ]
  },
  {
   "cell_type": "code",
   "execution_count": 34,
   "metadata": {},
   "outputs": [
    {
     "name": "stdout",
     "output_type": "stream",
     "text": [
      "p-value annotation legend:\n",
      "      ns: 5.00e-02 < p <= 1.00e+00\n",
      "       *: 1.00e-02 < p <= 5.00e-02\n",
      "      **: 1.00e-03 < p <= 1.00e-02\n",
      "     ***: 1.00e-04 < p <= 1.00e-03\n",
      "    ****: p <= 1.00e-04\n",
      "\n",
      "Region 1_DeepMind vs. Region 1_ColabFold: Mann-Whitney-Wilcoxon test two-sided, P_val:2.060e-05 U_stat=2.380e+03\n",
      "Autoinhibitory Protein Structure_DeepMind vs. Autoinhibitory Protein Structure_ColabFold: Mann-Whitney-Wilcoxon test two-sided, P_val:3.087e-04 U_stat=2.242e+03\n",
      "Region 2_DeepMind vs. Region 2_ColabFold: Mann-Whitney-Wilcoxon test two-sided, P_val:2.050e-06 U_stat=2.484e+03\n"
     ]
    },
    {
     "data": {
      "image/png": "[encoded data removed]",
      "text/plain": [
       "<Figure size 800x600 with 1 Axes>"
      ]
     },
     "metadata": {},
     "output_type": "display_data"
    }
   ],
   "source": [
    "fig, ax = plt.subplots(figsize=(8, 6))\n",
    "sns.boxplot(data=two_states, x='section', y='mean_plddt', ax=ax, hue='source', palette='Set2')\n",
    "ax.set_title('Two-state Protein pLDDTs by Section')\n",
    "ax.set_xlabel('Section')\n",
    "ax.set_ylabel('Mean pLDDT')\n",
    "\n",
    "# Annotate statistical significance\n",
    "pairs = [[('Autoinhibitory Protein Structure', 'DeepMind'), ('Autoinhibitory Protein Structure', 'ColabFold')],\n",
    "         [('Region 1', 'DeepMind'), ('Region 1', 'ColabFold')],\n",
    "         [('Region 2', 'DeepMind'), ('Region 2', 'ColabFold')]]\n",
    "\n",
    "subcat_order = ['Autoinhibitory Protein Structure', 'Region 1', 'Region 2']\n",
    "annotator = Annotator(ax, pairs, data=two_states, x='section', y='mean_plddt', order=subcat_order, hue='source')\n",
    "annotator.configure(test='Mann-Whitney', text_format='star', loc='inside')\n",
    "annotator.apply_and_annotate()\n",
    "\n",
    "plt.savefig('./project_pipeline/data/figures/af_two_states_plddt1.png')"
   ]
  },
  {
   "cell_type": "markdown",
   "metadata": {},
   "source": [
    "Now we do the reverse"
   ]
  },
  {
   "cell_type": "code",
   "execution_count": 35,
   "metadata": {},
   "outputs": [
    {
     "name": "stdout",
     "output_type": "stream",
     "text": [
      "p-value annotation legend:\n",
      "      ns: 5.00e-02 < p <= 1.00e+00\n",
      "       *: 1.00e-02 < p <= 5.00e-02\n",
      "      **: 1.00e-03 < p <= 1.00e-02\n",
      "     ***: 1.00e-04 < p <= 1.00e-03\n",
      "    ****: p <= 1.00e-04\n",
      "\n",
      "ColabFold_Region 1 vs. ColabFold_Region 2: Mann-Whitney-Wilcoxon test two-sided, P_val:9.247e-04 U_stat=1.060e+04\n",
      "DeepMind_Autoinhibitory Protein Structure vs. DeepMind_Region 1: Mann-Whitney-Wilcoxon test two-sided, P_val:6.925e-01 U_stat=1.490e+02\n",
      "DeepMind_Region 1 vs. DeepMind_Region 2: Mann-Whitney-Wilcoxon test two-sided, P_val:2.515e-03 U_stat=6.600e+01\n",
      "ColabFold_Autoinhibitory Protein Structure vs. ColabFold_Region 1: Mann-Whitney-Wilcoxon test two-sided, P_val:1.876e-01 U_stat=1.458e+04\n",
      "ColabFold_Autoinhibitory Protein Structure vs. ColabFold_Region 2: Mann-Whitney-Wilcoxon test two-sided, P_val:2.226e-02 U_stat=1.148e+04\n",
      "DeepMind_Autoinhibitory Protein Structure vs. DeepMind_Region 2: Mann-Whitney-Wilcoxon test two-sided, P_val:1.376e-04 U_stat=4.100e+01\n"
     ]
    },
    {
     "data": {
      "image/png": "[encoded data removed]",
      "text/plain": [
       "<Figure size 800x600 with 1 Axes>"
      ]
     },
     "metadata": {},
     "output_type": "display_data"
    }
   ],
   "source": [
    "# Reverse section and source in the previous plot  \n",
    "fig, ax = plt.subplots(figsize=(8, 6))\n",
    "sns.boxplot(data=two_states, x='source', y='mean_plddt', ax=ax, hue='section', palette='Set2')\n",
    "ax.set_title('Two-state Protein pLDDTs by Source')\n",
    "ax.set_xlabel('Source')\n",
    "ax.set_ylabel('Mean pLDDT')\n",
    "ax.legend(title='Section')\n",
    "\n",
    "# Annotate statistical significance\n",
    "pairs = [[('DeepMind', 'Autoinhibitory Protein Structure'), ('DeepMind', 'Region 1')],\n",
    "         [('DeepMind', 'Autoinhibitory Protein Structure'), ('DeepMind', 'Region 2')],\n",
    "         [('DeepMind', 'Region 1'), ('DeepMind', 'Region 2')],\n",
    "         [('ColabFold', 'Autoinhibitory Protein Structure'), ('ColabFold', 'Region 1')],\n",
    "         [('ColabFold', 'Autoinhibitory Protein Structure'), ('ColabFold', 'Region 2')],\n",
    "         [('ColabFold', 'Region 1'), ('ColabFold', 'Region 2')]]\n",
    "\n",
    "subcat_order = ['DeepMind', 'ColabFold']\n",
    "annotator = Annotator(ax, pairs, data=two_states, x='source', y='mean_plddt', order=subcat_order, hue='section')\n",
    "annotator.configure(test='Mann-Whitney', text_format='star', loc='inside')\n",
    "annotator.apply_and_annotate()\n",
    "\n",
    "plt.savefig('./project_pipeline/data/figures/af_two_states_plddt2.png')"
   ]
  }
 ],
 "metadata": {
  "kernelspec": {
   "display_name": "rmsd_snek",
   "language": "python",
   "name": "python3"
  },
  "language_info": {
   "codemirror_mode": {
    "name": "ipython",
    "version": 3
   },
   "file_extension": ".py",
   "mimetype": "text/x-python",
   "name": "python",
   "nbconvert_exporter": "python",
   "pygments_lexer": "ipython3",
   "version": "3.11.8"
  }
 },
 "nbformat": 4,
 "nbformat_minor": 2
}
